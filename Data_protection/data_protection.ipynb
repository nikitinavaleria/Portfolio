{
 "cells": [
  {
   "cell_type": "markdown",
   "metadata": {},
   "source": [
    "# Защита персональных данных клиентов"
   ]
  },
  {
   "cell_type": "markdown",
   "metadata": {},
   "source": [
    "Необходимо защитить данные клиентов страховой компании «Хоть потоп». Необходимо разработать такой метод преобразования данных, чтобы по ним было сложно восстановить персональную информацию.\n",
    "\n",
    "Нужно защитить данные, чтобы при преобразовании качество моделей машинного обучения не ухудшилось. Подбирать наилучшую модель не требуется.\n",
    "\n",
    "Признаки: пол, возраст и зарплата застрахованного, количество членов его семьи.\n",
    "\n",
    "Целевой признак: количество страховых выплат клиенту за последние 5 лет."
   ]
  },
  {
   "cell_type": "markdown",
   "metadata": {},
   "source": [
    "## Загрузка данных"
   ]
  },
  {
   "cell_type": "code",
   "execution_count": 1,
   "metadata": {},
   "outputs": [],
   "source": [
    "import pandas as pd\n",
    "import numpy as np\n",
    "from pyspark.ml import Pipeline\n",
    "from sklearn.model_selection import train_test_split\n",
    "from sklearn.preprocessing import StandardScaler\n",
    "from sklearn.linear_model import LinearRegression\n",
    "from sklearn.metrics import r2_score"
   ]
  },
  {
   "cell_type": "code",
   "execution_count": 2,
   "metadata": {
    "scrolled": true
   },
   "outputs": [
    {
     "name": "stdout",
     "output_type": "stream",
     "text": [
      "<class 'pandas.core.frame.DataFrame'>\n",
      "RangeIndex: 5000 entries, 0 to 4999\n",
      "Data columns (total 5 columns):\n",
      " #   Column             Non-Null Count  Dtype  \n",
      "---  ------             --------------  -----  \n",
      " 0   Пол                5000 non-null   int64  \n",
      " 1   Возраст            5000 non-null   float64\n",
      " 2   Зарплата           5000 non-null   float64\n",
      " 3   Члены семьи        5000 non-null   int64  \n",
      " 4   Страховые выплаты  5000 non-null   int64  \n",
      "dtypes: float64(2), int64(3)\n",
      "memory usage: 195.4 KB\n"
     ]
    }
   ],
   "source": [
    "pth1 = '/datasets/insurance.csv'\n",
    "data = pd.read_csv(pth1)\n",
    "data.info()"
   ]
  },
  {
   "cell_type": "raw",
   "metadata": {},
   "source": [
    "data['Возраст'].unique()"
   ]
  },
  {
   "cell_type": "raw",
   "metadata": {},
   "source": [
    "data['Зарплата'].unique()"
   ]
  },
  {
   "cell_type": "code",
   "execution_count": 3,
   "metadata": {},
   "outputs": [],
   "source": [
    "data['Возраст'] = data['Возраст'].astype('int')\n",
    "data['Зарплата'] = data['Зарплата'].astype('int')"
   ]
  },
  {
   "cell_type": "markdown",
   "metadata": {},
   "source": [
    "## Умножение матриц"
   ]
  },
  {
   "cell_type": "markdown",
   "metadata": {},
   "source": [
    "**Вопрос:** Признаки умножают на обратимую матрицу. Изменится ли качество линейной регрессии? \n",
    "\n",
    "**Ответ:** Не изменится\n",
    "\n",
    "**Обоснование:** Посмотрим, как связаны параметры линейной регрессии в исходной задаче и в преобразованной."
   ]
  },
  {
   "cell_type": "markdown",
   "metadata": {},
   "source": [
    "Обозначения:\n",
    "\n",
    "- $X$ — матрица признаков (нулевой столбец состоит из единиц)\n",
    "\n",
    "- $y$ — вектор целевого признака\n",
    "\n",
    "- $P$ — матрица, на которую умножаются признаки\n",
    "\n",
    "- $w$ — вектор весов линейной регрессии (нулевой элемент равен сдвигу)"
   ]
  },
  {
   "cell_type": "markdown",
   "metadata": {},
   "source": [
    "Предсказания:\n",
    "\n",
    "$$\n",
    "a = Xw\n",
    "$$\n",
    "\n",
    "Задача обучения:\n",
    "\n",
    "$$\n",
    "w = \\arg\\min_w MSE(Xw, y)\n",
    "$$\n",
    "\n",
    "Формула обучения:\n",
    "\n",
    "$$\n",
    "w = (X^T X)^{-1} X^T y\n",
    "$$"
   ]
  },
  {
   "cell_type": "markdown",
   "metadata": {},
   "source": [
    "Пусть $P$ - обратимая матрица\n",
    "\n",
    "Тогда признаки $Z = XP$\n",
    "\n",
    "Тогда подставим новые признаки в формклы предсказания :\n",
    "\n",
    "$$\n",
    "w1 = (Z^T Z)^{-1} Z^T y\n",
    "$$\n",
    "\n",
    "$$\n",
    "a1 = Zw1 = Z (Z^T Z)^{-1} Z^T y\n",
    "$$\n",
    "\n",
    "Учтём, что $(Z^T Z)^{-1} = Z^{-1} (Z^T)^{-1}$\n",
    "\n",
    "Тогда: \n",
    "\n",
    "$$\n",
    "a1 = Z Z^{-1} (Z^T)^{-1} Z^T y\n",
    "$$\n",
    "\n",
    "Заменим $Z = XP$\n",
    "\n",
    "Тогда: \n",
    "\n",
    "$$\n",
    "a1 = XP (XP)^{-1} ((XP)^T)^{-1} (XP)^T y\n",
    "$$\n",
    "\n",
    "\n",
    "\n"
   ]
  },
  {
   "cell_type": "markdown",
   "metadata": {},
   "source": [
    "Учтём, что $(XP)^{-1} ((XP)^T)^{-1} = ((XP)^T XP)^{-1}$\n",
    "\n",
    "\n",
    "\n",
    "\n",
    "Тогда: \n",
    "\n",
    "$$\n",
    "a1 = XP ((XP)^T XP)^{-1} (XP)^T y = XP (P^T (X^T X) P)^{-1} (XP)^T y = XP ((X^T X) P)^{-1} (P^T)^{-1} (XP)^T y \n",
    "$$\n",
    "\n",
    "$$\n",
    "a1 =  XP P^{-1} (X^T X)^{-1} (P^T)^{-1} (XP)^T y = X (X^T X)^{-1} (P^T)^{-1} (XP)^T y\n",
    "$$"
   ]
  },
  {
   "cell_type": "markdown",
   "metadata": {},
   "source": [
    "\n",
    "\n",
    "$$\n",
    "a1 = X (X^T X)^{-1} (P^T)^{-1} P^T X^T y  = X (X^T X)^{-1} X^T y\n",
    "$$\n",
    "\n",
    "Вспомним, что $w = (X^T X)^{-1} X^T y$\n",
    "\n",
    "Тогда \n",
    "\n",
    "$$\n",
    "a1 = Xw = a\n",
    "$$\n",
    "\n",
    "**Таким образом предсказание \n",
    "$$\n",
    "a = a1\n",
    "$$**"
   ]
  },
  {
   "cell_type": "markdown",
   "metadata": {},
   "source": [
    "## Алгоритм преобразования"
   ]
  },
  {
   "cell_type": "markdown",
   "metadata": {},
   "source": [
    "**Необходимо:**\n",
    "\n",
    "**1) составить обратимую матрицу $P$**\n",
    "\n",
    "Обратная матрица существует только для квадратных матриц, где детерминант не равен 0. Чтобы преобразованная матрица $Z$ имела ту же размерность, что $X$, матрица $P$ должна иметь размерность n на n, где n - количество признаков в $X$\n",
    "\n",
    "**2) получить преобразованную матрицу $Z = XP$**"
   ]
  },
  {
   "cell_type": "code",
   "execution_count": 4,
   "metadata": {},
   "outputs": [],
   "source": [
    "#функция для преобразования матрицы\n",
    "def z_features(features):\n",
    "    n = features.shape[1]\n",
    "    np.random.seed(12345)\n",
    "    p_matrix = np.random.randint(1, 10, (n,n))\n",
    "    det = np.linalg.det(p_matrix)\n",
    "    while det == 0:\n",
    "        np.random.seed(12345)\n",
    "        p_matrix = np.random.randint(1, 10, (n,n))\n",
    "        det = np.linalg.det(p_matrix)\n",
    "    features_z = features @ p_matrix\n",
    "    return features_z, p_matrix\n"
   ]
  },
  {
   "cell_type": "markdown",
   "metadata": {},
   "source": [
    "## Проверка алгоритма"
   ]
  },
  {
   "cell_type": "code",
   "execution_count": 5,
   "metadata": {},
   "outputs": [],
   "source": [
    "features = data.drop('Страховые выплаты',axis=1)\n",
    "target = data['Страховые выплаты']\n",
    "\n"
   ]
  },
  {
   "cell_type": "code",
   "execution_count": 6,
   "metadata": {},
   "outputs": [],
   "source": [
    "#применим функцию\n",
    "features_2, p_matrix = z_features(features)"
   ]
  },
  {
   "cell_type": "markdown",
   "metadata": {},
   "source": [
    "#### Посмотрим данные до преобразования"
   ]
  },
  {
   "cell_type": "code",
   "execution_count": 7,
   "metadata": {},
   "outputs": [
    {
     "data": {
      "text/html": [
       "<div>\n",
       "<style scoped>\n",
       "    .dataframe tbody tr th:only-of-type {\n",
       "        vertical-align: middle;\n",
       "    }\n",
       "\n",
       "    .dataframe tbody tr th {\n",
       "        vertical-align: top;\n",
       "    }\n",
       "\n",
       "    .dataframe thead th {\n",
       "        text-align: right;\n",
       "    }\n",
       "</style>\n",
       "<table border=\"1\" class=\"dataframe\">\n",
       "  <thead>\n",
       "    <tr style=\"text-align: right;\">\n",
       "      <th></th>\n",
       "      <th>Пол</th>\n",
       "      <th>Возраст</th>\n",
       "      <th>Зарплата</th>\n",
       "      <th>Члены семьи</th>\n",
       "    </tr>\n",
       "  </thead>\n",
       "  <tbody>\n",
       "    <tr>\n",
       "      <th>0</th>\n",
       "      <td>1</td>\n",
       "      <td>41</td>\n",
       "      <td>49600</td>\n",
       "      <td>1</td>\n",
       "    </tr>\n",
       "    <tr>\n",
       "      <th>1</th>\n",
       "      <td>0</td>\n",
       "      <td>46</td>\n",
       "      <td>38000</td>\n",
       "      <td>1</td>\n",
       "    </tr>\n",
       "    <tr>\n",
       "      <th>2</th>\n",
       "      <td>0</td>\n",
       "      <td>29</td>\n",
       "      <td>21000</td>\n",
       "      <td>0</td>\n",
       "    </tr>\n",
       "    <tr>\n",
       "      <th>3</th>\n",
       "      <td>0</td>\n",
       "      <td>21</td>\n",
       "      <td>41700</td>\n",
       "      <td>2</td>\n",
       "    </tr>\n",
       "    <tr>\n",
       "      <th>4</th>\n",
       "      <td>1</td>\n",
       "      <td>28</td>\n",
       "      <td>26100</td>\n",
       "      <td>0</td>\n",
       "    </tr>\n",
       "  </tbody>\n",
       "</table>\n",
       "</div>"
      ],
      "text/plain": [
       "   Пол  Возраст  Зарплата  Члены семьи\n",
       "0    1       41     49600            1\n",
       "1    0       46     38000            1\n",
       "2    0       29     21000            0\n",
       "3    0       21     41700            2\n",
       "4    1       28     26100            0"
      ]
     },
     "execution_count": 7,
     "metadata": {},
     "output_type": "execute_result"
    }
   ],
   "source": [
    "features.head(5)"
   ]
  },
  {
   "cell_type": "markdown",
   "metadata": {},
   "source": [
    "#### Посмотрим данные после преобразования и матрицу преобразования"
   ]
  },
  {
   "cell_type": "code",
   "execution_count": 8,
   "metadata": {},
   "outputs": [
    {
     "data": {
      "text/html": [
       "<div>\n",
       "<style scoped>\n",
       "    .dataframe tbody tr th:only-of-type {\n",
       "        vertical-align: middle;\n",
       "    }\n",
       "\n",
       "    .dataframe tbody tr th {\n",
       "        vertical-align: top;\n",
       "    }\n",
       "\n",
       "    .dataframe thead th {\n",
       "        text-align: right;\n",
       "    }\n",
       "</style>\n",
       "<table border=\"1\" class=\"dataframe\">\n",
       "  <thead>\n",
       "    <tr style=\"text-align: right;\">\n",
       "      <th></th>\n",
       "      <th>0</th>\n",
       "      <th>1</th>\n",
       "      <th>2</th>\n",
       "      <th>3</th>\n",
       "    </tr>\n",
       "  </thead>\n",
       "  <tbody>\n",
       "    <tr>\n",
       "      <th>0</th>\n",
       "      <td>99452</td>\n",
       "      <td>396931</td>\n",
       "      <td>347287</td>\n",
       "      <td>49899</td>\n",
       "    </tr>\n",
       "    <tr>\n",
       "      <th>1</th>\n",
       "      <td>76279</td>\n",
       "      <td>304140</td>\n",
       "      <td>266095</td>\n",
       "      <td>38329</td>\n",
       "    </tr>\n",
       "    <tr>\n",
       "      <th>2</th>\n",
       "      <td>42174</td>\n",
       "      <td>168087</td>\n",
       "      <td>147058</td>\n",
       "      <td>21203</td>\n",
       "    </tr>\n",
       "    <tr>\n",
       "      <th>3</th>\n",
       "      <td>83532</td>\n",
       "      <td>333667</td>\n",
       "      <td>291948</td>\n",
       "      <td>41861</td>\n",
       "    </tr>\n",
       "    <tr>\n",
       "      <th>4</th>\n",
       "      <td>52371</td>\n",
       "      <td>208890</td>\n",
       "      <td>182758</td>\n",
       "      <td>26301</td>\n",
       "    </tr>\n",
       "  </tbody>\n",
       "</table>\n",
       "</div>"
      ],
      "text/plain": [
       "       0       1       2      3\n",
       "0  99452  396931  347287  49899\n",
       "1  76279  304140  266095  38329\n",
       "2  42174  168087  147058  21203\n",
       "3  83532  333667  291948  41861\n",
       "4  52371  208890  182758  26301"
      ]
     },
     "execution_count": 8,
     "metadata": {},
     "output_type": "execute_result"
    }
   ],
   "source": [
    "features_2.head(5)"
   ]
  },
  {
   "cell_type": "code",
   "execution_count": 9,
   "metadata": {},
   "outputs": [
    {
     "data": {
      "text/plain": [
       "array([[3, 6, 2, 5],\n",
       "       [6, 3, 2, 7],\n",
       "       [2, 8, 7, 1],\n",
       "       [3, 2, 3, 7]])"
      ]
     },
     "execution_count": 9,
     "metadata": {},
     "output_type": "execute_result"
    }
   ],
   "source": [
    "p_matrix"
   ]
  },
  {
   "cell_type": "markdown",
   "metadata": {},
   "source": [
    "### Проверка алгоритма на оригинальных данных"
   ]
  },
  {
   "cell_type": "code",
   "execution_count": 10,
   "metadata": {},
   "outputs": [],
   "source": [
    "#разделим данные\n",
    "features_train, features_test, target_train, target_test = train_test_split(\n",
    "    features, target, test_size=0.2, random_state=12345)"
   ]
  },
  {
   "cell_type": "code",
   "execution_count": 11,
   "metadata": {},
   "outputs": [
    {
     "name": "stdout",
     "output_type": "stream",
     "text": [
      "R2 = 0.4117683938910953\n"
     ]
    }
   ],
   "source": [
    "model = LinearRegression()\n",
    "\n",
    "model.fit(features_train, target_train)\n",
    "\n",
    "R2_orig = r2_score(target_test, model.predict(features_test))\n",
    "\n",
    "print(\"R2 =\", R2_orig)"
   ]
  },
  {
   "cell_type": "markdown",
   "metadata": {},
   "source": [
    "### Проверка алгоритма на преобразованных данных"
   ]
  },
  {
   "cell_type": "code",
   "execution_count": 12,
   "metadata": {},
   "outputs": [],
   "source": [
    "#разделим данные\n",
    "features_train, features_test, target_train, target_test = train_test_split(\n",
    "    features_2, target, test_size=0.2, random_state=12345)"
   ]
  },
  {
   "cell_type": "code",
   "execution_count": 13,
   "metadata": {},
   "outputs": [
    {
     "name": "stdout",
     "output_type": "stream",
     "text": [
      "R2 = 0.41176839389106634\n"
     ]
    }
   ],
   "source": [
    "model = LinearRegression()\n",
    "\n",
    "model.fit(features_train, target_train)\n",
    "\n",
    "R2_z = r2_score(target_test, model.predict(features_test))\n",
    "\n",
    "print(\"R2 =\", R2_z)"
   ]
  },
  {
   "cell_type": "markdown",
   "metadata": {},
   "source": [
    "## Выводы\n",
    "\n",
    "   В данной работе был подобран метод шифрования данных с помощью умножения на необратимую матрицу. Метод был проверен на модели линейной регрессии. Данная работа показывает, что предсказания не меняются, но такая обработка позволяет сохранить конфиденциальность данных пользователей. \n",
    "\n",
    "   Теоретическая выкладка представлена в разделе 2 данной работы, сама функция для поиска обратимой подходящей матрицы также представлена в работе"
   ]
  }
 ],
 "metadata": {
  "ExecuteTimeLog": [
   {
    "duration": 48,
    "start_time": "2023-05-31T14:35:02.090Z"
   },
   {
    "duration": 436,
    "start_time": "2023-05-31T14:35:16.949Z"
   },
   {
    "duration": 97,
    "start_time": "2023-05-31T14:35:17.387Z"
   },
   {
    "duration": 5,
    "start_time": "2023-05-31T14:42:15.450Z"
   },
   {
    "duration": 12,
    "start_time": "2023-05-31T14:42:26.452Z"
   },
   {
    "duration": 12,
    "start_time": "2023-05-31T14:42:50.694Z"
   },
   {
    "duration": 5,
    "start_time": "2023-05-31T14:43:05.321Z"
   },
   {
    "duration": 31,
    "start_time": "2023-05-31T16:14:46.184Z"
   },
   {
    "duration": 1245,
    "start_time": "2023-05-31T16:30:37.202Z"
   },
   {
    "duration": 43,
    "start_time": "2023-05-31T16:30:38.449Z"
   },
   {
    "duration": 4,
    "start_time": "2023-05-31T16:30:41.203Z"
   },
   {
    "duration": 6,
    "start_time": "2023-05-31T16:30:43.980Z"
   },
   {
    "duration": 5,
    "start_time": "2023-05-31T16:30:45.382Z"
   },
   {
    "duration": 3,
    "start_time": "2023-05-31T16:30:46.382Z"
   },
   {
    "duration": 16,
    "start_time": "2023-05-31T16:30:47.982Z"
   },
   {
    "duration": 9,
    "start_time": "2023-05-31T16:30:51.285Z"
   },
   {
    "duration": 5,
    "start_time": "2023-05-31T16:30:53.423Z"
   },
   {
    "duration": 6,
    "start_time": "2023-05-31T16:30:58.174Z"
   },
   {
    "duration": 110,
    "start_time": "2023-05-31T16:30:58.992Z"
   },
   {
    "duration": 10,
    "start_time": "2023-05-31T16:31:51.927Z"
   },
   {
    "duration": 5,
    "start_time": "2023-05-31T16:32:27.541Z"
   },
   {
    "duration": 10,
    "start_time": "2023-05-31T16:32:28.161Z"
   },
   {
    "duration": 1304,
    "start_time": "2023-05-31T16:39:15.950Z"
   },
   {
    "duration": 39,
    "start_time": "2023-05-31T16:39:17.257Z"
   },
   {
    "duration": 5,
    "start_time": "2023-05-31T16:39:17.298Z"
   },
   {
    "duration": 5,
    "start_time": "2023-05-31T16:39:17.305Z"
   },
   {
    "duration": 10,
    "start_time": "2023-05-31T16:39:17.311Z"
   },
   {
    "duration": 18,
    "start_time": "2023-05-31T16:39:17.323Z"
   },
   {
    "duration": 24,
    "start_time": "2023-05-31T16:39:17.343Z"
   },
   {
    "duration": 12,
    "start_time": "2023-05-31T16:39:17.369Z"
   },
   {
    "duration": 9,
    "start_time": "2023-05-31T16:39:17.383Z"
   },
   {
    "duration": 17,
    "start_time": "2023-05-31T16:39:17.394Z"
   },
   {
    "duration": 12,
    "start_time": "2023-05-31T16:39:17.412Z"
   },
   {
    "duration": 6,
    "start_time": "2023-05-31T16:39:17.426Z"
   },
   {
    "duration": 12,
    "start_time": "2023-05-31T16:39:17.433Z"
   }
  ],
  "kernelspec": {
   "display_name": "Python 3 (ipykernel)",
   "language": "python",
   "name": "python3"
  },
  "language_info": {
   "codemirror_mode": {
    "name": "ipython",
    "version": 3
   },
   "file_extension": ".py",
   "mimetype": "text/x-python",
   "name": "python",
   "nbconvert_exporter": "python",
   "pygments_lexer": "ipython3",
   "version": "3.9.13"
  },
  "toc": {
   "base_numbering": 1,
   "nav_menu": {},
   "number_sections": true,
   "sideBar": true,
   "skip_h1_title": true,
   "title_cell": "Содержание",
   "title_sidebar": "Contents",
   "toc_cell": true,
   "toc_position": {
    "height": "calc(100% - 180px)",
    "left": "10px",
    "top": "150px",
    "width": "165px"
   },
   "toc_section_display": true,
   "toc_window_display": true
  }
 },
 "nbformat": 4,
 "nbformat_minor": 2
}
