{
 "cells": [
  {
   "cell_type": "markdown",
   "id": "649fa228",
   "metadata": {
    "deletable": false,
    "editable": false,
    "id": "c81daeeb"
   },
   "source": [
    "# Исследование надежности заемщиков\n"
   ]
  },
  {
   "cell_type": "code",
   "execution_count": 5,
   "id": "85941380",
   "metadata": {
    "deletable": false,
    "id": "7bcf75c9"
   },
   "outputs": [],
   "source": [
    "import pandas as pd\n",
    "\n",
    "try:\n",
    "    data = pd.read_csv('./borrowers_data.csv')\n",
    "except:\n",
    "    data = pd.read_csv('https://code.s3.yandex.net/datasets/data.csv')"
   ]
  },
  {
   "cell_type": "code",
   "execution_count": 6,
   "id": "ff4b1398",
   "metadata": {
    "deletable": false,
    "id": "2a7cab99",
    "outputId": "1a8f3ef2-d323-4ec2-ddf7-89670b5944c4"
   },
   "outputs": [
    {
     "data": {
      "text/html": [
       "<div>\n",
       "<style scoped>\n",
       "    .dataframe tbody tr th:only-of-type {\n",
       "        vertical-align: middle;\n",
       "    }\n",
       "\n",
       "    .dataframe tbody tr th {\n",
       "        vertical-align: top;\n",
       "    }\n",
       "\n",
       "    .dataframe thead th {\n",
       "        text-align: right;\n",
       "    }\n",
       "</style>\n",
       "<table border=\"1\" class=\"dataframe\">\n",
       "  <thead>\n",
       "    <tr style=\"text-align: right;\">\n",
       "      <th></th>\n",
       "      <th>children</th>\n",
       "      <th>days_employed</th>\n",
       "      <th>dob_years</th>\n",
       "      <th>education</th>\n",
       "      <th>education_id</th>\n",
       "      <th>family_status</th>\n",
       "      <th>family_status_id</th>\n",
       "      <th>gender</th>\n",
       "      <th>income_type</th>\n",
       "      <th>debt</th>\n",
       "      <th>total_income</th>\n",
       "      <th>purpose</th>\n",
       "    </tr>\n",
       "  </thead>\n",
       "  <tbody>\n",
       "    <tr>\n",
       "      <th>0</th>\n",
       "      <td>1</td>\n",
       "      <td>-8437.673028</td>\n",
       "      <td>42</td>\n",
       "      <td>высшее</td>\n",
       "      <td>0</td>\n",
       "      <td>женат / замужем</td>\n",
       "      <td>0</td>\n",
       "      <td>F</td>\n",
       "      <td>сотрудник</td>\n",
       "      <td>0</td>\n",
       "      <td>253875.639453</td>\n",
       "      <td>покупка жилья</td>\n",
       "    </tr>\n",
       "    <tr>\n",
       "      <th>1</th>\n",
       "      <td>1</td>\n",
       "      <td>-4024.803754</td>\n",
       "      <td>36</td>\n",
       "      <td>среднее</td>\n",
       "      <td>1</td>\n",
       "      <td>женат / замужем</td>\n",
       "      <td>0</td>\n",
       "      <td>F</td>\n",
       "      <td>сотрудник</td>\n",
       "      <td>0</td>\n",
       "      <td>112080.014102</td>\n",
       "      <td>приобретение автомобиля</td>\n",
       "    </tr>\n",
       "    <tr>\n",
       "      <th>2</th>\n",
       "      <td>0</td>\n",
       "      <td>-5623.422610</td>\n",
       "      <td>33</td>\n",
       "      <td>Среднее</td>\n",
       "      <td>1</td>\n",
       "      <td>женат / замужем</td>\n",
       "      <td>0</td>\n",
       "      <td>M</td>\n",
       "      <td>сотрудник</td>\n",
       "      <td>0</td>\n",
       "      <td>145885.952297</td>\n",
       "      <td>покупка жилья</td>\n",
       "    </tr>\n",
       "    <tr>\n",
       "      <th>3</th>\n",
       "      <td>3</td>\n",
       "      <td>-4124.747207</td>\n",
       "      <td>32</td>\n",
       "      <td>среднее</td>\n",
       "      <td>1</td>\n",
       "      <td>женат / замужем</td>\n",
       "      <td>0</td>\n",
       "      <td>M</td>\n",
       "      <td>сотрудник</td>\n",
       "      <td>0</td>\n",
       "      <td>267628.550329</td>\n",
       "      <td>дополнительное образование</td>\n",
       "    </tr>\n",
       "    <tr>\n",
       "      <th>4</th>\n",
       "      <td>0</td>\n",
       "      <td>340266.072047</td>\n",
       "      <td>53</td>\n",
       "      <td>среднее</td>\n",
       "      <td>1</td>\n",
       "      <td>гражданский брак</td>\n",
       "      <td>1</td>\n",
       "      <td>F</td>\n",
       "      <td>пенсионер</td>\n",
       "      <td>0</td>\n",
       "      <td>158616.077870</td>\n",
       "      <td>сыграть свадьбу</td>\n",
       "    </tr>\n",
       "    <tr>\n",
       "      <th>5</th>\n",
       "      <td>0</td>\n",
       "      <td>-926.185831</td>\n",
       "      <td>27</td>\n",
       "      <td>высшее</td>\n",
       "      <td>0</td>\n",
       "      <td>гражданский брак</td>\n",
       "      <td>1</td>\n",
       "      <td>M</td>\n",
       "      <td>компаньон</td>\n",
       "      <td>0</td>\n",
       "      <td>255763.565419</td>\n",
       "      <td>покупка жилья</td>\n",
       "    </tr>\n",
       "    <tr>\n",
       "      <th>6</th>\n",
       "      <td>0</td>\n",
       "      <td>-2879.202052</td>\n",
       "      <td>43</td>\n",
       "      <td>высшее</td>\n",
       "      <td>0</td>\n",
       "      <td>женат / замужем</td>\n",
       "      <td>0</td>\n",
       "      <td>F</td>\n",
       "      <td>компаньон</td>\n",
       "      <td>0</td>\n",
       "      <td>240525.971920</td>\n",
       "      <td>операции с жильем</td>\n",
       "    </tr>\n",
       "    <tr>\n",
       "      <th>7</th>\n",
       "      <td>0</td>\n",
       "      <td>-152.779569</td>\n",
       "      <td>50</td>\n",
       "      <td>СРЕДНЕЕ</td>\n",
       "      <td>1</td>\n",
       "      <td>женат / замужем</td>\n",
       "      <td>0</td>\n",
       "      <td>M</td>\n",
       "      <td>сотрудник</td>\n",
       "      <td>0</td>\n",
       "      <td>135823.934197</td>\n",
       "      <td>образование</td>\n",
       "    </tr>\n",
       "    <tr>\n",
       "      <th>8</th>\n",
       "      <td>2</td>\n",
       "      <td>-6929.865299</td>\n",
       "      <td>35</td>\n",
       "      <td>ВЫСШЕЕ</td>\n",
       "      <td>0</td>\n",
       "      <td>гражданский брак</td>\n",
       "      <td>1</td>\n",
       "      <td>F</td>\n",
       "      <td>сотрудник</td>\n",
       "      <td>0</td>\n",
       "      <td>95856.832424</td>\n",
       "      <td>на проведение свадьбы</td>\n",
       "    </tr>\n",
       "    <tr>\n",
       "      <th>9</th>\n",
       "      <td>0</td>\n",
       "      <td>-2188.756445</td>\n",
       "      <td>41</td>\n",
       "      <td>среднее</td>\n",
       "      <td>1</td>\n",
       "      <td>женат / замужем</td>\n",
       "      <td>0</td>\n",
       "      <td>M</td>\n",
       "      <td>сотрудник</td>\n",
       "      <td>0</td>\n",
       "      <td>144425.938277</td>\n",
       "      <td>покупка жилья для семьи</td>\n",
       "    </tr>\n",
       "    <tr>\n",
       "      <th>10</th>\n",
       "      <td>2</td>\n",
       "      <td>-4171.483647</td>\n",
       "      <td>36</td>\n",
       "      <td>высшее</td>\n",
       "      <td>0</td>\n",
       "      <td>женат / замужем</td>\n",
       "      <td>0</td>\n",
       "      <td>M</td>\n",
       "      <td>компаньон</td>\n",
       "      <td>0</td>\n",
       "      <td>113943.491460</td>\n",
       "      <td>покупка недвижимости</td>\n",
       "    </tr>\n",
       "    <tr>\n",
       "      <th>11</th>\n",
       "      <td>0</td>\n",
       "      <td>-792.701887</td>\n",
       "      <td>40</td>\n",
       "      <td>среднее</td>\n",
       "      <td>1</td>\n",
       "      <td>женат / замужем</td>\n",
       "      <td>0</td>\n",
       "      <td>F</td>\n",
       "      <td>сотрудник</td>\n",
       "      <td>0</td>\n",
       "      <td>77069.234271</td>\n",
       "      <td>покупка коммерческой недвижимости</td>\n",
       "    </tr>\n",
       "    <tr>\n",
       "      <th>12</th>\n",
       "      <td>0</td>\n",
       "      <td>NaN</td>\n",
       "      <td>65</td>\n",
       "      <td>среднее</td>\n",
       "      <td>1</td>\n",
       "      <td>гражданский брак</td>\n",
       "      <td>1</td>\n",
       "      <td>M</td>\n",
       "      <td>пенсионер</td>\n",
       "      <td>0</td>\n",
       "      <td>NaN</td>\n",
       "      <td>сыграть свадьбу</td>\n",
       "    </tr>\n",
       "    <tr>\n",
       "      <th>13</th>\n",
       "      <td>0</td>\n",
       "      <td>-1846.641941</td>\n",
       "      <td>54</td>\n",
       "      <td>неоконченное высшее</td>\n",
       "      <td>2</td>\n",
       "      <td>женат / замужем</td>\n",
       "      <td>0</td>\n",
       "      <td>F</td>\n",
       "      <td>сотрудник</td>\n",
       "      <td>0</td>\n",
       "      <td>130458.228857</td>\n",
       "      <td>приобретение автомобиля</td>\n",
       "    </tr>\n",
       "    <tr>\n",
       "      <th>14</th>\n",
       "      <td>0</td>\n",
       "      <td>-1844.956182</td>\n",
       "      <td>56</td>\n",
       "      <td>высшее</td>\n",
       "      <td>0</td>\n",
       "      <td>гражданский брак</td>\n",
       "      <td>1</td>\n",
       "      <td>F</td>\n",
       "      <td>компаньон</td>\n",
       "      <td>1</td>\n",
       "      <td>165127.911772</td>\n",
       "      <td>покупка жилой недвижимости</td>\n",
       "    </tr>\n",
       "    <tr>\n",
       "      <th>15</th>\n",
       "      <td>1</td>\n",
       "      <td>-972.364419</td>\n",
       "      <td>26</td>\n",
       "      <td>среднее</td>\n",
       "      <td>1</td>\n",
       "      <td>женат / замужем</td>\n",
       "      <td>0</td>\n",
       "      <td>F</td>\n",
       "      <td>сотрудник</td>\n",
       "      <td>0</td>\n",
       "      <td>116820.904450</td>\n",
       "      <td>строительство собственной недвижимости</td>\n",
       "    </tr>\n",
       "    <tr>\n",
       "      <th>16</th>\n",
       "      <td>0</td>\n",
       "      <td>-1719.934226</td>\n",
       "      <td>35</td>\n",
       "      <td>среднее</td>\n",
       "      <td>1</td>\n",
       "      <td>женат / замужем</td>\n",
       "      <td>0</td>\n",
       "      <td>F</td>\n",
       "      <td>сотрудник</td>\n",
       "      <td>0</td>\n",
       "      <td>289202.704229</td>\n",
       "      <td>недвижимость</td>\n",
       "    </tr>\n",
       "    <tr>\n",
       "      <th>17</th>\n",
       "      <td>0</td>\n",
       "      <td>-2369.999720</td>\n",
       "      <td>33</td>\n",
       "      <td>высшее</td>\n",
       "      <td>0</td>\n",
       "      <td>гражданский брак</td>\n",
       "      <td>1</td>\n",
       "      <td>M</td>\n",
       "      <td>сотрудник</td>\n",
       "      <td>0</td>\n",
       "      <td>90410.586745</td>\n",
       "      <td>строительство недвижимости</td>\n",
       "    </tr>\n",
       "    <tr>\n",
       "      <th>18</th>\n",
       "      <td>0</td>\n",
       "      <td>400281.136913</td>\n",
       "      <td>53</td>\n",
       "      <td>среднее</td>\n",
       "      <td>1</td>\n",
       "      <td>вдовец / вдова</td>\n",
       "      <td>2</td>\n",
       "      <td>F</td>\n",
       "      <td>пенсионер</td>\n",
       "      <td>0</td>\n",
       "      <td>56823.777243</td>\n",
       "      <td>на покупку подержанного автомобиля</td>\n",
       "    </tr>\n",
       "    <tr>\n",
       "      <th>19</th>\n",
       "      <td>0</td>\n",
       "      <td>-10038.818549</td>\n",
       "      <td>48</td>\n",
       "      <td>СРЕДНЕЕ</td>\n",
       "      <td>1</td>\n",
       "      <td>в разводе</td>\n",
       "      <td>3</td>\n",
       "      <td>F</td>\n",
       "      <td>сотрудник</td>\n",
       "      <td>0</td>\n",
       "      <td>242831.107982</td>\n",
       "      <td>на покупку своего автомобиля</td>\n",
       "    </tr>\n",
       "  </tbody>\n",
       "</table>\n",
       "</div>"
      ],
      "text/plain": [
       "    children  days_employed  dob_years            education  education_id  \\\n",
       "0          1   -8437.673028         42               высшее             0   \n",
       "1          1   -4024.803754         36              среднее             1   \n",
       "2          0   -5623.422610         33              Среднее             1   \n",
       "3          3   -4124.747207         32              среднее             1   \n",
       "4          0  340266.072047         53              среднее             1   \n",
       "5          0    -926.185831         27               высшее             0   \n",
       "6          0   -2879.202052         43               высшее             0   \n",
       "7          0    -152.779569         50              СРЕДНЕЕ             1   \n",
       "8          2   -6929.865299         35               ВЫСШЕЕ             0   \n",
       "9          0   -2188.756445         41              среднее             1   \n",
       "10         2   -4171.483647         36               высшее             0   \n",
       "11         0    -792.701887         40              среднее             1   \n",
       "12         0            NaN         65              среднее             1   \n",
       "13         0   -1846.641941         54  неоконченное высшее             2   \n",
       "14         0   -1844.956182         56               высшее             0   \n",
       "15         1    -972.364419         26              среднее             1   \n",
       "16         0   -1719.934226         35              среднее             1   \n",
       "17         0   -2369.999720         33               высшее             0   \n",
       "18         0  400281.136913         53              среднее             1   \n",
       "19         0  -10038.818549         48              СРЕДНЕЕ             1   \n",
       "\n",
       "       family_status  family_status_id gender income_type  debt  \\\n",
       "0    женат / замужем                 0      F   сотрудник     0   \n",
       "1    женат / замужем                 0      F   сотрудник     0   \n",
       "2    женат / замужем                 0      M   сотрудник     0   \n",
       "3    женат / замужем                 0      M   сотрудник     0   \n",
       "4   гражданский брак                 1      F   пенсионер     0   \n",
       "5   гражданский брак                 1      M   компаньон     0   \n",
       "6    женат / замужем                 0      F   компаньон     0   \n",
       "7    женат / замужем                 0      M   сотрудник     0   \n",
       "8   гражданский брак                 1      F   сотрудник     0   \n",
       "9    женат / замужем                 0      M   сотрудник     0   \n",
       "10   женат / замужем                 0      M   компаньон     0   \n",
       "11   женат / замужем                 0      F   сотрудник     0   \n",
       "12  гражданский брак                 1      M   пенсионер     0   \n",
       "13   женат / замужем                 0      F   сотрудник     0   \n",
       "14  гражданский брак                 1      F   компаньон     1   \n",
       "15   женат / замужем                 0      F   сотрудник     0   \n",
       "16   женат / замужем                 0      F   сотрудник     0   \n",
       "17  гражданский брак                 1      M   сотрудник     0   \n",
       "18    вдовец / вдова                 2      F   пенсионер     0   \n",
       "19         в разводе                 3      F   сотрудник     0   \n",
       "\n",
       "     total_income                                 purpose  \n",
       "0   253875.639453                           покупка жилья  \n",
       "1   112080.014102                 приобретение автомобиля  \n",
       "2   145885.952297                           покупка жилья  \n",
       "3   267628.550329              дополнительное образование  \n",
       "4   158616.077870                         сыграть свадьбу  \n",
       "5   255763.565419                           покупка жилья  \n",
       "6   240525.971920                       операции с жильем  \n",
       "7   135823.934197                             образование  \n",
       "8    95856.832424                   на проведение свадьбы  \n",
       "9   144425.938277                 покупка жилья для семьи  \n",
       "10  113943.491460                    покупка недвижимости  \n",
       "11   77069.234271       покупка коммерческой недвижимости  \n",
       "12            NaN                         сыграть свадьбу  \n",
       "13  130458.228857                 приобретение автомобиля  \n",
       "14  165127.911772              покупка жилой недвижимости  \n",
       "15  116820.904450  строительство собственной недвижимости  \n",
       "16  289202.704229                            недвижимость  \n",
       "17   90410.586745              строительство недвижимости  \n",
       "18   56823.777243      на покупку подержанного автомобиля  \n",
       "19  242831.107982            на покупку своего автомобиля  "
      ]
     },
     "execution_count": 6,
     "metadata": {},
     "output_type": "execute_result"
    }
   ],
   "source": [
    "data.head(20)"
   ]
  },
  {
   "cell_type": "code",
   "execution_count": 7,
   "id": "c76f483f",
   "metadata": {
    "deletable": false,
    "id": "2b757bca",
    "outputId": "15376089-8dad-46c9-b520-c05248d43158"
   },
   "outputs": [
    {
     "name": "stdout",
     "output_type": "stream",
     "text": [
      "<class 'pandas.core.frame.DataFrame'>\n",
      "RangeIndex: 21525 entries, 0 to 21524\n",
      "Data columns (total 12 columns):\n",
      " #   Column            Non-Null Count  Dtype  \n",
      "---  ------            --------------  -----  \n",
      " 0   children          21525 non-null  int64  \n",
      " 1   days_employed     19351 non-null  float64\n",
      " 2   dob_years         21525 non-null  int64  \n",
      " 3   education         21525 non-null  object \n",
      " 4   education_id      21525 non-null  int64  \n",
      " 5   family_status     21525 non-null  object \n",
      " 6   family_status_id  21525 non-null  int64  \n",
      " 7   gender            21525 non-null  object \n",
      " 8   income_type       21525 non-null  object \n",
      " 9   debt              21525 non-null  int64  \n",
      " 10  total_income      19351 non-null  float64\n",
      " 11  purpose           21525 non-null  object \n",
      "dtypes: float64(2), int64(5), object(5)\n",
      "memory usage: 2.0+ MB\n"
     ]
    }
   ],
   "source": [
    "data.info()"
   ]
  },
  {
   "cell_type": "markdown",
   "id": "0a7160a2",
   "metadata": {
    "deletable": false,
    "editable": false,
    "id": "333ec665"
   },
   "source": [
    "## Предобработка данных"
   ]
  },
  {
   "cell_type": "markdown",
   "id": "61364491",
   "metadata": {
    "deletable": false,
    "editable": false,
    "id": "02d92d53"
   },
   "source": [
    "### Удаление пропусков"
   ]
  },
  {
   "cell_type": "code",
   "execution_count": 8,
   "id": "2a30a9ab",
   "metadata": {
    "deletable": false,
    "id": "7f9b2309",
    "outputId": "81f4d817-781c-465c-ed15-91ce4446810d"
   },
   "outputs": [
    {
     "data": {
      "text/plain": [
       "children               0\n",
       "days_employed       2174\n",
       "dob_years              0\n",
       "education              0\n",
       "education_id           0\n",
       "family_status          0\n",
       "family_status_id       0\n",
       "gender                 0\n",
       "income_type            0\n",
       "debt                   0\n",
       "total_income        2174\n",
       "purpose                0\n",
       "dtype: int64"
      ]
     },
     "execution_count": 8,
     "metadata": {},
     "output_type": "execute_result"
    }
   ],
   "source": [
    "data.isna().sum()"
   ]
  },
  {
   "cell_type": "code",
   "execution_count": 9,
   "id": "e29df97b",
   "metadata": {
    "deletable": false,
    "id": "42006a93"
   },
   "outputs": [],
   "source": [
    "for t in data['income_type'].unique():\n",
    "    data.loc[(data['income_type'] == t) & (data['total_income'].isna()), 'total_income'] = \\\n",
    "    data.loc[(data['income_type'] == t), 'total_income'].median()"
   ]
  },
  {
   "cell_type": "markdown",
   "id": "0df33b2e",
   "metadata": {
    "deletable": false,
    "editable": false,
    "id": "89da5ece"
   },
   "source": [
    "### Обработка аномальных значений"
   ]
  },
  {
   "cell_type": "code",
   "execution_count": 10,
   "id": "2f3c30a3",
   "metadata": {
    "deletable": false,
    "id": "f6f055bf"
   },
   "outputs": [],
   "source": [
    "data['days_employed'] = data['days_employed'].abs()"
   ]
  },
  {
   "cell_type": "code",
   "execution_count": 11,
   "id": "77930009",
   "metadata": {
    "deletable": false,
    "id": "85a5faf6",
    "outputId": "801ef80e-522b-4668-f34e-565af7432bcf"
   },
   "outputs": [
    {
     "data": {
      "text/plain": [
       "income_type\n",
       "безработный        366413.652744\n",
       "в декрете            3296.759962\n",
       "госслужащий          2689.368353\n",
       "компаньон            1547.382223\n",
       "пенсионер          365213.306266\n",
       "предприниматель       520.848083\n",
       "сотрудник            1574.202821\n",
       "студент               578.751554\n",
       "Name: days_employed, dtype: float64"
      ]
     },
     "execution_count": 11,
     "metadata": {},
     "output_type": "execute_result"
    }
   ],
   "source": [
    "#Для каждого типа занятости выведем медианное значение трудового стажа `days_employed` в днях\n",
    "data.groupby('income_type')['days_employed'].agg('median')"
   ]
  },
  {
   "cell_type": "markdown",
   "id": "cac1a579",
   "metadata": {
    "deletable": false,
    "editable": false,
    "id": "38d1a030"
   },
   "source": [
    "У двух типов (безработные и пенсионеры) получатся аномально большие значения. Исправить такие значения сложно, поэтому оставьте их как есть. Тем более этот столбец не понадобится для исследования."
   ]
  },
  {
   "cell_type": "code",
   "execution_count": 12,
   "id": "8bb3bf09",
   "metadata": {
    "deletable": false,
    "id": "ef5056eb",
    "outputId": "6975b15c-7f95-4697-d16d-a0c79b657b03"
   },
   "outputs": [
    {
     "data": {
      "text/plain": [
       "array([ 1,  0,  3,  2, -1,  4, 20,  5], dtype=int64)"
      ]
     },
     "execution_count": 12,
     "metadata": {},
     "output_type": "execute_result"
    }
   ],
   "source": [
    "data['children'].unique()"
   ]
  },
  {
   "cell_type": "code",
   "execution_count": 13,
   "id": "22824fae",
   "metadata": {
    "deletable": false,
    "id": "3ff9801d"
   },
   "outputs": [],
   "source": [
    "data = data[(data['children'] != -1) & (data['children'] != 20)]"
   ]
  },
  {
   "cell_type": "code",
   "execution_count": 14,
   "id": "4f7cc282",
   "metadata": {
    "deletable": false,
    "id": "ad4fa8b7",
    "outputId": "b2097101-d49d-44d9-901b-32a65c9463d1"
   },
   "outputs": [
    {
     "data": {
      "text/plain": [
       "array([1, 0, 3, 2, 4, 5], dtype=int64)"
      ]
     },
     "execution_count": 14,
     "metadata": {},
     "output_type": "execute_result"
    }
   ],
   "source": [
    "data['children'].unique()"
   ]
  },
  {
   "cell_type": "code",
   "execution_count": 15,
   "id": "8ca017d6",
   "metadata": {
    "deletable": false,
    "id": "af6b1a7e"
   },
   "outputs": [],
   "source": [
    "for t in data['income_type'].unique():\n",
    "    data.loc[(data['income_type'] == t) & (data['days_employed'].isna()), 'days_employed'] = \\\n",
    "    data.loc[(data['income_type'] == t), 'days_employed'].median()"
   ]
  },
  {
   "cell_type": "code",
   "execution_count": 16,
   "id": "e346fa66",
   "metadata": {
    "deletable": false,
    "id": "55f78bc2",
    "outputId": "8da1e4e1-358e-4e87-98c9-f261bce0a7b2"
   },
   "outputs": [
    {
     "data": {
      "text/plain": [
       "children            0\n",
       "days_employed       0\n",
       "dob_years           0\n",
       "education           0\n",
       "education_id        0\n",
       "family_status       0\n",
       "family_status_id    0\n",
       "gender              0\n",
       "income_type         0\n",
       "debt                0\n",
       "total_income        0\n",
       "purpose             0\n",
       "dtype: int64"
      ]
     },
     "execution_count": 16,
     "metadata": {},
     "output_type": "execute_result"
    }
   ],
   "source": [
    "data.isna().sum()"
   ]
  },
  {
   "cell_type": "markdown",
   "id": "3cea3cad",
   "metadata": {
    "deletable": false,
    "editable": false,
    "id": "ddc81e43"
   },
   "source": [
    "### Изменение типов данных"
   ]
  },
  {
   "cell_type": "code",
   "execution_count": 17,
   "id": "ee368eb6",
   "metadata": {
    "deletable": false,
    "id": "920b65ad"
   },
   "outputs": [],
   "source": [
    "data['total_income'] = data['total_income'].astype(int)"
   ]
  },
  {
   "cell_type": "markdown",
   "id": "7bb1d18f",
   "metadata": {
    "deletable": false,
    "editable": false,
    "id": "80c420ba"
   },
   "source": [
    "### Обработка дубликатов"
   ]
  },
  {
   "cell_type": "code",
   "execution_count": 18,
   "id": "16bc75a8",
   "metadata": {
    "deletable": false
   },
   "outputs": [],
   "source": [
    "data['education'] = data['education'].str.lower()"
   ]
  },
  {
   "cell_type": "code",
   "execution_count": 19,
   "id": "699a0b46",
   "metadata": {
    "deletable": false,
    "id": "3ee445e4",
    "outputId": "9684deba-1934-42d1-99e1-cda61740f822"
   },
   "outputs": [
    {
     "data": {
      "text/plain": [
       "71"
      ]
     },
     "execution_count": 19,
     "metadata": {},
     "output_type": "execute_result"
    }
   ],
   "source": [
    "data.duplicated().sum()"
   ]
  },
  {
   "cell_type": "code",
   "execution_count": 20,
   "id": "a40ec024",
   "metadata": {
    "deletable": false,
    "id": "8575fe05"
   },
   "outputs": [],
   "source": [
    "data = data.drop_duplicates()"
   ]
  },
  {
   "cell_type": "markdown",
   "id": "b54ee509",
   "metadata": {
    "deletable": false,
    "editable": false,
    "id": "9904cf55"
   },
   "source": [
    "### Категоризация данных"
   ]
  },
  {
   "cell_type": "markdown",
   "id": "2f820245",
   "metadata": {
    "deletable": false,
    "editable": false,
    "id": "72fcc8a2"
   },
   "source": [
    "На основании диапазонов, указанных ниже, создадим в датафрейме `data` столбец `total_income_category` с категориями:\n",
    "\n",
    "- 0–30000 — `'E'`;\n",
    "- 30001–50000 — `'D'`;\n",
    "- 50001–200000 — `'C'`;\n",
    "- 200001–1000000 — `'B'`;\n",
    "- 1000001 и выше — `'A'`.\n",
    "\n"
   ]
  },
  {
   "cell_type": "code",
   "execution_count": 21,
   "id": "fbceb76a",
   "metadata": {
    "deletable": false,
    "id": "e1771346"
   },
   "outputs": [],
   "source": [
    "def categorize_income(income):\n",
    "    try:\n",
    "        if 0 <= income <= 30000:\n",
    "            return 'E'\n",
    "        elif 30001 <= income <= 50000:\n",
    "            return 'D'\n",
    "        elif 50001 <= income <= 200000:\n",
    "            return 'C'\n",
    "        elif 200001 <= income <= 1000000:\n",
    "            return 'B'\n",
    "        elif income >= 1000001:\n",
    "            return 'A'\n",
    "    except:\n",
    "        pass"
   ]
  },
  {
   "cell_type": "code",
   "execution_count": 22,
   "id": "f1cbe251",
   "metadata": {
    "deletable": false,
    "id": "d5f3586d"
   },
   "outputs": [],
   "source": [
    "data['total_income_category'] = data['total_income'].apply(categorize_income)"
   ]
  },
  {
   "cell_type": "markdown",
   "id": "ce158227",
   "metadata": {
    "deletable": false,
    "editable": false,
    "id": "dde49b5c"
   },
   "source": [
    "Выведем на экран перечень уникальных целей взятия кредита из столбца `purpose`.**"
   ]
  },
  {
   "cell_type": "code",
   "execution_count": 23,
   "id": "2c93f5ef",
   "metadata": {
    "deletable": false,
    "id": "f67ce9b3",
    "outputId": "673c12d9-7d7e-4ae0-9812-c622c89dd244"
   },
   "outputs": [
    {
     "data": {
      "text/plain": [
       "array(['покупка жилья', 'приобретение автомобиля',\n",
       "       'дополнительное образование', 'сыграть свадьбу',\n",
       "       'операции с жильем', 'образование', 'на проведение свадьбы',\n",
       "       'покупка жилья для семьи', 'покупка недвижимости',\n",
       "       'покупка коммерческой недвижимости', 'покупка жилой недвижимости',\n",
       "       'строительство собственной недвижимости', 'недвижимость',\n",
       "       'строительство недвижимости', 'на покупку подержанного автомобиля',\n",
       "       'на покупку своего автомобиля',\n",
       "       'операции с коммерческой недвижимостью',\n",
       "       'строительство жилой недвижимости', 'жилье',\n",
       "       'операции со своей недвижимостью', 'автомобили',\n",
       "       'заняться образованием', 'сделка с подержанным автомобилем',\n",
       "       'получение образования', 'автомобиль', 'свадьба',\n",
       "       'получение дополнительного образования', 'покупка своего жилья',\n",
       "       'операции с недвижимостью', 'получение высшего образования',\n",
       "       'свой автомобиль', 'сделка с автомобилем',\n",
       "       'профильное образование', 'высшее образование',\n",
       "       'покупка жилья для сдачи', 'на покупку автомобиля', 'ремонт жилью',\n",
       "       'заняться высшим образованием'], dtype=object)"
      ]
     },
     "execution_count": 23,
     "metadata": {},
     "output_type": "execute_result"
    }
   ],
   "source": [
    "data['purpose'].unique()"
   ]
  },
  {
   "cell_type": "markdown",
   "id": "4ef05d16",
   "metadata": {
    "deletable": false,
    "editable": false,
    "id": "85d0aef0"
   },
   "source": [
    "Создадим функцию, которая на основании данных из столбца `purpose` сформирует новый столбец `purpose_category`, в который войдут следующие категории:\n",
    "\n",
    "- `'операции с автомобилем'`,\n",
    "- `'операции с недвижимостью'`,\n",
    "- `'проведение свадьбы'`,\n",
    "- `'получение образования'`.\n"
   ]
  },
  {
   "cell_type": "code",
   "execution_count": 24,
   "id": "f88af1b2",
   "metadata": {
    "deletable": false,
    "id": "e149fab4"
   },
   "outputs": [],
   "source": [
    "def categorize_purpose(row):\n",
    "    try:\n",
    "        if 'автом' in row:\n",
    "            return 'операции с автомобилем'\n",
    "        elif 'жил' in row or 'недвиж' in row:\n",
    "            return 'операции с недвижимостью'\n",
    "        elif 'свад' in row:\n",
    "            return 'проведение свадьбы'\n",
    "        elif 'образов' in row:\n",
    "            return 'получение образования'\n",
    "    except:\n",
    "        return 'нет категории'"
   ]
  },
  {
   "cell_type": "code",
   "execution_count": 25,
   "id": "5673c577",
   "metadata": {
    "deletable": false,
    "id": "bf36e69b"
   },
   "outputs": [],
   "source": [
    "data['purpose_category'] = data['purpose'].apply(categorize_purpose)"
   ]
  },
  {
   "cell_type": "markdown",
   "id": "265fc841",
   "metadata": {
    "deletable": false,
    "editable": false,
    "id": "c5d66278"
   },
   "source": [
    "#### Есть ли зависимость между количеством детей и возвратом кредита в срок?"
   ]
  },
  {
   "cell_type": "markdown",
   "id": "bcf94d79",
   "metadata": {
    "deletable": false,
    "id": "2cacfc4a"
   },
   "source": [
    "Создадим таблицу со следующими колонками: \n",
    "children - количество детей\n",
    "borrowers - всего людей с кредитом в данной категории(относительно количества детей)\n",
    "debt_percentage - доля людей, просрочивших кредит\n",
    "debtors - количество людей, просрочивших кредит"
   ]
  },
  {
   "cell_type": "code",
   "execution_count": 26,
   "id": "335d3210",
   "metadata": {
    "deletable": false,
    "id": "3a6b99ec"
   },
   "outputs": [
    {
     "data": {
      "text/html": [
       "<div>\n",
       "<style scoped>\n",
       "    .dataframe tbody tr th:only-of-type {\n",
       "        vertical-align: middle;\n",
       "    }\n",
       "\n",
       "    .dataframe tbody tr th {\n",
       "        vertical-align: top;\n",
       "    }\n",
       "\n",
       "    .dataframe thead th {\n",
       "        text-align: right;\n",
       "    }\n",
       "</style>\n",
       "<table border=\"1\" class=\"dataframe\">\n",
       "  <thead>\n",
       "    <tr style=\"text-align: right;\">\n",
       "      <th></th>\n",
       "      <th>borrowers</th>\n",
       "      <th>debt_percentage</th>\n",
       "      <th>debtors</th>\n",
       "    </tr>\n",
       "    <tr>\n",
       "      <th>children</th>\n",
       "      <th></th>\n",
       "      <th></th>\n",
       "      <th></th>\n",
       "    </tr>\n",
       "  </thead>\n",
       "  <tbody>\n",
       "    <tr>\n",
       "      <th>0</th>\n",
       "      <td>14091</td>\n",
       "      <td>0.075438</td>\n",
       "      <td>1063</td>\n",
       "    </tr>\n",
       "    <tr>\n",
       "      <th>1</th>\n",
       "      <td>4808</td>\n",
       "      <td>0.092346</td>\n",
       "      <td>444</td>\n",
       "    </tr>\n",
       "    <tr>\n",
       "      <th>2</th>\n",
       "      <td>2052</td>\n",
       "      <td>0.094542</td>\n",
       "      <td>194</td>\n",
       "    </tr>\n",
       "    <tr>\n",
       "      <th>3</th>\n",
       "      <td>330</td>\n",
       "      <td>0.081818</td>\n",
       "      <td>27</td>\n",
       "    </tr>\n",
       "    <tr>\n",
       "      <th>4</th>\n",
       "      <td>41</td>\n",
       "      <td>0.097561</td>\n",
       "      <td>4</td>\n",
       "    </tr>\n",
       "    <tr>\n",
       "      <th>5</th>\n",
       "      <td>9</td>\n",
       "      <td>0.000000</td>\n",
       "      <td>0</td>\n",
       "    </tr>\n",
       "  </tbody>\n",
       "</table>\n",
       "</div>"
      ],
      "text/plain": [
       "          borrowers  debt_percentage  debtors\n",
       "children                                     \n",
       "0             14091         0.075438     1063\n",
       "1              4808         0.092346      444\n",
       "2              2052         0.094542      194\n",
       "3               330         0.081818       27\n",
       "4                41         0.097561        4\n",
       "5                 9         0.000000        0"
      ]
     },
     "metadata": {},
     "output_type": "display_data"
    }
   ],
   "source": [
    "children_debt_function_info = data.pivot_table(index=['children'], values='debt', aggfunc=('count', 'sum', 'mean'))\n",
    "children_debt_function_info = children_debt_function_info.rename(columns={'count': 'borrowers', 'mean': 'debt_percentage', 'sum': 'debtors'})\n",
    "display(children_debt_function_info)"
   ]
  },
  {
   "cell_type": "code",
   "execution_count": 27,
   "id": "9682c6ff",
   "metadata": {},
   "outputs": [
    {
     "name": "stderr",
     "output_type": "stream",
     "text": [
      "c:\\Users\\Lerusik\\AppData\\Local\\Programs\\Python\\Python311\\Lib\\site-packages\\seaborn\\_oldcore.py:1498: FutureWarning: is_categorical_dtype is deprecated and will be removed in a future version. Use isinstance(dtype, CategoricalDtype) instead\n",
      "  if pd.api.types.is_categorical_dtype(vector):\n",
      "c:\\Users\\Lerusik\\AppData\\Local\\Programs\\Python\\Python311\\Lib\\site-packages\\seaborn\\_oldcore.py:1498: FutureWarning: is_categorical_dtype is deprecated and will be removed in a future version. Use isinstance(dtype, CategoricalDtype) instead\n",
      "  if pd.api.types.is_categorical_dtype(vector):\n",
      "c:\\Users\\Lerusik\\AppData\\Local\\Programs\\Python\\Python311\\Lib\\site-packages\\seaborn\\_oldcore.py:1765: FutureWarning: unique with argument that is not not a Series, Index, ExtensionArray, or np.ndarray is deprecated and will raise in a future version.\n",
      "  order = pd.unique(vector)\n",
      "c:\\Users\\Lerusik\\AppData\\Local\\Programs\\Python\\Python311\\Lib\\site-packages\\seaborn\\_oldcore.py:1498: FutureWarning: is_categorical_dtype is deprecated and will be removed in a future version. Use isinstance(dtype, CategoricalDtype) instead\n",
      "  if pd.api.types.is_categorical_dtype(vector):\n"
     ]
    },
    {
     "data": {
      "text/plain": [
       "Text(0.5, 1.0, 'Зависимость между количеством детей и возвратом кредита в срок ')"
      ]
     },
     "execution_count": 27,
     "metadata": {},
     "output_type": "execute_result"
    },
    {
     "data": {
      "image/png": "[encoded data removed]",
      "text/plain": [
       "<Figure size 640x480 with 1 Axes>"
      ]
     },
     "metadata": {},
     "output_type": "display_data"
    }
   ],
   "source": [
    "import seaborn as sb\n",
    "import matplotlib.pyplot as plt\n",
    "children = [0,1,2,3,4,5]\n",
    "sb.barplot(x=children ,y=children_debt_function_info['debt_percentage'])\n",
    "plt.xlabel('Количество детей') \n",
    "plt.ylabel('Доля должников')\n",
    "plt.title('Зависимость между количеством детей и возвратом кредита в срок ')"
   ]
  },
  {
   "cell_type": "markdown",
   "id": "dad8cf99",
   "metadata": {},
   "source": [
    "Проверим, каких клиентов в базе больше всего:"
   ]
  },
  {
   "cell_type": "code",
   "execution_count": 28,
   "id": "24855459",
   "metadata": {},
   "outputs": [
    {
     "data": {
      "text/plain": [
       "<Axes: >"
      ]
     },
     "execution_count": 28,
     "metadata": {},
     "output_type": "execute_result"
    },
    {
     "data": {
      "image/png": "[encoded data removed]",
      "text/plain": [
       "<Figure size 640x480 with 1 Axes>"
      ]
     },
     "metadata": {},
     "output_type": "display_data"
    }
   ],
   "source": [
    "data['children'].hist(bins=6)"
   ]
  },
  {
   "cell_type": "markdown",
   "id": "26c7e888",
   "metadata": {},
   "source": [
    "По гистограмме видно, что клиентов с 0-2 детьми большинство. Значит выводы можно делать только по их данным. Для анализа клиентов с большим количеством детей недостаточно статистики."
   ]
  },
  {
   "cell_type": "markdown",
   "id": "cda1d883",
   "metadata": {},
   "source": [
    "**Вывод:** \n",
    "Гипотезу можно проверить только учитывая данные о клиентах с 0-2 детьми. Процент должников растет с увеличением количества детей. Данные показывают большой скачок при переходе от бездетного человека к человеку с одним ребенком, когда при переходе от человека с одним ребенком к человеку с двумя детьми, скачок не такой сильный. Гипотеза подтверждена."
   ]
  },
  {
   "cell_type": "markdown",
   "id": "eef134bd",
   "metadata": {
    "deletable": false,
    "editable": false,
    "id": "97be82ca"
   },
   "source": [
    "####  Есть ли зависимость между семейным положением и возвратом кредита в срок?"
   ]
  },
  {
   "cell_type": "markdown",
   "id": "0e767d34",
   "metadata": {},
   "source": [
    "Создадим таблицу со следующими колонками: \n",
    "family_status - семейный статус\n",
    "borrowers - всего людей с кредитом в данной категории(относительно семейного статуса)\n",
    "debt_percentage - доля людей, просрочивших кредит\n",
    "debtors - количество людей, просрочивших кредит"
   ]
  },
  {
   "cell_type": "code",
   "execution_count": 30,
   "id": "bf7ae2ae",
   "metadata": {
    "deletable": false,
    "id": "dc3f7ee8"
   },
   "outputs": [
    {
     "data": {
      "text/html": [
       "<div>\n",
       "<style scoped>\n",
       "    .dataframe tbody tr th:only-of-type {\n",
       "        vertical-align: middle;\n",
       "    }\n",
       "\n",
       "    .dataframe tbody tr th {\n",
       "        vertical-align: top;\n",
       "    }\n",
       "\n",
       "    .dataframe thead th {\n",
       "        text-align: right;\n",
       "    }\n",
       "</style>\n",
       "<table border=\"1\" class=\"dataframe\">\n",
       "  <thead>\n",
       "    <tr style=\"text-align: right;\">\n",
       "      <th></th>\n",
       "      <th>borrowers</th>\n",
       "      <th>debt_percentage</th>\n",
       "      <th>debtors</th>\n",
       "    </tr>\n",
       "    <tr>\n",
       "      <th>family_status</th>\n",
       "      <th></th>\n",
       "      <th></th>\n",
       "      <th></th>\n",
       "    </tr>\n",
       "  </thead>\n",
       "  <tbody>\n",
       "    <tr>\n",
       "      <th>Не женат / не замужем</th>\n",
       "      <td>2796</td>\n",
       "      <td>0.097639</td>\n",
       "      <td>273</td>\n",
       "    </tr>\n",
       "    <tr>\n",
       "      <th>в разводе</th>\n",
       "      <td>1189</td>\n",
       "      <td>0.070648</td>\n",
       "      <td>84</td>\n",
       "    </tr>\n",
       "    <tr>\n",
       "      <th>вдовец / вдова</th>\n",
       "      <td>951</td>\n",
       "      <td>0.066246</td>\n",
       "      <td>63</td>\n",
       "    </tr>\n",
       "    <tr>\n",
       "      <th>гражданский брак</th>\n",
       "      <td>4134</td>\n",
       "      <td>0.093130</td>\n",
       "      <td>385</td>\n",
       "    </tr>\n",
       "    <tr>\n",
       "      <th>женат / замужем</th>\n",
       "      <td>12261</td>\n",
       "      <td>0.075606</td>\n",
       "      <td>927</td>\n",
       "    </tr>\n",
       "  </tbody>\n",
       "</table>\n",
       "</div>"
      ],
      "text/plain": [
       "                       borrowers  debt_percentage  debtors\n",
       "family_status                                             \n",
       "Не женат / не замужем       2796         0.097639      273\n",
       "в разводе                   1189         0.070648       84\n",
       "вдовец / вдова               951         0.066246       63\n",
       "гражданский брак            4134         0.093130      385\n",
       "женат / замужем            12261         0.075606      927"
      ]
     },
     "metadata": {},
     "output_type": "display_data"
    }
   ],
   "source": [
    "family_status_debt_function_info = data.pivot_table(index=['family_status'], values='debt', aggfunc=('count', 'sum', 'mean'))\n",
    "family_status_debt_function_info = family_status_debt_function_info.rename(columns={'count': 'borrowers', 'mean': 'debt_percentage', 'sum': 'debtors'})\n",
    "display(family_status_debt_function_info)"
   ]
  },
  {
   "cell_type": "code",
   "execution_count": 31,
   "id": "aa5264db",
   "metadata": {
    "deletable": false,
    "id": "1cef7837"
   },
   "outputs": [
    {
     "name": "stderr",
     "output_type": "stream",
     "text": [
      "c:\\Users\\Lerusik\\AppData\\Local\\Programs\\Python\\Python311\\Lib\\site-packages\\seaborn\\_oldcore.py:1498: FutureWarning: is_categorical_dtype is deprecated and will be removed in a future version. Use isinstance(dtype, CategoricalDtype) instead\n",
      "  if pd.api.types.is_categorical_dtype(vector):\n",
      "c:\\Users\\Lerusik\\AppData\\Local\\Programs\\Python\\Python311\\Lib\\site-packages\\seaborn\\_oldcore.py:1498: FutureWarning: is_categorical_dtype is deprecated and will be removed in a future version. Use isinstance(dtype, CategoricalDtype) instead\n",
      "  if pd.api.types.is_categorical_dtype(vector):\n",
      "c:\\Users\\Lerusik\\AppData\\Local\\Programs\\Python\\Python311\\Lib\\site-packages\\seaborn\\_oldcore.py:1765: FutureWarning: unique with argument that is not not a Series, Index, ExtensionArray, or np.ndarray is deprecated and will raise in a future version.\n",
      "  order = pd.unique(vector)\n",
      "c:\\Users\\Lerusik\\AppData\\Local\\Programs\\Python\\Python311\\Lib\\site-packages\\seaborn\\_oldcore.py:1498: FutureWarning: is_categorical_dtype is deprecated and will be removed in a future version. Use isinstance(dtype, CategoricalDtype) instead\n",
      "  if pd.api.types.is_categorical_dtype(vector):\n"
     ]
    },
    {
     "data": {
      "text/plain": [
       "Text(0.5, 1.0, 'Зависимость между семейным положением и возвратом кредита в срок ')"
      ]
     },
     "execution_count": 31,
     "metadata": {},
     "output_type": "execute_result"
    },
    {
     "data": {
      "image/png": "[encoded data removed]",
      "text/plain": [
       "<Figure size 640x480 with 1 Axes>"
      ]
     },
     "metadata": {},
     "output_type": "display_data"
    }
   ],
   "source": [
    "family_status = ['Не женат / не замужем','в разводе','вдовец / вдова','гражданский брак','женат / замужем']\n",
    "sb.barplot(x=family_status_debt_function_info['debt_percentage'] ,y=family_status)\n",
    "\n",
    "import matplotlib.pyplot as plt\n",
    "\n",
    "\n",
    " \n",
    "plt.ylabel('Доля должников')\n",
    "plt.title('Зависимость между семейным положением и возвратом кредита в срок ')"
   ]
  },
  {
   "cell_type": "code",
   "execution_count": 32,
   "id": "abfd1056",
   "metadata": {},
   "outputs": [],
   "source": [
    "def categorize_family_status(row):\n",
    "    \n",
    "    if 'Не женат / не замужем' in row or 'в разводе' in row or 'вдовец / вдова' in row:\n",
    "        return 'одинокий/ая'\n",
    "    elif 'гражданский брак' in row or 'женат / замужем' in row:\n",
    "        return 'семья'\n",
    "        \n",
    "   "
   ]
  },
  {
   "cell_type": "code",
   "execution_count": 33,
   "id": "958bdbf1",
   "metadata": {},
   "outputs": [],
   "source": [
    "data['family_status_category'] = data['family_status'].apply(categorize_family_status)"
   ]
  },
  {
   "cell_type": "code",
   "execution_count": 34,
   "id": "27c1f0dc",
   "metadata": {},
   "outputs": [
    {
     "data": {
      "text/html": [
       "<div>\n",
       "<style scoped>\n",
       "    .dataframe tbody tr th:only-of-type {\n",
       "        vertical-align: middle;\n",
       "    }\n",
       "\n",
       "    .dataframe tbody tr th {\n",
       "        vertical-align: top;\n",
       "    }\n",
       "\n",
       "    .dataframe thead th {\n",
       "        text-align: right;\n",
       "    }\n",
       "</style>\n",
       "<table border=\"1\" class=\"dataframe\">\n",
       "  <thead>\n",
       "    <tr style=\"text-align: right;\">\n",
       "      <th></th>\n",
       "      <th>borrowers</th>\n",
       "      <th>debt_percentage</th>\n",
       "      <th>debtors</th>\n",
       "    </tr>\n",
       "    <tr>\n",
       "      <th>family_status_category</th>\n",
       "      <th></th>\n",
       "      <th></th>\n",
       "      <th></th>\n",
       "    </tr>\n",
       "  </thead>\n",
       "  <tbody>\n",
       "    <tr>\n",
       "      <th>одинокий/ая</th>\n",
       "      <td>4936</td>\n",
       "      <td>0.085089</td>\n",
       "      <td>420</td>\n",
       "    </tr>\n",
       "    <tr>\n",
       "      <th>семья</th>\n",
       "      <td>16395</td>\n",
       "      <td>0.080024</td>\n",
       "      <td>1312</td>\n",
       "    </tr>\n",
       "  </tbody>\n",
       "</table>\n",
       "</div>"
      ],
      "text/plain": [
       "                        borrowers  debt_percentage  debtors\n",
       "family_status_category                                     \n",
       "одинокий/ая                  4936         0.085089      420\n",
       "семья                       16395         0.080024     1312"
      ]
     },
     "metadata": {},
     "output_type": "display_data"
    }
   ],
   "source": [
    "family_status_category_debt_function_info = data.pivot_table(index=['family_status_category'], values='debt', aggfunc=('count', 'sum', 'mean'))\n",
    "family_status_category_debt_function_info = family_status_category_debt_function_info.rename(columns={'count': 'borrowers', 'mean': 'debt_percentage', 'sum': 'debtors'})\n",
    "display(family_status_category_debt_function_info)"
   ]
  },
  {
   "cell_type": "code",
   "execution_count": 35,
   "id": "99cda214",
   "metadata": {},
   "outputs": [
    {
     "name": "stderr",
     "output_type": "stream",
     "text": [
      "c:\\Users\\Lerusik\\AppData\\Local\\Programs\\Python\\Python311\\Lib\\site-packages\\seaborn\\_oldcore.py:1498: FutureWarning: is_categorical_dtype is deprecated and will be removed in a future version. Use isinstance(dtype, CategoricalDtype) instead\n",
      "  if pd.api.types.is_categorical_dtype(vector):\n",
      "c:\\Users\\Lerusik\\AppData\\Local\\Programs\\Python\\Python311\\Lib\\site-packages\\seaborn\\_oldcore.py:1498: FutureWarning: is_categorical_dtype is deprecated and will be removed in a future version. Use isinstance(dtype, CategoricalDtype) instead\n",
      "  if pd.api.types.is_categorical_dtype(vector):\n",
      "c:\\Users\\Lerusik\\AppData\\Local\\Programs\\Python\\Python311\\Lib\\site-packages\\seaborn\\_oldcore.py:1765: FutureWarning: unique with argument that is not not a Series, Index, ExtensionArray, or np.ndarray is deprecated and will raise in a future version.\n",
      "  order = pd.unique(vector)\n",
      "c:\\Users\\Lerusik\\AppData\\Local\\Programs\\Python\\Python311\\Lib\\site-packages\\seaborn\\_oldcore.py:1498: FutureWarning: is_categorical_dtype is deprecated and will be removed in a future version. Use isinstance(dtype, CategoricalDtype) instead\n",
      "  if pd.api.types.is_categorical_dtype(vector):\n"
     ]
    },
    {
     "data": {
      "text/plain": [
       "Text(0.5, 1.0, 'Зависимость между семейным положением и возвратом кредита в срок ')"
      ]
     },
     "execution_count": 35,
     "metadata": {},
     "output_type": "execute_result"
    },
    {
     "data": {
      "image/png": "[encoded data removed]",
      "text/plain": [
       "<Figure size 640x480 with 1 Axes>"
      ]
     },
     "metadata": {},
     "output_type": "display_data"
    }
   ],
   "source": [
    "family_status_category = ['одинокий/ая','семья']\n",
    "sb.barplot(x=family_status_category_debt_function_info['debt_percentage'] ,y=family_status_category)\n",
    "\n",
    "import matplotlib.pyplot as plt\n",
    "\n",
    "\n",
    " \n",
    "plt.ylabel('Доля должников')\n",
    "plt.title('Зависимость между семейным положением и возвратом кредита в срок ')"
   ]
  },
  {
   "cell_type": "markdown",
   "id": "7a218b74",
   "metadata": {},
   "source": [
    "**Вывод**\n",
    "После объединения групп, можно увидеть, что процент должников среди одиноких людей выше, чем среди семейных людей. Важно учесть, что это средние показатели, потому что например у вдов/вдовцов наименьший процент должников."
   ]
  },
  {
   "cell_type": "markdown",
   "id": "9fe51a2d",
   "metadata": {
    "deletable": false,
    "editable": false,
    "id": "1e8b2fca"
   },
   "source": [
    "####  Есть ли зависимость между уровнем дохода и возвратом кредита в срок?"
   ]
  },
  {
   "cell_type": "markdown",
   "id": "274c6661",
   "metadata": {},
   "source": [
    "Создадим таблицу со следующими колонками: \n",
    "total_income_category - категория платежеспособности, где при доходе в:\n",
    "0–30000 — 'E';\n",
    "30001–50000 — 'D';\n",
    "50001–200000 — 'C';\n",
    "200001–1000000 — 'B';\n",
    "1000001 и выше — 'A'.\n",
    "borrowers - всего людей с кредитом в данной категории(относительно семейного статуса)\n",
    "debt_percentage - доля людей, просрочивших кредит\n",
    "debtors - количество людей, просрочивших кредит"
   ]
  },
  {
   "cell_type": "code",
   "execution_count": 36,
   "id": "28e4f3d5",
   "metadata": {
    "deletable": false,
    "id": "cd7e3720"
   },
   "outputs": [
    {
     "data": {
      "text/html": [
       "<div>\n",
       "<style scoped>\n",
       "    .dataframe tbody tr th:only-of-type {\n",
       "        vertical-align: middle;\n",
       "    }\n",
       "\n",
       "    .dataframe tbody tr th {\n",
       "        vertical-align: top;\n",
       "    }\n",
       "\n",
       "    .dataframe thead th {\n",
       "        text-align: right;\n",
       "    }\n",
       "</style>\n",
       "<table border=\"1\" class=\"dataframe\">\n",
       "  <thead>\n",
       "    <tr style=\"text-align: right;\">\n",
       "      <th></th>\n",
       "      <th>borrowers</th>\n",
       "      <th>debt_percentage</th>\n",
       "      <th>debtors</th>\n",
       "    </tr>\n",
       "    <tr>\n",
       "      <th>total_income_category</th>\n",
       "      <th></th>\n",
       "      <th></th>\n",
       "      <th></th>\n",
       "    </tr>\n",
       "  </thead>\n",
       "  <tbody>\n",
       "    <tr>\n",
       "      <th>A</th>\n",
       "      <td>25</td>\n",
       "      <td>0.080000</td>\n",
       "      <td>2</td>\n",
       "    </tr>\n",
       "    <tr>\n",
       "      <th>B</th>\n",
       "      <td>5014</td>\n",
       "      <td>0.070602</td>\n",
       "      <td>354</td>\n",
       "    </tr>\n",
       "    <tr>\n",
       "      <th>C</th>\n",
       "      <td>15921</td>\n",
       "      <td>0.084982</td>\n",
       "      <td>1353</td>\n",
       "    </tr>\n",
       "    <tr>\n",
       "      <th>D</th>\n",
       "      <td>349</td>\n",
       "      <td>0.060172</td>\n",
       "      <td>21</td>\n",
       "    </tr>\n",
       "    <tr>\n",
       "      <th>E</th>\n",
       "      <td>22</td>\n",
       "      <td>0.090909</td>\n",
       "      <td>2</td>\n",
       "    </tr>\n",
       "  </tbody>\n",
       "</table>\n",
       "</div>"
      ],
      "text/plain": [
       "                       borrowers  debt_percentage  debtors\n",
       "total_income_category                                     \n",
       "A                             25         0.080000        2\n",
       "B                           5014         0.070602      354\n",
       "C                          15921         0.084982     1353\n",
       "D                            349         0.060172       21\n",
       "E                             22         0.090909        2"
      ]
     },
     "metadata": {},
     "output_type": "display_data"
    }
   ],
   "source": [
    "total_income_category_debt_function_info = data.pivot_table(index=['total_income_category'], values='debt', aggfunc=('count', 'sum', 'mean'))\n",
    "total_income_category_debt_function_info = total_income_category_debt_function_info.rename(columns={'count': 'borrowers', 'mean': 'debt_percentage', 'sum': 'debtors'})\n",
    "display(total_income_category_debt_function_info)"
   ]
  },
  {
   "cell_type": "code",
   "execution_count": 37,
   "id": "e5483a71",
   "metadata": {},
   "outputs": [
    {
     "name": "stderr",
     "output_type": "stream",
     "text": [
      "c:\\Users\\Lerusik\\AppData\\Local\\Programs\\Python\\Python311\\Lib\\site-packages\\seaborn\\_oldcore.py:1498: FutureWarning: is_categorical_dtype is deprecated and will be removed in a future version. Use isinstance(dtype, CategoricalDtype) instead\n",
      "  if pd.api.types.is_categorical_dtype(vector):\n",
      "c:\\Users\\Lerusik\\AppData\\Local\\Programs\\Python\\Python311\\Lib\\site-packages\\seaborn\\_oldcore.py:1498: FutureWarning: is_categorical_dtype is deprecated and will be removed in a future version. Use isinstance(dtype, CategoricalDtype) instead\n",
      "  if pd.api.types.is_categorical_dtype(vector):\n",
      "c:\\Users\\Lerusik\\AppData\\Local\\Programs\\Python\\Python311\\Lib\\site-packages\\seaborn\\_oldcore.py:1765: FutureWarning: unique with argument that is not not a Series, Index, ExtensionArray, or np.ndarray is deprecated and will raise in a future version.\n",
      "  order = pd.unique(vector)\n",
      "c:\\Users\\Lerusik\\AppData\\Local\\Programs\\Python\\Python311\\Lib\\site-packages\\seaborn\\_oldcore.py:1498: FutureWarning: is_categorical_dtype is deprecated and will be removed in a future version. Use isinstance(dtype, CategoricalDtype) instead\n",
      "  if pd.api.types.is_categorical_dtype(vector):\n"
     ]
    },
    {
     "data": {
      "text/plain": [
       "<Axes: ylabel='debt_percentage'>"
      ]
     },
     "execution_count": 37,
     "metadata": {},
     "output_type": "execute_result"
    },
    {
     "data": {
      "image/png": "[encoded data removed]",
      "text/plain": [
       "<Figure size 640x480 with 1 Axes>"
      ]
     },
     "metadata": {},
     "output_type": "display_data"
    }
   ],
   "source": [
    "total_income_category = ['A','B','C','D','E']\n",
    "sb.barplot(x=total_income_category ,y=total_income_category_debt_function_info['debt_percentage'])"
   ]
  },
  {
   "cell_type": "markdown",
   "id": "2c9b5a42",
   "metadata": {},
   "source": [
    "Проверим, каких клиентов в данной категории больше всего, построим гистограмму"
   ]
  },
  {
   "cell_type": "code",
   "execution_count": 38,
   "id": "3a38667f",
   "metadata": {},
   "outputs": [
    {
     "data": {
      "text/plain": [
       "<Axes: >"
      ]
     },
     "execution_count": 38,
     "metadata": {},
     "output_type": "execute_result"
    },
    {
     "data": {
      "image/png": "[encoded data removed]",
      "text/plain": [
       "<Figure size 640x480 with 1 Axes>"
      ]
     },
     "metadata": {},
     "output_type": "display_data"
    }
   ],
   "source": [
    "data['total_income_category'].hist(bins=5)"
   ]
  },
  {
   "cell_type": "markdown",
   "id": "c17d8517",
   "metadata": {
    "deletable": false,
    "id": "e8593def"
   },
   "source": [
    "**Вывод:** \n",
    "На гистограмме видно, что клиентов категорий В и С - большинство, поэтому выводы необходимо делать на основании этих двух категорий. Видно, что процент должников растет с категорией. Для более подробного анализа требуется разбиение этих двух категорий на большее количество, чтобы точнее определить зависимость, потому что на основании двух столбцов делать вывод - как пальцем в небо тыкать"
   ]
  },
  {
   "cell_type": "markdown",
   "id": "47cb392d",
   "metadata": {
    "deletable": false,
    "editable": false,
    "id": "99ecbd1f"
   },
   "source": [
    "#### Как разные цели кредита влияют на его возврат в срок?"
   ]
  },
  {
   "cell_type": "markdown",
   "id": "57cea488",
   "metadata": {},
   "source": [
    "Создадим таблицу со следующими колонками: \n",
    "purpose_category - цели кредита, такие как:\n",
    "операции с автомобилем,\n",
    "операции с недвижимостью,\n",
    "проведение свадьбы,\n",
    "получение образования.\n",
    "borrowers - всего людей с кредитом в данной категории(относительно семейного статуса)\n",
    "debt_percentage - доля людей, просрочивших кредит\n",
    "debtors - количество людей, просрочивших кредит"
   ]
  },
  {
   "cell_type": "code",
   "execution_count": 39,
   "id": "1a79977f",
   "metadata": {
    "deletable": false,
    "id": "2b687290"
   },
   "outputs": [
    {
     "data": {
      "text/html": [
       "<div>\n",
       "<style scoped>\n",
       "    .dataframe tbody tr th:only-of-type {\n",
       "        vertical-align: middle;\n",
       "    }\n",
       "\n",
       "    .dataframe tbody tr th {\n",
       "        vertical-align: top;\n",
       "    }\n",
       "\n",
       "    .dataframe thead th {\n",
       "        text-align: right;\n",
       "    }\n",
       "</style>\n",
       "<table border=\"1\" class=\"dataframe\">\n",
       "  <thead>\n",
       "    <tr style=\"text-align: right;\">\n",
       "      <th></th>\n",
       "      <th>borrowers</th>\n",
       "      <th>debt_percentage</th>\n",
       "      <th>debtors</th>\n",
       "    </tr>\n",
       "    <tr>\n",
       "      <th>purpose_category</th>\n",
       "      <th></th>\n",
       "      <th></th>\n",
       "      <th></th>\n",
       "    </tr>\n",
       "  </thead>\n",
       "  <tbody>\n",
       "    <tr>\n",
       "      <th>операции с автомобилем</th>\n",
       "      <td>4279</td>\n",
       "      <td>0.093480</td>\n",
       "      <td>400</td>\n",
       "    </tr>\n",
       "    <tr>\n",
       "      <th>операции с недвижимостью</th>\n",
       "      <td>10751</td>\n",
       "      <td>0.072551</td>\n",
       "      <td>780</td>\n",
       "    </tr>\n",
       "    <tr>\n",
       "      <th>получение образования</th>\n",
       "      <td>3988</td>\n",
       "      <td>0.092528</td>\n",
       "      <td>369</td>\n",
       "    </tr>\n",
       "    <tr>\n",
       "      <th>проведение свадьбы</th>\n",
       "      <td>2313</td>\n",
       "      <td>0.079118</td>\n",
       "      <td>183</td>\n",
       "    </tr>\n",
       "  </tbody>\n",
       "</table>\n",
       "</div>"
      ],
      "text/plain": [
       "                          borrowers  debt_percentage  debtors\n",
       "purpose_category                                             \n",
       "операции с автомобилем         4279         0.093480      400\n",
       "операции с недвижимостью      10751         0.072551      780\n",
       "получение образования          3988         0.092528      369\n",
       "проведение свадьбы             2313         0.079118      183"
      ]
     },
     "metadata": {},
     "output_type": "display_data"
    }
   ],
   "source": [
    "purpose_category_debt_function_info = data.pivot_table(index=['purpose_category'], values='debt', aggfunc=('count', 'sum', 'mean'))\n",
    "purpose_category_debt_function_info = purpose_category_debt_function_info.rename(columns={'count': 'borrowers', 'mean': 'debt_percentage', 'sum': 'debtors'})\n",
    "display(purpose_category_debt_function_info)"
   ]
  },
  {
   "cell_type": "code",
   "execution_count": 40,
   "id": "e0f1e1d4",
   "metadata": {},
   "outputs": [
    {
     "name": "stderr",
     "output_type": "stream",
     "text": [
      "c:\\Users\\Lerusik\\AppData\\Local\\Programs\\Python\\Python311\\Lib\\site-packages\\seaborn\\_oldcore.py:1498: FutureWarning: is_categorical_dtype is deprecated and will be removed in a future version. Use isinstance(dtype, CategoricalDtype) instead\n",
      "  if pd.api.types.is_categorical_dtype(vector):\n",
      "c:\\Users\\Lerusik\\AppData\\Local\\Programs\\Python\\Python311\\Lib\\site-packages\\seaborn\\_oldcore.py:1498: FutureWarning: is_categorical_dtype is deprecated and will be removed in a future version. Use isinstance(dtype, CategoricalDtype) instead\n",
      "  if pd.api.types.is_categorical_dtype(vector):\n",
      "c:\\Users\\Lerusik\\AppData\\Local\\Programs\\Python\\Python311\\Lib\\site-packages\\seaborn\\_oldcore.py:1765: FutureWarning: unique with argument that is not not a Series, Index, ExtensionArray, or np.ndarray is deprecated and will raise in a future version.\n",
      "  order = pd.unique(vector)\n",
      "c:\\Users\\Lerusik\\AppData\\Local\\Programs\\Python\\Python311\\Lib\\site-packages\\seaborn\\_oldcore.py:1498: FutureWarning: is_categorical_dtype is deprecated and will be removed in a future version. Use isinstance(dtype, CategoricalDtype) instead\n",
      "  if pd.api.types.is_categorical_dtype(vector):\n"
     ]
    },
    {
     "data": {
      "text/plain": [
       "Text(0.5, 1.0, 'Зависимость между целями кредита и возвратом кредита в срок ')"
      ]
     },
     "execution_count": 40,
     "metadata": {},
     "output_type": "execute_result"
    },
    {
     "data": {
      "image/png": "[encoded data removed]",
      "text/plain": [
       "<Figure size 640x480 with 1 Axes>"
      ]
     },
     "metadata": {},
     "output_type": "display_data"
    }
   ],
   "source": [
    "purpose_category = ['операции с автомобилем', 'операции с недвижимостью', 'проведение свадьбы','получение образования']\n",
    "sb.barplot(x=purpose_category_debt_function_info['debt_percentage'] ,y=purpose_category)\n",
    "import matplotlib.pyplot as plt\n",
    "\n",
    "\n",
    " \n",
    "plt.ylabel('Доля должников')\n",
    "plt.title('Зависимость между целями кредита и возвратом кредита в срок ')"
   ]
  },
  {
   "cell_type": "markdown",
   "id": "ffa7a87b",
   "metadata": {},
   "source": [
    "Проверим, каких клиентов в данной категории больше всего, построим гистограмму"
   ]
  },
  {
   "cell_type": "code",
   "execution_count": 41,
   "id": "6e912a0c",
   "metadata": {},
   "outputs": [
    {
     "data": {
      "text/plain": [
       "<Axes: >"
      ]
     },
     "execution_count": 41,
     "metadata": {},
     "output_type": "execute_result"
    },
    {
     "data": {
      "image/png": "[encoded data removed]",
      "text/plain": [
       "<Figure size 640x480 with 1 Axes>"
      ]
     },
     "metadata": {},
     "output_type": "display_data"
    }
   ],
   "source": [
    "data['purpose_category'].hist(bins=4)"
   ]
  },
  {
   "cell_type": "markdown",
   "id": "baa7988e",
   "metadata": {
    "deletable": false,
    "id": "b4bb2ce6"
   },
   "source": [
    "**Вывод:** \n",
    "Чаще всего берут кредиты на операции с недвижимостью и чаще всего возвращают в срок именно в этой категории. Данных для остальных категорий на порядок меньше, поэтому анализ может быть недостаточно точным для всех категорий. \n",
    "\n",
    "По частоте дальше идут операции с автомобилем, с получением образования и проведением свадьбы. Статистика этих категорий примерно на одном уровне, поэтому можно сказать, что среди этих операций большинство должников приходится на операции с автомобилем, далее на операции, связанные с проведением свадьбы, а меньший процент должников наблюдается при операциях, связанных с получением образования.\n",
    "\t"
   ]
  },
  {
   "cell_type": "markdown",
   "id": "96a76544",
   "metadata": {
    "deletable": false,
    "editable": false,
    "id": "09c3ac4c"
   },
   "source": [
    "#### Возможные причины появления пропусков в исходных данных."
   ]
  },
  {
   "cell_type": "markdown",
   "id": "93f56c59",
   "metadata": {
    "deletable": false,
    "id": "9da2ceda"
   },
   "source": [
    "\n",
    "В данных есть пропущенные значения в двух столбцах: days_employed(общий трудовой стаж в днях) и total_income(ежемесячный доход). *Общая возможная причина пропусков - технический сбой при выгрузке данных*\n",
    "\n",
    "Общий трудовой стаж в днях довольно тяжело посчитать. У кого-то он мог прерываться декретом или неопределенным безработным периодом. Также работа могла быть неофициальной и стаж \"не записывался\" в трудовую книжку. Также люди могли не сообщить эту информацию, как и во втором случае.\n",
    "\n",
    "Доход может варьироваться от месяца к месяцу, также человек может получать деньги посуточно и не считать месячную выручку. За год человек мог сменить профессию, выйти на работу после безработного периода или получить повышение с заметной разницей в зарплате. В таких случаях тяжело вычислить средний ежемесячный доход."
   ]
  },
  {
   "cell_type": "markdown",
   "id": "229f7b4d",
   "metadata": {
    "deletable": false,
    "editable": false,
    "id": "6db5255a"
   },
   "source": [
    "### Общий вывод."
   ]
  },
  {
   "cell_type": "markdown",
   "id": "85f86164",
   "metadata": {
    "deletable": false,
    "id": "bad65432"
   },
   "source": [
    "В данном проекте были проанализированы данные кредитных платежей и кредитованных людей. \n",
    "\n",
    "Для начала данные были изучены и предобработаны:удалены пропуски, дубликаты, аномальные значения. Затем были выделены некоторые категории клиентов банка, которые объединили данные и выявили общие тенденции. \n",
    "\n",
    "Основной задачей исследования было выявление зависимостей между выплатой кредита в срок и различными показателями.\n",
    "\n",
    "\n",
    "Таким образом, исследование взаимосвязей показало, что:\n",
    "Цели кредита влияют на сроки его выплаты. Чаще всего берут кредиты на операции с недвижимостью и чаще всего возвращают в срок именно в этой категории. Данных для остальных категорий на порядок меньше, поэтому анализ может быть недостаточно точным для всех категорий. \n",
    "\n",
    "По частоте дальше идут операции с автомобилем, с получением образования и проведением свадьбы. Статистика этих категорий примерно на одном уровне, поэтому можно сказать, что среди этих операций большинство должников приходится на операции с автомобилем, далее на операции, связанные с проведением свадьбы, а меньший процент должников наблюдается при операциях, связанных с получением образования.\n",
    "\t\n",
    "\n",
    "Семейное положение влияет на сроки выплаты кредита.После объединения групп, можно увидеть, что процент должников среди одиноких людей выше, чем среди семейных людей. Важно учесть, что это средние показатели, потому что например у вдов/вдовцов наименьший процент должников. При создании системы оценивания нужно учитывать расширенный анализ семейного положения с присуждением каждой категории отдельного коэффициента. *знаю, что статистики маловато, чтобы делать выводы о вдовах, но и всех остальных одиноких тоже мало относительно семейных. Количество отличается порядком, результаты могут поменяться при наличии новых данных об одиноких*\n",
    "\n",
    "\n",
    "Клиентов с доходами 50001–200000 и 200001–1000000 — большинство, поэтому выводы необходимо делать на основании этих двух категорий. Процент должников уменьшается с увеличением зарплаты. \n",
    "\n",
    "Наличие детей влияет на сроки выплаты кредита. Процент должников растет с увеличением количества детей. Данные показывают большой скачок при переходе от бездетного человека к человеку с одним ребенком, когда при переходе от человека с одним ребенком к человеку с двумя детьми, скачок не такой сильный. Клиентов с тремя и более детьми мало, поэтому оценивать их платежеспособность на фоне бездетных и малодетных не имеет смысла."
   ]
  }
 ],
 "metadata": {
  "ExecuteTimeLog": [
   {
    "duration": 464,
    "start_time": "2022-10-06T08:35:28.765Z"
   },
   {
    "duration": 20,
    "start_time": "2022-10-06T08:35:29.231Z"
   },
   {
    "duration": 16,
    "start_time": "2022-10-06T08:35:29.446Z"
   },
   {
    "duration": 9,
    "start_time": "2022-10-06T08:35:30.125Z"
   },
   {
    "duration": 31,
    "start_time": "2022-10-06T08:35:30.455Z"
   },
   {
    "duration": 5,
    "start_time": "2022-10-06T08:35:30.958Z"
   },
   {
    "duration": 7,
    "start_time": "2022-10-06T08:35:31.353Z"
   },
   {
    "duration": 4,
    "start_time": "2022-10-06T08:35:31.770Z"
   },
   {
    "duration": 9,
    "start_time": "2022-10-06T08:35:32.148Z"
   },
   {
    "duration": 5,
    "start_time": "2022-10-06T08:35:32.470Z"
   },
   {
    "duration": 46,
    "start_time": "2022-10-06T08:35:33.733Z"
   },
   {
    "duration": 11,
    "start_time": "2022-10-06T08:35:34.018Z"
   },
   {
    "duration": 6,
    "start_time": "2022-10-06T08:35:34.512Z"
   },
   {
    "duration": 21,
    "start_time": "2022-10-06T08:35:35.599Z"
   },
   {
    "duration": 41,
    "start_time": "2022-10-06T08:35:36.293Z"
   },
   {
    "duration": 22,
    "start_time": "2022-10-06T08:35:36.599Z"
   },
   {
    "duration": 5,
    "start_time": "2022-10-06T08:35:38.640Z"
   },
   {
    "duration": 9,
    "start_time": "2022-10-06T08:35:39.220Z"
   },
   {
    "duration": 6,
    "start_time": "2022-10-06T08:35:40.317Z"
   },
   {
    "duration": 4,
    "start_time": "2022-10-06T08:35:42.536Z"
   },
   {
    "duration": 8,
    "start_time": "2022-10-06T08:35:42.890Z"
   },
   {
    "duration": 17,
    "start_time": "2022-10-06T08:35:57.622Z"
   },
   {
    "duration": 4,
    "start_time": "2022-10-06T08:41:19.371Z"
   },
   {
    "duration": 27,
    "start_time": "2022-10-06T08:41:53.194Z"
   },
   {
    "duration": 56,
    "start_time": "2022-10-06T08:49:27.915Z"
   },
   {
    "duration": 13,
    "start_time": "2022-10-06T08:49:55.086Z"
   },
   {
    "duration": 73,
    "start_time": "2022-10-06T08:50:38.186Z"
   },
   {
    "duration": 14,
    "start_time": "2022-10-06T08:50:38.260Z"
   },
   {
    "duration": 29,
    "start_time": "2022-10-06T08:50:38.276Z"
   },
   {
    "duration": 9,
    "start_time": "2022-10-06T08:50:38.620Z"
   },
   {
    "duration": 32,
    "start_time": "2022-10-06T08:50:38.777Z"
   },
   {
    "duration": 3,
    "start_time": "2022-10-06T08:50:39.486Z"
   },
   {
    "duration": 8,
    "start_time": "2022-10-06T08:50:39.613Z"
   },
   {
    "duration": 7,
    "start_time": "2022-10-06T08:50:40.907Z"
   },
   {
    "duration": 11,
    "start_time": "2022-10-06T08:50:40.919Z"
   },
   {
    "duration": 3,
    "start_time": "2022-10-06T08:50:40.935Z"
   },
   {
    "duration": 37,
    "start_time": "2022-10-06T08:50:41.406Z"
   },
   {
    "duration": 9,
    "start_time": "2022-10-06T08:50:42.357Z"
   },
   {
    "duration": 5,
    "start_time": "2022-10-06T08:50:42.380Z"
   },
   {
    "duration": 13,
    "start_time": "2022-10-06T08:50:43.115Z"
   },
   {
    "duration": 28,
    "start_time": "2022-10-06T08:50:43.713Z"
   },
   {
    "duration": 16,
    "start_time": "2022-10-06T08:50:44.251Z"
   },
   {
    "duration": 3,
    "start_time": "2022-10-06T08:50:45.733Z"
   },
   {
    "duration": 9,
    "start_time": "2022-10-06T08:50:45.952Z"
   },
   {
    "duration": 6,
    "start_time": "2022-10-06T08:50:48.059Z"
   },
   {
    "duration": 4,
    "start_time": "2022-10-06T08:50:48.235Z"
   },
   {
    "duration": 21,
    "start_time": "2022-10-06T08:50:48.792Z"
   },
   {
    "duration": 23,
    "start_time": "2022-10-06T08:51:07.035Z"
   },
   {
    "duration": 29,
    "start_time": "2022-10-06T08:51:10.713Z"
   },
   {
    "duration": 11,
    "start_time": "2022-10-06T08:51:48.380Z"
   },
   {
    "duration": 13,
    "start_time": "2022-10-06T09:12:15.689Z"
   },
   {
    "duration": 155,
    "start_time": "2022-10-06T09:17:01.724Z"
   },
   {
    "duration": 52,
    "start_time": "2022-10-06T09:17:48.949Z"
   },
   {
    "duration": 68,
    "start_time": "2022-10-06T09:17:56.960Z"
   },
   {
    "duration": 138,
    "start_time": "2022-10-06T09:18:05.600Z"
   },
   {
    "duration": 10,
    "start_time": "2022-10-06T09:18:19.466Z"
   },
   {
    "duration": 11,
    "start_time": "2022-10-06T09:19:30.668Z"
   },
   {
    "duration": 69,
    "start_time": "2022-10-06T09:25:59.356Z"
   },
   {
    "duration": 21,
    "start_time": "2022-10-06T09:25:59.692Z"
   },
   {
    "duration": 16,
    "start_time": "2022-10-06T09:26:00.016Z"
   },
   {
    "duration": 9,
    "start_time": "2022-10-06T09:26:00.745Z"
   },
   {
    "duration": 31,
    "start_time": "2022-10-06T09:26:01.118Z"
   },
   {
    "duration": 3,
    "start_time": "2022-10-06T09:26:01.692Z"
   },
   {
    "duration": 8,
    "start_time": "2022-10-06T09:26:02.236Z"
   },
   {
    "duration": 5,
    "start_time": "2022-10-06T09:26:03.138Z"
   },
   {
    "duration": 6,
    "start_time": "2022-10-06T09:26:04.136Z"
   },
   {
    "duration": 5,
    "start_time": "2022-10-06T09:26:04.922Z"
   },
   {
    "duration": 30,
    "start_time": "2022-10-06T09:26:05.943Z"
   },
   {
    "duration": 11,
    "start_time": "2022-10-06T09:26:06.865Z"
   },
   {
    "duration": 4,
    "start_time": "2022-10-06T09:26:07.962Z"
   },
   {
    "duration": 12,
    "start_time": "2022-10-06T09:26:09.481Z"
   },
   {
    "duration": 19,
    "start_time": "2022-10-06T09:26:10.625Z"
   },
   {
    "duration": 16,
    "start_time": "2022-10-06T09:26:11.255Z"
   },
   {
    "duration": 3,
    "start_time": "2022-10-06T09:26:13.546Z"
   },
   {
    "duration": 9,
    "start_time": "2022-10-06T09:26:13.921Z"
   },
   {
    "duration": 6,
    "start_time": "2022-10-06T09:26:14.817Z"
   },
   {
    "duration": 5,
    "start_time": "2022-10-06T09:26:16.186Z"
   },
   {
    "duration": 8,
    "start_time": "2022-10-06T09:26:16.761Z"
   },
   {
    "duration": 16,
    "start_time": "2022-10-06T09:26:20.041Z"
   },
   {
    "duration": 3,
    "start_time": "2022-10-06T09:26:21.720Z"
   },
   {
    "duration": 31,
    "start_time": "2022-10-06T09:26:23.659Z"
   },
   {
    "duration": 1034,
    "start_time": "2022-10-06T09:36:23.458Z"
   },
   {
    "duration": 17,
    "start_time": "2022-10-06T09:36:40.557Z"
   },
   {
    "duration": 17,
    "start_time": "2022-10-06T09:37:57.259Z"
   },
   {
    "duration": 21,
    "start_time": "2022-10-06T09:39:52.987Z"
   },
   {
    "duration": 10,
    "start_time": "2022-10-06T09:40:15.519Z"
   },
   {
    "duration": 9,
    "start_time": "2022-10-06T09:40:27.522Z"
   },
   {
    "duration": 11,
    "start_time": "2022-10-06T09:40:39.577Z"
   },
   {
    "duration": 17,
    "start_time": "2022-10-06T09:41:56.252Z"
   },
   {
    "duration": 13,
    "start_time": "2022-10-06T09:43:09.056Z"
   },
   {
    "duration": 15,
    "start_time": "2022-10-06T09:43:21.822Z"
   },
   {
    "duration": 13,
    "start_time": "2022-10-06T09:45:30.230Z"
   },
   {
    "duration": 5,
    "start_time": "2022-10-06T09:50:35.929Z"
   },
   {
    "duration": 34,
    "start_time": "2022-10-06T09:55:17.781Z"
   },
   {
    "duration": 35,
    "start_time": "2022-10-06T09:55:33.090Z"
   },
   {
    "duration": 32,
    "start_time": "2022-10-06T10:01:07.120Z"
   },
   {
    "duration": 29,
    "start_time": "2022-10-06T10:13:10.650Z"
   },
   {
    "duration": 30,
    "start_time": "2022-10-06T10:15:30.400Z"
   },
   {
    "duration": 28,
    "start_time": "2022-10-06T10:15:35.598Z"
   },
   {
    "duration": 1816,
    "start_time": "2022-10-06T10:22:10.666Z"
   },
   {
    "duration": 192,
    "start_time": "2022-10-06T10:23:04.288Z"
   },
   {
    "duration": 67,
    "start_time": "2022-10-06T10:47:56.582Z"
   },
   {
    "duration": 18,
    "start_time": "2022-10-06T10:47:56.951Z"
   },
   {
    "duration": 21,
    "start_time": "2022-10-06T10:47:57.306Z"
   },
   {
    "duration": 10,
    "start_time": "2022-10-06T10:47:58.098Z"
   },
   {
    "duration": 32,
    "start_time": "2022-10-06T10:47:58.514Z"
   },
   {
    "duration": 3,
    "start_time": "2022-10-06T10:47:59.301Z"
   },
   {
    "duration": 8,
    "start_time": "2022-10-06T10:47:59.975Z"
   },
   {
    "duration": 5,
    "start_time": "2022-10-06T10:48:00.963Z"
   },
   {
    "duration": 6,
    "start_time": "2022-10-06T10:48:01.245Z"
   },
   {
    "duration": 4,
    "start_time": "2022-10-06T10:48:01.747Z"
   },
   {
    "duration": 34,
    "start_time": "2022-10-06T10:48:02.483Z"
   },
   {
    "duration": 9,
    "start_time": "2022-10-06T10:48:04.019Z"
   },
   {
    "duration": 4,
    "start_time": "2022-10-06T10:48:04.071Z"
   },
   {
    "duration": 12,
    "start_time": "2022-10-06T10:48:05.005Z"
   },
   {
    "duration": 19,
    "start_time": "2022-10-06T10:48:06.513Z"
   },
   {
    "duration": 19,
    "start_time": "2022-10-06T10:48:06.833Z"
   },
   {
    "duration": 4,
    "start_time": "2022-10-06T10:48:07.717Z"
   },
   {
    "duration": 9,
    "start_time": "2022-10-06T10:48:11.075Z"
   },
   {
    "duration": 20,
    "start_time": "2022-10-06T10:48:11.087Z"
   },
   {
    "duration": 4,
    "start_time": "2022-10-06T10:48:11.360Z"
   },
   {
    "duration": 11,
    "start_time": "2022-10-06T10:48:11.411Z"
   },
   {
    "duration": 28,
    "start_time": "2022-10-06T10:48:11.674Z"
   },
   {
    "duration": 139,
    "start_time": "2022-10-06T10:48:13.198Z"
   },
   {
    "duration": 32,
    "start_time": "2022-10-06T10:48:17.159Z"
   },
   {
    "duration": 130,
    "start_time": "2022-10-06T10:48:19.384Z"
   },
   {
    "duration": 31,
    "start_time": "2022-10-06T10:48:23.480Z"
   },
   {
    "duration": 116,
    "start_time": "2022-10-06T10:48:23.603Z"
   },
   {
    "duration": 93,
    "start_time": "2022-10-06T10:48:25.798Z"
   },
   {
    "duration": 24,
    "start_time": "2022-10-06T10:48:26.479Z"
   },
   {
    "duration": 32,
    "start_time": "2022-10-06T10:48:43.125Z"
   },
   {
    "duration": 110,
    "start_time": "2022-10-06T10:48:44.577Z"
   },
   {
    "duration": 31,
    "start_time": "2022-10-06T10:54:39.389Z"
   },
   {
    "duration": 116,
    "start_time": "2022-10-06T10:54:41.116Z"
   },
   {
    "duration": 500,
    "start_time": "2022-10-06T12:02:37.009Z"
   },
   {
    "duration": 23,
    "start_time": "2022-10-06T12:02:37.512Z"
   },
   {
    "duration": 15,
    "start_time": "2022-10-06T12:02:37.537Z"
   },
   {
    "duration": 22,
    "start_time": "2022-10-06T12:02:37.555Z"
   },
   {
    "duration": 48,
    "start_time": "2022-10-06T12:02:37.579Z"
   },
   {
    "duration": 3,
    "start_time": "2022-10-06T12:02:37.629Z"
   },
   {
    "duration": 23,
    "start_time": "2022-10-06T12:02:37.634Z"
   },
   {
    "duration": 11,
    "start_time": "2022-10-06T12:02:37.658Z"
   },
   {
    "duration": 30,
    "start_time": "2022-10-06T12:02:37.670Z"
   },
   {
    "duration": 15,
    "start_time": "2022-10-06T12:02:37.703Z"
   },
   {
    "duration": 33,
    "start_time": "2022-10-06T12:02:37.720Z"
   },
   {
    "duration": 9,
    "start_time": "2022-10-06T12:02:37.754Z"
   },
   {
    "duration": 10,
    "start_time": "2022-10-06T12:02:37.764Z"
   },
   {
    "duration": 28,
    "start_time": "2022-10-06T12:02:37.775Z"
   },
   {
    "duration": 33,
    "start_time": "2022-10-06T12:02:37.805Z"
   },
   {
    "duration": 18,
    "start_time": "2022-10-06T12:02:37.839Z"
   },
   {
    "duration": 4,
    "start_time": "2022-10-06T12:02:37.858Z"
   },
   {
    "duration": 39,
    "start_time": "2022-10-06T12:02:37.863Z"
   },
   {
    "duration": 25,
    "start_time": "2022-10-06T12:02:37.904Z"
   },
   {
    "duration": 14,
    "start_time": "2022-10-06T12:02:37.930Z"
   },
   {
    "duration": 32,
    "start_time": "2022-10-06T12:02:37.946Z"
   },
   {
    "duration": 36,
    "start_time": "2022-10-06T12:02:37.980Z"
   },
   {
    "duration": 851,
    "start_time": "2022-10-06T12:02:38.017Z"
   },
   {
    "duration": 23,
    "start_time": "2022-10-06T12:02:38.869Z"
   },
   {
    "duration": 140,
    "start_time": "2022-10-06T12:02:38.893Z"
   },
   {
    "duration": 23,
    "start_time": "2022-10-06T12:02:39.035Z"
   },
   {
    "duration": 123,
    "start_time": "2022-10-06T12:02:39.059Z"
   },
   {
    "duration": 31,
    "start_time": "2022-10-06T12:02:39.185Z"
   },
   {
    "duration": 119,
    "start_time": "2022-10-06T12:02:39.217Z"
   },
   {
    "duration": 71,
    "start_time": "2022-10-06T12:16:47.766Z"
   },
   {
    "duration": 117,
    "start_time": "2022-10-06T12:17:11.465Z"
   },
   {
    "duration": 118,
    "start_time": "2022-10-06T12:17:18.887Z"
   },
   {
    "duration": 81,
    "start_time": "2022-10-06T12:22:03.772Z"
   },
   {
    "duration": 1559,
    "start_time": "2022-10-06T15:45:37.397Z"
   },
   {
    "duration": 309,
    "start_time": "2022-10-06T15:46:13.973Z"
   },
   {
    "duration": 20,
    "start_time": "2022-10-06T15:46:14.443Z"
   },
   {
    "duration": 16,
    "start_time": "2022-10-06T15:46:14.882Z"
   },
   {
    "duration": 13,
    "start_time": "2022-10-06T15:46:15.763Z"
   },
   {
    "duration": 39,
    "start_time": "2022-10-06T15:46:16.173Z"
   },
   {
    "duration": 3,
    "start_time": "2022-10-06T15:46:16.837Z"
   },
   {
    "duration": 14,
    "start_time": "2022-10-06T15:46:17.243Z"
   },
   {
    "duration": 5,
    "start_time": "2022-10-06T15:46:17.838Z"
   },
   {
    "duration": 11,
    "start_time": "2022-10-06T15:46:18.205Z"
   },
   {
    "duration": 5,
    "start_time": "2022-10-06T15:46:18.610Z"
   },
   {
    "duration": 33,
    "start_time": "2022-10-06T15:46:19.199Z"
   },
   {
    "duration": 11,
    "start_time": "2022-10-06T15:46:19.588Z"
   },
   {
    "duration": 5,
    "start_time": "2022-10-06T15:46:20.283Z"
   },
   {
    "duration": 13,
    "start_time": "2022-10-06T15:46:21.291Z"
   },
   {
    "duration": 23,
    "start_time": "2022-10-06T15:46:21.749Z"
   },
   {
    "duration": 21,
    "start_time": "2022-10-06T15:46:21.957Z"
   },
   {
    "duration": 3,
    "start_time": "2022-10-06T15:46:22.644Z"
   },
   {
    "duration": 10,
    "start_time": "2022-10-06T15:46:22.938Z"
   },
   {
    "duration": 6,
    "start_time": "2022-10-06T15:46:23.477Z"
   },
   {
    "duration": 3,
    "start_time": "2022-10-06T15:46:23.975Z"
   },
   {
    "duration": 8,
    "start_time": "2022-10-06T15:46:24.269Z"
   },
   {
    "duration": 28,
    "start_time": "2022-10-06T15:46:25.493Z"
   },
   {
    "duration": 151,
    "start_time": "2022-10-06T15:46:25.837Z"
   },
   {
    "duration": 135,
    "start_time": "2022-10-06T15:47:33.606Z"
   },
   {
    "duration": 84,
    "start_time": "2022-10-06T15:47:48.493Z"
   },
   {
    "duration": 16,
    "start_time": "2022-10-06T15:47:48.849Z"
   },
   {
    "duration": 16,
    "start_time": "2022-10-06T15:47:49.134Z"
   },
   {
    "duration": 11,
    "start_time": "2022-10-06T15:47:49.921Z"
   },
   {
    "duration": 37,
    "start_time": "2022-10-06T15:47:50.212Z"
   },
   {
    "duration": 3,
    "start_time": "2022-10-06T15:47:50.693Z"
   },
   {
    "duration": 8,
    "start_time": "2022-10-06T15:47:51.013Z"
   },
   {
    "duration": 5,
    "start_time": "2022-10-06T15:47:51.508Z"
   },
   {
    "duration": 5,
    "start_time": "2022-10-06T15:47:52.053Z"
   },
   {
    "duration": 6,
    "start_time": "2022-10-06T15:47:52.356Z"
   },
   {
    "duration": 35,
    "start_time": "2022-10-06T15:47:52.814Z"
   },
   {
    "duration": 11,
    "start_time": "2022-10-06T15:47:53.132Z"
   },
   {
    "duration": 4,
    "start_time": "2022-10-06T15:47:53.690Z"
   },
   {
    "duration": 11,
    "start_time": "2022-10-06T15:47:54.556Z"
   },
   {
    "duration": 20,
    "start_time": "2022-10-06T15:47:55.132Z"
   },
   {
    "duration": 19,
    "start_time": "2022-10-06T15:47:55.333Z"
   },
   {
    "duration": 4,
    "start_time": "2022-10-06T15:47:56.411Z"
   },
   {
    "duration": 10,
    "start_time": "2022-10-06T15:47:57.083Z"
   },
   {
    "duration": 6,
    "start_time": "2022-10-06T15:47:57.948Z"
   },
   {
    "duration": 4,
    "start_time": "2022-10-06T15:47:59.173Z"
   },
   {
    "duration": 14,
    "start_time": "2022-10-06T15:47:59.608Z"
   },
   {
    "duration": 28,
    "start_time": "2022-10-06T15:48:01.375Z"
   },
   {
    "duration": 194,
    "start_time": "2022-10-06T15:48:07.333Z"
   },
   {
    "duration": 157,
    "start_time": "2022-10-06T15:49:38.574Z"
   },
   {
    "duration": 329,
    "start_time": "2022-10-06T15:50:08.431Z"
   },
   {
    "duration": 162,
    "start_time": "2022-10-06T15:50:51.284Z"
   },
   {
    "duration": 144,
    "start_time": "2022-10-06T15:51:02.949Z"
   },
   {
    "duration": 11,
    "start_time": "2022-10-06T15:59:18.384Z"
   },
   {
    "duration": 136,
    "start_time": "2022-10-06T15:59:38.878Z"
   },
   {
    "duration": 11,
    "start_time": "2022-10-06T16:07:12.071Z"
   },
   {
    "duration": 80,
    "start_time": "2022-10-06T16:07:22.911Z"
   },
   {
    "duration": 16,
    "start_time": "2022-10-06T16:07:23.251Z"
   },
   {
    "duration": 16,
    "start_time": "2022-10-06T16:07:23.528Z"
   },
   {
    "duration": 11,
    "start_time": "2022-10-06T16:07:24.362Z"
   },
   {
    "duration": 34,
    "start_time": "2022-10-06T16:07:24.841Z"
   },
   {
    "duration": 4,
    "start_time": "2022-10-06T16:07:25.423Z"
   },
   {
    "duration": 9,
    "start_time": "2022-10-06T16:07:25.843Z"
   },
   {
    "duration": 4,
    "start_time": "2022-10-06T16:07:26.503Z"
   },
   {
    "duration": 6,
    "start_time": "2022-10-06T16:07:26.861Z"
   },
   {
    "duration": 7,
    "start_time": "2022-10-06T16:07:27.301Z"
   },
   {
    "duration": 60,
    "start_time": "2022-10-06T16:07:27.883Z"
   },
   {
    "duration": 13,
    "start_time": "2022-10-06T16:07:28.481Z"
   },
   {
    "duration": 4,
    "start_time": "2022-10-06T16:07:29.396Z"
   },
   {
    "duration": 10,
    "start_time": "2022-10-06T16:07:30.110Z"
   },
   {
    "duration": 19,
    "start_time": "2022-10-06T16:07:30.603Z"
   },
   {
    "duration": 18,
    "start_time": "2022-10-06T16:07:30.799Z"
   },
   {
    "duration": 4,
    "start_time": "2022-10-06T16:07:31.403Z"
   },
   {
    "duration": 11,
    "start_time": "2022-10-06T16:07:31.574Z"
   },
   {
    "duration": 7,
    "start_time": "2022-10-06T16:07:31.959Z"
   },
   {
    "duration": 3,
    "start_time": "2022-10-06T16:07:32.391Z"
   },
   {
    "duration": 8,
    "start_time": "2022-10-06T16:07:32.648Z"
   },
   {
    "duration": 27,
    "start_time": "2022-10-06T16:07:33.961Z"
   },
   {
    "duration": 219,
    "start_time": "2022-10-06T16:07:34.431Z"
   },
   {
    "duration": 136,
    "start_time": "2022-10-06T16:07:36.122Z"
   },
   {
    "duration": 26,
    "start_time": "2022-10-06T16:07:41.564Z"
   },
   {
    "duration": 129,
    "start_time": "2022-10-06T16:07:42.585Z"
   },
   {
    "duration": 3,
    "start_time": "2022-10-06T16:18:00.968Z"
   },
   {
    "duration": 10,
    "start_time": "2022-10-06T16:18:01.630Z"
   },
   {
    "duration": 30,
    "start_time": "2022-10-06T16:22:16.098Z"
   },
   {
    "duration": 105,
    "start_time": "2022-10-06T16:23:46.529Z"
   },
   {
    "duration": 81,
    "start_time": "2022-10-06T16:29:40.250Z"
   },
   {
    "duration": 23,
    "start_time": "2022-10-06T16:29:40.917Z"
   },
   {
    "duration": 17,
    "start_time": "2022-10-06T16:29:41.532Z"
   },
   {
    "duration": 10,
    "start_time": "2022-10-06T16:29:42.757Z"
   },
   {
    "duration": 46,
    "start_time": "2022-10-06T16:29:43.346Z"
   },
   {
    "duration": 4,
    "start_time": "2022-10-06T16:29:44.249Z"
   },
   {
    "duration": 9,
    "start_time": "2022-10-06T16:29:44.849Z"
   },
   {
    "duration": 7,
    "start_time": "2022-10-06T16:29:45.779Z"
   },
   {
    "duration": 7,
    "start_time": "2022-10-06T16:29:46.381Z"
   },
   {
    "duration": 5,
    "start_time": "2022-10-06T16:29:46.979Z"
   },
   {
    "duration": 32,
    "start_time": "2022-10-06T16:29:47.885Z"
   },
   {
    "duration": 12,
    "start_time": "2022-10-06T16:29:48.489Z"
   },
   {
    "duration": 4,
    "start_time": "2022-10-06T16:29:49.956Z"
   },
   {
    "duration": 11,
    "start_time": "2022-10-06T16:29:51.516Z"
   },
   {
    "duration": 20,
    "start_time": "2022-10-06T16:29:52.004Z"
   },
   {
    "duration": 20,
    "start_time": "2022-10-06T16:29:52.196Z"
   },
   {
    "duration": 5,
    "start_time": "2022-10-06T16:29:52.965Z"
   },
   {
    "duration": 12,
    "start_time": "2022-10-06T16:29:53.378Z"
   },
   {
    "duration": 6,
    "start_time": "2022-10-06T16:29:53.917Z"
   },
   {
    "duration": 4,
    "start_time": "2022-10-06T16:29:54.524Z"
   },
   {
    "duration": 10,
    "start_time": "2022-10-06T16:29:54.845Z"
   },
   {
    "duration": 28,
    "start_time": "2022-10-06T16:29:56.566Z"
   },
   {
    "duration": 161,
    "start_time": "2022-10-06T16:29:57.603Z"
   },
   {
    "duration": 151,
    "start_time": "2022-10-06T16:29:58.606Z"
   },
   {
    "duration": 23,
    "start_time": "2022-10-06T16:30:05.245Z"
   },
   {
    "duration": 141,
    "start_time": "2022-10-06T16:30:06.197Z"
   },
   {
    "duration": 4,
    "start_time": "2022-10-06T16:30:07.181Z"
   },
   {
    "duration": 14,
    "start_time": "2022-10-06T16:30:08.365Z"
   },
   {
    "duration": 42,
    "start_time": "2022-10-06T16:30:09.454Z"
   },
   {
    "duration": 134,
    "start_time": "2022-10-06T16:30:10.935Z"
   },
   {
    "duration": 135,
    "start_time": "2022-10-06T16:37:08.346Z"
   },
   {
    "duration": 86,
    "start_time": "2022-10-06T16:49:37.049Z"
   },
   {
    "duration": 14,
    "start_time": "2022-10-06T16:49:39.331Z"
   },
   {
    "duration": 17,
    "start_time": "2022-10-06T16:49:45.791Z"
   },
   {
    "duration": 11,
    "start_time": "2022-10-06T16:49:52.046Z"
   },
   {
    "duration": 34,
    "start_time": "2022-10-06T16:49:52.369Z"
   },
   {
    "duration": 3,
    "start_time": "2022-10-06T16:49:52.851Z"
   },
   {
    "duration": 9,
    "start_time": "2022-10-06T16:49:53.181Z"
   },
   {
    "duration": 5,
    "start_time": "2022-10-06T16:49:53.671Z"
   },
   {
    "duration": 6,
    "start_time": "2022-10-06T16:49:54.013Z"
   },
   {
    "duration": 6,
    "start_time": "2022-10-06T16:49:54.349Z"
   },
   {
    "duration": 37,
    "start_time": "2022-10-06T16:49:54.889Z"
   },
   {
    "duration": 11,
    "start_time": "2022-10-06T16:49:55.202Z"
   },
   {
    "duration": 4,
    "start_time": "2022-10-06T16:49:55.710Z"
   },
   {
    "duration": 12,
    "start_time": "2022-10-06T16:49:56.248Z"
   },
   {
    "duration": 21,
    "start_time": "2022-10-06T16:49:56.610Z"
   },
   {
    "duration": 29,
    "start_time": "2022-10-06T16:49:56.742Z"
   },
   {
    "duration": 5,
    "start_time": "2022-10-06T16:49:57.294Z"
   },
   {
    "duration": 14,
    "start_time": "2022-10-06T16:49:57.460Z"
   },
   {
    "duration": 7,
    "start_time": "2022-10-06T16:49:57.863Z"
   },
   {
    "duration": 4,
    "start_time": "2022-10-06T16:49:58.194Z"
   },
   {
    "duration": 10,
    "start_time": "2022-10-06T16:49:58.362Z"
   },
   {
    "duration": 28,
    "start_time": "2022-10-06T16:49:59.131Z"
   },
   {
    "duration": 154,
    "start_time": "2022-10-06T16:49:59.301Z"
   },
   {
    "duration": 146,
    "start_time": "2022-10-06T16:49:59.813Z"
   },
   {
    "duration": 24,
    "start_time": "2022-10-06T16:50:02.372Z"
   },
   {
    "duration": 136,
    "start_time": "2022-10-06T16:50:02.714Z"
   },
   {
    "duration": 3,
    "start_time": "2022-10-06T16:50:03.027Z"
   },
   {
    "duration": 9,
    "start_time": "2022-10-06T16:50:03.254Z"
   },
   {
    "duration": 25,
    "start_time": "2022-10-06T16:50:03.494Z"
   },
   {
    "duration": 202,
    "start_time": "2022-10-06T16:50:03.702Z"
   },
   {
    "duration": 24,
    "start_time": "2022-10-06T16:50:05.374Z"
   },
   {
    "duration": 108,
    "start_time": "2022-10-06T16:50:05.884Z"
   },
   {
    "duration": 140,
    "start_time": "2022-10-06T16:50:06.352Z"
   },
   {
    "duration": 122,
    "start_time": "2022-10-06T16:50:06.946Z"
   },
   {
    "duration": 23,
    "start_time": "2022-10-06T16:50:10.646Z"
   },
   {
    "duration": 108,
    "start_time": "2022-10-06T16:50:10.997Z"
   },
   {
    "duration": 75,
    "start_time": "2022-10-06T17:15:44.557Z"
   },
   {
    "duration": 19,
    "start_time": "2022-10-06T17:15:44.887Z"
   },
   {
    "duration": 16,
    "start_time": "2022-10-06T17:15:45.263Z"
   },
   {
    "duration": 11,
    "start_time": "2022-10-06T17:15:46.034Z"
   },
   {
    "duration": 38,
    "start_time": "2022-10-06T17:15:46.596Z"
   },
   {
    "duration": 4,
    "start_time": "2022-10-06T17:15:47.138Z"
   },
   {
    "duration": 10,
    "start_time": "2022-10-06T17:15:47.717Z"
   },
   {
    "duration": 5,
    "start_time": "2022-10-06T17:15:48.226Z"
   },
   {
    "duration": 7,
    "start_time": "2022-10-06T17:15:48.595Z"
   },
   {
    "duration": 5,
    "start_time": "2022-10-06T17:15:48.939Z"
   },
   {
    "duration": 35,
    "start_time": "2022-10-06T17:15:49.525Z"
   },
   {
    "duration": 11,
    "start_time": "2022-10-06T17:15:49.885Z"
   },
   {
    "duration": 4,
    "start_time": "2022-10-06T17:15:50.499Z"
   },
   {
    "duration": 12,
    "start_time": "2022-10-06T17:15:51.036Z"
   },
   {
    "duration": 21,
    "start_time": "2022-10-06T17:15:51.446Z"
   },
   {
    "duration": 21,
    "start_time": "2022-10-06T17:15:51.618Z"
   },
   {
    "duration": 4,
    "start_time": "2022-10-06T17:15:52.204Z"
   },
   {
    "duration": 17,
    "start_time": "2022-10-06T17:15:52.394Z"
   },
   {
    "duration": 8,
    "start_time": "2022-10-06T17:15:52.779Z"
   },
   {
    "duration": 5,
    "start_time": "2022-10-06T17:15:53.139Z"
   },
   {
    "duration": 16,
    "start_time": "2022-10-06T17:15:53.358Z"
   },
   {
    "duration": 38,
    "start_time": "2022-10-06T17:15:54.224Z"
   },
   {
    "duration": 169,
    "start_time": "2022-10-06T17:15:54.477Z"
   },
   {
    "duration": 149,
    "start_time": "2022-10-06T17:15:54.960Z"
   },
   {
    "duration": 26,
    "start_time": "2022-10-06T17:15:56.777Z"
   },
   {
    "duration": 175,
    "start_time": "2022-10-06T17:15:57.089Z"
   },
   {
    "duration": 3,
    "start_time": "2022-10-06T17:15:57.709Z"
   },
   {
    "duration": 14,
    "start_time": "2022-10-06T17:15:58.309Z"
   },
   {
    "duration": 32,
    "start_time": "2022-10-06T17:15:58.847Z"
   },
   {
    "duration": 220,
    "start_time": "2022-10-06T17:15:59.495Z"
   },
   {
    "duration": 32,
    "start_time": "2022-10-06T17:16:04.023Z"
   },
   {
    "duration": 119,
    "start_time": "2022-10-06T17:16:04.338Z"
   },
   {
    "duration": 141,
    "start_time": "2022-10-06T17:16:05.069Z"
   },
   {
    "duration": 31,
    "start_time": "2022-10-06T17:16:06.796Z"
   },
   {
    "duration": 124,
    "start_time": "2022-10-06T17:16:07.117Z"
   },
   {
    "duration": 674,
    "start_time": "2022-10-07T06:48:10.224Z"
   },
   {
    "duration": 20,
    "start_time": "2022-10-07T06:48:10.899Z"
   },
   {
    "duration": 13,
    "start_time": "2022-10-07T06:48:10.969Z"
   },
   {
    "duration": 9,
    "start_time": "2022-10-07T06:48:11.705Z"
   },
   {
    "duration": 38,
    "start_time": "2022-10-07T06:48:12.058Z"
   },
   {
    "duration": 4,
    "start_time": "2022-10-07T06:48:12.587Z"
   },
   {
    "duration": 8,
    "start_time": "2022-10-07T06:48:12.953Z"
   },
   {
    "duration": 4,
    "start_time": "2022-10-07T06:48:13.501Z"
   },
   {
    "duration": 8,
    "start_time": "2022-10-07T06:48:13.899Z"
   },
   {
    "duration": 4,
    "start_time": "2022-10-07T06:48:14.260Z"
   },
   {
    "duration": 31,
    "start_time": "2022-10-07T06:48:14.838Z"
   },
   {
    "duration": 9,
    "start_time": "2022-10-07T06:48:15.207Z"
   },
   {
    "duration": 4,
    "start_time": "2022-10-07T06:48:15.748Z"
   },
   {
    "duration": 10,
    "start_time": "2022-10-07T06:48:16.343Z"
   },
   {
    "duration": 18,
    "start_time": "2022-10-07T06:48:16.712Z"
   },
   {
    "duration": 15,
    "start_time": "2022-10-07T06:48:16.897Z"
   },
   {
    "duration": 4,
    "start_time": "2022-10-07T06:48:17.421Z"
   },
   {
    "duration": 9,
    "start_time": "2022-10-07T06:48:17.607Z"
   },
   {
    "duration": 5,
    "start_time": "2022-10-07T06:48:17.990Z"
   },
   {
    "duration": 3,
    "start_time": "2022-10-07T06:48:18.397Z"
   },
   {
    "duration": 8,
    "start_time": "2022-10-07T06:48:18.579Z"
   },
   {
    "duration": 28,
    "start_time": "2022-10-07T06:48:19.423Z"
   },
   {
    "duration": 977,
    "start_time": "2022-10-07T06:48:19.643Z"
   },
   {
    "duration": 123,
    "start_time": "2022-10-07T06:48:20.622Z"
   },
   {
    "duration": 25,
    "start_time": "2022-10-07T06:48:24.754Z"
   },
   {
    "duration": 171,
    "start_time": "2022-10-07T06:48:25.340Z"
   },
   {
    "duration": 3,
    "start_time": "2022-10-07T06:48:25.541Z"
   },
   {
    "duration": 8,
    "start_time": "2022-10-07T06:48:26.320Z"
   },
   {
    "duration": 27,
    "start_time": "2022-10-07T06:48:26.861Z"
   },
   {
    "duration": 118,
    "start_time": "2022-10-07T06:48:27.346Z"
   },
   {
    "duration": 20,
    "start_time": "2022-10-07T06:48:31.353Z"
   },
   {
    "duration": 96,
    "start_time": "2022-10-07T06:48:32.055Z"
   },
   {
    "duration": 117,
    "start_time": "2022-10-07T06:48:33.989Z"
   },
   {
    "duration": 24,
    "start_time": "2022-10-07T06:49:05.550Z"
   },
   {
    "duration": 135,
    "start_time": "2022-10-07T06:49:05.833Z"
   },
   {
    "duration": 156,
    "start_time": "2022-10-07T06:49:07.414Z"
   },
   {
    "duration": 71,
    "start_time": "2022-10-07T07:02:35.772Z"
   },
   {
    "duration": 15,
    "start_time": "2022-10-07T07:02:36.078Z"
   },
   {
    "duration": 14,
    "start_time": "2022-10-07T07:02:36.382Z"
   },
   {
    "duration": 9,
    "start_time": "2022-10-07T07:02:37.024Z"
   },
   {
    "duration": 46,
    "start_time": "2022-10-07T07:02:37.354Z"
   },
   {
    "duration": 3,
    "start_time": "2022-10-07T07:02:37.842Z"
   },
   {
    "duration": 8,
    "start_time": "2022-10-07T07:02:38.154Z"
   },
   {
    "duration": 5,
    "start_time": "2022-10-07T07:02:38.664Z"
   },
   {
    "duration": 9,
    "start_time": "2022-10-07T07:02:39.009Z"
   },
   {
    "duration": 5,
    "start_time": "2022-10-07T07:02:39.339Z"
   },
   {
    "duration": 36,
    "start_time": "2022-10-07T07:02:39.925Z"
   },
   {
    "duration": 13,
    "start_time": "2022-10-07T07:02:40.272Z"
   },
   {
    "duration": 3,
    "start_time": "2022-10-07T07:02:40.881Z"
   },
   {
    "duration": 10,
    "start_time": "2022-10-07T07:02:41.487Z"
   },
   {
    "duration": 19,
    "start_time": "2022-10-07T07:02:41.942Z"
   },
   {
    "duration": 16,
    "start_time": "2022-10-07T07:02:42.154Z"
   },
   {
    "duration": 3,
    "start_time": "2022-10-07T07:02:42.859Z"
   },
   {
    "duration": 9,
    "start_time": "2022-10-07T07:02:43.080Z"
   },
   {
    "duration": 6,
    "start_time": "2022-10-07T07:02:43.558Z"
   },
   {
    "duration": 4,
    "start_time": "2022-10-07T07:02:44.036Z"
   },
   {
    "duration": 8,
    "start_time": "2022-10-07T07:02:44.294Z"
   },
   {
    "duration": 23,
    "start_time": "2022-10-07T07:02:45.294Z"
   },
   {
    "duration": 129,
    "start_time": "2022-10-07T07:02:45.564Z"
   },
   {
    "duration": 120,
    "start_time": "2022-10-07T07:02:46.335Z"
   },
   {
    "duration": 20,
    "start_time": "2022-10-07T07:02:48.873Z"
   },
   {
    "duration": 130,
    "start_time": "2022-10-07T07:02:49.127Z"
   },
   {
    "duration": 3,
    "start_time": "2022-10-07T07:02:49.379Z"
   },
   {
    "duration": 10,
    "start_time": "2022-10-07T07:02:49.667Z"
   },
   {
    "duration": 33,
    "start_time": "2022-10-07T07:02:49.938Z"
   },
   {
    "duration": 121,
    "start_time": "2022-10-07T07:02:50.216Z"
   },
   {
    "duration": 21,
    "start_time": "2022-10-07T07:02:53.866Z"
   },
   {
    "duration": 103,
    "start_time": "2022-10-07T07:02:54.266Z"
   },
   {
    "duration": 106,
    "start_time": "2022-10-07T07:02:54.994Z"
   },
   {
    "duration": 25,
    "start_time": "2022-10-07T07:02:57.285Z"
   },
   {
    "duration": 123,
    "start_time": "2022-10-07T07:02:57.662Z"
   },
   {
    "duration": 102,
    "start_time": "2022-10-07T07:02:58.459Z"
   }
  ],
  "colab": {
   "name": "dpp_template_part2.ipynb",
   "provenance": []
  },
  "kernelspec": {
   "display_name": "Python 3 (ipykernel)",
   "language": "python",
   "name": "python3"
  },
  "language_info": {
   "codemirror_mode": {
    "name": "ipython",
    "version": 3
   },
   "file_extension": ".py",
   "mimetype": "text/x-python",
   "name": "python",
   "nbconvert_exporter": "python",
   "pygments_lexer": "ipython3",
   "version": "3.11.5"
  },
  "toc": {
   "base_numbering": 1,
   "nav_menu": {},
   "number_sections": true,
   "sideBar": true,
   "skip_h1_title": true,
   "title_cell": "Table of Contents",
   "title_sidebar": "Contents",
   "toc_cell": false,
   "toc_position": {},
   "toc_section_display": true,
   "toc_window_display": false
  }
 },
 "nbformat": 4,
 "nbformat_minor": 5
}
