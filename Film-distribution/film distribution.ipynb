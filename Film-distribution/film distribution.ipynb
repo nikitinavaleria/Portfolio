{
 "cells": [
  {
   "cell_type": "markdown",
   "metadata": {
    "id": "sIfNaMOxgFyK"
   },
   "source": [
    "# Исследование данных о российском кинопрокате\n",
    "\n"
   ]
  },
  {
   "cell_type": "markdown",
   "metadata": {},
   "source": [
    "\n",
    "**Цель:** выявление текущих трендов рынка российского кинопроката.\n",
    "\n",
    "**Задача:** изучить рынок российского кинопроката, найти взаимосвязи, посмотреть, насколько фильмы с государственной поддержкой интересны зрителю.\n",
    "\n",
    "Данные были взяты с портала открытых данных Министерства культуры. Набор данных содержит информацию о прокатных удостоверениях, сборах и государственной поддержке фильмов, а также информацию с сайта КиноПоиск.\n",
    "\n",
    "**Таблица mkrf_movies** содержит информацию из реестра прокатных удостоверений. У одного фильма может быть несколько прокатных удостоверений.\n",
    "\n",
    "title — название фильма;\n",
    "\n",
    "puNumber — номер прокатного удостоверения;\n",
    "\n",
    "show_start_date — дата премьеры фильма;\n",
    "\n",
    "type — тип фильма;\n",
    "\n",
    "film_studio — студия-производитель;\n",
    "\n",
    "production_country — страна-производитель;\n",
    "\n",
    "director — режиссёр;\n",
    "\n",
    "producer — продюсер;\n",
    "\n",
    "age_restriction — возрастная категория;\n",
    "\n",
    "refundable_support — объём возвратных средств государственной поддержки;\n",
    "\n",
    "nonrefundable_support — объём невозвратных средств государственной поддержки;\n",
    "\n",
    "financing_source — источник государственного финансирования;\n",
    "\n",
    "budget — общий бюджет фильма;\n",
    "\n",
    "ratings — рейтинг фильма на КиноПоиске;\n",
    "\n",
    "genres — жанр фильма.\n",
    "\n",
    "Cтолбец budget уже включает в себя полный объём государственной поддержки. Данные в этом столбце указаны только для тех фильмов, которые получили государственную поддержку.\n",
    "\n",
    "\n",
    "**Таблица mkrf_shows** содержит сведения о показах фильмов в российских кинотеатрах.\n",
    "\n",
    "puNumber — номер прокатного удостоверения;\n",
    "\n",
    "box_office — сборы в рублях.\n",
    "\n",
    "\n",
    "\n",
    "**План работы**\n",
    "1. Знакомство с данными\n",
    "2. Предобработка данных\n",
    "3. Исследовательский анализ данных\n",
    "4. Выводы"
   ]
  },
  {
   "cell_type": "code",
   "execution_count": 310,
   "metadata": {},
   "outputs": [],
   "source": [
    "#импортируем нужные библиотеки для работы\n",
    "import pandas as pd\n",
    "import matplotlib.pyplot as plt\n",
    "import warnings"
   ]
  },
  {
   "cell_type": "markdown",
   "metadata": {},
   "source": [
    "## Знакомство с данными"
   ]
  },
  {
   "cell_type": "code",
   "execution_count": 311,
   "metadata": {},
   "outputs": [
    {
     "data": {
      "text/html": [
       "<div>\n",
       "<style scoped>\n",
       "    .dataframe tbody tr th:only-of-type {\n",
       "        vertical-align: middle;\n",
       "    }\n",
       "\n",
       "    .dataframe tbody tr th {\n",
       "        vertical-align: top;\n",
       "    }\n",
       "\n",
       "    .dataframe thead th {\n",
       "        text-align: right;\n",
       "    }\n",
       "</style>\n",
       "<table border=\"1\" class=\"dataframe\">\n",
       "  <thead>\n",
       "    <tr style=\"text-align: right;\">\n",
       "      <th></th>\n",
       "      <th>title</th>\n",
       "      <th>puNumber</th>\n",
       "      <th>show_start_date</th>\n",
       "      <th>type</th>\n",
       "      <th>film_studio</th>\n",
       "      <th>production_country</th>\n",
       "      <th>director</th>\n",
       "      <th>producer</th>\n",
       "      <th>age_restriction</th>\n",
       "      <th>refundable_support</th>\n",
       "      <th>nonrefundable_support</th>\n",
       "      <th>budget</th>\n",
       "      <th>financing_source</th>\n",
       "      <th>ratings</th>\n",
       "      <th>genres</th>\n",
       "    </tr>\n",
       "  </thead>\n",
       "  <tbody>\n",
       "    <tr>\n",
       "      <th>0</th>\n",
       "      <td>Открытый простор</td>\n",
       "      <td>221048915</td>\n",
       "      <td>2015-11-27T12:00:00.000Z</td>\n",
       "      <td>Художественный</td>\n",
       "      <td>Тачстоун Пикчерз, Кобальт Пикчерз, Бикон Пикче...</td>\n",
       "      <td>США</td>\n",
       "      <td>Кевин Костнер</td>\n",
       "      <td>Дэвид Валдес, Кевин Костнер, Джейк Эбертс</td>\n",
       "      <td>«18+» - запрещено для детей</td>\n",
       "      <td>NaN</td>\n",
       "      <td>NaN</td>\n",
       "      <td>NaN</td>\n",
       "      <td>NaN</td>\n",
       "      <td>7.2</td>\n",
       "      <td>боевик,драма,мелодрама</td>\n",
       "    </tr>\n",
       "    <tr>\n",
       "      <th>1</th>\n",
       "      <td>Особо важное задание</td>\n",
       "      <td>111013716</td>\n",
       "      <td>2016-09-13T12:00:00.000Z</td>\n",
       "      <td>Художественный</td>\n",
       "      <td>Киностудия \"Мосфильм\"</td>\n",
       "      <td>СССР</td>\n",
       "      <td>Е.Матвеев</td>\n",
       "      <td>NaN</td>\n",
       "      <td>«6+» - для детей старше 6 лет</td>\n",
       "      <td>NaN</td>\n",
       "      <td>NaN</td>\n",
       "      <td>NaN</td>\n",
       "      <td>NaN</td>\n",
       "      <td>6.6</td>\n",
       "      <td>драма,военный</td>\n",
       "    </tr>\n",
       "    <tr>\n",
       "      <th>2</th>\n",
       "      <td>Особо опасен</td>\n",
       "      <td>221038416</td>\n",
       "      <td>2016-10-10T12:00:00.000Z</td>\n",
       "      <td>Художественный</td>\n",
       "      <td>Юниверсал Пикчерз, Кикстарт Продакшнз, Марк Пл...</td>\n",
       "      <td>США</td>\n",
       "      <td>Тимур Бекмамбетов</td>\n",
       "      <td>Джим Лемли, Джейсон Нетер, Марк Е.Платт, Яйн Смит</td>\n",
       "      <td>«18+» - запрещено для детей</td>\n",
       "      <td>NaN</td>\n",
       "      <td>NaN</td>\n",
       "      <td>NaN</td>\n",
       "      <td>NaN</td>\n",
       "      <td>6.8</td>\n",
       "      <td>фантастика,боевик,триллер</td>\n",
       "    </tr>\n",
       "    <tr>\n",
       "      <th>3</th>\n",
       "      <td>Особо опасен</td>\n",
       "      <td>221026916</td>\n",
       "      <td>2016-06-10T12:00:00.000Z</td>\n",
       "      <td>Художественный</td>\n",
       "      <td>Юниверсал Пикчерз, Кикстарт Продакшнз, Марк Пл...</td>\n",
       "      <td>США</td>\n",
       "      <td>Тимур Бекмамбетов</td>\n",
       "      <td>Джим Лемли, Джейсон Нетер, Марк Е.Платт, Яйн Смит</td>\n",
       "      <td>«18+» - запрещено для детей</td>\n",
       "      <td>NaN</td>\n",
       "      <td>NaN</td>\n",
       "      <td>NaN</td>\n",
       "      <td>NaN</td>\n",
       "      <td>6.8</td>\n",
       "      <td>фантастика,боевик,триллер</td>\n",
       "    </tr>\n",
       "    <tr>\n",
       "      <th>4</th>\n",
       "      <td>Особо опасен</td>\n",
       "      <td>221030815</td>\n",
       "      <td>2015-07-29T12:00:00.000Z</td>\n",
       "      <td>Художественный</td>\n",
       "      <td>Юниверсал Пикчерз, Кикстарт Продакшнз, Марк Пл...</td>\n",
       "      <td>США</td>\n",
       "      <td>Тимур Бекмамбетов</td>\n",
       "      <td>Джим Лемли, Джейсон Нетер, Марк Е.Платт, Яйн Смит</td>\n",
       "      <td>«18+» - запрещено для детей</td>\n",
       "      <td>NaN</td>\n",
       "      <td>NaN</td>\n",
       "      <td>NaN</td>\n",
       "      <td>NaN</td>\n",
       "      <td>6.8</td>\n",
       "      <td>фантастика,боевик,триллер</td>\n",
       "    </tr>\n",
       "  </tbody>\n",
       "</table>\n",
       "</div>"
      ],
      "text/plain": [
       "                  title   puNumber           show_start_date            type  \\\n",
       "0      Открытый простор  221048915  2015-11-27T12:00:00.000Z  Художественный   \n",
       "1  Особо важное задание  111013716  2016-09-13T12:00:00.000Z  Художественный   \n",
       "2          Особо опасен  221038416  2016-10-10T12:00:00.000Z  Художественный   \n",
       "3          Особо опасен  221026916  2016-06-10T12:00:00.000Z  Художественный   \n",
       "4          Особо опасен  221030815  2015-07-29T12:00:00.000Z  Художественный   \n",
       "\n",
       "                                         film_studio production_country  \\\n",
       "0  Тачстоун Пикчерз, Кобальт Пикчерз, Бикон Пикче...                США   \n",
       "1                              Киностудия \"Мосфильм\"               СССР   \n",
       "2  Юниверсал Пикчерз, Кикстарт Продакшнз, Марк Пл...                США   \n",
       "3  Юниверсал Пикчерз, Кикстарт Продакшнз, Марк Пл...                США   \n",
       "4  Юниверсал Пикчерз, Кикстарт Продакшнз, Марк Пл...                США   \n",
       "\n",
       "            director                                           producer  \\\n",
       "0      Кевин Костнер          Дэвид Валдес, Кевин Костнер, Джейк Эбертс   \n",
       "1          Е.Матвеев                                                NaN   \n",
       "2  Тимур Бекмамбетов  Джим Лемли, Джейсон Нетер, Марк Е.Платт, Яйн Смит   \n",
       "3  Тимур Бекмамбетов  Джим Лемли, Джейсон Нетер, Марк Е.Платт, Яйн Смит   \n",
       "4  Тимур Бекмамбетов  Джим Лемли, Джейсон Нетер, Марк Е.Платт, Яйн Смит   \n",
       "\n",
       "                 age_restriction  refundable_support  nonrefundable_support  \\\n",
       "0    «18+» - запрещено для детей                 NaN                    NaN   \n",
       "1  «6+» - для детей старше 6 лет                 NaN                    NaN   \n",
       "2    «18+» - запрещено для детей                 NaN                    NaN   \n",
       "3    «18+» - запрещено для детей                 NaN                    NaN   \n",
       "4    «18+» - запрещено для детей                 NaN                    NaN   \n",
       "\n",
       "   budget financing_source ratings                     genres  \n",
       "0     NaN              NaN     7.2     боевик,драма,мелодрама  \n",
       "1     NaN              NaN     6.6              драма,военный  \n",
       "2     NaN              NaN     6.8  фантастика,боевик,триллер  \n",
       "3     NaN              NaN     6.8  фантастика,боевик,триллер  \n",
       "4     NaN              NaN     6.8  фантастика,боевик,триллер  "
      ]
     },
     "execution_count": 311,
     "metadata": {},
     "output_type": "execute_result"
    }
   ],
   "source": [
    "#откроем первый файл\n",
    "data_movies = pd.read_csv('./mkrf_movies.csv', sep = ',')\n",
    "data_movies.head(5)"
   ]
  },
  {
   "cell_type": "code",
   "execution_count": 312,
   "metadata": {},
   "outputs": [
    {
     "name": "stdout",
     "output_type": "stream",
     "text": [
      "<class 'pandas.core.frame.DataFrame'>\n",
      "RangeIndex: 7486 entries, 0 to 7485\n",
      "Data columns (total 15 columns):\n",
      " #   Column                 Non-Null Count  Dtype  \n",
      "---  ------                 --------------  -----  \n",
      " 0   title                  7486 non-null   object \n",
      " 1   puNumber               7486 non-null   object \n",
      " 2   show_start_date        7486 non-null   object \n",
      " 3   type                   7486 non-null   object \n",
      " 4   film_studio            7468 non-null   object \n",
      " 5   production_country     7484 non-null   object \n",
      " 6   director               7477 non-null   object \n",
      " 7   producer               6918 non-null   object \n",
      " 8   age_restriction        7486 non-null   object \n",
      " 9   refundable_support     332 non-null    float64\n",
      " 10  nonrefundable_support  332 non-null    float64\n",
      " 11  budget                 332 non-null    float64\n",
      " 12  financing_source       332 non-null    object \n",
      " 13  ratings                6519 non-null   object \n",
      " 14  genres                 6510 non-null   object \n",
      "dtypes: float64(3), object(12)\n",
      "memory usage: 877.4+ KB\n"
     ]
    }
   ],
   "source": [
    "#получим информацию о первом файле\n",
    "data_movies.info()"
   ]
  },
  {
   "cell_type": "code",
   "execution_count": 313,
   "metadata": {},
   "outputs": [],
   "source": [
    "#изменим отсутсвующие значения в puNumber\n",
    "data_movies['puNumber'] = data_movies['puNumber'].replace('нет', 0)\n",
    "\n",
    "#изменим тип данных на целочисленный\n",
    "data_movies['puNumber'] = data_movies['puNumber'].astype('int')"
   ]
  },
  {
   "cell_type": "code",
   "execution_count": 314,
   "metadata": {},
   "outputs": [
    {
     "data": {
      "text/html": [
       "<div>\n",
       "<style scoped>\n",
       "    .dataframe tbody tr th:only-of-type {\n",
       "        vertical-align: middle;\n",
       "    }\n",
       "\n",
       "    .dataframe tbody tr th {\n",
       "        vertical-align: top;\n",
       "    }\n",
       "\n",
       "    .dataframe thead th {\n",
       "        text-align: right;\n",
       "    }\n",
       "</style>\n",
       "<table border=\"1\" class=\"dataframe\">\n",
       "  <thead>\n",
       "    <tr style=\"text-align: right;\">\n",
       "      <th></th>\n",
       "      <th>puNumber</th>\n",
       "      <th>box_office</th>\n",
       "    </tr>\n",
       "  </thead>\n",
       "  <tbody>\n",
       "    <tr>\n",
       "      <th>0</th>\n",
       "      <td>111000113</td>\n",
       "      <td>2.450000e+03</td>\n",
       "    </tr>\n",
       "    <tr>\n",
       "      <th>1</th>\n",
       "      <td>111000115</td>\n",
       "      <td>6.104000e+04</td>\n",
       "    </tr>\n",
       "    <tr>\n",
       "      <th>2</th>\n",
       "      <td>111000116</td>\n",
       "      <td>1.530300e+08</td>\n",
       "    </tr>\n",
       "    <tr>\n",
       "      <th>3</th>\n",
       "      <td>111000117</td>\n",
       "      <td>1.226096e+07</td>\n",
       "    </tr>\n",
       "    <tr>\n",
       "      <th>4</th>\n",
       "      <td>111000118</td>\n",
       "      <td>1.636841e+08</td>\n",
       "    </tr>\n",
       "    <tr>\n",
       "      <th>5</th>\n",
       "      <td>111000119</td>\n",
       "      <td>4.293650e+06</td>\n",
       "    </tr>\n",
       "    <tr>\n",
       "      <th>6</th>\n",
       "      <td>111000212</td>\n",
       "      <td>2.000000e+02</td>\n",
       "    </tr>\n",
       "    <tr>\n",
       "      <th>7</th>\n",
       "      <td>111000216</td>\n",
       "      <td>3.555670e+05</td>\n",
       "    </tr>\n",
       "    <tr>\n",
       "      <th>8</th>\n",
       "      <td>111000313</td>\n",
       "      <td>7.100000e+02</td>\n",
       "    </tr>\n",
       "    <tr>\n",
       "      <th>9</th>\n",
       "      <td>111000314</td>\n",
       "      <td>1.607970e+06</td>\n",
       "    </tr>\n",
       "    <tr>\n",
       "      <th>10</th>\n",
       "      <td>111000315</td>\n",
       "      <td>3.655000e+04</td>\n",
       "    </tr>\n",
       "    <tr>\n",
       "      <th>11</th>\n",
       "      <td>111000318</td>\n",
       "      <td>5.635798e+07</td>\n",
       "    </tr>\n",
       "    <tr>\n",
       "      <th>12</th>\n",
       "      <td>111000319</td>\n",
       "      <td>1.948458e+08</td>\n",
       "    </tr>\n",
       "    <tr>\n",
       "      <th>13</th>\n",
       "      <td>111000411</td>\n",
       "      <td>1.174000e+04</td>\n",
       "    </tr>\n",
       "    <tr>\n",
       "      <th>14</th>\n",
       "      <td>111000412</td>\n",
       "      <td>1.920000e+03</td>\n",
       "    </tr>\n",
       "  </tbody>\n",
       "</table>\n",
       "</div>"
      ],
      "text/plain": [
       "     puNumber    box_office\n",
       "0   111000113  2.450000e+03\n",
       "1   111000115  6.104000e+04\n",
       "2   111000116  1.530300e+08\n",
       "3   111000117  1.226096e+07\n",
       "4   111000118  1.636841e+08\n",
       "5   111000119  4.293650e+06\n",
       "6   111000212  2.000000e+02\n",
       "7   111000216  3.555670e+05\n",
       "8   111000313  7.100000e+02\n",
       "9   111000314  1.607970e+06\n",
       "10  111000315  3.655000e+04\n",
       "11  111000318  5.635798e+07\n",
       "12  111000319  1.948458e+08\n",
       "13  111000411  1.174000e+04\n",
       "14  111000412  1.920000e+03"
      ]
     },
     "execution_count": 314,
     "metadata": {},
     "output_type": "execute_result"
    }
   ],
   "source": [
    "#откроем второй файл\n",
    "data_shows = pd.read_csv('./mkrf_shows.csv', sep = ',')\n",
    "data_shows.head(15)"
   ]
  },
  {
   "cell_type": "code",
   "execution_count": 315,
   "metadata": {},
   "outputs": [],
   "source": [
    "#объединим файлы\n",
    "data = data_movies.merge(data_shows, how='left')"
   ]
  },
  {
   "cell_type": "markdown",
   "metadata": {},
   "source": [
    "## Предобработка данных"
   ]
  },
  {
   "cell_type": "markdown",
   "metadata": {},
   "source": [
    "### Явные дубликаты"
   ]
  },
  {
   "cell_type": "code",
   "execution_count": 316,
   "metadata": {},
   "outputs": [
    {
     "data": {
      "text/plain": [
       "0"
      ]
     },
     "execution_count": 316,
     "metadata": {},
     "output_type": "execute_result"
    }
   ],
   "source": [
    "#проверим на явные дубликаты\n",
    "data.duplicated().sum()"
   ]
  },
  {
   "cell_type": "code",
   "execution_count": 317,
   "metadata": {},
   "outputs": [
    {
     "data": {
      "text/plain": [
       "714"
      ]
     },
     "execution_count": 317,
     "metadata": {},
     "output_type": "execute_result"
    }
   ],
   "source": [
    "data['title'].duplicated().sum()"
   ]
  },
  {
   "cell_type": "code",
   "execution_count": 318,
   "metadata": {},
   "outputs": [
    {
     "data": {
      "text/html": [
       "<div>\n",
       "<style scoped>\n",
       "    .dataframe tbody tr th:only-of-type {\n",
       "        vertical-align: middle;\n",
       "    }\n",
       "\n",
       "    .dataframe tbody tr th {\n",
       "        vertical-align: top;\n",
       "    }\n",
       "\n",
       "    .dataframe thead th {\n",
       "        text-align: right;\n",
       "    }\n",
       "</style>\n",
       "<table border=\"1\" class=\"dataframe\">\n",
       "  <thead>\n",
       "    <tr style=\"text-align: right;\">\n",
       "      <th></th>\n",
       "      <th>title</th>\n",
       "      <th>puNumber</th>\n",
       "      <th>show_start_date</th>\n",
       "      <th>type</th>\n",
       "      <th>film_studio</th>\n",
       "      <th>production_country</th>\n",
       "      <th>director</th>\n",
       "      <th>producer</th>\n",
       "      <th>age_restriction</th>\n",
       "      <th>refundable_support</th>\n",
       "      <th>nonrefundable_support</th>\n",
       "      <th>budget</th>\n",
       "      <th>financing_source</th>\n",
       "      <th>ratings</th>\n",
       "      <th>genres</th>\n",
       "      <th>box_office</th>\n",
       "    </tr>\n",
       "  </thead>\n",
       "  <tbody>\n",
       "    <tr>\n",
       "      <th>3</th>\n",
       "      <td>Особо опасен</td>\n",
       "      <td>221026916</td>\n",
       "      <td>2016-06-10T12:00:00.000Z</td>\n",
       "      <td>Художественный</td>\n",
       "      <td>Юниверсал Пикчерз, Кикстарт Продакшнз, Марк Пл...</td>\n",
       "      <td>США</td>\n",
       "      <td>Тимур Бекмамбетов</td>\n",
       "      <td>Джим Лемли, Джейсон Нетер, Марк Е.Платт, Яйн Смит</td>\n",
       "      <td>«18+» - запрещено для детей</td>\n",
       "      <td>NaN</td>\n",
       "      <td>NaN</td>\n",
       "      <td>NaN</td>\n",
       "      <td>NaN</td>\n",
       "      <td>6.8</td>\n",
       "      <td>фантастика,боевик,триллер</td>\n",
       "      <td>NaN</td>\n",
       "    </tr>\n",
       "    <tr>\n",
       "      <th>4</th>\n",
       "      <td>Особо опасен</td>\n",
       "      <td>221030815</td>\n",
       "      <td>2015-07-29T12:00:00.000Z</td>\n",
       "      <td>Художественный</td>\n",
       "      <td>Юниверсал Пикчерз, Кикстарт Продакшнз, Марк Пл...</td>\n",
       "      <td>США</td>\n",
       "      <td>Тимур Бекмамбетов</td>\n",
       "      <td>Джим Лемли, Джейсон Нетер, Марк Е.Платт, Яйн Смит</td>\n",
       "      <td>«18+» - запрещено для детей</td>\n",
       "      <td>NaN</td>\n",
       "      <td>NaN</td>\n",
       "      <td>NaN</td>\n",
       "      <td>NaN</td>\n",
       "      <td>6.8</td>\n",
       "      <td>фантастика,боевик,триллер</td>\n",
       "      <td>NaN</td>\n",
       "    </tr>\n",
       "    <tr>\n",
       "      <th>41</th>\n",
       "      <td>Алекс и Эмма</td>\n",
       "      <td>221004616</td>\n",
       "      <td>2016-02-09T12:00:00.000Z</td>\n",
       "      <td>Художественный</td>\n",
       "      <td>Эскейп Артистс, Франчайз Пикчерз, Рейнер-Грэйс...</td>\n",
       "      <td>США</td>\n",
       "      <td>Роб Райнер</td>\n",
       "      <td>Тодд Блэк, Элан Грейсман, Джереми Левен, Роб Р...</td>\n",
       "      <td>«16+» - для детей старше 16 лет</td>\n",
       "      <td>NaN</td>\n",
       "      <td>NaN</td>\n",
       "      <td>NaN</td>\n",
       "      <td>NaN</td>\n",
       "      <td>6.4</td>\n",
       "      <td>мелодрама,комедия</td>\n",
       "      <td>NaN</td>\n",
       "    </tr>\n",
       "    <tr>\n",
       "      <th>110</th>\n",
       "      <td>Гарри Поттер и орден Феникса /По роману Дж.К.Р...</td>\n",
       "      <td>121026316</td>\n",
       "      <td>2016-09-23T12:00:00.000Z</td>\n",
       "      <td>Художественный</td>\n",
       "      <td>Уорнер Бразерс, Хэйдей Филмз</td>\n",
       "      <td>США - Великобритания</td>\n",
       "      <td>Дэвид Йетс</td>\n",
       "      <td>Дэйвид Баррон, Дэйвид Хейман</td>\n",
       "      <td>«16+» - для детей старше 16 лет</td>\n",
       "      <td>NaN</td>\n",
       "      <td>NaN</td>\n",
       "      <td>NaN</td>\n",
       "      <td>NaN</td>\n",
       "      <td>7.7</td>\n",
       "      <td>фэнтези,приключения,семейный</td>\n",
       "      <td>759526.00</td>\n",
       "    </tr>\n",
       "    <tr>\n",
       "      <th>113</th>\n",
       "      <td>Гарри Поттер и узник Азкабана /По роману Дж.К....</td>\n",
       "      <td>121026116</td>\n",
       "      <td>2016-09-23T12:00:00.000Z</td>\n",
       "      <td>Художественный</td>\n",
       "      <td>Хэйдей Филмз, 1492 Пикчерз, Уорнер Бразерс</td>\n",
       "      <td>США</td>\n",
       "      <td>Альфонсо Куарон</td>\n",
       "      <td>Майкл Барната</td>\n",
       "      <td>«12+» - для детей старше 12 лет</td>\n",
       "      <td>NaN</td>\n",
       "      <td>NaN</td>\n",
       "      <td>NaN</td>\n",
       "      <td>NaN</td>\n",
       "      <td>8.2</td>\n",
       "      <td>фэнтези,приключения,семейный</td>\n",
       "      <td>1125302.00</td>\n",
       "    </tr>\n",
       "    <tr>\n",
       "      <th>...</th>\n",
       "      <td>...</td>\n",
       "      <td>...</td>\n",
       "      <td>...</td>\n",
       "      <td>...</td>\n",
       "      <td>...</td>\n",
       "      <td>...</td>\n",
       "      <td>...</td>\n",
       "      <td>...</td>\n",
       "      <td>...</td>\n",
       "      <td>...</td>\n",
       "      <td>...</td>\n",
       "      <td>...</td>\n",
       "      <td>...</td>\n",
       "      <td>...</td>\n",
       "      <td>...</td>\n",
       "      <td>...</td>\n",
       "    </tr>\n",
       "    <tr>\n",
       "      <th>7369</th>\n",
       "      <td>Невиновен</td>\n",
       "      <td>111019319</td>\n",
       "      <td>2019-11-07T12:00:00.000Z</td>\n",
       "      <td>Художественный</td>\n",
       "      <td>ООО \"Кавказфильм\"</td>\n",
       "      <td>Россия</td>\n",
       "      <td>А.Емкужев</td>\n",
       "      <td>А.Емкужев, А.Хуажева, ООО \"Корпорация Русская ...</td>\n",
       "      <td>«16+» - для детей старше 16 лет</td>\n",
       "      <td>NaN</td>\n",
       "      <td>NaN</td>\n",
       "      <td>NaN</td>\n",
       "      <td>NaN</td>\n",
       "      <td>7.5</td>\n",
       "      <td>триллер,детектив,криминал</td>\n",
       "      <td>NaN</td>\n",
       "    </tr>\n",
       "    <tr>\n",
       "      <th>7416</th>\n",
       "      <td>Отель \"Гранд Будапешт\"</td>\n",
       "      <td>121035119</td>\n",
       "      <td>2019-12-13T12:00:00.000Z</td>\n",
       "      <td>Художественный</td>\n",
       "      <td>Американ Эмпирикал, Индиан Пэинтбраш, Скотт Ру...</td>\n",
       "      <td>Германия, США</td>\n",
       "      <td>Уэс Андерсен</td>\n",
       "      <td>Уэс Андерсон, Джереми Доусон, Стивен Рейлс</td>\n",
       "      <td>«16+» - для детей старше 16 лет</td>\n",
       "      <td>NaN</td>\n",
       "      <td>NaN</td>\n",
       "      <td>NaN</td>\n",
       "      <td>NaN</td>\n",
       "      <td>7.9</td>\n",
       "      <td>комедия,приключения,детектив</td>\n",
       "      <td>NaN</td>\n",
       "    </tr>\n",
       "    <tr>\n",
       "      <th>7438</th>\n",
       "      <td>Зверь</td>\n",
       "      <td>121035919</td>\n",
       "      <td>2019-12-05T12:00:00.000Z</td>\n",
       "      <td>Художественный</td>\n",
       "      <td>Студио энд Нью</td>\n",
       "      <td>Южная Корея</td>\n",
       "      <td>Ли Джон-хо</td>\n",
       "      <td>Чан Гён-ик, Чон Джи-хун, Пэк Кён сук</td>\n",
       "      <td>«18+» - запрещено для детей</td>\n",
       "      <td>NaN</td>\n",
       "      <td>NaN</td>\n",
       "      <td>NaN</td>\n",
       "      <td>NaN</td>\n",
       "      <td>6.5</td>\n",
       "      <td>триллер,драма</td>\n",
       "      <td>175003.51</td>\n",
       "    </tr>\n",
       "    <tr>\n",
       "      <th>7450</th>\n",
       "      <td>В тихом омуте</td>\n",
       "      <td>121036919</td>\n",
       "      <td>2019-12-09T12:00:00.000Z</td>\n",
       "      <td>Художественный</td>\n",
       "      <td>Хэд Гир Филмз, Крео Филмз, Локал Хироу, Метрол...</td>\n",
       "      <td>США</td>\n",
       "      <td>Адам Рэндолл</td>\n",
       "      <td>Мэтт Уолдек</td>\n",
       "      <td>«18+» - запрещено для детей</td>\n",
       "      <td>NaN</td>\n",
       "      <td>NaN</td>\n",
       "      <td>NaN</td>\n",
       "      <td>NaN</td>\n",
       "      <td>6.8</td>\n",
       "      <td>триллер,криминал,детектив</td>\n",
       "      <td>NaN</td>\n",
       "    </tr>\n",
       "    <tr>\n",
       "      <th>7474</th>\n",
       "      <td>Вторжение</td>\n",
       "      <td>111022519</td>\n",
       "      <td>2019-12-23T12:00:00.000Z</td>\n",
       "      <td>Художественный</td>\n",
       "      <td>ООО \"Арт Пикчерс Студия\", ООО \"Водород 2011\"</td>\n",
       "      <td>Россия</td>\n",
       "      <td>Ф.Бондарчук</td>\n",
       "      <td>Ф.Бондарчук, М.Врубель, А.Андрющенко, Д.Рудовский</td>\n",
       "      <td>«12+» - для детей старше 12 лет</td>\n",
       "      <td>100000000.0</td>\n",
       "      <td>400000000.0</td>\n",
       "      <td>944000000.0</td>\n",
       "      <td>Фонд кино</td>\n",
       "      <td>5.7</td>\n",
       "      <td>фантастика,боевик</td>\n",
       "      <td>NaN</td>\n",
       "    </tr>\n",
       "  </tbody>\n",
       "</table>\n",
       "<p>714 rows × 16 columns</p>\n",
       "</div>"
      ],
      "text/plain": [
       "                                                  title   puNumber  \\\n",
       "3                                          Особо опасен  221026916   \n",
       "4                                          Особо опасен  221030815   \n",
       "41                                         Алекс и Эмма  221004616   \n",
       "110   Гарри Поттер и орден Феникса /По роману Дж.К.Р...  121026316   \n",
       "113   Гарри Поттер и узник Азкабана /По роману Дж.К....  121026116   \n",
       "...                                                 ...        ...   \n",
       "7369                                          Невиновен  111019319   \n",
       "7416                             Отель \"Гранд Будапешт\"  121035119   \n",
       "7438                                              Зверь  121035919   \n",
       "7450                                      В тихом омуте  121036919   \n",
       "7474                                          Вторжение  111022519   \n",
       "\n",
       "               show_start_date             type  \\\n",
       "3     2016-06-10T12:00:00.000Z   Художественный   \n",
       "4     2015-07-29T12:00:00.000Z   Художественный   \n",
       "41    2016-02-09T12:00:00.000Z   Художественный   \n",
       "110   2016-09-23T12:00:00.000Z   Художественный   \n",
       "113   2016-09-23T12:00:00.000Z   Художественный   \n",
       "...                        ...              ...   \n",
       "7369  2019-11-07T12:00:00.000Z   Художественный   \n",
       "7416  2019-12-13T12:00:00.000Z   Художественный   \n",
       "7438  2019-12-05T12:00:00.000Z   Художественный   \n",
       "7450  2019-12-09T12:00:00.000Z   Художественный   \n",
       "7474  2019-12-23T12:00:00.000Z   Художественный   \n",
       "\n",
       "                                            film_studio    production_country  \\\n",
       "3     Юниверсал Пикчерз, Кикстарт Продакшнз, Марк Пл...                   США   \n",
       "4     Юниверсал Пикчерз, Кикстарт Продакшнз, Марк Пл...                   США   \n",
       "41    Эскейп Артистс, Франчайз Пикчерз, Рейнер-Грэйс...                   США   \n",
       "110                        Уорнер Бразерс, Хэйдей Филмз  США - Великобритания   \n",
       "113          Хэйдей Филмз, 1492 Пикчерз, Уорнер Бразерс                   США   \n",
       "...                                                 ...                   ...   \n",
       "7369                                  ООО \"Кавказфильм\"                Россия   \n",
       "7416  Американ Эмпирикал, Индиан Пэинтбраш, Скотт Ру...         Германия, США   \n",
       "7438                                     Студио энд Нью           Южная Корея   \n",
       "7450  Хэд Гир Филмз, Крео Филмз, Локал Хироу, Метрол...                   США   \n",
       "7474       ООО \"Арт Пикчерс Студия\", ООО \"Водород 2011\"                Россия   \n",
       "\n",
       "               director                                           producer  \\\n",
       "3     Тимур Бекмамбетов  Джим Лемли, Джейсон Нетер, Марк Е.Платт, Яйн Смит   \n",
       "4     Тимур Бекмамбетов  Джим Лемли, Джейсон Нетер, Марк Е.Платт, Яйн Смит   \n",
       "41           Роб Райнер  Тодд Блэк, Элан Грейсман, Джереми Левен, Роб Р...   \n",
       "110          Дэвид Йетс                       Дэйвид Баррон, Дэйвид Хейман   \n",
       "113     Альфонсо Куарон                                      Майкл Барната   \n",
       "...                 ...                                                ...   \n",
       "7369          А.Емкужев  А.Емкужев, А.Хуажева, ООО \"Корпорация Русская ...   \n",
       "7416       Уэс Андерсен         Уэс Андерсон, Джереми Доусон, Стивен Рейлс   \n",
       "7438         Ли Джон-хо               Чан Гён-ик, Чон Джи-хун, Пэк Кён сук   \n",
       "7450       Адам Рэндолл                                        Мэтт Уолдек   \n",
       "7474        Ф.Бондарчук  Ф.Бондарчук, М.Врубель, А.Андрющенко, Д.Рудовский   \n",
       "\n",
       "                      age_restriction  refundable_support  \\\n",
       "3         «18+» - запрещено для детей                 NaN   \n",
       "4         «18+» - запрещено для детей                 NaN   \n",
       "41    «16+» - для детей старше 16 лет                 NaN   \n",
       "110   «16+» - для детей старше 16 лет                 NaN   \n",
       "113   «12+» - для детей старше 12 лет                 NaN   \n",
       "...                               ...                 ...   \n",
       "7369  «16+» - для детей старше 16 лет                 NaN   \n",
       "7416  «16+» - для детей старше 16 лет                 NaN   \n",
       "7438      «18+» - запрещено для детей                 NaN   \n",
       "7450      «18+» - запрещено для детей                 NaN   \n",
       "7474  «12+» - для детей старше 12 лет         100000000.0   \n",
       "\n",
       "      nonrefundable_support       budget financing_source ratings  \\\n",
       "3                       NaN          NaN              NaN     6.8   \n",
       "4                       NaN          NaN              NaN     6.8   \n",
       "41                      NaN          NaN              NaN     6.4   \n",
       "110                     NaN          NaN              NaN     7.7   \n",
       "113                     NaN          NaN              NaN     8.2   \n",
       "...                     ...          ...              ...     ...   \n",
       "7369                    NaN          NaN              NaN     7.5   \n",
       "7416                    NaN          NaN              NaN     7.9   \n",
       "7438                    NaN          NaN              NaN     6.5   \n",
       "7450                    NaN          NaN              NaN     6.8   \n",
       "7474            400000000.0  944000000.0        Фонд кино     5.7   \n",
       "\n",
       "                            genres  box_office  \n",
       "3        фантастика,боевик,триллер         NaN  \n",
       "4        фантастика,боевик,триллер         NaN  \n",
       "41               мелодрама,комедия         NaN  \n",
       "110   фэнтези,приключения,семейный   759526.00  \n",
       "113   фэнтези,приключения,семейный  1125302.00  \n",
       "...                            ...         ...  \n",
       "7369     триллер,детектив,криминал         NaN  \n",
       "7416  комедия,приключения,детектив         NaN  \n",
       "7438                 триллер,драма   175003.51  \n",
       "7450     триллер,криминал,детектив         NaN  \n",
       "7474             фантастика,боевик         NaN  \n",
       "\n",
       "[714 rows x 16 columns]"
      ]
     },
     "execution_count": 318,
     "metadata": {},
     "output_type": "execute_result"
    }
   ],
   "source": [
    "duplicatetitle =  data[data.duplicated(['title'])]\n",
    "duplicatetitle"
   ]
  },
  {
   "cell_type": "markdown",
   "metadata": {},
   "source": [
    "Скорее всего были разные прокатные удостоверения у одного и того же фильма, поэтому так много дубликатов в столбце с названием. Полных дублей нет"
   ]
  },
  {
   "cell_type": "code",
   "execution_count": 319,
   "metadata": {},
   "outputs": [
    {
     "data": {
      "text/plain": [
       "2"
      ]
     },
     "execution_count": 319,
     "metadata": {},
     "output_type": "execute_result"
    }
   ],
   "source": [
    "#посмотрим дубликаты в puNumber\n",
    "data['puNumber'].duplicated().sum()"
   ]
  },
  {
   "cell_type": "code",
   "execution_count": 320,
   "metadata": {},
   "outputs": [
    {
     "data": {
      "text/html": [
       "<div>\n",
       "<style scoped>\n",
       "    .dataframe tbody tr th:only-of-type {\n",
       "        vertical-align: middle;\n",
       "    }\n",
       "\n",
       "    .dataframe tbody tr th {\n",
       "        vertical-align: top;\n",
       "    }\n",
       "\n",
       "    .dataframe thead th {\n",
       "        text-align: right;\n",
       "    }\n",
       "</style>\n",
       "<table border=\"1\" class=\"dataframe\">\n",
       "  <thead>\n",
       "    <tr style=\"text-align: right;\">\n",
       "      <th></th>\n",
       "      <th>title</th>\n",
       "      <th>puNumber</th>\n",
       "      <th>show_start_date</th>\n",
       "      <th>type</th>\n",
       "      <th>film_studio</th>\n",
       "      <th>production_country</th>\n",
       "      <th>director</th>\n",
       "      <th>producer</th>\n",
       "      <th>age_restriction</th>\n",
       "      <th>refundable_support</th>\n",
       "      <th>nonrefundable_support</th>\n",
       "      <th>budget</th>\n",
       "      <th>financing_source</th>\n",
       "      <th>ratings</th>\n",
       "      <th>genres</th>\n",
       "      <th>box_office</th>\n",
       "    </tr>\n",
       "  </thead>\n",
       "  <tbody>\n",
       "    <tr>\n",
       "      <th>4639</th>\n",
       "      <td>Иоанна - женщина на папском престоле /По роман...</td>\n",
       "      <td>221154310</td>\n",
       "      <td>2010-12-17T12:00:00.000Z</td>\n",
       "      <td>Художественный</td>\n",
       "      <td>Константин Фильм, А Эр Ди Дегето Фильм, Дюне ...</td>\n",
       "      <td>Германия - Великобритания - Италия - Испания</td>\n",
       "      <td>Зенке Вортманн</td>\n",
       "      <td>Оливер Бербен, Дорис Д.Хайнце, Фарук Элтан</td>\n",
       "      <td>«16+» - для детей старше 16 лет</td>\n",
       "      <td>NaN</td>\n",
       "      <td>NaN</td>\n",
       "      <td>NaN</td>\n",
       "      <td>NaN</td>\n",
       "      <td>7.6</td>\n",
       "      <td>драма,мелодрама,история</td>\n",
       "      <td>NaN</td>\n",
       "    </tr>\n",
       "    <tr>\n",
       "      <th>5068</th>\n",
       "      <td>Анализируй то!</td>\n",
       "      <td>221054410</td>\n",
       "      <td>2010-05-25T12:00:00.000Z</td>\n",
       "      <td>Художественный</td>\n",
       "      <td>Уорнер Бразерс, Виллидж Роадшоу Пикчерз, Эн-Пи...</td>\n",
       "      <td>США</td>\n",
       "      <td>Гарольд Реймис</td>\n",
       "      <td>Джейн Розенталь, Паул Уэйнстейн</td>\n",
       "      <td>«12+» - для детей старше 12 лет</td>\n",
       "      <td>NaN</td>\n",
       "      <td>NaN</td>\n",
       "      <td>NaN</td>\n",
       "      <td>NaN</td>\n",
       "      <td>6.8</td>\n",
       "      <td>комедия,криминал</td>\n",
       "      <td>NaN</td>\n",
       "    </tr>\n",
       "  </tbody>\n",
       "</table>\n",
       "</div>"
      ],
      "text/plain": [
       "                                                  title   puNumber  \\\n",
       "4639  Иоанна - женщина на папском престоле /По роман...  221154310   \n",
       "5068                                     Анализируй то!  221054410   \n",
       "\n",
       "               show_start_date            type  \\\n",
       "4639  2010-12-17T12:00:00.000Z  Художественный   \n",
       "5068  2010-05-25T12:00:00.000Z  Художественный   \n",
       "\n",
       "                                            film_studio  \\\n",
       "4639   Константин Фильм, А Эр Ди Дегето Фильм, Дюне ...   \n",
       "5068  Уорнер Бразерс, Виллидж Роадшоу Пикчерз, Эн-Пи...   \n",
       "\n",
       "                                production_country        director  \\\n",
       "4639  Германия - Великобритания - Италия - Испания  Зенке Вортманн   \n",
       "5068                                           США  Гарольд Реймис   \n",
       "\n",
       "                                        producer  \\\n",
       "4639  Оливер Бербен, Дорис Д.Хайнце, Фарук Элтан   \n",
       "5068             Джейн Розенталь, Паул Уэйнстейн   \n",
       "\n",
       "                      age_restriction  refundable_support  \\\n",
       "4639  «16+» - для детей старше 16 лет                 NaN   \n",
       "5068  «12+» - для детей старше 12 лет                 NaN   \n",
       "\n",
       "      nonrefundable_support  budget financing_source ratings  \\\n",
       "4639                    NaN     NaN              NaN     7.6   \n",
       "5068                    NaN     NaN              NaN     6.8   \n",
       "\n",
       "                       genres  box_office  \n",
       "4639  драма,мелодрама,история         NaN  \n",
       "5068         комедия,криминал         NaN  "
      ]
     },
     "execution_count": 320,
     "metadata": {},
     "output_type": "execute_result"
    }
   ],
   "source": [
    "duplicatepuNumber = data[data.duplicated(['puNumber'])]\n",
    "duplicatepuNumber"
   ]
  },
  {
   "cell_type": "markdown",
   "metadata": {},
   "source": [
    "Странно, скорее всего в каком-то из этих фильмов ошиблись в puNumber. Заменим эти значения на 0, все равно у этих фильмов неизвестны значения box_office, ничего не потеряем"
   ]
  },
  {
   "cell_type": "code",
   "execution_count": 321,
   "metadata": {},
   "outputs": [],
   "source": [
    "data['puNumber'] = data['puNumber'].replace('221054410.0', 0)"
   ]
  },
  {
   "cell_type": "markdown",
   "metadata": {},
   "source": [
    "### Столбцы, в которых нужно изменить тип данных:\n",
    "\n",
    "**show_start_date**\n",
    "\n",
    "**age_restriction**\n",
    "\n",
    "**ratings**\n"
   ]
  },
  {
   "cell_type": "code",
   "execution_count": 322,
   "metadata": {},
   "outputs": [
    {
     "data": {
      "text/plain": [
       "array(['7.2', '6.6', '6.8', '7.7', '8.3', '8.0', '7.8', '8.1', '7.1',\n",
       "       '6.0', '7.4', '5.8', '8.7', '6.3', '6.9', '5.0', '4.3', '7.3',\n",
       "       '7.0', '6.4', nan, '8.2', '7.5', '6.7', '7.9', '5.9', '6.2', '5.6',\n",
       "       '6.5', '2.4', '7.6', '6.1', '8.6', '8.5', '8.8', '5.5', '5.1',\n",
       "       '5.7', '5.4', '99%', '4.4', '4.5', '5.3', '4.1', '8.4', '2.6',\n",
       "       '3.8', '4.6', '4.8', '4.0', '3.0', '1.6', '4.2', '5.2', '4.7',\n",
       "       '4.9', '3.9', '2.7', '3.3', '2.9', '28%', '3.7', '1.4', '3.1',\n",
       "       '97%', '3.5', '3.2', '2.8', '1.5', '2.1', '2.5', '9.2', '3.4',\n",
       "       '1.1', '3.6', '83%', '64%', '91%', '94%', '62%', '79%', '90%',\n",
       "       '19%', '88%', '1.0', '89%', '1.3', '1.9', '1.8', '1.2', '1.7',\n",
       "       '9.0', '98%', '8.9', '9.1'], dtype=object)"
      ]
     },
     "execution_count": 322,
     "metadata": {},
     "output_type": "execute_result"
    }
   ],
   "source": [
    "#переведём в формат времени\n",
    "data['show_start_date'] = pd.to_datetime(data['show_start_date'], format = '%Y-%m-%dT%H:%M:%S')\n",
    "\n",
    "#посмотрим уникальные значения\n",
    "data['ratings'].unique()"
   ]
  },
  {
   "cell_type": "code",
   "execution_count": 323,
   "metadata": {},
   "outputs": [],
   "source": [
    "#заменим иной формат оценки в привычный\n",
    "data['ratings'] = data['ratings'].replace('99%', 9.9)\n",
    "data['ratings'] = data['ratings'].replace('28%', 2.8)\n",
    "data['ratings'] = data['ratings'].replace('97%', 9.7)\n",
    "data['ratings'] = data['ratings'].replace('83%', 8.3)\n",
    "data['ratings'] = data['ratings'].replace('64%', 6.4)\n",
    "data['ratings'] = data['ratings'].replace('91%', 9.1)\n",
    "data['ratings'] = data['ratings'].replace('94%', 9.4)\n",
    "data['ratings'] = data['ratings'].replace('62%', 6.2)\n",
    "data['ratings'] = data['ratings'].replace('79%', 7.9)\n",
    "data['ratings'] = data['ratings'].replace('90%', 9.0)\n",
    "data['ratings'] = data['ratings'].replace('19%', 1.9)\n",
    "data['ratings'] = data['ratings'].replace('88%', 8.8)\n",
    "data['ratings'] = data['ratings'].replace('89%', 8.9)\n",
    "data['ratings'] = data['ratings'].replace('98%', 9.8)\n"
   ]
  },
  {
   "cell_type": "code",
   "execution_count": 324,
   "metadata": {},
   "outputs": [
    {
     "data": {
      "text/plain": [
       "array(['«18+» - запрещено для детей', '«6+» - для детей старше 6 лет',\n",
       "       '«12+» - для детей старше 12 лет',\n",
       "       '«16+» - для детей старше 16 лет',\n",
       "       '«0+» - для любой зрительской аудитории'], dtype=object)"
      ]
     },
     "execution_count": 324,
     "metadata": {},
     "output_type": "execute_result"
    }
   ],
   "source": [
    "#изменим тип данных на вещественный\n",
    "data['ratings'] = data['ratings'].astype(float)\n",
    "\n",
    "#посмотрим значения в столбце age_restriction\n",
    "data['age_restriction'].unique()"
   ]
  },
  {
   "cell_type": "code",
   "execution_count": 325,
   "metadata": {},
   "outputs": [],
   "source": [
    "#изменим значения в столбце age_restriction с помощью функции на челочисленные\n",
    "def correct_age_restriction(i):\n",
    "    if '«18+»' in i:\n",
    "        i = 18\n",
    "    elif '«12+»'  in i:\n",
    "        i = 12\n",
    "    elif '«6+»'  in i:\n",
    "        i = 6\n",
    "    elif '«16+»'  in i:\n",
    "        i = 16\n",
    "    elif '«0+»'  in i:\n",
    "        i = 0\n",
    "    return i\n",
    "data['age_restriction'] = data['age_restriction'].apply(correct_age_restriction)"
   ]
  },
  {
   "cell_type": "markdown",
   "metadata": {},
   "source": [
    "### Столбцы, в которых нужно обработать категориальные значения:\n",
    "\n",
    "**type**\n",
    "\n",
    "**production_country**"
   ]
  },
  {
   "cell_type": "code",
   "execution_count": 326,
   "metadata": {
    "scrolled": true
   },
   "outputs": [
    {
     "data": {
      "text/plain": [
       "array(['Художественный', 'Анимационный', 'Прочие', 'Документальный',\n",
       "       'Научно-популярный', ' Художественный', ' Анимационный',\n",
       "       'Музыкально-развлекательный'], dtype=object)"
      ]
     },
     "execution_count": 326,
     "metadata": {},
     "output_type": "execute_result"
    }
   ],
   "source": [
    "#посмотрим уникальные значения\n",
    "data['type'].unique()"
   ]
  },
  {
   "cell_type": "code",
   "execution_count": 327,
   "metadata": {},
   "outputs": [
    {
     "data": {
      "text/plain": [
       "951"
      ]
     },
     "execution_count": 327,
     "metadata": {},
     "output_type": "execute_result"
    }
   ],
   "source": [
    "#проверим сколько значений \n",
    "len(data['production_country'].unique())"
   ]
  },
  {
   "cell_type": "code",
   "execution_count": 328,
   "metadata": {},
   "outputs": [],
   "source": [
    "#удаление пробелов в начале и конце строки\n",
    "data['type'] = data['type'].str.strip()\n",
    "\n",
    "\n",
    "#удаление пробелов в начале и конце строки, нижний регистр\n",
    "data['production_country'] = data['production_country'].str.lower()\n",
    "data['production_country'] = data['production_country'].str.strip()"
   ]
  },
  {
   "cell_type": "code",
   "execution_count": 329,
   "metadata": {},
   "outputs": [
    {
     "data": {
      "text/plain": [
       "890"
      ]
     },
     "execution_count": 329,
     "metadata": {},
     "output_type": "execute_result"
    }
   ],
   "source": [
    "data['production_country'] = data['production_country'].str.replace('-', ',')\n",
    "data['production_country'] = data['production_country'].str.replace(',', ', ')\n",
    "data['production_country'] = data['production_country'].str.replace(' ,', ',')\n",
    "\n",
    "#проверим сколько значений после обработки\n",
    "len(data['production_country'].unique())"
   ]
  },
  {
   "cell_type": "markdown",
   "metadata": {},
   "source": [
    "### Пропуски"
   ]
  },
  {
   "cell_type": "code",
   "execution_count": 330,
   "metadata": {},
   "outputs": [
    {
     "data": {
      "text/html": [
       "<style  type=\"text/css\" >\n",
       "#T_09cd3_row0_col0,#T_09cd3_row1_col0,#T_09cd3_row2_col0,#T_09cd3_row3_col0,#T_09cd3_row4_col0,#T_09cd3_row5_col0,#T_09cd3_row6_col0,#T_09cd3_row8_col0{\n",
       "            background-color:  #3b4cc0;\n",
       "            color:  #f1f1f1;\n",
       "        }#T_09cd3_row7_col0{\n",
       "            background-color:  #5470de;\n",
       "            color:  #000000;\n",
       "        }#T_09cd3_row9_col0,#T_09cd3_row10_col0,#T_09cd3_row11_col0,#T_09cd3_row12_col0{\n",
       "            background-color:  #b40426;\n",
       "            color:  #f1f1f1;\n",
       "        }#T_09cd3_row13_col0,#T_09cd3_row14_col0{\n",
       "            background-color:  #6485ec;\n",
       "            color:  #000000;\n",
       "        }#T_09cd3_row15_col0{\n",
       "            background-color:  #f2cab5;\n",
       "            color:  #000000;\n",
       "        }</style><table id=\"T_09cd3_\" ><thead>    <tr>        <th class=\"blank level0\" ></th>        <th class=\"col_heading level0 col0\" >0</th>    </tr></thead><tbody>\n",
       "                <tr>\n",
       "                        <th id=\"T_09cd3_level0_row0\" class=\"row_heading level0 row0\" >title</th>\n",
       "                        <td id=\"T_09cd3_row0_col0\" class=\"data row0 col0\" >0.000000</td>\n",
       "            </tr>\n",
       "            <tr>\n",
       "                        <th id=\"T_09cd3_level0_row1\" class=\"row_heading level0 row1\" >puNumber</th>\n",
       "                        <td id=\"T_09cd3_row1_col0\" class=\"data row1 col0\" >0.000000</td>\n",
       "            </tr>\n",
       "            <tr>\n",
       "                        <th id=\"T_09cd3_level0_row2\" class=\"row_heading level0 row2\" >show_start_date</th>\n",
       "                        <td id=\"T_09cd3_row2_col0\" class=\"data row2 col0\" >0.000000</td>\n",
       "            </tr>\n",
       "            <tr>\n",
       "                        <th id=\"T_09cd3_level0_row3\" class=\"row_heading level0 row3\" >type</th>\n",
       "                        <td id=\"T_09cd3_row3_col0\" class=\"data row3 col0\" >0.000000</td>\n",
       "            </tr>\n",
       "            <tr>\n",
       "                        <th id=\"T_09cd3_level0_row4\" class=\"row_heading level0 row4\" >film_studio</th>\n",
       "                        <td id=\"T_09cd3_row4_col0\" class=\"data row4 col0\" >0.000000</td>\n",
       "            </tr>\n",
       "            <tr>\n",
       "                        <th id=\"T_09cd3_level0_row5\" class=\"row_heading level0 row5\" >production_country</th>\n",
       "                        <td id=\"T_09cd3_row5_col0\" class=\"data row5 col0\" >0.000000</td>\n",
       "            </tr>\n",
       "            <tr>\n",
       "                        <th id=\"T_09cd3_level0_row6\" class=\"row_heading level0 row6\" >director</th>\n",
       "                        <td id=\"T_09cd3_row6_col0\" class=\"data row6 col0\" >0.000000</td>\n",
       "            </tr>\n",
       "            <tr>\n",
       "                        <th id=\"T_09cd3_level0_row7\" class=\"row_heading level0 row7\" >producer</th>\n",
       "                        <td id=\"T_09cd3_row7_col0\" class=\"data row7 col0\" >8.000000</td>\n",
       "            </tr>\n",
       "            <tr>\n",
       "                        <th id=\"T_09cd3_level0_row8\" class=\"row_heading level0 row8\" >age_restriction</th>\n",
       "                        <td id=\"T_09cd3_row8_col0\" class=\"data row8 col0\" >0.000000</td>\n",
       "            </tr>\n",
       "            <tr>\n",
       "                        <th id=\"T_09cd3_level0_row9\" class=\"row_heading level0 row9\" >refundable_support</th>\n",
       "                        <td id=\"T_09cd3_row9_col0\" class=\"data row9 col0\" >96.000000</td>\n",
       "            </tr>\n",
       "            <tr>\n",
       "                        <th id=\"T_09cd3_level0_row10\" class=\"row_heading level0 row10\" >nonrefundable_support</th>\n",
       "                        <td id=\"T_09cd3_row10_col0\" class=\"data row10 col0\" >96.000000</td>\n",
       "            </tr>\n",
       "            <tr>\n",
       "                        <th id=\"T_09cd3_level0_row11\" class=\"row_heading level0 row11\" >budget</th>\n",
       "                        <td id=\"T_09cd3_row11_col0\" class=\"data row11 col0\" >96.000000</td>\n",
       "            </tr>\n",
       "            <tr>\n",
       "                        <th id=\"T_09cd3_level0_row12\" class=\"row_heading level0 row12\" >financing_source</th>\n",
       "                        <td id=\"T_09cd3_row12_col0\" class=\"data row12 col0\" >96.000000</td>\n",
       "            </tr>\n",
       "            <tr>\n",
       "                        <th id=\"T_09cd3_level0_row13\" class=\"row_heading level0 row13\" >ratings</th>\n",
       "                        <td id=\"T_09cd3_row13_col0\" class=\"data row13 col0\" >13.000000</td>\n",
       "            </tr>\n",
       "            <tr>\n",
       "                        <th id=\"T_09cd3_level0_row14\" class=\"row_heading level0 row14\" >genres</th>\n",
       "                        <td id=\"T_09cd3_row14_col0\" class=\"data row14 col0\" >13.000000</td>\n",
       "            </tr>\n",
       "            <tr>\n",
       "                        <th id=\"T_09cd3_level0_row15\" class=\"row_heading level0 row15\" >box_office</th>\n",
       "                        <td id=\"T_09cd3_row15_col0\" class=\"data row15 col0\" >58.000000</td>\n",
       "            </tr>\n",
       "    </tbody></table>"
      ],
      "text/plain": [
       "<pandas.io.formats.style.Styler at 0x7ff8267f25b0>"
      ]
     },
     "execution_count": 330,
     "metadata": {},
     "output_type": "execute_result"
    }
   ],
   "source": [
    "#проверим количество пропусков в процентах\n",
    "pd.DataFrame(round(data.isna().mean()*100,)).style.background_gradient('coolwarm')"
   ]
  },
  {
   "cell_type": "markdown",
   "metadata": {},
   "source": [
    "**Пропуски содержатся в таких колонках как:**\n",
    "\n",
    "**producer — продюсер**. Скорее всего такие пропуски не получится заполнить, продюсера могло и не быть или он может быть не указан. Также вероятна ошибка при выгрузке данных или другие тенхнические причины.\n",
    "\n",
    "**refundable_support\t— объём возвратных средств государственной поддержки.** Данные в этом столбце указаны только для тех фильмов, которые получили государственную поддержку. Пропуски не сможем заполнить аналогично budget.\n",
    "\n",
    "**nonrefundable_support — объём невозвратных средств государственной поддержки.** Данные в этом столбце указаны только для тех фильмов, которые получили государственную поддержку. Пропуски не сможем заполнить аналогично budget.\n",
    "\n",
    "**budget — общий бюджет фильма.** Данные в этом столбце указаны только для тех фильмов, которые получили государственную поддержку. Пропуски не сможем заполнить.\n",
    "\n",
    "**financing_source  — источник государственного финансирования.** Данные в этом столбце указаны только для тех фильмов, которые получили государственную поддержку. Пропуски не сможем заполнить аналогично  budget.\n",
    "\n",
    "\n",
    "**ratings — рейтинг фильма на КиноПоиске.** Скорее всего такие пропуски не получится заполнить, потому что в выгрузку могли попать фильмы без рейтинга или значение могло потеряться при выгрузке. Также рейтинг указан на кинопоиске, а фильмы с пропусками в рейтинге могли идти в кинотеатрах.\n",
    "\n",
    "**genres — жанр фильма.** Скорее всего такие пропуски не получится заполнить, жанр может быть не указан или неизвестен. Также вероятна ошибка при выгрузке данных или другие тенхнические причины.\n",
    "\n",
    "**box_office** — сборы в рублях. Данные невозможно получить из каких-либо других столбцов или взять среднее по другим фильмам, поэтому невозможно заполнить пропуски. Вероятно, такие данные просто не были указаны или потерялись при выгрузке.\n"
   ]
  },
  {
   "cell_type": "code",
   "execution_count": 331,
   "metadata": {},
   "outputs": [
    {
     "data": {
      "text/plain": [
       "array([nan], dtype=object)"
      ]
     },
     "execution_count": 331,
     "metadata": {},
     "output_type": "execute_result"
    }
   ],
   "source": [
    "#проверка, что данные в столбце financing_source указаны только для тех фильмов, которые получили государственную поддержку.\n",
    "data.loc[data['budget'].isna(), 'financing_source'].unique()"
   ]
  },
  {
   "cell_type": "code",
   "execution_count": 332,
   "metadata": {},
   "outputs": [
    {
     "data": {
      "text/plain": [
       "array([nan])"
      ]
     },
     "execution_count": 332,
     "metadata": {},
     "output_type": "execute_result"
    }
   ],
   "source": [
    "#проверка, что данные в столбце refundable_support указаны только для тех фильмов, которые получили государственную поддержку.\n",
    "data.loc[data['budget'].isna(), 'refundable_support'].unique()"
   ]
  },
  {
   "cell_type": "code",
   "execution_count": 333,
   "metadata": {},
   "outputs": [
    {
     "data": {
      "text/plain": [
       "array([nan])"
      ]
     },
     "execution_count": 333,
     "metadata": {},
     "output_type": "execute_result"
    }
   ],
   "source": [
    "#проверка, что данные в столбце nonrefundable_support указаны только для тех фильмов, которые получили государственную поддержку.\n",
    "data.loc[data['budget'].isna(), 'nonrefundable_support'].unique()"
   ]
  },
  {
   "cell_type": "markdown",
   "metadata": {},
   "source": [
    "### Посмотрим выбросы в количественных столбцах\n",
    "\n",
    "**puNumber**. Значения 0 оставляем, это отсутсвующие, но остальные должны быть с 9 цифрами до запятой\n",
    "\n",
    "**refundable_support**\n",
    "\n",
    "**nonrefundable_support**\n",
    "\n",
    "**budget**\n",
    "\n",
    "**box_office**"
   ]
  },
  {
   "cell_type": "code",
   "execution_count": 334,
   "metadata": {},
   "outputs": [
    {
     "name": "stdout",
     "output_type": "stream",
     "text": [
      "231001111\n",
      "1811096\n"
     ]
    },
    {
     "data": {
      "text/html": [
       "<div>\n",
       "<style scoped>\n",
       "    .dataframe tbody tr th:only-of-type {\n",
       "        vertical-align: middle;\n",
       "    }\n",
       "\n",
       "    .dataframe tbody tr th {\n",
       "        vertical-align: top;\n",
       "    }\n",
       "\n",
       "    .dataframe thead th {\n",
       "        text-align: right;\n",
       "    }\n",
       "</style>\n",
       "<table border=\"1\" class=\"dataframe\">\n",
       "  <thead>\n",
       "    <tr style=\"text-align: right;\">\n",
       "      <th></th>\n",
       "      <th>title</th>\n",
       "      <th>puNumber</th>\n",
       "      <th>show_start_date</th>\n",
       "      <th>type</th>\n",
       "      <th>film_studio</th>\n",
       "      <th>production_country</th>\n",
       "      <th>director</th>\n",
       "      <th>producer</th>\n",
       "      <th>age_restriction</th>\n",
       "      <th>refundable_support</th>\n",
       "      <th>nonrefundable_support</th>\n",
       "      <th>budget</th>\n",
       "      <th>financing_source</th>\n",
       "      <th>ratings</th>\n",
       "      <th>genres</th>\n",
       "      <th>box_office</th>\n",
       "    </tr>\n",
       "  </thead>\n",
       "  <tbody>\n",
       "    <tr>\n",
       "      <th>1797</th>\n",
       "      <td>Курбан-роман. (История с жертвой)</td>\n",
       "      <td>0</td>\n",
       "      <td>2014-05-15 12:00:00+00:00</td>\n",
       "      <td>Художественный</td>\n",
       "      <td>ФОНД \"ИННОВАЦИЯ\"</td>\n",
       "      <td>россия</td>\n",
       "      <td>С.Юзеев</td>\n",
       "      <td>М.Галицкая</td>\n",
       "      <td>12</td>\n",
       "      <td>NaN</td>\n",
       "      <td>NaN</td>\n",
       "      <td>NaN</td>\n",
       "      <td>NaN</td>\n",
       "      <td>NaN</td>\n",
       "      <td>NaN</td>\n",
       "      <td>NaN</td>\n",
       "    </tr>\n",
       "    <tr>\n",
       "      <th>4701</th>\n",
       "      <td>1001 рецепт влюбленного кулинара</td>\n",
       "      <td>1811096</td>\n",
       "      <td>2010-12-23 12:00:00+00:00</td>\n",
       "      <td>Художественный</td>\n",
       "      <td>Ле Фильм дю Риваж, Ля Сет Синема, Адам и Ева, ...</td>\n",
       "      <td>франция, грузия, германия, россия, украина, бе...</td>\n",
       "      <td>Н.Джорджадзе</td>\n",
       "      <td>NaN</td>\n",
       "      <td>0</td>\n",
       "      <td>NaN</td>\n",
       "      <td>NaN</td>\n",
       "      <td>NaN</td>\n",
       "      <td>NaN</td>\n",
       "      <td>6.7</td>\n",
       "      <td>мелодрама,комедия</td>\n",
       "      <td>NaN</td>\n",
       "    </tr>\n",
       "  </tbody>\n",
       "</table>\n",
       "</div>"
      ],
      "text/plain": [
       "                                  title  puNumber           show_start_date  \\\n",
       "1797  Курбан-роман. (История с жертвой)         0 2014-05-15 12:00:00+00:00   \n",
       "4701   1001 рецепт влюбленного кулинара   1811096 2010-12-23 12:00:00+00:00   \n",
       "\n",
       "                type                                        film_studio  \\\n",
       "1797  Художественный                                   ФОНД \"ИННОВАЦИЯ\"   \n",
       "4701  Художественный  Ле Фильм дю Риваж, Ля Сет Синема, Адам и Ева, ...   \n",
       "\n",
       "                                     production_country      director  \\\n",
       "1797                                             россия       С.Юзеев   \n",
       "4701  франция, грузия, германия, россия, украина, бе...  Н.Джорджадзе   \n",
       "\n",
       "        producer  age_restriction  refundable_support  nonrefundable_support  \\\n",
       "1797  М.Галицкая               12                 NaN                    NaN   \n",
       "4701         NaN                0                 NaN                    NaN   \n",
       "\n",
       "      budget financing_source  ratings             genres  box_office  \n",
       "1797     NaN              NaN      NaN                NaN         NaN  \n",
       "4701     NaN              NaN      6.7  мелодрама,комедия         NaN  "
      ]
     },
     "execution_count": 334,
     "metadata": {},
     "output_type": "execute_result"
    }
   ],
   "source": [
    "print(data['puNumber'].max())\n",
    "\n",
    "print(data[data['puNumber'] != 0]['puNumber'].min())\n",
    "\n",
    "data[data['puNumber'] <111000000.0]"
   ]
  },
  {
   "cell_type": "code",
   "execution_count": 335,
   "metadata": {},
   "outputs": [
    {
     "name": "stdout",
     "output_type": "stream",
     "text": [
      "180.0\n",
      "0.0\n"
     ]
    },
    {
     "data": {
      "image/png": "[encoded data removed]",
      "text/plain": [
       "<Figure size 432x288 with 1 Axes>"
      ]
     },
     "metadata": {
      "needs_background": "light"
     },
     "output_type": "display_data"
    }
   ],
   "source": [
    "#удалим значение puNumber 1811096.0, там моги потерять знаки\n",
    "data['puNumber'] = data['puNumber'].replace(1811096.0, 0)\n",
    "\n",
    "#переведем порядок денег, переведем в млн\n",
    "data['refundable_support'] = data['refundable_support']/1000000\n",
    "data['nonrefundable_support'] = data['nonrefundable_support']/1000000\n",
    "data['budget'] = data['budget']/1000000\n",
    "data['box_office'] = data['box_office']/1000000\n",
    "\n",
    "#проверим refundable_support\n",
    "print(data['refundable_support'].max())\n",
    "\n",
    "print(data['refundable_support'].min())\n",
    "\n",
    "data.boxplot('refundable_support')\n",
    "plt.show()"
   ]
  },
  {
   "cell_type": "code",
   "execution_count": 336,
   "metadata": {},
   "outputs": [
    {
     "data": {
      "image/png": "[encoded data removed]",
      "text/plain": [
       "<Figure size 432x288 with 1 Axes>"
      ]
     },
     "metadata": {
      "needs_background": "light"
     },
     "output_type": "display_data"
    }
   ],
   "source": [
    "data.boxplot('refundable_support')\n",
    "plt.show()"
   ]
  },
  {
   "cell_type": "code",
   "execution_count": 337,
   "metadata": {},
   "outputs": [
    {
     "data": {
      "text/html": [
       "<div>\n",
       "<style scoped>\n",
       "    .dataframe tbody tr th:only-of-type {\n",
       "        vertical-align: middle;\n",
       "    }\n",
       "\n",
       "    .dataframe tbody tr th {\n",
       "        vertical-align: top;\n",
       "    }\n",
       "\n",
       "    .dataframe thead th {\n",
       "        text-align: right;\n",
       "    }\n",
       "</style>\n",
       "<table border=\"1\" class=\"dataframe\">\n",
       "  <thead>\n",
       "    <tr style=\"text-align: right;\">\n",
       "      <th></th>\n",
       "      <th>title</th>\n",
       "      <th>puNumber</th>\n",
       "      <th>show_start_date</th>\n",
       "      <th>type</th>\n",
       "      <th>film_studio</th>\n",
       "      <th>production_country</th>\n",
       "      <th>director</th>\n",
       "      <th>producer</th>\n",
       "      <th>age_restriction</th>\n",
       "      <th>refundable_support</th>\n",
       "      <th>nonrefundable_support</th>\n",
       "      <th>budget</th>\n",
       "      <th>financing_source</th>\n",
       "      <th>ratings</th>\n",
       "      <th>genres</th>\n",
       "      <th>box_office</th>\n",
       "    </tr>\n",
       "  </thead>\n",
       "  <tbody>\n",
       "    <tr>\n",
       "      <th>3164</th>\n",
       "      <td>Герой (2015)</td>\n",
       "      <td>111000416</td>\n",
       "      <td>2016-01-22 12:00:00+00:00</td>\n",
       "      <td>Художественный</td>\n",
       "      <td>ООО \"Студия 25\", ООО \"Медиа Арт Студио\", ООО ...</td>\n",
       "      <td>россия</td>\n",
       "      <td>Ю.Васильев</td>\n",
       "      <td>Э.Айнулова, Н.Дорошкевич, М.Журомская</td>\n",
       "      <td>12</td>\n",
       "      <td>110.0</td>\n",
       "      <td>30.0</td>\n",
       "      <td>222.177790</td>\n",
       "      <td>Министерство культуры, Фонд кино</td>\n",
       "      <td>7.1</td>\n",
       "      <td>мюзикл,боевик,драма</td>\n",
       "      <td>81.430627</td>\n",
       "    </tr>\n",
       "    <tr>\n",
       "      <th>3255</th>\n",
       "      <td>Время первых (2017)</td>\n",
       "      <td>111001317</td>\n",
       "      <td>2017-02-21 12:00:00+00:00</td>\n",
       "      <td>Художественный</td>\n",
       "      <td>ООО \"ТаББаК\", ООО \"Студия Третий Рим\"</td>\n",
       "      <td>россия</td>\n",
       "      <td>Д.Киселев</td>\n",
       "      <td>Т.Бекмамбетов, Е.Миронов</td>\n",
       "      <td>6</td>\n",
       "      <td>75.0</td>\n",
       "      <td>175.0</td>\n",
       "      <td>528.441977</td>\n",
       "      <td>Фонд кино</td>\n",
       "      <td>7.5</td>\n",
       "      <td>приключения,триллер,биография</td>\n",
       "      <td>544.332260</td>\n",
       "    </tr>\n",
       "    <tr>\n",
       "      <th>3351</th>\n",
       "      <td>Дуэлянт</td>\n",
       "      <td>111015416</td>\n",
       "      <td>2016-09-14 12:00:00+00:00</td>\n",
       "      <td>Художественный</td>\n",
       "      <td>ООО \"Нон-Стоп Продакшн\"</td>\n",
       "      <td>россия</td>\n",
       "      <td>А.Мизгирев</td>\n",
       "      <td>А.Роднянский, С.Мелькумов</td>\n",
       "      <td>16</td>\n",
       "      <td>150.0</td>\n",
       "      <td>300.0</td>\n",
       "      <td>684.200536</td>\n",
       "      <td>Фонд кино</td>\n",
       "      <td>6.6</td>\n",
       "      <td>драма</td>\n",
       "      <td>364.285140</td>\n",
       "    </tr>\n",
       "    <tr>\n",
       "      <th>3453</th>\n",
       "      <td>Ледокол</td>\n",
       "      <td>111016316</td>\n",
       "      <td>2016-10-11 12:00:00+00:00</td>\n",
       "      <td>Художественный</td>\n",
       "      <td>ООО \"Продюсерская фирма Игоря Толстунова\"</td>\n",
       "      <td>россия</td>\n",
       "      <td>Н.Хомерики</td>\n",
       "      <td>И.Толстунов, С.Козлов</td>\n",
       "      <td>12</td>\n",
       "      <td>100.0</td>\n",
       "      <td>200.0</td>\n",
       "      <td>430.000000</td>\n",
       "      <td>Фонд кино</td>\n",
       "      <td>6.5</td>\n",
       "      <td>драма</td>\n",
       "      <td>337.069663</td>\n",
       "    </tr>\n",
       "    <tr>\n",
       "      <th>5437</th>\n",
       "      <td>Матильда</td>\n",
       "      <td>111005717</td>\n",
       "      <td>2017-08-17 12:00:00+00:00</td>\n",
       "      <td>Художественный</td>\n",
       "      <td>ООО \"ТПО \"РОК\", ООО \"Матильда\"</td>\n",
       "      <td>россия</td>\n",
       "      <td>А.Учитель</td>\n",
       "      <td>А.Учитель, А.Достман, В.Винокур</td>\n",
       "      <td>16</td>\n",
       "      <td>110.0</td>\n",
       "      <td>190.0</td>\n",
       "      <td>1032.905957</td>\n",
       "      <td>Фонд кино</td>\n",
       "      <td>7.7</td>\n",
       "      <td>фэнтези,комедия,семейный</td>\n",
       "      <td>511.775548</td>\n",
       "    </tr>\n",
       "    <tr>\n",
       "      <th>5569</th>\n",
       "      <td>Легенда о Коловрате</td>\n",
       "      <td>111007617</td>\n",
       "      <td>2017-11-30 12:00:00+00:00</td>\n",
       "      <td>Художественный</td>\n",
       "      <td>ООО \"Продюсерский центр ИВАН\"</td>\n",
       "      <td>россия</td>\n",
       "      <td>И.Шурховецкий</td>\n",
       "      <td>ООО \"Централ Партнершип\",              АО \"Тел...</td>\n",
       "      <td>12</td>\n",
       "      <td>100.0</td>\n",
       "      <td>250.0</td>\n",
       "      <td>500.012729</td>\n",
       "      <td>Фонд кино</td>\n",
       "      <td>6.4</td>\n",
       "      <td>история,боевик,фэнтези</td>\n",
       "      <td>590.405065</td>\n",
       "    </tr>\n",
       "    <tr>\n",
       "      <th>6472</th>\n",
       "      <td>Три богатыря и наследница престола</td>\n",
       "      <td>114008818</td>\n",
       "      <td>2018-12-15 12:00:00+00:00</td>\n",
       "      <td>Анимационный</td>\n",
       "      <td>ООО \"Студия анимационного кино \"Мельница\"</td>\n",
       "      <td>россия</td>\n",
       "      <td>К.Бронзит</td>\n",
       "      <td>С.Сельянов, А.Боярский</td>\n",
       "      <td>6</td>\n",
       "      <td>115.0</td>\n",
       "      <td>0.0</td>\n",
       "      <td>185.500705</td>\n",
       "      <td>Фонд кино</td>\n",
       "      <td>6.5</td>\n",
       "      <td>мультфильм,приключения,семейный</td>\n",
       "      <td>577.368853</td>\n",
       "    </tr>\n",
       "    <tr>\n",
       "      <th>6509</th>\n",
       "      <td>Ёлки Последние</td>\n",
       "      <td>111023918</td>\n",
       "      <td>2018-12-10 12:00:00+00:00</td>\n",
       "      <td>Художественный</td>\n",
       "      <td>ООО \"ТаББаК\"</td>\n",
       "      <td>россия</td>\n",
       "      <td>Т.Бекмамбетов, А.Першин (псевдоним Ж.Крыжовник...</td>\n",
       "      <td>Т.Бекмамбетов, Г.Стрижевская</td>\n",
       "      <td>6</td>\n",
       "      <td>75.0</td>\n",
       "      <td>25.0</td>\n",
       "      <td>179.708770</td>\n",
       "      <td>Фонд кино</td>\n",
       "      <td>6.9</td>\n",
       "      <td>комедия</td>\n",
       "      <td>701.507030</td>\n",
       "    </tr>\n",
       "    <tr>\n",
       "      <th>7114</th>\n",
       "      <td>Тайна Печати Дракона</td>\n",
       "      <td>111012819</td>\n",
       "      <td>2019-09-12 12:00:00+00:00</td>\n",
       "      <td>Художественный</td>\n",
       "      <td>ООО \"Кинокомпания \"СТВ\"; ООО \"РФГ Корп\"; ООО \"...</td>\n",
       "      <td>россия, китай</td>\n",
       "      <td>О.Степченко</td>\n",
       "      <td>С.Сельянов, А.Петрухин</td>\n",
       "      <td>6</td>\n",
       "      <td>180.0</td>\n",
       "      <td>90.0</td>\n",
       "      <td>2305.074303</td>\n",
       "      <td>Фонд кино</td>\n",
       "      <td>5.8</td>\n",
       "      <td>приключения,фэнтези</td>\n",
       "      <td>333.597060</td>\n",
       "    </tr>\n",
       "    <tr>\n",
       "      <th>7453</th>\n",
       "      <td>Фиксики против кработов</td>\n",
       "      <td>114004819</td>\n",
       "      <td>2019-12-21 12:00:00+00:00</td>\n",
       "      <td>Анимационный</td>\n",
       "      <td>АО \"Аэроплан\"</td>\n",
       "      <td>россия</td>\n",
       "      <td>В.Бедошвили, О.Ужинов, И.Пшонкин, Д.Цыбулькин</td>\n",
       "      <td>Г.Васильев, С.Саркисов, И.Попов</td>\n",
       "      <td>6</td>\n",
       "      <td>80.0</td>\n",
       "      <td>40.0</td>\n",
       "      <td>270.000000</td>\n",
       "      <td>Фонд кино</td>\n",
       "      <td>7.5</td>\n",
       "      <td>мультфильм,детский,приключения</td>\n",
       "      <td>387.590522</td>\n",
       "    </tr>\n",
       "    <tr>\n",
       "      <th>7464</th>\n",
       "      <td>Союз спасения</td>\n",
       "      <td>111022019</td>\n",
       "      <td>2019-12-26 12:00:00+00:00</td>\n",
       "      <td>Художественный</td>\n",
       "      <td>ЗАО \"Дирекция кино\"</td>\n",
       "      <td>россия</td>\n",
       "      <td>А.Кравчук</td>\n",
       "      <td>А.Максимов, К.Эрнст</td>\n",
       "      <td>12</td>\n",
       "      <td>100.0</td>\n",
       "      <td>400.0</td>\n",
       "      <td>980.000000</td>\n",
       "      <td>Фонд кино</td>\n",
       "      <td>6.0</td>\n",
       "      <td>история,биография,драма</td>\n",
       "      <td>717.703186</td>\n",
       "    </tr>\n",
       "    <tr>\n",
       "      <th>7466</th>\n",
       "      <td>Иван Царевич и Серый Волк 4</td>\n",
       "      <td>114005019</td>\n",
       "      <td>2019-12-20 12:00:00+00:00</td>\n",
       "      <td>Анимационный</td>\n",
       "      <td>ООО \"Студия анимационного кино \"Мельница\"</td>\n",
       "      <td>россия</td>\n",
       "      <td>Д.Шмидт, К.Феоктистов</td>\n",
       "      <td>С.Сельянов, А.Боярский</td>\n",
       "      <td>6</td>\n",
       "      <td>100.0</td>\n",
       "      <td>0.0</td>\n",
       "      <td>190.000000</td>\n",
       "      <td>Фонд кино</td>\n",
       "      <td>6.7</td>\n",
       "      <td>мультфильм,приключения,семейный</td>\n",
       "      <td>501.069235</td>\n",
       "    </tr>\n",
       "    <tr>\n",
       "      <th>7474</th>\n",
       "      <td>Вторжение</td>\n",
       "      <td>111022519</td>\n",
       "      <td>2019-12-23 12:00:00+00:00</td>\n",
       "      <td>Художественный</td>\n",
       "      <td>ООО \"Арт Пикчерс Студия\", ООО \"Водород 2011\"</td>\n",
       "      <td>россия</td>\n",
       "      <td>Ф.Бондарчук</td>\n",
       "      <td>Ф.Бондарчук, М.Врубель, А.Андрющенко, Д.Рудовский</td>\n",
       "      <td>12</td>\n",
       "      <td>100.0</td>\n",
       "      <td>400.0</td>\n",
       "      <td>944.000000</td>\n",
       "      <td>Фонд кино</td>\n",
       "      <td>5.7</td>\n",
       "      <td>фантастика,боевик</td>\n",
       "      <td>NaN</td>\n",
       "    </tr>\n",
       "  </tbody>\n",
       "</table>\n",
       "</div>"
      ],
      "text/plain": [
       "                                   title   puNumber           show_start_date  \\\n",
       "3164                        Герой (2015)  111000416 2016-01-22 12:00:00+00:00   \n",
       "3255                 Время первых (2017)  111001317 2017-02-21 12:00:00+00:00   \n",
       "3351                             Дуэлянт  111015416 2016-09-14 12:00:00+00:00   \n",
       "3453                             Ледокол  111016316 2016-10-11 12:00:00+00:00   \n",
       "5437                            Матильда  111005717 2017-08-17 12:00:00+00:00   \n",
       "5569                 Легенда о Коловрате  111007617 2017-11-30 12:00:00+00:00   \n",
       "6472  Три богатыря и наследница престола  114008818 2018-12-15 12:00:00+00:00   \n",
       "6509                      Ёлки Последние  111023918 2018-12-10 12:00:00+00:00   \n",
       "7114                Тайна Печати Дракона  111012819 2019-09-12 12:00:00+00:00   \n",
       "7453             Фиксики против кработов  114004819 2019-12-21 12:00:00+00:00   \n",
       "7464                       Союз спасения  111022019 2019-12-26 12:00:00+00:00   \n",
       "7466         Иван Царевич и Серый Волк 4  114005019 2019-12-20 12:00:00+00:00   \n",
       "7474                           Вторжение  111022519 2019-12-23 12:00:00+00:00   \n",
       "\n",
       "                type                                        film_studio  \\\n",
       "3164  Художественный   ООО \"Студия 25\", ООО \"Медиа Арт Студио\", ООО ...   \n",
       "3255  Художественный              ООО \"ТаББаК\", ООО \"Студия Третий Рим\"   \n",
       "3351  Художественный                            ООО \"Нон-Стоп Продакшн\"   \n",
       "3453  Художественный          ООО \"Продюсерская фирма Игоря Толстунова\"   \n",
       "5437  Художественный                     ООО \"ТПО \"РОК\", ООО \"Матильда\"   \n",
       "5569  Художественный                      ООО \"Продюсерский центр ИВАН\"   \n",
       "6472    Анимационный          ООО \"Студия анимационного кино \"Мельница\"   \n",
       "6509  Художественный                                       ООО \"ТаББаК\"   \n",
       "7114  Художественный  ООО \"Кинокомпания \"СТВ\"; ООО \"РФГ Корп\"; ООО \"...   \n",
       "7453    Анимационный                                      АО \"Аэроплан\"   \n",
       "7464  Художественный                                ЗАО \"Дирекция кино\"   \n",
       "7466    Анимационный          ООО \"Студия анимационного кино \"Мельница\"   \n",
       "7474  Художественный       ООО \"Арт Пикчерс Студия\", ООО \"Водород 2011\"   \n",
       "\n",
       "     production_country                                           director  \\\n",
       "3164             россия                                         Ю.Васильев   \n",
       "3255             россия                                          Д.Киселев   \n",
       "3351             россия                                         А.Мизгирев   \n",
       "3453             россия                                         Н.Хомерики   \n",
       "5437             россия                                          А.Учитель   \n",
       "5569             россия                                      И.Шурховецкий   \n",
       "6472             россия                                          К.Бронзит   \n",
       "6509             россия  Т.Бекмамбетов, А.Першин (псевдоним Ж.Крыжовник...   \n",
       "7114      россия, китай                                        О.Степченко   \n",
       "7453             россия      В.Бедошвили, О.Ужинов, И.Пшонкин, Д.Цыбулькин   \n",
       "7464             россия                                          А.Кравчук   \n",
       "7466             россия                              Д.Шмидт, К.Феоктистов   \n",
       "7474             россия                                        Ф.Бондарчук   \n",
       "\n",
       "                                               producer  age_restriction  \\\n",
       "3164              Э.Айнулова, Н.Дорошкевич, М.Журомская               12   \n",
       "3255                           Т.Бекмамбетов, Е.Миронов                6   \n",
       "3351                          А.Роднянский, С.Мелькумов               16   \n",
       "3453                              И.Толстунов, С.Козлов               12   \n",
       "5437                    А.Учитель, А.Достман, В.Винокур               16   \n",
       "5569  ООО \"Централ Партнершип\",              АО \"Тел...               12   \n",
       "6472                             С.Сельянов, А.Боярский                6   \n",
       "6509                       Т.Бекмамбетов, Г.Стрижевская                6   \n",
       "7114                             С.Сельянов, А.Петрухин                6   \n",
       "7453                    Г.Васильев, С.Саркисов, И.Попов                6   \n",
       "7464                                А.Максимов, К.Эрнст               12   \n",
       "7466                             С.Сельянов, А.Боярский                6   \n",
       "7474  Ф.Бондарчук, М.Врубель, А.Андрющенко, Д.Рудовский               12   \n",
       "\n",
       "      refundable_support  nonrefundable_support       budget  \\\n",
       "3164               110.0                   30.0   222.177790   \n",
       "3255                75.0                  175.0   528.441977   \n",
       "3351               150.0                  300.0   684.200536   \n",
       "3453               100.0                  200.0   430.000000   \n",
       "5437               110.0                  190.0  1032.905957   \n",
       "5569               100.0                  250.0   500.012729   \n",
       "6472               115.0                    0.0   185.500705   \n",
       "6509                75.0                   25.0   179.708770   \n",
       "7114               180.0                   90.0  2305.074303   \n",
       "7453                80.0                   40.0   270.000000   \n",
       "7464               100.0                  400.0   980.000000   \n",
       "7466               100.0                    0.0   190.000000   \n",
       "7474               100.0                  400.0   944.000000   \n",
       "\n",
       "                      financing_source  ratings  \\\n",
       "3164  Министерство культуры, Фонд кино      7.1   \n",
       "3255                         Фонд кино      7.5   \n",
       "3351                         Фонд кино      6.6   \n",
       "3453                         Фонд кино      6.5   \n",
       "5437                         Фонд кино      7.7   \n",
       "5569                         Фонд кино      6.4   \n",
       "6472                         Фонд кино      6.5   \n",
       "6509                         Фонд кино      6.9   \n",
       "7114                         Фонд кино      5.8   \n",
       "7453                         Фонд кино      7.5   \n",
       "7464                         Фонд кино      6.0   \n",
       "7466                         Фонд кино      6.7   \n",
       "7474                         Фонд кино      5.7   \n",
       "\n",
       "                               genres  box_office  \n",
       "3164              мюзикл,боевик,драма   81.430627  \n",
       "3255    приключения,триллер,биография  544.332260  \n",
       "3351                            драма  364.285140  \n",
       "3453                            драма  337.069663  \n",
       "5437         фэнтези,комедия,семейный  511.775548  \n",
       "5569           история,боевик,фэнтези  590.405065  \n",
       "6472  мультфильм,приключения,семейный  577.368853  \n",
       "6509                          комедия  701.507030  \n",
       "7114              приключения,фэнтези  333.597060  \n",
       "7453   мультфильм,детский,приключения  387.590522  \n",
       "7464          история,биография,драма  717.703186  \n",
       "7466  мультфильм,приключения,семейный  501.069235  \n",
       "7474                фантастика,боевик         NaN  "
      ]
     },
     "execution_count": 337,
     "metadata": {},
     "output_type": "execute_result"
    }
   ],
   "source": [
    "data[data['refundable_support'] > 70]"
   ]
  },
  {
   "cell_type": "markdown",
   "metadata": {},
   "source": [
    "Разногласий не вижу, вряд ли это выбросы."
   ]
  },
  {
   "cell_type": "code",
   "execution_count": 338,
   "metadata": {},
   "outputs": [
    {
     "name": "stdout",
     "output_type": "stream",
     "text": [
      "400.0\n",
      "0.0\n"
     ]
    },
    {
     "data": {
      "image/png": "[encoded data removed]",
      "text/plain": [
       "<Figure size 432x288 with 1 Axes>"
      ]
     },
     "metadata": {
      "needs_background": "light"
     },
     "output_type": "display_data"
    }
   ],
   "source": [
    "#проверим nonrefundable_support\n",
    "print(data['nonrefundable_support'].max())\n",
    "\n",
    "print(data['nonrefundable_support'].min())\n",
    "\n",
    "data.boxplot('nonrefundable_support')\n",
    "plt.show()"
   ]
  },
  {
   "cell_type": "code",
   "execution_count": 339,
   "metadata": {},
   "outputs": [
    {
     "data": {
      "text/html": [
       "<div>\n",
       "<style scoped>\n",
       "    .dataframe tbody tr th:only-of-type {\n",
       "        vertical-align: middle;\n",
       "    }\n",
       "\n",
       "    .dataframe tbody tr th {\n",
       "        vertical-align: top;\n",
       "    }\n",
       "\n",
       "    .dataframe thead th {\n",
       "        text-align: right;\n",
       "    }\n",
       "</style>\n",
       "<table border=\"1\" class=\"dataframe\">\n",
       "  <thead>\n",
       "    <tr style=\"text-align: right;\">\n",
       "      <th></th>\n",
       "      <th>title</th>\n",
       "      <th>puNumber</th>\n",
       "      <th>show_start_date</th>\n",
       "      <th>type</th>\n",
       "      <th>film_studio</th>\n",
       "      <th>production_country</th>\n",
       "      <th>director</th>\n",
       "      <th>producer</th>\n",
       "      <th>age_restriction</th>\n",
       "      <th>refundable_support</th>\n",
       "      <th>nonrefundable_support</th>\n",
       "      <th>budget</th>\n",
       "      <th>financing_source</th>\n",
       "      <th>ratings</th>\n",
       "      <th>genres</th>\n",
       "      <th>box_office</th>\n",
       "    </tr>\n",
       "  </thead>\n",
       "  <tbody>\n",
       "    <tr>\n",
       "      <th>2920</th>\n",
       "      <td>Экипаж .</td>\n",
       "      <td>111005416</td>\n",
       "      <td>2016-03-21 12:00:00+00:00</td>\n",
       "      <td>Художественный</td>\n",
       "      <td>ООО \"Студия \"ТРИТЭ\" Никиты Михалкова\"</td>\n",
       "      <td>россия</td>\n",
       "      <td>Н.Лебедев</td>\n",
       "      <td>Л.Верещагин, А.Златопольский, Н.Михалков, ООО ...</td>\n",
       "      <td>6</td>\n",
       "      <td>50.0</td>\n",
       "      <td>392.104482</td>\n",
       "      <td>635.283867</td>\n",
       "      <td>Фонд кино</td>\n",
       "      <td>7.6</td>\n",
       "      <td>драма,триллер,приключения</td>\n",
       "      <td>1402.255390</td>\n",
       "    </tr>\n",
       "    <tr>\n",
       "      <th>5653</th>\n",
       "      <td>Движение вверх</td>\n",
       "      <td>111011817</td>\n",
       "      <td>2017-12-21 12:00:00+00:00</td>\n",
       "      <td>Художественный</td>\n",
       "      <td>ООО \"Студия \"ТРИТЭ\" Никиты Михалкова\"</td>\n",
       "      <td>россия</td>\n",
       "      <td>А.Мегердичев</td>\n",
       "      <td>Л.Верещагин, А.Златопольский, Н.Михалков, ООО ...</td>\n",
       "      <td>6</td>\n",
       "      <td>0.0</td>\n",
       "      <td>400.000000</td>\n",
       "      <td>590.192191</td>\n",
       "      <td>Фонд кино</td>\n",
       "      <td>7.5</td>\n",
       "      <td>спорт,драма</td>\n",
       "      <td>2779.686144</td>\n",
       "    </tr>\n",
       "    <tr>\n",
       "      <th>7464</th>\n",
       "      <td>Союз спасения</td>\n",
       "      <td>111022019</td>\n",
       "      <td>2019-12-26 12:00:00+00:00</td>\n",
       "      <td>Художественный</td>\n",
       "      <td>ЗАО \"Дирекция кино\"</td>\n",
       "      <td>россия</td>\n",
       "      <td>А.Кравчук</td>\n",
       "      <td>А.Максимов, К.Эрнст</td>\n",
       "      <td>12</td>\n",
       "      <td>100.0</td>\n",
       "      <td>400.000000</td>\n",
       "      <td>980.000000</td>\n",
       "      <td>Фонд кино</td>\n",
       "      <td>6.0</td>\n",
       "      <td>история,биография,драма</td>\n",
       "      <td>717.703186</td>\n",
       "    </tr>\n",
       "    <tr>\n",
       "      <th>7474</th>\n",
       "      <td>Вторжение</td>\n",
       "      <td>111022519</td>\n",
       "      <td>2019-12-23 12:00:00+00:00</td>\n",
       "      <td>Художественный</td>\n",
       "      <td>ООО \"Арт Пикчерс Студия\", ООО \"Водород 2011\"</td>\n",
       "      <td>россия</td>\n",
       "      <td>Ф.Бондарчук</td>\n",
       "      <td>Ф.Бондарчук, М.Врубель, А.Андрющенко, Д.Рудовский</td>\n",
       "      <td>12</td>\n",
       "      <td>100.0</td>\n",
       "      <td>400.000000</td>\n",
       "      <td>944.000000</td>\n",
       "      <td>Фонд кино</td>\n",
       "      <td>5.7</td>\n",
       "      <td>фантастика,боевик</td>\n",
       "      <td>NaN</td>\n",
       "    </tr>\n",
       "  </tbody>\n",
       "</table>\n",
       "</div>"
      ],
      "text/plain": [
       "               title   puNumber           show_start_date            type  \\\n",
       "2920        Экипаж .  111005416 2016-03-21 12:00:00+00:00  Художественный   \n",
       "5653  Движение вверх  111011817 2017-12-21 12:00:00+00:00  Художественный   \n",
       "7464   Союз спасения  111022019 2019-12-26 12:00:00+00:00  Художественный   \n",
       "7474       Вторжение  111022519 2019-12-23 12:00:00+00:00  Художественный   \n",
       "\n",
       "                                       film_studio production_country  \\\n",
       "2920         ООО \"Студия \"ТРИТЭ\" Никиты Михалкова\"             россия   \n",
       "5653         ООО \"Студия \"ТРИТЭ\" Никиты Михалкова\"             россия   \n",
       "7464                           ЗАО \"Дирекция кино\"             россия   \n",
       "7474  ООО \"Арт Пикчерс Студия\", ООО \"Водород 2011\"             россия   \n",
       "\n",
       "          director                                           producer  \\\n",
       "2920     Н.Лебедев  Л.Верещагин, А.Златопольский, Н.Михалков, ООО ...   \n",
       "5653  А.Мегердичев  Л.Верещагин, А.Златопольский, Н.Михалков, ООО ...   \n",
       "7464     А.Кравчук                                А.Максимов, К.Эрнст   \n",
       "7474   Ф.Бондарчук  Ф.Бондарчук, М.Врубель, А.Андрющенко, Д.Рудовский   \n",
       "\n",
       "      age_restriction  refundable_support  nonrefundable_support      budget  \\\n",
       "2920                6                50.0             392.104482  635.283867   \n",
       "5653                6                 0.0             400.000000  590.192191   \n",
       "7464               12               100.0             400.000000  980.000000   \n",
       "7474               12               100.0             400.000000  944.000000   \n",
       "\n",
       "     financing_source  ratings                     genres   box_office  \n",
       "2920        Фонд кино      7.6  драма,триллер,приключения  1402.255390  \n",
       "5653        Фонд кино      7.5                спорт,драма  2779.686144  \n",
       "7464        Фонд кино      6.0    история,биография,драма   717.703186  \n",
       "7474        Фонд кино      5.7          фантастика,боевик          NaN  "
      ]
     },
     "execution_count": 339,
     "metadata": {},
     "output_type": "execute_result"
    }
   ],
   "source": [
    "data[data['nonrefundable_support'] > 350]"
   ]
  },
  {
   "cell_type": "markdown",
   "metadata": {},
   "source": [
    "Разногласий не вижу, вряд ли это выбросы."
   ]
  },
  {
   "cell_type": "code",
   "execution_count": 340,
   "metadata": {},
   "outputs": [
    {
     "name": "stdout",
     "output_type": "stream",
     "text": [
      "2305.074303\n",
      "0.0\n"
     ]
    },
    {
     "data": {
      "image/png": "[encoded data removed]",
      "text/plain": [
       "<Figure size 432x288 with 1 Axes>"
      ]
     },
     "metadata": {
      "needs_background": "light"
     },
     "output_type": "display_data"
    }
   ],
   "source": [
    "#проверим budget\n",
    "print(data['budget'].max())\n",
    "\n",
    "print(data['budget'].min())\n",
    "\n",
    "data.boxplot('budget')\n",
    "plt.show()"
   ]
  },
  {
   "cell_type": "code",
   "execution_count": 341,
   "metadata": {},
   "outputs": [
    {
     "data": {
      "text/html": [
       "<div>\n",
       "<style scoped>\n",
       "    .dataframe tbody tr th:only-of-type {\n",
       "        vertical-align: middle;\n",
       "    }\n",
       "\n",
       "    .dataframe tbody tr th {\n",
       "        vertical-align: top;\n",
       "    }\n",
       "\n",
       "    .dataframe thead th {\n",
       "        text-align: right;\n",
       "    }\n",
       "</style>\n",
       "<table border=\"1\" class=\"dataframe\">\n",
       "  <thead>\n",
       "    <tr style=\"text-align: right;\">\n",
       "      <th></th>\n",
       "      <th>title</th>\n",
       "      <th>puNumber</th>\n",
       "      <th>show_start_date</th>\n",
       "      <th>type</th>\n",
       "      <th>film_studio</th>\n",
       "      <th>production_country</th>\n",
       "      <th>director</th>\n",
       "      <th>producer</th>\n",
       "      <th>age_restriction</th>\n",
       "      <th>refundable_support</th>\n",
       "      <th>nonrefundable_support</th>\n",
       "      <th>budget</th>\n",
       "      <th>financing_source</th>\n",
       "      <th>ratings</th>\n",
       "      <th>genres</th>\n",
       "      <th>box_office</th>\n",
       "    </tr>\n",
       "  </thead>\n",
       "  <tbody>\n",
       "    <tr>\n",
       "      <th>7114</th>\n",
       "      <td>Тайна Печати Дракона</td>\n",
       "      <td>111012819</td>\n",
       "      <td>2019-09-12 12:00:00+00:00</td>\n",
       "      <td>Художественный</td>\n",
       "      <td>ООО \"Кинокомпания \"СТВ\"; ООО \"РФГ Корп\"; ООО \"...</td>\n",
       "      <td>россия, китай</td>\n",
       "      <td>О.Степченко</td>\n",
       "      <td>С.Сельянов, А.Петрухин</td>\n",
       "      <td>6</td>\n",
       "      <td>180.0</td>\n",
       "      <td>90.0</td>\n",
       "      <td>2305.074303</td>\n",
       "      <td>Фонд кино</td>\n",
       "      <td>5.8</td>\n",
       "      <td>приключения,фэнтези</td>\n",
       "      <td>333.59706</td>\n",
       "    </tr>\n",
       "  </tbody>\n",
       "</table>\n",
       "</div>"
      ],
      "text/plain": [
       "                     title   puNumber           show_start_date  \\\n",
       "7114  Тайна Печати Дракона  111012819 2019-09-12 12:00:00+00:00   \n",
       "\n",
       "                type                                        film_studio  \\\n",
       "7114  Художественный  ООО \"Кинокомпания \"СТВ\"; ООО \"РФГ Корп\"; ООО \"...   \n",
       "\n",
       "     production_country     director                producer  age_restriction  \\\n",
       "7114      россия, китай  О.Степченко  С.Сельянов, А.Петрухин                6   \n",
       "\n",
       "      refundable_support  nonrefundable_support       budget financing_source  \\\n",
       "7114               180.0                   90.0  2305.074303        Фонд кино   \n",
       "\n",
       "      ratings               genres  box_office  \n",
       "7114      5.8  приключения,фэнтези   333.59706  "
      ]
     },
     "execution_count": 341,
     "metadata": {},
     "output_type": "execute_result"
    }
   ],
   "source": [
    "data[data['budget'] > 2000]"
   ]
  },
  {
   "cell_type": "markdown",
   "metadata": {},
   "source": [
    "Это значение сильно выбивается, скорее всего оно неверное. Удалим его"
   ]
  },
  {
   "cell_type": "code",
   "execution_count": 342,
   "metadata": {},
   "outputs": [],
   "source": [
    "data['budget'] = data['budget'].replace(2305.074303, 0)"
   ]
  },
  {
   "cell_type": "code",
   "execution_count": 343,
   "metadata": {},
   "outputs": [
    {
     "name": "stdout",
     "output_type": "stream",
     "text": [
      "3073.56869079\n",
      "0.0\n"
     ]
    },
    {
     "data": {
      "image/png": "[encoded data removed]",
      "text/plain": [
       "<Figure size 432x288 with 1 Axes>"
      ]
     },
     "metadata": {
      "needs_background": "light"
     },
     "output_type": "display_data"
    }
   ],
   "source": [
    "#проверим box_office\n",
    "print(data['box_office'].max())\n",
    "\n",
    "print(data['box_office'].min())\n",
    "\n",
    "data.boxplot('box_office')\n",
    "plt.show()"
   ]
  },
  {
   "cell_type": "code",
   "execution_count": 344,
   "metadata": {},
   "outputs": [
    {
     "data": {
      "text/html": [
       "<div>\n",
       "<style scoped>\n",
       "    .dataframe tbody tr th:only-of-type {\n",
       "        vertical-align: middle;\n",
       "    }\n",
       "\n",
       "    .dataframe tbody tr th {\n",
       "        vertical-align: top;\n",
       "    }\n",
       "\n",
       "    .dataframe thead th {\n",
       "        text-align: right;\n",
       "    }\n",
       "</style>\n",
       "<table border=\"1\" class=\"dataframe\">\n",
       "  <thead>\n",
       "    <tr style=\"text-align: right;\">\n",
       "      <th></th>\n",
       "      <th>title</th>\n",
       "      <th>puNumber</th>\n",
       "      <th>show_start_date</th>\n",
       "      <th>type</th>\n",
       "      <th>film_studio</th>\n",
       "      <th>production_country</th>\n",
       "      <th>director</th>\n",
       "      <th>producer</th>\n",
       "      <th>age_restriction</th>\n",
       "      <th>refundable_support</th>\n",
       "      <th>nonrefundable_support</th>\n",
       "      <th>budget</th>\n",
       "      <th>financing_source</th>\n",
       "      <th>ratings</th>\n",
       "      <th>genres</th>\n",
       "      <th>box_office</th>\n",
       "    </tr>\n",
       "  </thead>\n",
       "  <tbody>\n",
       "    <tr>\n",
       "      <th>5653</th>\n",
       "      <td>Движение вверх</td>\n",
       "      <td>111011817</td>\n",
       "      <td>2017-12-21 12:00:00+00:00</td>\n",
       "      <td>Художественный</td>\n",
       "      <td>ООО \"Студия \"ТРИТЭ\" Никиты Михалкова\"</td>\n",
       "      <td>россия</td>\n",
       "      <td>А.Мегердичев</td>\n",
       "      <td>Л.Верещагин, А.Златопольский, Н.Михалков, ООО ...</td>\n",
       "      <td>6</td>\n",
       "      <td>0.0</td>\n",
       "      <td>400.0</td>\n",
       "      <td>590.192191</td>\n",
       "      <td>Фонд кино</td>\n",
       "      <td>7.5</td>\n",
       "      <td>спорт,драма</td>\n",
       "      <td>2779.686144</td>\n",
       "    </tr>\n",
       "    <tr>\n",
       "      <th>6820</th>\n",
       "      <td>Мстители: Финал</td>\n",
       "      <td>121005519</td>\n",
       "      <td>2019-04-29 12:00:00+00:00</td>\n",
       "      <td>Художественный</td>\n",
       "      <td>Марвел Студиос</td>\n",
       "      <td>сша</td>\n",
       "      <td>Джо Руссо, Энтони Руссо</td>\n",
       "      <td>Кевин Фейги</td>\n",
       "      <td>16</td>\n",
       "      <td>NaN</td>\n",
       "      <td>NaN</td>\n",
       "      <td>NaN</td>\n",
       "      <td>NaN</td>\n",
       "      <td>7.6</td>\n",
       "      <td>фантастика,боевик,драма</td>\n",
       "      <td>2576.613777</td>\n",
       "    </tr>\n",
       "    <tr>\n",
       "      <th>7456</th>\n",
       "      <td>Холоп</td>\n",
       "      <td>111021719</td>\n",
       "      <td>2019-12-19 12:00:00+00:00</td>\n",
       "      <td>Художественный</td>\n",
       "      <td>ООО \"МЕМ-МЕДИА\" по заказу АО \"ВБД Груп\"</td>\n",
       "      <td>россия</td>\n",
       "      <td>К.Шипенко</td>\n",
       "      <td>Э.Илоян, Д.Жалинский, В.Дусмухаметов, Т.Бадзие...</td>\n",
       "      <td>12</td>\n",
       "      <td>25.0</td>\n",
       "      <td>35.0</td>\n",
       "      <td>160.000000</td>\n",
       "      <td>Фонд кино</td>\n",
       "      <td>6.8</td>\n",
       "      <td>комедия</td>\n",
       "      <td>3073.568691</td>\n",
       "    </tr>\n",
       "  </tbody>\n",
       "</table>\n",
       "</div>"
      ],
      "text/plain": [
       "                title   puNumber           show_start_date            type  \\\n",
       "5653   Движение вверх  111011817 2017-12-21 12:00:00+00:00  Художественный   \n",
       "6820  Мстители: Финал  121005519 2019-04-29 12:00:00+00:00  Художественный   \n",
       "7456            Холоп  111021719 2019-12-19 12:00:00+00:00  Художественный   \n",
       "\n",
       "                                  film_studio production_country  \\\n",
       "5653    ООО \"Студия \"ТРИТЭ\" Никиты Михалкова\"             россия   \n",
       "6820                           Марвел Студиос                сша   \n",
       "7456  ООО \"МЕМ-МЕДИА\" по заказу АО \"ВБД Груп\"             россия   \n",
       "\n",
       "                     director  \\\n",
       "5653             А.Мегердичев   \n",
       "6820  Джо Руссо, Энтони Руссо   \n",
       "7456                К.Шипенко   \n",
       "\n",
       "                                               producer  age_restriction  \\\n",
       "5653  Л.Верещагин, А.Златопольский, Н.Михалков, ООО ...                6   \n",
       "6820                                        Кевин Фейги               16   \n",
       "7456  Э.Илоян, Д.Жалинский, В.Дусмухаметов, Т.Бадзие...               12   \n",
       "\n",
       "      refundable_support  nonrefundable_support      budget financing_source  \\\n",
       "5653                 0.0                  400.0  590.192191        Фонд кино   \n",
       "6820                 NaN                    NaN         NaN              NaN   \n",
       "7456                25.0                   35.0  160.000000        Фонд кино   \n",
       "\n",
       "      ratings                   genres   box_office  \n",
       "5653      7.5              спорт,драма  2779.686144  \n",
       "6820      7.6  фантастика,боевик,драма  2576.613777  \n",
       "7456      6.8                  комедия  3073.568691  "
      ]
     },
     "execution_count": 344,
     "metadata": {},
     "output_type": "execute_result"
    }
   ],
   "source": [
    "data[data['box_office'] > 2500]"
   ]
  },
  {
   "cell_type": "markdown",
   "metadata": {},
   "source": [
    "Данные вполне реальны. Выбросов нет."
   ]
  },
  {
   "cell_type": "markdown",
   "metadata": {},
   "source": [
    "Проверим, может ли сумма возвратной и невозвратной поддержек быть больше бюджета"
   ]
  },
  {
   "cell_type": "code",
   "execution_count": 345,
   "metadata": {},
   "outputs": [],
   "source": [
    "#создадим столбец с общей суммой поддержки\n",
    "data['support'] = data['refundable_support'] + data['nonrefundable_support']\n"
   ]
  },
  {
   "cell_type": "code",
   "execution_count": 346,
   "metadata": {
    "scrolled": true
   },
   "outputs": [
    {
     "data": {
      "text/html": [
       "<div>\n",
       "<style scoped>\n",
       "    .dataframe tbody tr th:only-of-type {\n",
       "        vertical-align: middle;\n",
       "    }\n",
       "\n",
       "    .dataframe tbody tr th {\n",
       "        vertical-align: top;\n",
       "    }\n",
       "\n",
       "    .dataframe thead th {\n",
       "        text-align: right;\n",
       "    }\n",
       "</style>\n",
       "<table border=\"1\" class=\"dataframe\">\n",
       "  <thead>\n",
       "    <tr style=\"text-align: right;\">\n",
       "      <th></th>\n",
       "      <th>title</th>\n",
       "      <th>puNumber</th>\n",
       "      <th>show_start_date</th>\n",
       "      <th>type</th>\n",
       "      <th>film_studio</th>\n",
       "      <th>production_country</th>\n",
       "      <th>director</th>\n",
       "      <th>producer</th>\n",
       "      <th>age_restriction</th>\n",
       "      <th>refundable_support</th>\n",
       "      <th>nonrefundable_support</th>\n",
       "      <th>budget</th>\n",
       "      <th>financing_source</th>\n",
       "      <th>ratings</th>\n",
       "      <th>genres</th>\n",
       "      <th>box_office</th>\n",
       "      <th>support</th>\n",
       "    </tr>\n",
       "  </thead>\n",
       "  <tbody>\n",
       "    <tr>\n",
       "      <th>1281</th>\n",
       "      <td>Пока еще жива</td>\n",
       "      <td>111005313</td>\n",
       "      <td>2013-10-11 12:00:00+00:00</td>\n",
       "      <td>Художественный</td>\n",
       "      <td>АНО содействия развитию кинематографии \"Ангел-...</td>\n",
       "      <td>россия</td>\n",
       "      <td>А.Атанесян</td>\n",
       "      <td>А.Атанесян, М.Бабаханов, Р.Бутко</td>\n",
       "      <td>16</td>\n",
       "      <td>0.0</td>\n",
       "      <td>26.500000</td>\n",
       "      <td>79.411900</td>\n",
       "      <td>Министерство культуры</td>\n",
       "      <td>8.1</td>\n",
       "      <td>драма,мелодрама</td>\n",
       "      <td>0.365354</td>\n",
       "      <td>26.500000</td>\n",
       "    </tr>\n",
       "    <tr>\n",
       "      <th>1448</th>\n",
       "      <td>Бесславные придурки</td>\n",
       "      <td>111003314</td>\n",
       "      <td>2014-03-28 12:00:00+00:00</td>\n",
       "      <td>Художественный</td>\n",
       "      <td>ООО \"Компания \"АТК-Студио\"</td>\n",
       "      <td>россия</td>\n",
       "      <td>А.Якимчук</td>\n",
       "      <td>А.Тютрюмов</td>\n",
       "      <td>12</td>\n",
       "      <td>0.0</td>\n",
       "      <td>26.000000</td>\n",
       "      <td>37.142857</td>\n",
       "      <td>Министерство культуры</td>\n",
       "      <td>NaN</td>\n",
       "      <td>NaN</td>\n",
       "      <td>0.028140</td>\n",
       "      <td>26.000000</td>\n",
       "    </tr>\n",
       "    <tr>\n",
       "      <th>1498</th>\n",
       "      <td>Невидимки</td>\n",
       "      <td>111004213</td>\n",
       "      <td>2013-09-10 12:00:00+00:00</td>\n",
       "      <td>Художественный</td>\n",
       "      <td>ООО \"Компания \"РЕАЛ-ДАКОТА\"</td>\n",
       "      <td>россия</td>\n",
       "      <td>Р.Давлетьяров, С.Комаров</td>\n",
       "      <td>Р.Давлетьяров, А.Котелевский, А.Олейников</td>\n",
       "      <td>12</td>\n",
       "      <td>0.0</td>\n",
       "      <td>107.847945</td>\n",
       "      <td>176.023490</td>\n",
       "      <td>Фонд кино</td>\n",
       "      <td>5.3</td>\n",
       "      <td>комедия,фантастика</td>\n",
       "      <td>19.957031</td>\n",
       "      <td>107.847945</td>\n",
       "    </tr>\n",
       "    <tr>\n",
       "      <th>1524</th>\n",
       "      <td>БЕРЦЫ</td>\n",
       "      <td>111004314</td>\n",
       "      <td>2014-05-05 12:00:00+00:00</td>\n",
       "      <td>Художественный</td>\n",
       "      <td>ООО \"Студия \"Пассажир\"</td>\n",
       "      <td>россия</td>\n",
       "      <td>Е.Миндадзе (псевдоним Катя Шагалова)</td>\n",
       "      <td>Л.Антонова</td>\n",
       "      <td>16</td>\n",
       "      <td>0.0</td>\n",
       "      <td>28.000000</td>\n",
       "      <td>40.574140</td>\n",
       "      <td>Министерство культуры</td>\n",
       "      <td>4.2</td>\n",
       "      <td>драма</td>\n",
       "      <td>0.055918</td>\n",
       "      <td>28.000000</td>\n",
       "    </tr>\n",
       "    <tr>\n",
       "      <th>1792</th>\n",
       "      <td>Братья Ч</td>\n",
       "      <td>111004414</td>\n",
       "      <td>2014-04-23 12:00:00+00:00</td>\n",
       "      <td>Художественный</td>\n",
       "      <td>ООО \"Студия \"Пассажир\"</td>\n",
       "      <td>россия</td>\n",
       "      <td>М.Угаров</td>\n",
       "      <td>А.Миндадзе, Л.Антонова</td>\n",
       "      <td>16</td>\n",
       "      <td>0.0</td>\n",
       "      <td>25.000000</td>\n",
       "      <td>40.015122</td>\n",
       "      <td>Министерство культуры</td>\n",
       "      <td>6.4</td>\n",
       "      <td>драма</td>\n",
       "      <td>0.232100</td>\n",
       "      <td>25.000000</td>\n",
       "    </tr>\n",
       "    <tr>\n",
       "      <th>...</th>\n",
       "      <td>...</td>\n",
       "      <td>...</td>\n",
       "      <td>...</td>\n",
       "      <td>...</td>\n",
       "      <td>...</td>\n",
       "      <td>...</td>\n",
       "      <td>...</td>\n",
       "      <td>...</td>\n",
       "      <td>...</td>\n",
       "      <td>...</td>\n",
       "      <td>...</td>\n",
       "      <td>...</td>\n",
       "      <td>...</td>\n",
       "      <td>...</td>\n",
       "      <td>...</td>\n",
       "      <td>...</td>\n",
       "      <td>...</td>\n",
       "    </tr>\n",
       "    <tr>\n",
       "      <th>7253</th>\n",
       "      <td>Волшебник</td>\n",
       "      <td>111016219</td>\n",
       "      <td>2019-10-03 12:00:00+00:00</td>\n",
       "      <td>Художественный</td>\n",
       "      <td>ООО \"Медиа Юниверсал\"</td>\n",
       "      <td>россия</td>\n",
       "      <td>М.Морсков</td>\n",
       "      <td>Б.Анисимов, И.Магомедов, В.Маслов</td>\n",
       "      <td>12</td>\n",
       "      <td>0.0</td>\n",
       "      <td>25.000000</td>\n",
       "      <td>40.000000</td>\n",
       "      <td>Министерство культуры</td>\n",
       "      <td>7.1</td>\n",
       "      <td>фэнтези,драма,детектив</td>\n",
       "      <td>13.848462</td>\n",
       "      <td>25.000000</td>\n",
       "    </tr>\n",
       "    <tr>\n",
       "      <th>7290</th>\n",
       "      <td>Урфин Джюс возвращается</td>\n",
       "      <td>114004019</td>\n",
       "      <td>2019-10-14 12:00:00+00:00</td>\n",
       "      <td>Анимационный</td>\n",
       "      <td>ООО \"Студия анимационного кино \"Мельница\"</td>\n",
       "      <td>россия</td>\n",
       "      <td>Ф.Дмитриев</td>\n",
       "      <td>С.Сельянов, А.Боярский</td>\n",
       "      <td>6</td>\n",
       "      <td>0.0</td>\n",
       "      <td>200.000000</td>\n",
       "      <td>300.000000</td>\n",
       "      <td>Фонд кино</td>\n",
       "      <td>6.2</td>\n",
       "      <td>мультфильм,детский</td>\n",
       "      <td>68.549523</td>\n",
       "      <td>200.000000</td>\n",
       "    </tr>\n",
       "    <tr>\n",
       "      <th>7320</th>\n",
       "      <td>Новогодний ремонт</td>\n",
       "      <td>111018219</td>\n",
       "      <td>2019-11-07 12:00:00+00:00</td>\n",
       "      <td>Художественный</td>\n",
       "      <td>ООО \"ВитЭл\"</td>\n",
       "      <td>россия</td>\n",
       "      <td>А.Пинхасов</td>\n",
       "      <td>Е.Михайлова, В.Галыгин, В.Колесник, А.Седых, Г...</td>\n",
       "      <td>12</td>\n",
       "      <td>0.0</td>\n",
       "      <td>20.000000</td>\n",
       "      <td>30.448911</td>\n",
       "      <td>Министерство культуры</td>\n",
       "      <td>5.6</td>\n",
       "      <td>комедия,мелодрама</td>\n",
       "      <td>3.591456</td>\n",
       "      <td>20.000000</td>\n",
       "    </tr>\n",
       "    <tr>\n",
       "      <th>7322</th>\n",
       "      <td>Успех</td>\n",
       "      <td>111018519</td>\n",
       "      <td>2019-11-04 12:00:00+00:00</td>\n",
       "      <td>Художественный</td>\n",
       "      <td>ООО \"Кинодом\"</td>\n",
       "      <td>россия</td>\n",
       "      <td>П.Руминов</td>\n",
       "      <td>С.Бобза, Г.Малков, В.Поляков, М.Кучмент</td>\n",
       "      <td>12</td>\n",
       "      <td>5.0</td>\n",
       "      <td>20.000000</td>\n",
       "      <td>75.000000</td>\n",
       "      <td>Фонд кино</td>\n",
       "      <td>7.8</td>\n",
       "      <td>драма</td>\n",
       "      <td>3.181218</td>\n",
       "      <td>25.000000</td>\n",
       "    </tr>\n",
       "    <tr>\n",
       "      <th>7375</th>\n",
       "      <td>Тварь</td>\n",
       "      <td>111019419</td>\n",
       "      <td>2019-11-26 12:00:00+00:00</td>\n",
       "      <td>Художественный</td>\n",
       "      <td>ООО \"СОК\"</td>\n",
       "      <td>россия</td>\n",
       "      <td>О.Городецкая</td>\n",
       "      <td>П.Зарукин, О.Филипук, Ф.Ламшин, М.Абрамов, Н.Т...</td>\n",
       "      <td>16</td>\n",
       "      <td>5.0</td>\n",
       "      <td>35.000000</td>\n",
       "      <td>78.422212</td>\n",
       "      <td>Фонд кино</td>\n",
       "      <td>5.0</td>\n",
       "      <td>триллер,драма</td>\n",
       "      <td>18.617157</td>\n",
       "      <td>40.000000</td>\n",
       "    </tr>\n",
       "  </tbody>\n",
       "</table>\n",
       "<p>200 rows × 17 columns</p>\n",
       "</div>"
      ],
      "text/plain": [
       "                        title   puNumber           show_start_date  \\\n",
       "1281            Пока еще жива  111005313 2013-10-11 12:00:00+00:00   \n",
       "1448      Бесславные придурки  111003314 2014-03-28 12:00:00+00:00   \n",
       "1498                Невидимки  111004213 2013-09-10 12:00:00+00:00   \n",
       "1524                    БЕРЦЫ  111004314 2014-05-05 12:00:00+00:00   \n",
       "1792                 Братья Ч  111004414 2014-04-23 12:00:00+00:00   \n",
       "...                       ...        ...                       ...   \n",
       "7253                Волшебник  111016219 2019-10-03 12:00:00+00:00   \n",
       "7290  Урфин Джюс возвращается  114004019 2019-10-14 12:00:00+00:00   \n",
       "7320        Новогодний ремонт  111018219 2019-11-07 12:00:00+00:00   \n",
       "7322                    Успех  111018519 2019-11-04 12:00:00+00:00   \n",
       "7375                    Тварь  111019419 2019-11-26 12:00:00+00:00   \n",
       "\n",
       "                type                                        film_studio  \\\n",
       "1281  Художественный  АНО содействия развитию кинематографии \"Ангел-...   \n",
       "1448  Художественный                         ООО \"Компания \"АТК-Студио\"   \n",
       "1498  Художественный                        ООО \"Компания \"РЕАЛ-ДАКОТА\"   \n",
       "1524  Художественный                             ООО \"Студия \"Пассажир\"   \n",
       "1792  Художественный                             ООО \"Студия \"Пассажир\"   \n",
       "...              ...                                                ...   \n",
       "7253  Художественный                              ООО \"Медиа Юниверсал\"   \n",
       "7290    Анимационный          ООО \"Студия анимационного кино \"Мельница\"   \n",
       "7320  Художественный                                        ООО \"ВитЭл\"   \n",
       "7322  Художественный                                      ООО \"Кинодом\"   \n",
       "7375  Художественный                                          ООО \"СОК\"   \n",
       "\n",
       "     production_country                              director  \\\n",
       "1281             россия                            А.Атанесян   \n",
       "1448             россия                             А.Якимчук   \n",
       "1498             россия              Р.Давлетьяров, С.Комаров   \n",
       "1524             россия  Е.Миндадзе (псевдоним Катя Шагалова)   \n",
       "1792             россия                              М.Угаров   \n",
       "...                 ...                                   ...   \n",
       "7253             россия                             М.Морсков   \n",
       "7290             россия                            Ф.Дмитриев   \n",
       "7320             россия                            А.Пинхасов   \n",
       "7322             россия                             П.Руминов   \n",
       "7375             россия                          О.Городецкая   \n",
       "\n",
       "                                               producer  age_restriction  \\\n",
       "1281                   А.Атанесян, М.Бабаханов, Р.Бутко               16   \n",
       "1448                                         А.Тютрюмов               12   \n",
       "1498          Р.Давлетьяров, А.Котелевский, А.Олейников               12   \n",
       "1524                                         Л.Антонова               16   \n",
       "1792                             А.Миндадзе, Л.Антонова               16   \n",
       "...                                                 ...              ...   \n",
       "7253                  Б.Анисимов, И.Магомедов, В.Маслов               12   \n",
       "7290                             С.Сельянов, А.Боярский                6   \n",
       "7320  Е.Михайлова, В.Галыгин, В.Колесник, А.Седых, Г...               12   \n",
       "7322            С.Бобза, Г.Малков, В.Поляков, М.Кучмент               12   \n",
       "7375  П.Зарукин, О.Филипук, Ф.Ламшин, М.Абрамов, Н.Т...               16   \n",
       "\n",
       "      refundable_support  nonrefundable_support      budget  \\\n",
       "1281                 0.0              26.500000   79.411900   \n",
       "1448                 0.0              26.000000   37.142857   \n",
       "1498                 0.0             107.847945  176.023490   \n",
       "1524                 0.0              28.000000   40.574140   \n",
       "1792                 0.0              25.000000   40.015122   \n",
       "...                  ...                    ...         ...   \n",
       "7253                 0.0              25.000000   40.000000   \n",
       "7290                 0.0             200.000000  300.000000   \n",
       "7320                 0.0              20.000000   30.448911   \n",
       "7322                 5.0              20.000000   75.000000   \n",
       "7375                 5.0              35.000000   78.422212   \n",
       "\n",
       "           financing_source  ratings                  genres  box_office  \\\n",
       "1281  Министерство культуры      8.1         драма,мелодрама    0.365354   \n",
       "1448  Министерство культуры      NaN                     NaN    0.028140   \n",
       "1498              Фонд кино      5.3      комедия,фантастика   19.957031   \n",
       "1524  Министерство культуры      4.2                   драма    0.055918   \n",
       "1792  Министерство культуры      6.4                   драма    0.232100   \n",
       "...                     ...      ...                     ...         ...   \n",
       "7253  Министерство культуры      7.1  фэнтези,драма,детектив   13.848462   \n",
       "7290              Фонд кино      6.2      мультфильм,детский   68.549523   \n",
       "7320  Министерство культуры      5.6       комедия,мелодрама    3.591456   \n",
       "7322              Фонд кино      7.8                   драма    3.181218   \n",
       "7375              Фонд кино      5.0           триллер,драма   18.617157   \n",
       "\n",
       "         support  \n",
       "1281   26.500000  \n",
       "1448   26.000000  \n",
       "1498  107.847945  \n",
       "1524   28.000000  \n",
       "1792   25.000000  \n",
       "...          ...  \n",
       "7253   25.000000  \n",
       "7290  200.000000  \n",
       "7320   20.000000  \n",
       "7322   25.000000  \n",
       "7375   40.000000  \n",
       "\n",
       "[200 rows x 17 columns]"
      ]
     },
     "execution_count": 346,
     "metadata": {},
     "output_type": "execute_result"
    }
   ],
   "source": [
    "#выведем строки с суммой возвратной и невозвратной поддержек больше бюджета\n",
    "\n",
    "#создадим столбец с общей суммой поддержки\n",
    "data[data['box_office'] < data['support']]"
   ]
  },
  {
   "cell_type": "markdown",
   "metadata": {},
   "source": [
    "200 фильмов, где деньги куда-то делись"
   ]
  },
  {
   "cell_type": "markdown",
   "metadata": {},
   "source": [
    "### Добавление новых столбцов"
   ]
  },
  {
   "cell_type": "code",
   "execution_count": 347,
   "metadata": {},
   "outputs": [],
   "source": [
    "#создадим отдельный столбец только с годами\n",
    "data['only_year'] = data['show_start_date'].dt.year\n",
    "\n",
    "#функция для разделения \n",
    "def get_first_value_func(i):\n",
    "    try:\n",
    "        i = i.split(',')\n",
    "        i = i[0]\n",
    "    except:\n",
    "        pass\n",
    "    return i\n",
    "    \n",
    "#создадим столбец с именем и фамилией главного режиссёра. В столбцы войдут первые значения\n",
    "data['name_director'] = data['director'].apply(get_first_value_func)\n",
    "\n",
    "#создадим столбец с основным жанром фильма. В столбцы войдут первые значения\n",
    "data['one_genre'] = data['genres'].apply(get_first_value_func)\n",
    "\n",
    "#создадим столбец с долей государственной поддержки от общего бюджета фильма\n",
    "data['proportion_support'] = (data['refundable_support'] + data['nonrefundable_support'])/data['budget']"
   ]
  },
  {
   "cell_type": "markdown",
   "metadata": {},
   "source": [
    "## Исследовательский анализ данных\n",
    "\n",
    "###  Посмотрим, сколько фильмов выходило в прокат каждый год\n",
    "\n"
   ]
  },
  {
   "cell_type": "code",
   "execution_count": 348,
   "metadata": {},
   "outputs": [
    {
     "data": {
      "text/html": [
       "<div>\n",
       "<style scoped>\n",
       "    .dataframe tbody tr th:only-of-type {\n",
       "        vertical-align: middle;\n",
       "    }\n",
       "\n",
       "    .dataframe tbody tr th {\n",
       "        vertical-align: top;\n",
       "    }\n",
       "\n",
       "    .dataframe thead th {\n",
       "        text-align: right;\n",
       "    }\n",
       "</style>\n",
       "<table border=\"1\" class=\"dataframe\">\n",
       "  <thead>\n",
       "    <tr style=\"text-align: right;\">\n",
       "      <th></th>\n",
       "      <th>puNumber</th>\n",
       "    </tr>\n",
       "    <tr>\n",
       "      <th>only_year</th>\n",
       "      <th></th>\n",
       "    </tr>\n",
       "  </thead>\n",
       "  <tbody>\n",
       "    <tr>\n",
       "      <th>2010</th>\n",
       "      <td>985</td>\n",
       "    </tr>\n",
       "    <tr>\n",
       "      <th>2011</th>\n",
       "      <td>622</td>\n",
       "    </tr>\n",
       "    <tr>\n",
       "      <th>2012</th>\n",
       "      <td>593</td>\n",
       "    </tr>\n",
       "    <tr>\n",
       "      <th>2013</th>\n",
       "      <td>630</td>\n",
       "    </tr>\n",
       "    <tr>\n",
       "      <th>2014</th>\n",
       "      <td>807</td>\n",
       "    </tr>\n",
       "    <tr>\n",
       "      <th>2015</th>\n",
       "      <td>705</td>\n",
       "    </tr>\n",
       "    <tr>\n",
       "      <th>2016</th>\n",
       "      <td>818</td>\n",
       "    </tr>\n",
       "    <tr>\n",
       "      <th>2017</th>\n",
       "      <td>505</td>\n",
       "    </tr>\n",
       "    <tr>\n",
       "      <th>2018</th>\n",
       "      <td>891</td>\n",
       "    </tr>\n",
       "    <tr>\n",
       "      <th>2019</th>\n",
       "      <td>930</td>\n",
       "    </tr>\n",
       "  </tbody>\n",
       "</table>\n",
       "</div>"
      ],
      "text/plain": [
       "           puNumber\n",
       "only_year          \n",
       "2010            985\n",
       "2011            622\n",
       "2012            593\n",
       "2013            630\n",
       "2014            807\n",
       "2015            705\n",
       "2016            818\n",
       "2017            505\n",
       "2018            891\n",
       "2019            930"
      ]
     },
     "execution_count": 348,
     "metadata": {},
     "output_type": "execute_result"
    }
   ],
   "source": [
    "#сгруппируем по годам и посчитаем количество фильмов\n",
    "data.pivot_table(index='only_year', values='puNumber', aggfunc='count')"
   ]
  },
  {
   "cell_type": "code",
   "execution_count": 349,
   "metadata": {},
   "outputs": [
    {
     "data": {
      "image/png": "[encoded data removed]",
      "text/plain": [
       "<Figure size 432x288 with 1 Axes>"
      ]
     },
     "metadata": {
      "needs_background": "light"
     },
     "output_type": "display_data"
    }
   ],
   "source": [
    "#построим гистограмму\n",
    "data.hist('only_year', bins = 10)\n",
    "plt.show()"
   ]
  },
  {
   "cell_type": "code",
   "execution_count": 350,
   "metadata": {},
   "outputs": [
    {
     "data": {
      "text/html": [
       "<div>\n",
       "<style scoped>\n",
       "    .dataframe tbody tr th:only-of-type {\n",
       "        vertical-align: middle;\n",
       "    }\n",
       "\n",
       "    .dataframe tbody tr th {\n",
       "        vertical-align: top;\n",
       "    }\n",
       "\n",
       "    .dataframe thead th {\n",
       "        text-align: right;\n",
       "    }\n",
       "</style>\n",
       "<table border=\"1\" class=\"dataframe\">\n",
       "  <thead>\n",
       "    <tr style=\"text-align: right;\">\n",
       "      <th></th>\n",
       "      <th>puNumber</th>\n",
       "    </tr>\n",
       "    <tr>\n",
       "      <th>only_year</th>\n",
       "      <th></th>\n",
       "    </tr>\n",
       "  </thead>\n",
       "  <tbody>\n",
       "    <tr>\n",
       "      <th>2010</th>\n",
       "      <td>101</td>\n",
       "    </tr>\n",
       "    <tr>\n",
       "      <th>2011</th>\n",
       "      <td>109</td>\n",
       "    </tr>\n",
       "    <tr>\n",
       "      <th>2012</th>\n",
       "      <td>123</td>\n",
       "    </tr>\n",
       "    <tr>\n",
       "      <th>2013</th>\n",
       "      <td>179</td>\n",
       "    </tr>\n",
       "    <tr>\n",
       "      <th>2014</th>\n",
       "      <td>273</td>\n",
       "    </tr>\n",
       "    <tr>\n",
       "      <th>2015</th>\n",
       "      <td>462</td>\n",
       "    </tr>\n",
       "    <tr>\n",
       "      <th>2016</th>\n",
       "      <td>525</td>\n",
       "    </tr>\n",
       "    <tr>\n",
       "      <th>2017</th>\n",
       "      <td>357</td>\n",
       "    </tr>\n",
       "    <tr>\n",
       "      <th>2018</th>\n",
       "      <td>475</td>\n",
       "    </tr>\n",
       "    <tr>\n",
       "      <th>2019</th>\n",
       "      <td>530</td>\n",
       "    </tr>\n",
       "  </tbody>\n",
       "</table>\n",
       "</div>"
      ],
      "text/plain": [
       "           puNumber\n",
       "only_year          \n",
       "2010            101\n",
       "2011            109\n",
       "2012            123\n",
       "2013            179\n",
       "2014            273\n",
       "2015            462\n",
       "2016            525\n",
       "2017            357\n",
       "2018            475\n",
       "2019            530"
      ]
     },
     "execution_count": 350,
     "metadata": {},
     "output_type": "execute_result"
    }
   ],
   "source": [
    "#дата только с известным прокатом\n",
    "data_kinoteatr = data.query('box_office>0')\n",
    "\n",
    "#сгруппируем по годам и посчитаем количество фильмов c известным прокатом\n",
    "data_kinoteatr.pivot_table(index='only_year', values='puNumber', aggfunc='count')"
   ]
  },
  {
   "cell_type": "code",
   "execution_count": 351,
   "metadata": {},
   "outputs": [
    {
     "data": {
      "image/png": "[encoded data removed]",
      "text/plain": [
       "<Figure size 432x288 with 1 Axes>"
      ]
     },
     "metadata": {
      "needs_background": "light"
     },
     "output_type": "display_data"
    }
   ],
   "source": [
    "#построим гистограмму\n",
    "data_kinoteatr.hist('only_year', bins = 10)\n",
    "plt.show()"
   ]
  },
  {
   "cell_type": "code",
   "execution_count": 352,
   "metadata": {},
   "outputs": [
    {
     "data": {
      "text/html": [
       "<div>\n",
       "<style scoped>\n",
       "    .dataframe tbody tr th:only-of-type {\n",
       "        vertical-align: middle;\n",
       "    }\n",
       "\n",
       "    .dataframe tbody tr th {\n",
       "        vertical-align: top;\n",
       "    }\n",
       "\n",
       "    .dataframe thead th {\n",
       "        text-align: right;\n",
       "    }\n",
       "</style>\n",
       "<table border=\"1\" class=\"dataframe\">\n",
       "  <thead>\n",
       "    <tr style=\"text-align: right;\">\n",
       "      <th></th>\n",
       "      <th>year</th>\n",
       "      <th>count_all</th>\n",
       "      <th>count</th>\n",
       "      <th>proportion</th>\n",
       "    </tr>\n",
       "  </thead>\n",
       "  <tbody>\n",
       "    <tr>\n",
       "      <th>0</th>\n",
       "      <td>2010</td>\n",
       "      <td>985</td>\n",
       "      <td>101</td>\n",
       "      <td>0.102538</td>\n",
       "    </tr>\n",
       "    <tr>\n",
       "      <th>1</th>\n",
       "      <td>2011</td>\n",
       "      <td>622</td>\n",
       "      <td>109</td>\n",
       "      <td>0.175241</td>\n",
       "    </tr>\n",
       "    <tr>\n",
       "      <th>2</th>\n",
       "      <td>2012</td>\n",
       "      <td>593</td>\n",
       "      <td>123</td>\n",
       "      <td>0.207420</td>\n",
       "    </tr>\n",
       "    <tr>\n",
       "      <th>3</th>\n",
       "      <td>2013</td>\n",
       "      <td>630</td>\n",
       "      <td>179</td>\n",
       "      <td>0.284127</td>\n",
       "    </tr>\n",
       "    <tr>\n",
       "      <th>4</th>\n",
       "      <td>2014</td>\n",
       "      <td>807</td>\n",
       "      <td>273</td>\n",
       "      <td>0.338290</td>\n",
       "    </tr>\n",
       "    <tr>\n",
       "      <th>5</th>\n",
       "      <td>2015</td>\n",
       "      <td>705</td>\n",
       "      <td>462</td>\n",
       "      <td>0.655319</td>\n",
       "    </tr>\n",
       "    <tr>\n",
       "      <th>6</th>\n",
       "      <td>2016</td>\n",
       "      <td>818</td>\n",
       "      <td>525</td>\n",
       "      <td>0.641809</td>\n",
       "    </tr>\n",
       "    <tr>\n",
       "      <th>7</th>\n",
       "      <td>2017</td>\n",
       "      <td>505</td>\n",
       "      <td>357</td>\n",
       "      <td>0.706931</td>\n",
       "    </tr>\n",
       "    <tr>\n",
       "      <th>8</th>\n",
       "      <td>2018</td>\n",
       "      <td>891</td>\n",
       "      <td>475</td>\n",
       "      <td>0.533109</td>\n",
       "    </tr>\n",
       "    <tr>\n",
       "      <th>9</th>\n",
       "      <td>2019</td>\n",
       "      <td>930</td>\n",
       "      <td>530</td>\n",
       "      <td>0.569892</td>\n",
       "    </tr>\n",
       "  </tbody>\n",
       "</table>\n",
       "</div>"
      ],
      "text/plain": [
       "   year  count_all  count  proportion\n",
       "0  2010        985    101    0.102538\n",
       "1  2011        622    109    0.175241\n",
       "2  2012        593    123    0.207420\n",
       "3  2013        630    179    0.284127\n",
       "4  2014        807    273    0.338290\n",
       "5  2015        705    462    0.655319\n",
       "6  2016        818    525    0.641809\n",
       "7  2017        505    357    0.706931\n",
       "8  2018        891    475    0.533109\n",
       "9  2019        930    530    0.569892"
      ]
     },
     "execution_count": 352,
     "metadata": {},
     "output_type": "execute_result"
    }
   ],
   "source": [
    "#создадим датафрейм с годами и количеством фильмов всего и с известным прокатом\n",
    "count_films_of_year = pd.DataFrame({\n",
    "    'year': [2010, 2011, 2012, 2013, 2014, 2015, 2016, 2017, 2018, 2019],\n",
    "    'count_all': [985, 622,593, 630, 807, 705, 818, 505, 891, 930],\n",
    "    'count': [101, 109,123,179,273,462,525,357, 475, 530]\n",
    "        })\n",
    "\n",
    "#создадим столбец с долей\n",
    "count_films_of_year['proportion'] = count_films_of_year['count']/count_films_of_year['count_all']\n",
    "\n",
    "count_films_of_year"
   ]
  },
  {
   "cell_type": "code",
   "execution_count": 353,
   "metadata": {},
   "outputs": [
    {
     "data": {
      "image/png": "[encoded data removed]",
      "text/plain": [
       "<Figure size 432x288 with 1 Axes>"
      ]
     },
     "metadata": {
      "needs_background": "light"
     },
     "output_type": "display_data"
    }
   ],
   "source": [
    "#посмотрим распределение доли по годам\n",
    "count_films_of_year.plot(x='year', y='proportion', style='o')\n",
    "plt.show()"
   ]
  },
  {
   "cell_type": "markdown",
   "metadata": {},
   "source": [
    "Меньше всего фильмов представлено в 2012 году. Больше всего предсталено в 2010 и 2019.\n",
    "\n",
    "Если говорить о фильмах в российском прокате, то видна тенденция к увеличению доли фильмов с прокатом с годами. Большая доля приходится на 2015-2017 годы. В целом количество фильмов с российским прокатом резко увеличивается в 2015 году."
   ]
  },
  {
   "cell_type": "markdown",
   "metadata": {},
   "source": [
    "### Изучим, как менялась динамика проката по годам"
   ]
  },
  {
   "cell_type": "code",
   "execution_count": 354,
   "metadata": {},
   "outputs": [
    {
     "name": "stdout",
     "output_type": "stream",
     "text": [
      "             box_office\n",
      "only_year              \n",
      "2010           2.428654\n",
      "2011          14.102765\n",
      "2012           6.955423\n",
      "2013          29.799706\n",
      "2014        7444.951859\n",
      "2015       39497.365196\n",
      "2016       47866.299742\n",
      "2017       48563.707218\n",
      "2018       49668.403134\n",
      "2019       48425.708780\n"
     ]
    },
    {
     "data": {
      "image/png": "[encoded data removed]",
      "text/plain": [
       "<Figure size 432x288 with 1 Axes>"
      ]
     },
     "metadata": {
      "needs_background": "light"
     },
     "output_type": "display_data"
    }
   ],
   "source": [
    "#сгруппируем и найдем суммарные сборы по годам\n",
    "print(data_kinoteatr.pivot_table(index='only_year', values='box_office', aggfunc='sum'))\n",
    "\n",
    "\n",
    "#построим график\n",
    "data_kinoteatr.pivot_table(index='only_year', values='box_office', aggfunc='sum').plot(title='Суммарные сборы по годам')\n",
    "plt.show()"
   ]
  },
  {
   "cell_type": "markdown",
   "metadata": {},
   "source": [
    "Очеидно, что сумма сборов в 2010 году была минимальной, а в 2018 году максимальной. Виден сильный рост в сборах, начавшийся в 2013 году, и который вышел на плато после 2016 года."
   ]
  },
  {
   "cell_type": "markdown",
   "metadata": {},
   "source": [
    "### Посчитаем среднюю и медианную сумму сборов для каждого года\n"
   ]
  },
  {
   "cell_type": "code",
   "execution_count": 355,
   "metadata": {},
   "outputs": [
    {
     "data": {
      "text/html": [
       "<div>\n",
       "<style scoped>\n",
       "    .dataframe tbody tr th:only-of-type {\n",
       "        vertical-align: middle;\n",
       "    }\n",
       "\n",
       "    .dataframe tbody tr th {\n",
       "        vertical-align: top;\n",
       "    }\n",
       "\n",
       "    .dataframe thead tr th {\n",
       "        text-align: left;\n",
       "    }\n",
       "\n",
       "    .dataframe thead tr:last-of-type th {\n",
       "        text-align: right;\n",
       "    }\n",
       "</style>\n",
       "<table border=\"1\" class=\"dataframe\">\n",
       "  <thead>\n",
       "    <tr>\n",
       "      <th></th>\n",
       "      <th>mean</th>\n",
       "      <th>median</th>\n",
       "    </tr>\n",
       "    <tr>\n",
       "      <th></th>\n",
       "      <th>box_office</th>\n",
       "      <th>box_office</th>\n",
       "    </tr>\n",
       "    <tr>\n",
       "      <th>only_year</th>\n",
       "      <th></th>\n",
       "      <th></th>\n",
       "    </tr>\n",
       "  </thead>\n",
       "  <tbody>\n",
       "    <tr>\n",
       "      <th>2010</th>\n",
       "      <td>0.024046</td>\n",
       "      <td>0.001710</td>\n",
       "    </tr>\n",
       "    <tr>\n",
       "      <th>2011</th>\n",
       "      <td>0.129383</td>\n",
       "      <td>0.003000</td>\n",
       "    </tr>\n",
       "    <tr>\n",
       "      <th>2012</th>\n",
       "      <td>0.056548</td>\n",
       "      <td>0.006220</td>\n",
       "    </tr>\n",
       "    <tr>\n",
       "      <th>2013</th>\n",
       "      <td>0.166479</td>\n",
       "      <td>0.003580</td>\n",
       "    </tr>\n",
       "    <tr>\n",
       "      <th>2014</th>\n",
       "      <td>27.270886</td>\n",
       "      <td>0.020400</td>\n",
       "    </tr>\n",
       "    <tr>\n",
       "      <th>2015</th>\n",
       "      <td>85.492132</td>\n",
       "      <td>5.003450</td>\n",
       "    </tr>\n",
       "    <tr>\n",
       "      <th>2016</th>\n",
       "      <td>91.173904</td>\n",
       "      <td>3.915041</td>\n",
       "    </tr>\n",
       "    <tr>\n",
       "      <th>2017</th>\n",
       "      <td>136.032793</td>\n",
       "      <td>9.968340</td>\n",
       "    </tr>\n",
       "    <tr>\n",
       "      <th>2018</th>\n",
       "      <td>104.565059</td>\n",
       "      <td>8.891102</td>\n",
       "    </tr>\n",
       "    <tr>\n",
       "      <th>2019</th>\n",
       "      <td>91.369262</td>\n",
       "      <td>4.627798</td>\n",
       "    </tr>\n",
       "  </tbody>\n",
       "</table>\n",
       "</div>"
      ],
      "text/plain": [
       "                 mean     median\n",
       "           box_office box_office\n",
       "only_year                       \n",
       "2010         0.024046   0.001710\n",
       "2011         0.129383   0.003000\n",
       "2012         0.056548   0.006220\n",
       "2013         0.166479   0.003580\n",
       "2014        27.270886   0.020400\n",
       "2015        85.492132   5.003450\n",
       "2016        91.173904   3.915041\n",
       "2017       136.032793   9.968340\n",
       "2018       104.565059   8.891102\n",
       "2019        91.369262   4.627798"
      ]
     },
     "execution_count": 355,
     "metadata": {},
     "output_type": "execute_result"
    }
   ],
   "source": [
    "#сгруппируем по годам и найдем среднее и медиану сборов\n",
    "data_kinoteatr.pivot_table(index='only_year', values='box_office', aggfunc=['mean', 'median'])"
   ]
  },
  {
   "cell_type": "markdown",
   "metadata": {},
   "source": [
    "Необходимо учитывать медианное значение сборов, а не среднее, потому что медиана более устойчива к выбросам больших и маленьких значений, показывает наиболее частое значение сборов. Так, например, можно увидеть, что средние сборы в 2014 году были около 27млн, а медианное значение около 0.02млн, что говорит о том, что в 2014 году был какой-то фильм с очень большим кассовым сбором, который как раз повышает среднее значение."
   ]
  },
  {
   "cell_type": "markdown",
   "metadata": {},
   "source": [
    "### Определим, влияет ли возрастное ограничение аудитории на сборы фильма в прокате в период с 2015 по 2019 год"
   ]
  },
  {
   "cell_type": "code",
   "execution_count": 356,
   "metadata": {},
   "outputs": [
    {
     "name": "stdout",
     "output_type": "stream",
     "text": [
      "                 box_office\n",
      "age_restriction            \n",
      "0                  0.085800\n",
      "12                 0.007067\n",
      "16                 0.006787\n",
      "18                 0.006798\n"
     ]
    }
   ],
   "source": [
    "#найдём средние сборы для каждого возрастного ограничения\n",
    "data_kinoteatr_2010 = data_kinoteatr.query('only_year == 2010')\n",
    "\n",
    "print(data_kinoteatr_2010.pivot_table(index='age_restriction', values='box_office'))\n"
   ]
  },
  {
   "cell_type": "code",
   "execution_count": 357,
   "metadata": {},
   "outputs": [
    {
     "name": "stdout",
     "output_type": "stream",
     "text": [
      "                 box_office\n",
      "age_restriction            \n",
      "0                  0.449996\n",
      "6                  0.000450\n",
      "12                 0.009995\n",
      "16                 0.007065\n",
      "18                 0.000520\n"
     ]
    }
   ],
   "source": [
    "data_kinoteatr_2011 = data_kinoteatr.query('only_year == 2011')\n",
    "\n",
    "print(data_kinoteatr_2011.pivot_table(index='age_restriction', values='box_office'))"
   ]
  },
  {
   "cell_type": "code",
   "execution_count": 358,
   "metadata": {},
   "outputs": [
    {
     "name": "stdout",
     "output_type": "stream",
     "text": [
      "                 box_office\n",
      "age_restriction            \n",
      "0                  0.075549\n",
      "6                  0.071463\n",
      "12                 0.008364\n",
      "16                 0.069239\n",
      "18                 0.010740\n"
     ]
    }
   ],
   "source": [
    "data_kinoteatr_2012 = data_kinoteatr.query('only_year == 2012')\n",
    "\n",
    "print(data_kinoteatr_2012.pivot_table(index='age_restriction', values='box_office'))"
   ]
  },
  {
   "cell_type": "code",
   "execution_count": 359,
   "metadata": {},
   "outputs": [
    {
     "name": "stdout",
     "output_type": "stream",
     "text": [
      "                 box_office\n",
      "age_restriction            \n",
      "0                  0.073251\n",
      "6                  0.014390\n",
      "12                 0.366848\n",
      "16                 0.014956\n",
      "18                 0.322578\n"
     ]
    }
   ],
   "source": [
    "data_kinoteatr_2013 = data_kinoteatr.query('only_year == 2013')\n",
    "\n",
    "print(data_kinoteatr_2013.pivot_table(index='age_restriction', values='box_office'))"
   ]
  },
  {
   "cell_type": "code",
   "execution_count": 360,
   "metadata": {},
   "outputs": [
    {
     "name": "stdout",
     "output_type": "stream",
     "text": [
      "                 box_office\n",
      "age_restriction            \n",
      "0                  9.883217\n",
      "6                 59.676360\n",
      "12                31.910893\n",
      "16                 6.803501\n",
      "18                49.104728\n"
     ]
    }
   ],
   "source": [
    "data_kinoteatr_2014 = data_kinoteatr.query('only_year == 2014')\n",
    "\n",
    "print(data_kinoteatr_2014.pivot_table(index='age_restriction', values='box_office'))\n"
   ]
  },
  {
   "cell_type": "code",
   "execution_count": 361,
   "metadata": {},
   "outputs": [
    {
     "name": "stdout",
     "output_type": "stream",
     "text": [
      "                 box_office\n",
      "age_restriction            \n",
      "0                  9.975120\n",
      "6                164.184894\n",
      "12               189.112250\n",
      "16                68.072580\n",
      "18                41.153851\n"
     ]
    }
   ],
   "source": [
    "data_kinoteatr_2015 = data_kinoteatr.query('only_year == 2015')\n",
    "\n",
    "print(data_kinoteatr_2015.pivot_table(index='age_restriction', values='box_office'))"
   ]
  },
  {
   "cell_type": "code",
   "execution_count": 362,
   "metadata": {},
   "outputs": [
    {
     "name": "stdout",
     "output_type": "stream",
     "text": [
      "                 box_office\n",
      "age_restriction            \n",
      "0                  3.664118\n",
      "6                172.187800\n",
      "12               148.834714\n",
      "16                92.069329\n",
      "18                44.992913\n"
     ]
    }
   ],
   "source": [
    "data_kinoteatr_2016 = data_kinoteatr.query('only_year == 2016')\n",
    "\n",
    "print(data_kinoteatr_2016.pivot_table(index='age_restriction', values='box_office'))"
   ]
  },
  {
   "cell_type": "code",
   "execution_count": 363,
   "metadata": {},
   "outputs": [
    {
     "name": "stdout",
     "output_type": "stream",
     "text": [
      "                 box_office\n",
      "age_restriction            \n",
      "0                 76.532977\n",
      "6                268.580937\n",
      "12               191.498236\n",
      "16               154.917710\n",
      "18                65.656433\n"
     ]
    }
   ],
   "source": [
    "data_kinoteatr_2017 = data_kinoteatr.query('only_year == 2017')\n",
    "\n",
    "print(data_kinoteatr_2017.pivot_table(index='age_restriction', values='box_office'))"
   ]
  },
  {
   "cell_type": "code",
   "execution_count": 364,
   "metadata": {},
   "outputs": [
    {
     "name": "stdout",
     "output_type": "stream",
     "text": [
      "                 box_office\n",
      "age_restriction            \n",
      "0                  6.489800\n",
      "6                148.602568\n",
      "12               212.944652\n",
      "16               105.792323\n",
      "18                48.939025\n"
     ]
    }
   ],
   "source": [
    "data_kinoteatr_2018 = data_kinoteatr.query('only_year == 2018')\n",
    "\n",
    "print(data_kinoteatr_2018.pivot_table(index='age_restriction', values='box_office'))"
   ]
  },
  {
   "cell_type": "code",
   "execution_count": 365,
   "metadata": {},
   "outputs": [
    {
     "name": "stdout",
     "output_type": "stream",
     "text": [
      "                 box_office\n",
      "age_restriction            \n",
      "0                  5.915356\n",
      "6                158.673440\n",
      "12               149.178809\n",
      "16                71.648421\n",
      "18                55.310362\n"
     ]
    }
   ],
   "source": [
    "data_kinoteatr_2019 = data_kinoteatr.query('only_year == 2019')\n",
    "\n",
    "print(data_kinoteatr_2019.pivot_table(index='age_restriction', values='box_office'))"
   ]
  },
  {
   "cell_type": "code",
   "execution_count": 366,
   "metadata": {},
   "outputs": [
    {
     "data": {
      "text/html": [
       "<div>\n",
       "<style scoped>\n",
       "    .dataframe tbody tr th:only-of-type {\n",
       "        vertical-align: middle;\n",
       "    }\n",
       "\n",
       "    .dataframe tbody tr th {\n",
       "        vertical-align: top;\n",
       "    }\n",
       "\n",
       "    .dataframe thead th {\n",
       "        text-align: right;\n",
       "    }\n",
       "</style>\n",
       "<table border=\"1\" class=\"dataframe\">\n",
       "  <thead>\n",
       "    <tr style=\"text-align: right;\">\n",
       "      <th></th>\n",
       "      <th>box_office_0</th>\n",
       "      <th>box_office_6</th>\n",
       "      <th>box_office_12</th>\n",
       "      <th>box_office_16</th>\n",
       "      <th>box_office_18</th>\n",
       "    </tr>\n",
       "  </thead>\n",
       "  <tbody>\n",
       "    <tr>\n",
       "      <th>0</th>\n",
       "      <td>0.085801</td>\n",
       "      <td>0.000000</td>\n",
       "      <td>0.007067</td>\n",
       "      <td>0.006787</td>\n",
       "      <td>0.006798</td>\n",
       "    </tr>\n",
       "    <tr>\n",
       "      <th>1</th>\n",
       "      <td>0.449996</td>\n",
       "      <td>0.000450</td>\n",
       "      <td>0.009995</td>\n",
       "      <td>0.007065</td>\n",
       "      <td>0.000520</td>\n",
       "    </tr>\n",
       "    <tr>\n",
       "      <th>2</th>\n",
       "      <td>0.075549</td>\n",
       "      <td>0.071463</td>\n",
       "      <td>0.008364</td>\n",
       "      <td>0.069239</td>\n",
       "      <td>0.010740</td>\n",
       "    </tr>\n",
       "    <tr>\n",
       "      <th>3</th>\n",
       "      <td>0.073251</td>\n",
       "      <td>0.014390</td>\n",
       "      <td>0.366848</td>\n",
       "      <td>0.014956</td>\n",
       "      <td>0.322578</td>\n",
       "    </tr>\n",
       "    <tr>\n",
       "      <th>4</th>\n",
       "      <td>9.883217</td>\n",
       "      <td>59.676360</td>\n",
       "      <td>31.910893</td>\n",
       "      <td>6.803501</td>\n",
       "      <td>49.104728</td>\n",
       "    </tr>\n",
       "    <tr>\n",
       "      <th>5</th>\n",
       "      <td>9.975120</td>\n",
       "      <td>164.184894</td>\n",
       "      <td>189.112250</td>\n",
       "      <td>68.072580</td>\n",
       "      <td>41.153851</td>\n",
       "    </tr>\n",
       "    <tr>\n",
       "      <th>6</th>\n",
       "      <td>3.664118</td>\n",
       "      <td>172.187800</td>\n",
       "      <td>148.834714</td>\n",
       "      <td>92.069329</td>\n",
       "      <td>44.992913</td>\n",
       "    </tr>\n",
       "    <tr>\n",
       "      <th>7</th>\n",
       "      <td>76.532977</td>\n",
       "      <td>268.580937</td>\n",
       "      <td>191.498236</td>\n",
       "      <td>154.917710</td>\n",
       "      <td>65.656433</td>\n",
       "    </tr>\n",
       "    <tr>\n",
       "      <th>8</th>\n",
       "      <td>6.489800</td>\n",
       "      <td>148.602568</td>\n",
       "      <td>212.944652</td>\n",
       "      <td>105.792323</td>\n",
       "      <td>48.939025</td>\n",
       "    </tr>\n",
       "    <tr>\n",
       "      <th>9</th>\n",
       "      <td>5.915356</td>\n",
       "      <td>158.673440</td>\n",
       "      <td>149.178809</td>\n",
       "      <td>71.648421</td>\n",
       "      <td>55.310362</td>\n",
       "    </tr>\n",
       "  </tbody>\n",
       "</table>\n",
       "</div>"
      ],
      "text/plain": [
       "   box_office_0  box_office_6  box_office_12  box_office_16  box_office_18\n",
       "0      0.085801      0.000000       0.007067       0.006787       0.006798\n",
       "1      0.449996      0.000450       0.009995       0.007065       0.000520\n",
       "2      0.075549      0.071463       0.008364       0.069239       0.010740\n",
       "3      0.073251      0.014390       0.366848       0.014956       0.322578\n",
       "4      9.883217     59.676360      31.910893       6.803501      49.104728\n",
       "5      9.975120    164.184894     189.112250      68.072580      41.153851\n",
       "6      3.664118    172.187800     148.834714      92.069329      44.992913\n",
       "7     76.532977    268.580937     191.498236     154.917710      65.656433\n",
       "8      6.489800    148.602568     212.944652     105.792323      48.939025\n",
       "9      5.915356    158.673440     149.178809      71.648421      55.310362"
      ]
     },
     "execution_count": 366,
     "metadata": {},
     "output_type": "execute_result"
    }
   ],
   "source": [
    "#создадим датафрейм\n",
    "box_office_age_from_year = pd.DataFrame({\n",
    "    #'year': [2010, 2011, 2012, 2013, 2014, 2015, 2016, 2017, 2018, 2019],\n",
    "    'box_office_0': [ 0.085801, 0.449996, 0.075549, 0.073251, 9.883217,9.975120,3.664118, 76.532977,6.489800, 5.915356  ],\n",
    "     })\n",
    "\n",
    "box_office_age_from_year['box_office_6'] = [ 0.00000, 0.000450, 0.071463,0.014390, 59.676360, 164.184894, 172.187800, 268.580937,148.602568,158.673440 ]\n",
    "box_office_age_from_year['box_office_12'] = [0.007067, 0.009995, 0.008364, 0.366848, 31.910893, 189.112250, 148.834714,191.498236, 212.944652, 149.178809]\n",
    "box_office_age_from_year['box_office_16'] = [0.006787, 0.007065, 0.069239, 0.014956, 6.803501,68.072580,92.069329,154.917710,105.792323,71.648421 ]\n",
    "box_office_age_from_year['box_office_18'] = [0.006798,0.000520,0.010740, 0.322578, 49.104728, 41.153851,44.992913, 65.656433, 48.939025, 55.310362]\n",
    "\n",
    "\n",
    "box_office_age_from_year"
   ]
  },
  {
   "cell_type": "code",
   "execution_count": 367,
   "metadata": {},
   "outputs": [
    {
     "data": {
      "image/png": "[encoded data removed]",
      "text/plain": [
       "<Figure size 432x288 with 1 Axes>"
      ]
     },
     "metadata": {
      "needs_background": "light"
     },
     "output_type": "display_data"
    }
   ],
   "source": [
    "box_office_age_from_year.plot(title='Суммарные сборы по годам для разных возрастных категорий')\n",
    "plt.show()"
   ]
  },
  {
   "cell_type": "markdown",
   "metadata": {},
   "source": [
    "По графику можно сделать следующие выводы: В 2010-2013 годах общие сборы по всем категориям были на одном уровне, в 2010 году атегория 6+ отсутсвовала вовсе. Начиная с 2013 года пошел рост и в 2014 году наибольшие сборы собрала категория 6+ с небольшим отрывом от 18+. Категории 16+ и 0+ собрали меньше всего. В 2015-2016 годах больше всего собрали категории 12+ и 6+, хуже всего собрали категории 18+ и 0+. В 2017 году с большим отрывом большую часть сборов собрала категория 6+, потом 12+, 16+. Наименьшую часть собрали категории 0+ и 18+. В 2018 году больше всего собрали категории 12+,6+, потом 16+. Меньше всего - 18+ и 0+.\n",
    "\n",
    "Скорее всего увеличение графика после 2013 года связано с увеличением количества выборки, то есть с увеличением количества анализируемых фильмов. Самые собирающие категории - 6+, 12+, а также 16+ связаны с тем, что они захватывают большую аудиторию, способную и имеющую время ходить в кинотеатры. Также скорее всего таких фильмов большинство, потому что в таких фильмах не слишком много жестоких или наоборот детских моментов, поэтому они могут захватывать большую часть зрителей. Категории 0+ и 18+ либо слишком детские, либо с жестокостью или другими специфическими моментами, что интересно не всем зрителям."
   ]
  },
  {
   "cell_type": "markdown",
   "metadata": {},
   "source": [
    "### Проверим фильмы, которые получили государственную поддержку\n"
   ]
  },
  {
   "cell_type": "code",
   "execution_count": 368,
   "metadata": {},
   "outputs": [
    {
     "name": "stdout",
     "output_type": "stream",
     "text": [
      "60.0\n"
     ]
    }
   ],
   "source": [
    "warnings.filterwarnings(\"ignore\")\n",
    "\n",
    "data_source = data[data['refundable_support']>0] #фильмы с гос поддержкой\n",
    "\n",
    "#создадим столбец с общей суммой поддержки\n",
    "data_source['support'] = data_source['refundable_support'] + data_source['nonrefundable_support']\n",
    "data_source['support'] = data_source['support']\n",
    "\n",
    "\n",
    "#найдём медину общей суммы поддержки\n",
    "print(data_source['support'].median())"
   ]
  },
  {
   "cell_type": "markdown",
   "metadata": {},
   "source": [
    "В среднем объём государственной поддержки фильма - 60 млн."
   ]
  },
  {
   "cell_type": "code",
   "execution_count": 369,
   "metadata": {},
   "outputs": [
    {
     "data": {
      "text/html": [
       "<div>\n",
       "<style scoped>\n",
       "    .dataframe tbody tr th:only-of-type {\n",
       "        vertical-align: middle;\n",
       "    }\n",
       "\n",
       "    .dataframe tbody tr th {\n",
       "        vertical-align: top;\n",
       "    }\n",
       "\n",
       "    .dataframe thead th {\n",
       "        text-align: right;\n",
       "    }\n",
       "</style>\n",
       "<table border=\"1\" class=\"dataframe\">\n",
       "  <thead>\n",
       "    <tr style=\"text-align: right;\">\n",
       "      <th></th>\n",
       "      <th>puNumber</th>\n",
       "    </tr>\n",
       "    <tr>\n",
       "      <th>financing_source</th>\n",
       "      <th></th>\n",
       "    </tr>\n",
       "  </thead>\n",
       "  <tbody>\n",
       "    <tr>\n",
       "      <th>Министерство культуры, Фонд кино</th>\n",
       "      <td>14</td>\n",
       "    </tr>\n",
       "    <tr>\n",
       "      <th>Фонд кино</th>\n",
       "      <td>49</td>\n",
       "    </tr>\n",
       "  </tbody>\n",
       "</table>\n",
       "</div>"
      ],
      "text/plain": [
       "                                  puNumber\n",
       "financing_source                          \n",
       "Министерство культуры, Фонд кино        14\n",
       "Фонд кино                               49"
      ]
     },
     "execution_count": 369,
     "metadata": {},
     "output_type": "execute_result"
    }
   ],
   "source": [
    "#отберём провальные фильмы, таких фильмов 235\n",
    "data_proval = data_source[data_source['budget'] > data_source['box_office']]\n",
    "\n",
    "#сгруппируем фильмы по financing_source и посмотрим их количество\n",
    "data_proval.pivot_table(index='financing_source', values='puNumber', aggfunc='count')"
   ]
  },
  {
   "cell_type": "code",
   "execution_count": 370,
   "metadata": {},
   "outputs": [
    {
     "data": {
      "text/html": [
       "<div>\n",
       "<style scoped>\n",
       "    .dataframe tbody tr th:only-of-type {\n",
       "        vertical-align: middle;\n",
       "    }\n",
       "\n",
       "    .dataframe tbody tr th {\n",
       "        vertical-align: top;\n",
       "    }\n",
       "\n",
       "    .dataframe thead th {\n",
       "        text-align: right;\n",
       "    }\n",
       "</style>\n",
       "<table border=\"1\" class=\"dataframe\">\n",
       "  <thead>\n",
       "    <tr style=\"text-align: right;\">\n",
       "      <th></th>\n",
       "      <th>puNumber</th>\n",
       "    </tr>\n",
       "    <tr>\n",
       "      <th>financing_source</th>\n",
       "      <th></th>\n",
       "    </tr>\n",
       "  </thead>\n",
       "  <tbody>\n",
       "    <tr>\n",
       "      <th>Министерство культуры, Фонд кино</th>\n",
       "      <td>14</td>\n",
       "    </tr>\n",
       "    <tr>\n",
       "      <th>Фонд кино</th>\n",
       "      <td>97</td>\n",
       "    </tr>\n",
       "  </tbody>\n",
       "</table>\n",
       "</div>"
      ],
      "text/plain": [
       "                                  puNumber\n",
       "financing_source                          \n",
       "Министерство культуры, Фонд кино        14\n",
       "Фонд кино                               97"
      ]
     },
     "execution_count": 370,
     "metadata": {},
     "output_type": "execute_result"
    }
   ],
   "source": [
    "#посмотрим, сколько всего у финансирующих предприятий фильмов\n",
    "data_source.pivot_table(index='financing_source', values='puNumber', aggfunc='count')"
   ]
  },
  {
   "cell_type": "markdown",
   "metadata": {},
   "source": [
    "У фильмов, финансируемых министерством культуры и фондом кино 14/14 = 100% провальных фильмов У фильмов, финансируемых фондом кино 50/97 = 52% провальных фильмов"
   ]
  },
  {
   "cell_type": "code",
   "execution_count": 371,
   "metadata": {},
   "outputs": [
    {
     "data": {
      "text/html": [
       "<div>\n",
       "<style scoped>\n",
       "    .dataframe tbody tr th:only-of-type {\n",
       "        vertical-align: middle;\n",
       "    }\n",
       "\n",
       "    .dataframe tbody tr th {\n",
       "        vertical-align: top;\n",
       "    }\n",
       "\n",
       "    .dataframe thead th {\n",
       "        text-align: right;\n",
       "    }\n",
       "</style>\n",
       "<table border=\"1\" class=\"dataframe\">\n",
       "  <thead>\n",
       "    <tr style=\"text-align: right;\">\n",
       "      <th></th>\n",
       "      <th>puNumber</th>\n",
       "    </tr>\n",
       "    <tr>\n",
       "      <th>only_year</th>\n",
       "      <th></th>\n",
       "    </tr>\n",
       "  </thead>\n",
       "  <tbody>\n",
       "    <tr>\n",
       "      <th>2014</th>\n",
       "      <td>1</td>\n",
       "    </tr>\n",
       "    <tr>\n",
       "      <th>2015</th>\n",
       "      <td>15</td>\n",
       "    </tr>\n",
       "    <tr>\n",
       "      <th>2016</th>\n",
       "      <td>19</td>\n",
       "    </tr>\n",
       "    <tr>\n",
       "      <th>2017</th>\n",
       "      <td>11</td>\n",
       "    </tr>\n",
       "    <tr>\n",
       "      <th>2018</th>\n",
       "      <td>7</td>\n",
       "    </tr>\n",
       "    <tr>\n",
       "      <th>2019</th>\n",
       "      <td>10</td>\n",
       "    </tr>\n",
       "  </tbody>\n",
       "</table>\n",
       "</div>"
      ],
      "text/plain": [
       "           puNumber\n",
       "only_year          \n",
       "2014              1\n",
       "2015             15\n",
       "2016             19\n",
       "2017             11\n",
       "2018              7\n",
       "2019             10"
      ]
     },
     "execution_count": 371,
     "metadata": {},
     "output_type": "execute_result"
    }
   ],
   "source": [
    "#посмотрим распределение провальных фильмов по годам\n",
    "data_proval.pivot_table(index='only_year', values='puNumber', aggfunc='count')"
   ]
  },
  {
   "cell_type": "code",
   "execution_count": 372,
   "metadata": {},
   "outputs": [
    {
     "data": {
      "text/html": [
       "<div>\n",
       "<style scoped>\n",
       "    .dataframe tbody tr th:only-of-type {\n",
       "        vertical-align: middle;\n",
       "    }\n",
       "\n",
       "    .dataframe tbody tr th {\n",
       "        vertical-align: top;\n",
       "    }\n",
       "\n",
       "    .dataframe thead th {\n",
       "        text-align: right;\n",
       "    }\n",
       "</style>\n",
       "<table border=\"1\" class=\"dataframe\">\n",
       "  <thead>\n",
       "    <tr style=\"text-align: right;\">\n",
       "      <th></th>\n",
       "      <th>puNumber</th>\n",
       "    </tr>\n",
       "    <tr>\n",
       "      <th>only_year</th>\n",
       "      <th></th>\n",
       "    </tr>\n",
       "  </thead>\n",
       "  <tbody>\n",
       "    <tr>\n",
       "      <th>2014</th>\n",
       "      <td>3</td>\n",
       "    </tr>\n",
       "    <tr>\n",
       "      <th>2015</th>\n",
       "      <td>26</td>\n",
       "    </tr>\n",
       "    <tr>\n",
       "      <th>2016</th>\n",
       "      <td>25</td>\n",
       "    </tr>\n",
       "    <tr>\n",
       "      <th>2017</th>\n",
       "      <td>21</td>\n",
       "    </tr>\n",
       "    <tr>\n",
       "      <th>2018</th>\n",
       "      <td>18</td>\n",
       "    </tr>\n",
       "    <tr>\n",
       "      <th>2019</th>\n",
       "      <td>18</td>\n",
       "    </tr>\n",
       "  </tbody>\n",
       "</table>\n",
       "</div>"
      ],
      "text/plain": [
       "           puNumber\n",
       "only_year          \n",
       "2014              3\n",
       "2015             26\n",
       "2016             25\n",
       "2017             21\n",
       "2018             18\n",
       "2019             18"
      ]
     },
     "execution_count": 372,
     "metadata": {},
     "output_type": "execute_result"
    }
   ],
   "source": [
    "#посмотрим распределение по годам, сколько всего фильмов с гос поддержкой\n",
    "data_source.pivot_table(index='only_year', values='puNumber', aggfunc='count')"
   ]
  },
  {
   "cell_type": "markdown",
   "metadata": {},
   "source": [
    "Гос поддержка началась с 2014 года В 2014 году было 1/3 = 33% В 2015 году было 15/26 = 58% В 2016 году было 19/25 = 76% В 2017 году было 11/21 = 52% В 2018 году было 7/18 = 39% В 2019 году было 11/18 = 61%\n",
    "\n",
    "Больший процент провальных фильмов был в 2016 году. Их процент составил 76%."
   ]
  },
  {
   "cell_type": "code",
   "execution_count": 373,
   "metadata": {},
   "outputs": [
    {
     "data": {
      "text/html": [
       "<div>\n",
       "<style scoped>\n",
       "    .dataframe tbody tr th:only-of-type {\n",
       "        vertical-align: middle;\n",
       "    }\n",
       "\n",
       "    .dataframe tbody tr th {\n",
       "        vertical-align: top;\n",
       "    }\n",
       "\n",
       "    .dataframe thead th {\n",
       "        text-align: right;\n",
       "    }\n",
       "</style>\n",
       "<table border=\"1\" class=\"dataframe\">\n",
       "  <thead>\n",
       "    <tr style=\"text-align: right;\">\n",
       "      <th></th>\n",
       "      <th>puNumber</th>\n",
       "    </tr>\n",
       "    <tr>\n",
       "      <th>financing_source</th>\n",
       "      <th></th>\n",
       "    </tr>\n",
       "  </thead>\n",
       "  <tbody>\n",
       "    <tr>\n",
       "      <th>Фонд кино</th>\n",
       "      <td>46</td>\n",
       "    </tr>\n",
       "  </tbody>\n",
       "</table>\n",
       "</div>"
      ],
      "text/plain": [
       "                  puNumber\n",
       "financing_source          \n",
       "Фонд кино               46"
      ]
     },
     "execution_count": 373,
     "metadata": {},
     "output_type": "execute_result"
    }
   ],
   "source": [
    "#отберём успешные фильмы\n",
    "data_success = data_source[data_source['budget'] < data_source['box_office']] #таких фильмов 83 штуки\n",
    "\n",
    "\n",
    "data_success.pivot_table(index='financing_source', values='puNumber', aggfunc='count')\n",
    "\n"
   ]
  },
  {
   "cell_type": "markdown",
   "metadata": {},
   "source": [
    "У фильмов, финансируемых фондом кино 45/97 = 48% успешных фильмов"
   ]
  },
  {
   "cell_type": "code",
   "execution_count": 374,
   "metadata": {},
   "outputs": [
    {
     "data": {
      "text/html": [
       "<div>\n",
       "<style scoped>\n",
       "    .dataframe tbody tr th:only-of-type {\n",
       "        vertical-align: middle;\n",
       "    }\n",
       "\n",
       "    .dataframe tbody tr th {\n",
       "        vertical-align: top;\n",
       "    }\n",
       "\n",
       "    .dataframe thead th {\n",
       "        text-align: right;\n",
       "    }\n",
       "</style>\n",
       "<table border=\"1\" class=\"dataframe\">\n",
       "  <thead>\n",
       "    <tr style=\"text-align: right;\">\n",
       "      <th></th>\n",
       "      <th>puNumber</th>\n",
       "    </tr>\n",
       "    <tr>\n",
       "      <th>only_year</th>\n",
       "      <th></th>\n",
       "    </tr>\n",
       "  </thead>\n",
       "  <tbody>\n",
       "    <tr>\n",
       "      <th>2014</th>\n",
       "      <td>2</td>\n",
       "    </tr>\n",
       "    <tr>\n",
       "      <th>2015</th>\n",
       "      <td>11</td>\n",
       "    </tr>\n",
       "    <tr>\n",
       "      <th>2016</th>\n",
       "      <td>6</td>\n",
       "    </tr>\n",
       "    <tr>\n",
       "      <th>2017</th>\n",
       "      <td>10</td>\n",
       "    </tr>\n",
       "    <tr>\n",
       "      <th>2018</th>\n",
       "      <td>11</td>\n",
       "    </tr>\n",
       "    <tr>\n",
       "      <th>2019</th>\n",
       "      <td>6</td>\n",
       "    </tr>\n",
       "  </tbody>\n",
       "</table>\n",
       "</div>"
      ],
      "text/plain": [
       "           puNumber\n",
       "only_year          \n",
       "2014              2\n",
       "2015             11\n",
       "2016              6\n",
       "2017             10\n",
       "2018             11\n",
       "2019              6"
      ]
     },
     "execution_count": 374,
     "metadata": {},
     "output_type": "execute_result"
    }
   ],
   "source": [
    "#посмотрим распределение успешных фильмов по годам\n",
    "data_success.pivot_table(index='only_year', values='puNumber', aggfunc='count')"
   ]
  },
  {
   "cell_type": "markdown",
   "metadata": {},
   "source": [
    "В 2014 году было 2/3 = 66% успешных фильмов В 2015 году было 11/26 = 42% успешных фильмов В 2016 году было 6/25 = 24% успешных фильмов В 2017 году было 10/21 = 48% успешных фильмов В 2018 году было 11/18 = 61% успешных фильмов В 2019 году было 5/18 = 28% успешных фильмов"
   ]
  },
  {
   "cell_type": "code",
   "execution_count": 375,
   "metadata": {},
   "outputs": [
    {
     "data": {
      "text/html": [
       "<div>\n",
       "<style scoped>\n",
       "    .dataframe tbody tr th:only-of-type {\n",
       "        vertical-align: middle;\n",
       "    }\n",
       "\n",
       "    .dataframe tbody tr th {\n",
       "        vertical-align: top;\n",
       "    }\n",
       "\n",
       "    .dataframe thead th {\n",
       "        text-align: right;\n",
       "    }\n",
       "</style>\n",
       "<table border=\"1\" class=\"dataframe\">\n",
       "  <thead>\n",
       "    <tr style=\"text-align: right;\">\n",
       "      <th></th>\n",
       "      <th>ratings</th>\n",
       "    </tr>\n",
       "    <tr>\n",
       "      <th>only_year</th>\n",
       "      <th></th>\n",
       "    </tr>\n",
       "  </thead>\n",
       "  <tbody>\n",
       "    <tr>\n",
       "      <th>2014</th>\n",
       "      <td>5.0</td>\n",
       "    </tr>\n",
       "    <tr>\n",
       "      <th>2015</th>\n",
       "      <td>6.0</td>\n",
       "    </tr>\n",
       "    <tr>\n",
       "      <th>2016</th>\n",
       "      <td>5.8</td>\n",
       "    </tr>\n",
       "    <tr>\n",
       "      <th>2017</th>\n",
       "      <td>6.2</td>\n",
       "    </tr>\n",
       "    <tr>\n",
       "      <th>2018</th>\n",
       "      <td>5.8</td>\n",
       "    </tr>\n",
       "    <tr>\n",
       "      <th>2019</th>\n",
       "      <td>6.0</td>\n",
       "    </tr>\n",
       "  </tbody>\n",
       "</table>\n",
       "</div>"
      ],
      "text/plain": [
       "           ratings\n",
       "only_year         \n",
       "2014           5.0\n",
       "2015           6.0\n",
       "2016           5.8\n",
       "2017           6.2\n",
       "2018           5.8\n",
       "2019           6.0"
      ]
     },
     "execution_count": 375,
     "metadata": {},
     "output_type": "execute_result"
    }
   ],
   "source": [
    "#посмотрим рейтинг финансируемых государством фильмов по годам\n",
    "data_source.pivot_table(index='only_year', values='ratings', aggfunc='median')"
   ]
  },
  {
   "cell_type": "code",
   "execution_count": 376,
   "metadata": {},
   "outputs": [
    {
     "data": {
      "text/html": [
       "<div>\n",
       "<style scoped>\n",
       "    .dataframe tbody tr th:only-of-type {\n",
       "        vertical-align: middle;\n",
       "    }\n",
       "\n",
       "    .dataframe tbody tr th {\n",
       "        vertical-align: top;\n",
       "    }\n",
       "\n",
       "    .dataframe thead th {\n",
       "        text-align: right;\n",
       "    }\n",
       "</style>\n",
       "<table border=\"1\" class=\"dataframe\">\n",
       "  <thead>\n",
       "    <tr style=\"text-align: right;\">\n",
       "      <th></th>\n",
       "      <th>ratings</th>\n",
       "    </tr>\n",
       "    <tr>\n",
       "      <th>only_year</th>\n",
       "      <th></th>\n",
       "    </tr>\n",
       "  </thead>\n",
       "  <tbody>\n",
       "    <tr>\n",
       "      <th>2014</th>\n",
       "      <td>3.8</td>\n",
       "    </tr>\n",
       "    <tr>\n",
       "      <th>2015</th>\n",
       "      <td>5.9</td>\n",
       "    </tr>\n",
       "    <tr>\n",
       "      <th>2016</th>\n",
       "      <td>5.8</td>\n",
       "    </tr>\n",
       "    <tr>\n",
       "      <th>2017</th>\n",
       "      <td>6.2</td>\n",
       "    </tr>\n",
       "    <tr>\n",
       "      <th>2018</th>\n",
       "      <td>5.9</td>\n",
       "    </tr>\n",
       "    <tr>\n",
       "      <th>2019</th>\n",
       "      <td>6.0</td>\n",
       "    </tr>\n",
       "  </tbody>\n",
       "</table>\n",
       "</div>"
      ],
      "text/plain": [
       "           ratings\n",
       "only_year         \n",
       "2014           3.8\n",
       "2015           5.9\n",
       "2016           5.8\n",
       "2017           6.2\n",
       "2018           5.9\n",
       "2019           6.0"
      ]
     },
     "execution_count": 376,
     "metadata": {},
     "output_type": "execute_result"
    }
   ],
   "source": [
    "#посмотрим рейтинг провальных фильмов по годам\n",
    "data_proval.pivot_table(index='only_year', values='ratings', aggfunc='median')\n"
   ]
  },
  {
   "cell_type": "code",
   "execution_count": 377,
   "metadata": {},
   "outputs": [
    {
     "data": {
      "text/html": [
       "<div>\n",
       "<style scoped>\n",
       "    .dataframe tbody tr th:only-of-type {\n",
       "        vertical-align: middle;\n",
       "    }\n",
       "\n",
       "    .dataframe tbody tr th {\n",
       "        vertical-align: top;\n",
       "    }\n",
       "\n",
       "    .dataframe thead th {\n",
       "        text-align: right;\n",
       "    }\n",
       "</style>\n",
       "<table border=\"1\" class=\"dataframe\">\n",
       "  <thead>\n",
       "    <tr style=\"text-align: right;\">\n",
       "      <th></th>\n",
       "      <th>ratings</th>\n",
       "    </tr>\n",
       "    <tr>\n",
       "      <th>only_year</th>\n",
       "      <th></th>\n",
       "    </tr>\n",
       "  </thead>\n",
       "  <tbody>\n",
       "    <tr>\n",
       "      <th>2014</th>\n",
       "      <td>5.75</td>\n",
       "    </tr>\n",
       "    <tr>\n",
       "      <th>2015</th>\n",
       "      <td>6.20</td>\n",
       "    </tr>\n",
       "    <tr>\n",
       "      <th>2016</th>\n",
       "      <td>5.35</td>\n",
       "    </tr>\n",
       "    <tr>\n",
       "      <th>2017</th>\n",
       "      <td>5.90</td>\n",
       "    </tr>\n",
       "    <tr>\n",
       "      <th>2018</th>\n",
       "      <td>5.50</td>\n",
       "    </tr>\n",
       "    <tr>\n",
       "      <th>2019</th>\n",
       "      <td>6.45</td>\n",
       "    </tr>\n",
       "  </tbody>\n",
       "</table>\n",
       "</div>"
      ],
      "text/plain": [
       "           ratings\n",
       "only_year         \n",
       "2014          5.75\n",
       "2015          6.20\n",
       "2016          5.35\n",
       "2017          5.90\n",
       "2018          5.50\n",
       "2019          6.45"
      ]
     },
     "execution_count": 377,
     "metadata": {},
     "output_type": "execute_result"
    }
   ],
   "source": [
    "#посмотрим рейтинг успешных фильмов по годам\n",
    "data_success.pivot_table(index='only_year', values='ratings', aggfunc='median')"
   ]
  },
  {
   "cell_type": "code",
   "execution_count": 378,
   "metadata": {},
   "outputs": [
    {
     "data": {
      "image/png": "[encoded data removed]",
      "text/plain": [
       "<Figure size 432x288 with 1 Axes>"
      ]
     },
     "metadata": {
      "needs_background": "light"
     },
     "output_type": "display_data"
    }
   ],
   "source": [
    "#создадим датафрейм\n",
    "ratings_from_year = pd.DataFrame({\n",
    "    #'year': [ 2014, 2015, 2016, 2017, 2018, 2019],\n",
    "    #'ratings_source': [5.0, 6.0, 5.8, 6.2, 5.8, 6.0],\n",
    "    'ratings_proval': [3.8, 5.9, 5.8, 6.2, 5.9, 6.0],\n",
    "    'ratings_success': [ 5.75, 6.20, 5.35, 5.90, 5.50, 6.70]\n",
    "     })\n",
    "ratings_from_year.plot(title='Рейтинги по годам для успешых и провальных фильмов')\n",
    "plt.show()"
   ]
  },
  {
   "cell_type": "markdown",
   "metadata": {},
   "source": [
    "Удивительно, но средний рейтинг успешных фильмов в 2016, 2017, 2018 годах ниже, чем у провальных, но в 2014, 2015 и 2019 годах наоборот. Однако и успешные, и провальные фильмы имеют оценки меньше 7, что само по себе мало."
   ]
  },
  {
   "cell_type": "code",
   "execution_count": 379,
   "metadata": {
    "scrolled": false
   },
   "outputs": [
    {
     "data": {
      "text/plain": [
       "Д.Дьяченко                               4\n",
       "С.Подгаевский                            2\n",
       "А.Пиманов                                1\n",
       "К.Феоктистов                             1\n",
       "К.Бронзит                                1\n",
       "А.Федотов                                1\n",
       "Максим Свешников                         1\n",
       "Д.Чернов                                 1\n",
       "Л.Марголин, С.Андреасян, М.Жерневский    1\n",
       "Н.Лопато, В.Ровенский                    1\n",
       "Name: director, dtype: int64"
      ]
     },
     "execution_count": 379,
     "metadata": {},
     "output_type": "execute_result"
    }
   ],
   "source": [
    "#посмотрим у каких режиссеров больше всего окупившихся фильмов\n",
    "data_success['director'].value_counts().head(10)"
   ]
  },
  {
   "cell_type": "markdown",
   "metadata": {},
   "source": [
    "Самые окупившиеся фильмы у Д.Дьяченко(4 фильма) и  С.Подгаевского(2 фильма)"
   ]
  },
  {
   "cell_type": "code",
   "execution_count": 380,
   "metadata": {
    "scrolled": true
   },
   "outputs": [
    {
     "data": {
      "text/plain": [
       "ООО \"ЛИЦЕНЗИОННЫЕ БРЕНДЫ\"                    3\n",
       "ООО \"ТаББаК\"                                 3\n",
       "ООО \"Студия анимационного кино \"Мельница\"    3\n",
       "ООО \"Ол Медиа Компани\"                       2\n",
       "АО \"ВайТ Медиа\", ООО \"Арт Пикчерс Студия\"    2\n",
       "ООО \"Форс Медиа\"                             1\n",
       "ООО \"Смешарики\"                              1\n",
       " ООО \"ТаББаК\"                                1\n",
       "ООО \"Кинодом\"                                1\n",
       "Name: film_studio, dtype: int64"
      ]
     },
     "execution_count": 380,
     "metadata": {},
     "output_type": "execute_result"
    }
   ],
   "source": [
    "#посмотрим у каких студий больше всего окупившихся фильмов\n",
    "data_success['film_studio'].value_counts().head(9)"
   ]
  },
  {
   "cell_type": "markdown",
   "metadata": {},
   "source": [
    "Больше всего окупившихся фильмов было снято в следующих студиях:\n",
    "\n",
    "ООО \"ЛИЦЕНЗИОННЫЕ БРЕНДЫ\"                    3\n",
    "ООО \"ТаББаК\"                                 3\n",
    "ООО \"Студия анимационного кино \"Мельница\"    3\n",
    "ООО \"Ол Медиа Компани\"                       2\n",
    "АО \"ВайТ Медиа\", ООО \"Арт Пикчерс Студия\"    2"
   ]
  },
  {
   "cell_type": "code",
   "execution_count": 381,
   "metadata": {
    "scrolled": true
   },
   "outputs": [
    {
     "data": {
      "text/plain": [
       "count    111.000000\n",
       "mean      95.333591\n",
       "std       96.617924\n",
       "min       20.000000\n",
       "25%       40.000000\n",
       "50%       60.000000\n",
       "75%      110.000000\n",
       "max      500.000000\n",
       "Name: support, dtype: float64"
      ]
     },
     "execution_count": 381,
     "metadata": {},
     "output_type": "execute_result"
    }
   ],
   "source": [
    "#найдем с каких денег начинаются 25% самых дорогих фильмов\n",
    "data_source['support'].describe()"
   ]
  },
  {
   "cell_type": "code",
   "execution_count": 382,
   "metadata": {
    "scrolled": true
   },
   "outputs": [],
   "source": [
    "#создадим отдельный дф с самыми финансируемыми фильмами\n",
    "data_finance = data_source[data_source['support'] >= 0.000110]"
   ]
  },
  {
   "cell_type": "code",
   "execution_count": 383,
   "metadata": {},
   "outputs": [
    {
     "data": {
      "text/plain": [
       "60.0"
      ]
     },
     "execution_count": 383,
     "metadata": {},
     "output_type": "execute_result"
    }
   ],
   "source": [
    "#найдем среднюю поддержку\n",
    "data_finance['support'].median()"
   ]
  },
  {
   "cell_type": "code",
   "execution_count": 384,
   "metadata": {},
   "outputs": [
    {
     "data": {
      "text/plain": [
       "5.95"
      ]
     },
     "execution_count": 384,
     "metadata": {},
     "output_type": "execute_result"
    }
   ],
   "source": [
    "#найдем средний рейтинг самых финансируемых фильмов\n",
    "data_finance['ratings'].median()"
   ]
  },
  {
   "cell_type": "code",
   "execution_count": 385,
   "metadata": {},
   "outputs": [
    {
     "name": "stdout",
     "output_type": "stream",
     "text": [
      "2.8\n",
      "8.5\n"
     ]
    }
   ],
   "source": [
    "#найдем min max рейтинг самых финансируемых фильмов\n",
    "print(data_finance['ratings'].min())\n",
    "print(data_finance['ratings'].max())"
   ]
  },
  {
   "cell_type": "code",
   "execution_count": 386,
   "metadata": {},
   "outputs": [
    {
     "data": {
      "text/html": [
       "<div>\n",
       "<style scoped>\n",
       "    .dataframe tbody tr th:only-of-type {\n",
       "        vertical-align: middle;\n",
       "    }\n",
       "\n",
       "    .dataframe tbody tr th {\n",
       "        vertical-align: top;\n",
       "    }\n",
       "\n",
       "    .dataframe thead th {\n",
       "        text-align: right;\n",
       "    }\n",
       "</style>\n",
       "<table border=\"1\" class=\"dataframe\">\n",
       "  <thead>\n",
       "    <tr style=\"text-align: right;\">\n",
       "      <th></th>\n",
       "      <th>support</th>\n",
       "    </tr>\n",
       "    <tr>\n",
       "      <th>only_year</th>\n",
       "      <th></th>\n",
       "    </tr>\n",
       "  </thead>\n",
       "  <tbody>\n",
       "    <tr>\n",
       "      <th>2014</th>\n",
       "      <td>56.0</td>\n",
       "    </tr>\n",
       "    <tr>\n",
       "      <th>2015</th>\n",
       "      <td>47.0</td>\n",
       "    </tr>\n",
       "    <tr>\n",
       "      <th>2016</th>\n",
       "      <td>70.0</td>\n",
       "    </tr>\n",
       "    <tr>\n",
       "      <th>2017</th>\n",
       "      <td>50.0</td>\n",
       "    </tr>\n",
       "    <tr>\n",
       "      <th>2018</th>\n",
       "      <td>82.5</td>\n",
       "    </tr>\n",
       "    <tr>\n",
       "      <th>2019</th>\n",
       "      <td>82.5</td>\n",
       "    </tr>\n",
       "  </tbody>\n",
       "</table>\n",
       "</div>"
      ],
      "text/plain": [
       "           support\n",
       "only_year         \n",
       "2014          56.0\n",
       "2015          47.0\n",
       "2016          70.0\n",
       "2017          50.0\n",
       "2018          82.5\n",
       "2019          82.5"
      ]
     },
     "execution_count": 386,
     "metadata": {},
     "output_type": "execute_result"
    }
   ],
   "source": [
    "#посмотрим поддержку финансируемых фильмов по годам\n",
    "data_finance.pivot_table(index='only_year', values='support', aggfunc='median')"
   ]
  },
  {
   "cell_type": "code",
   "execution_count": 387,
   "metadata": {
    "scrolled": false
   },
   "outputs": [
    {
     "data": {
      "text/html": [
       "<div>\n",
       "<style scoped>\n",
       "    .dataframe tbody tr th:only-of-type {\n",
       "        vertical-align: middle;\n",
       "    }\n",
       "\n",
       "    .dataframe tbody tr th {\n",
       "        vertical-align: top;\n",
       "    }\n",
       "\n",
       "    .dataframe thead th {\n",
       "        text-align: right;\n",
       "    }\n",
       "</style>\n",
       "<table border=\"1\" class=\"dataframe\">\n",
       "  <thead>\n",
       "    <tr style=\"text-align: right;\">\n",
       "      <th></th>\n",
       "      <th>ratings</th>\n",
       "    </tr>\n",
       "    <tr>\n",
       "      <th>only_year</th>\n",
       "      <th></th>\n",
       "    </tr>\n",
       "  </thead>\n",
       "  <tbody>\n",
       "    <tr>\n",
       "      <th>2014</th>\n",
       "      <td>5.0</td>\n",
       "    </tr>\n",
       "    <tr>\n",
       "      <th>2015</th>\n",
       "      <td>6.0</td>\n",
       "    </tr>\n",
       "    <tr>\n",
       "      <th>2016</th>\n",
       "      <td>5.8</td>\n",
       "    </tr>\n",
       "    <tr>\n",
       "      <th>2017</th>\n",
       "      <td>6.2</td>\n",
       "    </tr>\n",
       "    <tr>\n",
       "      <th>2018</th>\n",
       "      <td>5.8</td>\n",
       "    </tr>\n",
       "    <tr>\n",
       "      <th>2019</th>\n",
       "      <td>6.0</td>\n",
       "    </tr>\n",
       "  </tbody>\n",
       "</table>\n",
       "</div>"
      ],
      "text/plain": [
       "           ratings\n",
       "only_year         \n",
       "2014           5.0\n",
       "2015           6.0\n",
       "2016           5.8\n",
       "2017           6.2\n",
       "2018           5.8\n",
       "2019           6.0"
      ]
     },
     "execution_count": 387,
     "metadata": {},
     "output_type": "execute_result"
    }
   ],
   "source": [
    "#посмотрим рейтинг финансируемых фильмов по годам\n",
    "data_finance.pivot_table(index='only_year', values='ratings', aggfunc='median')"
   ]
  },
  {
   "cell_type": "markdown",
   "metadata": {},
   "source": [
    "К 2018-2019 году гос поддержка стала сильно больше, но рейтинги фильмов остались примерно на той же позиции. Это может быть связано с общим подорожанием и экономическими тенденциями."
   ]
  },
  {
   "cell_type": "code",
   "execution_count": 388,
   "metadata": {
    "scrolled": false
   },
   "outputs": [
    {
     "data": {
      "text/plain": [
       "Д.Дьяченко                                         4\n",
       "С.Андреасян                                        2\n",
       "А.Матисон                                          2\n",
       "А.Цицилин                                          2\n",
       "Н.Хомерики                                         2\n",
       "С.Подгаевский                                      2\n",
       "Р.Давлетьяров                                      2\n",
       "П.Руминов                                          2\n",
       "К.Белевич (псевдоним - Кирилл Астахов), Г.Ильин    1\n",
       "Д.Штурманова                                       1\n",
       "Name: director, dtype: int64"
      ]
     },
     "execution_count": 388,
     "metadata": {},
     "output_type": "execute_result"
    }
   ],
   "source": [
    "#найдем режиссеров самых финансируемых фильмов\n",
    "data_finance['director'].value_counts().head(10)"
   ]
  },
  {
   "cell_type": "markdown",
   "metadata": {},
   "source": [
    "В основном самые финансируемые фильмы сняли следющие режиссеры: \n",
    "\n",
    "Д.Дьяченко                                         4\n",
    "\n",
    "С.Андреасян                                        2\n",
    "\n",
    "А.Матисон                                          2\n",
    "\n",
    "А.Цицилин                                          2\n",
    "\n",
    "Н.Хомерики                                         2\n",
    "\n",
    "С.Подгаевский                                      2\n",
    "\n",
    "Р.Давлетьяров                                      2\n",
    "\n",
    "П.Руминов                                          2"
   ]
  },
  {
   "cell_type": "code",
   "execution_count": 389,
   "metadata": {
    "scrolled": false
   },
   "outputs": [
    {
     "data": {
      "text/plain": [
       "ООО \"ВИЗАРТ ФИЛЬМ\"                                                4\n",
       "ООО \"ТаББаК\"                                                      3\n",
       "ООО \"Студия анимационного кино \"Мельница\"                         3\n",
       "ООО \"ЛИЦЕНЗИОННЫЕ БРЕНДЫ\"                                         3\n",
       "ООО \"ТПО \"РОК\"                                                    2\n",
       "ООО \"Ол Медиа Компани\"                                            2\n",
       "ООО \"Продюсерская фирма Игоря Толстунова\"                         2\n",
       "ООО \"Кинокомпания \"Небо\"                                          2\n",
       "ООО \"Кинодом\"                                                     2\n",
       "АО \"ВайТ Медиа\", ООО \"Арт Пикчерс Студия\"                         2\n",
       "ООО \"ВВП Альянс\"                                                  2\n",
       "ООО \"Студия \"ТРИТЭ\" Никиты Михалкова\"                             1\n",
       "ООО \"Ангел\", ООО \"Энджой Мувиз\", ООО \"РЕНОВАЦИО интертейнмент\"    1\n",
       "ООО \"Продюсерский центр ИВАН\"                                     1\n",
       "ООО \"2Д Целлулоид\", ООО \"КиТ фильм\"                               1\n",
       "Name: film_studio, dtype: int64"
      ]
     },
     "execution_count": 389,
     "metadata": {},
     "output_type": "execute_result"
    }
   ],
   "source": [
    "#найдем студии самых финансируемых фильмов\n",
    "data_finance['film_studio'].value_counts().head(15)"
   ]
  },
  {
   "cell_type": "markdown",
   "metadata": {},
   "source": [
    "В основном самые финансируемые фильмы сняли следющие студии:\n",
    "\n",
    "ООО \"ВИЗАРТ ФИЛЬМ\"                                                4\n",
    "\n",
    "ООО \"ТаББаК\"                                                      3\n",
    "\n",
    "ООО \"Студия анимационного кино \"Мельница\"                         3\n",
    "\n",
    "ООО \"ЛИЦЕНЗИОННЫЕ БРЕНДЫ\"                                         3\n",
    "\n",
    "ООО \"ТПО \"РОК\"                                                    2\n",
    "\n",
    "ООО \"Ол Медиа Компани\"                                            2\n",
    "\n",
    "ООО \"Продюсерская фирма Игоря Толстунова\"                         2\n",
    "\n",
    "ООО \"Кинокомпания \"Небо\"                                          2\n",
    "\n",
    "ООО \"Кинодом\"                                                     2\n",
    "\n",
    "АО \"ВайТ Медиа\", ООО \"Арт Пикчерс Студия\"                         2\n",
    "\n",
    "ООО \"ВВП Альянс\"                                                  2"
   ]
  },
  {
   "cell_type": "code",
   "execution_count": 390,
   "metadata": {
    "scrolled": true
   },
   "outputs": [
    {
     "data": {
      "text/plain": [
       "count    108.000000\n",
       "mean       5.842593\n",
       "std        1.243991\n",
       "min        2.800000\n",
       "25%        5.000000\n",
       "50%        5.950000\n",
       "75%        6.700000\n",
       "max        8.500000\n",
       "Name: ratings, dtype: float64"
      ]
     },
     "execution_count": 390,
     "metadata": {},
     "output_type": "execute_result"
    }
   ],
   "source": [
    "#найдем с каких денег начинаются 25% самых дорогих фильмов\n",
    "data_source['ratings'].describe()"
   ]
  },
  {
   "cell_type": "code",
   "execution_count": 391,
   "metadata": {},
   "outputs": [],
   "source": [
    "data_success_ratings = data_source[data_source['ratings'] >= 6.7]"
   ]
  },
  {
   "cell_type": "code",
   "execution_count": 392,
   "metadata": {},
   "outputs": [
    {
     "data": {
      "text/html": [
       "<div>\n",
       "<style scoped>\n",
       "    .dataframe tbody tr th:only-of-type {\n",
       "        vertical-align: middle;\n",
       "    }\n",
       "\n",
       "    .dataframe tbody tr th {\n",
       "        vertical-align: top;\n",
       "    }\n",
       "\n",
       "    .dataframe thead th {\n",
       "        text-align: right;\n",
       "    }\n",
       "</style>\n",
       "<table border=\"1\" class=\"dataframe\">\n",
       "  <thead>\n",
       "    <tr style=\"text-align: right;\">\n",
       "      <th></th>\n",
       "      <th>support</th>\n",
       "    </tr>\n",
       "    <tr>\n",
       "      <th>only_year</th>\n",
       "      <th></th>\n",
       "    </tr>\n",
       "  </thead>\n",
       "  <tbody>\n",
       "    <tr>\n",
       "      <th>2015</th>\n",
       "      <td>50.0</td>\n",
       "    </tr>\n",
       "    <tr>\n",
       "      <th>2016</th>\n",
       "      <td>140.0</td>\n",
       "    </tr>\n",
       "    <tr>\n",
       "      <th>2017</th>\n",
       "      <td>70.0</td>\n",
       "    </tr>\n",
       "    <tr>\n",
       "      <th>2018</th>\n",
       "      <td>60.0</td>\n",
       "    </tr>\n",
       "    <tr>\n",
       "      <th>2019</th>\n",
       "      <td>80.0</td>\n",
       "    </tr>\n",
       "  </tbody>\n",
       "</table>\n",
       "</div>"
      ],
      "text/plain": [
       "           support\n",
       "only_year         \n",
       "2015          50.0\n",
       "2016         140.0\n",
       "2017          70.0\n",
       "2018          60.0\n",
       "2019          80.0"
      ]
     },
     "execution_count": 392,
     "metadata": {},
     "output_type": "execute_result"
    }
   ],
   "source": [
    "#посмотрим поддержку финансируемых фильмов по годам\n",
    "data_success_ratings.pivot_table(index='only_year', values='support', aggfunc='median')"
   ]
  },
  {
   "cell_type": "code",
   "execution_count": 393,
   "metadata": {
    "scrolled": true
   },
   "outputs": [
    {
     "data": {
      "text/html": [
       "<div>\n",
       "<style scoped>\n",
       "    .dataframe tbody tr th:only-of-type {\n",
       "        vertical-align: middle;\n",
       "    }\n",
       "\n",
       "    .dataframe tbody tr th {\n",
       "        vertical-align: top;\n",
       "    }\n",
       "\n",
       "    .dataframe thead th {\n",
       "        text-align: right;\n",
       "    }\n",
       "</style>\n",
       "<table border=\"1\" class=\"dataframe\">\n",
       "  <thead>\n",
       "    <tr style=\"text-align: right;\">\n",
       "      <th></th>\n",
       "      <th>ratings</th>\n",
       "    </tr>\n",
       "    <tr>\n",
       "      <th>only_year</th>\n",
       "      <th></th>\n",
       "    </tr>\n",
       "  </thead>\n",
       "  <tbody>\n",
       "    <tr>\n",
       "      <th>2015</th>\n",
       "      <td>7.0</td>\n",
       "    </tr>\n",
       "    <tr>\n",
       "      <th>2016</th>\n",
       "      <td>7.1</td>\n",
       "    </tr>\n",
       "    <tr>\n",
       "      <th>2017</th>\n",
       "      <td>7.5</td>\n",
       "    </tr>\n",
       "    <tr>\n",
       "      <th>2018</th>\n",
       "      <td>6.9</td>\n",
       "    </tr>\n",
       "    <tr>\n",
       "      <th>2019</th>\n",
       "      <td>7.4</td>\n",
       "    </tr>\n",
       "  </tbody>\n",
       "</table>\n",
       "</div>"
      ],
      "text/plain": [
       "           ratings\n",
       "only_year         \n",
       "2015           7.0\n",
       "2016           7.1\n",
       "2017           7.5\n",
       "2018           6.9\n",
       "2019           7.4"
      ]
     },
     "execution_count": 393,
     "metadata": {},
     "output_type": "execute_result"
    }
   ],
   "source": [
    "#посмотрим рейтинг финансируемых фильмов по годам\n",
    "data_success_ratings.pivot_table(index='only_year', values='ratings', aggfunc='median')"
   ]
  },
  {
   "cell_type": "code",
   "execution_count": 394,
   "metadata": {
    "scrolled": true
   },
   "outputs": [
    {
     "data": {
      "image/png": "[encoded data removed]",
      "text/plain": [
       "<Figure size 432x288 with 1 Axes>"
      ]
     },
     "metadata": {
      "needs_background": "light"
     },
     "output_type": "display_data"
    }
   ],
   "source": [
    "\n",
    " #создадим датафрейм с годами и количеством фильмов всего и с известным прокатом\n",
    "success_ratings = pd.DataFrame({\n",
    "    'year': [2015, 2016, 2017, 2018, 2019],\n",
    "    'support': [5, 14, 7,6,8],\n",
    "    'ratings': [7.0, 7.1, 7.5, 6.9, 7.4]\n",
    "        })\n",
    "\n",
    "success_ratings.plot(x='year', title='Графики гос поддержки и рейтингов самых рейтинговых фильмов ')\n",
    "plt.show()"
   ]
  },
  {
   "cell_type": "markdown",
   "metadata": {},
   "source": [
    "Видно, что рейтинг остается на одной линии и сильно не меняется из-за увеличения госсподдержки. Зависимости между господдержкой и рейтингом нет."
   ]
  },
  {
   "cell_type": "code",
   "execution_count": 395,
   "metadata": {},
   "outputs": [
    {
     "data": {
      "text/plain": [
       "Ю.Васильев                                1\n",
       "Н.Бондарчук                               1\n",
       "А.Мельник                                 1\n",
       "Д.Киселев                                 1\n",
       "Д.Суворов                                 1\n",
       "А.Андрианов                               1\n",
       "И.Шахназаров                              1\n",
       "Р.Гигинеишвили, К.Оганисян, Р.Прыгунов    1\n",
       "М.Волков, А.Галат, В.Николаев             1\n",
       "А.Матисон                                 1\n",
       "Name: director, dtype: int64"
      ]
     },
     "execution_count": 395,
     "metadata": {},
     "output_type": "execute_result"
    }
   ],
   "source": [
    "#посмотрим режиссеров самых рейтинговых фильмов. Кого-то особенного нет, все по 1\n",
    "data_success_ratings['director'].value_counts().head(10)"
   ]
  },
  {
   "cell_type": "code",
   "execution_count": null,
   "metadata": {},
   "outputs": [
    {
     "data": {
      "text/plain": [
       "ЗАО \"Аэроплан\"                           1\n",
       "АО \"Аэроплан\"                            1\n",
       "ООО \"ТаББаК\", ООО \"Студия Третий Рим\"    1\n",
       " ООО \"Форс Медиа\"                        1\n",
       "ООО \"Компания \"Реал-Дакота\"              1\n",
       "Name: film_studio, dtype: int64"
      ]
     },
     "execution_count": 396,
     "metadata": {},
     "output_type": "execute_result"
    }
   ],
   "source": [
    "#посмотрим студии самых рейтинговых фильмов. Кого-то особенного нет, все по 1\n",
    "data_success_ratings['film_studio'].value_counts().head(5)"
   ]
  },
  {
   "cell_type": "markdown",
   "metadata": {},
   "source": [
    "## Выводы\n",
    "\n",
    "В работу были получены открытые данные министерства культуры Российской Федерации. \n",
    "\n",
    "Данные были предобработаны и проверены на наличие пропусков, возможные их замены, дубликаты, неявные дубликаты, изменены типы данных и заменены лишние категориальные данные. Также проверены выбросы данных и добавлены новые столбцы для дальнейшей работы и наглядности.\n",
    "\n",
    "**В основном этапе - в исследовательском анализе данных - были проделаны следующие этапы:**\n",
    "\n",
    "1) Проверено, сколько фильмов выходило в прокат каждый год\n",
    "\n",
    "2) Проверено, как менялась динамика проката по годам\n",
    "\n",
    "3) Посчитана средняя и медианная сумма сборов для каждого года\n",
    "\n",
    "4) Определено, влияет ли возрастное ограничение аудитории на сборы фильма в прокате в период с 2015 по 2019 год\n",
    "\n",
    "5) Проверены фильмы, которые получили государственную поддержку\n",
    "\n",
    "\n",
    "\n",
    "\n",
    "**Были получены следующие выводы:**\n",
    "\n",
    "\n",
    "1) Меньше всего фильмов представлено в 2012 году. Больше всего представлено в 2010 и 2019.\n",
    "\n",
    "Если говорить о фильмах в российском прокате, то видна тенденция к увеличению доли фильмов с прокатом с годами. Большая доля приходится на 2015-2017 годы. В целом количество фильмов с российским прокатом резко увеличивается в 2015 году.\n",
    "\n",
    "2) Cумма сборов в 2010 году была минимальной, а в 2018 году максимальной. Виден сильный рост в сборах, начавшийся в 2013 году, и который вышел на плато после 2016 года.\n",
    "\n",
    "3) Необходимо учитывать медианное значение сборов, а не среднее, потому что медиана более устойчива к выбросам больших и маленьких значений, показывает наиболее частое значение сборов. Так, например, можно увидеть, что средние сборы в 2014 году были около 27 млн, а медианное значение около 0.02млн, что говорит о том, что в 2014 году был какой-то фильм с очень большим кассовым сбором, который как раз повышает среднее значение.\n",
    "\n",
    "4) В 2010-2013 годах общие сборы по всем категориям были на одном уровне, в 2010 году категория 6+ отсутствовала вовсе. Начиная с 2013 года пошел рост и в 2014 году наибольшие сборы собрала категория 6+ с небольшим отрывом от 18+. Категории 16+ и 0+ собрали меньше всего. В 2015-2016 годах больше всего собрали категории 12+ и 6+, хуже всего собрали категории 18+ и 0+. В 2017 году с большим отрывом большую часть сборов собрала категория 6+, потом 12+, 16+. Наименьшую часть собрали категории 0+ и 18+. В 2018 году больше всего собрали категории 12+,6+, потом 16+. Меньше всего - 18+ и 0+.\n",
    "\n",
    "Скорее всего увеличение графика после 2013 года связано с увеличением количества выборки, то есть с увеличением количества анализируемых фильмов. Самые собирающие категории - 6+, 12+, а также 16+ связаны с тем, что они захватывают большую аудиторию, способную и имеющую время ходить в кинотеатры. Также скорее всего таких фильмов большинство, потому что в таких фильмах не слишком много жестоких или наоборот детских моментов, поэтому они могут захватывать большую часть зрителей. Категории 0+ и 18+ либо слишком детские, либо с жестокостью или другими специфическими моментами, что интересно не всем зрителям.\n",
    "\n",
    "5) В среднем объём государственной поддержки фильма - 60 млн.\n",
    "\n",
    "У фильмов, финансируемых министерством культуры и фондом кино 14/14 = 100% провальных фильмов \n",
    "\n",
    "У фильмов, финансируемых фондом кино 52% провальных фильмов и 48% успешных фильмов.\n",
    "\n",
    "\n",
    "\n",
    "\n",
    "Гос поддержка началась с 2014 года. \n",
    "\n",
    "В 2014 году было 33% провальных и 66% успешных фильмов \n",
    "\n",
    "В 2015 году было 58% провальных и 42% успешных фильмов \n",
    "\n",
    "В 2016 году было 76% провальных и 24% успешных фильмов \n",
    "\n",
    "В 2017 году было 52% провальных и 48% успешных фильмов \n",
    "\n",
    "В 2018 году было 39% провальных и 61% успешных фильмов \n",
    "\n",
    "В 2019 году было 61%провальных и 28% успешных фильмов \n",
    "\n",
    "Больший процент провальных фильмов был в 2016 году. Их процент составил 76%.\n",
    "\n",
    "Больший процент успешных фильмов был в 2014 году. Их процент составил 66%.\n",
    "\n",
    "\n",
    "Самые окупившиеся фильмы у Д.Дьяченко(4 фильма) и  С.Подгаевского(2 фильма)\n",
    "\n",
    "\n",
    "Больше всего окупившихся фильмов было снято в следующих студиях:\n",
    "\n",
    "ООО \"ЛИЦЕНЗИОННЫЕ БРЕНДЫ\"                    3\n",
    "ООО \"ТаББаК\"                                 3\n",
    "ООО \"Студия анимационного кино \"Мельница\"    3\n",
    "ООО \"Ол Медиа Компани\"                       2\n",
    "АО \"ВайТ Медиа\", ООО \"Арт Пикчерс Студия\"    2\n",
    "\n",
    "\n",
    "Средний рейтинг самых финансируемых фильмов - 5.95. Минимальный - 2.8, Максимальный - 8.5\n",
    "\n",
    "К 2018-2019 году гос поддержка стала сильно больше, но рейтинги фильмов остались примерно на той же позиции. Это может быть связано с общим подорожанием и экономическими тенденциями.\n",
    "\n",
    "\n",
    "В основном самые финансируемые фильмы сняли следющие режиссеры:\n",
    "\n",
    "Д.Дьяченко 4\n",
    "\n",
    "С.Андреасян 2\n",
    "\n",
    "А.Матисон 2\n",
    "\n",
    "А.Цицилин 2\n",
    "\n",
    "Н.Хомерики 2\n",
    "\n",
    "С.Подгаевский 2\n",
    "\n",
    "Р.Давлетьяров 2\n",
    "\n",
    "П.Руминов 2\n",
    "\n",
    "\n",
    "\n",
    "\n",
    "В основном самые финансируемые фильмы сняли следющие студии:\n",
    "\n",
    "ООО \"ВИЗАРТ ФИЛЬМ\"                                                4\n",
    "\n",
    "ООО \"ТаББаК\"                                                      3\n",
    "\n",
    "ООО \"Студия анимационного кино \"Мельница\"                         3\n",
    "\n",
    "ООО \"ЛИЦЕНЗИОННЫЕ БРЕНДЫ\"                                         3\n",
    "\n",
    "ООО \"ТПО \"РОК\"                                                    2\n",
    "\n",
    "ООО \"Ол Медиа Компани\"                                            2\n",
    "\n",
    "ООО \"Продюсерская фирма Игоря Толстунова\"                         2\n",
    "\n",
    "ООО \"Кинокомпания \"Небо\"                                          2\n",
    "\n",
    "ООО \"Кинодом\"                                                     2\n",
    "\n",
    "АО \"ВайТ Медиа\", ООО \"Арт Пикчерс Студия\"                         2\n",
    "\n",
    "ООО \"ВВП Альянс\"                                                  2\n",
    "\n",
    "\n",
    "\n",
    "Зависимости между господдержкой и рейтингом нет для самых успешных фильмов с рейтингом от 6.7.\n",
    "\n"
   ]
  }
 ],
 "metadata": {
  "ExecuteTimeLog": [
   {
    "duration": 537,
    "start_time": "2021-07-07T10:12:08.634Z"
   },
   {
    "duration": 206,
    "start_time": "2021-07-07T10:12:30.191Z"
   },
   {
    "duration": 227,
    "start_time": "2021-07-07T10:12:33.078Z"
   },
   {
    "duration": 153,
    "start_time": "2021-07-07T10:13:42.146Z"
   },
   {
    "duration": 233,
    "start_time": "2021-07-07T10:30:09.252Z"
   },
   {
    "duration": 19,
    "start_time": "2021-07-07T10:30:15.577Z"
   },
   {
    "duration": 18,
    "start_time": "2021-07-07T10:30:57.348Z"
   },
   {
    "duration": 19,
    "start_time": "2021-07-07T10:31:17.452Z"
   },
   {
    "duration": 21,
    "start_time": "2021-07-07T10:31:32.227Z"
   },
   {
    "duration": 27,
    "start_time": "2021-07-07T10:32:06.588Z"
   },
   {
    "duration": 23,
    "start_time": "2021-07-07T10:32:43.645Z"
   },
   {
    "duration": 24,
    "start_time": "2021-07-07T10:33:06.948Z"
   },
   {
    "duration": 7,
    "start_time": "2021-07-07T10:33:28.558Z"
   },
   {
    "duration": 23,
    "start_time": "2021-07-07T10:33:43.761Z"
   },
   {
    "duration": 28,
    "start_time": "2021-07-07T10:34:13.466Z"
   },
   {
    "duration": 23,
    "start_time": "2021-07-07T10:35:56.187Z"
   },
   {
    "duration": 6,
    "start_time": "2021-07-07T10:36:48.182Z"
   },
   {
    "duration": 14,
    "start_time": "2021-07-07T10:37:49.641Z"
   },
   {
    "duration": 6,
    "start_time": "2021-07-07T10:38:06.694Z"
   },
   {
    "duration": 6,
    "start_time": "2021-07-07T10:38:13.493Z"
   },
   {
    "duration": 19,
    "start_time": "2021-07-07T10:38:44.056Z"
   },
   {
    "duration": 186,
    "start_time": "2021-07-07T10:48:35.618Z"
   },
   {
    "duration": 24,
    "start_time": "2021-07-07T10:48:51.498Z"
   },
   {
    "duration": 20,
    "start_time": "2021-07-07T10:48:59.415Z"
   },
   {
    "duration": 20,
    "start_time": "2021-07-07T10:53:02.195Z"
   },
   {
    "duration": 188,
    "start_time": "2021-07-07T10:54:40.486Z"
   },
   {
    "duration": 115,
    "start_time": "2021-07-07T10:54:52.552Z"
   },
   {
    "duration": 214,
    "start_time": "2021-07-07T10:54:56.354Z"
   },
   {
    "duration": 47,
    "start_time": "2021-07-07T10:54:58.282Z"
   },
   {
    "duration": 217,
    "start_time": "2021-07-07T10:59:16.075Z"
   },
   {
    "duration": 51,
    "start_time": "2021-07-07T10:59:16.243Z"
   },
   {
    "duration": 578,
    "start_time": "2021-07-07T10:59:18.774Z"
   },
   {
    "duration": 161,
    "start_time": "2021-07-07T10:59:21.238Z"
   },
   {
    "duration": 59,
    "start_time": "2021-07-07T10:59:21.453Z"
   },
   {
    "duration": 3,
    "start_time": "2021-07-07T11:02:10.786Z"
   },
   {
    "duration": 13,
    "start_time": "2021-07-07T11:07:07.722Z"
   },
   {
    "duration": 26,
    "start_time": "2021-07-07T11:07:17.958Z"
   },
   {
    "duration": 22,
    "start_time": "2021-07-07T11:08:17.939Z"
   },
   {
    "duration": 212,
    "start_time": "2021-07-07T11:08:19.665Z"
   },
   {
    "duration": 21,
    "start_time": "2021-07-07T11:08:29.945Z"
   },
   {
    "duration": 31,
    "start_time": "2021-07-07T11:08:38.899Z"
   },
   {
    "duration": 23,
    "start_time": "2021-07-07T11:08:54.527Z"
   },
   {
    "duration": 8,
    "start_time": "2021-07-07T11:18:55.974Z"
   },
   {
    "duration": 7,
    "start_time": "2021-07-07T11:19:03.639Z"
   },
   {
    "duration": 7,
    "start_time": "2021-07-07T11:19:06.444Z"
   },
   {
    "duration": 578,
    "start_time": "2021-07-07T12:09:59.576Z"
   },
   {
    "duration": 195,
    "start_time": "2021-07-07T12:10:00.156Z"
   },
   {
    "duration": 115,
    "start_time": "2021-07-07T12:10:00.353Z"
   },
   {
    "duration": 3,
    "start_time": "2021-07-07T12:10:00.470Z"
   },
   {
    "duration": 32,
    "start_time": "2021-07-07T12:10:00.474Z"
   },
   {
    "duration": 23,
    "start_time": "2021-07-07T12:10:00.508Z"
   },
   {
    "duration": 19,
    "start_time": "2021-07-07T12:10:00.533Z"
   },
   {
    "duration": 44,
    "start_time": "2021-07-07T12:10:00.553Z"
   },
   {
    "duration": 7,
    "start_time": "2021-07-07T12:10:00.600Z"
   },
   {
    "duration": 7,
    "start_time": "2021-07-07T12:19:45.761Z"
   },
   {
    "duration": 21,
    "start_time": "2021-07-07T12:21:35.482Z"
   },
   {
    "duration": 21,
    "start_time": "2021-07-07T12:29:23.569Z"
   },
   {
    "duration": 525,
    "start_time": "2021-07-07T12:29:44.542Z"
   },
   {
    "duration": 214,
    "start_time": "2021-07-07T12:29:45.069Z"
   },
   {
    "duration": 92,
    "start_time": "2021-07-07T12:29:45.285Z"
   },
   {
    "duration": 3,
    "start_time": "2021-07-07T12:29:45.379Z"
   },
   {
    "duration": 28,
    "start_time": "2021-07-07T12:29:45.384Z"
   },
   {
    "duration": 23,
    "start_time": "2021-07-07T12:29:45.413Z"
   },
   {
    "duration": 21,
    "start_time": "2021-07-07T12:29:45.437Z"
   },
   {
    "duration": 41,
    "start_time": "2021-07-07T12:29:45.460Z"
   },
   {
    "duration": 7,
    "start_time": "2021-07-07T12:29:45.502Z"
   },
   {
    "duration": 20,
    "start_time": "2021-07-07T12:29:45.511Z"
   },
   {
    "duration": 12,
    "start_time": "2021-07-07T12:34:02.800Z"
   },
   {
    "duration": 7,
    "start_time": "2021-07-07T12:35:10.479Z"
   },
   {
    "duration": 8,
    "start_time": "2021-07-07T12:35:22.440Z"
   },
   {
    "duration": 6,
    "start_time": "2021-07-07T12:35:35.649Z"
   },
   {
    "duration": 6,
    "start_time": "2021-07-07T12:35:43.107Z"
   },
   {
    "duration": 22,
    "start_time": "2021-07-07T12:38:03.029Z"
   },
   {
    "duration": 10,
    "start_time": "2021-07-07T12:38:06.592Z"
   },
   {
    "duration": 563,
    "start_time": "2021-07-07T12:38:46.493Z"
   },
   {
    "duration": 265,
    "start_time": "2021-07-07T12:38:47.058Z"
   },
   {
    "duration": 94,
    "start_time": "2021-07-07T12:38:47.325Z"
   },
   {
    "duration": 3,
    "start_time": "2021-07-07T12:38:47.422Z"
   },
   {
    "duration": 30,
    "start_time": "2021-07-07T12:38:47.427Z"
   },
   {
    "duration": 16,
    "start_time": "2021-07-07T12:38:53.305Z"
   },
   {
    "duration": 10,
    "start_time": "2021-07-07T12:38:53.499Z"
   },
   {
    "duration": 8,
    "start_time": "2021-07-07T12:39:48.161Z"
   },
   {
    "duration": 27,
    "start_time": "2021-07-07T12:41:17.629Z"
   },
   {
    "duration": 17,
    "start_time": "2021-07-07T12:41:17.867Z"
   },
   {
    "duration": 21,
    "start_time": "2021-07-07T12:41:19.310Z"
   },
   {
    "duration": 7,
    "start_time": "2021-07-07T12:41:19.544Z"
   },
   {
    "duration": 20,
    "start_time": "2021-07-07T12:41:20.504Z"
   },
   {
    "duration": 554,
    "start_time": "2021-07-07T12:56:23.696Z"
   },
   {
    "duration": 200,
    "start_time": "2021-07-07T12:56:25.234Z"
   },
   {
    "duration": 119,
    "start_time": "2021-07-07T12:56:25.480Z"
   },
   {
    "duration": 4,
    "start_time": "2021-07-07T12:56:25.762Z"
   },
   {
    "duration": 26,
    "start_time": "2021-07-07T12:56:27.172Z"
   },
   {
    "duration": 12,
    "start_time": "2021-07-07T12:56:29.051Z"
   },
   {
    "duration": 10,
    "start_time": "2021-07-07T12:56:29.291Z"
   },
   {
    "duration": 8,
    "start_time": "2021-07-07T12:56:29.623Z"
   },
   {
    "duration": 28,
    "start_time": "2021-07-07T12:56:32.137Z"
   },
   {
    "duration": 19,
    "start_time": "2021-07-07T12:56:39.785Z"
   },
   {
    "duration": 20,
    "start_time": "2021-07-07T12:56:44.297Z"
   },
   {
    "duration": 7,
    "start_time": "2021-07-07T12:56:45.392Z"
   },
   {
    "duration": 23,
    "start_time": "2021-07-07T12:56:46.615Z"
   },
   {
    "duration": 4,
    "start_time": "2021-07-07T12:57:06.625Z"
   },
   {
    "duration": 32,
    "start_time": "2021-07-07T12:57:36.690Z"
   },
   {
    "duration": 18,
    "start_time": "2021-07-07T12:58:00.149Z"
   },
   {
    "duration": 15,
    "start_time": "2021-07-07T12:59:16.793Z"
   },
   {
    "duration": 7,
    "start_time": "2021-07-07T13:19:22.624Z"
   },
   {
    "duration": 6,
    "start_time": "2021-07-07T14:17:33.527Z"
   },
   {
    "duration": 9,
    "start_time": "2021-07-07T14:17:48.409Z"
   },
   {
    "duration": 8,
    "start_time": "2021-07-07T14:20:13.060Z"
   },
   {
    "duration": 8,
    "start_time": "2021-07-07T14:20:37.957Z"
   },
   {
    "duration": 8,
    "start_time": "2021-07-07T14:20:47.470Z"
   },
   {
    "duration": 9,
    "start_time": "2021-07-07T14:20:54.503Z"
   },
   {
    "duration": 10,
    "start_time": "2021-07-07T14:28:57.763Z"
   },
   {
    "duration": 3,
    "start_time": "2021-07-07T14:30:23.377Z"
   },
   {
    "duration": 3,
    "start_time": "2021-07-07T14:30:36.489Z"
   },
   {
    "duration": 103,
    "start_time": "2021-07-07T14:30:52.351Z"
   },
   {
    "duration": 8,
    "start_time": "2021-07-07T14:30:54.763Z"
   },
   {
    "duration": 8,
    "start_time": "2021-07-07T14:31:29.301Z"
   },
   {
    "duration": 13,
    "start_time": "2021-07-07T14:31:44.516Z"
   },
   {
    "duration": 7,
    "start_time": "2021-07-07T14:33:10.972Z"
   },
   {
    "duration": 11,
    "start_time": "2021-07-07T14:33:27.780Z"
   },
   {
    "duration": 8,
    "start_time": "2021-07-07T14:34:44.588Z"
   },
   {
    "duration": 57,
    "start_time": "2021-07-07T14:35:59.042Z"
   },
   {
    "duration": 3,
    "start_time": "2021-07-07T14:36:28.168Z"
   },
   {
    "duration": 5,
    "start_time": "2021-07-07T14:36:46.254Z"
   },
   {
    "duration": 4,
    "start_time": "2021-07-07T14:36:52.714Z"
   },
   {
    "duration": 3,
    "start_time": "2021-07-07T14:36:56.612Z"
   },
   {
    "duration": 4,
    "start_time": "2021-07-07T14:36:57.049Z"
   },
   {
    "duration": 3,
    "start_time": "2021-07-07T14:39:21.214Z"
   },
   {
    "duration": 7,
    "start_time": "2021-07-07T14:39:52.406Z"
   },
   {
    "duration": 11,
    "start_time": "2021-07-07T14:39:58.576Z"
   },
   {
    "duration": 9,
    "start_time": "2021-07-07T14:40:26.301Z"
   },
   {
    "duration": 10,
    "start_time": "2021-07-07T14:40:31.704Z"
   },
   {
    "duration": 11,
    "start_time": "2021-07-07T14:40:36.249Z"
   },
   {
    "duration": 10,
    "start_time": "2021-07-07T14:40:39.783Z"
   },
   {
    "duration": 9,
    "start_time": "2021-07-07T14:40:48.558Z"
   },
   {
    "duration": 10,
    "start_time": "2021-07-07T14:40:57.143Z"
   },
   {
    "duration": 9,
    "start_time": "2021-07-07T14:41:06.074Z"
   },
   {
    "duration": 4324,
    "start_time": "2021-07-07T14:41:22.004Z"
   },
   {
    "duration": 11,
    "start_time": "2021-07-07T14:41:33.392Z"
   },
   {
    "duration": 9,
    "start_time": "2021-07-07T14:41:39.288Z"
   },
   {
    "duration": 569,
    "start_time": "2021-07-07T14:42:14.387Z"
   },
   {
    "duration": 197,
    "start_time": "2021-07-07T14:42:14.959Z"
   },
   {
    "duration": 84,
    "start_time": "2021-07-07T14:42:16.052Z"
   },
   {
    "duration": 4,
    "start_time": "2021-07-07T14:42:16.900Z"
   },
   {
    "duration": 27,
    "start_time": "2021-07-07T14:42:19.898Z"
   },
   {
    "duration": 12,
    "start_time": "2021-07-07T14:42:21.577Z"
   },
   {
    "duration": 9,
    "start_time": "2021-07-07T14:42:21.813Z"
   },
   {
    "duration": 9,
    "start_time": "2021-07-07T14:42:22.569Z"
   },
   {
    "duration": 29,
    "start_time": "2021-07-07T14:42:25.837Z"
   },
   {
    "duration": 20,
    "start_time": "2021-07-07T14:42:27.003Z"
   },
   {
    "duration": 21,
    "start_time": "2021-07-07T14:42:28.767Z"
   },
   {
    "duration": 7,
    "start_time": "2021-07-07T14:42:29.838Z"
   },
   {
    "duration": 4,
    "start_time": "2021-07-07T14:43:25.493Z"
   },
   {
    "duration": 7,
    "start_time": "2021-07-07T14:43:26.573Z"
   },
   {
    "duration": 10,
    "start_time": "2021-07-07T14:43:31.639Z"
   },
   {
    "duration": 9,
    "start_time": "2021-07-07T14:43:32.046Z"
   },
   {
    "duration": 10,
    "start_time": "2021-07-07T14:43:33.301Z"
   },
   {
    "duration": 12,
    "start_time": "2021-07-07T14:43:33.658Z"
   },
   {
    "duration": 8,
    "start_time": "2021-07-07T14:43:34.552Z"
   },
   {
    "duration": 9,
    "start_time": "2021-07-07T14:43:35.058Z"
   },
   {
    "duration": 12,
    "start_time": "2021-07-07T14:43:35.914Z"
   },
   {
    "duration": 17,
    "start_time": "2021-07-07T14:45:34.368Z"
   },
   {
    "duration": 512,
    "start_time": "2021-07-07T14:51:58.236Z"
   },
   {
    "duration": 223,
    "start_time": "2021-07-07T14:51:58.750Z"
   },
   {
    "duration": 93,
    "start_time": "2021-07-07T14:51:58.977Z"
   },
   {
    "duration": 4,
    "start_time": "2021-07-07T14:51:59.071Z"
   },
   {
    "duration": 37,
    "start_time": "2021-07-07T14:51:59.077Z"
   },
   {
    "duration": 18,
    "start_time": "2021-07-07T14:51:59.116Z"
   },
   {
    "duration": 10,
    "start_time": "2021-07-07T14:51:59.137Z"
   },
   {
    "duration": 8,
    "start_time": "2021-07-07T14:51:59.149Z"
   },
   {
    "duration": 54,
    "start_time": "2021-07-07T14:51:59.158Z"
   },
   {
    "duration": 18,
    "start_time": "2021-07-07T14:51:59.213Z"
   },
   {
    "duration": 22,
    "start_time": "2021-07-07T14:51:59.232Z"
   },
   {
    "duration": 36,
    "start_time": "2021-07-07T14:51:59.255Z"
   },
   {
    "duration": 7,
    "start_time": "2021-07-07T14:51:59.293Z"
   },
   {
    "duration": 10,
    "start_time": "2021-07-07T14:51:59.302Z"
   },
   {
    "duration": 9,
    "start_time": "2021-07-07T14:51:59.313Z"
   },
   {
    "duration": 11,
    "start_time": "2021-07-07T14:51:59.324Z"
   },
   {
    "duration": 8,
    "start_time": "2021-07-07T14:51:59.337Z"
   },
   {
    "duration": 46,
    "start_time": "2021-07-07T14:51:59.347Z"
   },
   {
    "duration": 22,
    "start_time": "2021-07-07T14:51:59.395Z"
   },
   {
    "duration": 24,
    "start_time": "2021-07-07T14:57:32.911Z"
   },
   {
    "duration": 7,
    "start_time": "2021-07-07T14:58:22.070Z"
   },
   {
    "duration": 4,
    "start_time": "2021-07-07T14:59:11.239Z"
   },
   {
    "duration": 25,
    "start_time": "2021-07-07T15:07:22.208Z"
   },
   {
    "duration": 16,
    "start_time": "2021-07-07T15:08:25.560Z"
   },
   {
    "duration": 15,
    "start_time": "2021-07-07T15:08:40.647Z"
   },
   {
    "duration": 14,
    "start_time": "2021-07-07T15:08:46.669Z"
   },
   {
    "duration": 533,
    "start_time": "2021-07-07T15:18:07.440Z"
   },
   {
    "duration": 173,
    "start_time": "2021-07-07T15:18:07.974Z"
   },
   {
    "duration": 84,
    "start_time": "2021-07-07T15:18:08.149Z"
   },
   {
    "duration": 3,
    "start_time": "2021-07-07T15:18:08.235Z"
   },
   {
    "duration": 30,
    "start_time": "2021-07-07T15:18:08.240Z"
   },
   {
    "duration": 22,
    "start_time": "2021-07-07T15:18:08.272Z"
   },
   {
    "duration": 11,
    "start_time": "2021-07-07T15:18:08.295Z"
   },
   {
    "duration": 11,
    "start_time": "2021-07-07T15:18:08.309Z"
   },
   {
    "duration": 40,
    "start_time": "2021-07-07T15:18:08.322Z"
   },
   {
    "duration": 42,
    "start_time": "2021-07-07T15:18:08.364Z"
   },
   {
    "duration": 22,
    "start_time": "2021-07-07T15:18:08.408Z"
   },
   {
    "duration": 5,
    "start_time": "2021-07-07T15:18:08.432Z"
   },
   {
    "duration": 13,
    "start_time": "2021-07-07T15:18:08.439Z"
   },
   {
    "duration": 9,
    "start_time": "2021-07-07T15:18:08.454Z"
   },
   {
    "duration": 32,
    "start_time": "2021-07-07T15:18:08.465Z"
   },
   {
    "duration": 10,
    "start_time": "2021-07-07T15:18:08.501Z"
   },
   {
    "duration": 7,
    "start_time": "2021-07-07T15:18:08.513Z"
   },
   {
    "duration": 11,
    "start_time": "2021-07-07T15:18:08.521Z"
   },
   {
    "duration": 17,
    "start_time": "2021-07-07T15:18:08.534Z"
   },
   {
    "duration": 44,
    "start_time": "2021-07-07T15:18:08.553Z"
   },
   {
    "duration": 22,
    "start_time": "2021-07-07T15:18:08.599Z"
   },
   {
    "duration": 61,
    "start_time": "2021-07-07T15:18:08.622Z"
   },
   {
    "duration": 7,
    "start_time": "2021-07-07T15:18:39.457Z"
   },
   {
    "duration": 5,
    "start_time": "2021-07-07T16:05:17.020Z"
   },
   {
    "duration": 5,
    "start_time": "2021-07-07T16:51:28.794Z"
   },
   {
    "duration": 546,
    "start_time": "2021-07-07T16:52:26.306Z"
   },
   {
    "duration": 203,
    "start_time": "2021-07-07T16:52:27.523Z"
   },
   {
    "duration": 85,
    "start_time": "2021-07-07T16:52:27.736Z"
   },
   {
    "duration": 4,
    "start_time": "2021-07-07T16:52:27.899Z"
   },
   {
    "duration": 25,
    "start_time": "2021-07-07T16:52:28.674Z"
   },
   {
    "duration": 8,
    "start_time": "2021-07-07T16:52:32.956Z"
   },
   {
    "duration": 18,
    "start_time": "2021-07-07T16:52:35.616Z"
   },
   {
    "duration": 6,
    "start_time": "2021-07-07T16:52:36.913Z"
   },
   {
    "duration": 11,
    "start_time": "2021-07-07T16:52:40.258Z"
   },
   {
    "duration": 10,
    "start_time": "2021-07-07T16:52:46.251Z"
   },
   {
    "duration": 8,
    "start_time": "2021-07-07T16:52:47.182Z"
   },
   {
    "duration": 27,
    "start_time": "2021-07-07T16:53:20.391Z"
   },
   {
    "duration": 20,
    "start_time": "2021-07-07T16:53:22.022Z"
   },
   {
    "duration": 23,
    "start_time": "2021-07-07T16:53:23.690Z"
   },
   {
    "duration": 8,
    "start_time": "2021-07-07T16:53:24.261Z"
   },
   {
    "duration": 4,
    "start_time": "2021-07-07T16:53:38.733Z"
   },
   {
    "duration": 7,
    "start_time": "2021-07-07T16:53:40.445Z"
   },
   {
    "duration": 11,
    "start_time": "2021-07-07T16:53:41.348Z"
   },
   {
    "duration": 13,
    "start_time": "2021-07-07T16:53:45.250Z"
   },
   {
    "duration": 12,
    "start_time": "2021-07-07T16:53:45.467Z"
   },
   {
    "duration": 4,
    "start_time": "2021-07-07T16:55:32.704Z"
   },
   {
    "duration": 12,
    "start_time": "2021-07-07T16:55:49.012Z"
   },
   {
    "duration": 18,
    "start_time": "2021-07-07T16:55:49.547Z"
   },
   {
    "duration": 611,
    "start_time": "2021-07-07T16:58:35.156Z"
   },
   {
    "duration": 200,
    "start_time": "2021-07-07T16:58:35.770Z"
   },
   {
    "duration": 86,
    "start_time": "2021-07-07T16:58:35.972Z"
   },
   {
    "duration": 3,
    "start_time": "2021-07-07T16:58:36.060Z"
   },
   {
    "duration": 27,
    "start_time": "2021-07-07T16:58:36.065Z"
   },
   {
    "duration": 8,
    "start_time": "2021-07-07T16:58:36.094Z"
   },
   {
    "duration": 17,
    "start_time": "2021-07-07T16:58:36.103Z"
   },
   {
    "duration": 5,
    "start_time": "2021-07-07T16:58:36.123Z"
   },
   {
    "duration": 11,
    "start_time": "2021-07-07T16:58:36.130Z"
   },
   {
    "duration": 7,
    "start_time": "2021-07-07T16:58:36.143Z"
   },
   {
    "duration": 37,
    "start_time": "2021-07-07T16:58:36.152Z"
   },
   {
    "duration": 27,
    "start_time": "2021-07-07T16:58:36.191Z"
   },
   {
    "duration": 19,
    "start_time": "2021-07-07T16:58:36.219Z"
   },
   {
    "duration": 49,
    "start_time": "2021-07-07T16:58:36.240Z"
   },
   {
    "duration": 6,
    "start_time": "2021-07-07T16:58:36.291Z"
   },
   {
    "duration": 3,
    "start_time": "2021-07-07T16:58:36.299Z"
   },
   {
    "duration": 13,
    "start_time": "2021-07-07T16:58:36.304Z"
   },
   {
    "duration": 10,
    "start_time": "2021-07-07T16:58:36.319Z"
   },
   {
    "duration": 10,
    "start_time": "2021-07-07T16:58:36.331Z"
   },
   {
    "duration": 44,
    "start_time": "2021-07-07T16:58:36.343Z"
   },
   {
    "duration": 4,
    "start_time": "2021-07-07T16:58:36.388Z"
   },
   {
    "duration": 13,
    "start_time": "2021-07-07T16:58:36.394Z"
   },
   {
    "duration": 16,
    "start_time": "2021-07-07T16:58:36.410Z"
   },
   {
    "duration": 8,
    "start_time": "2021-07-07T17:02:31.629Z"
   },
   {
    "duration": 8,
    "start_time": "2021-07-07T17:02:34.308Z"
   },
   {
    "duration": 6,
    "start_time": "2021-07-07T17:05:13.483Z"
   },
   {
    "duration": 17,
    "start_time": "2021-07-07T17:05:20.606Z"
   },
   {
    "duration": 7,
    "start_time": "2021-07-07T17:05:34.638Z"
   },
   {
    "duration": 3,
    "start_time": "2021-07-07T17:06:31.883Z"
   },
   {
    "duration": 570,
    "start_time": "2021-07-07T17:06:37.165Z"
   },
   {
    "duration": 174,
    "start_time": "2021-07-07T17:06:37.737Z"
   },
   {
    "duration": 47,
    "start_time": "2021-07-07T17:06:37.913Z"
   },
   {
    "duration": 3,
    "start_time": "2021-07-07T17:06:37.962Z"
   },
   {
    "duration": 27,
    "start_time": "2021-07-07T17:06:37.967Z"
   },
   {
    "duration": 7,
    "start_time": "2021-07-07T17:06:37.996Z"
   },
   {
    "duration": 16,
    "start_time": "2021-07-07T17:06:38.005Z"
   },
   {
    "duration": 6,
    "start_time": "2021-07-07T17:06:38.024Z"
   },
   {
    "duration": 12,
    "start_time": "2021-07-07T17:06:38.031Z"
   },
   {
    "duration": 41,
    "start_time": "2021-07-07T17:06:38.045Z"
   },
   {
    "duration": 8,
    "start_time": "2021-07-07T17:06:38.088Z"
   },
   {
    "duration": 26,
    "start_time": "2021-07-07T17:06:38.098Z"
   },
   {
    "duration": 17,
    "start_time": "2021-07-07T17:06:38.126Z"
   },
   {
    "duration": 43,
    "start_time": "2021-07-07T17:06:38.144Z"
   },
   {
    "duration": 6,
    "start_time": "2021-07-07T17:06:38.188Z"
   },
   {
    "duration": 5,
    "start_time": "2021-07-07T17:06:38.195Z"
   },
   {
    "duration": 9,
    "start_time": "2021-07-07T17:06:38.201Z"
   },
   {
    "duration": 12,
    "start_time": "2021-07-07T17:06:38.212Z"
   },
   {
    "duration": 11,
    "start_time": "2021-07-07T17:06:38.226Z"
   },
   {
    "duration": 47,
    "start_time": "2021-07-07T17:06:38.239Z"
   },
   {
    "duration": 4,
    "start_time": "2021-07-07T17:06:38.288Z"
   },
   {
    "duration": 13,
    "start_time": "2021-07-07T17:06:38.293Z"
   },
   {
    "duration": 5,
    "start_time": "2021-07-07T17:06:38.309Z"
   },
   {
    "duration": 18,
    "start_time": "2021-07-07T17:06:38.325Z"
   },
   {
    "duration": 20,
    "start_time": "2021-07-07T17:07:02.805Z"
   },
   {
    "duration": 19,
    "start_time": "2021-07-07T17:07:08.527Z"
   },
   {
    "duration": 19,
    "start_time": "2021-07-07T17:07:12.758Z"
   },
   {
    "duration": 22,
    "start_time": "2021-07-07T17:07:17.497Z"
   },
   {
    "duration": 19,
    "start_time": "2021-07-07T17:07:19.645Z"
   },
   {
    "duration": 10,
    "start_time": "2021-07-07T17:07:34.239Z"
   },
   {
    "duration": 17,
    "start_time": "2021-07-07T17:07:54.144Z"
   },
   {
    "duration": 14,
    "start_time": "2021-07-07T17:08:14.357Z"
   },
   {
    "duration": 616,
    "start_time": "2021-07-07T17:08:45.254Z"
   },
   {
    "duration": 178,
    "start_time": "2021-07-07T17:08:45.872Z"
   },
   {
    "duration": 60,
    "start_time": "2021-07-07T17:08:46.054Z"
   },
   {
    "duration": 3,
    "start_time": "2021-07-07T17:08:46.116Z"
   },
   {
    "duration": 26,
    "start_time": "2021-07-07T17:08:46.121Z"
   },
   {
    "duration": 7,
    "start_time": "2021-07-07T17:08:46.149Z"
   },
   {
    "duration": 17,
    "start_time": "2021-07-07T17:08:46.158Z"
   },
   {
    "duration": 14,
    "start_time": "2021-07-07T17:08:46.176Z"
   },
   {
    "duration": 17,
    "start_time": "2021-07-07T17:08:46.193Z"
   },
   {
    "duration": 9,
    "start_time": "2021-07-07T17:08:46.211Z"
   },
   {
    "duration": 21,
    "start_time": "2021-07-07T17:08:46.221Z"
   },
   {
    "duration": 49,
    "start_time": "2021-07-07T17:08:46.244Z"
   },
   {
    "duration": 24,
    "start_time": "2021-07-07T17:08:46.295Z"
   },
   {
    "duration": 22,
    "start_time": "2021-07-07T17:08:46.321Z"
   },
   {
    "duration": 6,
    "start_time": "2021-07-07T17:08:46.345Z"
   },
   {
    "duration": 5,
    "start_time": "2021-07-07T17:08:46.353Z"
   },
   {
    "duration": 13,
    "start_time": "2021-07-07T17:08:46.386Z"
   },
   {
    "duration": 12,
    "start_time": "2021-07-07T17:08:46.402Z"
   },
   {
    "duration": 10,
    "start_time": "2021-07-07T17:08:46.415Z"
   },
   {
    "duration": 7,
    "start_time": "2021-07-07T17:08:46.427Z"
   },
   {
    "duration": 8,
    "start_time": "2021-07-07T17:08:46.435Z"
   },
   {
    "duration": 68,
    "start_time": "2021-07-07T17:08:46.446Z"
   },
   {
    "duration": 13,
    "start_time": "2021-07-07T17:08:46.516Z"
   },
   {
    "duration": 78,
    "start_time": "2021-07-07T17:08:46.530Z"
   },
   {
    "duration": 40,
    "start_time": "2021-07-07T17:09:08.185Z"
   },
   {
    "duration": 16,
    "start_time": "2021-07-07T17:09:19.324Z"
   },
   {
    "duration": 21,
    "start_time": "2021-07-07T17:09:23.290Z"
   },
   {
    "duration": 13,
    "start_time": "2021-07-07T17:09:54.812Z"
   },
   {
    "duration": 13,
    "start_time": "2021-07-07T17:10:02.039Z"
   },
   {
    "duration": 10,
    "start_time": "2021-07-07T17:10:29.632Z"
   },
   {
    "duration": 13,
    "start_time": "2021-07-07T17:10:52.372Z"
   },
   {
    "duration": 13,
    "start_time": "2021-07-07T17:11:17.270Z"
   },
   {
    "duration": 13,
    "start_time": "2021-07-07T17:14:59.284Z"
   },
   {
    "duration": 547,
    "start_time": "2021-07-07T17:18:52.403Z"
   },
   {
    "duration": 163,
    "start_time": "2021-07-07T17:18:52.952Z"
   },
   {
    "duration": 44,
    "start_time": "2021-07-07T17:18:53.117Z"
   },
   {
    "duration": 3,
    "start_time": "2021-07-07T17:18:53.162Z"
   },
   {
    "duration": 26,
    "start_time": "2021-07-07T17:18:53.167Z"
   },
   {
    "duration": 6,
    "start_time": "2021-07-07T17:18:53.195Z"
   },
   {
    "duration": 15,
    "start_time": "2021-07-07T17:18:53.203Z"
   },
   {
    "duration": 5,
    "start_time": "2021-07-07T17:18:53.220Z"
   },
   {
    "duration": 11,
    "start_time": "2021-07-07T17:18:53.228Z"
   },
   {
    "duration": 9,
    "start_time": "2021-07-07T17:18:53.241Z"
   },
   {
    "duration": 41,
    "start_time": "2021-07-07T17:18:53.252Z"
   },
   {
    "duration": 33,
    "start_time": "2021-07-07T17:18:53.295Z"
   },
   {
    "duration": 19,
    "start_time": "2021-07-07T17:18:53.330Z"
   },
   {
    "duration": 49,
    "start_time": "2021-07-07T17:18:53.350Z"
   },
   {
    "duration": 5,
    "start_time": "2021-07-07T17:18:53.401Z"
   },
   {
    "duration": 5,
    "start_time": "2021-07-07T17:18:53.408Z"
   },
   {
    "duration": 11,
    "start_time": "2021-07-07T17:18:53.414Z"
   },
   {
    "duration": 9,
    "start_time": "2021-07-07T17:18:53.427Z"
   },
   {
    "duration": 10,
    "start_time": "2021-07-07T17:18:53.437Z"
   },
   {
    "duration": 39,
    "start_time": "2021-07-07T17:18:53.448Z"
   },
   {
    "duration": 26,
    "start_time": "2021-07-07T17:18:55.799Z"
   },
   {
    "duration": 598,
    "start_time": "2021-07-07T17:20:17.862Z"
   },
   {
    "duration": 161,
    "start_time": "2021-07-07T17:20:18.462Z"
   },
   {
    "duration": 45,
    "start_time": "2021-07-07T17:20:18.626Z"
   },
   {
    "duration": 4,
    "start_time": "2021-07-07T17:20:18.673Z"
   },
   {
    "duration": 38,
    "start_time": "2021-07-07T17:20:26.877Z"
   },
   {
    "duration": 7,
    "start_time": "2021-07-07T17:20:37.405Z"
   },
   {
    "duration": 19,
    "start_time": "2021-07-07T17:20:51.534Z"
   },
   {
    "duration": 5,
    "start_time": "2021-07-07T17:20:57.228Z"
   },
   {
    "duration": 7,
    "start_time": "2021-07-07T17:21:08.235Z"
   },
   {
    "duration": 19,
    "start_time": "2021-07-07T17:21:42.158Z"
   },
   {
    "duration": 14,
    "start_time": "2021-07-07T17:21:50.225Z"
   },
   {
    "duration": 22,
    "start_time": "2021-07-07T17:22:54.104Z"
   },
   {
    "duration": 5,
    "start_time": "2021-07-07T17:22:56.371Z"
   },
   {
    "duration": 14,
    "start_time": "2021-07-07T17:22:58.316Z"
   },
   {
    "duration": 5,
    "start_time": "2021-07-07T17:22:58.493Z"
   },
   {
    "duration": 35,
    "start_time": "2021-07-07T17:22:59.666Z"
   },
   {
    "duration": 6,
    "start_time": "2021-07-07T17:23:02.410Z"
   },
   {
    "duration": 611,
    "start_time": "2021-07-07T17:24:59.664Z"
   },
   {
    "duration": 178,
    "start_time": "2021-07-07T17:25:01.945Z"
   },
   {
    "duration": 47,
    "start_time": "2021-07-07T17:25:02.125Z"
   },
   {
    "duration": 2,
    "start_time": "2021-07-07T17:25:07.903Z"
   },
   {
    "duration": 254,
    "start_time": "2021-07-07T17:25:08.232Z"
   },
   {
    "duration": 182,
    "start_time": "2021-07-07T17:25:08.671Z"
   },
   {
    "duration": 6,
    "start_time": "2021-07-07T17:25:13.104Z"
   },
   {
    "duration": 36,
    "start_time": "2021-07-07T17:25:13.662Z"
   },
   {
    "duration": 7,
    "start_time": "2021-07-07T17:25:14.528Z"
   },
   {
    "duration": 24,
    "start_time": "2021-07-07T17:25:27.982Z"
   },
   {
    "duration": 3,
    "start_time": "2021-07-07T17:25:48.982Z"
   },
   {
    "duration": 165,
    "start_time": "2021-07-07T17:25:48.987Z"
   },
   {
    "duration": 50,
    "start_time": "2021-07-07T17:25:49.154Z"
   },
   {
    "duration": 4,
    "start_time": "2021-07-07T17:25:49.206Z"
   },
   {
    "duration": 26,
    "start_time": "2021-07-07T17:25:49.212Z"
   },
   {
    "duration": 7,
    "start_time": "2021-07-07T17:25:49.240Z"
   },
   {
    "duration": 16,
    "start_time": "2021-07-07T17:25:49.249Z"
   },
   {
    "duration": 22,
    "start_time": "2021-07-07T17:25:49.266Z"
   },
   {
    "duration": 16,
    "start_time": "2021-07-07T17:25:49.291Z"
   },
   {
    "duration": 9,
    "start_time": "2021-07-07T17:25:49.309Z"
   },
   {
    "duration": 7,
    "start_time": "2021-07-07T17:25:49.319Z"
   },
   {
    "duration": 28,
    "start_time": "2021-07-07T17:25:49.328Z"
   },
   {
    "duration": 44,
    "start_time": "2021-07-07T17:25:49.357Z"
   },
   {
    "duration": 22,
    "start_time": "2021-07-07T17:25:49.403Z"
   },
   {
    "duration": 7,
    "start_time": "2021-07-07T17:25:49.427Z"
   },
   {
    "duration": 3,
    "start_time": "2021-07-07T17:25:49.436Z"
   },
   {
    "duration": 44,
    "start_time": "2021-07-07T17:25:49.441Z"
   },
   {
    "duration": 12,
    "start_time": "2021-07-07T17:25:49.488Z"
   },
   {
    "duration": 13,
    "start_time": "2021-07-07T17:25:49.502Z"
   },
   {
    "duration": 10,
    "start_time": "2021-07-07T17:25:49.516Z"
   },
   {
    "duration": 62,
    "start_time": "2021-07-07T17:25:49.527Z"
   },
   {
    "duration": 26,
    "start_time": "2021-07-07T17:26:51.809Z"
   },
   {
    "duration": 26,
    "start_time": "2021-07-07T17:26:55.759Z"
   },
   {
    "duration": 26,
    "start_time": "2021-07-07T17:27:04.501Z"
   },
   {
    "duration": 25,
    "start_time": "2021-07-07T17:28:24.859Z"
   },
   {
    "duration": 21,
    "start_time": "2021-07-07T17:28:55.250Z"
   },
   {
    "duration": 21,
    "start_time": "2021-07-07T17:28:58.885Z"
   },
   {
    "duration": 7,
    "start_time": "2021-07-07T17:45:40.972Z"
   },
   {
    "duration": 13,
    "start_time": "2021-07-07T17:45:42.529Z"
   },
   {
    "duration": 27,
    "start_time": "2021-07-07T17:45:51.026Z"
   },
   {
    "duration": 518,
    "start_time": "2021-07-07T17:46:15.532Z"
   },
   {
    "duration": 235,
    "start_time": "2021-07-07T17:46:16.053Z"
   },
   {
    "duration": 80,
    "start_time": "2021-07-07T17:46:16.292Z"
   },
   {
    "duration": 5,
    "start_time": "2021-07-07T17:46:16.373Z"
   },
   {
    "duration": 26,
    "start_time": "2021-07-07T17:46:16.380Z"
   },
   {
    "duration": 7,
    "start_time": "2021-07-07T17:46:16.408Z"
   },
   {
    "duration": 16,
    "start_time": "2021-07-07T17:46:16.418Z"
   },
   {
    "duration": 5,
    "start_time": "2021-07-07T17:46:16.436Z"
   },
   {
    "duration": 13,
    "start_time": "2021-07-07T17:46:16.442Z"
   },
   {
    "duration": 35,
    "start_time": "2021-07-07T17:46:16.456Z"
   },
   {
    "duration": 8,
    "start_time": "2021-07-07T17:46:16.493Z"
   },
   {
    "duration": 28,
    "start_time": "2021-07-07T17:46:16.502Z"
   },
   {
    "duration": 17,
    "start_time": "2021-07-07T17:46:16.532Z"
   },
   {
    "duration": 44,
    "start_time": "2021-07-07T17:46:16.551Z"
   },
   {
    "duration": 6,
    "start_time": "2021-07-07T17:46:16.597Z"
   },
   {
    "duration": 4,
    "start_time": "2021-07-07T17:46:16.605Z"
   },
   {
    "duration": 9,
    "start_time": "2021-07-07T17:46:16.610Z"
   },
   {
    "duration": 9,
    "start_time": "2021-07-07T17:46:16.621Z"
   },
   {
    "duration": 10,
    "start_time": "2021-07-07T17:46:16.632Z"
   },
   {
    "duration": 43,
    "start_time": "2021-07-07T17:46:16.644Z"
   },
   {
    "duration": 26,
    "start_time": "2021-07-07T17:46:16.689Z"
   },
   {
    "duration": 19,
    "start_time": "2021-07-07T17:46:16.718Z"
   },
   {
    "duration": 8,
    "start_time": "2021-07-07T17:46:16.738Z"
   },
   {
    "duration": 43,
    "start_time": "2021-07-07T17:46:16.747Z"
   },
   {
    "duration": 19,
    "start_time": "2021-07-07T17:46:16.791Z"
   },
   {
    "duration": 9,
    "start_time": "2021-07-07T17:46:16.812Z"
   },
   {
    "duration": 60,
    "start_time": "2021-07-07T17:46:16.822Z"
   },
   {
    "duration": -8,
    "start_time": "2021-07-07T17:46:16.892Z"
   },
   {
    "duration": 12,
    "start_time": "2021-07-07T17:48:47.707Z"
   },
   {
    "duration": 553,
    "start_time": "2021-07-07T18:10:09.350Z"
   },
   {
    "duration": 230,
    "start_time": "2021-07-07T18:10:09.905Z"
   },
   {
    "duration": 97,
    "start_time": "2021-07-07T18:10:10.137Z"
   },
   {
    "duration": 5,
    "start_time": "2021-07-07T18:10:10.236Z"
   },
   {
    "duration": 29,
    "start_time": "2021-07-07T18:10:10.242Z"
   },
   {
    "duration": 7,
    "start_time": "2021-07-07T18:10:10.272Z"
   },
   {
    "duration": 15,
    "start_time": "2021-07-07T18:10:10.281Z"
   },
   {
    "duration": 4,
    "start_time": "2021-07-07T18:10:10.299Z"
   },
   {
    "duration": 14,
    "start_time": "2021-07-07T18:10:10.305Z"
   },
   {
    "duration": 8,
    "start_time": "2021-07-07T18:10:10.321Z"
   },
   {
    "duration": 8,
    "start_time": "2021-07-07T18:10:10.331Z"
   },
   {
    "duration": 56,
    "start_time": "2021-07-07T18:10:10.341Z"
   },
   {
    "duration": 19,
    "start_time": "2021-07-07T18:10:10.399Z"
   },
   {
    "duration": 23,
    "start_time": "2021-07-07T18:10:10.419Z"
   },
   {
    "duration": 6,
    "start_time": "2021-07-07T18:10:10.444Z"
   },
   {
    "duration": 9,
    "start_time": "2021-07-07T18:10:10.451Z"
   },
   {
    "duration": 30,
    "start_time": "2021-07-07T18:10:10.462Z"
   },
   {
    "duration": 9,
    "start_time": "2021-07-07T18:10:10.494Z"
   },
   {
    "duration": 14,
    "start_time": "2021-07-07T18:10:10.505Z"
   },
   {
    "duration": 7,
    "start_time": "2021-07-07T18:10:10.521Z"
   },
   {
    "duration": 26,
    "start_time": "2021-07-07T18:10:10.530Z"
   },
   {
    "duration": 44,
    "start_time": "2021-07-07T18:10:10.558Z"
   },
   {
    "duration": 7,
    "start_time": "2021-07-07T18:10:10.605Z"
   },
   {
    "duration": 11,
    "start_time": "2021-07-07T18:10:10.614Z"
   },
   {
    "duration": 19,
    "start_time": "2021-07-07T18:10:10.626Z"
   },
   {
    "duration": 44,
    "start_time": "2021-07-07T18:10:10.646Z"
   },
   {
    "duration": 516,
    "start_time": "2021-07-07T18:14:00.826Z"
   },
   {
    "duration": 230,
    "start_time": "2021-07-07T18:14:01.344Z"
   },
   {
    "duration": 105,
    "start_time": "2021-07-07T18:14:01.576Z"
   },
   {
    "duration": 5,
    "start_time": "2021-07-07T18:14:01.683Z"
   },
   {
    "duration": 46,
    "start_time": "2021-07-07T18:14:01.690Z"
   },
   {
    "duration": 7,
    "start_time": "2021-07-07T18:14:01.738Z"
   },
   {
    "duration": 20,
    "start_time": "2021-07-07T18:14:01.747Z"
   },
   {
    "duration": 16,
    "start_time": "2021-07-07T18:14:01.769Z"
   },
   {
    "duration": 14,
    "start_time": "2021-07-07T18:14:01.787Z"
   },
   {
    "duration": 15,
    "start_time": "2021-07-07T18:14:01.803Z"
   },
   {
    "duration": 12,
    "start_time": "2021-07-07T18:14:01.820Z"
   },
   {
    "duration": 35,
    "start_time": "2021-07-07T18:14:01.833Z"
   },
   {
    "duration": 31,
    "start_time": "2021-07-07T18:14:01.869Z"
   },
   {
    "duration": 37,
    "start_time": "2021-07-07T18:14:01.902Z"
   },
   {
    "duration": 8,
    "start_time": "2021-07-07T18:14:01.942Z"
   },
   {
    "duration": 16,
    "start_time": "2021-07-07T18:14:01.952Z"
   },
   {
    "duration": 13,
    "start_time": "2021-07-07T18:14:01.970Z"
   },
   {
    "duration": 32,
    "start_time": "2021-07-07T18:14:01.985Z"
   },
   {
    "duration": 11,
    "start_time": "2021-07-07T18:14:02.019Z"
   },
   {
    "duration": 22,
    "start_time": "2021-07-07T18:14:02.031Z"
   },
   {
    "duration": 27,
    "start_time": "2021-07-07T18:14:02.055Z"
   },
   {
    "duration": 18,
    "start_time": "2021-07-07T18:14:02.084Z"
   },
   {
    "duration": 18,
    "start_time": "2021-07-07T18:14:02.106Z"
   },
   {
    "duration": 11,
    "start_time": "2021-07-07T18:14:02.126Z"
   },
   {
    "duration": 21,
    "start_time": "2021-07-07T18:14:02.138Z"
   },
   {
    "duration": 32,
    "start_time": "2021-07-07T18:14:02.161Z"
   },
   {
    "duration": 28,
    "start_time": "2021-07-07T18:14:44.295Z"
   },
   {
    "duration": 6,
    "start_time": "2021-07-07T18:15:05.834Z"
   },
   {
    "duration": 511,
    "start_time": "2021-07-07T18:15:41.541Z"
   },
   {
    "duration": 183,
    "start_time": "2021-07-07T18:15:42.054Z"
   },
   {
    "duration": 50,
    "start_time": "2021-07-07T18:15:42.239Z"
   },
   {
    "duration": 5,
    "start_time": "2021-07-07T18:15:42.291Z"
   },
   {
    "duration": 48,
    "start_time": "2021-07-07T18:15:42.297Z"
   },
   {
    "duration": 8,
    "start_time": "2021-07-07T18:15:42.346Z"
   },
   {
    "duration": 17,
    "start_time": "2021-07-07T18:15:42.356Z"
   },
   {
    "duration": 15,
    "start_time": "2021-07-07T18:15:42.375Z"
   },
   {
    "duration": 12,
    "start_time": "2021-07-07T18:15:42.392Z"
   },
   {
    "duration": 7,
    "start_time": "2021-07-07T18:15:42.406Z"
   },
   {
    "duration": 7,
    "start_time": "2021-07-07T18:15:42.415Z"
   },
   {
    "duration": 29,
    "start_time": "2021-07-07T18:15:42.423Z"
   },
   {
    "duration": 43,
    "start_time": "2021-07-07T18:15:42.453Z"
   },
   {
    "duration": 18,
    "start_time": "2021-07-07T18:15:42.497Z"
   },
   {
    "duration": 6,
    "start_time": "2021-07-07T18:15:42.516Z"
   },
   {
    "duration": 3,
    "start_time": "2021-07-07T18:15:42.523Z"
   },
   {
    "duration": 18,
    "start_time": "2021-07-07T18:15:42.528Z"
   },
   {
    "duration": 10,
    "start_time": "2021-07-07T18:15:42.547Z"
   },
   {
    "duration": 36,
    "start_time": "2021-07-07T18:15:42.559Z"
   },
   {
    "duration": 8,
    "start_time": "2021-07-07T18:15:42.597Z"
   },
   {
    "duration": 28,
    "start_time": "2021-07-07T18:15:42.606Z"
   },
   {
    "duration": 52,
    "start_time": "2021-07-07T18:15:42.635Z"
   },
   {
    "duration": 7,
    "start_time": "2021-07-07T18:15:42.690Z"
   },
   {
    "duration": 10,
    "start_time": "2021-07-07T18:15:42.699Z"
   },
   {
    "duration": 19,
    "start_time": "2021-07-07T18:15:42.711Z"
   },
   {
    "duration": 9,
    "start_time": "2021-07-07T18:15:42.732Z"
   },
   {
    "duration": 5,
    "start_time": "2021-07-07T18:15:42.743Z"
   },
   {
    "duration": 1450,
    "start_time": "2021-07-07T18:15:51.984Z"
   },
   {
    "duration": 161,
    "start_time": "2021-07-07T18:15:53.435Z"
   },
   {
    "duration": 124,
    "start_time": "2021-07-07T18:15:53.598Z"
   },
   {
    "duration": 5,
    "start_time": "2021-07-07T18:15:53.724Z"
   },
   {
    "duration": 34,
    "start_time": "2021-07-07T18:15:53.730Z"
   },
   {
    "duration": 7,
    "start_time": "2021-07-07T18:15:53.765Z"
   },
   {
    "duration": 15,
    "start_time": "2021-07-07T18:15:53.773Z"
   },
   {
    "duration": 5,
    "start_time": "2021-07-07T18:15:53.791Z"
   },
   {
    "duration": 19,
    "start_time": "2021-07-07T18:15:53.798Z"
   },
   {
    "duration": 9,
    "start_time": "2021-07-07T18:15:53.818Z"
   },
   {
    "duration": 19,
    "start_time": "2021-07-07T18:15:53.828Z"
   },
   {
    "duration": 27,
    "start_time": "2021-07-07T18:15:53.848Z"
   },
   {
    "duration": 16,
    "start_time": "2021-07-07T18:15:53.884Z"
   },
   {
    "duration": 29,
    "start_time": "2021-07-07T18:15:53.901Z"
   },
   {
    "duration": 5,
    "start_time": "2021-07-07T18:15:53.932Z"
   },
   {
    "duration": 15,
    "start_time": "2021-07-07T18:15:53.939Z"
   },
   {
    "duration": 13,
    "start_time": "2021-07-07T18:15:53.956Z"
   },
   {
    "duration": 20,
    "start_time": "2021-07-07T18:15:53.971Z"
   },
   {
    "duration": 14,
    "start_time": "2021-07-07T18:15:53.992Z"
   },
   {
    "duration": 9,
    "start_time": "2021-07-07T18:15:54.009Z"
   },
   {
    "duration": 28,
    "start_time": "2021-07-07T18:15:54.020Z"
   },
   {
    "duration": 50,
    "start_time": "2021-07-07T18:15:54.051Z"
   },
   {
    "duration": 8,
    "start_time": "2021-07-07T18:15:54.105Z"
   },
   {
    "duration": 11,
    "start_time": "2021-07-07T18:15:54.115Z"
   },
   {
    "duration": 20,
    "start_time": "2021-07-07T18:15:54.128Z"
   },
   {
    "duration": 13,
    "start_time": "2021-07-07T18:15:54.184Z"
   },
   {
    "duration": 7,
    "start_time": "2021-07-07T18:15:54.199Z"
   },
   {
    "duration": 7,
    "start_time": "2021-07-07T18:17:08.042Z"
   },
   {
    "duration": 8,
    "start_time": "2021-07-07T18:17:21.008Z"
   },
   {
    "duration": 7,
    "start_time": "2021-07-07T18:17:29.003Z"
   },
   {
    "duration": 8,
    "start_time": "2021-07-07T18:17:32.492Z"
   },
   {
    "duration": 9,
    "start_time": "2021-07-07T18:17:41.758Z"
   },
   {
    "duration": 255,
    "start_time": "2021-07-07T18:20:20.897Z"
   },
   {
    "duration": 173,
    "start_time": "2021-07-07T18:20:26.636Z"
   },
   {
    "duration": 7,
    "start_time": "2021-07-07T18:21:47.164Z"
   },
   {
    "duration": 254,
    "start_time": "2021-07-07T18:23:08.703Z"
   },
   {
    "duration": 21,
    "start_time": "2021-07-07T18:23:22.506Z"
   },
   {
    "duration": 315,
    "start_time": "2021-07-07T18:25:54.801Z"
   },
   {
    "duration": 34,
    "start_time": "2021-07-07T18:26:51.817Z"
   },
   {
    "duration": 327,
    "start_time": "2021-07-07T18:26:56.147Z"
   },
   {
    "duration": 342,
    "start_time": "2021-07-07T18:27:15.887Z"
   },
   {
    "duration": 302,
    "start_time": "2021-07-07T18:28:18.569Z"
   },
   {
    "duration": 226,
    "start_time": "2021-07-07T18:29:20.879Z"
   },
   {
    "duration": 207,
    "start_time": "2021-07-07T18:29:58.114Z"
   },
   {
    "duration": 140,
    "start_time": "2021-07-07T18:32:04.372Z"
   },
   {
    "duration": 158,
    "start_time": "2021-07-07T18:32:32.508Z"
   },
   {
    "duration": 145,
    "start_time": "2021-07-07T18:32:41.365Z"
   },
   {
    "duration": 132,
    "start_time": "2021-07-07T18:32:45.199Z"
   },
   {
    "duration": 11,
    "start_time": "2021-07-07T18:35:24.679Z"
   },
   {
    "duration": 268,
    "start_time": "2021-07-07T18:36:16.145Z"
   },
   {
    "duration": 227,
    "start_time": "2021-07-07T18:37:04.918Z"
   },
   {
    "duration": 3,
    "start_time": "2021-07-07T18:37:33.012Z"
   },
   {
    "duration": 671,
    "start_time": "2021-07-07T18:37:38.295Z"
   },
   {
    "duration": 54,
    "start_time": "2021-07-07T18:37:53.406Z"
   },
   {
    "duration": 631,
    "start_time": "2021-07-07T18:37:56.463Z"
   },
   {
    "duration": 19,
    "start_time": "2021-07-07T18:39:40.535Z"
   },
   {
    "duration": 20,
    "start_time": "2021-07-07T18:40:12.236Z"
   },
   {
    "duration": 633,
    "start_time": "2021-07-07T18:42:00.398Z"
   },
   {
    "duration": 218,
    "start_time": "2021-07-07T18:42:01.033Z"
   },
   {
    "duration": 49,
    "start_time": "2021-07-07T18:42:01.253Z"
   },
   {
    "duration": 5,
    "start_time": "2021-07-07T18:42:01.303Z"
   },
   {
    "duration": 27,
    "start_time": "2021-07-07T18:42:01.310Z"
   },
   {
    "duration": 8,
    "start_time": "2021-07-07T18:42:01.339Z"
   },
   {
    "duration": 20,
    "start_time": "2021-07-07T18:42:01.348Z"
   },
   {
    "duration": 6,
    "start_time": "2021-07-07T18:42:01.386Z"
   },
   {
    "duration": 16,
    "start_time": "2021-07-07T18:42:01.394Z"
   },
   {
    "duration": 9,
    "start_time": "2021-07-07T18:42:01.411Z"
   },
   {
    "duration": 11,
    "start_time": "2021-07-07T18:42:01.421Z"
   },
   {
    "duration": 31,
    "start_time": "2021-07-07T18:42:01.434Z"
   },
   {
    "duration": 18,
    "start_time": "2021-07-07T18:42:01.485Z"
   },
   {
    "duration": 23,
    "start_time": "2021-07-07T18:42:01.505Z"
   },
   {
    "duration": 6,
    "start_time": "2021-07-07T18:42:01.530Z"
   },
   {
    "duration": 10,
    "start_time": "2021-07-07T18:42:01.538Z"
   },
   {
    "duration": 13,
    "start_time": "2021-07-07T18:42:01.550Z"
   },
   {
    "duration": 24,
    "start_time": "2021-07-07T18:42:01.564Z"
   },
   {
    "duration": 20,
    "start_time": "2021-07-07T18:42:01.590Z"
   },
   {
    "duration": 8,
    "start_time": "2021-07-07T18:42:01.611Z"
   },
   {
    "duration": 31,
    "start_time": "2021-07-07T18:42:01.620Z"
   },
   {
    "duration": 39,
    "start_time": "2021-07-07T18:42:01.653Z"
   },
   {
    "duration": 8,
    "start_time": "2021-07-07T18:42:01.696Z"
   },
   {
    "duration": 13,
    "start_time": "2021-07-07T18:42:01.705Z"
   },
   {
    "duration": 20,
    "start_time": "2021-07-07T18:42:01.720Z"
   },
   {
    "duration": 12,
    "start_time": "2021-07-07T18:42:01.741Z"
   },
   {
    "duration": 35,
    "start_time": "2021-07-07T18:42:01.755Z"
   },
   {
    "duration": 14,
    "start_time": "2021-07-07T18:42:01.792Z"
   },
   {
    "duration": 188,
    "start_time": "2021-07-07T18:42:01.808Z"
   },
   {
    "duration": 19,
    "start_time": "2021-07-07T18:42:01.998Z"
   },
   {
    "duration": 175,
    "start_time": "2021-07-07T18:42:02.019Z"
   },
   {
    "duration": 134,
    "start_time": "2021-07-07T18:42:02.196Z"
   },
   {
    "duration": 10,
    "start_time": "2021-07-07T18:42:02.331Z"
   },
   {
    "duration": 19,
    "start_time": "2021-07-07T18:42:02.343Z"
   },
   {
    "duration": 628,
    "start_time": "2021-07-07T18:46:30.701Z"
   },
   {
    "duration": 183,
    "start_time": "2021-07-07T18:46:31.331Z"
   },
   {
    "duration": 48,
    "start_time": "2021-07-07T18:46:31.516Z"
   },
   {
    "duration": 5,
    "start_time": "2021-07-07T18:46:31.566Z"
   },
   {
    "duration": 28,
    "start_time": "2021-07-07T18:46:31.572Z"
   },
   {
    "duration": 8,
    "start_time": "2021-07-07T18:46:31.602Z"
   },
   {
    "duration": 19,
    "start_time": "2021-07-07T18:46:31.611Z"
   },
   {
    "duration": 6,
    "start_time": "2021-07-07T18:46:31.633Z"
   },
   {
    "duration": 17,
    "start_time": "2021-07-07T18:46:31.642Z"
   },
   {
    "duration": 10,
    "start_time": "2021-07-07T18:46:31.684Z"
   },
   {
    "duration": 9,
    "start_time": "2021-07-07T18:46:31.695Z"
   },
   {
    "duration": 28,
    "start_time": "2021-07-07T18:46:31.705Z"
   },
   {
    "duration": 18,
    "start_time": "2021-07-07T18:46:31.735Z"
   },
   {
    "duration": 48,
    "start_time": "2021-07-07T18:46:31.755Z"
   },
   {
    "duration": 6,
    "start_time": "2021-07-07T18:46:31.804Z"
   },
   {
    "duration": 4,
    "start_time": "2021-07-07T18:46:31.812Z"
   },
   {
    "duration": 9,
    "start_time": "2021-07-07T18:46:31.817Z"
   },
   {
    "duration": 10,
    "start_time": "2021-07-07T18:46:31.827Z"
   },
   {
    "duration": 12,
    "start_time": "2021-07-07T18:46:31.838Z"
   },
   {
    "duration": 39,
    "start_time": "2021-07-07T18:46:31.851Z"
   },
   {
    "duration": 24,
    "start_time": "2021-07-07T18:46:31.892Z"
   },
   {
    "duration": 15,
    "start_time": "2021-07-07T18:46:31.918Z"
   },
   {
    "duration": 7,
    "start_time": "2021-07-07T18:46:31.936Z"
   },
   {
    "duration": 8,
    "start_time": "2021-07-07T18:46:31.944Z"
   },
   {
    "duration": 19,
    "start_time": "2021-07-07T18:46:31.984Z"
   },
   {
    "duration": 10,
    "start_time": "2021-07-07T18:46:32.004Z"
   },
   {
    "duration": 5,
    "start_time": "2021-07-07T18:46:32.016Z"
   },
   {
    "duration": 9,
    "start_time": "2021-07-07T18:46:32.023Z"
   },
   {
    "duration": 199,
    "start_time": "2021-07-07T18:46:32.033Z"
   },
   {
    "duration": 19,
    "start_time": "2021-07-07T18:46:32.234Z"
   },
   {
    "duration": 159,
    "start_time": "2021-07-07T18:46:32.255Z"
   },
   {
    "duration": 134,
    "start_time": "2021-07-07T18:46:32.416Z"
   },
   {
    "duration": 10,
    "start_time": "2021-07-07T18:46:32.552Z"
   },
   {
    "duration": 34,
    "start_time": "2021-07-07T18:46:32.563Z"
   },
   {
    "duration": 1039,
    "start_time": "2021-07-08T08:41:09.419Z"
   },
   {
    "duration": 333,
    "start_time": "2021-07-08T08:41:10.459Z"
   },
   {
    "duration": 173,
    "start_time": "2021-07-08T08:41:10.794Z"
   },
   {
    "duration": 5,
    "start_time": "2021-07-08T08:41:10.968Z"
   },
   {
    "duration": 25,
    "start_time": "2021-07-08T08:41:10.975Z"
   },
   {
    "duration": 9,
    "start_time": "2021-07-08T08:41:11.002Z"
   },
   {
    "duration": 18,
    "start_time": "2021-07-08T08:41:11.013Z"
   },
   {
    "duration": 6,
    "start_time": "2021-07-08T08:41:11.033Z"
   },
   {
    "duration": 44,
    "start_time": "2021-07-08T08:41:11.042Z"
   },
   {
    "duration": 10,
    "start_time": "2021-07-08T08:41:11.088Z"
   },
   {
    "duration": 9,
    "start_time": "2021-07-08T08:41:11.100Z"
   },
   {
    "duration": 27,
    "start_time": "2021-07-08T08:41:11.111Z"
   },
   {
    "duration": 46,
    "start_time": "2021-07-08T08:41:11.140Z"
   },
   {
    "duration": 17,
    "start_time": "2021-07-08T08:41:11.187Z"
   },
   {
    "duration": 6,
    "start_time": "2021-07-08T08:41:11.206Z"
   },
   {
    "duration": 5,
    "start_time": "2021-07-08T08:41:11.213Z"
   },
   {
    "duration": 10,
    "start_time": "2021-07-08T08:41:11.219Z"
   },
   {
    "duration": 9,
    "start_time": "2021-07-08T08:41:11.230Z"
   },
   {
    "duration": 45,
    "start_time": "2021-07-08T08:41:11.241Z"
   },
   {
    "duration": 7,
    "start_time": "2021-07-08T08:41:11.287Z"
   },
   {
    "duration": 24,
    "start_time": "2021-07-08T08:41:11.296Z"
   },
   {
    "duration": 16,
    "start_time": "2021-07-08T08:41:11.322Z"
   },
   {
    "duration": 7,
    "start_time": "2021-07-08T08:41:11.341Z"
   },
   {
    "duration": 41,
    "start_time": "2021-07-08T08:41:11.349Z"
   },
   {
    "duration": 17,
    "start_time": "2021-07-08T08:41:11.391Z"
   },
   {
    "duration": 9,
    "start_time": "2021-07-08T08:41:11.410Z"
   },
   {
    "duration": 5,
    "start_time": "2021-07-08T08:41:11.421Z"
   },
   {
    "duration": 6,
    "start_time": "2021-07-08T08:41:11.428Z"
   },
   {
    "duration": 198,
    "start_time": "2021-07-08T08:41:11.435Z"
   },
   {
    "duration": 18,
    "start_time": "2021-07-08T08:41:11.635Z"
   },
   {
    "duration": 155,
    "start_time": "2021-07-08T08:41:11.655Z"
   },
   {
    "duration": 138,
    "start_time": "2021-07-08T08:41:11.811Z"
   },
   {
    "duration": 10,
    "start_time": "2021-07-08T08:41:11.950Z"
   },
   {
    "duration": 29,
    "start_time": "2021-07-08T08:41:11.961Z"
   },
   {
    "duration": 171,
    "start_time": "2021-07-08T08:47:44.522Z"
   },
   {
    "duration": 124,
    "start_time": "2021-07-08T08:47:46.872Z"
   },
   {
    "duration": 191,
    "start_time": "2021-07-08T08:47:58.148Z"
   },
   {
    "duration": 191,
    "start_time": "2021-07-08T08:48:07.412Z"
   },
   {
    "duration": 261,
    "start_time": "2021-07-08T08:48:10.385Z"
   },
   {
    "duration": 255,
    "start_time": "2021-07-08T08:48:14.494Z"
   },
   {
    "duration": 219,
    "start_time": "2021-07-08T08:48:22.752Z"
   },
   {
    "duration": 173,
    "start_time": "2021-07-08T08:49:06.395Z"
   },
   {
    "duration": 180,
    "start_time": "2021-07-08T08:49:21.011Z"
   },
   {
    "duration": 6,
    "start_time": "2021-07-08T08:50:31.697Z"
   },
   {
    "duration": 10,
    "start_time": "2021-07-08T08:50:47.394Z"
   },
   {
    "duration": 11,
    "start_time": "2021-07-08T08:53:49.332Z"
   },
   {
    "duration": 171,
    "start_time": "2021-07-08T08:54:28.408Z"
   },
   {
    "duration": 636,
    "start_time": "2021-07-08T09:02:48.385Z"
   },
   {
    "duration": 227,
    "start_time": "2021-07-08T09:02:49.023Z"
   },
   {
    "duration": 104,
    "start_time": "2021-07-08T09:02:49.252Z"
   },
   {
    "duration": 5,
    "start_time": "2021-07-08T09:02:49.358Z"
   },
   {
    "duration": 27,
    "start_time": "2021-07-08T09:02:49.365Z"
   },
   {
    "duration": 8,
    "start_time": "2021-07-08T09:02:49.394Z"
   },
   {
    "duration": 18,
    "start_time": "2021-07-08T09:02:49.404Z"
   },
   {
    "duration": 6,
    "start_time": "2021-07-08T09:02:49.424Z"
   },
   {
    "duration": 11,
    "start_time": "2021-07-08T09:02:49.433Z"
   },
   {
    "duration": 13,
    "start_time": "2021-07-08T09:02:49.485Z"
   },
   {
    "duration": 9,
    "start_time": "2021-07-08T09:02:49.500Z"
   },
   {
    "duration": 38,
    "start_time": "2021-07-08T09:02:49.511Z"
   },
   {
    "duration": 42,
    "start_time": "2021-07-08T09:02:49.551Z"
   },
   {
    "duration": 21,
    "start_time": "2021-07-08T09:02:49.594Z"
   },
   {
    "duration": 6,
    "start_time": "2021-07-08T09:02:49.616Z"
   },
   {
    "duration": 3,
    "start_time": "2021-07-08T09:02:49.623Z"
   },
   {
    "duration": 9,
    "start_time": "2021-07-08T09:02:49.628Z"
   },
   {
    "duration": 52,
    "start_time": "2021-07-08T09:02:49.638Z"
   },
   {
    "duration": 11,
    "start_time": "2021-07-08T09:02:49.692Z"
   },
   {
    "duration": 8,
    "start_time": "2021-07-08T09:02:49.704Z"
   },
   {
    "duration": 27,
    "start_time": "2021-07-08T09:02:49.713Z"
   },
   {
    "duration": 59,
    "start_time": "2021-07-08T09:02:49.741Z"
   },
   {
    "duration": 8,
    "start_time": "2021-07-08T09:02:49.803Z"
   },
   {
    "duration": 14,
    "start_time": "2021-07-08T09:02:49.813Z"
   },
   {
    "duration": 20,
    "start_time": "2021-07-08T09:02:49.829Z"
   },
   {
    "duration": 44,
    "start_time": "2021-07-08T09:02:49.851Z"
   },
   {
    "duration": 14,
    "start_time": "2021-07-08T09:02:49.896Z"
   },
   {
    "duration": 221,
    "start_time": "2021-07-08T09:02:49.912Z"
   },
   {
    "duration": 6,
    "start_time": "2021-07-08T09:02:50.134Z"
   },
   {
    "duration": 206,
    "start_time": "2021-07-08T09:02:50.142Z"
   },
   {
    "duration": 19,
    "start_time": "2021-07-08T09:02:50.350Z"
   },
   {
    "duration": 21,
    "start_time": "2021-07-08T09:02:50.370Z"
   },
   {
    "duration": 20,
    "start_time": "2021-07-08T09:02:50.393Z"
   },
   {
    "duration": 5,
    "start_time": "2021-07-08T09:02:50.414Z"
   },
   {
    "duration": 5,
    "start_time": "2021-07-08T09:03:34.173Z"
   },
   {
    "duration": 6,
    "start_time": "2021-07-08T09:04:49.062Z"
   },
   {
    "duration": 9,
    "start_time": "2021-07-08T09:04:50.118Z"
   },
   {
    "duration": 14,
    "start_time": "2021-07-08T09:04:58.512Z"
   },
   {
    "duration": 9,
    "start_time": "2021-07-08T09:05:10.988Z"
   },
   {
    "duration": 11,
    "start_time": "2021-07-08T09:05:11.743Z"
   },
   {
    "duration": 7,
    "start_time": "2021-07-08T09:05:25.677Z"
   },
   {
    "duration": 13,
    "start_time": "2021-07-08T09:05:47.189Z"
   },
   {
    "duration": 13,
    "start_time": "2021-07-08T09:05:54.755Z"
   },
   {
    "duration": 4,
    "start_time": "2021-07-08T09:06:29.189Z"
   },
   {
    "duration": 244,
    "start_time": "2021-07-08T09:06:29.195Z"
   },
   {
    "duration": 91,
    "start_time": "2021-07-08T09:06:29.441Z"
   },
   {
    "duration": 4,
    "start_time": "2021-07-08T09:06:29.534Z"
   },
   {
    "duration": 28,
    "start_time": "2021-07-08T09:06:29.540Z"
   },
   {
    "duration": 6,
    "start_time": "2021-07-08T09:06:29.570Z"
   },
   {
    "duration": 18,
    "start_time": "2021-07-08T09:06:29.578Z"
   },
   {
    "duration": 5,
    "start_time": "2021-07-08T09:06:29.597Z"
   },
   {
    "duration": 13,
    "start_time": "2021-07-08T09:06:29.605Z"
   },
   {
    "duration": 8,
    "start_time": "2021-07-08T09:06:29.620Z"
   },
   {
    "duration": 7,
    "start_time": "2021-07-08T09:06:29.630Z"
   },
   {
    "duration": 63,
    "start_time": "2021-07-08T09:06:29.639Z"
   },
   {
    "duration": 17,
    "start_time": "2021-07-08T09:06:29.704Z"
   },
   {
    "duration": 20,
    "start_time": "2021-07-08T09:06:29.723Z"
   },
   {
    "duration": 6,
    "start_time": "2021-07-08T09:06:29.745Z"
   },
   {
    "duration": 3,
    "start_time": "2021-07-08T09:06:29.752Z"
   },
   {
    "duration": 7,
    "start_time": "2021-07-08T09:06:29.785Z"
   },
   {
    "duration": 11,
    "start_time": "2021-07-08T09:06:29.794Z"
   },
   {
    "duration": 15,
    "start_time": "2021-07-08T09:06:29.807Z"
   },
   {
    "duration": 8,
    "start_time": "2021-07-08T09:06:29.823Z"
   },
   {
    "duration": 70,
    "start_time": "2021-07-08T09:06:29.832Z"
   },
   {
    "duration": 17,
    "start_time": "2021-07-08T09:06:29.903Z"
   },
   {
    "duration": 9,
    "start_time": "2021-07-08T09:06:29.921Z"
   },
   {
    "duration": 9,
    "start_time": "2021-07-08T09:06:29.932Z"
   },
   {
    "duration": 57,
    "start_time": "2021-07-08T09:06:29.942Z"
   },
   {
    "duration": 11,
    "start_time": "2021-07-08T09:06:30.001Z"
   },
   {
    "duration": 19,
    "start_time": "2021-07-08T09:06:30.016Z"
   },
   {
    "duration": 217,
    "start_time": "2021-07-08T09:06:30.037Z"
   },
   {
    "duration": 6,
    "start_time": "2021-07-08T09:06:30.255Z"
   },
   {
    "duration": 205,
    "start_time": "2021-07-08T09:06:30.263Z"
   },
   {
    "duration": 27,
    "start_time": "2021-07-08T09:06:30.470Z"
   },
   {
    "duration": 11,
    "start_time": "2021-07-08T09:06:30.500Z"
   },
   {
    "duration": 31,
    "start_time": "2021-07-08T09:06:30.513Z"
   },
   {
    "duration": 18,
    "start_time": "2021-07-08T09:06:30.546Z"
   },
   {
    "duration": 11,
    "start_time": "2021-07-08T09:06:30.566Z"
   },
   {
    "duration": 19,
    "start_time": "2021-07-08T09:06:30.579Z"
   },
   {
    "duration": 20,
    "start_time": "2021-07-08T09:06:49.466Z"
   },
   {
    "duration": 9,
    "start_time": "2021-07-08T09:06:51.994Z"
   },
   {
    "duration": 20,
    "start_time": "2021-07-08T09:06:52.273Z"
   },
   {
    "duration": 246,
    "start_time": "2021-07-08T09:10:21.272Z"
   },
   {
    "duration": 84,
    "start_time": "2021-07-08T09:10:21.436Z"
   },
   {
    "duration": 7,
    "start_time": "2021-07-08T09:10:37.608Z"
   },
   {
    "duration": 189,
    "start_time": "2021-07-08T09:10:38.573Z"
   },
   {
    "duration": 185,
    "start_time": "2021-07-08T09:10:53.181Z"
   },
   {
    "duration": 11,
    "start_time": "2021-07-08T09:10:59.549Z"
   },
   {
    "duration": 42,
    "start_time": "2021-07-08T09:10:59.709Z"
   },
   {
    "duration": 12,
    "start_time": "2021-07-08T09:11:02.857Z"
   },
   {
    "duration": 28,
    "start_time": "2021-07-08T09:11:10.062Z"
   },
   {
    "duration": 249,
    "start_time": "2021-07-08T09:11:37.388Z"
   },
   {
    "duration": 232,
    "start_time": "2021-07-08T09:11:49.485Z"
   },
   {
    "duration": 453,
    "start_time": "2021-07-08T09:12:01.546Z"
   },
   {
    "duration": 440,
    "start_time": "2021-07-08T09:12:12.347Z"
   },
   {
    "duration": 213,
    "start_time": "2021-07-08T09:13:32.196Z"
   },
   {
    "duration": 172,
    "start_time": "2021-07-08T09:14:07.400Z"
   },
   {
    "duration": 185,
    "start_time": "2021-07-08T09:14:14.905Z"
   },
   {
    "duration": 209,
    "start_time": "2021-07-08T09:14:40.109Z"
   },
   {
    "duration": 201,
    "start_time": "2021-07-08T09:14:54.506Z"
   },
   {
    "duration": 622,
    "start_time": "2021-07-08T09:18:14.497Z"
   },
   {
    "duration": 220,
    "start_time": "2021-07-08T09:18:15.121Z"
   },
   {
    "duration": 79,
    "start_time": "2021-07-08T09:18:15.343Z"
   },
   {
    "duration": 4,
    "start_time": "2021-07-08T09:18:15.425Z"
   },
   {
    "duration": 24,
    "start_time": "2021-07-08T09:18:15.431Z"
   },
   {
    "duration": 8,
    "start_time": "2021-07-08T09:18:15.457Z"
   },
   {
    "duration": 16,
    "start_time": "2021-07-08T09:18:15.466Z"
   },
   {
    "duration": 5,
    "start_time": "2021-07-08T09:18:15.484Z"
   },
   {
    "duration": 10,
    "start_time": "2021-07-08T09:18:15.493Z"
   },
   {
    "duration": 8,
    "start_time": "2021-07-08T09:18:15.504Z"
   },
   {
    "duration": 7,
    "start_time": "2021-07-08T09:18:15.513Z"
   },
   {
    "duration": 26,
    "start_time": "2021-07-08T09:18:15.522Z"
   },
   {
    "duration": 49,
    "start_time": "2021-07-08T09:18:15.550Z"
   },
   {
    "duration": 21,
    "start_time": "2021-07-08T09:18:15.601Z"
   },
   {
    "duration": 8,
    "start_time": "2021-07-08T09:18:15.624Z"
   },
   {
    "duration": 3,
    "start_time": "2021-07-08T09:18:15.634Z"
   },
   {
    "duration": 8,
    "start_time": "2021-07-08T09:18:15.639Z"
   },
   {
    "duration": 45,
    "start_time": "2021-07-08T09:18:15.649Z"
   },
   {
    "duration": 13,
    "start_time": "2021-07-08T09:18:15.696Z"
   },
   {
    "duration": 10,
    "start_time": "2021-07-08T09:18:15.711Z"
   },
   {
    "duration": 64,
    "start_time": "2021-07-08T09:18:15.722Z"
   },
   {
    "duration": 19,
    "start_time": "2021-07-08T09:18:15.788Z"
   },
   {
    "duration": 9,
    "start_time": "2021-07-08T09:18:15.809Z"
   },
   {
    "duration": 9,
    "start_time": "2021-07-08T09:18:15.820Z"
   },
   {
    "duration": 18,
    "start_time": "2021-07-08T09:18:15.831Z"
   },
   {
    "duration": 43,
    "start_time": "2021-07-08T09:18:15.851Z"
   },
   {
    "duration": 12,
    "start_time": "2021-07-08T09:18:15.897Z"
   },
   {
    "duration": 219,
    "start_time": "2021-07-08T09:18:15.911Z"
   },
   {
    "duration": 8,
    "start_time": "2021-07-08T09:18:16.132Z"
   },
   {
    "duration": 199,
    "start_time": "2021-07-08T09:18:16.141Z"
   },
   {
    "duration": 18,
    "start_time": "2021-07-08T09:18:16.341Z"
   },
   {
    "duration": 24,
    "start_time": "2021-07-08T09:18:16.361Z"
   },
   {
    "duration": 24,
    "start_time": "2021-07-08T09:18:16.387Z"
   },
   {
    "duration": 211,
    "start_time": "2021-07-08T09:18:16.413Z"
   },
   {
    "duration": 18,
    "start_time": "2021-07-08T09:18:16.626Z"
   },
   {
    "duration": 596,
    "start_time": "2021-07-08T10:06:33.623Z"
   },
   {
    "duration": 181,
    "start_time": "2021-07-08T10:06:34.221Z"
   },
   {
    "duration": 176,
    "start_time": "2021-07-08T10:06:34.635Z"
   },
   {
    "duration": 239,
    "start_time": "2021-07-08T10:06:55.572Z"
   },
   {
    "duration": 6,
    "start_time": "2021-07-08T10:06:57.687Z"
   },
   {
    "duration": 4,
    "start_time": "2021-07-08T10:07:03.956Z"
   },
   {
    "duration": 4,
    "start_time": "2021-07-08T10:07:10.376Z"
   },
   {
    "duration": 4,
    "start_time": "2021-07-08T10:17:19.889Z"
   },
   {
    "duration": 3,
    "start_time": "2021-07-08T10:19:19.407Z"
   },
   {
    "duration": 197,
    "start_time": "2021-07-08T10:19:19.412Z"
   },
   {
    "duration": 127,
    "start_time": "2021-07-08T10:19:19.611Z"
   },
   {
    "duration": 4,
    "start_time": "2021-07-08T10:19:19.740Z"
   },
   {
    "duration": 27,
    "start_time": "2021-07-08T10:19:19.746Z"
   },
   {
    "duration": 7,
    "start_time": "2021-07-08T10:19:19.775Z"
   },
   {
    "duration": 30,
    "start_time": "2021-07-08T10:19:19.784Z"
   },
   {
    "duration": 7,
    "start_time": "2021-07-08T10:19:19.817Z"
   },
   {
    "duration": 26,
    "start_time": "2021-07-08T10:19:19.826Z"
   },
   {
    "duration": 18,
    "start_time": "2021-07-08T10:19:19.854Z"
   },
   {
    "duration": 14,
    "start_time": "2021-07-08T10:19:19.874Z"
   },
   {
    "duration": 48,
    "start_time": "2021-07-08T10:19:19.890Z"
   },
   {
    "duration": 17,
    "start_time": "2021-07-08T10:19:19.940Z"
   },
   {
    "duration": 38,
    "start_time": "2021-07-08T10:19:19.959Z"
   },
   {
    "duration": 8,
    "start_time": "2021-07-08T10:19:19.999Z"
   },
   {
    "duration": 15,
    "start_time": "2021-07-08T10:19:20.009Z"
   },
   {
    "duration": 22,
    "start_time": "2021-07-08T10:19:20.026Z"
   },
   {
    "duration": 10,
    "start_time": "2021-07-08T10:19:20.050Z"
   },
   {
    "duration": 10,
    "start_time": "2021-07-08T10:19:20.062Z"
   },
   {
    "duration": 20,
    "start_time": "2021-07-08T10:19:20.073Z"
   },
   {
    "duration": 29,
    "start_time": "2021-07-08T10:19:20.095Z"
   },
   {
    "duration": 17,
    "start_time": "2021-07-08T10:19:20.126Z"
   },
   {
    "duration": 40,
    "start_time": "2021-07-08T10:19:20.146Z"
   },
   {
    "duration": 15,
    "start_time": "2021-07-08T10:19:20.189Z"
   },
   {
    "duration": 19,
    "start_time": "2021-07-08T10:19:20.206Z"
   },
   {
    "duration": 10,
    "start_time": "2021-07-08T10:19:20.226Z"
   },
   {
    "duration": 11,
    "start_time": "2021-07-08T10:19:20.238Z"
   },
   {
    "duration": 297,
    "start_time": "2021-07-08T10:19:20.250Z"
   },
   {
    "duration": 6,
    "start_time": "2021-07-08T10:19:20.549Z"
   },
   {
    "duration": 191,
    "start_time": "2021-07-08T10:19:20.557Z"
   },
   {
    "duration": 19,
    "start_time": "2021-07-08T10:19:20.750Z"
   },
   {
    "duration": 20,
    "start_time": "2021-07-08T10:19:20.771Z"
   },
   {
    "duration": 15,
    "start_time": "2021-07-08T10:19:20.793Z"
   },
   {
    "duration": 222,
    "start_time": "2021-07-08T10:19:20.809Z"
   },
   {
    "duration": 20,
    "start_time": "2021-07-08T10:19:21.033Z"
   },
   {
    "duration": 27,
    "start_time": "2021-07-08T10:45:04.055Z"
   },
   {
    "duration": 8,
    "start_time": "2021-07-08T10:45:08.478Z"
   },
   {
    "duration": 8,
    "start_time": "2021-07-08T10:45:31.982Z"
   },
   {
    "duration": 10,
    "start_time": "2021-07-08T10:46:01.221Z"
   },
   {
    "duration": 17,
    "start_time": "2021-07-08T10:46:40.011Z"
   },
   {
    "duration": 193,
    "start_time": "2021-07-08T10:48:19.471Z"
   },
   {
    "duration": 225,
    "start_time": "2021-07-08T10:49:26.480Z"
   },
   {
    "duration": 204,
    "start_time": "2021-07-08T10:49:59.992Z"
   },
   {
    "duration": 435,
    "start_time": "2021-07-08T10:50:06.779Z"
   },
   {
    "duration": 199,
    "start_time": "2021-07-08T10:50:14.891Z"
   },
   {
    "duration": 204,
    "start_time": "2021-07-08T10:50:18.501Z"
   },
   {
    "duration": 244,
    "start_time": "2021-07-08T10:50:23.359Z"
   },
   {
    "duration": 192,
    "start_time": "2021-07-08T10:50:29.135Z"
   },
   {
    "duration": 218,
    "start_time": "2021-07-08T10:50:33.092Z"
   },
   {
    "duration": 207,
    "start_time": "2021-07-08T10:52:45.381Z"
   },
   {
    "duration": 5,
    "start_time": "2021-07-08T10:53:34.641Z"
   },
   {
    "duration": 196,
    "start_time": "2021-07-08T10:53:41.478Z"
   },
   {
    "duration": 43,
    "start_time": "2021-07-08T10:53:50.335Z"
   },
   {
    "duration": 32,
    "start_time": "2021-07-08T10:53:55.294Z"
   },
   {
    "duration": 55,
    "start_time": "2021-07-08T10:54:09.675Z"
   },
   {
    "duration": 16,
    "start_time": "2021-07-08T10:54:12.260Z"
   },
   {
    "duration": 15,
    "start_time": "2021-07-08T10:54:49.150Z"
   },
   {
    "duration": 20,
    "start_time": "2021-07-08T10:56:07.596Z"
   },
   {
    "duration": 16,
    "start_time": "2021-07-08T10:58:26.276Z"
   },
   {
    "duration": 22,
    "start_time": "2021-07-08T10:59:00.486Z"
   },
   {
    "duration": 18,
    "start_time": "2021-07-08T11:02:09.653Z"
   },
   {
    "duration": 10,
    "start_time": "2021-07-08T11:03:44.331Z"
   },
   {
    "duration": 10,
    "start_time": "2021-07-08T11:03:54.055Z"
   },
   {
    "duration": 12,
    "start_time": "2021-07-08T11:04:41.967Z"
   },
   {
    "duration": 24,
    "start_time": "2021-07-08T11:07:30.732Z"
   },
   {
    "duration": 6,
    "start_time": "2021-07-08T11:07:37.364Z"
   },
   {
    "duration": 16,
    "start_time": "2021-07-08T11:08:01.819Z"
   },
   {
    "duration": 17,
    "start_time": "2021-07-08T11:09:47.488Z"
   },
   {
    "duration": 246,
    "start_time": "2021-07-08T11:10:00.830Z"
   },
   {
    "duration": 18,
    "start_time": "2021-07-08T11:13:55.195Z"
   },
   {
    "duration": 204,
    "start_time": "2021-07-08T11:14:04.951Z"
   },
   {
    "duration": 19,
    "start_time": "2021-07-08T11:15:10.613Z"
   },
   {
    "duration": 680,
    "start_time": "2021-07-08T11:16:25.793Z"
   },
   {
    "duration": 451,
    "start_time": "2021-07-08T11:16:40.313Z"
   },
   {
    "duration": 469,
    "start_time": "2021-07-08T11:17:21.286Z"
   },
   {
    "duration": 20,
    "start_time": "2021-07-08T11:19:12.554Z"
   },
   {
    "duration": 35,
    "start_time": "2021-07-08T11:20:05.484Z"
   },
   {
    "duration": 53,
    "start_time": "2021-07-08T11:21:40.050Z"
   },
   {
    "duration": 13,
    "start_time": "2021-07-08T11:22:26.059Z"
   },
   {
    "duration": 19,
    "start_time": "2021-07-08T11:22:47.419Z"
   },
   {
    "duration": 25,
    "start_time": "2021-07-08T11:23:19.958Z"
   },
   {
    "duration": 29,
    "start_time": "2021-07-08T11:23:25.415Z"
   },
   {
    "duration": 10,
    "start_time": "2021-07-08T11:24:45.138Z"
   },
   {
    "duration": 19,
    "start_time": "2021-07-08T11:24:54.498Z"
   },
   {
    "duration": 12,
    "start_time": "2021-07-08T11:25:32.225Z"
   },
   {
    "duration": 19,
    "start_time": "2021-07-08T11:25:37.092Z"
   },
   {
    "duration": 17,
    "start_time": "2021-07-08T11:25:58.116Z"
   },
   {
    "duration": 15,
    "start_time": "2021-07-08T11:26:02.258Z"
   },
   {
    "duration": 8,
    "start_time": "2021-07-08T11:26:59.682Z"
   },
   {
    "duration": 184,
    "start_time": "2021-07-08T11:27:21.894Z"
   },
   {
    "duration": 8,
    "start_time": "2021-07-08T11:27:23.824Z"
   },
   {
    "duration": 202,
    "start_time": "2021-07-08T11:27:23.962Z"
   },
   {
    "duration": 360,
    "start_time": "2021-07-08T11:28:33.215Z"
   },
   {
    "duration": 231,
    "start_time": "2021-07-08T11:32:05.542Z"
   },
   {
    "duration": 607,
    "start_time": "2021-07-08T11:36:27.854Z"
   },
   {
    "duration": 241,
    "start_time": "2021-07-08T11:36:28.463Z"
   },
   {
    "duration": 67,
    "start_time": "2021-07-08T11:36:28.709Z"
   },
   {
    "duration": 5,
    "start_time": "2021-07-08T11:36:28.778Z"
   },
   {
    "duration": 32,
    "start_time": "2021-07-08T11:36:28.784Z"
   },
   {
    "duration": 11,
    "start_time": "2021-07-08T11:36:28.819Z"
   },
   {
    "duration": 20,
    "start_time": "2021-07-08T11:36:28.834Z"
   },
   {
    "duration": 36,
    "start_time": "2021-07-08T11:36:28.857Z"
   },
   {
    "duration": 16,
    "start_time": "2021-07-08T11:36:28.895Z"
   },
   {
    "duration": 14,
    "start_time": "2021-07-08T11:36:28.913Z"
   },
   {
    "duration": 9,
    "start_time": "2021-07-08T11:36:28.930Z"
   },
   {
    "duration": 55,
    "start_time": "2021-07-08T11:36:28.941Z"
   },
   {
    "duration": 27,
    "start_time": "2021-07-08T11:36:28.999Z"
   },
   {
    "duration": 30,
    "start_time": "2021-07-08T11:36:29.028Z"
   },
   {
    "duration": 31,
    "start_time": "2021-07-08T11:36:29.060Z"
   },
   {
    "duration": 3,
    "start_time": "2021-07-08T11:36:29.093Z"
   },
   {
    "duration": 12,
    "start_time": "2021-07-08T11:36:29.099Z"
   },
   {
    "duration": 11,
    "start_time": "2021-07-08T11:36:29.112Z"
   },
   {
    "duration": 12,
    "start_time": "2021-07-08T11:36:29.125Z"
   },
   {
    "duration": 9,
    "start_time": "2021-07-08T11:36:29.139Z"
   },
   {
    "duration": 31,
    "start_time": "2021-07-08T11:36:29.191Z"
   },
   {
    "duration": 17,
    "start_time": "2021-07-08T11:36:29.226Z"
   },
   {
    "duration": 7,
    "start_time": "2021-07-08T11:36:29.245Z"
   },
   {
    "duration": 10,
    "start_time": "2021-07-08T11:36:29.254Z"
   },
   {
    "duration": 30,
    "start_time": "2021-07-08T11:36:29.292Z"
   },
   {
    "duration": 11,
    "start_time": "2021-07-08T11:36:29.324Z"
   },
   {
    "duration": 11,
    "start_time": "2021-07-08T11:36:29.337Z"
   },
   {
    "duration": 230,
    "start_time": "2021-07-08T11:36:29.349Z"
   },
   {
    "duration": 13,
    "start_time": "2021-07-08T11:36:29.588Z"
   },
   {
    "duration": 205,
    "start_time": "2021-07-08T11:36:29.603Z"
   },
   {
    "duration": 20,
    "start_time": "2021-07-08T11:36:29.810Z"
   },
   {
    "duration": 9,
    "start_time": "2021-07-08T11:36:29.832Z"
   },
   {
    "duration": 16,
    "start_time": "2021-07-08T11:36:29.843Z"
   },
   {
    "duration": 283,
    "start_time": "2021-07-08T11:36:29.861Z"
   },
   {
    "duration": 50,
    "start_time": "2021-07-08T11:36:30.146Z"
   },
   {
    "duration": 14,
    "start_time": "2021-07-08T11:36:30.198Z"
   },
   {
    "duration": 11,
    "start_time": "2021-07-08T11:36:30.214Z"
   },
   {
    "duration": 245,
    "start_time": "2021-07-08T11:36:30.227Z"
   },
   {
    "duration": 439,
    "start_time": "2021-07-08T11:36:30.474Z"
   },
   {
    "duration": 210,
    "start_time": "2021-07-08T11:36:30.915Z"
   },
   {
    "duration": 15,
    "start_time": "2021-07-08T11:36:31.127Z"
   },
   {
    "duration": 17,
    "start_time": "2021-07-08T11:38:20.451Z"
   },
   {
    "duration": 642,
    "start_time": "2021-07-08T11:46:17.881Z"
   },
   {
    "duration": 210,
    "start_time": "2021-07-08T11:46:18.525Z"
   },
   {
    "duration": 104,
    "start_time": "2021-07-08T11:46:18.741Z"
   },
   {
    "duration": 8,
    "start_time": "2021-07-08T11:46:18.847Z"
   },
   {
    "duration": 25,
    "start_time": "2021-07-08T11:46:18.857Z"
   },
   {
    "duration": 14,
    "start_time": "2021-07-08T11:46:18.884Z"
   },
   {
    "duration": 22,
    "start_time": "2021-07-08T11:46:18.900Z"
   },
   {
    "duration": 5,
    "start_time": "2021-07-08T11:46:18.924Z"
   },
   {
    "duration": 13,
    "start_time": "2021-07-08T11:46:18.931Z"
   },
   {
    "duration": 45,
    "start_time": "2021-07-08T11:46:18.946Z"
   },
   {
    "duration": 12,
    "start_time": "2021-07-08T11:46:18.993Z"
   },
   {
    "duration": 38,
    "start_time": "2021-07-08T11:46:19.006Z"
   },
   {
    "duration": 50,
    "start_time": "2021-07-08T11:46:19.046Z"
   },
   {
    "duration": 29,
    "start_time": "2021-07-08T11:46:19.099Z"
   },
   {
    "duration": 7,
    "start_time": "2021-07-08T11:46:19.130Z"
   },
   {
    "duration": 3,
    "start_time": "2021-07-08T11:46:19.139Z"
   },
   {
    "duration": 11,
    "start_time": "2021-07-08T11:46:19.144Z"
   },
   {
    "duration": 40,
    "start_time": "2021-07-08T11:46:19.157Z"
   },
   {
    "duration": 15,
    "start_time": "2021-07-08T11:46:19.199Z"
   },
   {
    "duration": 10,
    "start_time": "2021-07-08T11:46:19.217Z"
   },
   {
    "duration": 68,
    "start_time": "2021-07-08T11:46:19.230Z"
   },
   {
    "duration": 17,
    "start_time": "2021-07-08T11:46:19.301Z"
   },
   {
    "duration": 7,
    "start_time": "2021-07-08T11:46:19.321Z"
   },
   {
    "duration": 11,
    "start_time": "2021-07-08T11:46:19.330Z"
   },
   {
    "duration": 59,
    "start_time": "2021-07-08T11:46:19.343Z"
   },
   {
    "duration": 17,
    "start_time": "2021-07-08T11:46:19.405Z"
   },
   {
    "duration": 16,
    "start_time": "2021-07-08T11:46:19.424Z"
   },
   {
    "duration": 252,
    "start_time": "2021-07-08T11:46:19.443Z"
   },
   {
    "duration": 9,
    "start_time": "2021-07-08T11:46:19.697Z"
   },
   {
    "duration": 224,
    "start_time": "2021-07-08T11:46:19.708Z"
   },
   {
    "duration": 21,
    "start_time": "2021-07-08T11:46:19.934Z"
   },
   {
    "duration": 9,
    "start_time": "2021-07-08T11:46:19.956Z"
   },
   {
    "duration": 32,
    "start_time": "2021-07-08T11:46:19.967Z"
   },
   {
    "duration": 288,
    "start_time": "2021-07-08T11:46:20.004Z"
   },
   {
    "duration": 23,
    "start_time": "2021-07-08T11:46:20.300Z"
   },
   {
    "duration": 11,
    "start_time": "2021-07-08T11:46:20.325Z"
   },
   {
    "duration": 11,
    "start_time": "2021-07-08T11:46:20.339Z"
   },
   {
    "duration": 259,
    "start_time": "2021-07-08T11:46:20.352Z"
   },
   {
    "duration": 438,
    "start_time": "2021-07-08T11:46:20.613Z"
   },
   {
    "duration": 207,
    "start_time": "2021-07-08T11:46:21.054Z"
   },
   {
    "duration": 27,
    "start_time": "2021-07-08T11:46:21.262Z"
   },
   {
    "duration": 19,
    "start_time": "2021-07-08T11:46:21.291Z"
   },
   {
    "duration": 820,
    "start_time": "2021-07-08T11:49:01.655Z"
   },
   {
    "duration": 372,
    "start_time": "2021-07-08T11:49:02.478Z"
   },
   {
    "duration": 98,
    "start_time": "2021-07-08T11:49:02.853Z"
   },
   {
    "duration": 6,
    "start_time": "2021-07-08T11:49:02.953Z"
   },
   {
    "duration": 39,
    "start_time": "2021-07-08T11:49:02.960Z"
   },
   {
    "duration": 9,
    "start_time": "2021-07-08T11:49:03.003Z"
   },
   {
    "duration": 23,
    "start_time": "2021-07-08T11:49:03.014Z"
   },
   {
    "duration": 6,
    "start_time": "2021-07-08T11:49:03.041Z"
   },
   {
    "duration": 20,
    "start_time": "2021-07-08T11:49:03.049Z"
   },
   {
    "duration": 18,
    "start_time": "2021-07-08T11:49:03.084Z"
   },
   {
    "duration": 14,
    "start_time": "2021-07-08T11:49:03.104Z"
   },
   {
    "duration": 39,
    "start_time": "2021-07-08T11:49:03.119Z"
   },
   {
    "duration": 38,
    "start_time": "2021-07-08T11:49:03.160Z"
   },
   {
    "duration": 26,
    "start_time": "2021-07-08T11:49:03.200Z"
   },
   {
    "duration": 7,
    "start_time": "2021-07-08T11:49:03.227Z"
   },
   {
    "duration": 4,
    "start_time": "2021-07-08T11:49:03.236Z"
   },
   {
    "duration": 15,
    "start_time": "2021-07-08T11:49:03.243Z"
   },
   {
    "duration": 21,
    "start_time": "2021-07-08T11:49:03.285Z"
   },
   {
    "duration": 17,
    "start_time": "2021-07-08T11:49:03.309Z"
   },
   {
    "duration": 10,
    "start_time": "2021-07-08T11:49:03.328Z"
   },
   {
    "duration": 65,
    "start_time": "2021-07-08T11:49:03.340Z"
   },
   {
    "duration": 18,
    "start_time": "2021-07-08T11:49:03.407Z"
   },
   {
    "duration": 8,
    "start_time": "2021-07-08T11:49:03.428Z"
   },
   {
    "duration": 15,
    "start_time": "2021-07-08T11:49:03.438Z"
   },
   {
    "duration": 40,
    "start_time": "2021-07-08T11:49:03.455Z"
   },
   {
    "duration": 12,
    "start_time": "2021-07-08T11:49:03.497Z"
   },
   {
    "duration": 29,
    "start_time": "2021-07-08T11:49:03.511Z"
   },
   {
    "duration": 285,
    "start_time": "2021-07-08T11:49:03.542Z"
   },
   {
    "duration": 8,
    "start_time": "2021-07-08T11:49:03.829Z"
   },
   {
    "duration": 227,
    "start_time": "2021-07-08T11:49:03.838Z"
   },
   {
    "duration": 40,
    "start_time": "2021-07-08T11:49:04.066Z"
   },
   {
    "duration": 10,
    "start_time": "2021-07-08T11:49:04.108Z"
   },
   {
    "duration": 26,
    "start_time": "2021-07-08T11:49:04.121Z"
   },
   {
    "duration": 290,
    "start_time": "2021-07-08T11:49:04.149Z"
   },
   {
    "duration": 26,
    "start_time": "2021-07-08T11:49:04.441Z"
   },
   {
    "duration": 31,
    "start_time": "2021-07-08T11:49:04.470Z"
   },
   {
    "duration": 14,
    "start_time": "2021-07-08T11:49:04.503Z"
   },
   {
    "duration": 259,
    "start_time": "2021-07-08T11:49:04.521Z"
   },
   {
    "duration": 480,
    "start_time": "2021-07-08T11:49:04.782Z"
   },
   {
    "duration": 225,
    "start_time": "2021-07-08T11:49:05.264Z"
   },
   {
    "duration": 22,
    "start_time": "2021-07-08T11:49:05.491Z"
   },
   {
    "duration": 24,
    "start_time": "2021-07-08T11:49:05.515Z"
   },
   {
    "duration": 634,
    "start_time": "2021-07-08T11:52:24.960Z"
   },
   {
    "duration": 199,
    "start_time": "2021-07-08T11:52:25.599Z"
   },
   {
    "duration": 106,
    "start_time": "2021-07-08T11:52:25.803Z"
   },
   {
    "duration": 7,
    "start_time": "2021-07-08T11:52:25.911Z"
   },
   {
    "duration": 29,
    "start_time": "2021-07-08T11:52:25.920Z"
   },
   {
    "duration": 7,
    "start_time": "2021-07-08T11:52:25.951Z"
   },
   {
    "duration": 26,
    "start_time": "2021-07-08T11:52:25.961Z"
   },
   {
    "duration": 11,
    "start_time": "2021-07-08T11:52:25.990Z"
   },
   {
    "duration": 29,
    "start_time": "2021-07-08T11:52:26.005Z"
   },
   {
    "duration": 9,
    "start_time": "2021-07-08T11:52:26.036Z"
   },
   {
    "duration": 8,
    "start_time": "2021-07-08T11:52:26.047Z"
   },
   {
    "duration": 63,
    "start_time": "2021-07-08T11:52:26.057Z"
   },
   {
    "duration": 17,
    "start_time": "2021-07-08T11:52:26.122Z"
   },
   {
    "duration": 43,
    "start_time": "2021-07-08T11:52:26.142Z"
   },
   {
    "duration": 17,
    "start_time": "2021-07-08T11:52:26.187Z"
   },
   {
    "duration": 5,
    "start_time": "2021-07-08T11:52:26.206Z"
   },
   {
    "duration": 12,
    "start_time": "2021-07-08T11:52:26.212Z"
   },
   {
    "duration": 11,
    "start_time": "2021-07-08T11:52:26.226Z"
   },
   {
    "duration": 12,
    "start_time": "2021-07-08T11:52:26.238Z"
   },
   {
    "duration": 38,
    "start_time": "2021-07-08T11:52:26.252Z"
   },
   {
    "duration": 40,
    "start_time": "2021-07-08T11:52:26.292Z"
   },
   {
    "duration": 17,
    "start_time": "2021-07-08T11:52:26.336Z"
   },
   {
    "duration": 39,
    "start_time": "2021-07-08T11:52:26.355Z"
   },
   {
    "duration": 11,
    "start_time": "2021-07-08T11:52:26.395Z"
   },
   {
    "duration": 23,
    "start_time": "2021-07-08T11:52:26.408Z"
   },
   {
    "duration": 12,
    "start_time": "2021-07-08T11:52:26.432Z"
   },
   {
    "duration": 41,
    "start_time": "2021-07-08T11:52:26.446Z"
   },
   {
    "duration": 215,
    "start_time": "2021-07-08T11:52:26.493Z"
   },
   {
    "duration": 8,
    "start_time": "2021-07-08T11:52:26.710Z"
   },
   {
    "duration": 228,
    "start_time": "2021-07-08T11:52:26.720Z"
   },
   {
    "duration": 18,
    "start_time": "2021-07-08T11:52:26.950Z"
   },
   {
    "duration": 35,
    "start_time": "2021-07-08T11:52:26.969Z"
   },
   {
    "duration": 23,
    "start_time": "2021-07-08T11:52:27.006Z"
   },
   {
    "duration": 258,
    "start_time": "2021-07-08T11:52:27.030Z"
   },
   {
    "duration": 24,
    "start_time": "2021-07-08T11:52:27.290Z"
   },
   {
    "duration": 12,
    "start_time": "2021-07-08T11:52:27.316Z"
   },
   {
    "duration": 10,
    "start_time": "2021-07-08T11:52:27.329Z"
   },
   {
    "duration": 298,
    "start_time": "2021-07-08T11:52:27.341Z"
   },
   {
    "duration": 436,
    "start_time": "2021-07-08T11:52:27.641Z"
   },
   {
    "duration": 216,
    "start_time": "2021-07-08T11:52:28.079Z"
   },
   {
    "duration": 20,
    "start_time": "2021-07-08T11:52:28.297Z"
   },
   {
    "duration": 17,
    "start_time": "2021-07-08T11:52:28.319Z"
   },
   {
    "duration": 877,
    "start_time": "2022-11-05T20:30:45.715Z"
   },
   {
    "duration": 577,
    "start_time": "2022-11-05T20:30:47.999Z"
   },
   {
    "duration": 15,
    "start_time": "2022-11-05T20:30:49.489Z"
   },
   {
    "duration": 9,
    "start_time": "2022-11-05T20:30:50.630Z"
   },
   {
    "duration": 179,
    "start_time": "2022-11-05T20:30:52.000Z"
   },
   {
    "duration": 17,
    "start_time": "2022-11-05T20:30:53.075Z"
   },
   {
    "duration": 30,
    "start_time": "2022-11-05T20:30:56.132Z"
   },
   {
    "duration": 7,
    "start_time": "2022-11-05T20:30:56.864Z"
   },
   {
    "duration": 32,
    "start_time": "2022-11-05T20:30:57.584Z"
   },
   {
    "duration": 5,
    "start_time": "2022-11-05T20:30:58.814Z"
   },
   {
    "duration": 17,
    "start_time": "2022-11-05T20:30:59.354Z"
   },
   {
    "duration": 3,
    "start_time": "2022-11-05T20:31:00.394Z"
   },
   {
    "duration": 11,
    "start_time": "2022-11-05T20:31:02.260Z"
   },
   {
    "duration": 18,
    "start_time": "2022-11-05T20:31:02.930Z"
   },
   {
    "duration": 9,
    "start_time": "2022-11-05T20:31:03.442Z"
   },
   {
    "duration": 9,
    "start_time": "2022-11-05T20:31:04.177Z"
   },
   {
    "duration": 6,
    "start_time": "2022-11-05T20:31:05.287Z"
   },
   {
    "duration": 13,
    "start_time": "2022-11-05T20:31:05.876Z"
   },
   {
    "duration": 62,
    "start_time": "2022-11-05T20:31:07.292Z"
   },
   {
    "duration": 6,
    "start_time": "2022-11-05T20:31:09.363Z"
   },
   {
    "duration": 7,
    "start_time": "2022-11-05T20:31:10.120Z"
   },
   {
    "duration": 6,
    "start_time": "2022-11-05T20:31:10.523Z"
   },
   {
    "duration": 22,
    "start_time": "2022-11-05T20:31:12.617Z"
   },
   {
    "duration": 124,
    "start_time": "2022-11-05T20:31:13.444Z"
   },
   {
    "duration": 111,
    "start_time": "2022-11-05T20:31:14.309Z"
   },
   {
    "duration": 24,
    "start_time": "2022-11-05T20:31:14.888Z"
   },
   {
    "duration": 116,
    "start_time": "2022-11-05T20:31:16.383Z"
   },
   {
    "duration": 19,
    "start_time": "2022-11-05T20:31:17.213Z"
   },
   {
    "duration": 157,
    "start_time": "2022-11-05T20:31:18.790Z"
   },
   {
    "duration": 17,
    "start_time": "2022-11-05T20:31:19.552Z"
   },
   {
    "duration": 114,
    "start_time": "2022-11-05T20:31:22.124Z"
   },
   {
    "duration": 19,
    "start_time": "2022-11-05T20:31:22.923Z"
   },
   {
    "duration": 15,
    "start_time": "2022-11-05T20:31:25.333Z"
   },
   {
    "duration": 18,
    "start_time": "2022-11-05T20:31:26.692Z"
   },
   {
    "duration": 144,
    "start_time": "2022-11-05T20:31:27.299Z"
   },
   {
    "duration": 18,
    "start_time": "2022-11-05T20:31:28.079Z"
   },
   {
    "duration": 143,
    "start_time": "2022-11-05T20:31:28.876Z"
   },
   {
    "duration": 12,
    "start_time": "2022-11-05T20:31:29.649Z"
   },
   {
    "duration": 146,
    "start_time": "2022-11-05T20:31:30.495Z"
   },
   {
    "duration": 172,
    "start_time": "2022-11-05T20:31:32.618Z"
   },
   {
    "duration": 3,
    "start_time": "2022-11-05T20:31:33.952Z"
   },
   {
    "duration": 21,
    "start_time": "2022-11-05T20:31:42.031Z"
   },
   {
    "duration": 18,
    "start_time": "2022-11-05T20:31:43.753Z"
   },
   {
    "duration": 13,
    "start_time": "2022-11-05T20:31:44.394Z"
   },
   {
    "duration": 15,
    "start_time": "2022-11-05T20:31:45.013Z"
   },
   {
    "duration": 14,
    "start_time": "2022-11-05T20:31:45.447Z"
   },
   {
    "duration": 22,
    "start_time": "2022-11-05T20:31:45.915Z"
   },
   {
    "duration": 13,
    "start_time": "2022-11-05T20:31:46.391Z"
   },
   {
    "duration": 13,
    "start_time": "2022-11-05T20:31:46.903Z"
   },
   {
    "duration": 18,
    "start_time": "2022-11-05T20:31:47.421Z"
   },
   {
    "duration": 14,
    "start_time": "2022-11-05T20:31:48.039Z"
   },
   {
    "duration": 13,
    "start_time": "2022-11-05T20:31:48.523Z"
   },
   {
    "duration": 16,
    "start_time": "2022-11-05T20:31:49.280Z"
   },
   {
    "duration": 175,
    "start_time": "2022-11-05T20:31:50.042Z"
   },
   {
    "duration": 8,
    "start_time": "2022-11-05T20:31:52.408Z"
   },
   {
    "duration": 16,
    "start_time": "2022-11-05T20:32:02.508Z"
   },
   {
    "duration": 10,
    "start_time": "2022-11-05T20:32:03.132Z"
   },
   {
    "duration": 13,
    "start_time": "2022-11-05T20:32:04.320Z"
   },
   {
    "duration": 12,
    "start_time": "2022-11-05T20:32:04.860Z"
   },
   {
    "duration": 14,
    "start_time": "2022-11-05T20:32:05.883Z"
   },
   {
    "duration": 12,
    "start_time": "2022-11-05T20:32:06.960Z"
   },
   {
    "duration": 15,
    "start_time": "2022-11-05T20:32:08.074Z"
   },
   {
    "duration": 12,
    "start_time": "2022-11-05T20:32:08.546Z"
   },
   {
    "duration": 14,
    "start_time": "2022-11-05T20:32:08.996Z"
   },
   {
    "duration": 155,
    "start_time": "2022-11-05T20:32:09.515Z"
   },
   {
    "duration": 709,
    "start_time": "2022-11-07T08:13:11.040Z"
   },
   {
    "duration": 308,
    "start_time": "2022-11-07T08:13:12.122Z"
   },
   {
    "duration": 15,
    "start_time": "2022-11-07T08:13:12.556Z"
   },
   {
    "duration": 7,
    "start_time": "2022-11-07T08:13:13.870Z"
   },
   {
    "duration": 5,
    "start_time": "2022-11-07T08:13:35.144Z"
   },
   {
    "duration": 5,
    "start_time": "2022-11-07T08:13:45.464Z"
   },
   {
    "duration": 113,
    "start_time": "2022-11-07T08:15:26.844Z"
   },
   {
    "duration": 72,
    "start_time": "2022-11-07T08:15:26.959Z"
   },
   {
    "duration": 13,
    "start_time": "2022-11-07T08:15:33.272Z"
   },
   {
    "duration": 18,
    "start_time": "2022-11-07T08:17:33.437Z"
   },
   {
    "duration": 5,
    "start_time": "2022-11-07T08:17:34.275Z"
   },
   {
    "duration": 26,
    "start_time": "2022-11-07T08:17:35.818Z"
   },
   {
    "duration": 5,
    "start_time": "2022-11-07T08:17:39.187Z"
   },
   {
    "duration": 16,
    "start_time": "2022-11-07T08:17:40.245Z"
   },
   {
    "duration": 3,
    "start_time": "2022-11-07T08:17:43.314Z"
   },
   {
    "duration": 10,
    "start_time": "2022-11-07T08:17:45.595Z"
   },
   {
    "duration": 5,
    "start_time": "2022-11-07T08:21:26.175Z"
   },
   {
    "duration": 12,
    "start_time": "2022-11-07T08:23:36.327Z"
   },
   {
    "duration": 6,
    "start_time": "2022-11-07T08:23:36.762Z"
   },
   {
    "duration": 6,
    "start_time": "2022-11-07T08:24:16.414Z"
   },
   {
    "duration": 4,
    "start_time": "2022-11-07T08:24:27.556Z"
   },
   {
    "duration": 6,
    "start_time": "2022-11-07T08:24:32.432Z"
   },
   {
    "duration": 7,
    "start_time": "2022-11-07T08:25:07.153Z"
   },
   {
    "duration": 2,
    "start_time": "2022-11-07T08:25:24.763Z"
   },
   {
    "duration": 87,
    "start_time": "2022-11-07T08:25:25.051Z"
   },
   {
    "duration": 13,
    "start_time": "2022-11-07T08:25:25.248Z"
   },
   {
    "duration": 6,
    "start_time": "2022-11-07T08:25:25.395Z"
   },
   {
    "duration": 52,
    "start_time": "2022-11-07T08:25:26.328Z"
   },
   {
    "duration": 11,
    "start_time": "2022-11-07T08:25:26.548Z"
   },
   {
    "duration": 25,
    "start_time": "2022-11-07T08:25:27.769Z"
   },
   {
    "duration": 5,
    "start_time": "2022-11-07T08:25:27.933Z"
   },
   {
    "duration": 27,
    "start_time": "2022-11-07T08:25:28.151Z"
   },
   {
    "duration": 4,
    "start_time": "2022-11-07T08:25:28.728Z"
   },
   {
    "duration": 14,
    "start_time": "2022-11-07T08:25:28.991Z"
   },
   {
    "duration": 3,
    "start_time": "2022-11-07T08:25:29.720Z"
   },
   {
    "duration": 10,
    "start_time": "2022-11-07T08:25:30.855Z"
   },
   {
    "duration": 14,
    "start_time": "2022-11-07T08:25:31.054Z"
   },
   {
    "duration": 7,
    "start_time": "2022-11-07T08:25:32.164Z"
   },
   {
    "duration": 8,
    "start_time": "2022-11-07T08:25:33.211Z"
   },
   {
    "duration": 4,
    "start_time": "2022-11-07T08:25:34.196Z"
   },
   {
    "duration": 11,
    "start_time": "2022-11-07T08:25:34.647Z"
   },
   {
    "duration": 6,
    "start_time": "2022-11-07T08:25:35.030Z"
   },
   {
    "duration": 10,
    "start_time": "2022-11-07T08:25:51.647Z"
   },
   {
    "duration": 9,
    "start_time": "2022-11-07T08:26:22.371Z"
   },
   {
    "duration": 12,
    "start_time": "2022-11-07T08:29:52.309Z"
   },
   {
    "duration": 12,
    "start_time": "2022-11-07T08:30:02.212Z"
   },
   {
    "duration": 12,
    "start_time": "2022-11-07T08:31:19.239Z"
   },
   {
    "duration": 15,
    "start_time": "2022-11-07T08:31:55.196Z"
   },
   {
    "duration": 20,
    "start_time": "2022-11-07T08:32:23.453Z"
   },
   {
    "duration": 13,
    "start_time": "2022-11-07T08:33:01.971Z"
   },
   {
    "duration": 3,
    "start_time": "2022-11-07T08:33:09.156Z"
   },
   {
    "duration": 87,
    "start_time": "2022-11-07T08:33:09.535Z"
   },
   {
    "duration": 14,
    "start_time": "2022-11-07T08:33:09.715Z"
   },
   {
    "duration": 6,
    "start_time": "2022-11-07T08:33:09.884Z"
   },
   {
    "duration": 41,
    "start_time": "2022-11-07T08:33:10.470Z"
   },
   {
    "duration": 13,
    "start_time": "2022-11-07T08:33:10.654Z"
   },
   {
    "duration": 18,
    "start_time": "2022-11-07T08:33:12.428Z"
   },
   {
    "duration": 7,
    "start_time": "2022-11-07T08:33:12.716Z"
   },
   {
    "duration": 26,
    "start_time": "2022-11-07T08:33:13.014Z"
   },
   {
    "duration": 5,
    "start_time": "2022-11-07T08:33:13.454Z"
   },
   {
    "duration": 15,
    "start_time": "2022-11-07T08:33:13.645Z"
   },
   {
    "duration": 4,
    "start_time": "2022-11-07T08:33:14.371Z"
   },
   {
    "duration": 9,
    "start_time": "2022-11-07T08:33:14.805Z"
   },
   {
    "duration": 17,
    "start_time": "2022-11-07T08:33:20.926Z"
   },
   {
    "duration": 8,
    "start_time": "2022-11-07T08:33:23.046Z"
   },
   {
    "duration": 12,
    "start_time": "2022-11-07T08:33:23.671Z"
   },
   {
    "duration": 4,
    "start_time": "2022-11-07T08:33:24.405Z"
   },
   {
    "duration": 13,
    "start_time": "2022-11-07T08:33:24.710Z"
   },
   {
    "duration": 20,
    "start_time": "2022-11-07T08:33:25.878Z"
   },
   {
    "duration": 12,
    "start_time": "2022-11-07T08:33:49.272Z"
   },
   {
    "duration": 13,
    "start_time": "2022-11-07T08:34:05.115Z"
   },
   {
    "duration": 6,
    "start_time": "2022-11-07T08:34:17.469Z"
   },
   {
    "duration": 2,
    "start_time": "2022-11-07T08:34:41.760Z"
   },
   {
    "duration": 88,
    "start_time": "2022-11-07T08:34:42.118Z"
   },
   {
    "duration": 13,
    "start_time": "2022-11-07T08:34:42.344Z"
   },
   {
    "duration": 7,
    "start_time": "2022-11-07T08:34:42.664Z"
   },
   {
    "duration": 52,
    "start_time": "2022-11-07T08:34:45.823Z"
   },
   {
    "duration": 11,
    "start_time": "2022-11-07T08:34:45.877Z"
   },
   {
    "duration": 40,
    "start_time": "2022-11-07T08:34:45.889Z"
   },
   {
    "duration": 24,
    "start_time": "2022-11-07T08:34:45.931Z"
   },
   {
    "duration": 44,
    "start_time": "2022-11-07T08:34:45.956Z"
   },
   {
    "duration": 4,
    "start_time": "2022-11-07T08:34:46.001Z"
   },
   {
    "duration": 29,
    "start_time": "2022-11-07T08:34:46.006Z"
   },
   {
    "duration": 3,
    "start_time": "2022-11-07T08:34:46.355Z"
   },
   {
    "duration": 9,
    "start_time": "2022-11-07T08:34:47.206Z"
   },
   {
    "duration": 18,
    "start_time": "2022-11-07T08:34:47.753Z"
   },
   {
    "duration": 7,
    "start_time": "2022-11-07T08:34:48.824Z"
   },
   {
    "duration": 7,
    "start_time": "2022-11-07T08:34:49.458Z"
   },
   {
    "duration": 5,
    "start_time": "2022-11-07T08:34:49.901Z"
   },
   {
    "duration": 5,
    "start_time": "2022-11-07T08:34:50.118Z"
   },
   {
    "duration": 12,
    "start_time": "2022-11-07T08:34:50.392Z"
   },
   {
    "duration": 18,
    "start_time": "2022-11-07T08:34:50.754Z"
   },
   {
    "duration": 4,
    "start_time": "2022-11-07T08:37:36.833Z"
   },
   {
    "duration": 1391,
    "start_time": "2022-11-07T08:42:29.833Z"
   },
   {
    "duration": 5,
    "start_time": "2022-11-07T08:42:36.994Z"
   },
   {
    "duration": 31,
    "start_time": "2022-11-07T08:42:37.425Z"
   },
   {
    "duration": 27,
    "start_time": "2022-11-07T08:43:58.222Z"
   },
   {
    "duration": 3,
    "start_time": "2022-11-07T09:03:30.617Z"
   },
   {
    "duration": 9,
    "start_time": "2022-11-07T09:03:37.362Z"
   },
   {
    "duration": 29,
    "start_time": "2022-11-07T09:06:15.172Z"
   },
   {
    "duration": 11,
    "start_time": "2022-11-07T09:06:54.605Z"
   },
   {
    "duration": 102,
    "start_time": "2022-11-07T09:07:05.487Z"
   },
   {
    "duration": 8,
    "start_time": "2022-11-07T09:10:33.652Z"
   },
   {
    "duration": 8,
    "start_time": "2022-11-07T09:12:31.511Z"
   },
   {
    "duration": 8,
    "start_time": "2022-11-07T09:12:41.651Z"
   },
   {
    "duration": 28,
    "start_time": "2022-11-07T09:15:13.285Z"
   },
   {
    "duration": 4,
    "start_time": "2022-11-07T09:17:56.722Z"
   },
   {
    "duration": 16,
    "start_time": "2022-11-07T09:18:17.523Z"
   },
   {
    "duration": 5,
    "start_time": "2022-11-07T09:18:58.514Z"
   },
   {
    "duration": 2,
    "start_time": "2022-11-07T09:24:06.192Z"
   },
   {
    "duration": 92,
    "start_time": "2022-11-07T09:24:06.196Z"
   },
   {
    "duration": 13,
    "start_time": "2022-11-07T09:24:06.290Z"
   },
   {
    "duration": 6,
    "start_time": "2022-11-07T09:24:06.304Z"
   },
   {
    "duration": 50,
    "start_time": "2022-11-07T09:24:06.312Z"
   },
   {
    "duration": 13,
    "start_time": "2022-11-07T09:24:06.363Z"
   },
   {
    "duration": 17,
    "start_time": "2022-11-07T09:24:06.377Z"
   },
   {
    "duration": 5,
    "start_time": "2022-11-07T09:24:06.396Z"
   },
   {
    "duration": 29,
    "start_time": "2022-11-07T09:24:06.403Z"
   },
   {
    "duration": 4,
    "start_time": "2022-11-07T09:24:06.433Z"
   },
   {
    "duration": 40,
    "start_time": "2022-11-07T09:24:06.439Z"
   },
   {
    "duration": 4,
    "start_time": "2022-11-07T09:24:06.480Z"
   },
   {
    "duration": 13,
    "start_time": "2022-11-07T09:24:06.485Z"
   },
   {
    "duration": 15,
    "start_time": "2022-11-07T09:24:06.499Z"
   },
   {
    "duration": 6,
    "start_time": "2022-11-07T09:24:06.515Z"
   },
   {
    "duration": 14,
    "start_time": "2022-11-07T09:24:06.523Z"
   },
   {
    "duration": 6,
    "start_time": "2022-11-07T09:24:06.539Z"
   },
   {
    "duration": 4,
    "start_time": "2022-11-07T09:24:06.590Z"
   },
   {
    "duration": 11,
    "start_time": "2022-11-07T09:24:06.601Z"
   },
   {
    "duration": 17,
    "start_time": "2022-11-07T09:24:06.687Z"
   },
   {
    "duration": 50,
    "start_time": "2022-11-07T09:24:06.770Z"
   },
   {
    "duration": 5,
    "start_time": "2022-11-07T09:24:06.848Z"
   },
   {
    "duration": 6,
    "start_time": "2022-11-07T09:24:06.904Z"
   },
   {
    "duration": 7,
    "start_time": "2022-11-07T09:24:06.911Z"
   },
   {
    "duration": 19,
    "start_time": "2022-11-07T09:24:07.006Z"
   },
   {
    "duration": 96,
    "start_time": "2022-11-07T09:24:07.062Z"
   },
   {
    "duration": 159,
    "start_time": "2022-11-07T09:24:07.160Z"
   },
   {
    "duration": 21,
    "start_time": "2022-11-07T09:24:07.321Z"
   },
   {
    "duration": 110,
    "start_time": "2022-11-07T09:24:07.344Z"
   },
   {
    "duration": 24,
    "start_time": "2022-11-07T09:24:07.455Z"
   },
   {
    "duration": 90,
    "start_time": "2022-11-07T09:24:07.635Z"
   },
   {
    "duration": 18,
    "start_time": "2022-11-07T09:24:07.726Z"
   },
   {
    "duration": 17,
    "start_time": "2022-11-07T09:24:07.746Z"
   },
   {
    "duration": 134,
    "start_time": "2022-11-07T09:24:07.766Z"
   },
   {
    "duration": 20,
    "start_time": "2022-11-07T09:24:07.901Z"
   },
   {
    "duration": 4,
    "start_time": "2022-11-07T09:24:08.469Z"
   },
   {
    "duration": 27,
    "start_time": "2022-11-07T09:24:09.043Z"
   },
   {
    "duration": 13,
    "start_time": "2022-11-07T09:24:09.909Z"
   },
   {
    "duration": 15,
    "start_time": "2022-11-07T09:24:10.032Z"
   },
   {
    "duration": 114,
    "start_time": "2022-11-07T09:24:10.049Z"
   },
   {
    "duration": 20,
    "start_time": "2022-11-07T09:24:10.165Z"
   },
   {
    "duration": 125,
    "start_time": "2022-11-07T09:24:10.186Z"
   },
   {
    "duration": 11,
    "start_time": "2022-11-07T09:24:10.313Z"
   },
   {
    "duration": 145,
    "start_time": "2022-11-07T09:24:10.325Z"
   },
   {
    "duration": 136,
    "start_time": "2022-11-07T09:24:10.477Z"
   },
   {
    "duration": 20,
    "start_time": "2022-11-07T09:24:10.615Z"
   },
   {
    "duration": 13,
    "start_time": "2022-11-07T09:24:10.636Z"
   },
   {
    "duration": 12,
    "start_time": "2022-11-07T09:24:10.672Z"
   },
   {
    "duration": 17,
    "start_time": "2022-11-07T09:24:10.686Z"
   },
   {
    "duration": 13,
    "start_time": "2022-11-07T09:24:10.704Z"
   },
   {
    "duration": 22,
    "start_time": "2022-11-07T09:24:10.719Z"
   },
   {
    "duration": 14,
    "start_time": "2022-11-07T09:24:10.742Z"
   },
   {
    "duration": 21,
    "start_time": "2022-11-07T09:24:10.757Z"
   },
   {
    "duration": 12,
    "start_time": "2022-11-07T09:24:10.810Z"
   },
   {
    "duration": 15,
    "start_time": "2022-11-07T09:24:10.825Z"
   },
   {
    "duration": 12,
    "start_time": "2022-11-07T09:24:10.873Z"
   },
   {
    "duration": 14,
    "start_time": "2022-11-07T09:24:10.904Z"
   },
   {
    "duration": 158,
    "start_time": "2022-11-07T09:24:10.943Z"
   },
   {
    "duration": 7,
    "start_time": "2022-11-07T09:24:11.104Z"
   },
   {
    "duration": 12,
    "start_time": "2022-11-07T09:24:11.160Z"
   },
   {
    "duration": 10,
    "start_time": "2022-11-07T09:24:11.317Z"
   },
   {
    "duration": 12,
    "start_time": "2022-11-07T09:24:11.560Z"
   },
   {
    "duration": 11,
    "start_time": "2022-11-07T09:24:12.117Z"
   },
   {
    "duration": 12,
    "start_time": "2022-11-07T09:24:12.570Z"
   },
   {
    "duration": 11,
    "start_time": "2022-11-07T09:24:12.923Z"
   },
   {
    "duration": 12,
    "start_time": "2022-11-07T09:24:13.383Z"
   },
   {
    "duration": 12,
    "start_time": "2022-11-07T09:24:13.590Z"
   },
   {
    "duration": 13,
    "start_time": "2022-11-07T09:24:13.808Z"
   },
   {
    "duration": 141,
    "start_time": "2022-11-07T09:24:13.993Z"
   },
   {
    "duration": 35,
    "start_time": "2022-11-07T09:24:14.599Z"
   },
   {
    "duration": 8,
    "start_time": "2022-11-07T09:24:14.843Z"
   },
   {
    "duration": 4,
    "start_time": "2022-11-07T09:24:15.122Z"
   },
   {
    "duration": 5,
    "start_time": "2022-11-07T09:24:15.322Z"
   },
   {
    "duration": 4,
    "start_time": "2022-11-07T09:24:15.631Z"
   },
   {
    "duration": 9,
    "start_time": "2022-11-07T09:24:15.945Z"
   },
   {
    "duration": 10,
    "start_time": "2022-11-07T09:24:16.120Z"
   },
   {
    "duration": 3,
    "start_time": "2022-11-07T09:25:01.248Z"
   },
   {
    "duration": 5,
    "start_time": "2022-11-07T09:25:05.769Z"
   },
   {
    "duration": 6,
    "start_time": "2022-11-07T09:25:07.805Z"
   },
   {
    "duration": 7,
    "start_time": "2022-11-07T09:25:34.667Z"
   },
   {
    "duration": 12,
    "start_time": "2022-11-07T09:25:35.363Z"
   },
   {
    "duration": 10,
    "start_time": "2022-11-07T09:25:35.422Z"
   },
   {
    "duration": 12,
    "start_time": "2022-11-07T09:25:35.434Z"
   },
   {
    "duration": 14,
    "start_time": "2022-11-07T09:25:35.447Z"
   },
   {
    "duration": 13,
    "start_time": "2022-11-07T09:25:35.462Z"
   },
   {
    "duration": 11,
    "start_time": "2022-11-07T09:25:35.479Z"
   },
   {
    "duration": 14,
    "start_time": "2022-11-07T09:25:35.491Z"
   },
   {
    "duration": 13,
    "start_time": "2022-11-07T09:25:35.506Z"
   },
   {
    "duration": 15,
    "start_time": "2022-11-07T09:25:35.520Z"
   },
   {
    "duration": 144,
    "start_time": "2022-11-07T09:25:35.537Z"
   },
   {
    "duration": 33,
    "start_time": "2022-11-07T09:25:35.683Z"
   },
   {
    "duration": 8,
    "start_time": "2022-11-07T09:25:35.881Z"
   },
   {
    "duration": 4,
    "start_time": "2022-11-07T09:25:39.552Z"
   },
   {
    "duration": 4,
    "start_time": "2022-11-07T09:25:45.593Z"
   },
   {
    "duration": 4,
    "start_time": "2022-11-07T09:26:01.794Z"
   },
   {
    "duration": 11,
    "start_time": "2022-11-07T09:26:08.621Z"
   },
   {
    "duration": 12,
    "start_time": "2022-11-07T09:26:29.002Z"
   },
   {
    "duration": 12,
    "start_time": "2022-11-07T09:27:33.314Z"
   },
   {
    "duration": 5,
    "start_time": "2022-11-07T09:27:37.983Z"
   },
   {
    "duration": 6,
    "start_time": "2022-11-07T09:28:01.121Z"
   },
   {
    "duration": 5,
    "start_time": "2022-11-07T09:28:13.487Z"
   },
   {
    "duration": 6,
    "start_time": "2022-11-07T09:28:51.732Z"
   },
   {
    "duration": 6,
    "start_time": "2022-11-07T09:28:56.524Z"
   },
   {
    "duration": 6,
    "start_time": "2022-11-07T09:30:35.650Z"
   },
   {
    "duration": 6,
    "start_time": "2022-11-07T09:31:04.102Z"
   },
   {
    "duration": 5,
    "start_time": "2022-11-07T09:31:13.264Z"
   },
   {
    "duration": 8,
    "start_time": "2022-11-07T09:32:21.421Z"
   },
   {
    "duration": 4,
    "start_time": "2022-11-07T09:33:20.442Z"
   },
   {
    "duration": 2,
    "start_time": "2022-11-07T09:35:05.249Z"
   },
   {
    "duration": 99,
    "start_time": "2022-11-07T09:35:05.713Z"
   },
   {
    "duration": 85,
    "start_time": "2022-11-07T09:35:06.049Z"
   },
   {
    "duration": 7,
    "start_time": "2022-11-07T09:35:06.273Z"
   },
   {
    "duration": 53,
    "start_time": "2022-11-07T09:35:06.776Z"
   },
   {
    "duration": 14,
    "start_time": "2022-11-07T09:35:07.018Z"
   },
   {
    "duration": 24,
    "start_time": "2022-11-07T09:35:08.058Z"
   },
   {
    "duration": 5,
    "start_time": "2022-11-07T09:35:08.138Z"
   },
   {
    "duration": 26,
    "start_time": "2022-11-07T09:35:08.415Z"
   },
   {
    "duration": 5,
    "start_time": "2022-11-07T09:35:08.800Z"
   },
   {
    "duration": 14,
    "start_time": "2022-11-07T09:35:08.990Z"
   },
   {
    "duration": 3,
    "start_time": "2022-11-07T09:35:09.581Z"
   },
   {
    "duration": 9,
    "start_time": "2022-11-07T09:35:09.888Z"
   },
   {
    "duration": 17,
    "start_time": "2022-11-07T09:35:10.380Z"
   },
   {
    "duration": 7,
    "start_time": "2022-11-07T09:35:10.814Z"
   },
   {
    "duration": 8,
    "start_time": "2022-11-07T09:35:11.188Z"
   },
   {
    "duration": 5,
    "start_time": "2022-11-07T09:35:11.588Z"
   },
   {
    "duration": 5,
    "start_time": "2022-11-07T09:35:11.783Z"
   },
   {
    "duration": 12,
    "start_time": "2022-11-07T09:35:11.998Z"
   },
   {
    "duration": 17,
    "start_time": "2022-11-07T09:35:12.170Z"
   },
   {
    "duration": 19,
    "start_time": "2022-11-07T09:35:13.578Z"
   },
   {
    "duration": 6,
    "start_time": "2022-11-07T09:35:13.598Z"
   },
   {
    "duration": 7,
    "start_time": "2022-11-07T09:35:13.606Z"
   },
   {
    "duration": 7,
    "start_time": "2022-11-07T09:35:13.615Z"
   },
   {
    "duration": 20,
    "start_time": "2022-11-07T09:35:13.624Z"
   },
   {
    "duration": 140,
    "start_time": "2022-11-07T09:35:13.646Z"
   },
   {
    "duration": 113,
    "start_time": "2022-11-07T09:35:13.787Z"
   },
   {
    "duration": 20,
    "start_time": "2022-11-07T09:35:13.902Z"
   },
   {
    "duration": 117,
    "start_time": "2022-11-07T09:35:13.924Z"
   },
   {
    "duration": 17,
    "start_time": "2022-11-07T09:35:14.043Z"
   },
   {
    "duration": 85,
    "start_time": "2022-11-07T09:35:14.539Z"
   },
   {
    "duration": 15,
    "start_time": "2022-11-07T09:35:14.626Z"
   },
   {
    "duration": 8,
    "start_time": "2022-11-07T09:35:14.643Z"
   },
   {
    "duration": 92,
    "start_time": "2022-11-07T09:35:14.822Z"
   },
   {
    "duration": 16,
    "start_time": "2022-11-07T09:35:14.915Z"
   },
   {
    "duration": 4,
    "start_time": "2022-11-07T09:35:14.968Z"
   },
   {
    "duration": 29,
    "start_time": "2022-11-07T09:35:15.028Z"
   },
   {
    "duration": 13,
    "start_time": "2022-11-07T09:35:15.140Z"
   },
   {
    "duration": 14,
    "start_time": "2022-11-07T09:35:15.225Z"
   },
   {
    "duration": 124,
    "start_time": "2022-11-07T09:35:15.274Z"
   },
   {
    "duration": 16,
    "start_time": "2022-11-07T09:35:15.914Z"
   },
   {
    "duration": 117,
    "start_time": "2022-11-07T09:35:15.932Z"
   },
   {
    "duration": 11,
    "start_time": "2022-11-07T09:35:16.050Z"
   },
   {
    "duration": 131,
    "start_time": "2022-11-07T09:35:16.062Z"
   },
   {
    "duration": 149,
    "start_time": "2022-11-07T09:35:17.352Z"
   },
   {
    "duration": 20,
    "start_time": "2022-11-07T09:35:17.504Z"
   },
   {
    "duration": 13,
    "start_time": "2022-11-07T09:35:18.198Z"
   },
   {
    "duration": 12,
    "start_time": "2022-11-07T09:35:18.314Z"
   },
   {
    "duration": 12,
    "start_time": "2022-11-07T09:35:18.971Z"
   },
   {
    "duration": 12,
    "start_time": "2022-11-07T09:35:19.001Z"
   },
   {
    "duration": 13,
    "start_time": "2022-11-07T09:35:19.034Z"
   },
   {
    "duration": 17,
    "start_time": "2022-11-07T09:35:19.050Z"
   },
   {
    "duration": 12,
    "start_time": "2022-11-07T09:35:19.077Z"
   },
   {
    "duration": 12,
    "start_time": "2022-11-07T09:35:19.091Z"
   },
   {
    "duration": 12,
    "start_time": "2022-11-07T09:35:19.169Z"
   },
   {
    "duration": 13,
    "start_time": "2022-11-07T09:35:19.183Z"
   },
   {
    "duration": 14,
    "start_time": "2022-11-07T09:35:19.490Z"
   },
   {
    "duration": 165,
    "start_time": "2022-11-07T09:35:19.730Z"
   },
   {
    "duration": 7,
    "start_time": "2022-11-07T09:35:24.120Z"
   },
   {
    "duration": 12,
    "start_time": "2022-11-07T09:35:24.156Z"
   },
   {
    "duration": 10,
    "start_time": "2022-11-07T09:35:24.172Z"
   },
   {
    "duration": 10,
    "start_time": "2022-11-07T09:35:24.195Z"
   },
   {
    "duration": 13,
    "start_time": "2022-11-07T09:35:24.208Z"
   },
   {
    "duration": 13,
    "start_time": "2022-11-07T09:35:24.223Z"
   },
   {
    "duration": 10,
    "start_time": "2022-11-07T09:35:24.243Z"
   },
   {
    "duration": 23,
    "start_time": "2022-11-07T09:35:24.255Z"
   },
   {
    "duration": 14,
    "start_time": "2022-11-07T09:35:24.280Z"
   },
   {
    "duration": 13,
    "start_time": "2022-11-07T09:35:24.295Z"
   },
   {
    "duration": 150,
    "start_time": "2022-11-07T09:35:24.310Z"
   },
   {
    "duration": 17,
    "start_time": "2022-11-07T09:35:24.461Z"
   },
   {
    "duration": 6,
    "start_time": "2022-11-07T09:35:24.479Z"
   },
   {
    "duration": 36,
    "start_time": "2022-11-07T09:35:24.486Z"
   },
   {
    "duration": 7,
    "start_time": "2022-11-07T09:35:24.523Z"
   },
   {
    "duration": 7,
    "start_time": "2022-11-07T09:35:24.531Z"
   },
   {
    "duration": 10,
    "start_time": "2022-11-07T09:35:24.539Z"
   },
   {
    "duration": 8,
    "start_time": "2022-11-07T09:35:24.550Z"
   },
   {
    "duration": 12,
    "start_time": "2022-11-07T09:35:24.578Z"
   },
   {
    "duration": 14,
    "start_time": "2022-11-07T09:35:24.592Z"
   },
   {
    "duration": 8,
    "start_time": "2022-11-07T09:35:24.607Z"
   },
   {
    "duration": 6,
    "start_time": "2022-11-07T09:35:24.674Z"
   },
   {
    "duration": 7,
    "start_time": "2022-11-07T09:35:24.864Z"
   },
   {
    "duration": 4,
    "start_time": "2022-11-07T09:35:25.078Z"
   },
   {
    "duration": 13,
    "start_time": "2022-11-07T09:35:25.700Z"
   },
   {
    "duration": 12,
    "start_time": "2022-11-07T09:35:26.082Z"
   },
   {
    "duration": 5,
    "start_time": "2022-11-07T09:35:26.446Z"
   },
   {
    "duration": 7,
    "start_time": "2022-11-07T09:35:26.721Z"
   },
   {
    "duration": 6,
    "start_time": "2022-11-07T09:35:39.031Z"
   },
   {
    "duration": 4,
    "start_time": "2022-11-07T09:43:11.541Z"
   },
   {
    "duration": 228,
    "start_time": "2022-11-07T09:53:15.749Z"
   },
   {
    "duration": 154,
    "start_time": "2022-11-07T09:53:44.831Z"
   },
   {
    "duration": 179,
    "start_time": "2022-11-07T09:53:57.723Z"
   },
   {
    "duration": 160,
    "start_time": "2022-11-07T09:54:57.523Z"
   },
   {
    "duration": 3,
    "start_time": "2022-11-07T09:58:46.132Z"
   },
   {
    "duration": 89,
    "start_time": "2022-11-07T09:58:46.267Z"
   },
   {
    "duration": 13,
    "start_time": "2022-11-07T09:58:46.358Z"
   },
   {
    "duration": 8,
    "start_time": "2022-11-07T09:58:46.537Z"
   },
   {
    "duration": 48,
    "start_time": "2022-11-07T09:58:46.547Z"
   },
   {
    "duration": 13,
    "start_time": "2022-11-07T09:58:46.597Z"
   },
   {
    "duration": 19,
    "start_time": "2022-11-07T09:58:46.611Z"
   },
   {
    "duration": 5,
    "start_time": "2022-11-07T09:58:46.632Z"
   },
   {
    "duration": 37,
    "start_time": "2022-11-07T09:58:46.639Z"
   },
   {
    "duration": 5,
    "start_time": "2022-11-07T09:58:46.678Z"
   },
   {
    "duration": 17,
    "start_time": "2022-11-07T09:58:46.684Z"
   },
   {
    "duration": 3,
    "start_time": "2022-11-07T09:58:46.703Z"
   },
   {
    "duration": 11,
    "start_time": "2022-11-07T09:58:46.708Z"
   },
   {
    "duration": 16,
    "start_time": "2022-11-07T09:58:46.721Z"
   },
   {
    "duration": 40,
    "start_time": "2022-11-07T09:58:46.738Z"
   },
   {
    "duration": 9,
    "start_time": "2022-11-07T09:58:46.780Z"
   },
   {
    "duration": 8,
    "start_time": "2022-11-07T09:58:46.790Z"
   },
   {
    "duration": 6,
    "start_time": "2022-11-07T09:58:46.799Z"
   },
   {
    "duration": 14,
    "start_time": "2022-11-07T09:58:46.806Z"
   },
   {
    "duration": 17,
    "start_time": "2022-11-07T09:58:46.822Z"
   },
   {
    "duration": 46,
    "start_time": "2022-11-07T09:58:46.840Z"
   },
   {
    "duration": 4,
    "start_time": "2022-11-07T09:58:46.888Z"
   },
   {
    "duration": 10,
    "start_time": "2022-11-07T09:58:46.894Z"
   },
   {
    "duration": 8,
    "start_time": "2022-11-07T09:58:46.905Z"
   },
   {
    "duration": 20,
    "start_time": "2022-11-07T09:58:46.916Z"
   },
   {
    "duration": 127,
    "start_time": "2022-11-07T09:58:46.937Z"
   },
   {
    "duration": 113,
    "start_time": "2022-11-07T09:58:47.066Z"
   },
   {
    "duration": 20,
    "start_time": "2022-11-07T09:58:47.180Z"
   },
   {
    "duration": 117,
    "start_time": "2022-11-07T09:58:47.203Z"
   },
   {
    "duration": 16,
    "start_time": "2022-11-07T09:58:47.321Z"
   },
   {
    "duration": 101,
    "start_time": "2022-11-07T09:58:47.338Z"
   },
   {
    "duration": 15,
    "start_time": "2022-11-07T09:58:47.441Z"
   },
   {
    "duration": 6,
    "start_time": "2022-11-07T09:58:47.458Z"
   },
   {
    "duration": 127,
    "start_time": "2022-11-07T09:58:47.465Z"
   },
   {
    "duration": 16,
    "start_time": "2022-11-07T09:58:47.594Z"
   },
   {
    "duration": 6,
    "start_time": "2022-11-07T09:58:47.612Z"
   },
   {
    "duration": 28,
    "start_time": "2022-11-07T09:58:47.619Z"
   },
   {
    "duration": 40,
    "start_time": "2022-11-07T09:58:47.649Z"
   },
   {
    "duration": 17,
    "start_time": "2022-11-07T09:58:47.693Z"
   },
   {
    "duration": 175,
    "start_time": "2022-11-07T09:58:47.712Z"
   },
   {
    "duration": 19,
    "start_time": "2022-11-07T09:58:47.889Z"
   },
   {
    "duration": 142,
    "start_time": "2022-11-07T09:58:47.910Z"
   },
   {
    "duration": 10,
    "start_time": "2022-11-07T09:58:48.054Z"
   },
   {
    "duration": 202,
    "start_time": "2022-11-07T09:58:48.066Z"
   },
   {
    "duration": 137,
    "start_time": "2022-11-07T09:58:48.270Z"
   },
   {
    "duration": 19,
    "start_time": "2022-11-07T09:58:48.409Z"
   },
   {
    "duration": 11,
    "start_time": "2022-11-07T09:58:48.430Z"
   },
   {
    "duration": 12,
    "start_time": "2022-11-07T09:58:48.443Z"
   },
   {
    "duration": 11,
    "start_time": "2022-11-07T09:58:48.478Z"
   },
   {
    "duration": 13,
    "start_time": "2022-11-07T09:58:48.490Z"
   },
   {
    "duration": 11,
    "start_time": "2022-11-07T09:58:48.504Z"
   },
   {
    "duration": 11,
    "start_time": "2022-11-07T09:58:48.517Z"
   },
   {
    "duration": 12,
    "start_time": "2022-11-07T09:58:48.529Z"
   },
   {
    "duration": 38,
    "start_time": "2022-11-07T09:58:48.542Z"
   },
   {
    "duration": 14,
    "start_time": "2022-11-07T09:58:48.581Z"
   },
   {
    "duration": 15,
    "start_time": "2022-11-07T09:58:48.596Z"
   },
   {
    "duration": 22,
    "start_time": "2022-11-07T09:58:48.613Z"
   },
   {
    "duration": 176,
    "start_time": "2022-11-07T09:58:48.637Z"
   },
   {
    "duration": 7,
    "start_time": "2022-11-07T09:58:48.815Z"
   },
   {
    "duration": 16,
    "start_time": "2022-11-07T09:58:48.824Z"
   },
   {
    "duration": 11,
    "start_time": "2022-11-07T09:58:48.842Z"
   },
   {
    "duration": 29,
    "start_time": "2022-11-07T09:58:48.854Z"
   },
   {
    "duration": 13,
    "start_time": "2022-11-07T09:58:48.885Z"
   },
   {
    "duration": 14,
    "start_time": "2022-11-07T09:58:48.900Z"
   },
   {
    "duration": 14,
    "start_time": "2022-11-07T09:58:48.915Z"
   },
   {
    "duration": 12,
    "start_time": "2022-11-07T09:58:48.930Z"
   },
   {
    "duration": 15,
    "start_time": "2022-11-07T09:58:48.943Z"
   },
   {
    "duration": 13,
    "start_time": "2022-11-07T09:58:48.976Z"
   },
   {
    "duration": 170,
    "start_time": "2022-11-07T09:58:48.993Z"
   },
   {
    "duration": 15,
    "start_time": "2022-11-07T09:58:49.165Z"
   },
   {
    "duration": 7,
    "start_time": "2022-11-07T09:58:49.182Z"
   },
   {
    "duration": 9,
    "start_time": "2022-11-07T09:58:49.191Z"
   },
   {
    "duration": 12,
    "start_time": "2022-11-07T09:58:49.202Z"
   },
   {
    "duration": 10,
    "start_time": "2022-11-07T09:58:49.216Z"
   },
   {
    "duration": 8,
    "start_time": "2022-11-07T09:58:49.228Z"
   },
   {
    "duration": 12,
    "start_time": "2022-11-07T09:58:49.237Z"
   },
   {
    "duration": 13,
    "start_time": "2022-11-07T09:58:49.251Z"
   },
   {
    "duration": 14,
    "start_time": "2022-11-07T09:58:49.277Z"
   },
   {
    "duration": 7,
    "start_time": "2022-11-07T09:58:49.292Z"
   },
   {
    "duration": 8,
    "start_time": "2022-11-07T09:58:49.300Z"
   },
   {
    "duration": 10,
    "start_time": "2022-11-07T09:58:49.309Z"
   },
   {
    "duration": 6,
    "start_time": "2022-11-07T09:58:49.320Z"
   },
   {
    "duration": 20,
    "start_time": "2022-11-07T09:58:49.327Z"
   },
   {
    "duration": 36,
    "start_time": "2022-11-07T09:58:49.348Z"
   },
   {
    "duration": 153,
    "start_time": "2022-11-07T09:58:49.386Z"
   },
   {
    "duration": 6,
    "start_time": "2022-11-07T09:58:49.540Z"
   },
   {
    "duration": 16,
    "start_time": "2022-11-07T09:58:49.548Z"
   },
   {
    "duration": 54,
    "start_time": "2022-11-08T08:58:43.792Z"
   }
  ],
  "colab": {
   "name": "DA+. Сборный проект 1. Шаблон (1).ipynb",
   "provenance": []
  },
  "kernelspec": {
   "display_name": "Python 3 (ipykernel)",
   "language": "python",
   "name": "python3"
  },
  "language_info": {
   "codemirror_mode": {
    "name": "ipython",
    "version": 3
   },
   "file_extension": ".py",
   "mimetype": "text/x-python",
   "name": "python",
   "nbconvert_exporter": "python",
   "pygments_lexer": "ipython3",
   "version": "3.9.13"
  },
  "toc": {
   "base_numbering": 1,
   "nav_menu": {},
   "number_sections": true,
   "sideBar": true,
   "skip_h1_title": true,
   "title_cell": "Table of Contents",
   "title_sidebar": "Contents",
   "toc_cell": false,
   "toc_position": {
    "height": "calc(100% - 180px)",
    "left": "10px",
    "top": "150px",
    "width": "375.391px"
   },
   "toc_section_display": true,
   "toc_window_display": false
  }
 },
 "nbformat": 4,
 "nbformat_minor": 1
}
