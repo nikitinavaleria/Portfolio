{
 "cells": [
  {
   "cell_type": "markdown",
   "id": "6693426a",
   "metadata": {},
   "source": [
    "\n",
    "\n",
    "# Выбор локации для скважины\n",
    "\n",
    "\n",
    "\n",
    "Компания «ГлавРосГосНефть». Нужно решить, где бурить новую скважину.\n",
    "\n",
    "Предоставлены пробы нефти в трёх регионах: в каждом 10 000 месторождений, где измерили качество нефти и объём её запасов. Необходимо построить модель машинного обучения, которая поможет определить регион, где добыча принесёт наибольшую прибыль. Также необходимо проанализировать возможную прибыль и риски техникой Bootstrap.\n",
    "\n",
    "**Шаги для выбора локации:**\n",
    "\n",
    "В избранном регионе ищут месторождения, для каждого определяют значения признаков;\n",
    "\n",
    "Строят модель и оценивают объём запасов;\n",
    "\n",
    "Выбирают месторождения с самым высокими оценками значений. Количество месторождений зависит от бюджета компании и стоимости разработки одной скважины;\n",
    "\n",
    "Прибыль равна суммарной прибыли отобранных месторождений.\n",
    "\n",
    "\n",
    "**Содержание**\n",
    "\n",
    "1) Загрузка и подготовка данных\n",
    "\n",
    "2) Обучение и проверка модели\n",
    "\n",
    "3)  Подготовка к расчёту прибыли\n",
    "\n",
    "4)  Расчёт прибыли и рисков\n",
    "\n",
    "5) Оценка рисков и прибыли для каждого региона\n",
    "\n",
    "\n",
    "**Описание данных** \n",
    "\n",
    "id — уникальный идентификатор скважины;\n",
    "\n",
    "f0, f1, f2 — три признака точек (неважно, что они означают, но сами признаки значимы);\n",
    "\n",
    "product — объём запасов в скважине (тыс. баррелей).\n",
    "\n",
    "\n",
    "**Условия задачи:**\n",
    "\n",
    "1) Для обучения модели подходит только линейная регрессия (остальные — недостаточно предсказуемые).\n",
    "\n",
    "2) При разведке региона исследуют 500 точек, из которых с помощью машинного обучения выбирают 200 лучших для разработки.\n",
    "\n",
    "3) Бюджет на разработку скважин в регионе — 10 млрд рублей.\n",
    "\n",
    "4) При нынешних ценах один баррель сырья приносит 450 рублей дохода. Доход с каждой единицы продукта составляет 450 тыс. рублей, поскольку объём указан в тысячах баррелей.\n",
    "\n",
    "5) После оценки рисков нужно оставить лишь те регионы, в которых вероятность убытков меньше 2.5%. Среди них выбирают регион с наибольшей средней прибылью.\n",
    "\n",
    "6) Данные синтетические: детали контрактов и характеристики месторождений не разглашаются."
   ]
  },
  {
   "cell_type": "markdown",
   "id": "7c64e85c",
   "metadata": {},
   "source": [
    "## Загрузка и подготовка данных\n"
   ]
  },
  {
   "cell_type": "code",
   "execution_count": 37,
   "id": "3079b9b7",
   "metadata": {},
   "outputs": [],
   "source": [
    "#импортируем нужные библиотеки для работы\n",
    "import pandas as pd\n",
    "import numpy as np\n",
    "import matplotlib.pyplot as plt\n",
    "import seaborn as sns\n",
    "\n",
    "\n",
    "from tqdm import tqdm\n",
    "import warnings\n",
    "\n",
    "\n",
    "from sklearn.model_selection import train_test_split\n",
    "from sklearn.preprocessing import StandardScaler\n",
    "\n",
    "\n",
    "\n",
    "\n",
    "from sklearn.linear_model import LinearRegression\n",
    "\n",
    "from sklearn.metrics import mean_squared_error\n",
    "\n",
    "\n"
   ]
  },
  {
   "cell_type": "markdown",
   "id": "f0580093",
   "metadata": {},
   "source": [
    "### Поработаем с датасетом 0"
   ]
  },
  {
   "cell_type": "code",
   "execution_count": 38,
   "id": "c1ff681c",
   "metadata": {
    "scrolled": true
   },
   "outputs": [
    {
     "data": {
      "text/html": [
       "<div>\n",
       "<style scoped>\n",
       "    .dataframe tbody tr th:only-of-type {\n",
       "        vertical-align: middle;\n",
       "    }\n",
       "\n",
       "    .dataframe tbody tr th {\n",
       "        vertical-align: top;\n",
       "    }\n",
       "\n",
       "    .dataframe thead th {\n",
       "        text-align: right;\n",
       "    }\n",
       "</style>\n",
       "<table border=\"1\" class=\"dataframe\">\n",
       "  <thead>\n",
       "    <tr style=\"text-align: right;\">\n",
       "      <th></th>\n",
       "      <th>id</th>\n",
       "      <th>f0</th>\n",
       "      <th>f1</th>\n",
       "      <th>f2</th>\n",
       "      <th>product</th>\n",
       "    </tr>\n",
       "  </thead>\n",
       "  <tbody>\n",
       "    <tr>\n",
       "      <th>0</th>\n",
       "      <td>txEyH</td>\n",
       "      <td>0.705745</td>\n",
       "      <td>-0.497823</td>\n",
       "      <td>1.221170</td>\n",
       "      <td>105.280062</td>\n",
       "    </tr>\n",
       "    <tr>\n",
       "      <th>1</th>\n",
       "      <td>2acmU</td>\n",
       "      <td>1.334711</td>\n",
       "      <td>-0.340164</td>\n",
       "      <td>4.365080</td>\n",
       "      <td>73.037750</td>\n",
       "    </tr>\n",
       "    <tr>\n",
       "      <th>2</th>\n",
       "      <td>409Wp</td>\n",
       "      <td>1.022732</td>\n",
       "      <td>0.151990</td>\n",
       "      <td>1.419926</td>\n",
       "      <td>85.265647</td>\n",
       "    </tr>\n",
       "    <tr>\n",
       "      <th>3</th>\n",
       "      <td>iJLyR</td>\n",
       "      <td>-0.032172</td>\n",
       "      <td>0.139033</td>\n",
       "      <td>2.978566</td>\n",
       "      <td>168.620776</td>\n",
       "    </tr>\n",
       "    <tr>\n",
       "      <th>4</th>\n",
       "      <td>Xdl7t</td>\n",
       "      <td>1.988431</td>\n",
       "      <td>0.155413</td>\n",
       "      <td>4.751769</td>\n",
       "      <td>154.036647</td>\n",
       "    </tr>\n",
       "    <tr>\n",
       "      <th>5</th>\n",
       "      <td>wX4Hy</td>\n",
       "      <td>0.969570</td>\n",
       "      <td>0.489775</td>\n",
       "      <td>-0.735383</td>\n",
       "      <td>64.741541</td>\n",
       "    </tr>\n",
       "    <tr>\n",
       "      <th>6</th>\n",
       "      <td>tL6pL</td>\n",
       "      <td>0.645075</td>\n",
       "      <td>0.530656</td>\n",
       "      <td>1.780266</td>\n",
       "      <td>49.055285</td>\n",
       "    </tr>\n",
       "    <tr>\n",
       "      <th>7</th>\n",
       "      <td>BYPU6</td>\n",
       "      <td>-0.400648</td>\n",
       "      <td>0.808337</td>\n",
       "      <td>-5.624670</td>\n",
       "      <td>72.943292</td>\n",
       "    </tr>\n",
       "    <tr>\n",
       "      <th>8</th>\n",
       "      <td>j9Oui</td>\n",
       "      <td>0.643105</td>\n",
       "      <td>-0.551583</td>\n",
       "      <td>2.372141</td>\n",
       "      <td>113.356160</td>\n",
       "    </tr>\n",
       "    <tr>\n",
       "      <th>9</th>\n",
       "      <td>OLuZU</td>\n",
       "      <td>2.173381</td>\n",
       "      <td>0.563698</td>\n",
       "      <td>9.441852</td>\n",
       "      <td>127.910945</td>\n",
       "    </tr>\n",
       "  </tbody>\n",
       "</table>\n",
       "</div>"
      ],
      "text/plain": [
       "      id        f0        f1        f2     product\n",
       "0  txEyH  0.705745 -0.497823  1.221170  105.280062\n",
       "1  2acmU  1.334711 -0.340164  4.365080   73.037750\n",
       "2  409Wp  1.022732  0.151990  1.419926   85.265647\n",
       "3  iJLyR -0.032172  0.139033  2.978566  168.620776\n",
       "4  Xdl7t  1.988431  0.155413  4.751769  154.036647\n",
       "5  wX4Hy  0.969570  0.489775 -0.735383   64.741541\n",
       "6  tL6pL  0.645075  0.530656  1.780266   49.055285\n",
       "7  BYPU6 -0.400648  0.808337 -5.624670   72.943292\n",
       "8  j9Oui  0.643105 -0.551583  2.372141  113.356160\n",
       "9  OLuZU  2.173381  0.563698  9.441852  127.910945"
      ]
     },
     "execution_count": 38,
     "metadata": {},
     "output_type": "execute_result"
    }
   ],
   "source": [
    "#прочитаем данные 'C:/Users/Lerusik/Documents/datasets/geo_data_0.csv' (для себя)\n",
    "data_0 = pd.read_csv('/datasets/geo_data_0.csv')\n",
    "data_0.head(10)"
   ]
  },
  {
   "cell_type": "code",
   "execution_count": 39,
   "id": "7031b6d2",
   "metadata": {},
   "outputs": [
    {
     "data": {
      "image/png": "[encoded data removed]",
      "text/plain": [
       "<Figure size 360x360 with 2 Axes>"
      ]
     },
     "metadata": {
      "needs_background": "light"
     },
     "output_type": "display_data"
    }
   ],
   "source": [
    "#посмотрим матрицу корреляций\n",
    "fig, ax = plt.subplots(figsize=(5,5))\n",
    "\n",
    "sns.heatmap(ax=ax, data=data_0.corr(), annot = True)\n",
    "plt.show()"
   ]
  },
  {
   "cell_type": "code",
   "execution_count": 40,
   "id": "893bca65",
   "metadata": {},
   "outputs": [
    {
     "data": {
      "image/png": "[encoded data removed]",
      "text/plain": [
       "<Figure size 360x360 with 4 Axes>"
      ]
     },
     "metadata": {
      "needs_background": "light"
     },
     "output_type": "display_data"
    }
   ],
   "source": [
    "#получим гистограммы по всем столбцам\n",
    "data_0.hist(figsize=(5, 5))\n",
    "plt.show()"
   ]
  },
  {
   "cell_type": "code",
   "execution_count": 41,
   "id": "9b9ecb1a",
   "metadata": {},
   "outputs": [
    {
     "data": {
      "image/png": "[encoded data removed]",
      "text/plain": [
       "<Figure size 360x216 with 1 Axes>"
      ]
     },
     "metadata": {
      "needs_background": "light"
     },
     "output_type": "display_data"
    }
   ],
   "source": [
    "#проверим на выбросы\n",
    "data_0.boxplot('f2', figsize=(5, 3))\n",
    "plt.show()"
   ]
  },
  {
   "cell_type": "code",
   "execution_count": 42,
   "id": "1f17f5f5",
   "metadata": {},
   "outputs": [
    {
     "name": "stdout",
     "output_type": "stream",
     "text": [
      "<class 'pandas.core.frame.DataFrame'>\n",
      "RangeIndex: 100000 entries, 0 to 99999\n",
      "Data columns (total 5 columns):\n",
      " #   Column   Non-Null Count   Dtype  \n",
      "---  ------   --------------   -----  \n",
      " 0   id       100000 non-null  object \n",
      " 1   f0       100000 non-null  float64\n",
      " 2   f1       100000 non-null  float64\n",
      " 3   f2       100000 non-null  float64\n",
      " 4   product  100000 non-null  float64\n",
      "dtypes: float64(4), object(1)\n",
      "memory usage: 3.8+ MB\n",
      "Пропусков нет, ура\n"
     ]
    }
   ],
   "source": [
    "#получим общую информацию о датасете\n",
    "data_0.info()\n",
    "print('Пропусков нет, ура')"
   ]
  },
  {
   "cell_type": "code",
   "execution_count": 43,
   "id": "30b0384f",
   "metadata": {
    "scrolled": true
   },
   "outputs": [
    {
     "data": {
      "text/html": [
       "<div>\n",
       "<style scoped>\n",
       "    .dataframe tbody tr th:only-of-type {\n",
       "        vertical-align: middle;\n",
       "    }\n",
       "\n",
       "    .dataframe tbody tr th {\n",
       "        vertical-align: top;\n",
       "    }\n",
       "\n",
       "    .dataframe thead th {\n",
       "        text-align: right;\n",
       "    }\n",
       "</style>\n",
       "<table border=\"1\" class=\"dataframe\">\n",
       "  <thead>\n",
       "    <tr style=\"text-align: right;\">\n",
       "      <th></th>\n",
       "      <th>f0</th>\n",
       "      <th>f1</th>\n",
       "      <th>f2</th>\n",
       "      <th>product</th>\n",
       "    </tr>\n",
       "  </thead>\n",
       "  <tbody>\n",
       "    <tr>\n",
       "      <th>0</th>\n",
       "      <td>0.705745</td>\n",
       "      <td>-0.497823</td>\n",
       "      <td>1.221170</td>\n",
       "      <td>105.280062</td>\n",
       "    </tr>\n",
       "    <tr>\n",
       "      <th>1</th>\n",
       "      <td>1.334711</td>\n",
       "      <td>-0.340164</td>\n",
       "      <td>4.365080</td>\n",
       "      <td>73.037750</td>\n",
       "    </tr>\n",
       "    <tr>\n",
       "      <th>2</th>\n",
       "      <td>1.022732</td>\n",
       "      <td>0.151990</td>\n",
       "      <td>1.419926</td>\n",
       "      <td>85.265647</td>\n",
       "    </tr>\n",
       "    <tr>\n",
       "      <th>3</th>\n",
       "      <td>-0.032172</td>\n",
       "      <td>0.139033</td>\n",
       "      <td>2.978566</td>\n",
       "      <td>168.620776</td>\n",
       "    </tr>\n",
       "    <tr>\n",
       "      <th>4</th>\n",
       "      <td>1.988431</td>\n",
       "      <td>0.155413</td>\n",
       "      <td>4.751769</td>\n",
       "      <td>154.036647</td>\n",
       "    </tr>\n",
       "    <tr>\n",
       "      <th>...</th>\n",
       "      <td>...</td>\n",
       "      <td>...</td>\n",
       "      <td>...</td>\n",
       "      <td>...</td>\n",
       "    </tr>\n",
       "    <tr>\n",
       "      <th>99995</th>\n",
       "      <td>0.971957</td>\n",
       "      <td>0.370953</td>\n",
       "      <td>6.075346</td>\n",
       "      <td>110.744026</td>\n",
       "    </tr>\n",
       "    <tr>\n",
       "      <th>99996</th>\n",
       "      <td>1.392429</td>\n",
       "      <td>-0.382606</td>\n",
       "      <td>1.273912</td>\n",
       "      <td>122.346843</td>\n",
       "    </tr>\n",
       "    <tr>\n",
       "      <th>99997</th>\n",
       "      <td>1.029585</td>\n",
       "      <td>0.018787</td>\n",
       "      <td>-1.348308</td>\n",
       "      <td>64.375443</td>\n",
       "    </tr>\n",
       "    <tr>\n",
       "      <th>99998</th>\n",
       "      <td>0.998163</td>\n",
       "      <td>-0.528582</td>\n",
       "      <td>1.583869</td>\n",
       "      <td>74.040764</td>\n",
       "    </tr>\n",
       "    <tr>\n",
       "      <th>99999</th>\n",
       "      <td>1.764754</td>\n",
       "      <td>-0.266417</td>\n",
       "      <td>5.722849</td>\n",
       "      <td>149.633246</td>\n",
       "    </tr>\n",
       "  </tbody>\n",
       "</table>\n",
       "<p>100000 rows × 4 columns</p>\n",
       "</div>"
      ],
      "text/plain": [
       "             f0        f1        f2     product\n",
       "0      0.705745 -0.497823  1.221170  105.280062\n",
       "1      1.334711 -0.340164  4.365080   73.037750\n",
       "2      1.022732  0.151990  1.419926   85.265647\n",
       "3     -0.032172  0.139033  2.978566  168.620776\n",
       "4      1.988431  0.155413  4.751769  154.036647\n",
       "...         ...       ...       ...         ...\n",
       "99995  0.971957  0.370953  6.075346  110.744026\n",
       "99996  1.392429 -0.382606  1.273912  122.346843\n",
       "99997  1.029585  0.018787 -1.348308   64.375443\n",
       "99998  0.998163 -0.528582  1.583869   74.040764\n",
       "99999  1.764754 -0.266417  5.722849  149.633246\n",
       "\n",
       "[100000 rows x 4 columns]"
      ]
     },
     "execution_count": 43,
     "metadata": {},
     "output_type": "execute_result"
    }
   ],
   "source": [
    "#удалим столбец с индексом, он будет мешать логистической регрессии\n",
    "data_0.drop(columns=data_0.columns[0], axis= 1 , inplace= True )\n",
    "data_0"
   ]
  },
  {
   "cell_type": "code",
   "execution_count": 44,
   "id": "6b741781",
   "metadata": {},
   "outputs": [],
   "source": [
    "#кодировать нам тут ничего не нужно, но стандартизировать и разделить данные - да\n",
    "features_0 = data_0.drop(['product'],axis=1)\n",
    "target_0 = data_0['product'] #целевой признак\n",
    "\n",
    "features_train_0, features_valid_0, target_train_0, target_valid_0 = train_test_split(features_0, target_0, test_size=0.25, random_state=12345)\n",
    "\n",
    "\n",
    "\n",
    "pd.options.mode.chained_assignment = None #чтобы не появлялось предупреждение SettingWithCopy\n",
    "\n",
    "numeric = ['f0', 'f1', 'f2']\n",
    "\n",
    "scaler = StandardScaler()\n",
    "scaler.fit(features_train_0[numeric])\n",
    "features_train_0[numeric] = scaler.transform(features_train_0[numeric])\n",
    "features_valid_0[numeric] = scaler.transform(features_valid_0[numeric])\n",
    "\n",
    "\n",
    "\n",
    "\n",
    "\n"
   ]
  },
  {
   "cell_type": "markdown",
   "id": "01d8748a",
   "metadata": {},
   "source": [
    "### Поработаем с датасетом 1"
   ]
  },
  {
   "cell_type": "code",
   "execution_count": 45,
   "id": "fa660acd",
   "metadata": {
    "scrolled": false
   },
   "outputs": [
    {
     "data": {
      "text/html": [
       "<div>\n",
       "<style scoped>\n",
       "    .dataframe tbody tr th:only-of-type {\n",
       "        vertical-align: middle;\n",
       "    }\n",
       "\n",
       "    .dataframe tbody tr th {\n",
       "        vertical-align: top;\n",
       "    }\n",
       "\n",
       "    .dataframe thead th {\n",
       "        text-align: right;\n",
       "    }\n",
       "</style>\n",
       "<table border=\"1\" class=\"dataframe\">\n",
       "  <thead>\n",
       "    <tr style=\"text-align: right;\">\n",
       "      <th></th>\n",
       "      <th>id</th>\n",
       "      <th>f0</th>\n",
       "      <th>f1</th>\n",
       "      <th>f2</th>\n",
       "      <th>product</th>\n",
       "    </tr>\n",
       "  </thead>\n",
       "  <tbody>\n",
       "    <tr>\n",
       "      <th>0</th>\n",
       "      <td>kBEdx</td>\n",
       "      <td>-15.001348</td>\n",
       "      <td>-8.276000</td>\n",
       "      <td>-0.005876</td>\n",
       "      <td>3.179103</td>\n",
       "    </tr>\n",
       "    <tr>\n",
       "      <th>1</th>\n",
       "      <td>62mP7</td>\n",
       "      <td>14.272088</td>\n",
       "      <td>-3.475083</td>\n",
       "      <td>0.999183</td>\n",
       "      <td>26.953261</td>\n",
       "    </tr>\n",
       "    <tr>\n",
       "      <th>2</th>\n",
       "      <td>vyE1P</td>\n",
       "      <td>6.263187</td>\n",
       "      <td>-5.948386</td>\n",
       "      <td>5.001160</td>\n",
       "      <td>134.766305</td>\n",
       "    </tr>\n",
       "    <tr>\n",
       "      <th>3</th>\n",
       "      <td>KcrkZ</td>\n",
       "      <td>-13.081196</td>\n",
       "      <td>-11.506057</td>\n",
       "      <td>4.999415</td>\n",
       "      <td>137.945408</td>\n",
       "    </tr>\n",
       "    <tr>\n",
       "      <th>4</th>\n",
       "      <td>AHL4O</td>\n",
       "      <td>12.702195</td>\n",
       "      <td>-8.147433</td>\n",
       "      <td>5.004363</td>\n",
       "      <td>134.766305</td>\n",
       "    </tr>\n",
       "    <tr>\n",
       "      <th>5</th>\n",
       "      <td>HHckp</td>\n",
       "      <td>-3.327590</td>\n",
       "      <td>-2.205276</td>\n",
       "      <td>3.003647</td>\n",
       "      <td>84.038886</td>\n",
       "    </tr>\n",
       "    <tr>\n",
       "      <th>6</th>\n",
       "      <td>h5Ujo</td>\n",
       "      <td>-11.142655</td>\n",
       "      <td>-10.133399</td>\n",
       "      <td>4.002382</td>\n",
       "      <td>110.992147</td>\n",
       "    </tr>\n",
       "    <tr>\n",
       "      <th>7</th>\n",
       "      <td>muH9x</td>\n",
       "      <td>4.234715</td>\n",
       "      <td>-0.001354</td>\n",
       "      <td>2.004588</td>\n",
       "      <td>53.906522</td>\n",
       "    </tr>\n",
       "    <tr>\n",
       "      <th>8</th>\n",
       "      <td>YiRkx</td>\n",
       "      <td>13.355129</td>\n",
       "      <td>-0.332068</td>\n",
       "      <td>4.998647</td>\n",
       "      <td>134.766305</td>\n",
       "    </tr>\n",
       "    <tr>\n",
       "      <th>9</th>\n",
       "      <td>jG6Gi</td>\n",
       "      <td>1.069227</td>\n",
       "      <td>-11.025667</td>\n",
       "      <td>4.997844</td>\n",
       "      <td>137.945408</td>\n",
       "    </tr>\n",
       "  </tbody>\n",
       "</table>\n",
       "</div>"
      ],
      "text/plain": [
       "      id         f0         f1        f2     product\n",
       "0  kBEdx -15.001348  -8.276000 -0.005876    3.179103\n",
       "1  62mP7  14.272088  -3.475083  0.999183   26.953261\n",
       "2  vyE1P   6.263187  -5.948386  5.001160  134.766305\n",
       "3  KcrkZ -13.081196 -11.506057  4.999415  137.945408\n",
       "4  AHL4O  12.702195  -8.147433  5.004363  134.766305\n",
       "5  HHckp  -3.327590  -2.205276  3.003647   84.038886\n",
       "6  h5Ujo -11.142655 -10.133399  4.002382  110.992147\n",
       "7  muH9x   4.234715  -0.001354  2.004588   53.906522\n",
       "8  YiRkx  13.355129  -0.332068  4.998647  134.766305\n",
       "9  jG6Gi   1.069227 -11.025667  4.997844  137.945408"
      ]
     },
     "execution_count": 45,
     "metadata": {},
     "output_type": "execute_result"
    }
   ],
   "source": [
    "#прочитаем данные C:/Users/Lerusik/Documents/datasets/geo_data_1.csv\n",
    "data_1 = pd.read_csv('/datasets/geo_data_1.csv')\n",
    "data_1.head(10)"
   ]
  },
  {
   "cell_type": "code",
   "execution_count": 46,
   "id": "05555df8",
   "metadata": {},
   "outputs": [
    {
     "data": {
      "image/png": "[encoded data removed]",
      "text/plain": [
       "<Figure size 360x360 with 2 Axes>"
      ]
     },
     "metadata": {
      "needs_background": "light"
     },
     "output_type": "display_data"
    }
   ],
   "source": [
    "#посмотрим матрицу корреляций\n",
    "fig, ax = plt.subplots(figsize=(5,5))\n",
    "\n",
    "sns.heatmap(ax=ax, data=data_1.corr(), annot = True)\n",
    "plt.show()"
   ]
  },
  {
   "cell_type": "code",
   "execution_count": 47,
   "id": "927fe365",
   "metadata": {
    "scrolled": true
   },
   "outputs": [
    {
     "data": {
      "image/png": "[encoded data removed]",
      "text/plain": [
       "<Figure size 360x360 with 4 Axes>"
      ]
     },
     "metadata": {
      "needs_background": "light"
     },
     "output_type": "display_data"
    }
   ],
   "source": [
    "#получим гистограммы по всем столбцам\n",
    "data_1.hist(figsize=(5, 5))\n",
    "plt.show()"
   ]
  },
  {
   "cell_type": "code",
   "execution_count": 48,
   "id": "da113bd0",
   "metadata": {},
   "outputs": [
    {
     "data": {
      "image/png": "[encoded data removed]",
      "text/plain": [
       "<Figure size 360x216 with 1 Axes>"
      ]
     },
     "metadata": {
      "needs_background": "light"
     },
     "output_type": "display_data"
    }
   ],
   "source": [
    "#проверим на выбросы\n",
    "data_1.boxplot('f1', figsize=(5, 3))\n",
    "plt.show()"
   ]
  },
  {
   "cell_type": "code",
   "execution_count": 49,
   "id": "6c988b9c",
   "metadata": {},
   "outputs": [
    {
     "name": "stdout",
     "output_type": "stream",
     "text": [
      "<class 'pandas.core.frame.DataFrame'>\n",
      "RangeIndex: 100000 entries, 0 to 99999\n",
      "Data columns (total 5 columns):\n",
      " #   Column   Non-Null Count   Dtype  \n",
      "---  ------   --------------   -----  \n",
      " 0   id       100000 non-null  object \n",
      " 1   f0       100000 non-null  float64\n",
      " 2   f1       100000 non-null  float64\n",
      " 3   f2       100000 non-null  float64\n",
      " 4   product  100000 non-null  float64\n",
      "dtypes: float64(4), object(1)\n",
      "memory usage: 3.8+ MB\n",
      "Пропусков нет, ура\n"
     ]
    }
   ],
   "source": [
    "#получим общую информацию о датасете\n",
    "data_1.info()\n",
    "print('Пропусков нет, ура')"
   ]
  },
  {
   "cell_type": "code",
   "execution_count": 50,
   "id": "eeb07f35",
   "metadata": {},
   "outputs": [],
   "source": [
    "#удалим столбец с индексом, он будет мешать логистической регрессии\n",
    "data_1.drop(columns=data_1.columns[0], axis= 1 , inplace= True )"
   ]
  },
  {
   "cell_type": "code",
   "execution_count": 51,
   "id": "8c1891e5",
   "metadata": {},
   "outputs": [],
   "source": [
    "#кодировать нам тут ничего не нужно, но стандартизировать и разделить данные - да\n",
    "features_1 = data_1.drop(['product'],axis=1)\n",
    "target_1 = data_1['product'] #целевой признак\n",
    "\n",
    "features_train_1, features_valid_1, target_train_1, target_valid_1 = train_test_split(features_1, target_1, test_size=0.25, random_state=12345)\n",
    "\n",
    "\n",
    "\n",
    "pd.options.mode.chained_assignment = None #чтобы не появлялось предупреждение SettingWithCopy\n",
    "\n",
    "numeric = ['f0', 'f1', 'f2']\n",
    "\n",
    "scaler = StandardScaler()\n",
    "scaler.fit(features_train_1[numeric])\n",
    "features_train_1[numeric] = scaler.transform(features_train_1[numeric])\n",
    "features_valid_1[numeric] = scaler.transform(features_valid_1[numeric])\n",
    "\n",
    "\n"
   ]
  },
  {
   "cell_type": "markdown",
   "id": "a87bf6de",
   "metadata": {},
   "source": [
    "### Поработаем с датасетом 2"
   ]
  },
  {
   "cell_type": "code",
   "execution_count": 52,
   "id": "b5416249",
   "metadata": {
    "scrolled": true
   },
   "outputs": [
    {
     "data": {
      "text/html": [
       "<div>\n",
       "<style scoped>\n",
       "    .dataframe tbody tr th:only-of-type {\n",
       "        vertical-align: middle;\n",
       "    }\n",
       "\n",
       "    .dataframe tbody tr th {\n",
       "        vertical-align: top;\n",
       "    }\n",
       "\n",
       "    .dataframe thead th {\n",
       "        text-align: right;\n",
       "    }\n",
       "</style>\n",
       "<table border=\"1\" class=\"dataframe\">\n",
       "  <thead>\n",
       "    <tr style=\"text-align: right;\">\n",
       "      <th></th>\n",
       "      <th>id</th>\n",
       "      <th>f0</th>\n",
       "      <th>f1</th>\n",
       "      <th>f2</th>\n",
       "      <th>product</th>\n",
       "    </tr>\n",
       "  </thead>\n",
       "  <tbody>\n",
       "    <tr>\n",
       "      <th>0</th>\n",
       "      <td>fwXo0</td>\n",
       "      <td>-1.146987</td>\n",
       "      <td>0.963328</td>\n",
       "      <td>-0.828965</td>\n",
       "      <td>27.758673</td>\n",
       "    </tr>\n",
       "    <tr>\n",
       "      <th>1</th>\n",
       "      <td>WJtFt</td>\n",
       "      <td>0.262778</td>\n",
       "      <td>0.269839</td>\n",
       "      <td>-2.530187</td>\n",
       "      <td>56.069697</td>\n",
       "    </tr>\n",
       "    <tr>\n",
       "      <th>2</th>\n",
       "      <td>ovLUW</td>\n",
       "      <td>0.194587</td>\n",
       "      <td>0.289035</td>\n",
       "      <td>-5.586433</td>\n",
       "      <td>62.871910</td>\n",
       "    </tr>\n",
       "    <tr>\n",
       "      <th>3</th>\n",
       "      <td>q6cA6</td>\n",
       "      <td>2.236060</td>\n",
       "      <td>-0.553760</td>\n",
       "      <td>0.930038</td>\n",
       "      <td>114.572842</td>\n",
       "    </tr>\n",
       "    <tr>\n",
       "      <th>4</th>\n",
       "      <td>WPMUX</td>\n",
       "      <td>-0.515993</td>\n",
       "      <td>1.716266</td>\n",
       "      <td>5.899011</td>\n",
       "      <td>149.600746</td>\n",
       "    </tr>\n",
       "    <tr>\n",
       "      <th>5</th>\n",
       "      <td>LzZXx</td>\n",
       "      <td>-0.758092</td>\n",
       "      <td>0.710691</td>\n",
       "      <td>2.585887</td>\n",
       "      <td>90.222465</td>\n",
       "    </tr>\n",
       "    <tr>\n",
       "      <th>6</th>\n",
       "      <td>WBHRv</td>\n",
       "      <td>-0.574891</td>\n",
       "      <td>0.317727</td>\n",
       "      <td>1.773745</td>\n",
       "      <td>45.641478</td>\n",
       "    </tr>\n",
       "    <tr>\n",
       "      <th>7</th>\n",
       "      <td>XO8fn</td>\n",
       "      <td>-1.906649</td>\n",
       "      <td>-2.458350</td>\n",
       "      <td>-0.177097</td>\n",
       "      <td>72.480640</td>\n",
       "    </tr>\n",
       "    <tr>\n",
       "      <th>8</th>\n",
       "      <td>ybmQ5</td>\n",
       "      <td>1.776292</td>\n",
       "      <td>-0.279356</td>\n",
       "      <td>3.004156</td>\n",
       "      <td>106.616832</td>\n",
       "    </tr>\n",
       "    <tr>\n",
       "      <th>9</th>\n",
       "      <td>OilcN</td>\n",
       "      <td>-1.214452</td>\n",
       "      <td>-0.439314</td>\n",
       "      <td>5.922514</td>\n",
       "      <td>52.954532</td>\n",
       "    </tr>\n",
       "  </tbody>\n",
       "</table>\n",
       "</div>"
      ],
      "text/plain": [
       "      id        f0        f1        f2     product\n",
       "0  fwXo0 -1.146987  0.963328 -0.828965   27.758673\n",
       "1  WJtFt  0.262778  0.269839 -2.530187   56.069697\n",
       "2  ovLUW  0.194587  0.289035 -5.586433   62.871910\n",
       "3  q6cA6  2.236060 -0.553760  0.930038  114.572842\n",
       "4  WPMUX -0.515993  1.716266  5.899011  149.600746\n",
       "5  LzZXx -0.758092  0.710691  2.585887   90.222465\n",
       "6  WBHRv -0.574891  0.317727  1.773745   45.641478\n",
       "7  XO8fn -1.906649 -2.458350 -0.177097   72.480640\n",
       "8  ybmQ5  1.776292 -0.279356  3.004156  106.616832\n",
       "9  OilcN -1.214452 -0.439314  5.922514   52.954532"
      ]
     },
     "execution_count": 52,
     "metadata": {},
     "output_type": "execute_result"
    }
   ],
   "source": [
    "#прочитаем данные C:/Users/Lerusik/Documents/datasets/geo_data_2.csv\n",
    "data_2 = pd.read_csv('/datasets/geo_data_2.csv')\n",
    "data_2.head(10)"
   ]
  },
  {
   "cell_type": "code",
   "execution_count": 53,
   "id": "bf9ca95b",
   "metadata": {},
   "outputs": [
    {
     "data": {
      "image/png": "[encoded data removed]",
      "text/plain": [
       "<Figure size 360x360 with 2 Axes>"
      ]
     },
     "metadata": {
      "needs_background": "light"
     },
     "output_type": "display_data"
    }
   ],
   "source": [
    "#посмотрим матрицу корреляций\n",
    "fig, ax = plt.subplots(figsize=(5,5))\n",
    "\n",
    "sns.heatmap(ax=ax, data=data_2.corr(), annot = True)\n",
    "plt.show()"
   ]
  },
  {
   "cell_type": "code",
   "execution_count": 54,
   "id": "69fb7281",
   "metadata": {
    "scrolled": true
   },
   "outputs": [
    {
     "data": {
      "image/png": "[encoded data removed]",
      "text/plain": [
       "<Figure size 360x360 with 4 Axes>"
      ]
     },
     "metadata": {
      "needs_background": "light"
     },
     "output_type": "display_data"
    }
   ],
   "source": [
    "#получим гистограммы по всем столбцам\n",
    "data_2.hist(figsize=(5, 5))\n",
    "plt.show()"
   ]
  },
  {
   "cell_type": "code",
   "execution_count": 55,
   "id": "0d335eb0",
   "metadata": {},
   "outputs": [
    {
     "data": {
      "image/png": "[encoded data removed]",
      "text/plain": [
       "<Figure size 360x216 with 1 Axes>"
      ]
     },
     "metadata": {
      "needs_background": "light"
     },
     "output_type": "display_data"
    }
   ],
   "source": [
    "#проверим на выбросы\n",
    "data_2.boxplot('f0', figsize=(5, 3))\n",
    "plt.show()"
   ]
  },
  {
   "cell_type": "code",
   "execution_count": 56,
   "id": "6d5ee8a1",
   "metadata": {},
   "outputs": [
    {
     "data": {
      "image/png": "[encoded data removed]",
      "text/plain": [
       "<Figure size 360x216 with 1 Axes>"
      ]
     },
     "metadata": {
      "needs_background": "light"
     },
     "output_type": "display_data"
    }
   ],
   "source": [
    "#проверим на выбросы\n",
    "data_2.boxplot('f1', figsize=(5, 3))\n",
    "plt.show()"
   ]
  },
  {
   "cell_type": "code",
   "execution_count": 57,
   "id": "dce20e0f",
   "metadata": {},
   "outputs": [
    {
     "data": {
      "image/png": "[encoded data removed]",
      "text/plain": [
       "<Figure size 360x216 with 1 Axes>"
      ]
     },
     "metadata": {
      "needs_background": "light"
     },
     "output_type": "display_data"
    }
   ],
   "source": [
    "#проверим на выбросы\n",
    "data_2.boxplot('f2', figsize=(5, 3))\n",
    "plt.show()"
   ]
  },
  {
   "cell_type": "code",
   "execution_count": 58,
   "id": "b02bc0e4",
   "metadata": {},
   "outputs": [
    {
     "name": "stdout",
     "output_type": "stream",
     "text": [
      "<class 'pandas.core.frame.DataFrame'>\n",
      "RangeIndex: 100000 entries, 0 to 99999\n",
      "Data columns (total 5 columns):\n",
      " #   Column   Non-Null Count   Dtype  \n",
      "---  ------   --------------   -----  \n",
      " 0   id       100000 non-null  object \n",
      " 1   f0       100000 non-null  float64\n",
      " 2   f1       100000 non-null  float64\n",
      " 3   f2       100000 non-null  float64\n",
      " 4   product  100000 non-null  float64\n",
      "dtypes: float64(4), object(1)\n",
      "memory usage: 3.8+ MB\n",
      "Пропусков нет, ура\n"
     ]
    }
   ],
   "source": [
    "#получим общую информацию о датасете\n",
    "data_2.info()\n",
    "print('Пропусков нет, ура')"
   ]
  },
  {
   "cell_type": "code",
   "execution_count": 59,
   "id": "26d14751",
   "metadata": {},
   "outputs": [],
   "source": [
    "#удалим столбец с индексом, он будет мешать логистической регрессии\n",
    "data_2.drop(columns=data_2.columns[0], axis= 1 , inplace= True )"
   ]
  },
  {
   "cell_type": "code",
   "execution_count": 60,
   "id": "09661141",
   "metadata": {},
   "outputs": [],
   "source": [
    "#кодировать нам тут ничего не нужно, но стандартизировать и разделить данные - да\n",
    "features_2 = data_2.drop(['product'],axis=1)\n",
    "target_2 = data_2['product'] #целевой признак\n",
    "\n",
    "features_train_2, features_valid_2, target_train_2, target_valid_2 = train_test_split(features_2, target_2, test_size=0.25, random_state=12345)\n",
    "\n",
    "\n",
    "\n",
    "pd.options.mode.chained_assignment = None #чтобы не появлялось предупреждение SettingWithCopy\n",
    "\n",
    "numeric = ['f0', 'f1', 'f2']\n",
    "\n",
    "scaler = StandardScaler()\n",
    "scaler.fit(features_train_2[numeric])\n",
    "features_train_2[numeric] = scaler.transform(features_train_2[numeric])\n",
    "features_valid_2[numeric] = scaler.transform(features_valid_2[numeric])\n",
    "\n",
    "\n"
   ]
  },
  {
   "cell_type": "markdown",
   "id": "761a4ba7",
   "metadata": {},
   "source": [
    "### Выводы по подготовке данных\n",
    "\n",
    "Данные содержатся в трех таблицах. Информация была экспортирована, прочитана, обработана для каждой таблицы. Данные были проверены на пропуски, выбросы, а также получено первое представление о распределении данных: получены гистограммы и матрицы корреляций. \n",
    "\n",
    "Далее данные были подготовлены к дальнейшему обучению модели линейной регрессии, они были разделены на тренировочную и валидационную выборки и стандартизированы. \n",
    "\n",
    "Для всех трех скважин было замечено, что в метриках f данные не всегда распределны нормально и сильно выбиваются. Далее это может способствовать увеличению среднеквадратической ошибки в исследуемом признаке. Также замечена сильная корреляция между метрикой f2 и целевым признаком. Это может говорить о наибольшем вкладе именно этой метрики. \n",
    "\n",
    "Данные полностью готовы к дальнейшей работе.\n",
    "\n"
   ]
  },
  {
   "cell_type": "markdown",
   "id": "2ac85861",
   "metadata": {},
   "source": [
    "## Обучение и проверка модели"
   ]
  },
  {
   "cell_type": "markdown",
   "id": "263f735f",
   "metadata": {},
   "source": [
    "### Линейная регрессия"
   ]
  },
  {
   "cell_type": "code",
   "execution_count": 61,
   "id": "8c038e81",
   "metadata": {},
   "outputs": [],
   "source": [
    "def regression(features_train, target_train, features_valid, target_valid):\n",
    "    model = LinearRegression()\n",
    "    model.fit(features_train,target_train) # обучите модель на тренировочной выборке\n",
    "    predictions_valid = model.predict(features_valid) # получите предсказания модели на валидационной выборке\n",
    "\n",
    "    return mean_squared_error(target_valid, predictions_valid)**0.5, predictions_valid # посчитайте значение метрики RMSE на валидационной выборке\n",
    "    "
   ]
  },
  {
   "cell_type": "code",
   "execution_count": 62,
   "id": "5235269a",
   "metadata": {},
   "outputs": [
    {
     "name": "stdout",
     "output_type": "stream",
     "text": [
      "RMSE модели линейной регрессии на валидационной выборке скважины 0: 37.5794217150813\n",
      "Средний запас предсказанного сырья скважины 0: 92.59256778438035\n",
      "\n",
      "RMSE модели линейной регрессии на валидационной выборке скважины 1: 0.893099286775617\n",
      "Средний запас предсказанного сырья скважины 1: 68.728546895446\n",
      "\n",
      "RMSE модели линейной регрессии на валидационной выборке скважины 2: 40.02970873393434\n",
      "Средний запас предсказанного сырья скважины 2: 94.96504596800489\n",
      "\n"
     ]
    }
   ],
   "source": [
    "result_0, predictions_valid_0 = regression(features_train_0, target_train_0, features_valid_0, target_valid_0)\n",
    "print(\"RMSE модели линейной регрессии на валидационной выборке скважины 0:\", result_0)\n",
    "print(\"Средний запас предсказанного сырья скважины 0:\", predictions_valid_0.mean())\n",
    "print()\n",
    "\n",
    "\n",
    "\n",
    "result_1, predictions_valid_1 = regression(features_train_1, target_train_1, features_valid_1, target_valid_1)\n",
    "print(\"RMSE модели линейной регрессии на валидационной выборке скважины 1:\", result_1)\n",
    "print(\"Средний запас предсказанного сырья скважины 1:\", predictions_valid_1.mean())\n",
    "print()\n",
    "\n",
    "result_2, predictions_valid_2 = regression(features_train_2, target_train_2, features_valid_2, target_valid_2)\n",
    "print(\"RMSE модели линейной регрессии на валидационной выборке скважины 2:\", result_2)\n",
    "print(\"Средний запас предсказанного сырья скважины 2:\", predictions_valid_2.mean())\n",
    "print()"
   ]
  },
  {
   "cell_type": "markdown",
   "id": "0092ec2e",
   "metadata": {},
   "source": []
  },
  {
   "cell_type": "markdown",
   "id": "86acb23f",
   "metadata": {},
   "source": [
    "## Подготовка к расчёту прибыли"
   ]
  },
  {
   "cell_type": "code",
   "execution_count": 63,
   "id": "dbadbbbb",
   "metadata": {},
   "outputs": [
    {
     "name": "stdout",
     "output_type": "stream",
     "text": [
      "Достаточный объём сырья для безубыточной разработки новой скважины: 111\n"
     ]
    }
   ],
   "source": [
    "BUDGET = 10_000_000_000 #бюджет на разработку скважин в регионе\n",
    "INCOME = 450_000 #доход с каждой единицы продукта составляет 450 тыс. рублей, поскольку объём указан в тысячах баррелей\n",
    "NECESSARY_VOLUME = BUDGET/INCOME/200\n",
    "LOSSES = 0.025 #вероятность убытков должна быть меньше 2.5%\n",
    "\n",
    "predictions_valid_0 = pd.DataFrame(data=predictions_valid_0).add_prefix(\"data\")\n",
    "predictions_valid_1 = pd.DataFrame(data=predictions_valid_1).add_prefix(\"data\")\n",
    "predictions_valid_2 = pd.DataFrame(data=predictions_valid_2).add_prefix(\"data\")\n",
    "\n",
    "\n",
    "print(f'Достаточный объём сырья для безубыточной разработки новой скважины: {NECESSARY_VOLUME:.0f}')"
   ]
  },
  {
   "cell_type": "markdown",
   "id": "76f7f2b3",
   "metadata": {},
   "source": [
    "### Промежуточные итоги\n",
    "\n",
    "Для безубыточной разработки скважины необходимо 111 тысяч баррелей.\n",
    "\n",
    "\n",
    "Средний запас предсказанного сырья скважины 0: 92\n",
    "\n",
    "Средний запас предсказанного сырья скважины 1: 68\n",
    "\n",
    "Средний запас предсказанного сырья скважины 2: 94\n",
    "\n",
    "Вывод: Мы видим, что разброс данных в скважинах достаточно большой, что говорит о том, что среднее будет не очень показательно. Видно, что в нашем случае средние во всех трех скважинах меньше, чем достаточный объем для безубыточного случая добычи. Учитывая разброс, мы получим средние больше, чем этот достаточный объем. Это значит, что нам необходимо внимательно выбирать точки для скважин, чтобы выбрать максимально прибыльные"
   ]
  },
  {
   "cell_type": "markdown",
   "id": "cdd3e07d",
   "metadata": {},
   "source": [
    "## Расчёт прибыли и рисков"
   ]
  },
  {
   "cell_type": "code",
   "execution_count": 64,
   "id": "ad6cdbcc",
   "metadata": {},
   "outputs": [],
   "source": [
    "#функция для расчета прибыли\n",
    "def profit(target, predictions, count):\n",
    "\n",
    "    predictions_max_index = predictions.sort_values(by = 'data0', ascending=False)\n",
    "    product_target = target[predictions_max_index.index][:count].sum()\n",
    "\n",
    "    return product_target*INCOME - BUDGET"
   ]
  },
  {
   "cell_type": "code",
   "execution_count": 65,
   "id": "8ecad52b",
   "metadata": {},
   "outputs": [],
   "source": [
    "#напишем функцию для подсчёта рисков, то есть доли отрицательной прибыли\n",
    "def risk(values):\n",
    "    count_all = 0\n",
    "    count_minus = 0\n",
    "    for i in range(len(values)):\n",
    "        count_all += 1\n",
    "        if values[i] <= 0:\n",
    "            count_minus += 1\n",
    "    return count_minus/count_all*100\n",
    "            \n",
    "        \n",
    "    "
   ]
  },
  {
   "cell_type": "markdown",
   "id": "8c41f2ce",
   "metadata": {},
   "source": [
    "## Оценка рисков и прибыли для каждого региона"
   ]
  },
  {
   "cell_type": "code",
   "execution_count": 66,
   "id": "3392e5d7",
   "metadata": {},
   "outputs": [
    {
     "name": "stdout",
     "output_type": "stream",
     "text": [
      "Средняя прибыль: 425938527\n",
      "2,5%-квантиль:  -102090095\n",
      "97,5%-квантиль:  947976353\n",
      "Доля рисков для скважины 0:  6.0 %\n"
     ]
    }
   ],
   "source": [
    "state = np.random.RandomState(12345)\n",
    "\n",
    "target_valid_0 = target_valid_0.reset_index(drop=True)\n",
    "\n",
    "values_0 = []\n",
    "for i in range(1000):\n",
    "    target_subsample = target_valid_0.sample(n=500, replace=True, random_state=state)\n",
    "    predictions_subsample = predictions_valid_0.iloc[target_subsample.index]\n",
    "\n",
    "    values_0.append(profit(target_subsample,predictions_subsample, 200))\n",
    "\n",
    "\n",
    "\n",
    "values_0 = pd.Series(values_0)\n",
    "lower = values_0.quantile(0.025)\n",
    "upper = values_0.quantile(0.975)\n",
    "\n",
    "\n",
    "mean = values_0.mean()\n",
    "print(f\"Средняя прибыль: {mean:.0f}\" ) \n",
    "print(f\"2,5%-квантиль:  {lower:.0f}\")\n",
    "print(f\"97,5%-квантиль:  {upper:.0f}\")\n",
    "print('Доля рисков для скважины 0: ', (values_0 < 0).mean() * 100, '%')\n",
    "\n",
    "\n"
   ]
  },
  {
   "cell_type": "code",
   "execution_count": 67,
   "id": "8781b279",
   "metadata": {},
   "outputs": [
    {
     "name": "stdout",
     "output_type": "stream",
     "text": [
      "Средняя прибыль: 518259494\n",
      "2,5%-квантиль:  128123231\n",
      "97,5%-квантиль:  953612982\n",
      "Доля рисков для скважины 1:  0.3 %\n"
     ]
    }
   ],
   "source": [
    "target_valid_1 = target_valid_1.reset_index(drop=True)\n",
    "\n",
    "values_1 = []\n",
    "for i in range(1000):\n",
    "    target_subsample = target_valid_1.sample(n=500, replace=True, random_state=state)\n",
    "    predictions_subsample = predictions_valid_1.iloc[target_subsample.index]\n",
    "\n",
    "    values_1.append(profit(target_subsample,predictions_subsample, 200))\n",
    "\n",
    "\n",
    "\n",
    "values_1 = pd.Series(values_1)\n",
    "lower = values_1.quantile(0.025)\n",
    "upper = values_1.quantile(0.975)\n",
    "\n",
    "\n",
    "mean = values_1.mean()\n",
    "print(f\"Средняя прибыль: {mean:.0f}\" ) \n",
    "print(f\"2,5%-квантиль:  {lower:.0f}\")\n",
    "print(f\"97,5%-квантиль:  {upper:.0f}\")\n",
    "print('Доля рисков для скважины 1: ', (values_1 < 0).mean() * 100, '%')"
   ]
  },
  {
   "cell_type": "code",
   "execution_count": 68,
   "id": "abe9c02c",
   "metadata": {},
   "outputs": [
    {
     "name": "stdout",
     "output_type": "stream",
     "text": [
      "Средняя прибыль: 420194005\n",
      "2,5%-квантиль:  -115852609\n",
      "97,5%-квантиль:  989629940\n",
      "Доля рисков для скважины 2:  6.2 %\n"
     ]
    }
   ],
   "source": [
    "target_valid_2 = target_valid_2.reset_index(drop=True)\n",
    "\n",
    "values_2 = []\n",
    "for i in range(1000):\n",
    "    target_subsample = target_valid_2.sample(n=500, replace=True, random_state=state)\n",
    "    predictions_subsample = predictions_valid_2.iloc[target_subsample.index]\n",
    "\n",
    "    values_2.append(profit(target_subsample,predictions_subsample, 200))\n",
    "\n",
    "\n",
    "\n",
    "values_2 = pd.Series(values_2)\n",
    "lower = values_2.quantile(0.025)\n",
    "upper = values_2.quantile(0.975)\n",
    "\n",
    "\n",
    "mean = values_2.mean()\n",
    "print(f\"Средняя прибыль: {mean:.0f}\" ) \n",
    "print(f\"2,5%-квантиль:  {lower:.0f}\")\n",
    "print(f\"97,5%-квантиль:  {upper:.0f}\")\n",
    "print('Доля рисков для скважины 2: ', (values_2 < 0).mean() * 100, '%')"
   ]
  },
  {
   "cell_type": "markdown",
   "id": "f51e2e8f",
   "metadata": {},
   "source": [
    "## Выводы по проекту\n",
    "\n",
    "\n",
    "1) Загрузка и подготовка данных\n",
    "\n",
    "Полученные исходные данные были для начала предобработаны, проверены на пропуски, выбросы, а также получено первое представление о распределении данных: получены гистограммы и матрицы корреляций.\n",
    "\n",
    "Далее данные были подготовлены к дальнейшему обучению модели линейной регрессии, они были разделены на тренировочную и валидационную выборки и стандартизированы.\n",
    "\n",
    "Для всех трех скважин было замечено, что в метриках f данные не всегда распределны нормально и сильно выбиваются. Далее это может способствовать увеличению среднеквадратической ошибки в исследуемом признаке. Также замечена сильная корреляция между метрикой f2 и целевым признаком. Это может говорить о наибольшем вкладе именно этой метрики.\n",
    "\n",
    "2) Обучение и проверка модели\n",
    "\n",
    "На данном этапе была обучена модель линейной регрессии. Для каждой скважины было получено стандартное отклонение и средний запас сырья в скважине\n",
    "\n",
    "RMSE модели линейной регрессии на валидационной выборке скважины 0: 37.5794217150813\n",
    "Средний запас предсказанного сырья скважины 0: 92.59256778438035\n",
    "\n",
    "RMSE модели линейной регрессии на валидационной выборке скважины 1: 0.893099286775617\n",
    "Средний запас предсказанного сырья скважины 1: 68.728546895446\n",
    "\n",
    "RMSE модели линейной регрессии на валидационной выборке скважины 2: 40.02970873393434\n",
    "Средний запас предсказанного сырья скважины 2: 94.96504596800489\n",
    "\n",
    "3) Подготовка к расчёту прибыли\n",
    "\n",
    "На данном этапе был рассчитан достаточный объём сырья для безубыточной разработки новой скважины: 111\n",
    "\n",
    "Если сравнивать это значение с предыдущим пунктом, можно заметить, что средний запас по всей скважине меньше, чем достаточный объем, поэтому нужные скважины необходимо точнее выбирать.\n",
    "\n",
    "4) Расчёт прибыли и рисков\n",
    "\n",
    "На данном этапе были написаны функции для расчётв прибыли и рисков, которые применялись в следующем этапе.\n",
    "\n",
    "5) Оценка рисков и прибыли для каждого региона\n",
    "\n",
    "Здесь была применена техника Bootstrap с 1000 выборок, для нахождения распределения прибыли.Найдена среднюю прибыль для каждой скважины, 95%-й доверительный интервал и риск убытков. Таким образом для каждой скважины:\n",
    "\n",
    "**Скважина 0:**\n",
    "\n",
    "Средняя прибыль: 425938527\n",
    "\n",
    "2,5%-квантиль:  -102090095\n",
    "\n",
    "97,5%-квантиль:  947976353\n",
    "\n",
    "Доля рисков для скважины 0:  6.0 %\n",
    "\n",
    "\n",
    "\n",
    "**Скважины 1**\n",
    "\n",
    "Средняя прибыль: 518259494\n",
    "\n",
    "2,5%-квантиль:  128123231\n",
    "\n",
    "97,5%-квантиль:  953612982\n",
    "\n",
    "Доля рисков для скважины 1:  0.3 %\n",
    "\n",
    "**Скважина 2**\n",
    "\n",
    "Средняя прибыль: 420194005\n",
    "\n",
    "2,5%-квантиль:  -115852609\n",
    "\n",
    "97,5%-квантиль:  989629940\n",
    "\n",
    "Доля рисков для скважины 2:  6.2 %\n",
    "\n",
    "\n",
    "### **Рекомендации**\n",
    "\n",
    "Наилучшей скважининой является скважина 1. Она имеет наименьший процент рисков - 0.3%. Остальные скважины имеют процент больший, чем 2.5%. Скважина 1 показывает среднее значение прибыли  518 259 494 рублей. \n",
    "\n",
    "\n"
   ]
  }
 ],
 "metadata": {
  "ExecuteTimeLog": [
   {
    "duration": 7449,
    "start_time": "2023-02-20T15:24:13.744Z"
   },
   {
    "duration": 143,
    "start_time": "2023-02-20T15:24:21.195Z"
   },
   {
    "duration": 0,
    "start_time": "2023-02-20T15:24:21.341Z"
   },
   {
    "duration": 0,
    "start_time": "2023-02-20T15:24:21.343Z"
   },
   {
    "duration": 0,
    "start_time": "2023-02-20T15:24:21.344Z"
   },
   {
    "duration": 0,
    "start_time": "2023-02-20T15:24:21.346Z"
   },
   {
    "duration": 0,
    "start_time": "2023-02-20T15:24:21.347Z"
   },
   {
    "duration": 0,
    "start_time": "2023-02-20T15:24:21.348Z"
   },
   {
    "duration": 0,
    "start_time": "2023-02-20T15:24:21.350Z"
   },
   {
    "duration": 0,
    "start_time": "2023-02-20T15:24:21.352Z"
   },
   {
    "duration": 0,
    "start_time": "2023-02-20T15:24:21.353Z"
   },
   {
    "duration": 0,
    "start_time": "2023-02-20T15:24:21.355Z"
   },
   {
    "duration": 0,
    "start_time": "2023-02-20T15:24:21.356Z"
   },
   {
    "duration": 0,
    "start_time": "2023-02-20T15:24:21.357Z"
   },
   {
    "duration": 0,
    "start_time": "2023-02-20T15:24:21.359Z"
   },
   {
    "duration": 0,
    "start_time": "2023-02-20T15:24:21.360Z"
   },
   {
    "duration": 0,
    "start_time": "2023-02-20T15:24:21.361Z"
   },
   {
    "duration": 0,
    "start_time": "2023-02-20T15:24:21.363Z"
   },
   {
    "duration": 0,
    "start_time": "2023-02-20T15:24:21.364Z"
   },
   {
    "duration": 0,
    "start_time": "2023-02-20T15:24:21.366Z"
   },
   {
    "duration": 0,
    "start_time": "2023-02-20T15:24:21.367Z"
   },
   {
    "duration": 0,
    "start_time": "2023-02-20T15:24:21.368Z"
   },
   {
    "duration": 0,
    "start_time": "2023-02-20T15:24:21.370Z"
   },
   {
    "duration": 0,
    "start_time": "2023-02-20T15:24:21.371Z"
   },
   {
    "duration": 0,
    "start_time": "2023-02-20T15:24:21.372Z"
   },
   {
    "duration": 0,
    "start_time": "2023-02-20T15:24:21.374Z"
   },
   {
    "duration": 0,
    "start_time": "2023-02-20T15:24:21.375Z"
   },
   {
    "duration": 0,
    "start_time": "2023-02-20T15:24:21.377Z"
   },
   {
    "duration": 0,
    "start_time": "2023-02-20T15:24:21.378Z"
   },
   {
    "duration": 0,
    "start_time": "2023-02-20T15:24:21.379Z"
   },
   {
    "duration": 0,
    "start_time": "2023-02-20T15:24:21.381Z"
   },
   {
    "duration": 0,
    "start_time": "2023-02-20T15:24:21.440Z"
   },
   {
    "duration": 1476,
    "start_time": "2023-02-22T07:33:23.779Z"
   },
   {
    "duration": 526,
    "start_time": "2023-02-22T07:33:25.257Z"
   },
   {
    "duration": 405,
    "start_time": "2023-02-22T07:33:25.961Z"
   },
   {
    "duration": 324,
    "start_time": "2023-02-22T07:33:26.368Z"
   },
   {
    "duration": 230,
    "start_time": "2023-02-22T07:33:26.694Z"
   },
   {
    "duration": 15,
    "start_time": "2023-02-22T07:33:26.926Z"
   },
   {
    "duration": 11,
    "start_time": "2023-02-22T07:33:26.943Z"
   },
   {
    "duration": 29,
    "start_time": "2023-02-22T07:33:27.172Z"
   },
   {
    "duration": 610,
    "start_time": "2023-02-22T07:33:27.630Z"
   },
   {
    "duration": 281,
    "start_time": "2023-02-22T07:33:28.242Z"
   },
   {
    "duration": 349,
    "start_time": "2023-02-22T07:33:28.525Z"
   },
   {
    "duration": 152,
    "start_time": "2023-02-22T07:33:28.877Z"
   },
   {
    "duration": 15,
    "start_time": "2023-02-22T07:33:29.030Z"
   },
   {
    "duration": 4,
    "start_time": "2023-02-22T07:33:29.047Z"
   },
   {
    "duration": 30,
    "start_time": "2023-02-22T07:33:29.220Z"
   },
   {
    "duration": 616,
    "start_time": "2023-02-22T07:33:29.594Z"
   },
   {
    "duration": 308,
    "start_time": "2023-02-22T07:33:30.213Z"
   },
   {
    "duration": 324,
    "start_time": "2023-02-22T07:33:30.522Z"
   },
   {
    "duration": 164,
    "start_time": "2023-02-22T07:33:30.847Z"
   },
   {
    "duration": 169,
    "start_time": "2023-02-22T07:33:31.013Z"
   },
   {
    "duration": 156,
    "start_time": "2023-02-22T07:33:31.184Z"
   },
   {
    "duration": 15,
    "start_time": "2023-02-22T07:33:31.342Z"
   },
   {
    "duration": 14,
    "start_time": "2023-02-22T07:33:31.358Z"
   },
   {
    "duration": 30,
    "start_time": "2023-02-22T07:33:31.587Z"
   },
   {
    "duration": 5,
    "start_time": "2023-02-22T07:33:34.311Z"
   },
   {
    "duration": 173,
    "start_time": "2023-02-22T07:33:35.152Z"
   },
   {
    "duration": 6,
    "start_time": "2023-02-22T07:33:53.211Z"
   },
   {
    "duration": 5,
    "start_time": "2023-02-22T07:37:11.327Z"
   },
   {
    "duration": 4,
    "start_time": "2023-02-22T07:37:14.017Z"
   },
   {
    "duration": 298,
    "start_time": "2023-02-22T07:37:18.682Z"
   },
   {
    "duration": 21,
    "start_time": "2023-02-22T07:41:15.704Z"
   },
   {
    "duration": 17,
    "start_time": "2023-02-22T07:42:32.670Z"
   },
   {
    "duration": 23,
    "start_time": "2023-02-22T07:46:27.528Z"
   },
   {
    "duration": 26,
    "start_time": "2023-02-22T07:46:44.822Z"
   },
   {
    "duration": 3,
    "start_time": "2023-02-22T07:55:05.864Z"
   },
   {
    "duration": 138,
    "start_time": "2023-02-22T07:55:07.033Z"
   },
   {
    "duration": 366,
    "start_time": "2023-02-22T07:55:07.906Z"
   },
   {
    "duration": 371,
    "start_time": "2023-02-22T07:55:08.275Z"
   },
   {
    "duration": 239,
    "start_time": "2023-02-22T07:55:08.648Z"
   },
   {
    "duration": 32,
    "start_time": "2023-02-22T07:55:08.889Z"
   },
   {
    "duration": 18,
    "start_time": "2023-02-22T07:55:08.980Z"
   },
   {
    "duration": 37,
    "start_time": "2023-02-22T07:55:09.011Z"
   },
   {
    "duration": 185,
    "start_time": "2023-02-22T07:55:09.081Z"
   },
   {
    "duration": 337,
    "start_time": "2023-02-22T07:55:09.268Z"
   },
   {
    "duration": 435,
    "start_time": "2023-02-22T07:55:09.607Z"
   },
   {
    "duration": 163,
    "start_time": "2023-02-22T07:55:10.044Z"
   },
   {
    "duration": 21,
    "start_time": "2023-02-22T07:55:10.208Z"
   },
   {
    "duration": 5,
    "start_time": "2023-02-22T07:55:10.231Z"
   },
   {
    "duration": 40,
    "start_time": "2023-02-22T07:55:10.238Z"
   },
   {
    "duration": 154,
    "start_time": "2023-02-22T07:55:10.281Z"
   },
   {
    "duration": 302,
    "start_time": "2023-02-22T07:55:10.437Z"
   },
   {
    "duration": 375,
    "start_time": "2023-02-22T07:55:10.742Z"
   },
   {
    "duration": 265,
    "start_time": "2023-02-22T07:55:11.121Z"
   },
   {
    "duration": 172,
    "start_time": "2023-02-22T07:55:11.387Z"
   },
   {
    "duration": 166,
    "start_time": "2023-02-22T07:55:11.560Z"
   },
   {
    "duration": 15,
    "start_time": "2023-02-22T07:55:11.728Z"
   },
   {
    "duration": 4,
    "start_time": "2023-02-22T07:55:11.745Z"
   },
   {
    "duration": 29,
    "start_time": "2023-02-22T07:55:11.751Z"
   },
   {
    "duration": 5,
    "start_time": "2023-02-22T07:55:12.977Z"
   },
   {
    "duration": 243,
    "start_time": "2023-02-22T07:55:13.297Z"
   },
   {
    "duration": 5,
    "start_time": "2023-02-22T07:55:23.480Z"
   },
   {
    "duration": 4,
    "start_time": "2023-02-22T07:55:28.873Z"
   },
   {
    "duration": 4,
    "start_time": "2023-02-22T07:55:30.349Z"
   },
   {
    "duration": 14,
    "start_time": "2023-02-22T07:55:36.816Z"
   },
   {
    "duration": 15,
    "start_time": "2023-02-22T07:55:37.628Z"
   },
   {
    "duration": 14,
    "start_time": "2023-02-22T07:55:52.246Z"
   },
   {
    "duration": 22,
    "start_time": "2023-02-22T07:55:52.619Z"
   },
   {
    "duration": 1305,
    "start_time": "2023-02-22T09:35:52.343Z"
   },
   {
    "duration": 544,
    "start_time": "2023-02-22T09:35:53.650Z"
   },
   {
    "duration": 365,
    "start_time": "2023-02-22T09:35:54.196Z"
   },
   {
    "duration": 343,
    "start_time": "2023-02-22T09:35:54.563Z"
   },
   {
    "duration": 168,
    "start_time": "2023-02-22T09:35:54.908Z"
   },
   {
    "duration": 14,
    "start_time": "2023-02-22T09:35:55.078Z"
   },
   {
    "duration": 12,
    "start_time": "2023-02-22T09:35:55.094Z"
   },
   {
    "duration": 56,
    "start_time": "2023-02-22T09:35:55.108Z"
   },
   {
    "duration": 232,
    "start_time": "2023-02-22T09:35:55.166Z"
   },
   {
    "duration": 325,
    "start_time": "2023-02-22T09:35:55.400Z"
   },
   {
    "duration": 467,
    "start_time": "2023-02-22T09:35:55.726Z"
   },
   {
    "duration": 165,
    "start_time": "2023-02-22T09:35:56.195Z"
   },
   {
    "duration": 16,
    "start_time": "2023-02-22T09:35:56.362Z"
   },
   {
    "duration": 4,
    "start_time": "2023-02-22T09:35:56.382Z"
   },
   {
    "duration": 32,
    "start_time": "2023-02-22T09:35:56.388Z"
   },
   {
    "duration": 229,
    "start_time": "2023-02-22T09:35:56.421Z"
   },
   {
    "duration": 303,
    "start_time": "2023-02-22T09:35:56.652Z"
   },
   {
    "duration": 375,
    "start_time": "2023-02-22T09:35:56.957Z"
   },
   {
    "duration": 185,
    "start_time": "2023-02-22T09:35:57.334Z"
   },
   {
    "duration": 171,
    "start_time": "2023-02-22T09:35:57.521Z"
   },
   {
    "duration": 178,
    "start_time": "2023-02-22T09:35:57.694Z"
   },
   {
    "duration": 25,
    "start_time": "2023-02-22T09:35:57.874Z"
   },
   {
    "duration": 6,
    "start_time": "2023-02-22T09:35:57.902Z"
   },
   {
    "duration": 48,
    "start_time": "2023-02-22T09:35:57.910Z"
   },
   {
    "duration": 5,
    "start_time": "2023-02-22T09:35:57.960Z"
   },
   {
    "duration": 378,
    "start_time": "2023-02-22T09:35:57.966Z"
   },
   {
    "duration": 94,
    "start_time": "2023-02-22T09:35:58.347Z"
   },
   {
    "duration": 4,
    "start_time": "2023-02-22T09:35:58.442Z"
   },
   {
    "duration": 7,
    "start_time": "2023-02-22T09:35:58.449Z"
   },
   {
    "duration": 167,
    "start_time": "2023-02-22T09:35:58.458Z"
   },
   {
    "duration": 0,
    "start_time": "2023-02-22T09:35:58.627Z"
   },
   {
    "duration": 0,
    "start_time": "2023-02-22T09:35:58.629Z"
   },
   {
    "duration": 0,
    "start_time": "2023-02-22T09:35:58.631Z"
   },
   {
    "duration": 19,
    "start_time": "2023-02-22T09:36:10.892Z"
   },
   {
    "duration": 1550,
    "start_time": "2023-02-22T09:36:20.759Z"
   },
   {
    "duration": 18,
    "start_time": "2023-02-22T09:37:12.688Z"
   },
   {
    "duration": 1741,
    "start_time": "2023-02-22T09:44:47.744Z"
   },
   {
    "duration": 504,
    "start_time": "2023-02-22T09:44:49.487Z"
   },
   {
    "duration": 398,
    "start_time": "2023-02-22T09:44:49.993Z"
   },
   {
    "duration": 426,
    "start_time": "2023-02-22T09:44:50.393Z"
   },
   {
    "duration": 261,
    "start_time": "2023-02-22T09:44:50.820Z"
   },
   {
    "duration": 15,
    "start_time": "2023-02-22T09:44:51.083Z"
   },
   {
    "duration": 27,
    "start_time": "2023-02-22T09:44:51.100Z"
   },
   {
    "duration": 65,
    "start_time": "2023-02-22T09:44:51.129Z"
   },
   {
    "duration": 699,
    "start_time": "2023-02-22T09:44:51.196Z"
   },
   {
    "duration": 322,
    "start_time": "2023-02-22T09:44:51.897Z"
   },
   {
    "duration": 391,
    "start_time": "2023-02-22T09:44:52.220Z"
   },
   {
    "duration": 180,
    "start_time": "2023-02-22T09:44:52.613Z"
   },
   {
    "duration": 14,
    "start_time": "2023-02-22T09:44:52.795Z"
   },
   {
    "duration": 4,
    "start_time": "2023-02-22T09:44:52.811Z"
   },
   {
    "duration": 55,
    "start_time": "2023-02-22T09:44:52.817Z"
   },
   {
    "duration": 664,
    "start_time": "2023-02-22T09:44:52.874Z"
   },
   {
    "duration": 355,
    "start_time": "2023-02-22T09:44:53.540Z"
   },
   {
    "duration": 383,
    "start_time": "2023-02-22T09:44:53.897Z"
   },
   {
    "duration": 201,
    "start_time": "2023-02-22T09:44:54.281Z"
   },
   {
    "duration": 189,
    "start_time": "2023-02-22T09:44:54.485Z"
   },
   {
    "duration": 174,
    "start_time": "2023-02-22T09:44:54.676Z"
   },
   {
    "duration": 24,
    "start_time": "2023-02-22T09:44:54.852Z"
   },
   {
    "duration": 15,
    "start_time": "2023-02-22T09:44:54.877Z"
   },
   {
    "duration": 37,
    "start_time": "2023-02-22T09:44:54.893Z"
   },
   {
    "duration": 3,
    "start_time": "2023-02-22T09:44:54.932Z"
   },
   {
    "duration": 336,
    "start_time": "2023-02-22T09:44:54.937Z"
   },
   {
    "duration": 88,
    "start_time": "2023-02-22T09:44:55.275Z"
   },
   {
    "duration": 133,
    "start_time": "2023-02-22T09:44:55.369Z"
   },
   {
    "duration": 32,
    "start_time": "2023-02-22T09:44:55.504Z"
   },
   {
    "duration": 1677,
    "start_time": "2023-02-22T09:44:55.538Z"
   },
   {
    "duration": 1653,
    "start_time": "2023-02-22T10:01:31.908Z"
   },
   {
    "duration": 1568,
    "start_time": "2023-02-22T10:05:22.671Z"
   },
   {
    "duration": 1538,
    "start_time": "2023-02-22T10:05:32.777Z"
   },
   {
    "duration": 1573,
    "start_time": "2023-02-22T10:07:14.718Z"
   },
   {
    "duration": 1661,
    "start_time": "2023-02-22T10:08:20.789Z"
   },
   {
    "duration": 1715,
    "start_time": "2023-02-22T10:08:22.456Z"
   },
   {
    "duration": 6,
    "start_time": "2023-02-22T10:40:11.548Z"
   },
   {
    "duration": 176,
    "start_time": "2023-02-22T10:40:12.305Z"
   },
   {
    "duration": 377,
    "start_time": "2023-02-22T10:40:13.028Z"
   },
   {
    "duration": 420,
    "start_time": "2023-02-22T10:40:13.408Z"
   },
   {
    "duration": 185,
    "start_time": "2023-02-22T10:40:13.829Z"
   },
   {
    "duration": 15,
    "start_time": "2023-02-22T10:40:14.016Z"
   },
   {
    "duration": 24,
    "start_time": "2023-02-22T10:40:14.046Z"
   },
   {
    "duration": 29,
    "start_time": "2023-02-22T10:40:14.178Z"
   },
   {
    "duration": 185,
    "start_time": "2023-02-22T10:40:14.569Z"
   },
   {
    "duration": 308,
    "start_time": "2023-02-22T10:40:14.780Z"
   },
   {
    "duration": 419,
    "start_time": "2023-02-22T10:40:15.119Z"
   },
   {
    "duration": 193,
    "start_time": "2023-02-22T10:40:15.540Z"
   },
   {
    "duration": 39,
    "start_time": "2023-02-22T10:40:15.736Z"
   },
   {
    "duration": 6,
    "start_time": "2023-02-22T10:40:16.068Z"
   },
   {
    "duration": 32,
    "start_time": "2023-02-22T10:40:16.418Z"
   },
   {
    "duration": 173,
    "start_time": "2023-02-22T10:40:17.098Z"
   },
   {
    "duration": 334,
    "start_time": "2023-02-22T10:40:17.344Z"
   },
   {
    "duration": 513,
    "start_time": "2023-02-22T10:40:17.683Z"
   },
   {
    "duration": 224,
    "start_time": "2023-02-22T10:40:18.200Z"
   },
   {
    "duration": 197,
    "start_time": "2023-02-22T10:40:18.426Z"
   },
   {
    "duration": 183,
    "start_time": "2023-02-22T10:40:18.677Z"
   },
   {
    "duration": 16,
    "start_time": "2023-02-22T10:40:18.922Z"
   },
   {
    "duration": 8,
    "start_time": "2023-02-22T10:40:19.169Z"
   },
   {
    "duration": 27,
    "start_time": "2023-02-22T10:40:19.388Z"
   },
   {
    "duration": 9,
    "start_time": "2023-02-22T10:40:21.066Z"
   },
   {
    "duration": 180,
    "start_time": "2023-02-22T10:40:21.296Z"
   },
   {
    "duration": 8,
    "start_time": "2023-02-22T10:40:23.669Z"
   },
   {
    "duration": 3,
    "start_time": "2023-02-22T10:40:27.888Z"
   },
   {
    "duration": 3,
    "start_time": "2023-02-22T10:40:29.132Z"
   },
   {
    "duration": 1620,
    "start_time": "2023-02-22T10:40:33.101Z"
   },
   {
    "duration": 1635,
    "start_time": "2023-02-22T10:40:37.019Z"
   },
   {
    "duration": 1586,
    "start_time": "2023-02-22T10:40:45.957Z"
   }
  ],
  "kernelspec": {
   "display_name": "Python 3 (ipykernel)",
   "language": "python",
   "name": "python3"
  },
  "language_info": {
   "codemirror_mode": {
    "name": "ipython",
    "version": 3
   },
   "file_extension": ".py",
   "mimetype": "text/x-python",
   "name": "python",
   "nbconvert_exporter": "python",
   "pygments_lexer": "ipython3",
   "version": "3.9.13"
  },
  "toc": {
   "base_numbering": 1,
   "nav_menu": {},
   "number_sections": true,
   "sideBar": true,
   "skip_h1_title": true,
   "title_cell": "Table of Contents",
   "title_sidebar": "Contents",
   "toc_cell": false,
   "toc_position": {},
   "toc_section_display": true,
   "toc_window_display": false
  }
 },
 "nbformat": 4,
 "nbformat_minor": 5
}
