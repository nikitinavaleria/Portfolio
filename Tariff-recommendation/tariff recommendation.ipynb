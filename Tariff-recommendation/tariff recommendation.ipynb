{
 "cells": [
  {
   "cell_type": "markdown",
   "metadata": {},
   "source": [
    "# Рекомендация тарифов"
   ]
  },
  {
   "cell_type": "code",
   "execution_count": 1,
   "metadata": {
    "deletable": false
   },
   "outputs": [],
   "source": [
    "import pandas as pd\n",
    "import numpy as np\n",
    "from scipy import stats as st"
   ]
  },
  {
   "cell_type": "code",
   "execution_count": 2,
   "metadata": {
    "deletable": false
   },
   "outputs": [],
   "source": [
    "calls = pd.read_csv('./calls.csv')"
   ]
  },
  {
   "cell_type": "code",
   "execution_count": 3,
   "metadata": {
    "deletable": false
   },
   "outputs": [
    {
     "data": {
      "text/html": [
       "<div>\n",
       "<style scoped>\n",
       "    .dataframe tbody tr th:only-of-type {\n",
       "        vertical-align: middle;\n",
       "    }\n",
       "\n",
       "    .dataframe tbody tr th {\n",
       "        vertical-align: top;\n",
       "    }\n",
       "\n",
       "    .dataframe thead th {\n",
       "        text-align: right;\n",
       "    }\n",
       "</style>\n",
       "<table border=\"1\" class=\"dataframe\">\n",
       "  <thead>\n",
       "    <tr style=\"text-align: right;\">\n",
       "      <th></th>\n",
       "      <th>id</th>\n",
       "      <th>call_date</th>\n",
       "      <th>duration</th>\n",
       "      <th>user_id</th>\n",
       "    </tr>\n",
       "  </thead>\n",
       "  <tbody>\n",
       "    <tr>\n",
       "      <th>0</th>\n",
       "      <td>1000_0</td>\n",
       "      <td>2018-07-25</td>\n",
       "      <td>0.00</td>\n",
       "      <td>1000</td>\n",
       "    </tr>\n",
       "    <tr>\n",
       "      <th>1</th>\n",
       "      <td>1000_1</td>\n",
       "      <td>2018-08-17</td>\n",
       "      <td>0.00</td>\n",
       "      <td>1000</td>\n",
       "    </tr>\n",
       "    <tr>\n",
       "      <th>2</th>\n",
       "      <td>1000_2</td>\n",
       "      <td>2018-06-11</td>\n",
       "      <td>2.85</td>\n",
       "      <td>1000</td>\n",
       "    </tr>\n",
       "    <tr>\n",
       "      <th>3</th>\n",
       "      <td>1000_3</td>\n",
       "      <td>2018-09-21</td>\n",
       "      <td>13.80</td>\n",
       "      <td>1000</td>\n",
       "    </tr>\n",
       "    <tr>\n",
       "      <th>4</th>\n",
       "      <td>1000_4</td>\n",
       "      <td>2018-12-15</td>\n",
       "      <td>5.18</td>\n",
       "      <td>1000</td>\n",
       "    </tr>\n",
       "  </tbody>\n",
       "</table>\n",
       "</div>"
      ],
      "text/plain": [
       "       id   call_date  duration  user_id\n",
       "0  1000_0  2018-07-25      0.00     1000\n",
       "1  1000_1  2018-08-17      0.00     1000\n",
       "2  1000_2  2018-06-11      2.85     1000\n",
       "3  1000_3  2018-09-21     13.80     1000\n",
       "4  1000_4  2018-12-15      5.18     1000"
      ]
     },
     "execution_count": 3,
     "metadata": {},
     "output_type": "execute_result"
    }
   ],
   "source": [
    "calls.head(5)"
   ]
  },
  {
   "cell_type": "code",
   "execution_count": 4,
   "metadata": {
    "deletable": false
   },
   "outputs": [
    {
     "name": "stdout",
     "output_type": "stream",
     "text": [
      "<class 'pandas.core.frame.DataFrame'>\n",
      "RangeIndex: 202607 entries, 0 to 202606\n",
      "Data columns (total 4 columns):\n",
      " #   Column     Non-Null Count   Dtype  \n",
      "---  ------     --------------   -----  \n",
      " 0   id         202607 non-null  object \n",
      " 1   call_date  202607 non-null  object \n",
      " 2   duration   202607 non-null  float64\n",
      " 3   user_id    202607 non-null  int64  \n",
      "dtypes: float64(1), int64(1), object(2)\n",
      "memory usage: 6.2+ MB\n"
     ]
    }
   ],
   "source": [
    "calls.info()"
   ]
  },
  {
   "cell_type": "markdown",
   "metadata": {
    "deletable": false,
    "editable": false,
    "tags": [
     "start_task"
    ]
   },
   "source": [
    "Выведем гистограмму для столбца с продолжительностью звонков."
   ]
  },
  {
   "cell_type": "code",
   "execution_count": 5,
   "metadata": {
    "deletable": false
   },
   "outputs": [
    {
     "data": {
      "text/plain": [
       "<AxesSubplot:>"
      ]
     },
     "execution_count": 5,
     "metadata": {},
     "output_type": "execute_result"
    },
    {
     "data": {
      "image/png": "[encoded data removed]",
      "text/plain": [
       "<Figure size 432x288 with 1 Axes>"
      ]
     },
     "metadata": {
      "needs_background": "light"
     },
     "output_type": "display_data"
    }
   ],
   "source": [
    "calls['duration'].hist()\n"
   ]
  },
  {
   "cell_type": "markdown",
   "metadata": {},
   "source": [
    "Поработаем со второй таблицей"
   ]
  },
  {
   "cell_type": "code",
   "execution_count": 6,
   "metadata": {
    "deletable": false
   },
   "outputs": [],
   "source": [
    "sessions = pd.read_csv('./internet.csv')"
   ]
  },
  {
   "cell_type": "code",
   "execution_count": 7,
   "metadata": {
    "deletable": false
   },
   "outputs": [
    {
     "data": {
      "text/html": [
       "<div>\n",
       "<style scoped>\n",
       "    .dataframe tbody tr th:only-of-type {\n",
       "        vertical-align: middle;\n",
       "    }\n",
       "\n",
       "    .dataframe tbody tr th {\n",
       "        vertical-align: top;\n",
       "    }\n",
       "\n",
       "    .dataframe thead th {\n",
       "        text-align: right;\n",
       "    }\n",
       "</style>\n",
       "<table border=\"1\" class=\"dataframe\">\n",
       "  <thead>\n",
       "    <tr style=\"text-align: right;\">\n",
       "      <th></th>\n",
       "      <th>Unnamed: 0</th>\n",
       "      <th>id</th>\n",
       "      <th>mb_used</th>\n",
       "      <th>session_date</th>\n",
       "      <th>user_id</th>\n",
       "    </tr>\n",
       "  </thead>\n",
       "  <tbody>\n",
       "    <tr>\n",
       "      <th>0</th>\n",
       "      <td>0</td>\n",
       "      <td>1000_0</td>\n",
       "      <td>112.95</td>\n",
       "      <td>2018-11-25</td>\n",
       "      <td>1000</td>\n",
       "    </tr>\n",
       "    <tr>\n",
       "      <th>1</th>\n",
       "      <td>1</td>\n",
       "      <td>1000_1</td>\n",
       "      <td>1052.81</td>\n",
       "      <td>2018-09-07</td>\n",
       "      <td>1000</td>\n",
       "    </tr>\n",
       "    <tr>\n",
       "      <th>2</th>\n",
       "      <td>2</td>\n",
       "      <td>1000_2</td>\n",
       "      <td>1197.26</td>\n",
       "      <td>2018-06-25</td>\n",
       "      <td>1000</td>\n",
       "    </tr>\n",
       "    <tr>\n",
       "      <th>3</th>\n",
       "      <td>3</td>\n",
       "      <td>1000_3</td>\n",
       "      <td>550.27</td>\n",
       "      <td>2018-08-22</td>\n",
       "      <td>1000</td>\n",
       "    </tr>\n",
       "    <tr>\n",
       "      <th>4</th>\n",
       "      <td>4</td>\n",
       "      <td>1000_4</td>\n",
       "      <td>302.56</td>\n",
       "      <td>2018-09-24</td>\n",
       "      <td>1000</td>\n",
       "    </tr>\n",
       "  </tbody>\n",
       "</table>\n",
       "</div>"
      ],
      "text/plain": [
       "   Unnamed: 0      id  mb_used session_date  user_id\n",
       "0           0  1000_0   112.95   2018-11-25     1000\n",
       "1           1  1000_1  1052.81   2018-09-07     1000\n",
       "2           2  1000_2  1197.26   2018-06-25     1000\n",
       "3           3  1000_3   550.27   2018-08-22     1000\n",
       "4           4  1000_4   302.56   2018-09-24     1000"
      ]
     },
     "execution_count": 7,
     "metadata": {},
     "output_type": "execute_result"
    }
   ],
   "source": [
    "sessions.head(5)"
   ]
  },
  {
   "cell_type": "code",
   "execution_count": 8,
   "metadata": {
    "deletable": false
   },
   "outputs": [
    {
     "name": "stdout",
     "output_type": "stream",
     "text": [
      "<class 'pandas.core.frame.DataFrame'>\n",
      "RangeIndex: 149396 entries, 0 to 149395\n",
      "Data columns (total 5 columns):\n",
      " #   Column        Non-Null Count   Dtype  \n",
      "---  ------        --------------   -----  \n",
      " 0   Unnamed: 0    149396 non-null  int64  \n",
      " 1   id            149396 non-null  object \n",
      " 2   mb_used       149396 non-null  float64\n",
      " 3   session_date  149396 non-null  object \n",
      " 4   user_id       149396 non-null  int64  \n",
      "dtypes: float64(1), int64(2), object(2)\n",
      "memory usage: 5.7+ MB\n"
     ]
    }
   ],
   "source": [
    "sessions.info()"
   ]
  },
  {
   "cell_type": "markdown",
   "metadata": {
    "deletable": false,
    "editable": false,
    "tags": [
     "start_task"
    ]
   },
   "source": [
    "Выведем гистограмму для столбца с количеством потраченных мегабайт."
   ]
  },
  {
   "cell_type": "code",
   "execution_count": 9,
   "metadata": {
    "deletable": false
   },
   "outputs": [
    {
     "data": {
      "text/plain": [
       "<AxesSubplot:>"
      ]
     },
     "execution_count": 9,
     "metadata": {},
     "output_type": "execute_result"
    },
    {
     "data": {
      "image/png": "[encoded data removed]",
      "text/plain": [
       "<Figure size 432x288 with 1 Axes>"
      ]
     },
     "metadata": {
      "needs_background": "light"
     },
     "output_type": "display_data"
    }
   ],
   "source": [
    "sessions['mb_used'].hist()"
   ]
  },
  {
   "cell_type": "markdown",
   "metadata": {
    "deletable": false,
    "editable": false,
    "tags": [
     "start_task"
    ]
   },
   "source": [
    "Поработаем с таблицой с сообщениями"
   ]
  },
  {
   "cell_type": "code",
   "execution_count": 10,
   "metadata": {
    "deletable": false
   },
   "outputs": [],
   "source": [
    "messages = pd.read_csv('./messages.csv')"
   ]
  },
  {
   "cell_type": "code",
   "execution_count": 11,
   "metadata": {
    "deletable": false
   },
   "outputs": [
    {
     "data": {
      "text/html": [
       "<div>\n",
       "<style scoped>\n",
       "    .dataframe tbody tr th:only-of-type {\n",
       "        vertical-align: middle;\n",
       "    }\n",
       "\n",
       "    .dataframe tbody tr th {\n",
       "        vertical-align: top;\n",
       "    }\n",
       "\n",
       "    .dataframe thead th {\n",
       "        text-align: right;\n",
       "    }\n",
       "</style>\n",
       "<table border=\"1\" class=\"dataframe\">\n",
       "  <thead>\n",
       "    <tr style=\"text-align: right;\">\n",
       "      <th></th>\n",
       "      <th>id</th>\n",
       "      <th>message_date</th>\n",
       "      <th>user_id</th>\n",
       "    </tr>\n",
       "  </thead>\n",
       "  <tbody>\n",
       "    <tr>\n",
       "      <th>0</th>\n",
       "      <td>1000_0</td>\n",
       "      <td>2018-06-27</td>\n",
       "      <td>1000</td>\n",
       "    </tr>\n",
       "    <tr>\n",
       "      <th>1</th>\n",
       "      <td>1000_1</td>\n",
       "      <td>2018-10-08</td>\n",
       "      <td>1000</td>\n",
       "    </tr>\n",
       "    <tr>\n",
       "      <th>2</th>\n",
       "      <td>1000_2</td>\n",
       "      <td>2018-08-04</td>\n",
       "      <td>1000</td>\n",
       "    </tr>\n",
       "    <tr>\n",
       "      <th>3</th>\n",
       "      <td>1000_3</td>\n",
       "      <td>2018-06-16</td>\n",
       "      <td>1000</td>\n",
       "    </tr>\n",
       "    <tr>\n",
       "      <th>4</th>\n",
       "      <td>1000_4</td>\n",
       "      <td>2018-12-05</td>\n",
       "      <td>1000</td>\n",
       "    </tr>\n",
       "  </tbody>\n",
       "</table>\n",
       "</div>"
      ],
      "text/plain": [
       "       id message_date  user_id\n",
       "0  1000_0   2018-06-27     1000\n",
       "1  1000_1   2018-10-08     1000\n",
       "2  1000_2   2018-08-04     1000\n",
       "3  1000_3   2018-06-16     1000\n",
       "4  1000_4   2018-12-05     1000"
      ]
     },
     "execution_count": 11,
     "metadata": {},
     "output_type": "execute_result"
    }
   ],
   "source": [
    "messages.head(5)"
   ]
  },
  {
   "cell_type": "code",
   "execution_count": 12,
   "metadata": {
    "deletable": false
   },
   "outputs": [
    {
     "name": "stdout",
     "output_type": "stream",
     "text": [
      "<class 'pandas.core.frame.DataFrame'>\n",
      "RangeIndex: 123036 entries, 0 to 123035\n",
      "Data columns (total 3 columns):\n",
      " #   Column        Non-Null Count   Dtype \n",
      "---  ------        --------------   ----- \n",
      " 0   id            123036 non-null  object\n",
      " 1   message_date  123036 non-null  object\n",
      " 2   user_id       123036 non-null  int64 \n",
      "dtypes: int64(1), object(2)\n",
      "memory usage: 2.8+ MB\n"
     ]
    }
   ],
   "source": [
    "messages.info()"
   ]
  },
  {
   "cell_type": "markdown",
   "metadata": {
    "deletable": false,
    "editable": false,
    "tags": [
     "start_task"
    ]
   },
   "source": [
    "Поработаем с таблицой с тарифами"
   ]
  },
  {
   "cell_type": "code",
   "execution_count": 13,
   "metadata": {
    "deletable": false
   },
   "outputs": [],
   "source": [
    "tariffs = pd.read_csv('/datasets/tariffs.csv')"
   ]
  },
  {
   "cell_type": "code",
   "execution_count": 14,
   "metadata": {
    "deletable": false
   },
   "outputs": [
    {
     "data": {
      "text/html": [
       "<div>\n",
       "<style scoped>\n",
       "    .dataframe tbody tr th:only-of-type {\n",
       "        vertical-align: middle;\n",
       "    }\n",
       "\n",
       "    .dataframe tbody tr th {\n",
       "        vertical-align: top;\n",
       "    }\n",
       "\n",
       "    .dataframe thead th {\n",
       "        text-align: right;\n",
       "    }\n",
       "</style>\n",
       "<table border=\"1\" class=\"dataframe\">\n",
       "  <thead>\n",
       "    <tr style=\"text-align: right;\">\n",
       "      <th></th>\n",
       "      <th>messages_included</th>\n",
       "      <th>mb_per_month_included</th>\n",
       "      <th>minutes_included</th>\n",
       "      <th>rub_monthly_fee</th>\n",
       "      <th>rub_per_gb</th>\n",
       "      <th>rub_per_message</th>\n",
       "      <th>rub_per_minute</th>\n",
       "      <th>tariff_name</th>\n",
       "    </tr>\n",
       "  </thead>\n",
       "  <tbody>\n",
       "    <tr>\n",
       "      <th>0</th>\n",
       "      <td>50</td>\n",
       "      <td>15360</td>\n",
       "      <td>500</td>\n",
       "      <td>550</td>\n",
       "      <td>200</td>\n",
       "      <td>3</td>\n",
       "      <td>3</td>\n",
       "      <td>smart</td>\n",
       "    </tr>\n",
       "    <tr>\n",
       "      <th>1</th>\n",
       "      <td>1000</td>\n",
       "      <td>30720</td>\n",
       "      <td>3000</td>\n",
       "      <td>1950</td>\n",
       "      <td>150</td>\n",
       "      <td>1</td>\n",
       "      <td>1</td>\n",
       "      <td>ultra</td>\n",
       "    </tr>\n",
       "  </tbody>\n",
       "</table>\n",
       "</div>"
      ],
      "text/plain": [
       "   messages_included  mb_per_month_included  minutes_included  \\\n",
       "0                 50                  15360               500   \n",
       "1               1000                  30720              3000   \n",
       "\n",
       "   rub_monthly_fee  rub_per_gb  rub_per_message  rub_per_minute tariff_name  \n",
       "0              550         200                3               3       smart  \n",
       "1             1950         150                1               1       ultra  "
      ]
     },
     "execution_count": 14,
     "metadata": {},
     "output_type": "execute_result"
    }
   ],
   "source": [
    "tariffs"
   ]
  },
  {
   "cell_type": "code",
   "execution_count": 15,
   "metadata": {
    "deletable": false
   },
   "outputs": [
    {
     "name": "stdout",
     "output_type": "stream",
     "text": [
      "<class 'pandas.core.frame.DataFrame'>\n",
      "RangeIndex: 2 entries, 0 to 1\n",
      "Data columns (total 8 columns):\n",
      " #   Column                 Non-Null Count  Dtype \n",
      "---  ------                 --------------  ----- \n",
      " 0   messages_included      2 non-null      int64 \n",
      " 1   mb_per_month_included  2 non-null      int64 \n",
      " 2   minutes_included       2 non-null      int64 \n",
      " 3   rub_monthly_fee        2 non-null      int64 \n",
      " 4   rub_per_gb             2 non-null      int64 \n",
      " 5   rub_per_message        2 non-null      int64 \n",
      " 6   rub_per_minute         2 non-null      int64 \n",
      " 7   tariff_name            2 non-null      object\n",
      "dtypes: int64(7), object(1)\n",
      "memory usage: 256.0+ bytes\n"
     ]
    }
   ],
   "source": [
    "tariffs.info()"
   ]
  },
  {
   "cell_type": "markdown",
   "metadata": {
    "deletable": false,
    "editable": false,
    "tags": [
     "start_task"
    ]
   },
   "source": [
    "Посмотрим пользователей"
   ]
  },
  {
   "cell_type": "code",
   "execution_count": 16,
   "metadata": {
    "deletable": false
   },
   "outputs": [],
   "source": [
    "users = pd.read_csv('/users.csv')"
   ]
  },
  {
   "cell_type": "code",
   "execution_count": 17,
   "metadata": {
    "deletable": false,
    "scrolled": true
   },
   "outputs": [
    {
     "data": {
      "text/html": [
       "<div>\n",
       "<style scoped>\n",
       "    .dataframe tbody tr th:only-of-type {\n",
       "        vertical-align: middle;\n",
       "    }\n",
       "\n",
       "    .dataframe tbody tr th {\n",
       "        vertical-align: top;\n",
       "    }\n",
       "\n",
       "    .dataframe thead th {\n",
       "        text-align: right;\n",
       "    }\n",
       "</style>\n",
       "<table border=\"1\" class=\"dataframe\">\n",
       "  <thead>\n",
       "    <tr style=\"text-align: right;\">\n",
       "      <th></th>\n",
       "      <th>user_id</th>\n",
       "      <th>age</th>\n",
       "      <th>churn_date</th>\n",
       "      <th>city</th>\n",
       "      <th>first_name</th>\n",
       "      <th>last_name</th>\n",
       "      <th>reg_date</th>\n",
       "      <th>tariff</th>\n",
       "    </tr>\n",
       "  </thead>\n",
       "  <tbody>\n",
       "    <tr>\n",
       "      <th>0</th>\n",
       "      <td>1000</td>\n",
       "      <td>52</td>\n",
       "      <td>NaN</td>\n",
       "      <td>Краснодар</td>\n",
       "      <td>Рафаил</td>\n",
       "      <td>Верещагин</td>\n",
       "      <td>2018-05-25</td>\n",
       "      <td>ultra</td>\n",
       "    </tr>\n",
       "    <tr>\n",
       "      <th>1</th>\n",
       "      <td>1001</td>\n",
       "      <td>41</td>\n",
       "      <td>NaN</td>\n",
       "      <td>Москва</td>\n",
       "      <td>Иван</td>\n",
       "      <td>Ежов</td>\n",
       "      <td>2018-11-01</td>\n",
       "      <td>smart</td>\n",
       "    </tr>\n",
       "    <tr>\n",
       "      <th>2</th>\n",
       "      <td>1002</td>\n",
       "      <td>59</td>\n",
       "      <td>NaN</td>\n",
       "      <td>Стерлитамак</td>\n",
       "      <td>Евгений</td>\n",
       "      <td>Абрамович</td>\n",
       "      <td>2018-06-17</td>\n",
       "      <td>smart</td>\n",
       "    </tr>\n",
       "    <tr>\n",
       "      <th>3</th>\n",
       "      <td>1003</td>\n",
       "      <td>23</td>\n",
       "      <td>NaN</td>\n",
       "      <td>Москва</td>\n",
       "      <td>Белла</td>\n",
       "      <td>Белякова</td>\n",
       "      <td>2018-08-17</td>\n",
       "      <td>ultra</td>\n",
       "    </tr>\n",
       "    <tr>\n",
       "      <th>4</th>\n",
       "      <td>1004</td>\n",
       "      <td>68</td>\n",
       "      <td>NaN</td>\n",
       "      <td>Новокузнецк</td>\n",
       "      <td>Татьяна</td>\n",
       "      <td>Авдеенко</td>\n",
       "      <td>2018-05-14</td>\n",
       "      <td>ultra</td>\n",
       "    </tr>\n",
       "  </tbody>\n",
       "</table>\n",
       "</div>"
      ],
      "text/plain": [
       "   user_id  age churn_date         city first_name  last_name    reg_date  \\\n",
       "0     1000   52        NaN    Краснодар     Рафаил  Верещагин  2018-05-25   \n",
       "1     1001   41        NaN       Москва       Иван       Ежов  2018-11-01   \n",
       "2     1002   59        NaN  Стерлитамак    Евгений  Абрамович  2018-06-17   \n",
       "3     1003   23        NaN       Москва      Белла   Белякова  2018-08-17   \n",
       "4     1004   68        NaN  Новокузнецк    Татьяна   Авдеенко  2018-05-14   \n",
       "\n",
       "  tariff  \n",
       "0  ultra  \n",
       "1  smart  \n",
       "2  smart  \n",
       "3  ultra  \n",
       "4  ultra  "
      ]
     },
     "execution_count": 17,
     "metadata": {},
     "output_type": "execute_result"
    }
   ],
   "source": [
    "users.head(5)"
   ]
  },
  {
   "cell_type": "code",
   "execution_count": 18,
   "metadata": {},
   "outputs": [
    {
     "data": {
      "text/plain": [
       "array([nan, '2018-10-05', '2018-12-18', '2018-11-21', '2018-10-03',\n",
       "       '2018-10-14', '2018-12-09', '2018-12-11', '2018-12-26',\n",
       "       '2018-08-31', '2018-12-03', '2018-12-23', '2018-11-07',\n",
       "       '2018-12-16', '2018-12-20', '2018-11-30', '2018-12-21',\n",
       "       '2018-08-17', '2018-09-02', '2018-10-04', '2018-11-13',\n",
       "       '2018-11-22', '2018-10-28', '2018-11-26', '2018-11-27',\n",
       "       '2018-11-16', '2018-10-27', '2018-12-30', '2018-09-27',\n",
       "       '2018-12-25', '2018-12-14', '2018-12-24', '2018-09-26',\n",
       "       '2018-10-25'], dtype=object)"
      ]
     },
     "execution_count": 18,
     "metadata": {},
     "output_type": "execute_result"
    }
   ],
   "source": [
    "users['churn_date'].unique()"
   ]
  },
  {
   "cell_type": "code",
   "execution_count": 19,
   "metadata": {
    "deletable": false
   },
   "outputs": [
    {
     "name": "stdout",
     "output_type": "stream",
     "text": [
      "<class 'pandas.core.frame.DataFrame'>\n",
      "RangeIndex: 500 entries, 0 to 499\n",
      "Data columns (total 8 columns):\n",
      " #   Column      Non-Null Count  Dtype \n",
      "---  ------      --------------  ----- \n",
      " 0   user_id     500 non-null    int64 \n",
      " 1   age         500 non-null    int64 \n",
      " 2   churn_date  38 non-null     object\n",
      " 3   city        500 non-null    object\n",
      " 4   first_name  500 non-null    object\n",
      " 5   last_name   500 non-null    object\n",
      " 6   reg_date    500 non-null    object\n",
      " 7   tariff      500 non-null    object\n",
      "dtypes: int64(2), object(6)\n",
      "memory usage: 31.4+ KB\n"
     ]
    }
   ],
   "source": [
    "users.info()"
   ]
  },
  {
   "cell_type": "markdown",
   "metadata": {
    "deletable": false,
    "editable": false,
    "tags": [
     "start_task"
    ]
   },
   "source": [
    "Приведем столбцы\n",
    "\n",
    "- `reg_date` из таблицы `users`\n",
    "- `churn_date` из таблицы `users`\n",
    "- `call_date` из таблицы `calls`\n",
    "- `message_date` из таблицы `messages`\n",
    "- `session_date` из таблицы `sessions`\n",
    "\n",
    "к новому типу с помощью метода `to_datetime()`."
   ]
  },
  {
   "cell_type": "code",
   "execution_count": 20,
   "metadata": {
    "deletable": false
   },
   "outputs": [],
   "source": [
    "# обработка столбца reg_date\n",
    "users['reg_date'] = pd.to_datetime(users['reg_date'], format = '%Y-%m-%d')\n",
    "\n",
    "# обработка столбца churn_date\n",
    "users['churn_date'] = pd.to_datetime(users['churn_date'], format = '%Y-%m-%d')\n",
    "\n",
    "# обработка столбца call_date\n",
    "calls['call_date'] = pd.to_datetime(calls['call_date'], format = '%Y-%m-%d')\n",
    "\n",
    "# обработка столбца message_date\n",
    "messages['message_date'] = pd.to_datetime(messages['message_date'], format = '%Y-%m-%d')\n",
    "\n",
    "# обработка столбца session_date\n",
    "sessions['session_date'] = pd.to_datetime(sessions['session_date'], format = '%Y-%m-%d')"
   ]
  },
  {
   "cell_type": "code",
   "execution_count": 21,
   "metadata": {
    "deletable": false
   },
   "outputs": [],
   "source": [
    "# округление значений столбца duration с помощью np.ceil() и приведение типа к int\n",
    "calls['duration'] = np.ceil(calls['duration']).astype('int')"
   ]
  },
  {
   "cell_type": "code",
   "execution_count": 22,
   "metadata": {
    "deletable": false
   },
   "outputs": [
    {
     "data": {
      "text/plain": [
       "0              0\n",
       "1              1\n",
       "2              2\n",
       "3              3\n",
       "4              4\n",
       "           ...  \n",
       "149391    149391\n",
       "149392    149392\n",
       "149393    149393\n",
       "149394    149394\n",
       "149395    149395\n",
       "Name: Unnamed: 0, Length: 149396, dtype: int64"
      ]
     },
     "execution_count": 22,
     "metadata": {},
     "output_type": "execute_result"
    }
   ],
   "source": [
    "sessions.pop('Unnamed: 0')"
   ]
  },
  {
   "cell_type": "markdown",
   "metadata": {
    "deletable": false,
    "editable": false,
    "tags": [
     "start_task"
    ]
   },
   "source": [
    "Создадим столбец `month` "
   ]
  },
  {
   "cell_type": "code",
   "execution_count": 23,
   "metadata": {
    "deletable": false
   },
   "outputs": [],
   "source": [
    "calls['month'] = calls['call_date'].dt.month"
   ]
  },
  {
   "cell_type": "code",
   "execution_count": 24,
   "metadata": {
    "deletable": false
   },
   "outputs": [],
   "source": [
    "messages['month'] = messages['message_date'].dt.month"
   ]
  },
  {
   "cell_type": "code",
   "execution_count": 25,
   "metadata": {
    "deletable": false
   },
   "outputs": [],
   "source": [
    "sessions['month'] = sessions['session_date'].dt.month"
   ]
  },
  {
   "cell_type": "markdown",
   "metadata": {
    "deletable": false,
    "editable": false,
    "tags": [
     "start_task"
    ]
   },
   "source": [
    "Посчитаем количество сделанных звонков разговора для каждого пользователя по месяцам."
   ]
  },
  {
   "cell_type": "code",
   "execution_count": 26,
   "metadata": {
    "deletable": false
   },
   "outputs": [],
   "source": [
    "# подсчёт количества звонков для каждого пользователя по месяцам\n",
    "calls_per_month = calls.groupby(['user_id','month']).agg(calls=('duration', 'count'))\n"
   ]
  },
  {
   "cell_type": "code",
   "execution_count": 27,
   "metadata": {
    "deletable": false
   },
   "outputs": [
    {
     "data": {
      "text/html": [
       "<div>\n",
       "<style scoped>\n",
       "    .dataframe tbody tr th:only-of-type {\n",
       "        vertical-align: middle;\n",
       "    }\n",
       "\n",
       "    .dataframe tbody tr th {\n",
       "        vertical-align: top;\n",
       "    }\n",
       "\n",
       "    .dataframe thead th {\n",
       "        text-align: right;\n",
       "    }\n",
       "</style>\n",
       "<table border=\"1\" class=\"dataframe\">\n",
       "  <thead>\n",
       "    <tr style=\"text-align: right;\">\n",
       "      <th></th>\n",
       "      <th></th>\n",
       "      <th>calls</th>\n",
       "    </tr>\n",
       "    <tr>\n",
       "      <th>user_id</th>\n",
       "      <th>month</th>\n",
       "      <th></th>\n",
       "    </tr>\n",
       "  </thead>\n",
       "  <tbody>\n",
       "    <tr>\n",
       "      <th rowspan=\"8\" valign=\"top\">1000</th>\n",
       "      <th>5</th>\n",
       "      <td>22</td>\n",
       "    </tr>\n",
       "    <tr>\n",
       "      <th>6</th>\n",
       "      <td>43</td>\n",
       "    </tr>\n",
       "    <tr>\n",
       "      <th>7</th>\n",
       "      <td>47</td>\n",
       "    </tr>\n",
       "    <tr>\n",
       "      <th>8</th>\n",
       "      <td>52</td>\n",
       "    </tr>\n",
       "    <tr>\n",
       "      <th>9</th>\n",
       "      <td>58</td>\n",
       "    </tr>\n",
       "    <tr>\n",
       "      <th>10</th>\n",
       "      <td>57</td>\n",
       "    </tr>\n",
       "    <tr>\n",
       "      <th>11</th>\n",
       "      <td>43</td>\n",
       "    </tr>\n",
       "    <tr>\n",
       "      <th>12</th>\n",
       "      <td>46</td>\n",
       "    </tr>\n",
       "    <tr>\n",
       "      <th rowspan=\"2\" valign=\"top\">1001</th>\n",
       "      <th>11</th>\n",
       "      <td>59</td>\n",
       "    </tr>\n",
       "    <tr>\n",
       "      <th>12</th>\n",
       "      <td>63</td>\n",
       "    </tr>\n",
       "    <tr>\n",
       "      <th rowspan=\"7\" valign=\"top\">1002</th>\n",
       "      <th>6</th>\n",
       "      <td>15</td>\n",
       "    </tr>\n",
       "    <tr>\n",
       "      <th>7</th>\n",
       "      <td>26</td>\n",
       "    </tr>\n",
       "    <tr>\n",
       "      <th>8</th>\n",
       "      <td>42</td>\n",
       "    </tr>\n",
       "    <tr>\n",
       "      <th>9</th>\n",
       "      <td>36</td>\n",
       "    </tr>\n",
       "    <tr>\n",
       "      <th>10</th>\n",
       "      <td>33</td>\n",
       "    </tr>\n",
       "    <tr>\n",
       "      <th>11</th>\n",
       "      <td>32</td>\n",
       "    </tr>\n",
       "    <tr>\n",
       "      <th>12</th>\n",
       "      <td>33</td>\n",
       "    </tr>\n",
       "    <tr>\n",
       "      <th rowspan=\"5\" valign=\"top\">1003</th>\n",
       "      <th>8</th>\n",
       "      <td>55</td>\n",
       "    </tr>\n",
       "    <tr>\n",
       "      <th>9</th>\n",
       "      <td>134</td>\n",
       "    </tr>\n",
       "    <tr>\n",
       "      <th>10</th>\n",
       "      <td>108</td>\n",
       "    </tr>\n",
       "    <tr>\n",
       "      <th>11</th>\n",
       "      <td>115</td>\n",
       "    </tr>\n",
       "    <tr>\n",
       "      <th>12</th>\n",
       "      <td>108</td>\n",
       "    </tr>\n",
       "    <tr>\n",
       "      <th rowspan=\"8\" valign=\"top\">1004</th>\n",
       "      <th>5</th>\n",
       "      <td>9</td>\n",
       "    </tr>\n",
       "    <tr>\n",
       "      <th>6</th>\n",
       "      <td>31</td>\n",
       "    </tr>\n",
       "    <tr>\n",
       "      <th>7</th>\n",
       "      <td>22</td>\n",
       "    </tr>\n",
       "    <tr>\n",
       "      <th>8</th>\n",
       "      <td>19</td>\n",
       "    </tr>\n",
       "    <tr>\n",
       "      <th>9</th>\n",
       "      <td>26</td>\n",
       "    </tr>\n",
       "    <tr>\n",
       "      <th>10</th>\n",
       "      <td>29</td>\n",
       "    </tr>\n",
       "    <tr>\n",
       "      <th>11</th>\n",
       "      <td>19</td>\n",
       "    </tr>\n",
       "    <tr>\n",
       "      <th>12</th>\n",
       "      <td>21</td>\n",
       "    </tr>\n",
       "  </tbody>\n",
       "</table>\n",
       "</div>"
      ],
      "text/plain": [
       "               calls\n",
       "user_id month       \n",
       "1000    5         22\n",
       "        6         43\n",
       "        7         47\n",
       "        8         52\n",
       "        9         58\n",
       "        10        57\n",
       "        11        43\n",
       "        12        46\n",
       "1001    11        59\n",
       "        12        63\n",
       "1002    6         15\n",
       "        7         26\n",
       "        8         42\n",
       "        9         36\n",
       "        10        33\n",
       "        11        32\n",
       "        12        33\n",
       "1003    8         55\n",
       "        9        134\n",
       "        10       108\n",
       "        11       115\n",
       "        12       108\n",
       "1004    5          9\n",
       "        6         31\n",
       "        7         22\n",
       "        8         19\n",
       "        9         26\n",
       "        10        29\n",
       "        11        19\n",
       "        12        21"
      ]
     },
     "execution_count": 27,
     "metadata": {},
     "output_type": "execute_result"
    }
   ],
   "source": [
    "# вывод 30 первых строк на экран \n",
    "calls_per_month.head(30)"
   ]
  },
  {
   "cell_type": "markdown",
   "metadata": {
    "deletable": false,
    "editable": false,
    "tags": [
     "start_task"
    ]
   },
   "source": [
    "Посчитаем количество израсходованных минут разговора для каждого пользователя по месяцам"
   ]
  },
  {
   "cell_type": "code",
   "execution_count": 29,
   "metadata": {
    "deletable": false
   },
   "outputs": [],
   "source": [
    "# подсчёт израсходованных минут для каждого пользователя по месяцам\n",
    "minutes_per_month = calls.groupby(['user_id','month']).agg(minutes=('duration', 'sum'))"
   ]
  },
  {
   "cell_type": "code",
   "execution_count": 30,
   "metadata": {
    "deletable": false
   },
   "outputs": [
    {
     "data": {
      "text/html": [
       "<div>\n",
       "<style scoped>\n",
       "    .dataframe tbody tr th:only-of-type {\n",
       "        vertical-align: middle;\n",
       "    }\n",
       "\n",
       "    .dataframe tbody tr th {\n",
       "        vertical-align: top;\n",
       "    }\n",
       "\n",
       "    .dataframe thead th {\n",
       "        text-align: right;\n",
       "    }\n",
       "</style>\n",
       "<table border=\"1\" class=\"dataframe\">\n",
       "  <thead>\n",
       "    <tr style=\"text-align: right;\">\n",
       "      <th></th>\n",
       "      <th></th>\n",
       "      <th>minutes</th>\n",
       "    </tr>\n",
       "    <tr>\n",
       "      <th>user_id</th>\n",
       "      <th>month</th>\n",
       "      <th></th>\n",
       "    </tr>\n",
       "  </thead>\n",
       "  <tbody>\n",
       "    <tr>\n",
       "      <th rowspan=\"8\" valign=\"top\">1000</th>\n",
       "      <th>5</th>\n",
       "      <td>159</td>\n",
       "    </tr>\n",
       "    <tr>\n",
       "      <th>6</th>\n",
       "      <td>172</td>\n",
       "    </tr>\n",
       "    <tr>\n",
       "      <th>7</th>\n",
       "      <td>340</td>\n",
       "    </tr>\n",
       "    <tr>\n",
       "      <th>8</th>\n",
       "      <td>408</td>\n",
       "    </tr>\n",
       "    <tr>\n",
       "      <th>9</th>\n",
       "      <td>466</td>\n",
       "    </tr>\n",
       "    <tr>\n",
       "      <th>10</th>\n",
       "      <td>350</td>\n",
       "    </tr>\n",
       "    <tr>\n",
       "      <th>11</th>\n",
       "      <td>338</td>\n",
       "    </tr>\n",
       "    <tr>\n",
       "      <th>12</th>\n",
       "      <td>333</td>\n",
       "    </tr>\n",
       "    <tr>\n",
       "      <th rowspan=\"2\" valign=\"top\">1001</th>\n",
       "      <th>11</th>\n",
       "      <td>430</td>\n",
       "    </tr>\n",
       "    <tr>\n",
       "      <th>12</th>\n",
       "      <td>414</td>\n",
       "    </tr>\n",
       "    <tr>\n",
       "      <th rowspan=\"7\" valign=\"top\">1002</th>\n",
       "      <th>6</th>\n",
       "      <td>117</td>\n",
       "    </tr>\n",
       "    <tr>\n",
       "      <th>7</th>\n",
       "      <td>214</td>\n",
       "    </tr>\n",
       "    <tr>\n",
       "      <th>8</th>\n",
       "      <td>289</td>\n",
       "    </tr>\n",
       "    <tr>\n",
       "      <th>9</th>\n",
       "      <td>206</td>\n",
       "    </tr>\n",
       "    <tr>\n",
       "      <th>10</th>\n",
       "      <td>212</td>\n",
       "    </tr>\n",
       "    <tr>\n",
       "      <th>11</th>\n",
       "      <td>243</td>\n",
       "    </tr>\n",
       "    <tr>\n",
       "      <th>12</th>\n",
       "      <td>236</td>\n",
       "    </tr>\n",
       "    <tr>\n",
       "      <th rowspan=\"5\" valign=\"top\">1003</th>\n",
       "      <th>8</th>\n",
       "      <td>380</td>\n",
       "    </tr>\n",
       "    <tr>\n",
       "      <th>9</th>\n",
       "      <td>961</td>\n",
       "    </tr>\n",
       "    <tr>\n",
       "      <th>10</th>\n",
       "      <td>855</td>\n",
       "    </tr>\n",
       "    <tr>\n",
       "      <th>11</th>\n",
       "      <td>824</td>\n",
       "    </tr>\n",
       "    <tr>\n",
       "      <th>12</th>\n",
       "      <td>802</td>\n",
       "    </tr>\n",
       "    <tr>\n",
       "      <th rowspan=\"8\" valign=\"top\">1004</th>\n",
       "      <th>5</th>\n",
       "      <td>35</td>\n",
       "    </tr>\n",
       "    <tr>\n",
       "      <th>6</th>\n",
       "      <td>171</td>\n",
       "    </tr>\n",
       "    <tr>\n",
       "      <th>7</th>\n",
       "      <td>135</td>\n",
       "    </tr>\n",
       "    <tr>\n",
       "      <th>8</th>\n",
       "      <td>137</td>\n",
       "    </tr>\n",
       "    <tr>\n",
       "      <th>9</th>\n",
       "      <td>117</td>\n",
       "    </tr>\n",
       "    <tr>\n",
       "      <th>10</th>\n",
       "      <td>145</td>\n",
       "    </tr>\n",
       "    <tr>\n",
       "      <th>11</th>\n",
       "      <td>117</td>\n",
       "    </tr>\n",
       "    <tr>\n",
       "      <th>12</th>\n",
       "      <td>130</td>\n",
       "    </tr>\n",
       "  </tbody>\n",
       "</table>\n",
       "</div>"
      ],
      "text/plain": [
       "               minutes\n",
       "user_id month         \n",
       "1000    5          159\n",
       "        6          172\n",
       "        7          340\n",
       "        8          408\n",
       "        9          466\n",
       "        10         350\n",
       "        11         338\n",
       "        12         333\n",
       "1001    11         430\n",
       "        12         414\n",
       "1002    6          117\n",
       "        7          214\n",
       "        8          289\n",
       "        9          206\n",
       "        10         212\n",
       "        11         243\n",
       "        12         236\n",
       "1003    8          380\n",
       "        9          961\n",
       "        10         855\n",
       "        11         824\n",
       "        12         802\n",
       "1004    5           35\n",
       "        6          171\n",
       "        7          135\n",
       "        8          137\n",
       "        9          117\n",
       "        10         145\n",
       "        11         117\n",
       "        12         130"
      ]
     },
     "execution_count": 30,
     "metadata": {},
     "output_type": "execute_result"
    }
   ],
   "source": [
    "# вывод первых 30 строк на экран\n",
    "minutes_per_month.head(30)"
   ]
  },
  {
   "cell_type": "markdown",
   "metadata": {
    "deletable": false,
    "editable": false,
    "tags": [
     "start_task"
    ]
   },
   "source": [
    "Посчитаем количество отправленных сообщений по месяцам для каждого пользователя "
   ]
  },
  {
   "cell_type": "code",
   "execution_count": 31,
   "metadata": {
    "deletable": false
   },
   "outputs": [],
   "source": [
    "# подсчёт количества отправленных сообщений для каждого пользователя по месяцам\n",
    "messages_per_month = messages.groupby(['user_id','month']).agg(messages=('message_date', 'count'))"
   ]
  },
  {
   "cell_type": "code",
   "execution_count": 32,
   "metadata": {
    "deletable": false
   },
   "outputs": [
    {
     "data": {
      "text/html": [
       "<div>\n",
       "<style scoped>\n",
       "    .dataframe tbody tr th:only-of-type {\n",
       "        vertical-align: middle;\n",
       "    }\n",
       "\n",
       "    .dataframe tbody tr th {\n",
       "        vertical-align: top;\n",
       "    }\n",
       "\n",
       "    .dataframe thead th {\n",
       "        text-align: right;\n",
       "    }\n",
       "</style>\n",
       "<table border=\"1\" class=\"dataframe\">\n",
       "  <thead>\n",
       "    <tr style=\"text-align: right;\">\n",
       "      <th></th>\n",
       "      <th></th>\n",
       "      <th>messages</th>\n",
       "    </tr>\n",
       "    <tr>\n",
       "      <th>user_id</th>\n",
       "      <th>month</th>\n",
       "      <th></th>\n",
       "    </tr>\n",
       "  </thead>\n",
       "  <tbody>\n",
       "    <tr>\n",
       "      <th rowspan=\"8\" valign=\"top\">1000</th>\n",
       "      <th>5</th>\n",
       "      <td>22</td>\n",
       "    </tr>\n",
       "    <tr>\n",
       "      <th>6</th>\n",
       "      <td>60</td>\n",
       "    </tr>\n",
       "    <tr>\n",
       "      <th>7</th>\n",
       "      <td>75</td>\n",
       "    </tr>\n",
       "    <tr>\n",
       "      <th>8</th>\n",
       "      <td>81</td>\n",
       "    </tr>\n",
       "    <tr>\n",
       "      <th>9</th>\n",
       "      <td>57</td>\n",
       "    </tr>\n",
       "    <tr>\n",
       "      <th>10</th>\n",
       "      <td>73</td>\n",
       "    </tr>\n",
       "    <tr>\n",
       "      <th>11</th>\n",
       "      <td>58</td>\n",
       "    </tr>\n",
       "    <tr>\n",
       "      <th>12</th>\n",
       "      <td>70</td>\n",
       "    </tr>\n",
       "    <tr>\n",
       "      <th rowspan=\"7\" valign=\"top\">1002</th>\n",
       "      <th>6</th>\n",
       "      <td>4</td>\n",
       "    </tr>\n",
       "    <tr>\n",
       "      <th>7</th>\n",
       "      <td>11</td>\n",
       "    </tr>\n",
       "    <tr>\n",
       "      <th>8</th>\n",
       "      <td>13</td>\n",
       "    </tr>\n",
       "    <tr>\n",
       "      <th>9</th>\n",
       "      <td>4</td>\n",
       "    </tr>\n",
       "    <tr>\n",
       "      <th>10</th>\n",
       "      <td>10</td>\n",
       "    </tr>\n",
       "    <tr>\n",
       "      <th>11</th>\n",
       "      <td>16</td>\n",
       "    </tr>\n",
       "    <tr>\n",
       "      <th>12</th>\n",
       "      <td>12</td>\n",
       "    </tr>\n",
       "    <tr>\n",
       "      <th rowspan=\"5\" valign=\"top\">1003</th>\n",
       "      <th>8</th>\n",
       "      <td>37</td>\n",
       "    </tr>\n",
       "    <tr>\n",
       "      <th>9</th>\n",
       "      <td>91</td>\n",
       "    </tr>\n",
       "    <tr>\n",
       "      <th>10</th>\n",
       "      <td>83</td>\n",
       "    </tr>\n",
       "    <tr>\n",
       "      <th>11</th>\n",
       "      <td>94</td>\n",
       "    </tr>\n",
       "    <tr>\n",
       "      <th>12</th>\n",
       "      <td>75</td>\n",
       "    </tr>\n",
       "    <tr>\n",
       "      <th rowspan=\"8\" valign=\"top\">1004</th>\n",
       "      <th>5</th>\n",
       "      <td>95</td>\n",
       "    </tr>\n",
       "    <tr>\n",
       "      <th>6</th>\n",
       "      <td>134</td>\n",
       "    </tr>\n",
       "    <tr>\n",
       "      <th>7</th>\n",
       "      <td>181</td>\n",
       "    </tr>\n",
       "    <tr>\n",
       "      <th>8</th>\n",
       "      <td>151</td>\n",
       "    </tr>\n",
       "    <tr>\n",
       "      <th>9</th>\n",
       "      <td>146</td>\n",
       "    </tr>\n",
       "    <tr>\n",
       "      <th>10</th>\n",
       "      <td>165</td>\n",
       "    </tr>\n",
       "    <tr>\n",
       "      <th>11</th>\n",
       "      <td>158</td>\n",
       "    </tr>\n",
       "    <tr>\n",
       "      <th>12</th>\n",
       "      <td>162</td>\n",
       "    </tr>\n",
       "    <tr>\n",
       "      <th rowspan=\"2\" valign=\"top\">1005</th>\n",
       "      <th>1</th>\n",
       "      <td>7</td>\n",
       "    </tr>\n",
       "    <tr>\n",
       "      <th>2</th>\n",
       "      <td>38</td>\n",
       "    </tr>\n",
       "  </tbody>\n",
       "</table>\n",
       "</div>"
      ],
      "text/plain": [
       "               messages\n",
       "user_id month          \n",
       "1000    5            22\n",
       "        6            60\n",
       "        7            75\n",
       "        8            81\n",
       "        9            57\n",
       "        10           73\n",
       "        11           58\n",
       "        12           70\n",
       "1002    6             4\n",
       "        7            11\n",
       "        8            13\n",
       "        9             4\n",
       "        10           10\n",
       "        11           16\n",
       "        12           12\n",
       "1003    8            37\n",
       "        9            91\n",
       "        10           83\n",
       "        11           94\n",
       "        12           75\n",
       "1004    5            95\n",
       "        6           134\n",
       "        7           181\n",
       "        8           151\n",
       "        9           146\n",
       "        10          165\n",
       "        11          158\n",
       "        12          162\n",
       "1005    1             7\n",
       "        2            38"
      ]
     },
     "execution_count": 32,
     "metadata": {},
     "output_type": "execute_result"
    }
   ],
   "source": [
    "# вывод первых 30 строк на экран\n",
    "messages_per_month.head(30)"
   ]
  },
  {
   "cell_type": "markdown",
   "metadata": {
    "deletable": false,
    "editable": false,
    "tags": [
     "start_task"
    ]
   },
   "source": [
    "Посчитаем количество потраченных мегабайт по месяцам для каждого пользователя "
   ]
  },
  {
   "cell_type": "code",
   "execution_count": 33,
   "metadata": {
    "deletable": false
   },
   "outputs": [],
   "source": [
    "# подсчёт потраченных мегабайт для каждого пользователя по месяцам\n",
    "sessions_per_month = sessions.groupby(['user_id','month']).agg({'mb_used': 'sum'})"
   ]
  },
  {
   "cell_type": "code",
   "execution_count": 34,
   "metadata": {
    "deletable": false
   },
   "outputs": [
    {
     "data": {
      "text/html": [
       "<div>\n",
       "<style scoped>\n",
       "    .dataframe tbody tr th:only-of-type {\n",
       "        vertical-align: middle;\n",
       "    }\n",
       "\n",
       "    .dataframe tbody tr th {\n",
       "        vertical-align: top;\n",
       "    }\n",
       "\n",
       "    .dataframe thead th {\n",
       "        text-align: right;\n",
       "    }\n",
       "</style>\n",
       "<table border=\"1\" class=\"dataframe\">\n",
       "  <thead>\n",
       "    <tr style=\"text-align: right;\">\n",
       "      <th></th>\n",
       "      <th></th>\n",
       "      <th>mb_used</th>\n",
       "    </tr>\n",
       "    <tr>\n",
       "      <th>user_id</th>\n",
       "      <th>month</th>\n",
       "      <th></th>\n",
       "    </tr>\n",
       "  </thead>\n",
       "  <tbody>\n",
       "    <tr>\n",
       "      <th rowspan=\"8\" valign=\"top\">1000</th>\n",
       "      <th>5</th>\n",
       "      <td>2253.49</td>\n",
       "    </tr>\n",
       "    <tr>\n",
       "      <th>6</th>\n",
       "      <td>23233.77</td>\n",
       "    </tr>\n",
       "    <tr>\n",
       "      <th>7</th>\n",
       "      <td>14003.64</td>\n",
       "    </tr>\n",
       "    <tr>\n",
       "      <th>8</th>\n",
       "      <td>14055.93</td>\n",
       "    </tr>\n",
       "    <tr>\n",
       "      <th>9</th>\n",
       "      <td>14568.91</td>\n",
       "    </tr>\n",
       "    <tr>\n",
       "      <th>10</th>\n",
       "      <td>14702.49</td>\n",
       "    </tr>\n",
       "    <tr>\n",
       "      <th>11</th>\n",
       "      <td>14756.47</td>\n",
       "    </tr>\n",
       "    <tr>\n",
       "      <th>12</th>\n",
       "      <td>9817.61</td>\n",
       "    </tr>\n",
       "    <tr>\n",
       "      <th rowspan=\"2\" valign=\"top\">1001</th>\n",
       "      <th>11</th>\n",
       "      <td>18429.34</td>\n",
       "    </tr>\n",
       "    <tr>\n",
       "      <th>12</th>\n",
       "      <td>14036.66</td>\n",
       "    </tr>\n",
       "    <tr>\n",
       "      <th rowspan=\"7\" valign=\"top\">1002</th>\n",
       "      <th>6</th>\n",
       "      <td>10856.82</td>\n",
       "    </tr>\n",
       "    <tr>\n",
       "      <th>7</th>\n",
       "      <td>17580.10</td>\n",
       "    </tr>\n",
       "    <tr>\n",
       "      <th>8</th>\n",
       "      <td>20319.26</td>\n",
       "    </tr>\n",
       "    <tr>\n",
       "      <th>9</th>\n",
       "      <td>16691.08</td>\n",
       "    </tr>\n",
       "    <tr>\n",
       "      <th>10</th>\n",
       "      <td>13888.25</td>\n",
       "    </tr>\n",
       "    <tr>\n",
       "      <th>11</th>\n",
       "      <td>18587.28</td>\n",
       "    </tr>\n",
       "    <tr>\n",
       "      <th>12</th>\n",
       "      <td>18113.73</td>\n",
       "    </tr>\n",
       "    <tr>\n",
       "      <th rowspan=\"5\" valign=\"top\">1003</th>\n",
       "      <th>8</th>\n",
       "      <td>8565.21</td>\n",
       "    </tr>\n",
       "    <tr>\n",
       "      <th>9</th>\n",
       "      <td>12468.87</td>\n",
       "    </tr>\n",
       "    <tr>\n",
       "      <th>10</th>\n",
       "      <td>14768.14</td>\n",
       "    </tr>\n",
       "    <tr>\n",
       "      <th>11</th>\n",
       "      <td>11356.89</td>\n",
       "    </tr>\n",
       "    <tr>\n",
       "      <th>12</th>\n",
       "      <td>10121.53</td>\n",
       "    </tr>\n",
       "    <tr>\n",
       "      <th rowspan=\"8\" valign=\"top\">1004</th>\n",
       "      <th>5</th>\n",
       "      <td>13403.98</td>\n",
       "    </tr>\n",
       "    <tr>\n",
       "      <th>6</th>\n",
       "      <td>17600.02</td>\n",
       "    </tr>\n",
       "    <tr>\n",
       "      <th>7</th>\n",
       "      <td>22229.58</td>\n",
       "    </tr>\n",
       "    <tr>\n",
       "      <th>8</th>\n",
       "      <td>28584.37</td>\n",
       "    </tr>\n",
       "    <tr>\n",
       "      <th>9</th>\n",
       "      <td>15109.03</td>\n",
       "    </tr>\n",
       "    <tr>\n",
       "      <th>10</th>\n",
       "      <td>18475.44</td>\n",
       "    </tr>\n",
       "    <tr>\n",
       "      <th>11</th>\n",
       "      <td>15616.02</td>\n",
       "    </tr>\n",
       "    <tr>\n",
       "      <th>12</th>\n",
       "      <td>18021.04</td>\n",
       "    </tr>\n",
       "  </tbody>\n",
       "</table>\n",
       "</div>"
      ],
      "text/plain": [
       "                mb_used\n",
       "user_id month          \n",
       "1000    5       2253.49\n",
       "        6      23233.77\n",
       "        7      14003.64\n",
       "        8      14055.93\n",
       "        9      14568.91\n",
       "        10     14702.49\n",
       "        11     14756.47\n",
       "        12      9817.61\n",
       "1001    11     18429.34\n",
       "        12     14036.66\n",
       "1002    6      10856.82\n",
       "        7      17580.10\n",
       "        8      20319.26\n",
       "        9      16691.08\n",
       "        10     13888.25\n",
       "        11     18587.28\n",
       "        12     18113.73\n",
       "1003    8       8565.21\n",
       "        9      12468.87\n",
       "        10     14768.14\n",
       "        11     11356.89\n",
       "        12     10121.53\n",
       "1004    5      13403.98\n",
       "        6      17600.02\n",
       "        7      22229.58\n",
       "        8      28584.37\n",
       "        9      15109.03\n",
       "        10     18475.44\n",
       "        11     15616.02\n",
       "        12     18021.04"
      ]
     },
     "execution_count": 34,
     "metadata": {},
     "output_type": "execute_result"
    }
   ],
   "source": [
    "# вывод первых 30 строк на экран\n",
    "sessions_per_month.head(30)"
   ]
  },
  {
   "cell_type": "markdown",
   "metadata": {
    "deletable": false,
    "editable": false
   },
   "source": [
    "### Анализ данных и подсчёт выручки"
   ]
  },
  {
   "cell_type": "markdown",
   "metadata": {
    "deletable": false,
    "editable": false
   },
   "source": [
    "Объединяем все посчитанные выше значения в один датафрейм `user_behavior`.\n",
    "Для каждой пары \"пользователь - месяц\" будут доступны информация о тарифе, количестве звонков, сообщений и потраченных мегабайтах."
   ]
  },
  {
   "cell_type": "code",
   "execution_count": 35,
   "metadata": {
    "deletable": false
   },
   "outputs": [
    {
     "data": {
      "text/plain": [
       "7.6"
      ]
     },
     "execution_count": 35,
     "metadata": {},
     "output_type": "execute_result"
    }
   ],
   "source": [
    "users['churn_date'].count() / users['churn_date'].shape[0] * 100"
   ]
  },
  {
   "cell_type": "markdown",
   "metadata": {
    "deletable": false,
    "editable": false
   },
   "source": [
    "Расторгли договор 7.6% клиентов из датасета"
   ]
  },
  {
   "cell_type": "code",
   "execution_count": 36,
   "metadata": {
    "deletable": false
   },
   "outputs": [
    {
     "data": {
      "text/html": [
       "<div>\n",
       "<style scoped>\n",
       "    .dataframe tbody tr th:only-of-type {\n",
       "        vertical-align: middle;\n",
       "    }\n",
       "\n",
       "    .dataframe tbody tr th {\n",
       "        vertical-align: top;\n",
       "    }\n",
       "\n",
       "    .dataframe thead th {\n",
       "        text-align: right;\n",
       "    }\n",
       "</style>\n",
       "<table border=\"1\" class=\"dataframe\">\n",
       "  <thead>\n",
       "    <tr style=\"text-align: right;\">\n",
       "      <th></th>\n",
       "      <th>user_id</th>\n",
       "      <th>month</th>\n",
       "      <th>calls</th>\n",
       "      <th>messages</th>\n",
       "      <th>mb_used</th>\n",
       "      <th>minutes</th>\n",
       "      <th>age</th>\n",
       "      <th>churn_date</th>\n",
       "      <th>city</th>\n",
       "      <th>first_name</th>\n",
       "      <th>last_name</th>\n",
       "      <th>reg_date</th>\n",
       "      <th>tariff</th>\n",
       "    </tr>\n",
       "  </thead>\n",
       "  <tbody>\n",
       "    <tr>\n",
       "      <th>0</th>\n",
       "      <td>1000</td>\n",
       "      <td>5</td>\n",
       "      <td>22.0</td>\n",
       "      <td>22.0</td>\n",
       "      <td>2253.49</td>\n",
       "      <td>159.0</td>\n",
       "      <td>52</td>\n",
       "      <td>NaT</td>\n",
       "      <td>Краснодар</td>\n",
       "      <td>Рафаил</td>\n",
       "      <td>Верещагин</td>\n",
       "      <td>2018-05-25</td>\n",
       "      <td>ultra</td>\n",
       "    </tr>\n",
       "    <tr>\n",
       "      <th>1</th>\n",
       "      <td>1000</td>\n",
       "      <td>6</td>\n",
       "      <td>43.0</td>\n",
       "      <td>60.0</td>\n",
       "      <td>23233.77</td>\n",
       "      <td>172.0</td>\n",
       "      <td>52</td>\n",
       "      <td>NaT</td>\n",
       "      <td>Краснодар</td>\n",
       "      <td>Рафаил</td>\n",
       "      <td>Верещагин</td>\n",
       "      <td>2018-05-25</td>\n",
       "      <td>ultra</td>\n",
       "    </tr>\n",
       "    <tr>\n",
       "      <th>2</th>\n",
       "      <td>1000</td>\n",
       "      <td>7</td>\n",
       "      <td>47.0</td>\n",
       "      <td>75.0</td>\n",
       "      <td>14003.64</td>\n",
       "      <td>340.0</td>\n",
       "      <td>52</td>\n",
       "      <td>NaT</td>\n",
       "      <td>Краснодар</td>\n",
       "      <td>Рафаил</td>\n",
       "      <td>Верещагин</td>\n",
       "      <td>2018-05-25</td>\n",
       "      <td>ultra</td>\n",
       "    </tr>\n",
       "    <tr>\n",
       "      <th>3</th>\n",
       "      <td>1000</td>\n",
       "      <td>8</td>\n",
       "      <td>52.0</td>\n",
       "      <td>81.0</td>\n",
       "      <td>14055.93</td>\n",
       "      <td>408.0</td>\n",
       "      <td>52</td>\n",
       "      <td>NaT</td>\n",
       "      <td>Краснодар</td>\n",
       "      <td>Рафаил</td>\n",
       "      <td>Верещагин</td>\n",
       "      <td>2018-05-25</td>\n",
       "      <td>ultra</td>\n",
       "    </tr>\n",
       "    <tr>\n",
       "      <th>4</th>\n",
       "      <td>1000</td>\n",
       "      <td>9</td>\n",
       "      <td>58.0</td>\n",
       "      <td>57.0</td>\n",
       "      <td>14568.91</td>\n",
       "      <td>466.0</td>\n",
       "      <td>52</td>\n",
       "      <td>NaT</td>\n",
       "      <td>Краснодар</td>\n",
       "      <td>Рафаил</td>\n",
       "      <td>Верещагин</td>\n",
       "      <td>2018-05-25</td>\n",
       "      <td>ultra</td>\n",
       "    </tr>\n",
       "  </tbody>\n",
       "</table>\n",
       "</div>"
      ],
      "text/plain": [
       "   user_id  month  calls  messages   mb_used  minutes  age churn_date  \\\n",
       "0     1000      5   22.0      22.0   2253.49    159.0   52        NaT   \n",
       "1     1000      6   43.0      60.0  23233.77    172.0   52        NaT   \n",
       "2     1000      7   47.0      75.0  14003.64    340.0   52        NaT   \n",
       "3     1000      8   52.0      81.0  14055.93    408.0   52        NaT   \n",
       "4     1000      9   58.0      57.0  14568.91    466.0   52        NaT   \n",
       "\n",
       "        city first_name  last_name   reg_date tariff  \n",
       "0  Краснодар     Рафаил  Верещагин 2018-05-25  ultra  \n",
       "1  Краснодар     Рафаил  Верещагин 2018-05-25  ultra  \n",
       "2  Краснодар     Рафаил  Верещагин 2018-05-25  ultra  \n",
       "3  Краснодар     Рафаил  Верещагин 2018-05-25  ultra  \n",
       "4  Краснодар     Рафаил  Верещагин 2018-05-25  ultra  "
      ]
     },
     "execution_count": 36,
     "metadata": {},
     "output_type": "execute_result"
    }
   ],
   "source": [
    "user_behavior = calls_per_month\\\n",
    "    .merge(messages_per_month, left_index=True, right_index=True, how='outer')\\\n",
    "    .merge(sessions_per_month, left_index=True, right_index=True, how='outer')\\\n",
    "    .merge(minutes_per_month, left_index=True, right_index=True, how='outer')\\\n",
    "    .reset_index()\\\n",
    "    .merge(users, how='left', left_on='user_id', right_on='user_id')\\\n",
    "\n",
    "user_behavior.head()"
   ]
  },
  {
   "cell_type": "markdown",
   "metadata": {
    "deletable": false,
    "editable": false
   },
   "source": [
    "Проверим пропуски в таблице `user_behavior` после объединения:"
   ]
  },
  {
   "cell_type": "code",
   "execution_count": 37,
   "metadata": {
    "deletable": false
   },
   "outputs": [
    {
     "data": {
      "text/plain": [
       "user_id          0\n",
       "month            0\n",
       "calls           40\n",
       "messages       497\n",
       "mb_used         11\n",
       "minutes         40\n",
       "age              0\n",
       "churn_date    3027\n",
       "city             0\n",
       "first_name       0\n",
       "last_name        0\n",
       "reg_date         0\n",
       "tariff           0\n",
       "dtype: int64"
      ]
     },
     "execution_count": 37,
     "metadata": {},
     "output_type": "execute_result"
    }
   ],
   "source": [
    "user_behavior.isna().sum()"
   ]
  },
  {
   "cell_type": "markdown",
   "metadata": {
    "deletable": false,
    "editable": false
   },
   "source": [
    "Заполним образовавшиеся пропуски в данных:"
   ]
  },
  {
   "cell_type": "code",
   "execution_count": 38,
   "metadata": {
    "deletable": false
   },
   "outputs": [],
   "source": [
    "user_behavior['calls'] = user_behavior['calls'].fillna(0)\n",
    "user_behavior['minutes'] = user_behavior['minutes'].fillna(0)\n",
    "user_behavior['messages'] = user_behavior['messages'].fillna(0)\n",
    "user_behavior['mb_used'] = user_behavior['mb_used'].fillna(0)"
   ]
  },
  {
   "cell_type": "markdown",
   "metadata": {
    "deletable": false,
    "editable": false
   },
   "source": [
    "Присоединяем информацию о тарифах"
   ]
  },
  {
   "cell_type": "code",
   "execution_count": 39,
   "metadata": {
    "deletable": false
   },
   "outputs": [],
   "source": [
    "# переименование столбца tariff_name на более простое tariff\n",
    "\n",
    "tariffs = tariffs.rename(\n",
    "    columns={\n",
    "        'tariff_name': 'tariff'\n",
    "    }\n",
    ")"
   ]
  },
  {
   "cell_type": "code",
   "execution_count": 40,
   "metadata": {
    "deletable": false
   },
   "outputs": [],
   "source": [
    "user_behavior = user_behavior.merge(tariffs, on='tariff')"
   ]
  },
  {
   "cell_type": "markdown",
   "metadata": {
    "deletable": false,
    "editable": false
   },
   "source": [
    "Считаем количество минут разговора, сообщений и мегабайт, превышающих включенные в тариф\n"
   ]
  },
  {
   "cell_type": "code",
   "execution_count": 41,
   "metadata": {
    "deletable": false
   },
   "outputs": [],
   "source": [
    "user_behavior['paid_minutes'] = user_behavior['minutes'] - user_behavior['minutes_included']\n",
    "user_behavior['paid_messages'] = user_behavior['messages'] - user_behavior['messages_included']\n",
    "user_behavior['paid_mb'] = user_behavior['mb_used'] - user_behavior['mb_per_month_included']\n",
    "\n",
    "for col in ['paid_messages', 'paid_minutes', 'paid_mb']:\n",
    "    user_behavior.loc[user_behavior[col] < 0, col] = 0"
   ]
  },
  {
   "cell_type": "markdown",
   "metadata": {
    "deletable": false,
    "editable": false
   },
   "source": [
    "Переводим превышающие тариф мегабайты в гигабайты и сохраняем в столбец `paid_gb`"
   ]
  },
  {
   "cell_type": "code",
   "execution_count": 42,
   "metadata": {
    "deletable": false
   },
   "outputs": [],
   "source": [
    "user_behavior['paid_gb'] = np.ceil(user_behavior['paid_mb'] / 1024).astype(int)"
   ]
  },
  {
   "cell_type": "markdown",
   "metadata": {
    "deletable": false,
    "editable": false
   },
   "source": [
    "Считаем выручку за минуты разговора, сообщения и интернет"
   ]
  },
  {
   "cell_type": "code",
   "execution_count": 43,
   "metadata": {
    "deletable": false
   },
   "outputs": [],
   "source": [
    "user_behavior['cost_minutes'] = user_behavior['paid_minutes'] * user_behavior['rub_per_minute']\n",
    "user_behavior['cost_messages'] = user_behavior['paid_messages'] * user_behavior['rub_per_message']\n",
    "user_behavior['cost_gb'] = user_behavior['paid_gb'] * user_behavior['rub_per_gb']"
   ]
  },
  {
   "cell_type": "markdown",
   "metadata": {
    "deletable": false,
    "editable": false
   },
   "source": [
    "Считаем помесячную выручку с каждого пользователя, она будет храниться в столбец `total_cost`"
   ]
  },
  {
   "cell_type": "code",
   "execution_count": 44,
   "metadata": {
    "deletable": false
   },
   "outputs": [],
   "source": [
    "user_behavior['total_cost'] = \\\n",
    "      user_behavior['rub_monthly_fee']\\\n",
    "    + user_behavior['cost_minutes']\\\n",
    "    + user_behavior['cost_messages']\\\n",
    "    + user_behavior['cost_gb']"
   ]
  },
  {
   "cell_type": "markdown",
   "metadata": {
    "deletable": false,
    "editable": false
   },
   "source": [
    "Датафрейм `stats_df` для каждой пары \"месяц-тариф\" будет хранить основные характеристики"
   ]
  },
  {
   "cell_type": "code",
   "execution_count": 45,
   "metadata": {
    "deletable": false
   },
   "outputs": [
    {
     "data": {
      "text/html": [
       "<div>\n",
       "<style scoped>\n",
       "    .dataframe tbody tr th:only-of-type {\n",
       "        vertical-align: middle;\n",
       "    }\n",
       "\n",
       "    .dataframe tbody tr th {\n",
       "        vertical-align: top;\n",
       "    }\n",
       "\n",
       "    .dataframe thead th {\n",
       "        text-align: right;\n",
       "    }\n",
       "</style>\n",
       "<table border=\"1\" class=\"dataframe\">\n",
       "  <thead>\n",
       "    <tr style=\"text-align: right;\">\n",
       "      <th></th>\n",
       "      <th>month</th>\n",
       "      <th>tariff</th>\n",
       "      <th>calls_mean</th>\n",
       "      <th>sessions_mean</th>\n",
       "      <th>messages_mean</th>\n",
       "      <th>minutes_mean</th>\n",
       "      <th>calls_std</th>\n",
       "      <th>sessions_std</th>\n",
       "      <th>messages_std</th>\n",
       "      <th>minutes_std</th>\n",
       "      <th>calls_median</th>\n",
       "      <th>sessions_median</th>\n",
       "      <th>messages_median</th>\n",
       "      <th>minutes_median</th>\n",
       "    </tr>\n",
       "  </thead>\n",
       "  <tbody>\n",
       "    <tr>\n",
       "      <th>0</th>\n",
       "      <td>1</td>\n",
       "      <td>smart</td>\n",
       "      <td>27.68</td>\n",
       "      <td>8513.72</td>\n",
       "      <td>18.24</td>\n",
       "      <td>203.85</td>\n",
       "      <td>20.81</td>\n",
       "      <td>6444.68</td>\n",
       "      <td>16.20</td>\n",
       "      <td>154.23</td>\n",
       "      <td>20.5</td>\n",
       "      <td>7096.18</td>\n",
       "      <td>15.0</td>\n",
       "      <td>162.5</td>\n",
       "    </tr>\n",
       "    <tr>\n",
       "      <th>1</th>\n",
       "      <td>1</td>\n",
       "      <td>ultra</td>\n",
       "      <td>59.44</td>\n",
       "      <td>13140.68</td>\n",
       "      <td>33.78</td>\n",
       "      <td>428.11</td>\n",
       "      <td>41.64</td>\n",
       "      <td>6865.35</td>\n",
       "      <td>30.67</td>\n",
       "      <td>269.76</td>\n",
       "      <td>51.0</td>\n",
       "      <td>14791.37</td>\n",
       "      <td>32.0</td>\n",
       "      <td>382.0</td>\n",
       "    </tr>\n",
       "    <tr>\n",
       "      <th>2</th>\n",
       "      <td>2</td>\n",
       "      <td>smart</td>\n",
       "      <td>40.19</td>\n",
       "      <td>11597.05</td>\n",
       "      <td>24.09</td>\n",
       "      <td>298.69</td>\n",
       "      <td>25.39</td>\n",
       "      <td>6247.35</td>\n",
       "      <td>21.75</td>\n",
       "      <td>190.82</td>\n",
       "      <td>38.5</td>\n",
       "      <td>12553.71</td>\n",
       "      <td>20.0</td>\n",
       "      <td>258.0</td>\n",
       "    </tr>\n",
       "    <tr>\n",
       "      <th>3</th>\n",
       "      <td>2</td>\n",
       "      <td>ultra</td>\n",
       "      <td>41.54</td>\n",
       "      <td>11775.94</td>\n",
       "      <td>21.96</td>\n",
       "      <td>297.12</td>\n",
       "      <td>40.97</td>\n",
       "      <td>10644.64</td>\n",
       "      <td>26.77</td>\n",
       "      <td>296.51</td>\n",
       "      <td>25.0</td>\n",
       "      <td>7327.12</td>\n",
       "      <td>5.5</td>\n",
       "      <td>168.0</td>\n",
       "    </tr>\n",
       "    <tr>\n",
       "      <th>4</th>\n",
       "      <td>3</td>\n",
       "      <td>smart</td>\n",
       "      <td>54.32</td>\n",
       "      <td>15104.16</td>\n",
       "      <td>31.86</td>\n",
       "      <td>390.05</td>\n",
       "      <td>25.54</td>\n",
       "      <td>5828.24</td>\n",
       "      <td>26.80</td>\n",
       "      <td>191.89</td>\n",
       "      <td>59.0</td>\n",
       "      <td>15670.25</td>\n",
       "      <td>23.0</td>\n",
       "      <td>409.0</td>\n",
       "    </tr>\n",
       "    <tr>\n",
       "      <th>5</th>\n",
       "      <td>3</td>\n",
       "      <td>ultra</td>\n",
       "      <td>67.68</td>\n",
       "      <td>17535.55</td>\n",
       "      <td>32.30</td>\n",
       "      <td>489.65</td>\n",
       "      <td>44.84</td>\n",
       "      <td>10951.79</td>\n",
       "      <td>41.62</td>\n",
       "      <td>333.74</td>\n",
       "      <td>57.0</td>\n",
       "      <td>17495.18</td>\n",
       "      <td>20.0</td>\n",
       "      <td>403.0</td>\n",
       "    </tr>\n",
       "    <tr>\n",
       "      <th>6</th>\n",
       "      <td>4</td>\n",
       "      <td>smart</td>\n",
       "      <td>51.31</td>\n",
       "      <td>13462.18</td>\n",
       "      <td>30.74</td>\n",
       "      <td>367.13</td>\n",
       "      <td>25.70</td>\n",
       "      <td>5698.25</td>\n",
       "      <td>24.54</td>\n",
       "      <td>186.49</td>\n",
       "      <td>52.0</td>\n",
       "      <td>14087.65</td>\n",
       "      <td>28.0</td>\n",
       "      <td>368.5</td>\n",
       "    </tr>\n",
       "    <tr>\n",
       "      <th>7</th>\n",
       "      <td>4</td>\n",
       "      <td>ultra</td>\n",
       "      <td>64.09</td>\n",
       "      <td>16828.13</td>\n",
       "      <td>31.56</td>\n",
       "      <td>458.02</td>\n",
       "      <td>36.27</td>\n",
       "      <td>9718.65</td>\n",
       "      <td>37.51</td>\n",
       "      <td>267.68</td>\n",
       "      <td>61.0</td>\n",
       "      <td>16645.78</td>\n",
       "      <td>17.0</td>\n",
       "      <td>453.0</td>\n",
       "    </tr>\n",
       "    <tr>\n",
       "      <th>8</th>\n",
       "      <td>5</td>\n",
       "      <td>smart</td>\n",
       "      <td>55.24</td>\n",
       "      <td>15805.18</td>\n",
       "      <td>33.77</td>\n",
       "      <td>387.36</td>\n",
       "      <td>25.38</td>\n",
       "      <td>5978.23</td>\n",
       "      <td>27.04</td>\n",
       "      <td>186.60</td>\n",
       "      <td>59.0</td>\n",
       "      <td>16323.94</td>\n",
       "      <td>30.0</td>\n",
       "      <td>433.0</td>\n",
       "    </tr>\n",
       "    <tr>\n",
       "      <th>9</th>\n",
       "      <td>5</td>\n",
       "      <td>ultra</td>\n",
       "      <td>72.51</td>\n",
       "      <td>19363.15</td>\n",
       "      <td>37.85</td>\n",
       "      <td>510.33</td>\n",
       "      <td>41.08</td>\n",
       "      <td>10046.11</td>\n",
       "      <td>40.31</td>\n",
       "      <td>289.60</td>\n",
       "      <td>75.0</td>\n",
       "      <td>18696.43</td>\n",
       "      <td>25.0</td>\n",
       "      <td>519.0</td>\n",
       "    </tr>\n",
       "  </tbody>\n",
       "</table>\n",
       "</div>"
      ],
      "text/plain": [
       "   month tariff  calls_mean  sessions_mean  messages_mean  minutes_mean  \\\n",
       "0      1  smart       27.68        8513.72          18.24        203.85   \n",
       "1      1  ultra       59.44       13140.68          33.78        428.11   \n",
       "2      2  smart       40.19       11597.05          24.09        298.69   \n",
       "3      2  ultra       41.54       11775.94          21.96        297.12   \n",
       "4      3  smart       54.32       15104.16          31.86        390.05   \n",
       "5      3  ultra       67.68       17535.55          32.30        489.65   \n",
       "6      4  smart       51.31       13462.18          30.74        367.13   \n",
       "7      4  ultra       64.09       16828.13          31.56        458.02   \n",
       "8      5  smart       55.24       15805.18          33.77        387.36   \n",
       "9      5  ultra       72.51       19363.15          37.85        510.33   \n",
       "\n",
       "   calls_std  sessions_std  messages_std  minutes_std  calls_median  \\\n",
       "0      20.81       6444.68         16.20       154.23          20.5   \n",
       "1      41.64       6865.35         30.67       269.76          51.0   \n",
       "2      25.39       6247.35         21.75       190.82          38.5   \n",
       "3      40.97      10644.64         26.77       296.51          25.0   \n",
       "4      25.54       5828.24         26.80       191.89          59.0   \n",
       "5      44.84      10951.79         41.62       333.74          57.0   \n",
       "6      25.70       5698.25         24.54       186.49          52.0   \n",
       "7      36.27       9718.65         37.51       267.68          61.0   \n",
       "8      25.38       5978.23         27.04       186.60          59.0   \n",
       "9      41.08      10046.11         40.31       289.60          75.0   \n",
       "\n",
       "   sessions_median  messages_median  minutes_median  \n",
       "0          7096.18             15.0           162.5  \n",
       "1         14791.37             32.0           382.0  \n",
       "2         12553.71             20.0           258.0  \n",
       "3          7327.12              5.5           168.0  \n",
       "4         15670.25             23.0           409.0  \n",
       "5         17495.18             20.0           403.0  \n",
       "6         14087.65             28.0           368.5  \n",
       "7         16645.78             17.0           453.0  \n",
       "8         16323.94             30.0           433.0  \n",
       "9         18696.43             25.0           519.0  "
      ]
     },
     "execution_count": 45,
     "metadata": {},
     "output_type": "execute_result"
    }
   ],
   "source": [
    "# сохранение статистических метрик для каждой пары месяц-тариф\n",
    "# в одной таблице stats_df (среднее значение, стандартное отклонение, медиана)\n",
    "\n",
    "stats_df = user_behavior.pivot_table(\n",
    "            index=['month', 'tariff'],\\\n",
    "            values=['calls', 'minutes', 'messages', 'mb_used'],\\\n",
    "            aggfunc=['mean', 'std', 'median']\\\n",
    ").round(2).reset_index()\n",
    "\n",
    "stats_df.columns=['month', 'tariff', 'calls_mean', 'sessions_mean', 'messages_mean', 'minutes_mean',\n",
    "                                     'calls_std',  'sessions_std', 'messages_std', 'minutes_std', \n",
    "                                     'calls_median', 'sessions_median', 'messages_median',  'minutes_median']\n",
    "\n",
    "stats_df.head(10)"
   ]
  },
  {
   "cell_type": "markdown",
   "metadata": {
    "deletable": false,
    "editable": false
   },
   "source": [
    "Распределение среднего количества звонков по видам тарифов и месяцам"
   ]
  },
  {
   "cell_type": "code",
   "execution_count": 46,
   "metadata": {
    "deletable": false
   },
   "outputs": [
    {
     "data": {
      "image/png": "[encoded data removed]",
      "text/plain": [
       "<Figure size 432x288 with 1 Axes>"
      ]
     },
     "metadata": {
      "needs_background": "light"
     },
     "output_type": "display_data"
    }
   ],
   "source": [
    "import seaborn as sns\n",
    "\n",
    "ax = sns.barplot(x='month',\n",
    "            y='calls_mean',\n",
    "            hue=\"tariff\",\n",
    "            data=stats_df,\n",
    "            palette=['lightblue', 'blue'])\n",
    "\n",
    "ax.set_title('Распределение количества звонков по видам тарифов и месяцам')\n",
    "ax.set(xlabel='Номер месяца', ylabel='Среднее количество звонков');"
   ]
  },
  {
   "cell_type": "code",
   "execution_count": 47,
   "metadata": {
    "deletable": false
   },
   "outputs": [
    {
     "data": {
      "image/png": "[encoded data removed]",
      "text/plain": [
       "<Figure size 432x288 with 1 Axes>"
      ]
     },
     "metadata": {
      "needs_background": "light"
     },
     "output_type": "display_data"
    }
   ],
   "source": [
    "import matplotlib.pyplot as plt\n",
    "\n",
    "user_behavior.groupby('tariff')['calls'].plot(kind='hist', bins=35, alpha=0.5)\n",
    "plt.legend(['Smart', 'Ultra'])\n",
    "plt.xlabel('Количество звонков')\n",
    "plt.ylabel('Количество клиентов')\n",
    "plt.show()"
   ]
  },
  {
   "cell_type": "markdown",
   "metadata": {
    "deletable": false,
    "editable": false
   },
   "source": [
    "Распределение средней продолжительности звонков по видам тарифов и месяцам"
   ]
  },
  {
   "cell_type": "code",
   "execution_count": null,
   "metadata": {
    "deletable": false
   },
   "outputs": [],
   "source": [
    "ax = sns.barplot(x='month',\n",
    "            y='minutes_mean',\n",
    "            hue=\"tariff\",\n",
    "            data=stats_df,\n",
    "            palette=['lightblue', 'blue'])\n",
    "\n",
    "ax.set_title('Распределение продолжительности звонков по видам тарифов и месяцам')\n",
    "ax.set(xlabel='Номер месяца', ylabel='Средняя продолжительность звонков');"
   ]
  },
  {
   "cell_type": "code",
   "execution_count": null,
   "metadata": {
    "deletable": false
   },
   "outputs": [],
   "source": [
    "user_behavior[user_behavior['tariff'] =='smart']['minutes'].hist(bins=35, alpha=0.5, color='green')\n",
    "user_behavior[user_behavior['tariff'] =='ultra']['minutes'].hist(bins=35, alpha=0.5, color='blue');"
   ]
  },
  {
   "cell_type": "markdown",
   "metadata": {
    "deletable": false,
    "editable": false
   },
   "source": [
    "Средняя длительность разговоров у абонентов тарифа Ultra больше, чем у абонентов тарифа Smart. В течение года пользователи обоих тарифов увеличивают среднюю продолжительность своих разговоров. Рост средней длительности разговоров у абонентов тарифа Smart равномерный в течение года. Пользователи тарифа Ultra не проявляют подобной линейной стабильности. Стоит отметить, что феврале у абонентов обоих тарифных планов наблюдались самые низкие показатели."
   ]
  },
  {
   "cell_type": "markdown",
   "metadata": {
    "deletable": false,
    "editable": false
   },
   "source": [
    "Распределение среднего количества сообщений по видам тарифов и месяцам"
   ]
  },
  {
   "cell_type": "code",
   "execution_count": null,
   "metadata": {
    "deletable": false
   },
   "outputs": [],
   "source": [
    "ax = sns.barplot(x='month',\n",
    "            y='messages_mean',\n",
    "            hue=\"tariff\",\n",
    "            data=stats_df,\n",
    "            palette=['lightblue', 'blue']\n",
    ")\n",
    "\n",
    "ax.set_title('Распределение количества сообщений по видам тарифов и месяцам')\n",
    "ax.set(xlabel='Номер месяца', ylabel='Среднее количество сообщений');"
   ]
  },
  {
   "cell_type": "code",
   "execution_count": null,
   "metadata": {
    "deletable": false
   },
   "outputs": [],
   "source": [
    "user_behavior[user_behavior['tariff'] =='smart']['messages'].hist(bins=35, alpha=0.5, color='green')\n",
    "user_behavior[user_behavior['tariff'] =='ultra']['messages'].hist(bins=35, alpha=0.5, color='blue');"
   ]
  },
  {
   "cell_type": "markdown",
   "metadata": {},
   "source": [
    "В среднем количество сообщений пользователи тарифа Ultra отправляют больше - почти на 20 сообщений больше, чем пользователи тарифа Smart. Количество сообщений в течение года на обоих тарифак растет. Динамика по отправке сообщений схожа с тенденциями по длительности разговоров: в феврале отмечено наименьшее количество сообщений за год и пользователи тарифа Ultra также проявляют нелинейную положительную динамику."
   ]
  },
  {
   "cell_type": "code",
   "execution_count": null,
   "metadata": {
    "deletable": false
   },
   "outputs": [],
   "source": [
    "ax = sns.barplot(x='month',\n",
    "            y='sessions_mean',\n",
    "            hue=\"tariff\",\n",
    "            data=stats_df,\n",
    "            palette=['lightblue', 'blue']\n",
    ")\n",
    "\n",
    "ax.set_title('Распределение количества потраченного трафика (Мб) по видам тарифов и месяцам')\n",
    "ax.set(xlabel='Номер месяца', ylabel='Среднее количество мегабайт');"
   ]
  },
  {
   "cell_type": "markdown",
   "metadata": {
    "deletable": false,
    "editable": false
   },
   "source": [
    "Сравнение потраченных мегабайт среди пользователей тарифов Smart и Ultra"
   ]
  },
  {
   "cell_type": "code",
   "execution_count": null,
   "metadata": {
    "deletable": false
   },
   "outputs": [],
   "source": [
    "user_behavior[user_behavior['tariff'] =='smart']['mb_used'].hist(bins=35, alpha=0.5, color='green')\n",
    "user_behavior[user_behavior['tariff'] =='ultra']['mb_used'].hist(bins=35, alpha=0.5, color='blue');"
   ]
  },
  {
   "cell_type": "markdown",
   "metadata": {
    "deletable": false,
    "editable": false
   },
   "source": [
    "Меньше всего пользователи использовали интернет в январе, феврале и апреле. Чаще всего абоненты тарифа Smart тратят 15-17 Гб, а абоненты тарифного плана Ultra - 19-21 ГБ."
   ]
  },
  {
   "cell_type": "markdown",
   "metadata": {
    "deletable": false,
    "editable": false
   },
   "source": [
    "### Проверка гипотез"
   ]
  },
  {
   "cell_type": "markdown",
   "metadata": {
    "deletable": false,
    "editable": false,
    "tags": [
     "start_task"
    ]
   },
   "source": [
    "Проверка гипотезы: средняя выручка пользователей тарифов «Ультра» и «Смарт» различаются;\n",
    "\n",
    "```\n",
    "H_0: Выручка (total_cost) пользователей \"Ультра\" = выручка (total_cost) пользователей \"Смарт\"`\n",
    "H_a: Выручка (total_cost) пользователей \"Ультра\" ≠ выручка (total_cost) пользователей \"Смарт\"`\n",
    "alpha = 0.05\n",
    "```"
   ]
  },
  {
   "cell_type": "code",
   "execution_count": 54,
   "metadata": {
    "deletable": false
   },
   "outputs": [
    {
     "name": "stdout",
     "output_type": "stream",
     "text": [
      "4.2606313931076085e-250\n",
      "Отвергаем нулевую гипотезу\n"
     ]
    }
   ],
   "source": [
    "results =st.ttest_ind(\n",
    "    user_behavior[user_behavior['tariff'] =='smart']['total_cost'], \n",
    "    user_behavior[user_behavior['tariff'] =='ultra']['total_cost'], equal_var=False) #вызов метода для проверки гипотезы\n",
    "\n",
    "alpha = 0.05 #задайте значение уровня значимости\n",
    "\n",
    "print(results.pvalue) # вывод значения p-value на экран \n",
    "\n",
    "if results.pvalue < alpha:\n",
    "    print(\"Отвергаем нулевую гипотезу\")\n",
    "else:\n",
    "    print(\"Не получилось отвергнуть нулевую гипотезу\")# условный оператор с выводом строки с ответом"
   ]
  },
  {
   "cell_type": "markdown",
   "metadata": {
    "deletable": false,
    "editable": false,
    "tags": [
     "start_task"
    ]
   },
   "source": [
    "Проверка гипотезы: пользователи из Москвы приносят больше выручки, чем пользователи из других городов;\n",
    "\n",
    "```\n",
    "H_0: Выручка (total_cost) пользователей из Москвы = выручка (total_cost) пользователей не из Москвы`\n",
    "H_1: Выручка (total_cost) пользователей из Москвы ≠ выручка (total_cost) пользователей не из Москвы`\n",
    "alpha = 0.05\n",
    "```"
   ]
  },
  {
   "cell_type": "code",
   "execution_count": 55,
   "metadata": {
    "deletable": false
   },
   "outputs": [
    {
     "name": "stdout",
     "output_type": "stream",
     "text": [
      "0.5257376663729298\n",
      "Не получилось отвергнуть нулевую гипотезу\n"
     ]
    }
   ],
   "source": [
    "results = st.ttest_ind(\n",
    "    user_behavior[user_behavior['city'] =='Москва']['total_cost'], \n",
    "    user_behavior[user_behavior['city'] !='Москва']['total_cost'], equal_var=False) #вызов метода для проверки гипотезы\n",
    "\n",
    "\n",
    "alpha = 0.05 # задайте значение уровня значимости\n",
    "\n",
    "print(results.pvalue) # вывод значения p-value на экран \n",
    "\n",
    "if results.pvalue < alpha:\n",
    "    print(\"Отвергаем нулевую гипотезу\")\n",
    "else:\n",
    "    print(\"Не получилось отвергнуть нулевую гипотезу\")# условный оператор с выводом строки с ответом"
   ]
  }
 ],
 "metadata": {
  "ExecuteTimeLog": [
   {
    "duration": 363,
    "start_time": "2022-11-24T15:54:20.027Z"
   },
   {
    "duration": 214,
    "start_time": "2022-11-24T15:54:21.378Z"
   },
   {
    "duration": 14,
    "start_time": "2022-11-24T15:54:22.706Z"
   },
   {
    "duration": 25,
    "start_time": "2022-11-24T15:54:25.057Z"
   },
   {
    "duration": 530,
    "start_time": "2022-11-24T15:55:08.840Z"
   },
   {
    "duration": 176,
    "start_time": "2022-11-24T15:56:14.790Z"
   },
   {
    "duration": 316,
    "start_time": "2022-11-24T15:56:50.658Z"
   },
   {
    "duration": 9,
    "start_time": "2022-11-24T15:57:36.269Z"
   },
   {
    "duration": 19,
    "start_time": "2022-11-24T15:57:38.220Z"
   },
   {
    "duration": 132,
    "start_time": "2022-11-24T15:58:18.844Z"
   },
   {
    "duration": 2,
    "start_time": "2022-11-24T16:06:40.249Z"
   },
   {
    "duration": 150,
    "start_time": "2022-11-24T16:06:40.788Z"
   },
   {
    "duration": 8,
    "start_time": "2022-11-24T16:06:41.213Z"
   },
   {
    "duration": 23,
    "start_time": "2022-11-24T16:06:41.578Z"
   },
   {
    "duration": 142,
    "start_time": "2022-11-24T16:06:42.018Z"
   },
   {
    "duration": 135,
    "start_time": "2022-11-24T16:06:42.423Z"
   },
   {
    "duration": 9,
    "start_time": "2022-11-24T16:06:43.018Z"
   },
   {
    "duration": 19,
    "start_time": "2022-11-24T16:06:43.428Z"
   },
   {
    "duration": 190,
    "start_time": "2022-11-24T16:06:43.963Z"
   },
   {
    "duration": 339,
    "start_time": "2022-11-24T16:06:44.533Z"
   },
   {
    "duration": 7,
    "start_time": "2022-11-24T16:06:45.243Z"
   },
   {
    "duration": 24,
    "start_time": "2022-11-24T16:06:45.928Z"
   },
   {
    "duration": 76,
    "start_time": "2022-11-24T16:06:46.888Z"
   },
   {
    "duration": 7,
    "start_time": "2022-11-24T16:06:47.533Z"
   },
   {
    "duration": 10,
    "start_time": "2022-11-24T16:06:48.198Z"
   },
   {
    "duration": 79,
    "start_time": "2022-11-24T16:06:49.703Z"
   },
   {
    "duration": 10,
    "start_time": "2022-11-24T16:06:50.488Z"
   },
   {
    "duration": 10,
    "start_time": "2022-11-24T16:06:52.413Z"
   },
   {
    "duration": 12,
    "start_time": "2022-11-24T16:08:33.968Z"
   },
   {
    "duration": 11,
    "start_time": "2022-11-24T16:08:45.533Z"
   },
   {
    "duration": 8,
    "start_time": "2022-11-24T16:08:53.608Z"
   },
   {
    "duration": 4,
    "start_time": "2022-11-24T16:09:15.103Z"
   },
   {
    "duration": 15,
    "start_time": "2022-11-24T16:12:40.713Z"
   },
   {
    "duration": 10,
    "start_time": "2022-11-24T16:12:54.248Z"
   },
   {
    "duration": 12,
    "start_time": "2022-11-24T16:13:08.088Z"
   },
   {
    "duration": 70,
    "start_time": "2022-11-24T16:13:14.353Z"
   },
   {
    "duration": 6,
    "start_time": "2022-11-24T16:16:46.810Z"
   },
   {
    "duration": 6,
    "start_time": "2022-11-24T16:19:52.729Z"
   },
   {
    "duration": 894,
    "start_time": "2022-11-24T16:22:40.816Z"
   },
   {
    "duration": 764,
    "start_time": "2022-11-24T16:25:45.608Z"
   },
   {
    "duration": 23,
    "start_time": "2022-11-24T16:26:00.367Z"
   },
   {
    "duration": 8,
    "start_time": "2022-11-24T16:32:05.821Z"
   },
   {
    "duration": 3,
    "start_time": "2022-11-24T16:32:28.059Z"
   },
   {
    "duration": 25,
    "start_time": "2022-11-24T16:32:28.410Z"
   },
   {
    "duration": 11,
    "start_time": "2022-11-24T16:33:43.502Z"
   },
   {
    "duration": 6,
    "start_time": "2022-11-24T16:33:44.000Z"
   },
   {
    "duration": 9,
    "start_time": "2022-11-24T16:34:06.231Z"
   },
   {
    "duration": 6,
    "start_time": "2022-11-24T16:34:06.699Z"
   },
   {
    "duration": 10,
    "start_time": "2022-11-24T16:34:57.293Z"
   },
   {
    "duration": 6,
    "start_time": "2022-11-24T16:34:57.862Z"
   },
   {
    "duration": 21,
    "start_time": "2022-11-24T16:47:28.337Z"
   },
   {
    "duration": 10,
    "start_time": "2022-11-24T16:47:28.877Z"
   },
   {
    "duration": 256,
    "start_time": "2022-11-24T16:49:25.878Z"
   },
   {
    "duration": 8,
    "start_time": "2022-11-24T16:49:26.634Z"
   },
   {
    "duration": 17,
    "start_time": "2022-11-24T16:52:05.047Z"
   },
   {
    "duration": 8,
    "start_time": "2022-11-24T16:52:06.356Z"
   },
   {
    "duration": 3,
    "start_time": "2022-11-24T16:54:33.125Z"
   },
   {
    "duration": 147,
    "start_time": "2022-11-24T16:54:33.695Z"
   },
   {
    "duration": 8,
    "start_time": "2022-11-24T16:54:34.029Z"
   },
   {
    "duration": 23,
    "start_time": "2022-11-24T16:54:34.435Z"
   },
   {
    "duration": 144,
    "start_time": "2022-11-24T16:54:34.816Z"
   },
   {
    "duration": 147,
    "start_time": "2022-11-24T16:54:35.288Z"
   },
   {
    "duration": 12,
    "start_time": "2022-11-24T16:54:35.606Z"
   },
   {
    "duration": 24,
    "start_time": "2022-11-24T16:54:36.168Z"
   },
   {
    "duration": 173,
    "start_time": "2022-11-24T16:54:36.566Z"
   },
   {
    "duration": 98,
    "start_time": "2022-11-24T16:54:36.910Z"
   },
   {
    "duration": 7,
    "start_time": "2022-11-24T16:54:37.395Z"
   },
   {
    "duration": 19,
    "start_time": "2022-11-24T16:54:37.845Z"
   },
   {
    "duration": 28,
    "start_time": "2022-11-24T16:54:38.638Z"
   },
   {
    "duration": 8,
    "start_time": "2022-11-24T16:54:39.012Z"
   },
   {
    "duration": 10,
    "start_time": "2022-11-24T16:54:39.377Z"
   },
   {
    "duration": 41,
    "start_time": "2022-11-24T16:54:39.776Z"
   },
   {
    "duration": 10,
    "start_time": "2022-11-24T16:54:40.166Z"
   },
   {
    "duration": 7,
    "start_time": "2022-11-24T16:54:40.407Z"
   },
   {
    "duration": 10,
    "start_time": "2022-11-24T16:54:41.115Z"
   },
   {
    "duration": 76,
    "start_time": "2022-11-24T16:54:42.367Z"
   },
   {
    "duration": 5,
    "start_time": "2022-11-24T16:54:43.003Z"
   },
   {
    "duration": 6,
    "start_time": "2022-11-24T16:54:43.947Z"
   },
   {
    "duration": 23,
    "start_time": "2022-11-24T16:54:44.955Z"
   },
   {
    "duration": 14,
    "start_time": "2022-11-24T16:54:45.766Z"
   },
   {
    "duration": 17,
    "start_time": "2022-11-24T16:54:46.498Z"
   },
   {
    "duration": 9,
    "start_time": "2022-11-24T16:54:52.335Z"
   },
   {
    "duration": 22,
    "start_time": "2022-11-24T16:54:53.311Z"
   },
   {
    "duration": 8,
    "start_time": "2022-11-24T16:54:54.166Z"
   },
   {
    "duration": 382,
    "start_time": "2022-11-26T08:39:28.571Z"
   },
   {
    "duration": 635,
    "start_time": "2022-11-26T08:39:29.105Z"
   },
   {
    "duration": 18,
    "start_time": "2022-11-26T08:39:29.741Z"
   },
   {
    "duration": 24,
    "start_time": "2022-11-26T08:39:29.761Z"
   },
   {
    "duration": 548,
    "start_time": "2022-11-26T08:39:30.044Z"
   },
   {
    "duration": 429,
    "start_time": "2022-11-26T08:39:30.594Z"
   },
   {
    "duration": 9,
    "start_time": "2022-11-26T08:39:31.025Z"
   },
   {
    "duration": 20,
    "start_time": "2022-11-26T08:39:31.045Z"
   },
   {
    "duration": 147,
    "start_time": "2022-11-26T08:39:31.366Z"
   },
   {
    "duration": 146,
    "start_time": "2022-11-26T08:39:31.804Z"
   },
   {
    "duration": 10,
    "start_time": "2022-11-26T08:39:32.145Z"
   },
   {
    "duration": 19,
    "start_time": "2022-11-26T08:39:32.517Z"
   },
   {
    "duration": 62,
    "start_time": "2022-11-26T08:39:32.876Z"
   },
   {
    "duration": 7,
    "start_time": "2022-11-26T08:39:33.238Z"
   },
   {
    "duration": 11,
    "start_time": "2022-11-26T08:39:33.610Z"
   },
   {
    "duration": 80,
    "start_time": "2022-11-26T08:39:33.957Z"
   },
   {
    "duration": 10,
    "start_time": "2022-11-26T08:39:34.359Z"
   },
   {
    "duration": 5,
    "start_time": "2022-11-26T08:39:34.558Z"
   },
   {
    "duration": 10,
    "start_time": "2022-11-26T08:39:34.877Z"
   },
   {
    "duration": 73,
    "start_time": "2022-11-26T08:39:35.826Z"
   },
   {
    "duration": 6,
    "start_time": "2022-11-26T08:39:36.184Z"
   },
   {
    "duration": 6,
    "start_time": "2022-11-26T08:39:36.506Z"
   },
   {
    "duration": 23,
    "start_time": "2022-11-26T08:39:36.844Z"
   },
   {
    "duration": 19,
    "start_time": "2022-11-26T08:39:37.205Z"
   },
   {
    "duration": 22,
    "start_time": "2022-11-26T08:39:37.605Z"
   },
   {
    "duration": 11,
    "start_time": "2022-11-26T08:39:38.694Z"
   },
   {
    "duration": 73,
    "start_time": "2022-11-26T08:39:39.193Z"
   },
   {
    "duration": 7,
    "start_time": "2022-11-26T08:39:40.846Z"
   },
   {
    "duration": 9,
    "start_time": "2022-11-26T08:40:13.529Z"
   },
   {
    "duration": 8,
    "start_time": "2022-11-26T08:40:41.279Z"
   },
   {
    "duration": 10,
    "start_time": "2022-11-26T08:41:05.112Z"
   },
   {
    "duration": 7,
    "start_time": "2022-11-26T08:41:06.876Z"
   },
   {
    "duration": 3,
    "start_time": "2022-11-26T08:41:43.501Z"
   },
   {
    "duration": 4,
    "start_time": "2022-11-26T08:41:48.526Z"
   },
   {
    "duration": 3,
    "start_time": "2022-11-26T08:41:58.346Z"
   },
   {
    "duration": 37,
    "start_time": "2022-11-26T08:41:58.866Z"
   },
   {
    "duration": 8,
    "start_time": "2022-11-26T08:47:40.437Z"
   },
   {
    "duration": 11,
    "start_time": "2022-11-26T08:48:20.469Z"
   },
   {
    "duration": 3,
    "start_time": "2022-11-26T08:50:07.697Z"
   },
   {
    "duration": 30,
    "start_time": "2022-11-26T08:50:09.263Z"
   },
   {
    "duration": 11,
    "start_time": "2022-11-26T08:50:52.390Z"
   },
   {
    "duration": 4,
    "start_time": "2022-11-26T08:53:57.897Z"
   },
   {
    "duration": 22,
    "start_time": "2022-11-26T08:54:00.386Z"
   },
   {
    "duration": 14,
    "start_time": "2022-11-26T08:56:24.464Z"
   },
   {
    "duration": 6,
    "start_time": "2022-11-26T08:56:25.824Z"
   },
   {
    "duration": 8,
    "start_time": "2022-11-26T08:57:49.952Z"
   },
   {
    "duration": 15,
    "start_time": "2022-11-26T09:01:26.524Z"
   },
   {
    "duration": 6,
    "start_time": "2022-11-26T09:01:29.017Z"
   },
   {
    "duration": 393,
    "start_time": "2022-11-26T13:57:45.839Z"
   },
   {
    "duration": 484,
    "start_time": "2022-11-26T13:57:46.467Z"
   },
   {
    "duration": 15,
    "start_time": "2022-11-26T13:57:46.953Z"
   },
   {
    "duration": 23,
    "start_time": "2022-11-26T13:57:47.199Z"
   },
   {
    "duration": 563,
    "start_time": "2022-11-26T13:57:47.587Z"
   },
   {
    "duration": 714,
    "start_time": "2022-11-26T13:57:48.152Z"
   },
   {
    "duration": 11,
    "start_time": "2022-11-26T13:57:48.867Z"
   },
   {
    "duration": 21,
    "start_time": "2022-11-26T13:57:48.899Z"
   },
   {
    "duration": 159,
    "start_time": "2022-11-26T13:57:49.248Z"
   },
   {
    "duration": 154,
    "start_time": "2022-11-26T13:57:52.866Z"
   },
   {
    "duration": 9,
    "start_time": "2022-11-26T13:57:53.022Z"
   },
   {
    "duration": 22,
    "start_time": "2022-11-26T13:57:53.033Z"
   },
   {
    "duration": 47,
    "start_time": "2022-11-26T13:57:53.056Z"
   },
   {
    "duration": 9,
    "start_time": "2022-11-26T13:57:54.580Z"
   },
   {
    "duration": 11,
    "start_time": "2022-11-26T13:57:55.321Z"
   },
   {
    "duration": 77,
    "start_time": "2022-11-26T13:57:56.112Z"
   },
   {
    "duration": 10,
    "start_time": "2022-11-26T13:57:56.676Z"
   },
   {
    "duration": 5,
    "start_time": "2022-11-26T13:57:57.452Z"
   },
   {
    "duration": 11,
    "start_time": "2022-11-26T13:57:57.932Z"
   },
   {
    "duration": 77,
    "start_time": "2022-11-26T13:57:58.893Z"
   },
   {
    "duration": 7,
    "start_time": "2022-11-26T13:57:59.439Z"
   },
   {
    "duration": 6,
    "start_time": "2022-11-26T13:58:00.053Z"
   },
   {
    "duration": 24,
    "start_time": "2022-11-26T13:58:00.432Z"
   },
   {
    "duration": 15,
    "start_time": "2022-11-26T13:58:01.212Z"
   },
   {
    "duration": 21,
    "start_time": "2022-11-26T13:58:02.072Z"
   },
   {
    "duration": 9,
    "start_time": "2022-11-26T13:58:03.104Z"
   },
   {
    "duration": 24,
    "start_time": "2022-11-26T13:58:04.545Z"
   },
   {
    "duration": 8,
    "start_time": "2022-11-26T13:58:05.615Z"
   },
   {
    "duration": 24,
    "start_time": "2022-11-26T14:02:16.115Z"
   },
   {
    "duration": 8,
    "start_time": "2022-11-26T14:02:16.795Z"
   },
   {
    "duration": 66,
    "start_time": "2022-11-26T14:10:16.066Z"
   },
   {
    "duration": 23,
    "start_time": "2022-11-26T14:10:48.744Z"
   },
   {
    "duration": 68,
    "start_time": "2022-11-26T14:11:26.645Z"
   },
   {
    "duration": 10,
    "start_time": "2022-11-26T14:11:28.680Z"
   },
   {
    "duration": 56,
    "start_time": "2022-11-26T14:18:14.010Z"
   },
   {
    "duration": 10,
    "start_time": "2022-11-26T14:18:14.690Z"
   },
   {
    "duration": 22,
    "start_time": "2022-11-26T14:19:36.537Z"
   },
   {
    "duration": 8,
    "start_time": "2022-11-26T14:19:36.977Z"
   },
   {
    "duration": 28,
    "start_time": "2022-11-26T14:22:23.767Z"
   },
   {
    "duration": 13,
    "start_time": "2022-11-26T14:22:24.066Z"
   },
   {
    "duration": 39,
    "start_time": "2022-11-26T14:23:58.642Z"
   },
   {
    "duration": 12,
    "start_time": "2022-11-26T14:23:58.977Z"
   },
   {
    "duration": 49,
    "start_time": "2022-11-26T14:29:12.883Z"
   },
   {
    "duration": 14,
    "start_time": "2022-11-26T14:29:13.188Z"
   },
   {
    "duration": 91,
    "start_time": "2022-11-26T14:31:15.031Z"
   },
   {
    "duration": 10,
    "start_time": "2022-11-26T14:31:17.177Z"
   },
   {
    "duration": 309,
    "start_time": "2022-11-26T14:31:47.744Z"
   },
   {
    "duration": 12,
    "start_time": "2022-11-26T14:31:48.476Z"
   },
   {
    "duration": 24,
    "start_time": "2022-11-26T14:32:16.770Z"
   },
   {
    "duration": 8,
    "start_time": "2022-11-26T14:32:17.006Z"
   },
   {
    "duration": 405,
    "start_time": "2022-11-28T09:09:15.070Z"
   },
   {
    "duration": 524,
    "start_time": "2022-11-28T09:09:15.745Z"
   },
   {
    "duration": 17,
    "start_time": "2022-11-28T09:09:16.270Z"
   },
   {
    "duration": 33,
    "start_time": "2022-11-28T09:09:16.535Z"
   },
   {
    "duration": 627,
    "start_time": "2022-11-28T09:09:17.147Z"
   },
   {
    "duration": 468,
    "start_time": "2022-11-28T09:09:17.776Z"
   },
   {
    "duration": 10,
    "start_time": "2022-11-28T09:09:18.246Z"
   },
   {
    "duration": 23,
    "start_time": "2022-11-28T09:09:18.484Z"
   },
   {
    "duration": 264,
    "start_time": "2022-11-28T09:09:18.896Z"
   },
   {
    "duration": 168,
    "start_time": "2022-11-28T09:09:19.311Z"
   },
   {
    "duration": 8,
    "start_time": "2022-11-28T09:09:19.744Z"
   },
   {
    "duration": 32,
    "start_time": "2022-11-28T09:09:20.206Z"
   },
   {
    "duration": 60,
    "start_time": "2022-11-28T09:09:20.595Z"
   },
   {
    "duration": 8,
    "start_time": "2022-11-28T09:09:20.996Z"
   },
   {
    "duration": 18,
    "start_time": "2022-11-28T09:09:21.516Z"
   },
   {
    "duration": 78,
    "start_time": "2022-11-28T09:09:22.081Z"
   },
   {
    "duration": 11,
    "start_time": "2022-11-28T09:09:22.623Z"
   },
   {
    "duration": 4,
    "start_time": "2022-11-28T09:09:22.827Z"
   },
   {
    "duration": 12,
    "start_time": "2022-11-28T09:09:23.258Z"
   },
   {
    "duration": 93,
    "start_time": "2022-11-28T09:09:24.206Z"
   },
   {
    "duration": 21,
    "start_time": "2022-11-28T09:09:24.876Z"
   },
   {
    "duration": 9,
    "start_time": "2022-11-28T09:09:25.946Z"
   },
   {
    "duration": 26,
    "start_time": "2022-11-28T09:09:26.485Z"
   },
   {
    "duration": 20,
    "start_time": "2022-11-28T09:09:27.247Z"
   },
   {
    "duration": 25,
    "start_time": "2022-11-28T09:09:27.897Z"
   },
   {
    "duration": 12,
    "start_time": "2022-11-28T09:09:29.207Z"
   },
   {
    "duration": 39,
    "start_time": "2022-11-28T09:09:30.254Z"
   },
   {
    "duration": 9,
    "start_time": "2022-11-28T09:09:30.884Z"
   },
   {
    "duration": 39,
    "start_time": "2022-11-28T09:10:20.795Z"
   },
   {
    "duration": 1253,
    "start_time": "2022-11-28T09:10:36.827Z"
   },
   {
    "duration": 1222,
    "start_time": "2022-11-28T09:10:58.386Z"
   },
   {
    "duration": 29,
    "start_time": "2022-11-28T09:15:22.026Z"
   },
   {
    "duration": 9,
    "start_time": "2022-11-28T09:15:24.190Z"
   },
   {
    "duration": 496,
    "start_time": "2022-11-28T16:58:50.528Z"
   },
   {
    "duration": 174,
    "start_time": "2022-11-28T16:58:51.026Z"
   },
   {
    "duration": 17,
    "start_time": "2022-11-28T16:58:51.201Z"
   },
   {
    "duration": 47,
    "start_time": "2022-11-28T16:58:51.220Z"
   },
   {
    "duration": 419,
    "start_time": "2022-11-28T16:58:51.269Z"
   },
   {
    "duration": 137,
    "start_time": "2022-11-28T16:58:51.690Z"
   },
   {
    "duration": 17,
    "start_time": "2022-11-28T16:58:51.828Z"
   },
   {
    "duration": 25,
    "start_time": "2022-11-28T16:58:51.846Z"
   },
   {
    "duration": 155,
    "start_time": "2022-11-28T16:58:51.872Z"
   },
   {
    "duration": 92,
    "start_time": "2022-11-28T16:58:52.029Z"
   },
   {
    "duration": 7,
    "start_time": "2022-11-28T16:58:52.122Z"
   },
   {
    "duration": 22,
    "start_time": "2022-11-28T16:58:52.131Z"
   },
   {
    "duration": 29,
    "start_time": "2022-11-28T16:58:52.154Z"
   },
   {
    "duration": 8,
    "start_time": "2022-11-28T16:58:52.186Z"
   },
   {
    "duration": 13,
    "start_time": "2022-11-28T16:58:52.196Z"
   },
   {
    "duration": 43,
    "start_time": "2022-11-28T16:58:52.211Z"
   },
   {
    "duration": 10,
    "start_time": "2022-11-28T16:58:52.255Z"
   },
   {
    "duration": 10,
    "start_time": "2022-11-28T16:58:52.266Z"
   },
   {
    "duration": 19,
    "start_time": "2022-11-28T16:58:52.278Z"
   },
   {
    "duration": 81,
    "start_time": "2022-11-28T16:58:52.298Z"
   },
   {
    "duration": 5,
    "start_time": "2022-11-28T16:58:52.381Z"
   },
   {
    "duration": 7,
    "start_time": "2022-11-28T16:58:52.388Z"
   },
   {
    "duration": 23,
    "start_time": "2022-11-28T16:58:52.396Z"
   },
   {
    "duration": 27,
    "start_time": "2022-11-28T16:58:52.421Z"
   },
   {
    "duration": 18,
    "start_time": "2022-11-28T16:58:52.449Z"
   },
   {
    "duration": 8,
    "start_time": "2022-11-28T16:58:52.469Z"
   },
   {
    "duration": 31,
    "start_time": "2022-11-28T16:58:52.479Z"
   },
   {
    "duration": 27,
    "start_time": "2022-11-28T16:58:52.511Z"
   },
   {
    "duration": 78,
    "start_time": "2022-11-28T16:58:52.540Z"
   },
   {
    "duration": 0,
    "start_time": "2022-11-28T16:58:52.620Z"
   },
   {
    "duration": 0,
    "start_time": "2022-11-28T16:58:52.621Z"
   },
   {
    "duration": 0,
    "start_time": "2022-11-28T16:58:52.622Z"
   },
   {
    "duration": 0,
    "start_time": "2022-11-28T16:58:52.623Z"
   },
   {
    "duration": 0,
    "start_time": "2022-11-28T16:58:52.624Z"
   },
   {
    "duration": 0,
    "start_time": "2022-11-28T16:58:52.625Z"
   },
   {
    "duration": 0,
    "start_time": "2022-11-28T16:58:52.626Z"
   },
   {
    "duration": 0,
    "start_time": "2022-11-28T16:58:52.627Z"
   },
   {
    "duration": 0,
    "start_time": "2022-11-28T16:58:52.628Z"
   },
   {
    "duration": 0,
    "start_time": "2022-11-28T16:58:52.629Z"
   },
   {
    "duration": 0,
    "start_time": "2022-11-28T16:58:52.630Z"
   },
   {
    "duration": 0,
    "start_time": "2022-11-28T16:58:52.631Z"
   },
   {
    "duration": 0,
    "start_time": "2022-11-28T16:58:52.633Z"
   },
   {
    "duration": 0,
    "start_time": "2022-11-28T16:58:52.634Z"
   },
   {
    "duration": 0,
    "start_time": "2022-11-28T16:58:52.635Z"
   },
   {
    "duration": 0,
    "start_time": "2022-11-28T16:58:52.636Z"
   },
   {
    "duration": 0,
    "start_time": "2022-11-28T16:58:52.637Z"
   },
   {
    "duration": 0,
    "start_time": "2022-11-28T16:58:52.638Z"
   },
   {
    "duration": 0,
    "start_time": "2022-11-28T16:58:52.639Z"
   },
   {
    "duration": 0,
    "start_time": "2022-11-28T16:58:52.640Z"
   },
   {
    "duration": 0,
    "start_time": "2022-11-28T16:58:52.641Z"
   },
   {
    "duration": 0,
    "start_time": "2022-11-28T16:58:52.642Z"
   },
   {
    "duration": 0,
    "start_time": "2022-11-28T16:58:52.643Z"
   },
   {
    "duration": 0,
    "start_time": "2022-11-28T16:58:52.644Z"
   },
   {
    "duration": 0,
    "start_time": "2022-11-28T16:58:52.645Z"
   },
   {
    "duration": 0,
    "start_time": "2022-11-28T16:58:52.647Z"
   },
   {
    "duration": 0,
    "start_time": "2022-11-28T16:58:52.647Z"
   },
   {
    "duration": 426,
    "start_time": "2022-11-29T08:30:27.251Z"
   },
   {
    "duration": 566,
    "start_time": "2022-11-29T08:30:27.910Z"
   },
   {
    "duration": 23,
    "start_time": "2022-11-29T08:30:28.479Z"
   },
   {
    "duration": 23,
    "start_time": "2022-11-29T08:30:28.725Z"
   },
   {
    "duration": 619,
    "start_time": "2022-11-29T08:30:29.091Z"
   },
   {
    "duration": 448,
    "start_time": "2022-11-29T08:30:29.712Z"
   },
   {
    "duration": 9,
    "start_time": "2022-11-29T08:30:30.161Z"
   },
   {
    "duration": 21,
    "start_time": "2022-11-29T08:30:30.233Z"
   },
   {
    "duration": 142,
    "start_time": "2022-11-29T08:30:30.291Z"
   },
   {
    "duration": 184,
    "start_time": "2022-11-29T08:30:30.434Z"
   },
   {
    "duration": 7,
    "start_time": "2022-11-29T08:30:30.619Z"
   },
   {
    "duration": 53,
    "start_time": "2022-11-29T08:30:30.628Z"
   },
   {
    "duration": 78,
    "start_time": "2022-11-29T08:30:30.684Z"
   },
   {
    "duration": 10,
    "start_time": "2022-11-29T08:30:30.764Z"
   },
   {
    "duration": 34,
    "start_time": "2022-11-29T08:30:30.775Z"
   },
   {
    "duration": 117,
    "start_time": "2022-11-29T08:30:30.811Z"
   },
   {
    "duration": 10,
    "start_time": "2022-11-29T08:30:30.930Z"
   },
   {
    "duration": 33,
    "start_time": "2022-11-29T08:30:30.942Z"
   },
   {
    "duration": 43,
    "start_time": "2022-11-29T08:30:30.976Z"
   },
   {
    "duration": 79,
    "start_time": "2022-11-29T08:30:31.049Z"
   },
   {
    "duration": 6,
    "start_time": "2022-11-29T08:30:31.130Z"
   },
   {
    "duration": 6,
    "start_time": "2022-11-29T08:30:31.162Z"
   },
   {
    "duration": 21,
    "start_time": "2022-11-29T08:30:31.251Z"
   },
   {
    "duration": 19,
    "start_time": "2022-11-29T08:30:31.572Z"
   },
   {
    "duration": 19,
    "start_time": "2022-11-29T08:30:32.293Z"
   },
   {
    "duration": 8,
    "start_time": "2022-11-29T08:30:33.852Z"
   },
   {
    "duration": 24,
    "start_time": "2022-11-29T08:30:34.513Z"
   },
   {
    "duration": 7,
    "start_time": "2022-11-29T08:30:34.833Z"
   },
   {
    "duration": 29,
    "start_time": "2022-11-29T08:30:59.271Z"
   },
   {
    "duration": 7,
    "start_time": "2022-11-29T08:30:59.611Z"
   },
   {
    "duration": 457,
    "start_time": "2022-11-29T08:31:26.957Z"
   },
   {
    "duration": 165,
    "start_time": "2022-11-29T08:31:27.415Z"
   },
   {
    "duration": 19,
    "start_time": "2022-11-29T08:31:27.583Z"
   },
   {
    "duration": 24,
    "start_time": "2022-11-29T08:31:27.604Z"
   },
   {
    "duration": 408,
    "start_time": "2022-11-29T08:31:27.630Z"
   },
   {
    "duration": 129,
    "start_time": "2022-11-29T08:31:28.039Z"
   },
   {
    "duration": 11,
    "start_time": "2022-11-29T08:31:28.169Z"
   },
   {
    "duration": 36,
    "start_time": "2022-11-29T08:31:28.182Z"
   },
   {
    "duration": 207,
    "start_time": "2022-11-29T08:31:28.220Z"
   },
   {
    "duration": 98,
    "start_time": "2022-11-29T08:31:28.429Z"
   },
   {
    "duration": 7,
    "start_time": "2022-11-29T08:31:28.528Z"
   },
   {
    "duration": 25,
    "start_time": "2022-11-29T08:31:28.537Z"
   },
   {
    "duration": 31,
    "start_time": "2022-11-29T08:31:28.564Z"
   },
   {
    "duration": 8,
    "start_time": "2022-11-29T08:31:28.598Z"
   },
   {
    "duration": 30,
    "start_time": "2022-11-29T08:31:28.607Z"
   },
   {
    "duration": 37,
    "start_time": "2022-11-29T08:31:28.639Z"
   },
   {
    "duration": 19,
    "start_time": "2022-11-29T08:31:28.678Z"
   },
   {
    "duration": 28,
    "start_time": "2022-11-29T08:31:28.699Z"
   },
   {
    "duration": 21,
    "start_time": "2022-11-29T08:31:28.728Z"
   },
   {
    "duration": 105,
    "start_time": "2022-11-29T08:31:28.751Z"
   },
   {
    "duration": 6,
    "start_time": "2022-11-29T08:31:28.858Z"
   },
   {
    "duration": 21,
    "start_time": "2022-11-29T08:31:28.866Z"
   },
   {
    "duration": 34,
    "start_time": "2022-11-29T08:31:28.890Z"
   },
   {
    "duration": 14,
    "start_time": "2022-11-29T08:31:28.926Z"
   },
   {
    "duration": 18,
    "start_time": "2022-11-29T08:31:28.942Z"
   },
   {
    "duration": 17,
    "start_time": "2022-11-29T08:31:28.962Z"
   },
   {
    "duration": 39,
    "start_time": "2022-11-29T08:31:28.982Z"
   },
   {
    "duration": 9,
    "start_time": "2022-11-29T08:31:29.023Z"
   },
   {
    "duration": 79,
    "start_time": "2022-11-29T08:31:29.034Z"
   },
   {
    "duration": 0,
    "start_time": "2022-11-29T08:31:29.114Z"
   },
   {
    "duration": 0,
    "start_time": "2022-11-29T08:31:29.115Z"
   },
   {
    "duration": 0,
    "start_time": "2022-11-29T08:31:29.117Z"
   },
   {
    "duration": 0,
    "start_time": "2022-11-29T08:31:29.118Z"
   },
   {
    "duration": 0,
    "start_time": "2022-11-29T08:31:29.119Z"
   },
   {
    "duration": 0,
    "start_time": "2022-11-29T08:31:29.120Z"
   },
   {
    "duration": 0,
    "start_time": "2022-11-29T08:31:29.121Z"
   },
   {
    "duration": 0,
    "start_time": "2022-11-29T08:31:29.122Z"
   },
   {
    "duration": 0,
    "start_time": "2022-11-29T08:31:29.123Z"
   },
   {
    "duration": 0,
    "start_time": "2022-11-29T08:31:29.124Z"
   },
   {
    "duration": 0,
    "start_time": "2022-11-29T08:31:29.125Z"
   },
   {
    "duration": 0,
    "start_time": "2022-11-29T08:31:29.126Z"
   },
   {
    "duration": 0,
    "start_time": "2022-11-29T08:31:29.127Z"
   },
   {
    "duration": 0,
    "start_time": "2022-11-29T08:31:29.128Z"
   },
   {
    "duration": 0,
    "start_time": "2022-11-29T08:31:29.129Z"
   },
   {
    "duration": 0,
    "start_time": "2022-11-29T08:31:29.130Z"
   },
   {
    "duration": 0,
    "start_time": "2022-11-29T08:31:29.131Z"
   },
   {
    "duration": 0,
    "start_time": "2022-11-29T08:31:29.132Z"
   },
   {
    "duration": 0,
    "start_time": "2022-11-29T08:31:29.133Z"
   },
   {
    "duration": 0,
    "start_time": "2022-11-29T08:31:29.135Z"
   },
   {
    "duration": 0,
    "start_time": "2022-11-29T08:31:29.136Z"
   },
   {
    "duration": 0,
    "start_time": "2022-11-29T08:31:29.137Z"
   },
   {
    "duration": 1,
    "start_time": "2022-11-29T08:31:29.138Z"
   },
   {
    "duration": 0,
    "start_time": "2022-11-29T08:31:29.140Z"
   },
   {
    "duration": 0,
    "start_time": "2022-11-29T08:31:29.141Z"
   },
   {
    "duration": 0,
    "start_time": "2022-11-29T08:31:29.141Z"
   },
   {
    "duration": 0,
    "start_time": "2022-11-29T08:31:29.142Z"
   },
   {
    "duration": 406,
    "start_time": "2022-11-29T11:06:26.895Z"
   },
   {
    "duration": 165,
    "start_time": "2022-11-29T11:06:27.303Z"
   },
   {
    "duration": 22,
    "start_time": "2022-11-29T11:06:27.469Z"
   },
   {
    "duration": 40,
    "start_time": "2022-11-29T11:06:27.493Z"
   },
   {
    "duration": 385,
    "start_time": "2022-11-29T11:06:27.535Z"
   },
   {
    "duration": 139,
    "start_time": "2022-11-29T11:06:27.922Z"
   },
   {
    "duration": 8,
    "start_time": "2022-11-29T11:06:28.063Z"
   },
   {
    "duration": 23,
    "start_time": "2022-11-29T11:06:28.081Z"
   },
   {
    "duration": 160,
    "start_time": "2022-11-29T11:06:28.105Z"
   },
   {
    "duration": 99,
    "start_time": "2022-11-29T11:06:28.266Z"
   },
   {
    "duration": 7,
    "start_time": "2022-11-29T11:06:28.367Z"
   },
   {
    "duration": 25,
    "start_time": "2022-11-29T11:06:28.377Z"
   },
   {
    "duration": 27,
    "start_time": "2022-11-29T11:06:28.405Z"
   },
   {
    "duration": 7,
    "start_time": "2022-11-29T11:06:28.435Z"
   },
   {
    "duration": 12,
    "start_time": "2022-11-29T11:06:28.443Z"
   },
   {
    "duration": 39,
    "start_time": "2022-11-29T11:06:28.456Z"
   },
   {
    "duration": 12,
    "start_time": "2022-11-29T11:06:28.497Z"
   },
   {
    "duration": 6,
    "start_time": "2022-11-29T11:06:28.511Z"
   },
   {
    "duration": 10,
    "start_time": "2022-11-29T11:06:28.519Z"
   },
   {
    "duration": 86,
    "start_time": "2022-11-29T11:06:28.531Z"
   },
   {
    "duration": 6,
    "start_time": "2022-11-29T11:06:28.618Z"
   },
   {
    "duration": 6,
    "start_time": "2022-11-29T11:06:28.626Z"
   },
   {
    "duration": 22,
    "start_time": "2022-11-29T11:06:28.633Z"
   },
   {
    "duration": 40,
    "start_time": "2022-11-29T11:06:28.657Z"
   },
   {
    "duration": 18,
    "start_time": "2022-11-29T11:06:28.700Z"
   },
   {
    "duration": 26,
    "start_time": "2022-11-29T11:06:28.719Z"
   },
   {
    "duration": 7,
    "start_time": "2022-11-29T11:06:28.746Z"
   },
   {
    "duration": 64,
    "start_time": "2022-11-29T11:06:28.755Z"
   },
   {
    "duration": 0,
    "start_time": "2022-11-29T11:06:28.821Z"
   },
   {
    "duration": 0,
    "start_time": "2022-11-29T11:06:28.822Z"
   },
   {
    "duration": 0,
    "start_time": "2022-11-29T11:06:28.823Z"
   },
   {
    "duration": 0,
    "start_time": "2022-11-29T11:06:28.824Z"
   },
   {
    "duration": 0,
    "start_time": "2022-11-29T11:06:28.825Z"
   },
   {
    "duration": 0,
    "start_time": "2022-11-29T11:06:28.826Z"
   },
   {
    "duration": 0,
    "start_time": "2022-11-29T11:06:28.827Z"
   },
   {
    "duration": 0,
    "start_time": "2022-11-29T11:06:28.828Z"
   },
   {
    "duration": 0,
    "start_time": "2022-11-29T11:06:28.829Z"
   },
   {
    "duration": 0,
    "start_time": "2022-11-29T11:06:28.830Z"
   },
   {
    "duration": 0,
    "start_time": "2022-11-29T11:06:28.830Z"
   },
   {
    "duration": 1,
    "start_time": "2022-11-29T11:06:28.831Z"
   },
   {
    "duration": 0,
    "start_time": "2022-11-29T11:06:28.832Z"
   },
   {
    "duration": 0,
    "start_time": "2022-11-29T11:06:28.833Z"
   },
   {
    "duration": 0,
    "start_time": "2022-11-29T11:06:28.834Z"
   },
   {
    "duration": 0,
    "start_time": "2022-11-29T11:06:28.835Z"
   },
   {
    "duration": 0,
    "start_time": "2022-11-29T11:06:28.836Z"
   },
   {
    "duration": 0,
    "start_time": "2022-11-29T11:06:28.837Z"
   },
   {
    "duration": 0,
    "start_time": "2022-11-29T11:06:28.838Z"
   },
   {
    "duration": 0,
    "start_time": "2022-11-29T11:06:28.839Z"
   },
   {
    "duration": 0,
    "start_time": "2022-11-29T11:06:28.840Z"
   },
   {
    "duration": 0,
    "start_time": "2022-11-29T11:06:28.841Z"
   },
   {
    "duration": 0,
    "start_time": "2022-11-29T11:06:28.842Z"
   },
   {
    "duration": 0,
    "start_time": "2022-11-29T11:06:28.843Z"
   },
   {
    "duration": 0,
    "start_time": "2022-11-29T11:06:28.844Z"
   },
   {
    "duration": 0,
    "start_time": "2022-11-29T11:06:28.845Z"
   },
   {
    "duration": 0,
    "start_time": "2022-11-29T11:06:28.846Z"
   },
   {
    "duration": 385,
    "start_time": "2022-11-29T11:06:59.923Z"
   },
   {
    "duration": 171,
    "start_time": "2022-11-29T11:07:00.310Z"
   },
   {
    "duration": 16,
    "start_time": "2022-11-29T11:07:00.482Z"
   },
   {
    "duration": 30,
    "start_time": "2022-11-29T11:07:00.500Z"
   },
   {
    "duration": 432,
    "start_time": "2022-11-29T11:07:00.532Z"
   },
   {
    "duration": 155,
    "start_time": "2022-11-29T11:07:00.966Z"
   },
   {
    "duration": 8,
    "start_time": "2022-11-29T11:07:01.123Z"
   },
   {
    "duration": 64,
    "start_time": "2022-11-29T11:07:01.133Z"
   },
   {
    "duration": 215,
    "start_time": "2022-11-29T11:07:01.198Z"
   },
   {
    "duration": 119,
    "start_time": "2022-11-29T11:07:01.415Z"
   },
   {
    "duration": 7,
    "start_time": "2022-11-29T11:07:01.536Z"
   },
   {
    "duration": 31,
    "start_time": "2022-11-29T11:07:01.545Z"
   },
   {
    "duration": 34,
    "start_time": "2022-11-29T11:07:01.577Z"
   },
   {
    "duration": 11,
    "start_time": "2022-11-29T11:07:01.616Z"
   },
   {
    "duration": 21,
    "start_time": "2022-11-29T11:07:01.629Z"
   },
   {
    "duration": 38,
    "start_time": "2022-11-29T11:07:01.652Z"
   },
   {
    "duration": 15,
    "start_time": "2022-11-29T11:07:01.693Z"
   },
   {
    "duration": 11,
    "start_time": "2022-11-29T11:07:01.710Z"
   },
   {
    "duration": 39,
    "start_time": "2022-11-29T11:07:01.723Z"
   },
   {
    "duration": 150,
    "start_time": "2022-11-29T11:07:01.764Z"
   },
   {
    "duration": 6,
    "start_time": "2022-11-29T11:07:01.916Z"
   },
   {
    "duration": 8,
    "start_time": "2022-11-29T11:07:01.923Z"
   },
   {
    "duration": 24,
    "start_time": "2022-11-29T11:07:01.933Z"
   },
   {
    "duration": 32,
    "start_time": "2022-11-29T11:07:01.958Z"
   },
   {
    "duration": 20,
    "start_time": "2022-11-29T11:07:01.993Z"
   },
   {
    "duration": 26,
    "start_time": "2022-11-29T11:07:02.015Z"
   },
   {
    "duration": 8,
    "start_time": "2022-11-29T11:07:02.042Z"
   },
   {
    "duration": 101,
    "start_time": "2022-11-29T11:07:02.051Z"
   },
   {
    "duration": 0,
    "start_time": "2022-11-29T11:07:02.154Z"
   },
   {
    "duration": 0,
    "start_time": "2022-11-29T11:07:02.156Z"
   },
   {
    "duration": 0,
    "start_time": "2022-11-29T11:07:02.157Z"
   },
   {
    "duration": 0,
    "start_time": "2022-11-29T11:07:02.158Z"
   },
   {
    "duration": 0,
    "start_time": "2022-11-29T11:07:02.159Z"
   },
   {
    "duration": 0,
    "start_time": "2022-11-29T11:07:02.160Z"
   },
   {
    "duration": 0,
    "start_time": "2022-11-29T11:07:02.162Z"
   },
   {
    "duration": 0,
    "start_time": "2022-11-29T11:07:02.163Z"
   },
   {
    "duration": 0,
    "start_time": "2022-11-29T11:07:02.164Z"
   },
   {
    "duration": 0,
    "start_time": "2022-11-29T11:07:02.165Z"
   },
   {
    "duration": 0,
    "start_time": "2022-11-29T11:07:02.166Z"
   },
   {
    "duration": 0,
    "start_time": "2022-11-29T11:07:02.167Z"
   },
   {
    "duration": 0,
    "start_time": "2022-11-29T11:07:02.168Z"
   },
   {
    "duration": 0,
    "start_time": "2022-11-29T11:07:02.169Z"
   },
   {
    "duration": 0,
    "start_time": "2022-11-29T11:07:02.170Z"
   },
   {
    "duration": 0,
    "start_time": "2022-11-29T11:07:02.171Z"
   },
   {
    "duration": 0,
    "start_time": "2022-11-29T11:07:02.172Z"
   },
   {
    "duration": 0,
    "start_time": "2022-11-29T11:07:02.173Z"
   },
   {
    "duration": 0,
    "start_time": "2022-11-29T11:07:02.174Z"
   },
   {
    "duration": 0,
    "start_time": "2022-11-29T11:07:02.175Z"
   },
   {
    "duration": 0,
    "start_time": "2022-11-29T11:07:02.176Z"
   },
   {
    "duration": 0,
    "start_time": "2022-11-29T11:07:02.181Z"
   },
   {
    "duration": 0,
    "start_time": "2022-11-29T11:07:02.183Z"
   },
   {
    "duration": 0,
    "start_time": "2022-11-29T11:07:02.184Z"
   },
   {
    "duration": 0,
    "start_time": "2022-11-29T11:07:02.186Z"
   },
   {
    "duration": 0,
    "start_time": "2022-11-29T11:07:02.191Z"
   },
   {
    "duration": 0,
    "start_time": "2022-11-29T11:07:02.193Z"
   },
   {
    "duration": 24,
    "start_time": "2022-11-29T11:20:32.432Z"
   },
   {
    "duration": 9,
    "start_time": "2022-11-29T11:20:32.826Z"
   },
   {
    "duration": 17,
    "start_time": "2022-11-29T11:23:03.228Z"
   },
   {
    "duration": 8,
    "start_time": "2022-11-29T11:23:03.419Z"
   },
   {
    "duration": 21,
    "start_time": "2022-11-29T11:25:10.412Z"
   },
   {
    "duration": 10,
    "start_time": "2022-11-29T11:25:10.644Z"
   },
   {
    "duration": 4,
    "start_time": "2022-11-29T11:26:41.869Z"
   },
   {
    "duration": 33,
    "start_time": "2022-11-29T11:27:01.449Z"
   },
   {
    "duration": 8,
    "start_time": "2022-11-29T11:27:17.438Z"
   },
   {
    "duration": 6,
    "start_time": "2022-11-29T11:27:39.728Z"
   },
   {
    "duration": 3,
    "start_time": "2022-11-29T11:27:44.741Z"
   },
   {
    "duration": 7,
    "start_time": "2022-11-29T11:27:46.348Z"
   },
   {
    "duration": 9,
    "start_time": "2022-11-29T11:29:05.593Z"
   },
   {
    "duration": 4,
    "start_time": "2022-11-29T11:30:27.325Z"
   },
   {
    "duration": 6,
    "start_time": "2022-11-29T11:30:44.763Z"
   },
   {
    "duration": 4,
    "start_time": "2022-11-29T11:31:21.603Z"
   },
   {
    "duration": 44,
    "start_time": "2022-11-29T11:32:23.343Z"
   },
   {
    "duration": 742,
    "start_time": "2022-11-29T11:33:38.553Z"
   },
   {
    "duration": 277,
    "start_time": "2022-11-29T11:34:43.985Z"
   },
   {
    "duration": 3,
    "start_time": "2022-11-29T11:59:48.767Z"
   },
   {
    "duration": 126,
    "start_time": "2022-11-29T11:59:48.882Z"
   },
   {
    "duration": 11,
    "start_time": "2022-11-29T12:00:57.772Z"
   },
   {
    "duration": 8,
    "start_time": "2022-11-29T12:01:12.717Z"
   },
   {
    "duration": 10,
    "start_time": "2022-11-29T12:03:34.103Z"
   },
   {
    "duration": 8,
    "start_time": "2022-11-29T12:10:27.172Z"
   },
   {
    "duration": 9,
    "start_time": "2022-11-29T12:11:01.143Z"
   },
   {
    "duration": 8,
    "start_time": "2022-11-29T12:15:17.819Z"
   }
  ],
  "kernelspec": {
   "display_name": "Python 3 (ipykernel)",
   "language": "python",
   "name": "python3"
  },
  "language_info": {
   "codemirror_mode": {
    "name": "ipython",
    "version": 3
   },
   "file_extension": ".py",
   "mimetype": "text/x-python",
   "name": "python",
   "nbconvert_exporter": "python",
   "pygments_lexer": "ipython3",
   "version": "3.9.13"
  },
  "toc": {
   "base_numbering": 1,
   "nav_menu": {},
   "number_sections": true,
   "sideBar": true,
   "skip_h1_title": true,
   "title_cell": "Table of Contents",
   "title_sidebar": "Contents",
   "toc_cell": false,
   "toc_position": {},
   "toc_section_display": true,
   "toc_window_display": false
  }
 },
 "nbformat": 4,
 "nbformat_minor": 2
}
