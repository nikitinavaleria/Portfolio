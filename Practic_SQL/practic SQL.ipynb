{
 "cells": [
  {
   "cell_type": "markdown",
   "metadata": {
    "id": "sRW85nPMDWKb"
   },
   "source": [
    "# Анализ базы данных stackoverflow"
   ]
  },
  {
   "cell_type": "code",
   "execution_count": 1,
   "metadata": {
    "id": "nlZBlglMDWKe"
   },
   "outputs": [],
   "source": [
    "import pandas as pd\n",
    "import seaborn as sns\n",
    "import matplotlib.pyplot as plt\n",
    "from sqlalchemy import create_engine "
   ]
  },
  {
   "cell_type": "markdown",
   "metadata": {
    "id": "XnOE3n28DWKg"
   },
   "source": [
    "### Конфигурация для подключения к базе данных `data-analyst-advanced-sql`\n",
    "Эта база данных содержит схему `stackoverflow`, с которой вы будете работать в проекте"
   ]
  },
  {
   "cell_type": "code",
   "execution_count": 2,
   "metadata": {
    "id": "6p-yGp7qDWKg"
   },
   "outputs": [],
   "source": [
    "db_config = {\n",
    "    'user': 'praktikum_student', # имя пользователя\n",
    "    'pwd': 'Sdf4$2;d-d30pp', # пароль\n",
    "    'host': 'rc1b-wcoijxj3yxfsf3fs.mdb.yandexcloud.net',\n",
    "    'port': 6432, # порт подключения\n",
    "    'db': 'data-analyst-advanced-sql' # название базы данных\n",
    "}  \n",
    "\n",
    "connection_string = 'postgresql://{}:{}@{}:{}/{}'.format(\n",
    "    db_config['user'],\n",
    "    db_config['pwd'],\n",
    "    db_config['host'],\n",
    "    db_config['port'],\n",
    "    db_config['db'],\n",
    ")"
   ]
  },
  {
   "cell_type": "markdown",
   "metadata": {
    "id": "2Rg8ZpS0DWKh"
   },
   "source": [
    "Создание подключения"
   ]
  },
  {
   "cell_type": "code",
   "execution_count": 3,
   "metadata": {
    "id": "DamCUTR6DWKi"
   },
   "outputs": [],
   "source": [
    "engine = create_engine(connection_string) "
   ]
  },
  {
   "cell_type": "markdown",
   "metadata": {
    "id": "gnBMXkDBDWKm"
   },
   "source": [
    "# Задание 1"
   ]
  },
  {
   "cell_type": "markdown",
   "metadata": {
    "id": "vHsfOrrNDWKn"
   },
   "source": [
    "Выведите общую сумму просмотров постов за каждый месяц 2008 года. Если данных за какой-либо месяц в базе нет, такой месяц можно пропустить. Результат отсортируйте по убыванию общего количества просмотров."
   ]
  },
  {
   "cell_type": "markdown",
   "metadata": {
    "id": "N5rTgGNmDWKn"
   },
   "source": [
    "| month_date  | total_views |\n",
    "| ------------- | ------------- |\n",
    "| 2008-09-01  | 452928568  |\n",
    "| 2008-10-01  | 365400138  |\n",
    "| ...         | ... |"
   ]
  },
  {
   "cell_type": "code",
   "execution_count": 4,
   "metadata": {
    "id": "eWvykcXTDWKo"
   },
   "outputs": [
    {
     "data": {
      "text/html": [
       "<div>\n",
       "<style scoped>\n",
       "    .dataframe tbody tr th:only-of-type {\n",
       "        vertical-align: middle;\n",
       "    }\n",
       "\n",
       "    .dataframe tbody tr th {\n",
       "        vertical-align: top;\n",
       "    }\n",
       "\n",
       "    .dataframe thead th {\n",
       "        text-align: right;\n",
       "    }\n",
       "</style>\n",
       "<table border=\"1\" class=\"dataframe\">\n",
       "  <thead>\n",
       "    <tr style=\"text-align: right;\">\n",
       "      <th></th>\n",
       "      <th>month_date</th>\n",
       "      <th>total_views</th>\n",
       "    </tr>\n",
       "  </thead>\n",
       "  <tbody>\n",
       "    <tr>\n",
       "      <th>0</th>\n",
       "      <td>9.0</td>\n",
       "      <td>452928568</td>\n",
       "    </tr>\n",
       "    <tr>\n",
       "      <th>1</th>\n",
       "      <td>10.0</td>\n",
       "      <td>365400138</td>\n",
       "    </tr>\n",
       "    <tr>\n",
       "      <th>2</th>\n",
       "      <td>11.0</td>\n",
       "      <td>221759651</td>\n",
       "    </tr>\n",
       "    <tr>\n",
       "      <th>3</th>\n",
       "      <td>12.0</td>\n",
       "      <td>197792841</td>\n",
       "    </tr>\n",
       "    <tr>\n",
       "      <th>4</th>\n",
       "      <td>8.0</td>\n",
       "      <td>131367083</td>\n",
       "    </tr>\n",
       "    <tr>\n",
       "      <th>5</th>\n",
       "      <td>7.0</td>\n",
       "      <td>669895</td>\n",
       "    </tr>\n",
       "  </tbody>\n",
       "</table>\n",
       "</div>"
      ],
      "text/plain": [
       "   month_date  total_views\n",
       "0         9.0    452928568\n",
       "1        10.0    365400138\n",
       "2        11.0    221759651\n",
       "3        12.0    197792841\n",
       "4         8.0    131367083\n",
       "5         7.0       669895"
      ]
     },
     "execution_count": 4,
     "metadata": {},
     "output_type": "execute_result"
    }
   ],
   "source": [
    "# напишите запрос\n",
    "query = '''\n",
    "SELECT EXTRACT(MONTH FROM creation_date::date) AS month_date,\n",
    "       SUM(views_count)  AS total_views \n",
    "\n",
    "FROM stackoverflow.posts\n",
    "GROUP BY EXTRACT(MONTH FROM creation_date::date)\n",
    "ORDER BY total_views DESC\n",
    "\n",
    "'''\n",
    "\n",
    "# выполните запрос\n",
    "df = pd.read_sql_query(query, con=engine)\n",
    "df"
   ]
  },
  {
   "cell_type": "markdown",
   "metadata": {
    "id": "luxSj17oDWKq"
   },
   "source": [
    "**Наибольшее количество просмотров наблюдается в сентябре, после чего идёт спад до декабря**"
   ]
  },
  {
   "cell_type": "markdown",
   "metadata": {
    "id": "FziIXkn5DWKr"
   },
   "source": [
    "# Задание 2"
   ]
  },
  {
   "cell_type": "markdown",
   "metadata": {
    "id": "fTGESZvYDWKr"
   },
   "source": [
    "Выведите имена самых активных пользователей, которые в первый месяц после регистрации (включая день регистрации) дали больше 100 ответов. Вопросы, которые задавали пользователи, не учитывайте. Для каждого имени пользователя выведите количество уникальных значений `user_id`. Отсортируйте результат по полю с именами в лексикографическом порядке."
   ]
  },
  {
   "cell_type": "markdown",
   "metadata": {
    "id": "W5-tv6Y3DWKs"
   },
   "source": [
    "| display_name | count |\n",
    "| ------------ | ----- |\n",
    "| 1800 INFORMATION | 1 |\n",
    "| Adam Bellaire | 1 |\n",
    "| Adam Davis | 1 |\n",
    "| ... | ... |"
   ]
  },
  {
   "cell_type": "code",
   "execution_count": 5,
   "metadata": {
    "id": "fIO-y-YjDWKt"
   },
   "outputs": [
    {
     "data": {
      "text/html": [
       "<div>\n",
       "<style scoped>\n",
       "    .dataframe tbody tr th:only-of-type {\n",
       "        vertical-align: middle;\n",
       "    }\n",
       "\n",
       "    .dataframe tbody tr th {\n",
       "        vertical-align: top;\n",
       "    }\n",
       "\n",
       "    .dataframe thead th {\n",
       "        text-align: right;\n",
       "    }\n",
       "</style>\n",
       "<table border=\"1\" class=\"dataframe\">\n",
       "  <thead>\n",
       "    <tr style=\"text-align: right;\">\n",
       "      <th></th>\n",
       "      <th>display_name</th>\n",
       "      <th>cnt</th>\n",
       "    </tr>\n",
       "  </thead>\n",
       "  <tbody>\n",
       "    <tr>\n",
       "      <th>0</th>\n",
       "      <td>1800 INFORMATION</td>\n",
       "      <td>1</td>\n",
       "    </tr>\n",
       "    <tr>\n",
       "      <th>1</th>\n",
       "      <td>Adam Bellaire</td>\n",
       "      <td>1</td>\n",
       "    </tr>\n",
       "    <tr>\n",
       "      <th>2</th>\n",
       "      <td>Adam Davis</td>\n",
       "      <td>1</td>\n",
       "    </tr>\n",
       "    <tr>\n",
       "      <th>3</th>\n",
       "      <td>Adam Liss</td>\n",
       "      <td>1</td>\n",
       "    </tr>\n",
       "    <tr>\n",
       "      <th>4</th>\n",
       "      <td>Alan</td>\n",
       "      <td>8</td>\n",
       "    </tr>\n",
       "    <tr>\n",
       "      <th>...</th>\n",
       "      <td>...</td>\n",
       "      <td>...</td>\n",
       "    </tr>\n",
       "    <tr>\n",
       "      <th>74</th>\n",
       "      <td>lomaxx</td>\n",
       "      <td>1</td>\n",
       "    </tr>\n",
       "    <tr>\n",
       "      <th>75</th>\n",
       "      <td>mattlant</td>\n",
       "      <td>1</td>\n",
       "    </tr>\n",
       "    <tr>\n",
       "      <th>76</th>\n",
       "      <td>paxdiablo</td>\n",
       "      <td>1</td>\n",
       "    </tr>\n",
       "    <tr>\n",
       "      <th>77</th>\n",
       "      <td>tvanfosson</td>\n",
       "      <td>1</td>\n",
       "    </tr>\n",
       "    <tr>\n",
       "      <th>78</th>\n",
       "      <td>tzot</td>\n",
       "      <td>1</td>\n",
       "    </tr>\n",
       "  </tbody>\n",
       "</table>\n",
       "<p>79 rows × 2 columns</p>\n",
       "</div>"
      ],
      "text/plain": [
       "        display_name  cnt\n",
       "0   1800 INFORMATION    1\n",
       "1      Adam Bellaire    1\n",
       "2         Adam Davis    1\n",
       "3          Adam Liss    1\n",
       "4               Alan    8\n",
       "..               ...  ...\n",
       "74            lomaxx    1\n",
       "75          mattlant    1\n",
       "76         paxdiablo    1\n",
       "77        tvanfosson    1\n",
       "78              tzot    1\n",
       "\n",
       "[79 rows x 2 columns]"
      ]
     },
     "execution_count": 5,
     "metadata": {},
     "output_type": "execute_result"
    }
   ],
   "source": [
    "# напишите запрос\n",
    "query = '''\n",
    "SELECT users.display_name,  COUNT(DISTINCT(users.id)) AS cnt\n",
    "              FROM stackoverflow.users \n",
    "              JOIN stackoverflow.posts ON users.id = posts.user_id\n",
    "              JOIN stackoverflow.post_types ON posts.post_type_id = post_types.id\n",
    "              \n",
    "              WHERE post_types.type = 'Answer' AND (posts.creation_date::date <= (users.creation_date + INTERVAL '30 days'))\n",
    "              \n",
    "              GROUP BY users.display_name\n",
    "              HAVING COUNT(posts.id) > 100\n",
    "              ORDER BY users.display_name ASC\n",
    "              \n",
    "              \n",
    "\n",
    "\n",
    "\n",
    "\n",
    "\n",
    "\n",
    "'''\n",
    "\n",
    "# выполните запрос\n",
    "df = pd.read_sql_query(query, con=engine)\n",
    "df"
   ]
  },
  {
   "cell_type": "markdown",
   "metadata": {
    "id": "CEIGGQ6ODWKy"
   },
   "source": [
    "**Даже на первый взгляд слишком много \"непонятных\" ников**"
   ]
  },
  {
   "cell_type": "markdown",
   "metadata": {
    "id": "JhM2xXj5DWKu"
   },
   "source": [
    "# Задание 3"
   ]
  },
  {
   "cell_type": "markdown",
   "metadata": {
    "id": "IS6xPqyyDWKu"
   },
   "source": [
    "Выведите количество постов за 2008 год по месяцам. Отберите посты от пользователей, которые зарегистрировались в сентябре 2008 года и сделали хотя бы один пост в декабре того же года. Отсортируйте таблицу по значению месяца по убыванию."
   ]
  },
  {
   "cell_type": "markdown",
   "metadata": {
    "id": "WmjhjV2xDWKv"
   },
   "source": [
    "| month | count |\n",
    "| ------|------ |\n",
    "| 2008-12-01 | 17641 |\n",
    "| 2008-11-01 | 18294 |\n",
    "| ... | ... |"
   ]
  },
  {
   "cell_type": "code",
   "execution_count": 6,
   "metadata": {
    "id": "kVu0FB8WDWKv"
   },
   "outputs": [
    {
     "data": {
      "text/html": [
       "<div>\n",
       "<style scoped>\n",
       "    .dataframe tbody tr th:only-of-type {\n",
       "        vertical-align: middle;\n",
       "    }\n",
       "\n",
       "    .dataframe tbody tr th {\n",
       "        vertical-align: top;\n",
       "    }\n",
       "\n",
       "    .dataframe thead th {\n",
       "        text-align: right;\n",
       "    }\n",
       "</style>\n",
       "<table border=\"1\" class=\"dataframe\">\n",
       "  <thead>\n",
       "    <tr style=\"text-align: right;\">\n",
       "      <th></th>\n",
       "      <th>month_date</th>\n",
       "      <th>count_posts</th>\n",
       "    </tr>\n",
       "  </thead>\n",
       "  <tbody>\n",
       "    <tr>\n",
       "      <th>0</th>\n",
       "      <td>2008-12-01</td>\n",
       "      <td>17641</td>\n",
       "    </tr>\n",
       "    <tr>\n",
       "      <th>1</th>\n",
       "      <td>2008-11-01</td>\n",
       "      <td>18294</td>\n",
       "    </tr>\n",
       "    <tr>\n",
       "      <th>2</th>\n",
       "      <td>2008-10-01</td>\n",
       "      <td>27171</td>\n",
       "    </tr>\n",
       "    <tr>\n",
       "      <th>3</th>\n",
       "      <td>2008-09-01</td>\n",
       "      <td>24870</td>\n",
       "    </tr>\n",
       "    <tr>\n",
       "      <th>4</th>\n",
       "      <td>2008-08-01</td>\n",
       "      <td>32</td>\n",
       "    </tr>\n",
       "  </tbody>\n",
       "</table>\n",
       "</div>"
      ],
      "text/plain": [
       "  month_date  count_posts\n",
       "0 2008-12-01        17641\n",
       "1 2008-11-01        18294\n",
       "2 2008-10-01        27171\n",
       "3 2008-09-01        24870\n",
       "4 2008-08-01           32"
      ]
     },
     "execution_count": 6,
     "metadata": {},
     "output_type": "execute_result"
    }
   ],
   "source": [
    "# напишите запрос\n",
    "query = '''\n",
    "WITH users_sep AS (SELECT DISTINCT(users.id) AS id\n",
    "                   FROM stackoverflow.posts\n",
    "                   JOIN stackoverflow.users ON users.id = posts.user_id\n",
    "                   WHERE EXTRACT(YEAR FROM users.creation_date::date) = 2008 AND EXTRACT(MONTH FROM users.creation_date::date) = 9 AND EXTRACT(MONTH FROM posts.creation_date::date) = 12 \n",
    " \n",
    "                  )\n",
    "\n",
    "SELECT DATE_TRUNC('month', creation_date) AS month_date,\n",
    "       COUNT(posts.id)  AS count_posts \n",
    "\n",
    "FROM stackoverflow.posts\n",
    "INNER JOIN users_sep on posts.user_id = users_sep.id\n",
    "GROUP BY month_date\n",
    "ORDER BY month_date DESC\n",
    "\n",
    "'''\n",
    "\n",
    "# выполните запрос\n",
    "df = pd.read_sql_query(query, con=engine)\n",
    "df"
   ]
  },
  {
   "cell_type": "markdown",
   "metadata": {
    "id": "MMVIz4yMlKpN"
   },
   "source": [
    "**Данных за август не должно быть. Вероятно были ошибки в дате постов**"
   ]
  },
  {
   "cell_type": "markdown",
   "metadata": {
    "id": "5Pcizm0DDWKz"
   },
   "source": [
    "# Задание 4"
   ]
  },
  {
   "cell_type": "markdown",
   "metadata": {
    "id": "KUZPF6vHDWKz"
   },
   "source": [
    "Используя данные о постах, выведите несколько полей:\n",
    "\n",
    "- идентификатор пользователя, который написал пост;\n",
    "- дата создания поста;\n",
    "- количество просмотров у текущего поста;\n",
    "- сумму просмотров постов автора с накоплением.\n",
    "\n",
    "Данные в таблице должны быть отсортированы по возрастанию идентификаторов пользователей, а данные об одном и том же пользователе — по возрастанию даты создания поста."
   ]
  },
  {
   "cell_type": "markdown",
   "metadata": {
    "id": "ZpsTUVDYDWK0"
   },
   "source": [
    "| user_id | creation_date | views_count | cumulative_count |\n",
    "| ------ | -------------- | ----------- | ---------------- |\n",
    "| 1 | 2008-07-31 23:41:00  | 480476   | 480476  |\n",
    "| 1 | 2008-07-31 23:55:38  | 136033 | 616509  | \n",
    "| 1 | 2008-07-31 23:56:41  | 0 |  616509  |\n",
    "| ... | ... | ... | ... |\n",
    "| 2 | 2008-07-31 23:56:41 | 79087  | 79087 |\n",
    "| 2 | 2008-08-01 05:09:56 | 65443 | 144530 |\n",
    "| ... | ...  | ...  | ...  |"
   ]
  },
  {
   "cell_type": "code",
   "execution_count": 7,
   "metadata": {
    "id": "hDoJhMzfDWK0"
   },
   "outputs": [
    {
     "data": {
      "text/html": [
       "<div>\n",
       "<style scoped>\n",
       "    .dataframe tbody tr th:only-of-type {\n",
       "        vertical-align: middle;\n",
       "    }\n",
       "\n",
       "    .dataframe tbody tr th {\n",
       "        vertical-align: top;\n",
       "    }\n",
       "\n",
       "    .dataframe thead th {\n",
       "        text-align: right;\n",
       "    }\n",
       "</style>\n",
       "<table border=\"1\" class=\"dataframe\">\n",
       "  <thead>\n",
       "    <tr style=\"text-align: right;\">\n",
       "      <th></th>\n",
       "      <th>user_id</th>\n",
       "      <th>creation_date</th>\n",
       "      <th>views_count</th>\n",
       "      <th>sum</th>\n",
       "    </tr>\n",
       "  </thead>\n",
       "  <tbody>\n",
       "    <tr>\n",
       "      <th>0</th>\n",
       "      <td>1</td>\n",
       "      <td>2008-07-31 23:41:00</td>\n",
       "      <td>480476</td>\n",
       "      <td>480476</td>\n",
       "    </tr>\n",
       "    <tr>\n",
       "      <th>1</th>\n",
       "      <td>1</td>\n",
       "      <td>2008-07-31 23:55:38</td>\n",
       "      <td>136033</td>\n",
       "      <td>616509</td>\n",
       "    </tr>\n",
       "    <tr>\n",
       "      <th>2</th>\n",
       "      <td>1</td>\n",
       "      <td>2008-07-31 23:56:41</td>\n",
       "      <td>0</td>\n",
       "      <td>616509</td>\n",
       "    </tr>\n",
       "    <tr>\n",
       "      <th>3</th>\n",
       "      <td>1</td>\n",
       "      <td>2008-08-04 02:45:08</td>\n",
       "      <td>0</td>\n",
       "      <td>616509</td>\n",
       "    </tr>\n",
       "    <tr>\n",
       "      <th>4</th>\n",
       "      <td>1</td>\n",
       "      <td>2008-08-04 04:31:03</td>\n",
       "      <td>0</td>\n",
       "      <td>616509</td>\n",
       "    </tr>\n",
       "    <tr>\n",
       "      <th>...</th>\n",
       "      <td>...</td>\n",
       "      <td>...</td>\n",
       "      <td>...</td>\n",
       "      <td>...</td>\n",
       "    </tr>\n",
       "    <tr>\n",
       "      <th>243791</th>\n",
       "      <td>5696608</td>\n",
       "      <td>2008-12-23 16:00:37</td>\n",
       "      <td>0</td>\n",
       "      <td>2804</td>\n",
       "    </tr>\n",
       "    <tr>\n",
       "      <th>243792</th>\n",
       "      <td>5696608</td>\n",
       "      <td>2008-12-23 17:35:09</td>\n",
       "      <td>0</td>\n",
       "      <td>2804</td>\n",
       "    </tr>\n",
       "    <tr>\n",
       "      <th>243793</th>\n",
       "      <td>5696608</td>\n",
       "      <td>2008-12-24 01:02:48</td>\n",
       "      <td>0</td>\n",
       "      <td>2804</td>\n",
       "    </tr>\n",
       "    <tr>\n",
       "      <th>243794</th>\n",
       "      <td>5696608</td>\n",
       "      <td>2008-12-30 14:34:45</td>\n",
       "      <td>0</td>\n",
       "      <td>2804</td>\n",
       "    </tr>\n",
       "    <tr>\n",
       "      <th>243795</th>\n",
       "      <td>5696608</td>\n",
       "      <td>2008-12-30 16:32:12</td>\n",
       "      <td>0</td>\n",
       "      <td>2804</td>\n",
       "    </tr>\n",
       "  </tbody>\n",
       "</table>\n",
       "<p>243796 rows × 4 columns</p>\n",
       "</div>"
      ],
      "text/plain": [
       "        user_id       creation_date  views_count     sum\n",
       "0             1 2008-07-31 23:41:00       480476  480476\n",
       "1             1 2008-07-31 23:55:38       136033  616509\n",
       "2             1 2008-07-31 23:56:41            0  616509\n",
       "3             1 2008-08-04 02:45:08            0  616509\n",
       "4             1 2008-08-04 04:31:03            0  616509\n",
       "...         ...                 ...          ...     ...\n",
       "243791  5696608 2008-12-23 16:00:37            0    2804\n",
       "243792  5696608 2008-12-23 17:35:09            0    2804\n",
       "243793  5696608 2008-12-24 01:02:48            0    2804\n",
       "243794  5696608 2008-12-30 14:34:45            0    2804\n",
       "243795  5696608 2008-12-30 16:32:12            0    2804\n",
       "\n",
       "[243796 rows x 4 columns]"
      ]
     },
     "execution_count": 7,
     "metadata": {},
     "output_type": "execute_result"
    }
   ],
   "source": [
    "# напишите запрос\n",
    "query = '''\n",
    "SELECT user_id, creation_date, views_count, SUM(views_count) OVER(PARTITION BY user_id ORDER BY creation_date)\n",
    "FROM stackoverflow.posts\n",
    "ORDER BY user_id, creation_date\n",
    "\n",
    "\n",
    "'''\n",
    "\n",
    "# выполните запрос\n",
    "df = pd.read_sql_query(query, con=engine)\n",
    "df"
   ]
  },
  {
   "cell_type": "markdown",
   "metadata": {
    "id": "N0kHRHvIDWK2"
   },
   "source": [
    "# Задание 5"
   ]
  },
  {
   "cell_type": "markdown",
   "metadata": {
    "id": "gBgvmPtODWK2"
   },
   "source": [
    "Найдите среднее количество постов пользователей в день за август 2008 года. Отберите данные о пользователях, которые опубликовали больше 120 постов за август. Дни без публикаций не учитывайте. \n",
    "\n",
    "Отсортируйте результат по возрастанию среднего количества постов. Значения можно не округлять."
   ]
  },
  {
   "cell_type": "markdown",
   "metadata": {
    "id": "nfzR08BODWK3"
   },
   "source": [
    "| user_id | avg_daily |\n",
    "| ------- | --------- |\n",
    "| 116     | 4.777778  |\n",
    "| 234     | 5.208333  |\n",
    "| ...     | ... |"
   ]
  },
  {
   "cell_type": "code",
   "execution_count": 8,
   "metadata": {},
   "outputs": [
    {
     "data": {
      "text/html": [
       "<div>\n",
       "<style scoped>\n",
       "    .dataframe tbody tr th:only-of-type {\n",
       "        vertical-align: middle;\n",
       "    }\n",
       "\n",
       "    .dataframe tbody tr th {\n",
       "        vertical-align: top;\n",
       "    }\n",
       "\n",
       "    .dataframe thead th {\n",
       "        text-align: right;\n",
       "    }\n",
       "</style>\n",
       "<table border=\"1\" class=\"dataframe\">\n",
       "  <thead>\n",
       "    <tr style=\"text-align: right;\">\n",
       "      <th></th>\n",
       "      <th>u_id</th>\n",
       "      <th>avg_pst</th>\n",
       "    </tr>\n",
       "  </thead>\n",
       "  <tbody>\n",
       "    <tr>\n",
       "      <th>0</th>\n",
       "      <td>116</td>\n",
       "      <td>4.777778</td>\n",
       "    </tr>\n",
       "    <tr>\n",
       "      <th>1</th>\n",
       "      <td>234</td>\n",
       "      <td>5.208333</td>\n",
       "    </tr>\n",
       "    <tr>\n",
       "      <th>2</th>\n",
       "      <td>91</td>\n",
       "      <td>5.681818</td>\n",
       "    </tr>\n",
       "    <tr>\n",
       "      <th>3</th>\n",
       "      <td>905</td>\n",
       "      <td>7.000000</td>\n",
       "    </tr>\n",
       "    <tr>\n",
       "      <th>4</th>\n",
       "      <td>383</td>\n",
       "      <td>7.277778</td>\n",
       "    </tr>\n",
       "  </tbody>\n",
       "</table>\n",
       "</div>"
      ],
      "text/plain": [
       "   u_id   avg_pst\n",
       "0   116  4.777778\n",
       "1   234  5.208333\n",
       "2    91  5.681818\n",
       "3   905  7.000000\n",
       "4   383  7.277778"
      ]
     },
     "execution_count": 8,
     "metadata": {},
     "output_type": "execute_result"
    }
   ],
   "source": [
    "# напишите запрос\n",
    "query = '''\n",
    "WITH av AS (\n",
    "                SELECT p.user_id as u_id,\n",
    "                       DATE_TRUNC('day', p.creation_date) AS dy,\n",
    "                       COUNT(p.id) AS cnt_pst\n",
    "                FROM stackoverflow.posts AS p\n",
    "                WHERE (p.creation_date BETWEEN '2008-08-01' AND '2008-08-31 23:59:59.999') AND\n",
    "                      p.user_id IN     (SELECT id\n",
    "                                 FROM            (SELECT p.user_id AS id, COUNT(p.id) as count_posts\n",
    "                                                  FROM stackoverflow.posts AS p\n",
    "                                                  WHERE p.creation_date BETWEEN '2008-08-01' AND '2008-08-31 23:59:59.999' \n",
    "                                                  GROUP BY p.user_id\n",
    "                                                 ) AS scores\n",
    "                                 WHERE scores.count_posts > 120 \n",
    "                                 )\n",
    " \n",
    "                GROUP BY dy, p.user_id           \n",
    "            )          \n",
    "               \n",
    "SELECT   u_id, AVG(cnt_pst) AS avg_pst\n",
    "FROM av\n",
    "GROUP BY u_id\n",
    "ORDER BY avg_pst\n",
    "               \n",
    "               \n",
    "      \n",
    "'''\n",
    "\n",
    "# выполните запрос\n",
    "df = pd.read_sql_query(query, con=engine)\n",
    "df"
   ]
  },
  {
   "cell_type": "code",
   "execution_count": 9,
   "metadata": {},
   "outputs": [
    {
     "data": {
      "text/html": [
       "<div>\n",
       "<style scoped>\n",
       "    .dataframe tbody tr th:only-of-type {\n",
       "        vertical-align: middle;\n",
       "    }\n",
       "\n",
       "    .dataframe tbody tr th {\n",
       "        vertical-align: top;\n",
       "    }\n",
       "\n",
       "    .dataframe thead th {\n",
       "        text-align: right;\n",
       "    }\n",
       "</style>\n",
       "<table border=\"1\" class=\"dataframe\">\n",
       "  <thead>\n",
       "    <tr style=\"text-align: right;\">\n",
       "      <th></th>\n",
       "      <th>u_id</th>\n",
       "      <th>avg_pst</th>\n",
       "    </tr>\n",
       "  </thead>\n",
       "  <tbody>\n",
       "    <tr>\n",
       "      <th>0</th>\n",
       "      <td>116</td>\n",
       "      <td>4.777778</td>\n",
       "    </tr>\n",
       "    <tr>\n",
       "      <th>1</th>\n",
       "      <td>234</td>\n",
       "      <td>5.208333</td>\n",
       "    </tr>\n",
       "    <tr>\n",
       "      <th>2</th>\n",
       "      <td>91</td>\n",
       "      <td>5.681818</td>\n",
       "    </tr>\n",
       "    <tr>\n",
       "      <th>3</th>\n",
       "      <td>905</td>\n",
       "      <td>7.000000</td>\n",
       "    </tr>\n",
       "    <tr>\n",
       "      <th>4</th>\n",
       "      <td>383</td>\n",
       "      <td>7.277778</td>\n",
       "    </tr>\n",
       "  </tbody>\n",
       "</table>\n",
       "</div>"
      ],
      "text/plain": [
       "   u_id   avg_pst\n",
       "0   116  4.777778\n",
       "1   234  5.208333\n",
       "2    91  5.681818\n",
       "3   905  7.000000\n",
       "4   383  7.277778"
      ]
     },
     "execution_count": 9,
     "metadata": {},
     "output_type": "execute_result"
    }
   ],
   "source": [
    "query = '''\n",
    "WITH av AS (\n",
    "                SELECT p.user_id as u_id,\n",
    "                       DATE_TRUNC('day', p.creation_date) AS dy,\n",
    "                       COUNT(p.id) AS cnt_pst\n",
    "                FROM stackoverflow.posts AS p\n",
    "                WHERE (DATE_TRUNC('month',p.creation_date) BETWEEN '2008-08-01' AND '2008-08-31') AND\n",
    "                      p.user_id IN     (SELECT id\n",
    "                                 FROM            (SELECT p.user_id AS id, COUNT(p.id) as count_posts\n",
    "                                                  FROM stackoverflow.posts AS p\n",
    "                                                  WHERE DATE_TRUNC('month',p.creation_date) BETWEEN '2008-08-01' AND '2008-08-31' \n",
    "                                                  GROUP BY p.user_id\n",
    "                                                 ) AS scores\n",
    "                                 WHERE scores.count_posts > 120 \n",
    "                                 )\n",
    " \n",
    "                GROUP BY dy, p.user_id           \n",
    "            )          \n",
    "               \n",
    "SELECT   u_id, AVG(cnt_pst) AS avg_pst\n",
    "FROM av\n",
    "GROUP BY u_id\n",
    "ORDER BY avg_pst\n",
    "               \n",
    "               \n",
    "      \n",
    "'''\n",
    "\n",
    "# выполните запрос\n",
    "df = pd.read_sql_query(query, con=engine)\n",
    "df"
   ]
  },
  {
   "cell_type": "markdown",
   "metadata": {
    "id": "EQ0dcFH4DWK5"
   },
   "source": [
    "# Задание 6"
   ]
  },
  {
   "cell_type": "markdown",
   "metadata": {
    "id": "c7flfg_hDWK5"
   },
   "source": [
    "Сколько в среднем дней в период с 1 по 7 декабря 2008 года пользователи взаимодействовали с платформой? Для каждого пользователя отберите дни, в которые он или она опубликовали хотя бы один пост. Нужно получить одно целое число — не забудьте округлить результат. "
   ]
  },
  {
   "cell_type": "markdown",
   "metadata": {
    "id": "RC1Ibzm9DWK6"
   },
   "source": [
    "| result |\n",
    "| -----  |\n",
    "| <целое число> |"
   ]
  },
  {
   "cell_type": "code",
   "execution_count": 10,
   "metadata": {
    "id": "kZ7LXTr6DWK6"
   },
   "outputs": [
    {
     "data": {
      "text/html": [
       "<div>\n",
       "<style scoped>\n",
       "    .dataframe tbody tr th:only-of-type {\n",
       "        vertical-align: middle;\n",
       "    }\n",
       "\n",
       "    .dataframe tbody tr th {\n",
       "        vertical-align: top;\n",
       "    }\n",
       "\n",
       "    .dataframe thead th {\n",
       "        text-align: right;\n",
       "    }\n",
       "</style>\n",
       "<table border=\"1\" class=\"dataframe\">\n",
       "  <thead>\n",
       "    <tr style=\"text-align: right;\">\n",
       "      <th></th>\n",
       "      <th>round</th>\n",
       "    </tr>\n",
       "  </thead>\n",
       "  <tbody>\n",
       "    <tr>\n",
       "      <th>0</th>\n",
       "      <td>2.0</td>\n",
       "    </tr>\n",
       "  </tbody>\n",
       "</table>\n",
       "</div>"
      ],
      "text/plain": [
       "   round\n",
       "0    2.0"
      ]
     },
     "execution_count": 10,
     "metadata": {},
     "output_type": "execute_result"
    }
   ],
   "source": [
    "# напишите запрос\n",
    "query = '''\n",
    "WITH scores AS (  \n",
    "                SELECT p.user_id, COUNT(DISTINCT(EXTRACT(DAY FROM creation_date))) AS cnt_day\n",
    "                FROM stackoverflow.posts AS p\n",
    "                WHERE creation_date::date BETWEEN '2008-12-01' AND '2008-12-07'\n",
    "                GROUP BY p.user_id\n",
    "                \n",
    "                )\n",
    "                \n",
    "SELECT ROUND(AVG(cnt_day))\n",
    "FROM scores\n",
    "WHERE cnt_day > 0\n",
    "\n",
    "                \n",
    "                \n",
    "'''\n",
    "\n",
    "# выполните запрос\n",
    "df = pd.read_sql_query(query, con=engine)\n",
    "df"
   ]
  },
  {
   "cell_type": "markdown",
   "metadata": {
    "id": "LfUuYz-1DWK8"
   },
   "source": [
    "Получается 2 активных дня в неделю. Это 2 поста в неделю от человека. Не такой плохой результат, учитывая, что на таких платформах не так часто пишут посты"
   ]
  },
  {
   "cell_type": "markdown",
   "metadata": {
    "id": "wfOmqmfLDWK8"
   },
   "source": [
    "# Задание 7"
   ]
  },
  {
   "cell_type": "markdown",
   "metadata": {
    "id": "X4ARQimADWK9"
   },
   "source": [
    "Выведите историю активности каждого пользователя в таком виде: идентификатор пользователя, дата публикации поста. Отсортируйте вывод по возрастанию идентификаторов пользователей, а для каждого пользователя — по возрастанию даты публикации.\n",
    "\n",
    "Добавьте в таблицу новое поле: для каждого поста в нём будет указано название месяца предпоследней публикации пользователя относительно текущей. Если такой публикации нет, укажите `NULL`.  Python автоматически поменяет `NULL` на `None`, но дополнительно преобразовывать значения `None` вам не нужно.\n",
    "\n",
    "Посмотрите внимательно на образец таблицы: для первых двух постов предпоследней публикации нет, но, начиная с третьего поста, в новое поле входит нужный месяц. Для следующего пользователя в первые две записи поля `second_last_month` тоже войдёт `NULL`."
   ]
  },
  {
   "cell_type": "markdown",
   "metadata": {
    "id": "IGPjRP01DWK9"
   },
   "source": [
    "| user_id | creation_date | second_last_month |\n",
    "| ------- | ------------- | ----------------- |\n",
    "| 1       | 2008-07-31 23:41:00 | None |\n",
    "| 1       | 2008-07-31 23:55:38 | None |\n",
    "| 1       | 2008-07-31 23:56:41 | July |\n",
    "| 1       | 2008-08-04 02:45:08 | July |\n",
    "| 1       | 2008-08-04 04:31:03 | July |\n",
    "| 1       | 2008-08-04 08:04:42 | August |\n",
    "| ... | ... | ... |"
   ]
  },
  {
   "cell_type": "code",
   "execution_count": 11,
   "metadata": {
    "id": "HzI1vhaMDWK-"
   },
   "outputs": [
    {
     "data": {
      "text/html": [
       "<div>\n",
       "<style scoped>\n",
       "    .dataframe tbody tr th:only-of-type {\n",
       "        vertical-align: middle;\n",
       "    }\n",
       "\n",
       "    .dataframe tbody tr th {\n",
       "        vertical-align: top;\n",
       "    }\n",
       "\n",
       "    .dataframe thead th {\n",
       "        text-align: right;\n",
       "    }\n",
       "</style>\n",
       "<table border=\"1\" class=\"dataframe\">\n",
       "  <thead>\n",
       "    <tr style=\"text-align: right;\">\n",
       "      <th></th>\n",
       "      <th>user_id</th>\n",
       "      <th>creation_date</th>\n",
       "      <th>second_last_month</th>\n",
       "    </tr>\n",
       "  </thead>\n",
       "  <tbody>\n",
       "    <tr>\n",
       "      <th>0</th>\n",
       "      <td>1</td>\n",
       "      <td>2008-07-31 23:41:00</td>\n",
       "      <td>None</td>\n",
       "    </tr>\n",
       "    <tr>\n",
       "      <th>1</th>\n",
       "      <td>1</td>\n",
       "      <td>2008-07-31 23:55:38</td>\n",
       "      <td>None</td>\n",
       "    </tr>\n",
       "    <tr>\n",
       "      <th>2</th>\n",
       "      <td>1</td>\n",
       "      <td>2008-07-31 23:56:41</td>\n",
       "      <td>July</td>\n",
       "    </tr>\n",
       "    <tr>\n",
       "      <th>3</th>\n",
       "      <td>1</td>\n",
       "      <td>2008-08-04 02:45:08</td>\n",
       "      <td>July</td>\n",
       "    </tr>\n",
       "    <tr>\n",
       "      <th>4</th>\n",
       "      <td>1</td>\n",
       "      <td>2008-08-04 04:31:03</td>\n",
       "      <td>July</td>\n",
       "    </tr>\n",
       "    <tr>\n",
       "      <th>...</th>\n",
       "      <td>...</td>\n",
       "      <td>...</td>\n",
       "      <td>...</td>\n",
       "    </tr>\n",
       "    <tr>\n",
       "      <th>243791</th>\n",
       "      <td>5696608</td>\n",
       "      <td>2008-12-23 16:00:37</td>\n",
       "      <td>December</td>\n",
       "    </tr>\n",
       "    <tr>\n",
       "      <th>243792</th>\n",
       "      <td>5696608</td>\n",
       "      <td>2008-12-23 17:35:09</td>\n",
       "      <td>December</td>\n",
       "    </tr>\n",
       "    <tr>\n",
       "      <th>243793</th>\n",
       "      <td>5696608</td>\n",
       "      <td>2008-12-24 01:02:48</td>\n",
       "      <td>December</td>\n",
       "    </tr>\n",
       "    <tr>\n",
       "      <th>243794</th>\n",
       "      <td>5696608</td>\n",
       "      <td>2008-12-30 14:34:45</td>\n",
       "      <td>December</td>\n",
       "    </tr>\n",
       "    <tr>\n",
       "      <th>243795</th>\n",
       "      <td>5696608</td>\n",
       "      <td>2008-12-30 16:32:12</td>\n",
       "      <td>December</td>\n",
       "    </tr>\n",
       "  </tbody>\n",
       "</table>\n",
       "<p>243796 rows × 3 columns</p>\n",
       "</div>"
      ],
      "text/plain": [
       "        user_id       creation_date second_last_month\n",
       "0             1 2008-07-31 23:41:00              None\n",
       "1             1 2008-07-31 23:55:38              None\n",
       "2             1 2008-07-31 23:56:41         July     \n",
       "3             1 2008-08-04 02:45:08         July     \n",
       "4             1 2008-08-04 04:31:03         July     \n",
       "...         ...                 ...               ...\n",
       "243791  5696608 2008-12-23 16:00:37         December \n",
       "243792  5696608 2008-12-23 17:35:09         December \n",
       "243793  5696608 2008-12-24 01:02:48         December \n",
       "243794  5696608 2008-12-30 14:34:45         December \n",
       "243795  5696608 2008-12-30 16:32:12         December \n",
       "\n",
       "[243796 rows x 3 columns]"
      ]
     },
     "execution_count": 11,
     "metadata": {},
     "output_type": "execute_result"
    }
   ],
   "source": [
    "# напишите запрос TO_CHAR(creation_date, 'Month')\n",
    "query = '''\n",
    "SELECT p.user_id,\n",
    "       creation_date,\n",
    "       LAG(TO_CHAR(creation_date, 'Month'),2) OVER (PARTITION BY user_id ORDER BY creation_date) AS second_last_month\n",
    "FROM stackoverflow.posts AS p\n",
    "ORDER BY p.user_id;\n",
    "'''\n",
    "\n",
    "# выполните запрос\n",
    "df = pd.read_sql_query(query, con=engine)\n",
    "df"
   ]
  },
  {
   "cell_type": "markdown",
   "metadata": {
    "id": "tf9qq2yzDWK_"
   },
   "source": [
    "# Задание 8"
   ]
  },
  {
   "cell_type": "markdown",
   "metadata": {
    "id": "gfwLVXBYDWLA"
   },
   "source": [
    "Рассчитайте аналог Retention Rate по месяцам для пользователей StackOverflow. Объедините пользователей в когорты по месяцу их первого поста. Возвращение определяйте по наличию поста в текущем месяце. "
   ]
  },
  {
   "cell_type": "markdown",
   "metadata": {
    "id": "kN2ic39WlKpl"
   },
   "source": [
    "| cohort_dt | session_date | users_cnt | cohort_users_cnt | retention_rate |\n",
    "| --- | --- | --- | --- | --- |\n",
    "| 2008-07-01 00:00:00 | 2008-07-01 00:00:00 | 3 | 3 | 100 |\n",
    "| 2008-07-01 00:00:00 | 2008-08-01 00:00:00 | 2 | 3 | 66,67 |\n",
    "| 2008-07-01 00:00:00 | 2008-09-01 00:00:00 | 1 | 3 | 33,33 |\n",
    "| 2008-07-01 00:00:00 | 2008-10-01 00:00:00 | 2 | 3 | 66,67 |\n",
    "| 2008-07-01 00:00:00 | 2008-11-01 00:00:00 | 1 | 3 | 33,33 |\n",
    "| 2008-07-01 00:00:00 | 2008-12-01 00:00:00 | 2 | 3 | 66,67 |\n",
    "| 2008-08-01 00:00:00 | 2008-08-01 00:00:00 | 2151 | 2151 | 100 |\n",
    "| ... | ... | ... | ... | ... |"
   ]
  },
  {
   "cell_type": "code",
   "execution_count": 12,
   "metadata": {},
   "outputs": [
    {
     "data": {
      "text/html": [
       "<div>\n",
       "<style scoped>\n",
       "    .dataframe tbody tr th:only-of-type {\n",
       "        vertical-align: middle;\n",
       "    }\n",
       "\n",
       "    .dataframe tbody tr th {\n",
       "        vertical-align: top;\n",
       "    }\n",
       "\n",
       "    .dataframe thead th {\n",
       "        text-align: right;\n",
       "    }\n",
       "</style>\n",
       "<table border=\"1\" class=\"dataframe\">\n",
       "  <thead>\n",
       "    <tr style=\"text-align: right;\">\n",
       "      <th></th>\n",
       "      <th>cohort_dt</th>\n",
       "      <th>session_date</th>\n",
       "      <th>users_cnt</th>\n",
       "      <th>cohort_users_cnt</th>\n",
       "      <th>retention_rate</th>\n",
       "    </tr>\n",
       "  </thead>\n",
       "  <tbody>\n",
       "    <tr>\n",
       "      <th>0</th>\n",
       "      <td>2008-07-01</td>\n",
       "      <td>2008-07-01</td>\n",
       "      <td>3</td>\n",
       "      <td>3</td>\n",
       "      <td>100.00</td>\n",
       "    </tr>\n",
       "    <tr>\n",
       "      <th>1</th>\n",
       "      <td>2008-07-01</td>\n",
       "      <td>2008-08-01</td>\n",
       "      <td>2</td>\n",
       "      <td>3</td>\n",
       "      <td>66.67</td>\n",
       "    </tr>\n",
       "    <tr>\n",
       "      <th>2</th>\n",
       "      <td>2008-07-01</td>\n",
       "      <td>2008-09-01</td>\n",
       "      <td>1</td>\n",
       "      <td>3</td>\n",
       "      <td>33.33</td>\n",
       "    </tr>\n",
       "    <tr>\n",
       "      <th>3</th>\n",
       "      <td>2008-07-01</td>\n",
       "      <td>2008-10-01</td>\n",
       "      <td>2</td>\n",
       "      <td>3</td>\n",
       "      <td>66.67</td>\n",
       "    </tr>\n",
       "    <tr>\n",
       "      <th>4</th>\n",
       "      <td>2008-07-01</td>\n",
       "      <td>2008-11-01</td>\n",
       "      <td>1</td>\n",
       "      <td>3</td>\n",
       "      <td>33.33</td>\n",
       "    </tr>\n",
       "    <tr>\n",
       "      <th>5</th>\n",
       "      <td>2008-07-01</td>\n",
       "      <td>2008-12-01</td>\n",
       "      <td>2</td>\n",
       "      <td>3</td>\n",
       "      <td>66.67</td>\n",
       "    </tr>\n",
       "    <tr>\n",
       "      <th>6</th>\n",
       "      <td>2008-08-01</td>\n",
       "      <td>2008-08-01</td>\n",
       "      <td>2151</td>\n",
       "      <td>2151</td>\n",
       "      <td>100.00</td>\n",
       "    </tr>\n",
       "    <tr>\n",
       "      <th>7</th>\n",
       "      <td>2008-08-01</td>\n",
       "      <td>2008-09-01</td>\n",
       "      <td>1571</td>\n",
       "      <td>2151</td>\n",
       "      <td>73.04</td>\n",
       "    </tr>\n",
       "    <tr>\n",
       "      <th>8</th>\n",
       "      <td>2008-08-01</td>\n",
       "      <td>2008-10-01</td>\n",
       "      <td>1275</td>\n",
       "      <td>2151</td>\n",
       "      <td>59.27</td>\n",
       "    </tr>\n",
       "    <tr>\n",
       "      <th>9</th>\n",
       "      <td>2008-08-01</td>\n",
       "      <td>2008-11-01</td>\n",
       "      <td>1050</td>\n",
       "      <td>2151</td>\n",
       "      <td>48.81</td>\n",
       "    </tr>\n",
       "    <tr>\n",
       "      <th>10</th>\n",
       "      <td>2008-08-01</td>\n",
       "      <td>2008-12-01</td>\n",
       "      <td>894</td>\n",
       "      <td>2151</td>\n",
       "      <td>41.56</td>\n",
       "    </tr>\n",
       "    <tr>\n",
       "      <th>11</th>\n",
       "      <td>2008-09-01</td>\n",
       "      <td>2008-09-01</td>\n",
       "      <td>7678</td>\n",
       "      <td>7678</td>\n",
       "      <td>100.00</td>\n",
       "    </tr>\n",
       "    <tr>\n",
       "      <th>12</th>\n",
       "      <td>2008-09-01</td>\n",
       "      <td>2008-10-01</td>\n",
       "      <td>4132</td>\n",
       "      <td>7678</td>\n",
       "      <td>53.82</td>\n",
       "    </tr>\n",
       "    <tr>\n",
       "      <th>13</th>\n",
       "      <td>2008-09-01</td>\n",
       "      <td>2008-11-01</td>\n",
       "      <td>2966</td>\n",
       "      <td>7678</td>\n",
       "      <td>38.63</td>\n",
       "    </tr>\n",
       "    <tr>\n",
       "      <th>14</th>\n",
       "      <td>2008-09-01</td>\n",
       "      <td>2008-12-01</td>\n",
       "      <td>2500</td>\n",
       "      <td>7678</td>\n",
       "      <td>32.56</td>\n",
       "    </tr>\n",
       "    <tr>\n",
       "      <th>15</th>\n",
       "      <td>2008-10-01</td>\n",
       "      <td>2008-10-01</td>\n",
       "      <td>3629</td>\n",
       "      <td>3629</td>\n",
       "      <td>100.00</td>\n",
       "    </tr>\n",
       "    <tr>\n",
       "      <th>16</th>\n",
       "      <td>2008-10-01</td>\n",
       "      <td>2008-11-01</td>\n",
       "      <td>1640</td>\n",
       "      <td>3629</td>\n",
       "      <td>45.19</td>\n",
       "    </tr>\n",
       "    <tr>\n",
       "      <th>17</th>\n",
       "      <td>2008-10-01</td>\n",
       "      <td>2008-12-01</td>\n",
       "      <td>1221</td>\n",
       "      <td>3629</td>\n",
       "      <td>33.65</td>\n",
       "    </tr>\n",
       "    <tr>\n",
       "      <th>18</th>\n",
       "      <td>2008-11-01</td>\n",
       "      <td>2008-11-01</td>\n",
       "      <td>2852</td>\n",
       "      <td>2852</td>\n",
       "      <td>100.00</td>\n",
       "    </tr>\n",
       "    <tr>\n",
       "      <th>19</th>\n",
       "      <td>2008-11-01</td>\n",
       "      <td>2008-12-01</td>\n",
       "      <td>1151</td>\n",
       "      <td>2852</td>\n",
       "      <td>40.36</td>\n",
       "    </tr>\n",
       "    <tr>\n",
       "      <th>20</th>\n",
       "      <td>2008-12-01</td>\n",
       "      <td>2008-12-01</td>\n",
       "      <td>2536</td>\n",
       "      <td>2536</td>\n",
       "      <td>100.00</td>\n",
       "    </tr>\n",
       "  </tbody>\n",
       "</table>\n",
       "</div>"
      ],
      "text/plain": [
       "    cohort_dt session_date  users_cnt  cohort_users_cnt  retention_rate\n",
       "0  2008-07-01   2008-07-01          3                 3          100.00\n",
       "1  2008-07-01   2008-08-01          2                 3           66.67\n",
       "2  2008-07-01   2008-09-01          1                 3           33.33\n",
       "3  2008-07-01   2008-10-01          2                 3           66.67\n",
       "4  2008-07-01   2008-11-01          1                 3           33.33\n",
       "5  2008-07-01   2008-12-01          2                 3           66.67\n",
       "6  2008-08-01   2008-08-01       2151              2151          100.00\n",
       "7  2008-08-01   2008-09-01       1571              2151           73.04\n",
       "8  2008-08-01   2008-10-01       1275              2151           59.27\n",
       "9  2008-08-01   2008-11-01       1050              2151           48.81\n",
       "10 2008-08-01   2008-12-01        894              2151           41.56\n",
       "11 2008-09-01   2008-09-01       7678              7678          100.00\n",
       "12 2008-09-01   2008-10-01       4132              7678           53.82\n",
       "13 2008-09-01   2008-11-01       2966              7678           38.63\n",
       "14 2008-09-01   2008-12-01       2500              7678           32.56\n",
       "15 2008-10-01   2008-10-01       3629              3629          100.00\n",
       "16 2008-10-01   2008-11-01       1640              3629           45.19\n",
       "17 2008-10-01   2008-12-01       1221              3629           33.65\n",
       "18 2008-11-01   2008-11-01       2852              2852          100.00\n",
       "19 2008-11-01   2008-12-01       1151              2852           40.36\n",
       "20 2008-12-01   2008-12-01       2536              2536          100.00"
      ]
     },
     "execution_count": 12,
     "metadata": {},
     "output_type": "execute_result"
    }
   ],
   "source": [
    "query = '''\n",
    "WITH profile AS \n",
    "    (SELECT user_id,\n",
    "            cohort_dt,\n",
    "            COUNT(*)   OVER (PARTITION BY cohort_dt) AS cohort_users_cnt\n",
    "            \n",
    "     FROM (SELECT DISTINCT(user_id) AS user_id,\n",
    "                  FIRST_VALUE(session_date) OVER(PARTITION BY user_id) AS cohort_dt\n",
    "\n",
    "            FROM         (SELECT user_id,\n",
    "                                 DATE_TRUNC('month', creation_date) AS session_date\n",
    "                          FROM stackoverflow.posts\n",
    "                          GROUP BY 1,2) AS f) AS fc\n",
    "            \n",
    "    ),\n",
    "            \n",
    "sessions AS \n",
    "    (SELECT user_id,\n",
    "            DATE_TRUNC('month', creation_date) AS session_date\n",
    "     FROM stackoverflow.posts\n",
    "     GROUP BY 1,2        \n",
    "    )   \n",
    "    \n",
    "SELECT p.cohort_dt,\n",
    "       s.session_date,\n",
    "       COUNT(p.user_id) AS users_cnt,\n",
    "       cohort_users_cnt,\n",
    "       ROUND(COUNT(p.user_id) * 100.0 / cohort_users_cnt, 2) AS retention_rate\n",
    "FROM profile p\n",
    "JOIN sessions s ON p.user_id = s.user_id\n",
    "GROUP BY 1,\n",
    "         2,\n",
    "         4  \n",
    "'''   \n",
    "    \n",
    "df = pd.read_sql_query(query, con=engine)\n",
    "df"
   ]
  },
  {
   "cell_type": "markdown",
   "metadata": {
    "id": "_msBtnb2DWLC"
   },
   "source": [
    "Постройте тепловую карту Retention Rate. Какие аномалии или другие необычные явления удалось выявить? Сформулируйте гипотезы о возможных причинах."
   ]
  },
  {
   "cell_type": "code",
   "execution_count": 13,
   "metadata": {
    "id": "qAEJc8H1DWLC"
   },
   "outputs": [
    {
     "data": {
      "image/png": "[encoded data removed]",
      "text/plain": [
       "<Figure size 1152x1152 with 2 Axes>"
      ]
     },
     "metadata": {
      "needs_background": "light"
     },
     "output_type": "display_data"
    }
   ],
   "source": [
    "# постройте тепловую карту Retention Rate\n",
    "# создаём сводную таблицу с результатами\n",
    "retention = df.pivot('cohort_dt', 'session_date', 'retention_rate')\n",
    "retention.index = [str(x)[0:10] for x in retention.index]\n",
    "retention.columns = [str(x)[0:10] for x in retention.columns]\n",
    "\n",
    "# строим хитмэп\n",
    "plt.figure(figsize=(16, 16)) # задаём размер графика\n",
    "sns.heatmap(retention, # датафрейм с данными\n",
    "            annot=True, # добавляем подписи\n",
    "            fmt='') # задаём исходный формат\n",
    "plt.title('Тепловая карта') # название графика\n",
    "plt.show()"
   ]
  },
  {
   "cell_type": "markdown",
   "metadata": {
    "id": "EgOfIsI4DWLC"
   },
   "source": [
    "**За первый месяц больше всего значение Retention Rate в июльской когорте, дальше идет спад, меньше всего значение в когорте ноября. За второй месяц четкой тенденции нет, но значение везде меньше, чем в первый месяц**"
   ]
  },
  {
   "cell_type": "markdown",
   "metadata": {
    "id": "1k7oPWt5DWLK"
   },
   "source": [
    "# Задание 9\n"
   ]
  },
  {
   "cell_type": "markdown",
   "metadata": {
    "id": "ALsYVSyRDWLM"
   },
   "source": [
    "На сколько процентов менялось количество постов ежемесячно с 1 сентября по 31 декабря 2008 года? Отобразите таблицу со следующими полями:\n",
    "\n",
    "- номер месяца;\n",
    "- количество постов за месяц;\n",
    "- процент, который показывает, насколько изменилось количество постов в текущем месяце по сравнению с предыдущим.\n",
    "\n",
    "Если постов стало меньше, значение процента должно быть отрицательным, если больше — положительным. Округлите значение процента до двух знаков после запятой.\n",
    "\n",
    "Напомним, что при делении одного целого числа на другое в PostgreSQL в результате получится целое число, округлённое до ближайшего целого вниз. Чтобы этого избежать, переведите делимое в тип `numeric`."
   ]
  },
  {
   "cell_type": "markdown",
   "metadata": {
    "id": "u4E2zF8DDWLM"
   },
   "source": [
    "| creation_month | posts_count | percentage |\n",
    "| -------------- | ----------- | ---------- |\n",
    "| 9 | 70731 | Nan |\n",
    "| 10 | 63102 | -10.33 |\n",
    "| ... | ... | ... |"
   ]
  },
  {
   "cell_type": "code",
   "execution_count": 14,
   "metadata": {
    "id": "Mb5pShStDWLN"
   },
   "outputs": [
    {
     "data": {
      "text/html": [
       "<div>\n",
       "<style scoped>\n",
       "    .dataframe tbody tr th:only-of-type {\n",
       "        vertical-align: middle;\n",
       "    }\n",
       "\n",
       "    .dataframe tbody tr th {\n",
       "        vertical-align: top;\n",
       "    }\n",
       "\n",
       "    .dataframe thead th {\n",
       "        text-align: right;\n",
       "    }\n",
       "</style>\n",
       "<table border=\"1\" class=\"dataframe\">\n",
       "  <thead>\n",
       "    <tr style=\"text-align: right;\">\n",
       "      <th></th>\n",
       "      <th>creation_month</th>\n",
       "      <th>posts_count</th>\n",
       "      <th>percentage</th>\n",
       "    </tr>\n",
       "  </thead>\n",
       "  <tbody>\n",
       "    <tr>\n",
       "      <th>0</th>\n",
       "      <td>9.0</td>\n",
       "      <td>70371</td>\n",
       "      <td>0.0</td>\n",
       "    </tr>\n",
       "    <tr>\n",
       "      <th>1</th>\n",
       "      <td>10.0</td>\n",
       "      <td>63102</td>\n",
       "      <td>-10.0</td>\n",
       "    </tr>\n",
       "    <tr>\n",
       "      <th>2</th>\n",
       "      <td>11.0</td>\n",
       "      <td>46975</td>\n",
       "      <td>-26.0</td>\n",
       "    </tr>\n",
       "    <tr>\n",
       "      <th>3</th>\n",
       "      <td>12.0</td>\n",
       "      <td>44592</td>\n",
       "      <td>-5.0</td>\n",
       "    </tr>\n",
       "  </tbody>\n",
       "</table>\n",
       "</div>"
      ],
      "text/plain": [
       "   creation_month  posts_count  percentage\n",
       "0             9.0        70371         0.0\n",
       "1            10.0        63102       -10.0\n",
       "2            11.0        46975       -26.0\n",
       "3            12.0        44592        -5.0"
      ]
     },
     "execution_count": 14,
     "metadata": {},
     "output_type": "execute_result"
    }
   ],
   "source": [
    "# напишите запрос\n",
    "query = '''\n",
    "WITH count_p AS (\n",
    "                 SELECT EXTRACT(MONTH FROM creation_date) AS creation_month,\n",
    "                        COUNT(p.id) AS posts_count\n",
    "                 FROM stackoverflow.posts AS p\n",
    "                 WHERE creation_date BETWEEN '2008-09-01' AND '2008-12-31'\n",
    "                 GROUP BY EXTRACT(MONTH FROM creation_date)\n",
    "                 \n",
    "                 )\n",
    "SELECT *,\n",
    "       ROUND(((posts_count::numeric / LAG(posts_count, 1, posts_count) OVER (ORDER BY creation_month)) - 1) * 100) AS percentage\n",
    "FROM count_p\n",
    "\n",
    "\n",
    "\n",
    "\n",
    "\n",
    "'''\n",
    "\n",
    "# выполните запрос\n",
    "df = pd.read_sql_query(query, con=engine)\n",
    "df"
   ]
  },
  {
   "cell_type": "markdown",
   "metadata": {
    "id": "9NQE2y_MDWLP"
   },
   "source": [
    "Постройте круговую диаграмму с количеством постов по месяцам."
   ]
  },
  {
   "cell_type": "code",
   "execution_count": 15,
   "metadata": {
    "id": "377ABjiVDWLP"
   },
   "outputs": [
    {
     "data": {
      "image/png": "[encoded data removed]",
      "text/plain": [
       "<Figure size 432x288 with 1 Axes>"
      ]
     },
     "metadata": {},
     "output_type": "display_data"
    }
   ],
   "source": [
    "# постройте круговую диаграмму с количеством постов по месяцам\n",
    "import matplotlib.pyplot as plt\n",
    "import seaborn as sns\n",
    "\n",
    "#define data\n",
    "data = df['posts_count']\n",
    "labels = df['creation_month']\n",
    "\n",
    "#define Seaborn color palette to use\n",
    "colors = sns.color_palette('pastel')[ 0:5 ]\n",
    "\n",
    "#create pie chart\n",
    "plt.pie(data, labels = labels, colors = colors, autopct='%.0f%%')\n",
    "plt.title(\"Количество постов по месяцам\")\n",
    "plt.show()"
   ]
  },
  {
   "cell_type": "markdown",
   "metadata": {
    "id": "uw7qMtafDWLP"
   },
   "source": [
    "# Задание 10"
   ]
  },
  {
   "cell_type": "markdown",
   "metadata": {
    "id": "oRBpWKx3DWLQ"
   },
   "source": [
    "Выгрузите данные активности пользователя, который опубликовал больше всего постов за всё время. Выведите данные за октябрь 2008 года в таком виде:\n",
    "\n",
    "- номер недели;\n",
    "- дата и время последнего поста, опубликованного на этой неделе."
   ]
  },
  {
   "cell_type": "markdown",
   "metadata": {
    "id": "XjAWSn_3DWLQ"
   },
   "source": [
    "| week_creation | creation_date |\n",
    "| ------------- | ------------- |\n",
    "| 40 | 2008-10-05 09:00:58 |\n",
    "| 41 | 2008-10-12 21:22:23 |\n",
    "| ... | ... |"
   ]
  },
  {
   "cell_type": "code",
   "execution_count": 16,
   "metadata": {
    "id": "r5F5fSkwDWLQ"
   },
   "outputs": [
    {
     "data": {
      "text/html": [
       "<div>\n",
       "<style scoped>\n",
       "    .dataframe tbody tr th:only-of-type {\n",
       "        vertical-align: middle;\n",
       "    }\n",
       "\n",
       "    .dataframe tbody tr th {\n",
       "        vertical-align: top;\n",
       "    }\n",
       "\n",
       "    .dataframe thead th {\n",
       "        text-align: right;\n",
       "    }\n",
       "</style>\n",
       "<table border=\"1\" class=\"dataframe\">\n",
       "  <thead>\n",
       "    <tr style=\"text-align: right;\">\n",
       "      <th></th>\n",
       "      <th>user_id</th>\n",
       "    </tr>\n",
       "  </thead>\n",
       "  <tbody>\n",
       "    <tr>\n",
       "      <th>0</th>\n",
       "      <td>22656</td>\n",
       "    </tr>\n",
       "  </tbody>\n",
       "</table>\n",
       "</div>"
      ],
      "text/plain": [
       "   user_id\n",
       "0    22656"
      ]
     },
     "execution_count": 16,
     "metadata": {},
     "output_type": "execute_result"
    }
   ],
   "source": [
    "# напишите запрос\n",
    "query = '''\n",
    "WITH count_p AS (\n",
    "                 SELECT user_id,\n",
    "                        COUNT(p.id) AS posts_count\n",
    "                 FROM stackoverflow.posts AS p\n",
    "                 GROUP BY user_id\n",
    "                 \n",
    "                 )\n",
    "SELECT user_id\n",
    "FROM count_p\n",
    "WHERE count_p.posts_count IN (SELECT MAX(count_p.posts_count)\n",
    "              FROM count_p\n",
    "             )\n",
    "\n",
    "'''\n",
    "\n",
    "# выполните запрос\n",
    "df = pd.read_sql_query(query, con=engine)\n",
    "df"
   ]
  },
  {
   "cell_type": "code",
   "execution_count": 17,
   "metadata": {},
   "outputs": [
    {
     "data": {
      "text/html": [
       "<div>\n",
       "<style scoped>\n",
       "    .dataframe tbody tr th:only-of-type {\n",
       "        vertical-align: middle;\n",
       "    }\n",
       "\n",
       "    .dataframe tbody tr th {\n",
       "        vertical-align: top;\n",
       "    }\n",
       "\n",
       "    .dataframe thead th {\n",
       "        text-align: right;\n",
       "    }\n",
       "</style>\n",
       "<table border=\"1\" class=\"dataframe\">\n",
       "  <thead>\n",
       "    <tr style=\"text-align: right;\">\n",
       "      <th></th>\n",
       "      <th>week_creation</th>\n",
       "      <th>cr_dy</th>\n",
       "    </tr>\n",
       "  </thead>\n",
       "  <tbody>\n",
       "    <tr>\n",
       "      <th>0</th>\n",
       "      <td>40.0</td>\n",
       "      <td>2008-10-05 09:00:58</td>\n",
       "    </tr>\n",
       "    <tr>\n",
       "      <th>1</th>\n",
       "      <td>41.0</td>\n",
       "      <td>2008-10-12 21:22:23</td>\n",
       "    </tr>\n",
       "    <tr>\n",
       "      <th>2</th>\n",
       "      <td>42.0</td>\n",
       "      <td>2008-10-19 06:49:30</td>\n",
       "    </tr>\n",
       "    <tr>\n",
       "      <th>3</th>\n",
       "      <td>43.0</td>\n",
       "      <td>2008-10-26 21:44:36</td>\n",
       "    </tr>\n",
       "    <tr>\n",
       "      <th>4</th>\n",
       "      <td>44.0</td>\n",
       "      <td>2008-10-30 22:50:00</td>\n",
       "    </tr>\n",
       "  </tbody>\n",
       "</table>\n",
       "</div>"
      ],
      "text/plain": [
       "   week_creation               cr_dy\n",
       "0           40.0 2008-10-05 09:00:58\n",
       "1           41.0 2008-10-12 21:22:23\n",
       "2           42.0 2008-10-19 06:49:30\n",
       "3           43.0 2008-10-26 21:44:36\n",
       "4           44.0 2008-10-30 22:50:00"
      ]
     },
     "execution_count": 17,
     "metadata": {},
     "output_type": "execute_result"
    }
   ],
   "source": [
    "query = '''\n",
    "WITH all_p AS (SELECT EXTRACT(WEEK FROM creation_date) AS week_creation,\n",
    "                      creation_date\n",
    "               FROM stackoverflow.posts \n",
    "               WHERE user_id = 22656 AND creation_date BETWEEN '2008-10-01' AND '2008-10-31'\n",
    "               ORDER BY creation_date\n",
    "                 \n",
    "                 )\n",
    "                 \n",
    "                 \n",
    "                 \n",
    "SELECT DISTINCT(week_creation), LAST_VALUE(creation_date) OVER (PARTITION BY week_creation ORDER BY week_creation ROWS BETWEEN UNBOUNDED PRECEDING AND UNBOUNDED FOLLOWING) AS cr_dy\n",
    "FROM all_p\n",
    "ORDER BY week_creation\n",
    "\n",
    "\n",
    "\n",
    "\n",
    "'''\n",
    "\n",
    "# выполните запрос\n",
    "df = pd.read_sql_query(query, con=engine)\n",
    "df"
   ]
  }
 ],
 "metadata": {
  "ExecuteTimeLog": [
   {
    "duration": 1039,
    "start_time": "2023-08-08T15:43:28.757Z"
   },
   {
    "duration": 4,
    "start_time": "2023-08-08T15:43:32.174Z"
   },
   {
    "duration": 7586,
    "start_time": "2023-08-08T15:43:37.682Z"
   },
   {
    "duration": 218,
    "start_time": "2023-08-08T15:43:50.515Z"
   },
   {
    "duration": 95,
    "start_time": "2023-08-08T15:44:08.690Z"
   },
   {
    "duration": 87,
    "start_time": "2023-08-08T15:44:35.985Z"
   },
   {
    "duration": 99,
    "start_time": "2023-08-08T15:46:57.196Z"
   },
   {
    "duration": 78,
    "start_time": "2023-08-08T15:47:24.374Z"
   },
   {
    "duration": 132,
    "start_time": "2023-08-08T15:47:39.468Z"
   },
   {
    "duration": 129,
    "start_time": "2023-08-08T15:48:46.484Z"
   },
   {
    "duration": 132,
    "start_time": "2023-08-08T15:49:54.377Z"
   },
   {
    "duration": 131,
    "start_time": "2023-08-08T15:50:15.670Z"
   },
   {
    "duration": 150,
    "start_time": "2023-08-08T15:50:28.664Z"
   },
   {
    "duration": 88,
    "start_time": "2023-08-08T16:19:04.569Z"
   },
   {
    "duration": 87,
    "start_time": "2023-08-08T16:19:26.228Z"
   },
   {
    "duration": 96,
    "start_time": "2023-08-08T16:20:03.836Z"
   },
   {
    "duration": 159,
    "start_time": "2023-08-08T16:20:23.894Z"
   },
   {
    "duration": 167,
    "start_time": "2023-08-08T16:58:02.480Z"
   },
   {
    "duration": 111,
    "start_time": "2023-08-08T16:58:34.008Z"
   },
   {
    "duration": 120,
    "start_time": "2023-08-08T16:58:54.203Z"
   },
   {
    "duration": 1154,
    "start_time": "2023-08-08T16:59:10.984Z"
   },
   {
    "duration": 1243,
    "start_time": "2023-08-08T17:00:27.197Z"
   },
   {
    "duration": 3,
    "start_time": "2023-08-08T18:35:14.926Z"
   },
   {
    "duration": 5,
    "start_time": "2023-08-08T18:35:17.826Z"
   },
   {
    "duration": 5,
    "start_time": "2023-08-08T18:35:20.673Z"
   },
   {
    "duration": 131,
    "start_time": "2023-08-08T18:35:34.802Z"
   },
   {
    "duration": 1587,
    "start_time": "2023-08-08T18:35:44.945Z"
   },
   {
    "duration": 1538,
    "start_time": "2023-08-08T18:36:27.473Z"
   },
   {
    "duration": 104,
    "start_time": "2023-08-08T18:39:20.704Z"
   },
   {
    "duration": 1463,
    "start_time": "2023-08-08T18:39:28.915Z"
   },
   {
    "duration": 222,
    "start_time": "2023-08-08T18:39:53.117Z"
   },
   {
    "duration": 144,
    "start_time": "2023-08-08T19:01:39.698Z"
   },
   {
    "duration": 103,
    "start_time": "2023-08-08T19:02:00.498Z"
   },
   {
    "duration": 127,
    "start_time": "2023-08-08T19:05:14.524Z"
   },
   {
    "duration": 192,
    "start_time": "2023-08-08T19:10:02.706Z"
   },
   {
    "duration": 121,
    "start_time": "2023-08-08T19:26:40.229Z"
   },
   {
    "duration": 166,
    "start_time": "2023-08-08T19:26:57.539Z"
   },
   {
    "duration": 972,
    "start_time": "2023-08-09T11:01:00.308Z"
   },
   {
    "duration": 5,
    "start_time": "2023-08-09T11:01:02.846Z"
   },
   {
    "duration": 11334,
    "start_time": "2023-08-09T11:01:04.844Z"
   },
   {
    "duration": 207,
    "start_time": "2023-08-09T11:01:16.179Z"
   },
   {
    "duration": 251,
    "start_time": "2023-08-09T11:01:39.006Z"
   },
   {
    "duration": 167,
    "start_time": "2023-08-09T11:02:07.620Z"
   },
   {
    "duration": 2,
    "start_time": "2023-08-09T11:09:31.226Z"
   },
   {
    "duration": 94,
    "start_time": "2023-08-09T11:09:45.776Z"
   },
   {
    "duration": 1395,
    "start_time": "2023-08-09T11:10:48.862Z"
   },
   {
    "duration": 1252,
    "start_time": "2023-08-09T11:12:48.584Z"
   },
   {
    "duration": 8,
    "start_time": "2023-08-09T12:09:18.154Z"
   },
   {
    "duration": 1334,
    "start_time": "2023-08-09T12:09:35.602Z"
   },
   {
    "duration": 91,
    "start_time": "2023-08-09T12:10:59.221Z"
   },
   {
    "duration": 105,
    "start_time": "2023-08-09T12:11:04.684Z"
   },
   {
    "duration": 101,
    "start_time": "2023-08-09T12:11:08.982Z"
   },
   {
    "duration": 2868,
    "start_time": "2023-08-09T12:11:16.793Z"
   },
   {
    "duration": 1390,
    "start_time": "2023-08-09T12:12:29.876Z"
   },
   {
    "duration": 1354,
    "start_time": "2023-08-09T12:12:51.523Z"
   },
   {
    "duration": 3,
    "start_time": "2023-08-09T12:20:03.703Z"
   },
   {
    "duration": 83,
    "start_time": "2023-08-09T12:20:14.472Z"
   },
   {
    "duration": 96,
    "start_time": "2023-08-09T12:20:22.229Z"
   },
   {
    "duration": 94,
    "start_time": "2023-08-09T12:20:46.224Z"
   },
   {
    "duration": 103,
    "start_time": "2023-08-09T12:21:39.237Z"
   },
   {
    "duration": 186,
    "start_time": "2023-08-09T12:21:57.831Z"
   },
   {
    "duration": 337,
    "start_time": "2023-08-09T12:22:17.550Z"
   },
   {
    "duration": 88,
    "start_time": "2023-08-09T12:24:05.929Z"
   },
   {
    "duration": 1389,
    "start_time": "2023-08-09T12:24:30.423Z"
   },
   {
    "duration": 25,
    "start_time": "2023-08-09T12:26:44.092Z"
   },
   {
    "duration": 461,
    "start_time": "2023-08-09T12:27:11.862Z"
   },
   {
    "duration": 32930,
    "start_time": "2023-08-09T12:27:20.077Z"
   },
   {
    "duration": 119,
    "start_time": "2023-08-09T12:40:20.778Z"
   },
   {
    "duration": 119,
    "start_time": "2023-08-09T12:41:00.160Z"
   },
   {
    "duration": 91,
    "start_time": "2023-08-09T12:41:31.390Z"
   },
   {
    "duration": 93,
    "start_time": "2023-08-09T12:41:56.208Z"
   },
   {
    "duration": 94,
    "start_time": "2023-08-09T12:42:26.161Z"
   },
   {
    "duration": 92,
    "start_time": "2023-08-09T12:42:34.601Z"
   },
   {
    "duration": 107,
    "start_time": "2023-08-09T12:42:53.977Z"
   },
   {
    "duration": 108,
    "start_time": "2023-08-09T12:48:08.161Z"
   },
   {
    "duration": 111,
    "start_time": "2023-08-09T12:48:57.940Z"
   },
   {
    "duration": 108,
    "start_time": "2023-08-09T12:49:12.162Z"
   },
   {
    "duration": 110,
    "start_time": "2023-08-09T12:49:39.280Z"
   },
   {
    "duration": 1277,
    "start_time": "2023-08-09T12:55:09.741Z"
   },
   {
    "duration": 4,
    "start_time": "2023-08-09T12:55:11.909Z"
   },
   {
    "duration": 9523,
    "start_time": "2023-08-09T12:55:12.597Z"
   },
   {
    "duration": 176,
    "start_time": "2023-08-09T12:55:22.123Z"
   },
   {
    "duration": 162,
    "start_time": "2023-08-09T12:55:31.848Z"
   },
   {
    "duration": 1128,
    "start_time": "2023-08-09T12:55:43.300Z"
   },
   {
    "duration": 214,
    "start_time": "2023-08-09T12:56:36.481Z"
   },
   {
    "duration": 139,
    "start_time": "2023-08-09T12:56:46.262Z"
   },
   {
    "duration": 1408,
    "start_time": "2023-08-09T12:56:59.442Z"
   },
   {
    "duration": 4112,
    "start_time": "2023-08-09T12:57:10.289Z"
   },
   {
    "duration": 105,
    "start_time": "2023-08-09T12:57:18.879Z"
   },
   {
    "duration": 87,
    "start_time": "2023-08-09T13:23:16.589Z"
   },
   {
    "duration": 37,
    "start_time": "2023-08-09T13:30:32.137Z"
   },
   {
    "duration": 37,
    "start_time": "2023-08-09T13:33:46.062Z"
   },
   {
    "duration": 36,
    "start_time": "2023-08-09T13:34:07.686Z"
   },
   {
    "duration": 38,
    "start_time": "2023-08-09T13:35:18.734Z"
   },
   {
    "duration": 36,
    "start_time": "2023-08-09T13:35:34.947Z"
   },
   {
    "duration": 190,
    "start_time": "2023-08-09T13:35:59.348Z"
   },
   {
    "duration": 36,
    "start_time": "2023-08-09T13:36:12.089Z"
   },
   {
    "duration": 36,
    "start_time": "2023-08-09T13:36:57.175Z"
   },
   {
    "duration": 38,
    "start_time": "2023-08-09T13:37:45.685Z"
   },
   {
    "duration": 36,
    "start_time": "2023-08-09T13:38:18.141Z"
   },
   {
    "duration": 37,
    "start_time": "2023-08-09T13:39:43.430Z"
   },
   {
    "duration": 36,
    "start_time": "2023-08-09T13:40:14.293Z"
   },
   {
    "duration": 38,
    "start_time": "2023-08-09T13:40:46.707Z"
   },
   {
    "duration": 41,
    "start_time": "2023-08-09T13:40:53.697Z"
   },
   {
    "duration": 114,
    "start_time": "2023-08-09T13:59:47.280Z"
   },
   {
    "duration": 153,
    "start_time": "2023-08-09T14:48:24.354Z"
   },
   {
    "duration": 37,
    "start_time": "2023-08-09T14:48:45.736Z"
   },
   {
    "duration": 114,
    "start_time": "2023-08-09T16:01:21.643Z"
   },
   {
    "duration": 151,
    "start_time": "2023-08-09T16:01:24.856Z"
   },
   {
    "duration": 113,
    "start_time": "2023-08-09T16:01:39.869Z"
   },
   {
    "duration": 111,
    "start_time": "2023-08-09T16:02:03.670Z"
   },
   {
    "duration": 11,
    "start_time": "2023-08-09T16:07:29.344Z"
   },
   {
    "duration": 74,
    "start_time": "2023-08-09T16:07:43.570Z"
   },
   {
    "duration": 89,
    "start_time": "2023-08-09T16:09:22.679Z"
   },
   {
    "duration": 1248,
    "start_time": "2023-08-09T16:36:18.893Z"
   },
   {
    "duration": 103,
    "start_time": "2023-08-09T16:37:22.623Z"
   },
   {
    "duration": 96,
    "start_time": "2023-08-09T16:37:46.382Z"
   },
   {
    "duration": 130,
    "start_time": "2023-08-09T16:38:41.344Z"
   },
   {
    "duration": 87,
    "start_time": "2023-08-09T16:38:49.943Z"
   },
   {
    "duration": 51,
    "start_time": "2023-08-09T16:40:12.411Z"
   },
   {
    "duration": 45,
    "start_time": "2023-08-09T16:41:10.754Z"
   },
   {
    "duration": 46,
    "start_time": "2023-08-09T16:42:24.433Z"
   },
   {
    "duration": 89,
    "start_time": "2023-08-09T16:50:26.158Z"
   },
   {
    "duration": 70,
    "start_time": "2023-08-09T16:50:50.012Z"
   },
   {
    "duration": 115,
    "start_time": "2023-08-09T16:52:12.690Z"
   },
   {
    "duration": 69,
    "start_time": "2023-08-09T16:52:36.979Z"
   },
   {
    "duration": 3334,
    "start_time": "2023-08-09T17:04:01.495Z"
   },
   {
    "duration": 103,
    "start_time": "2023-08-09T17:12:13.970Z"
   },
   {
    "duration": 70,
    "start_time": "2023-08-09T17:17:22.262Z"
   },
   {
    "duration": 71,
    "start_time": "2023-08-09T17:17:31.902Z"
   },
   {
    "duration": 114,
    "start_time": "2023-08-09T17:19:33.110Z"
   },
   {
    "duration": 90,
    "start_time": "2023-08-09T17:19:54.495Z"
   },
   {
    "duration": 69,
    "start_time": "2023-08-09T17:20:25.818Z"
   },
   {
    "duration": 1225,
    "start_time": "2023-08-09T17:41:47.719Z"
   },
   {
    "duration": 52516,
    "start_time": "2023-08-09T17:42:19.626Z"
   },
   {
    "duration": 4,
    "start_time": "2023-08-09T17:44:34.628Z"
   },
   {
    "duration": 814,
    "start_time": "2023-08-09T17:45:00.028Z"
   },
   {
    "duration": 318,
    "start_time": "2023-08-09T17:45:56.517Z"
   },
   {
    "duration": 1230,
    "start_time": "2023-08-09T17:46:45.883Z"
   },
   {
    "duration": 519,
    "start_time": "2023-08-09T17:49:14.330Z"
   },
   {
    "duration": 970,
    "start_time": "2023-08-09T18:01:40.327Z"
   },
   {
    "duration": 97,
    "start_time": "2023-08-09T18:05:52.320Z"
   },
   {
    "duration": 101,
    "start_time": "2023-08-09T18:06:44.031Z"
   },
   {
    "duration": 35,
    "start_time": "2023-08-09T18:07:58.112Z"
   },
   {
    "duration": 81,
    "start_time": "2023-08-09T18:16:32.431Z"
   },
   {
    "duration": 86,
    "start_time": "2023-08-09T18:17:21.618Z"
   },
   {
    "duration": 957,
    "start_time": "2023-08-09T18:23:59.307Z"
   },
   {
    "duration": 33,
    "start_time": "2023-08-09T18:35:26.734Z"
   },
   {
    "duration": 88,
    "start_time": "2023-08-09T18:36:03.958Z"
   },
   {
    "duration": 34,
    "start_time": "2023-08-09T18:36:13.171Z"
   },
   {
    "duration": 121,
    "start_time": "2023-08-09T18:38:27.567Z"
   },
   {
    "duration": 98,
    "start_time": "2023-08-09T18:38:46.928Z"
   },
   {
    "duration": 97,
    "start_time": "2023-08-09T18:38:55.147Z"
   },
   {
    "duration": 102,
    "start_time": "2023-08-09T18:42:31.959Z"
   },
   {
    "duration": 104,
    "start_time": "2023-08-09T18:45:28.375Z"
   },
   {
    "duration": 84,
    "start_time": "2023-08-09T18:45:40.378Z"
   },
   {
    "duration": 92,
    "start_time": "2023-08-09T18:46:21.477Z"
   },
   {
    "duration": 107,
    "start_time": "2023-08-09T18:46:57.327Z"
   },
   {
    "duration": 359,
    "start_time": "2023-08-09T18:47:39.687Z"
   },
   {
    "duration": 325,
    "start_time": "2023-08-09T18:48:04.628Z"
   },
   {
    "duration": 99,
    "start_time": "2023-08-09T18:48:23.555Z"
   },
   {
    "duration": 79,
    "start_time": "2023-08-09T18:49:40.990Z"
   },
   {
    "duration": 100,
    "start_time": "2023-08-09T20:20:12.568Z"
   },
   {
    "duration": 86,
    "start_time": "2023-08-09T20:20:49.625Z"
   },
   {
    "duration": 95,
    "start_time": "2023-08-09T20:21:24.103Z"
   },
   {
    "duration": 1052,
    "start_time": "2023-08-09T20:22:02.047Z"
   },
   {
    "duration": 1043,
    "start_time": "2023-08-09T20:22:42.352Z"
   },
   {
    "duration": 88,
    "start_time": "2023-08-09T20:23:26.126Z"
   },
   {
    "duration": 90,
    "start_time": "2023-08-09T20:23:49.473Z"
   },
   {
    "duration": 1088,
    "start_time": "2023-08-09T20:24:11.298Z"
   },
   {
    "duration": 885,
    "start_time": "2023-08-09T20:24:22.997Z"
   },
   {
    "duration": 6860,
    "start_time": "2023-08-09T20:24:29.721Z"
   },
   {
    "duration": 99,
    "start_time": "2023-08-09T20:25:33.305Z"
   },
   {
    "duration": 95,
    "start_time": "2023-08-09T20:26:12.288Z"
   },
   {
    "duration": 108,
    "start_time": "2023-08-09T20:26:34.930Z"
   },
   {
    "duration": 986,
    "start_time": "2023-08-09T20:27:01.183Z"
   },
   {
    "duration": 942,
    "start_time": "2023-08-09T20:28:17.068Z"
   },
   {
    "duration": 23,
    "start_time": "2023-08-09T20:30:33.356Z"
   },
   {
    "duration": 688,
    "start_time": "2023-08-09T20:35:20.093Z"
   },
   {
    "duration": 435,
    "start_time": "2023-08-09T20:35:55.554Z"
   },
   {
    "duration": 689,
    "start_time": "2023-08-09T20:36:37.356Z"
   },
   {
    "duration": 663,
    "start_time": "2023-08-09T20:36:53.474Z"
   },
   {
    "duration": 665,
    "start_time": "2023-08-09T20:37:05.409Z"
   },
   {
    "duration": 100,
    "start_time": "2023-08-09T20:37:14.434Z"
   },
   {
    "duration": 678,
    "start_time": "2023-08-09T20:37:33.902Z"
   },
   {
    "duration": 631,
    "start_time": "2023-08-09T20:38:44.101Z"
   },
   {
    "duration": 657,
    "start_time": "2023-08-09T20:39:17.127Z"
   },
   {
    "duration": 81,
    "start_time": "2023-08-09T20:39:41.502Z"
   },
   {
    "duration": 677,
    "start_time": "2023-08-09T20:40:00.549Z"
   },
   {
    "duration": 1234,
    "start_time": "2023-08-09T20:41:24.217Z"
   },
   {
    "duration": 12,
    "start_time": "2023-08-09T20:41:25.453Z"
   },
   {
    "duration": 8264,
    "start_time": "2023-08-09T20:41:25.467Z"
   },
   {
    "duration": 213,
    "start_time": "2023-08-09T20:41:33.733Z"
   },
   {
    "duration": 154,
    "start_time": "2023-08-09T20:41:41.270Z"
   },
   {
    "duration": 1189,
    "start_time": "2023-08-09T20:41:44.121Z"
   },
   {
    "duration": 221,
    "start_time": "2023-08-09T20:41:48.482Z"
   },
   {
    "duration": 72,
    "start_time": "2023-08-09T20:41:51.502Z"
   },
   {
    "duration": 36,
    "start_time": "2023-08-09T20:41:53.573Z"
   },
   {
    "duration": 1404,
    "start_time": "2023-08-09T20:41:56.325Z"
   },
   {
    "duration": 693,
    "start_time": "2023-08-09T20:41:59.753Z"
   },
   {
    "duration": 487,
    "start_time": "2023-08-09T20:42:01.828Z"
   },
   {
    "duration": 106,
    "start_time": "2023-08-09T20:42:04.725Z"
   },
   {
    "duration": 89,
    "start_time": "2023-08-09T20:42:06.430Z"
   },
   {
    "duration": 80,
    "start_time": "2023-08-09T20:42:08.250Z"
   },
   {
    "duration": 32,
    "start_time": "2023-08-09T20:42:09.783Z"
   },
   {
    "duration": 1242,
    "start_time": "2023-08-09T20:59:27.250Z"
   },
   {
    "duration": 4,
    "start_time": "2023-08-09T20:59:28.494Z"
   },
   {
    "duration": 9335,
    "start_time": "2023-08-09T20:59:28.500Z"
   },
   {
    "duration": 384,
    "start_time": "2023-08-09T20:59:37.837Z"
   },
   {
    "duration": 214,
    "start_time": "2023-08-09T20:59:38.226Z"
   },
   {
    "duration": 1199,
    "start_time": "2023-08-09T20:59:38.441Z"
   },
   {
    "duration": 254,
    "start_time": "2023-08-09T20:59:39.642Z"
   },
   {
    "duration": 109,
    "start_time": "2023-08-09T20:59:39.898Z"
   },
   {
    "duration": 73,
    "start_time": "2023-08-09T20:59:40.009Z"
   },
   {
    "duration": 1375,
    "start_time": "2023-08-09T20:59:40.085Z"
   },
   {
    "duration": 745,
    "start_time": "2023-08-09T20:59:41.462Z"
   },
   {
    "duration": 453,
    "start_time": "2023-08-09T20:59:42.212Z"
   },
   {
    "duration": 133,
    "start_time": "2023-08-09T20:59:42.667Z"
   },
   {
    "duration": 89,
    "start_time": "2023-08-09T20:59:42.802Z"
   },
   {
    "duration": 104,
    "start_time": "2023-08-09T20:59:42.893Z"
   },
   {
    "duration": 65,
    "start_time": "2023-08-09T20:59:42.999Z"
   },
   {
    "duration": 168,
    "start_time": "2023-08-09T20:59:54.793Z"
   },
   {
    "duration": 214,
    "start_time": "2023-08-09T21:00:18.411Z"
   },
   {
    "duration": 303,
    "start_time": "2023-08-09T21:05:12.835Z"
   },
   {
    "duration": 1223,
    "start_time": "2023-08-09T21:05:22.629Z"
   },
   {
    "duration": 157,
    "start_time": "2023-08-09T21:05:38.702Z"
   },
   {
    "duration": 1317,
    "start_time": "2023-08-09T21:22:08.491Z"
   },
   {
    "duration": 4,
    "start_time": "2023-08-09T21:22:09.811Z"
   },
   {
    "duration": 9980,
    "start_time": "2023-08-09T21:22:09.816Z"
   },
   {
    "duration": 397,
    "start_time": "2023-08-09T21:22:19.799Z"
   },
   {
    "duration": 214,
    "start_time": "2023-08-09T21:22:20.198Z"
   },
   {
    "duration": 1131,
    "start_time": "2023-08-09T21:22:20.414Z"
   },
   {
    "duration": 234,
    "start_time": "2023-08-09T21:22:21.547Z"
   },
   {
    "duration": 99,
    "start_time": "2023-08-09T21:22:21.784Z"
   },
   {
    "duration": 65,
    "start_time": "2023-08-09T21:22:21.885Z"
   },
   {
    "duration": 1389,
    "start_time": "2023-08-09T21:22:21.952Z"
   },
   {
    "duration": 688,
    "start_time": "2023-08-09T21:22:23.342Z"
   },
   {
    "duration": 414,
    "start_time": "2023-08-09T21:22:24.031Z"
   },
   {
    "duration": 135,
    "start_time": "2023-08-09T21:22:24.447Z"
   },
   {
    "duration": 90,
    "start_time": "2023-08-09T21:22:24.584Z"
   },
   {
    "duration": 107,
    "start_time": "2023-08-09T21:22:24.676Z"
   },
   {
    "duration": 65,
    "start_time": "2023-08-09T21:22:24.784Z"
   },
   {
    "duration": 1392,
    "start_time": "2023-08-10T04:42:46.734Z"
   },
   {
    "duration": 4,
    "start_time": "2023-08-10T04:42:54.480Z"
   },
   {
    "duration": 8770,
    "start_time": "2023-08-10T04:42:57.868Z"
   },
   {
    "duration": 261,
    "start_time": "2023-08-10T04:43:12.680Z"
   },
   {
    "duration": 108,
    "start_time": "2023-08-10T04:43:41.243Z"
   },
   {
    "duration": 109,
    "start_time": "2023-08-10T04:44:50.998Z"
   },
   {
    "duration": 91,
    "start_time": "2023-08-10T04:45:15.680Z"
   },
   {
    "duration": 163,
    "start_time": "2023-08-10T04:45:26.980Z"
   },
   {
    "duration": 149,
    "start_time": "2023-08-10T04:46:33.564Z"
   },
   {
    "duration": 1576,
    "start_time": "2023-08-10T13:35:51.708Z"
   },
   {
    "duration": 5,
    "start_time": "2023-08-10T13:35:53.287Z"
   },
   {
    "duration": 7467,
    "start_time": "2023-08-10T13:35:53.294Z"
   },
   {
    "duration": 185,
    "start_time": "2023-08-10T13:36:39.818Z"
   },
   {
    "duration": 209,
    "start_time": "2023-08-10T13:37:24.062Z"
   },
   {
    "duration": 129,
    "start_time": "2023-08-10T13:38:12.467Z"
   },
   {
    "duration": 142,
    "start_time": "2023-08-10T13:39:45.576Z"
   },
   {
    "duration": 1314,
    "start_time": "2023-08-10T13:40:12.681Z"
   },
   {
    "duration": 1211,
    "start_time": "2023-08-10T13:41:58.730Z"
   },
   {
    "duration": 1299,
    "start_time": "2023-08-10T13:45:50.019Z"
   },
   {
    "duration": 97,
    "start_time": "2023-08-10T14:01:58.800Z"
   },
   {
    "duration": 682,
    "start_time": "2023-08-10T14:03:45.492Z"
   },
   {
    "duration": 62,
    "start_time": "2023-08-10T14:20:16.269Z"
   },
   {
    "duration": 416,
    "start_time": "2023-08-10T14:20:46.877Z"
   },
   {
    "duration": 395,
    "start_time": "2023-08-10T14:28:41.121Z"
   },
   {
    "duration": 579,
    "start_time": "2023-08-10T14:29:00.028Z"
   },
   {
    "duration": 72,
    "start_time": "2023-08-10T14:39:01.069Z"
   },
   {
    "duration": 102,
    "start_time": "2023-08-10T14:40:40.330Z"
   },
   {
    "duration": 940,
    "start_time": "2023-08-10T14:40:52.282Z"
   },
   {
    "duration": 128,
    "start_time": "2023-08-10T14:42:55.018Z"
   },
   {
    "duration": 104,
    "start_time": "2023-08-10T14:44:19.404Z"
   },
   {
    "duration": 62,
    "start_time": "2023-08-10T14:44:36.025Z"
   },
   {
    "duration": 62,
    "start_time": "2023-08-10T14:44:56.087Z"
   },
   {
    "duration": 60,
    "start_time": "2023-08-10T14:45:49.387Z"
   },
   {
    "duration": 61,
    "start_time": "2023-08-10T14:46:23.628Z"
   },
   {
    "duration": 90,
    "start_time": "2023-08-10T14:47:49.903Z"
   },
   {
    "duration": 60,
    "start_time": "2023-08-10T14:48:10.226Z"
   },
   {
    "duration": 62,
    "start_time": "2023-08-10T14:49:10.164Z"
   },
   {
    "duration": 1268,
    "start_time": "2023-08-10T14:54:33.099Z"
   },
   {
    "duration": 5,
    "start_time": "2023-08-10T14:54:34.369Z"
   },
   {
    "duration": 7297,
    "start_time": "2023-08-10T14:54:34.376Z"
   },
   {
    "duration": 196,
    "start_time": "2023-08-10T14:54:41.675Z"
   },
   {
    "duration": 150,
    "start_time": "2023-08-10T14:54:41.873Z"
   },
   {
    "duration": 132,
    "start_time": "2023-08-10T14:54:42.024Z"
   },
   {
    "duration": 1292,
    "start_time": "2023-08-10T14:54:42.157Z"
   },
   {
    "duration": 62,
    "start_time": "2023-08-10T14:54:43.451Z"
   },
   {
    "duration": 37,
    "start_time": "2023-08-10T14:54:43.516Z"
   },
   {
    "duration": 1266,
    "start_time": "2023-08-10T14:54:43.556Z"
   },
   {
    "duration": 437,
    "start_time": "2023-08-10T14:54:44.823Z"
   },
   {
    "duration": 475,
    "start_time": "2023-08-10T14:54:45.262Z"
   },
   {
    "duration": 111,
    "start_time": "2023-08-10T14:54:45.811Z"
   },
   {
    "duration": 85,
    "start_time": "2023-08-10T14:54:47.009Z"
   },
   {
    "duration": 77,
    "start_time": "2023-08-10T14:54:49.480Z"
   },
   {
    "duration": 35,
    "start_time": "2023-08-10T14:54:50.264Z"
   },
   {
    "duration": 1397,
    "start_time": "2023-08-10T17:25:06.275Z"
   },
   {
    "duration": 5,
    "start_time": "2023-08-10T17:25:07.674Z"
   },
   {
    "duration": 9958,
    "start_time": "2023-08-10T17:25:07.681Z"
   },
   {
    "duration": 356,
    "start_time": "2023-08-10T17:25:17.641Z"
   },
   {
    "duration": 176,
    "start_time": "2023-08-10T17:25:18.000Z"
   },
   {
    "duration": 164,
    "start_time": "2023-08-10T17:25:18.178Z"
   },
   {
    "duration": 1385,
    "start_time": "2023-08-10T17:25:18.345Z"
   },
   {
    "duration": 93,
    "start_time": "2023-08-10T17:25:19.732Z"
   },
   {
    "duration": 67,
    "start_time": "2023-08-10T17:25:19.828Z"
   },
   {
    "duration": 1390,
    "start_time": "2023-08-10T17:25:19.897Z"
   },
   {
    "duration": 451,
    "start_time": "2023-08-10T17:25:21.289Z"
   },
   {
    "duration": 493,
    "start_time": "2023-08-10T17:25:21.743Z"
   },
   {
    "duration": 152,
    "start_time": "2023-08-10T17:25:22.238Z"
   },
   {
    "duration": 100,
    "start_time": "2023-08-10T17:25:22.392Z"
   },
   {
    "duration": 119,
    "start_time": "2023-08-10T17:25:22.494Z"
   },
   {
    "duration": 67,
    "start_time": "2023-08-10T17:25:22.615Z"
   },
   {
    "duration": 96,
    "start_time": "2023-08-10T17:25:30.403Z"
   },
   {
    "duration": 104,
    "start_time": "2023-08-10T17:26:11.771Z"
   },
   {
    "duration": 1407,
    "start_time": "2023-08-10T17:30:36.752Z"
   },
   {
    "duration": 4,
    "start_time": "2023-08-10T17:30:38.161Z"
   },
   {
    "duration": 10716,
    "start_time": "2023-08-10T17:30:38.167Z"
   },
   {
    "duration": 362,
    "start_time": "2023-08-10T17:30:48.885Z"
   },
   {
    "duration": 183,
    "start_time": "2023-08-10T17:30:49.249Z"
   },
   {
    "duration": 166,
    "start_time": "2023-08-10T17:30:49.434Z"
   },
   {
    "duration": 1366,
    "start_time": "2023-08-10T17:30:49.602Z"
   },
   {
    "duration": 93,
    "start_time": "2023-08-10T17:30:50.970Z"
   },
   {
    "duration": 69,
    "start_time": "2023-08-10T17:30:51.064Z"
   },
   {
    "duration": 1320,
    "start_time": "2023-08-10T17:30:51.135Z"
   },
   {
    "duration": 466,
    "start_time": "2023-08-10T17:30:52.459Z"
   },
   {
    "duration": 492,
    "start_time": "2023-08-10T17:30:52.927Z"
   },
   {
    "duration": 149,
    "start_time": "2023-08-10T17:30:53.421Z"
   },
   {
    "duration": 96,
    "start_time": "2023-08-10T17:30:53.573Z"
   },
   {
    "duration": 111,
    "start_time": "2023-08-10T17:30:53.671Z"
   },
   {
    "duration": 108,
    "start_time": "2023-08-10T17:30:53.784Z"
   },
   {
    "duration": 48,
    "start_time": "2023-08-10T17:36:47.610Z"
   },
   {
    "duration": 1395,
    "start_time": "2023-08-10T17:42:26.382Z"
   },
   {
    "duration": 3,
    "start_time": "2023-08-10T17:42:27.779Z"
   },
   {
    "duration": 8901,
    "start_time": "2023-08-10T17:42:27.784Z"
   },
   {
    "duration": 205,
    "start_time": "2023-08-10T17:42:36.687Z"
   },
   {
    "duration": 150,
    "start_time": "2023-08-10T17:42:36.894Z"
   },
   {
    "duration": 135,
    "start_time": "2023-08-10T17:42:37.046Z"
   },
   {
    "duration": 1314,
    "start_time": "2023-08-10T17:42:39.194Z"
   },
   {
    "duration": 61,
    "start_time": "2023-08-10T17:42:41.817Z"
   },
   {
    "duration": 72,
    "start_time": "2023-08-10T17:42:42.133Z"
   },
   {
    "duration": 1268,
    "start_time": "2023-08-10T18:13:56.191Z"
   },
   {
    "duration": 3,
    "start_time": "2023-08-10T18:13:57.461Z"
   },
   {
    "duration": 10041,
    "start_time": "2023-08-10T18:13:57.466Z"
   },
   {
    "duration": 353,
    "start_time": "2023-08-10T18:14:07.509Z"
   },
   {
    "duration": 166,
    "start_time": "2023-08-10T18:14:07.865Z"
   },
   {
    "duration": 160,
    "start_time": "2023-08-10T18:14:08.032Z"
   },
   {
    "duration": 1365,
    "start_time": "2023-08-10T18:14:08.194Z"
   },
   {
    "duration": 91,
    "start_time": "2023-08-10T18:14:09.561Z"
   },
   {
    "duration": 100,
    "start_time": "2023-08-10T18:14:09.654Z"
   },
   {
    "duration": 67,
    "start_time": "2023-08-10T18:14:09.755Z"
   },
   {
    "duration": 1352,
    "start_time": "2023-08-10T18:14:09.824Z"
   },
   {
    "duration": 453,
    "start_time": "2023-08-10T18:14:11.178Z"
   },
   {
    "duration": 479,
    "start_time": "2023-08-10T18:14:11.633Z"
   },
   {
    "duration": 145,
    "start_time": "2023-08-10T18:14:12.114Z"
   },
   {
    "duration": 100,
    "start_time": "2023-08-10T18:14:12.261Z"
   },
   {
    "duration": 109,
    "start_time": "2023-08-10T18:14:12.363Z"
   },
   {
    "duration": 63,
    "start_time": "2023-08-10T18:14:12.474Z"
   },
   {
    "duration": 99,
    "start_time": "2023-08-10T18:14:13.183Z"
   },
   {
    "duration": 106,
    "start_time": "2023-08-10T18:14:18.233Z"
   },
   {
    "duration": 1344,
    "start_time": "2023-08-10T18:15:15.012Z"
   },
   {
    "duration": 4,
    "start_time": "2023-08-10T18:15:16.358Z"
   },
   {
    "duration": 16265,
    "start_time": "2023-08-10T18:15:16.363Z"
   },
   {
    "duration": 367,
    "start_time": "2023-08-10T18:15:32.630Z"
   },
   {
    "duration": 183,
    "start_time": "2023-08-10T18:15:32.999Z"
   },
   {
    "duration": 170,
    "start_time": "2023-08-10T18:15:33.184Z"
   },
   {
    "duration": 1357,
    "start_time": "2023-08-10T18:15:33.356Z"
   },
   {
    "duration": 96,
    "start_time": "2023-08-10T18:15:34.714Z"
   },
   {
    "duration": 104,
    "start_time": "2023-08-10T18:15:34.812Z"
   },
   {
    "duration": 68,
    "start_time": "2023-08-10T18:15:34.918Z"
   },
   {
    "duration": 1307,
    "start_time": "2023-08-10T18:15:34.988Z"
   },
   {
    "duration": 461,
    "start_time": "2023-08-10T18:15:36.297Z"
   },
   {
    "duration": 456,
    "start_time": "2023-08-10T18:15:36.760Z"
   },
   {
    "duration": 148,
    "start_time": "2023-08-10T18:15:37.218Z"
   },
   {
    "duration": 113,
    "start_time": "2023-08-10T18:15:37.368Z"
   },
   {
    "duration": 112,
    "start_time": "2023-08-10T18:15:37.483Z"
   },
   {
    "duration": 67,
    "start_time": "2023-08-10T18:15:37.598Z"
   },
   {
    "duration": 1206,
    "start_time": "2023-08-10T18:19:36.711Z"
   },
   {
    "duration": 4,
    "start_time": "2023-08-10T18:19:37.919Z"
   },
   {
    "duration": 6787,
    "start_time": "2023-08-10T18:19:37.924Z"
   },
   {
    "duration": 163,
    "start_time": "2023-08-10T18:19:44.713Z"
   },
   {
    "duration": 151,
    "start_time": "2023-08-10T18:19:44.878Z"
   },
   {
    "duration": 136,
    "start_time": "2023-08-10T18:19:45.031Z"
   },
   {
    "duration": 1280,
    "start_time": "2023-08-10T18:19:45.169Z"
   },
   {
    "duration": 60,
    "start_time": "2023-08-10T18:19:46.459Z"
   },
   {
    "duration": 75,
    "start_time": "2023-08-10T18:19:46.768Z"
   },
   {
    "duration": 38,
    "start_time": "2023-08-10T18:20:00.583Z"
   },
   {
    "duration": 1248,
    "start_time": "2023-08-10T18:20:00.837Z"
   },
   {
    "duration": 463,
    "start_time": "2023-08-10T18:20:02.503Z"
   },
   {
    "duration": 476,
    "start_time": "2023-08-10T18:20:03.671Z"
   },
   {
    "duration": 120,
    "start_time": "2023-08-10T18:20:04.667Z"
   },
   {
    "duration": 108,
    "start_time": "2023-08-10T18:20:05.537Z"
   },
   {
    "duration": 82,
    "start_time": "2023-08-10T18:20:06.991Z"
   },
   {
    "duration": 33,
    "start_time": "2023-08-10T18:20:07.427Z"
   }
  ],
  "colab": {
   "provenance": []
  },
  "kernelspec": {
   "display_name": "Python 3 (ipykernel)",
   "language": "python",
   "name": "python3"
  },
  "language_info": {
   "codemirror_mode": {
    "name": "ipython",
    "version": 3
   },
   "file_extension": ".py",
   "mimetype": "text/x-python",
   "name": "python",
   "nbconvert_exporter": "python",
   "pygments_lexer": "ipython3",
   "version": "3.9.13"
  },
  "toc": {
   "base_numbering": 1,
   "nav_menu": {},
   "number_sections": true,
   "sideBar": true,
   "skip_h1_title": true,
   "title_cell": "Table of Contents",
   "title_sidebar": "Contents",
   "toc_cell": false,
   "toc_position": {
    "height": "calc(100% - 180px)",
    "left": "10px",
    "top": "150px",
    "width": "374.391px"
   },
   "toc_section_display": true,
   "toc_window_display": true
  }
 },
 "nbformat": 4,
 "nbformat_minor": 1
}
