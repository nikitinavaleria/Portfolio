{
 "cells": [
  {
   "cell_type": "markdown",
   "metadata": {},
   "source": [
    "# Определение стоимости автомобилей"
   ]
  },
  {
   "cell_type": "markdown",
   "metadata": {},
   "source": [
    "Сервис по продаже автомобилей с пробегом «Не бит, не крашен» разрабатывает приложение для привлечения новых клиентов. В нём можно быстро узнать рыночную стоимость своего автомобиля. В распоряжении исторические данные: технические характеристики, комплектации и цены автомобилей. Нужно построить модель для определения стоимости. \n",
    "\n",
    "Заказчику важны:\n",
    "\n",
    "- качество предсказания;\n",
    "- скорость предсказания;\n",
    "- время обучения."
   ]
  },
  {
   "cell_type": "markdown",
   "metadata": {},
   "source": [
    "## Подготовка данных"
   ]
  },
  {
   "cell_type": "markdown",
   "metadata": {},
   "source": [
    "### Описание данных\n",
    "\n",
    "\n",
    "\n",
    "**Признаки**\n",
    "\n",
    "\n",
    "DateCrawled — дата скачивания анкеты из базы\n",
    "\n",
    "VehicleType — тип автомобильного кузова\n",
    "\n",
    "RegistrationYear — год регистрации автомобиля\n",
    "\n",
    "Gearbox — тип коробки передач\n",
    "\n",
    "Power — мощность (л. с.)\n",
    "\n",
    "Model — модель автомобиля\n",
    "\n",
    "Kilometer — пробег (км)\n",
    "\n",
    "RegistrationMonth — месяц регистрации автомобиля\n",
    "\n",
    "FuelType — тип топлива\n",
    "\n",
    "Brand — марка автомобиля\n",
    "\n",
    "Repaired — была машина в ремонте или нет\n",
    "\n",
    "DateCreated — дата создания анкеты\n",
    "\n",
    "NumberOfPictures — количество фотографий автомобиля\n",
    "\n",
    "PostalCode — почтовый индекс владельца анкеты (пользователя)\n",
    "\n",
    "LastSeen — дата последней активности пользователя\n",
    "\n",
    "**Целевой признак** Price — цена (евро)"
   ]
  },
  {
   "cell_type": "code",
   "execution_count": 1,
   "metadata": {},
   "outputs": [],
   "source": [
    "#импортируем нужные библиотеки для работы\n",
    "\n",
    "import os\n",
    "import warnings\n",
    "\n",
    "import matplotlib.pyplot as plt\n",
    "import numpy as np\n",
    "import pandas as pd\n",
    "import seaborn as sns\n",
    "\n",
    "from lightgbm import LGBMRegressor\n",
    "\n",
    "from sklearn.model_selection import (train_test_split, \n",
    "                                     cross_val_score, \n",
    "                                     GridSearchCV,\n",
    "                                     RepeatedStratifiedKFold)\n",
    "\n",
    "from sklearn.preprocessing import (StandardScaler,\n",
    "                                  OrdinalEncoder)\n",
    "\n",
    "from sklearn.metrics import mean_squared_error\n",
    "\n",
    "from sklearn import tree\n",
    "from sklearn.ensemble import RandomForestRegressor\n",
    "from sklearn.metrics import mean_squared_error\n",
    "\n",
    "from tqdm import tqdm\n",
    "\n",
    "\n"
   ]
  },
  {
   "cell_type": "code",
   "execution_count": 4,
   "metadata": {},
   "outputs": [
    {
     "data": {
      "text/html": [
       "<div>\n",
       "<style scoped>\n",
       "    .dataframe tbody tr th:only-of-type {\n",
       "        vertical-align: middle;\n",
       "    }\n",
       "\n",
       "    .dataframe tbody tr th {\n",
       "        vertical-align: top;\n",
       "    }\n",
       "\n",
       "    .dataframe thead th {\n",
       "        text-align: right;\n",
       "    }\n",
       "</style>\n",
       "<table border=\"1\" class=\"dataframe\">\n",
       "  <thead>\n",
       "    <tr style=\"text-align: right;\">\n",
       "      <th></th>\n",
       "      <th>DateCrawled</th>\n",
       "      <th>Price</th>\n",
       "      <th>VehicleType</th>\n",
       "      <th>RegistrationYear</th>\n",
       "      <th>Gearbox</th>\n",
       "      <th>Power</th>\n",
       "      <th>Model</th>\n",
       "      <th>Kilometer</th>\n",
       "      <th>RegistrationMonth</th>\n",
       "      <th>FuelType</th>\n",
       "      <th>Brand</th>\n",
       "      <th>Repaired</th>\n",
       "      <th>DateCreated</th>\n",
       "      <th>NumberOfPictures</th>\n",
       "      <th>PostalCode</th>\n",
       "      <th>LastSeen</th>\n",
       "    </tr>\n",
       "  </thead>\n",
       "  <tbody>\n",
       "    <tr>\n",
       "      <th>0</th>\n",
       "      <td>2016-03-24 11:52:17</td>\n",
       "      <td>480</td>\n",
       "      <td>NaN</td>\n",
       "      <td>1993</td>\n",
       "      <td>manual</td>\n",
       "      <td>0</td>\n",
       "      <td>golf</td>\n",
       "      <td>150000</td>\n",
       "      <td>0</td>\n",
       "      <td>petrol</td>\n",
       "      <td>volkswagen</td>\n",
       "      <td>NaN</td>\n",
       "      <td>2016-03-24 00:00:00</td>\n",
       "      <td>0</td>\n",
       "      <td>70435</td>\n",
       "      <td>2016-04-07 03:16:57</td>\n",
       "    </tr>\n",
       "    <tr>\n",
       "      <th>1</th>\n",
       "      <td>2016-03-24 10:58:45</td>\n",
       "      <td>18300</td>\n",
       "      <td>coupe</td>\n",
       "      <td>2011</td>\n",
       "      <td>manual</td>\n",
       "      <td>190</td>\n",
       "      <td>NaN</td>\n",
       "      <td>125000</td>\n",
       "      <td>5</td>\n",
       "      <td>gasoline</td>\n",
       "      <td>audi</td>\n",
       "      <td>yes</td>\n",
       "      <td>2016-03-24 00:00:00</td>\n",
       "      <td>0</td>\n",
       "      <td>66954</td>\n",
       "      <td>2016-04-07 01:46:50</td>\n",
       "    </tr>\n",
       "    <tr>\n",
       "      <th>2</th>\n",
       "      <td>2016-03-14 12:52:21</td>\n",
       "      <td>9800</td>\n",
       "      <td>suv</td>\n",
       "      <td>2004</td>\n",
       "      <td>auto</td>\n",
       "      <td>163</td>\n",
       "      <td>grand</td>\n",
       "      <td>125000</td>\n",
       "      <td>8</td>\n",
       "      <td>gasoline</td>\n",
       "      <td>jeep</td>\n",
       "      <td>NaN</td>\n",
       "      <td>2016-03-14 00:00:00</td>\n",
       "      <td>0</td>\n",
       "      <td>90480</td>\n",
       "      <td>2016-04-05 12:47:46</td>\n",
       "    </tr>\n",
       "    <tr>\n",
       "      <th>3</th>\n",
       "      <td>2016-03-17 16:54:04</td>\n",
       "      <td>1500</td>\n",
       "      <td>small</td>\n",
       "      <td>2001</td>\n",
       "      <td>manual</td>\n",
       "      <td>75</td>\n",
       "      <td>golf</td>\n",
       "      <td>150000</td>\n",
       "      <td>6</td>\n",
       "      <td>petrol</td>\n",
       "      <td>volkswagen</td>\n",
       "      <td>no</td>\n",
       "      <td>2016-03-17 00:00:00</td>\n",
       "      <td>0</td>\n",
       "      <td>91074</td>\n",
       "      <td>2016-03-17 17:40:17</td>\n",
       "    </tr>\n",
       "    <tr>\n",
       "      <th>4</th>\n",
       "      <td>2016-03-31 17:25:20</td>\n",
       "      <td>3600</td>\n",
       "      <td>small</td>\n",
       "      <td>2008</td>\n",
       "      <td>manual</td>\n",
       "      <td>69</td>\n",
       "      <td>fabia</td>\n",
       "      <td>90000</td>\n",
       "      <td>7</td>\n",
       "      <td>gasoline</td>\n",
       "      <td>skoda</td>\n",
       "      <td>no</td>\n",
       "      <td>2016-03-31 00:00:00</td>\n",
       "      <td>0</td>\n",
       "      <td>60437</td>\n",
       "      <td>2016-04-06 10:17:21</td>\n",
       "    </tr>\n",
       "    <tr>\n",
       "      <th>5</th>\n",
       "      <td>2016-04-04 17:36:23</td>\n",
       "      <td>650</td>\n",
       "      <td>sedan</td>\n",
       "      <td>1995</td>\n",
       "      <td>manual</td>\n",
       "      <td>102</td>\n",
       "      <td>3er</td>\n",
       "      <td>150000</td>\n",
       "      <td>10</td>\n",
       "      <td>petrol</td>\n",
       "      <td>bmw</td>\n",
       "      <td>yes</td>\n",
       "      <td>2016-04-04 00:00:00</td>\n",
       "      <td>0</td>\n",
       "      <td>33775</td>\n",
       "      <td>2016-04-06 19:17:07</td>\n",
       "    </tr>\n",
       "    <tr>\n",
       "      <th>6</th>\n",
       "      <td>2016-04-01 20:48:51</td>\n",
       "      <td>2200</td>\n",
       "      <td>convertible</td>\n",
       "      <td>2004</td>\n",
       "      <td>manual</td>\n",
       "      <td>109</td>\n",
       "      <td>2_reihe</td>\n",
       "      <td>150000</td>\n",
       "      <td>8</td>\n",
       "      <td>petrol</td>\n",
       "      <td>peugeot</td>\n",
       "      <td>no</td>\n",
       "      <td>2016-04-01 00:00:00</td>\n",
       "      <td>0</td>\n",
       "      <td>67112</td>\n",
       "      <td>2016-04-05 18:18:39</td>\n",
       "    </tr>\n",
       "    <tr>\n",
       "      <th>7</th>\n",
       "      <td>2016-03-21 18:54:38</td>\n",
       "      <td>0</td>\n",
       "      <td>sedan</td>\n",
       "      <td>1980</td>\n",
       "      <td>manual</td>\n",
       "      <td>50</td>\n",
       "      <td>other</td>\n",
       "      <td>40000</td>\n",
       "      <td>7</td>\n",
       "      <td>petrol</td>\n",
       "      <td>volkswagen</td>\n",
       "      <td>no</td>\n",
       "      <td>2016-03-21 00:00:00</td>\n",
       "      <td>0</td>\n",
       "      <td>19348</td>\n",
       "      <td>2016-03-25 16:47:58</td>\n",
       "    </tr>\n",
       "    <tr>\n",
       "      <th>8</th>\n",
       "      <td>2016-04-04 23:42:13</td>\n",
       "      <td>14500</td>\n",
       "      <td>bus</td>\n",
       "      <td>2014</td>\n",
       "      <td>manual</td>\n",
       "      <td>125</td>\n",
       "      <td>c_max</td>\n",
       "      <td>30000</td>\n",
       "      <td>8</td>\n",
       "      <td>petrol</td>\n",
       "      <td>ford</td>\n",
       "      <td>NaN</td>\n",
       "      <td>2016-04-04 00:00:00</td>\n",
       "      <td>0</td>\n",
       "      <td>94505</td>\n",
       "      <td>2016-04-04 23:42:13</td>\n",
       "    </tr>\n",
       "    <tr>\n",
       "      <th>9</th>\n",
       "      <td>2016-03-17 10:53:50</td>\n",
       "      <td>999</td>\n",
       "      <td>small</td>\n",
       "      <td>1998</td>\n",
       "      <td>manual</td>\n",
       "      <td>101</td>\n",
       "      <td>golf</td>\n",
       "      <td>150000</td>\n",
       "      <td>0</td>\n",
       "      <td>NaN</td>\n",
       "      <td>volkswagen</td>\n",
       "      <td>NaN</td>\n",
       "      <td>2016-03-17 00:00:00</td>\n",
       "      <td>0</td>\n",
       "      <td>27472</td>\n",
       "      <td>2016-03-31 17:17:06</td>\n",
       "    </tr>\n",
       "  </tbody>\n",
       "</table>\n",
       "</div>"
      ],
      "text/plain": [
       "           DateCrawled  Price  VehicleType  RegistrationYear Gearbox  Power  \\\n",
       "0  2016-03-24 11:52:17    480          NaN              1993  manual      0   \n",
       "1  2016-03-24 10:58:45  18300        coupe              2011  manual    190   \n",
       "2  2016-03-14 12:52:21   9800          suv              2004    auto    163   \n",
       "3  2016-03-17 16:54:04   1500        small              2001  manual     75   \n",
       "4  2016-03-31 17:25:20   3600        small              2008  manual     69   \n",
       "5  2016-04-04 17:36:23    650        sedan              1995  manual    102   \n",
       "6  2016-04-01 20:48:51   2200  convertible              2004  manual    109   \n",
       "7  2016-03-21 18:54:38      0        sedan              1980  manual     50   \n",
       "8  2016-04-04 23:42:13  14500          bus              2014  manual    125   \n",
       "9  2016-03-17 10:53:50    999        small              1998  manual    101   \n",
       "\n",
       "     Model  Kilometer  RegistrationMonth  FuelType       Brand Repaired  \\\n",
       "0     golf     150000                  0    petrol  volkswagen      NaN   \n",
       "1      NaN     125000                  5  gasoline        audi      yes   \n",
       "2    grand     125000                  8  gasoline        jeep      NaN   \n",
       "3     golf     150000                  6    petrol  volkswagen       no   \n",
       "4    fabia      90000                  7  gasoline       skoda       no   \n",
       "5      3er     150000                 10    petrol         bmw      yes   \n",
       "6  2_reihe     150000                  8    petrol     peugeot       no   \n",
       "7    other      40000                  7    petrol  volkswagen       no   \n",
       "8    c_max      30000                  8    petrol        ford      NaN   \n",
       "9     golf     150000                  0       NaN  volkswagen      NaN   \n",
       "\n",
       "           DateCreated  NumberOfPictures  PostalCode             LastSeen  \n",
       "0  2016-03-24 00:00:00                 0       70435  2016-04-07 03:16:57  \n",
       "1  2016-03-24 00:00:00                 0       66954  2016-04-07 01:46:50  \n",
       "2  2016-03-14 00:00:00                 0       90480  2016-04-05 12:47:46  \n",
       "3  2016-03-17 00:00:00                 0       91074  2016-03-17 17:40:17  \n",
       "4  2016-03-31 00:00:00                 0       60437  2016-04-06 10:17:21  \n",
       "5  2016-04-04 00:00:00                 0       33775  2016-04-06 19:17:07  \n",
       "6  2016-04-01 00:00:00                 0       67112  2016-04-05 18:18:39  \n",
       "7  2016-03-21 00:00:00                 0       19348  2016-03-25 16:47:58  \n",
       "8  2016-04-04 00:00:00                 0       94505  2016-04-04 23:42:13  \n",
       "9  2016-03-17 00:00:00                 0       27472  2016-03-31 17:17:06  "
      ]
     },
     "execution_count": 4,
     "metadata": {},
     "output_type": "execute_result"
    }
   ],
   "source": [
    "#прочитаем и посмотрим данные\n",
    "data = pd.read_csv('C:/Users/Lerusik/Documents/datasets/autos.csv')\n",
    "data.head(10)"
   ]
  },
  {
   "cell_type": "markdown",
   "metadata": {},
   "source": [
    "**Много пропусков:**\n",
    "\n",
    "VehicleType - тип автомобильного кузова\n",
    "\n",
    "Gearbox — тип коробки передач\n",
    "\n",
    "Model — модель автомобиля\n",
    "\n",
    "FuelType — модель топлива\n",
    "\n",
    "Repaired — была машина в ремонте или нет\n",
    "\n",
    "Очевидно, что есть **выбросы**, надо проверять каждый признак\n",
    "\n",
    "**Ненужные признаки:**\n",
    "\n",
    "DateCrawled — дата скачивания анкеты из базы\n",
    "\n",
    "PostalCode — почтовый индекс владельца анкеты (пользователя)\n",
    "\n",
    "**Сомнительные признаки:**\n",
    " \n",
    "\n",
    "RegistrationMonth — месяц регистрации автомобиля\n",
    "\n",
    "DateCreated — дата создания анкеты\n",
    "\n",
    "LastSeen — дата последней активности пользователя"
   ]
  },
  {
   "cell_type": "code",
   "execution_count": 5,
   "metadata": {},
   "outputs": [],
   "source": [
    "#удалим ненужные признаки\n",
    "data.drop(columns=['DateCrawled','PostalCode','RegistrationMonth','LastSeen'], axis= 1 , inplace= True )"
   ]
  },
  {
   "cell_type": "code",
   "execution_count": 6,
   "metadata": {
    "scrolled": false
   },
   "outputs": [
    {
     "name": "stdout",
     "output_type": "stream",
     "text": [
      "<class 'pandas.core.frame.DataFrame'>\n",
      "RangeIndex: 354369 entries, 0 to 354368\n",
      "Data columns (total 12 columns):\n",
      " #   Column            Non-Null Count   Dtype \n",
      "---  ------            --------------   ----- \n",
      " 0   Price             354369 non-null  int64 \n",
      " 1   VehicleType       316879 non-null  object\n",
      " 2   RegistrationYear  354369 non-null  int64 \n",
      " 3   Gearbox           334536 non-null  object\n",
      " 4   Power             354369 non-null  int64 \n",
      " 5   Model             334664 non-null  object\n",
      " 6   Kilometer         354369 non-null  int64 \n",
      " 7   FuelType          321474 non-null  object\n",
      " 8   Brand             354369 non-null  object\n",
      " 9   Repaired          283215 non-null  object\n",
      " 10  DateCreated       354369 non-null  object\n",
      " 11  NumberOfPictures  354369 non-null  int64 \n",
      "dtypes: int64(5), object(7)\n",
      "memory usage: 32.4+ MB\n"
     ]
    }
   ],
   "source": [
    "data.info()"
   ]
  },
  {
   "cell_type": "code",
   "execution_count": 7,
   "metadata": {
    "scrolled": true
   },
   "outputs": [
    {
     "data": {
      "text/html": [
       "<div>\n",
       "<style scoped>\n",
       "    .dataframe tbody tr th:only-of-type {\n",
       "        vertical-align: middle;\n",
       "    }\n",
       "\n",
       "    .dataframe tbody tr th {\n",
       "        vertical-align: top;\n",
       "    }\n",
       "\n",
       "    .dataframe thead th {\n",
       "        text-align: right;\n",
       "    }\n",
       "</style>\n",
       "<table border=\"1\" class=\"dataframe\">\n",
       "  <thead>\n",
       "    <tr style=\"text-align: right;\">\n",
       "      <th></th>\n",
       "      <th>Price</th>\n",
       "      <th>RegistrationYear</th>\n",
       "      <th>Power</th>\n",
       "      <th>Kilometer</th>\n",
       "      <th>NumberOfPictures</th>\n",
       "    </tr>\n",
       "  </thead>\n",
       "  <tbody>\n",
       "    <tr>\n",
       "      <th>count</th>\n",
       "      <td>354369.000000</td>\n",
       "      <td>354369.000000</td>\n",
       "      <td>354369.000000</td>\n",
       "      <td>354369.000000</td>\n",
       "      <td>354369.0</td>\n",
       "    </tr>\n",
       "    <tr>\n",
       "      <th>mean</th>\n",
       "      <td>4416.656776</td>\n",
       "      <td>2004.234448</td>\n",
       "      <td>110.094337</td>\n",
       "      <td>128211.172535</td>\n",
       "      <td>0.0</td>\n",
       "    </tr>\n",
       "    <tr>\n",
       "      <th>std</th>\n",
       "      <td>4514.158514</td>\n",
       "      <td>90.227958</td>\n",
       "      <td>189.850405</td>\n",
       "      <td>37905.341530</td>\n",
       "      <td>0.0</td>\n",
       "    </tr>\n",
       "    <tr>\n",
       "      <th>min</th>\n",
       "      <td>0.000000</td>\n",
       "      <td>1000.000000</td>\n",
       "      <td>0.000000</td>\n",
       "      <td>5000.000000</td>\n",
       "      <td>0.0</td>\n",
       "    </tr>\n",
       "    <tr>\n",
       "      <th>25%</th>\n",
       "      <td>1050.000000</td>\n",
       "      <td>1999.000000</td>\n",
       "      <td>69.000000</td>\n",
       "      <td>125000.000000</td>\n",
       "      <td>0.0</td>\n",
       "    </tr>\n",
       "    <tr>\n",
       "      <th>50%</th>\n",
       "      <td>2700.000000</td>\n",
       "      <td>2003.000000</td>\n",
       "      <td>105.000000</td>\n",
       "      <td>150000.000000</td>\n",
       "      <td>0.0</td>\n",
       "    </tr>\n",
       "    <tr>\n",
       "      <th>75%</th>\n",
       "      <td>6400.000000</td>\n",
       "      <td>2008.000000</td>\n",
       "      <td>143.000000</td>\n",
       "      <td>150000.000000</td>\n",
       "      <td>0.0</td>\n",
       "    </tr>\n",
       "    <tr>\n",
       "      <th>max</th>\n",
       "      <td>20000.000000</td>\n",
       "      <td>9999.000000</td>\n",
       "      <td>20000.000000</td>\n",
       "      <td>150000.000000</td>\n",
       "      <td>0.0</td>\n",
       "    </tr>\n",
       "  </tbody>\n",
       "</table>\n",
       "</div>"
      ],
      "text/plain": [
       "               Price  RegistrationYear          Power      Kilometer  \\\n",
       "count  354369.000000     354369.000000  354369.000000  354369.000000   \n",
       "mean     4416.656776       2004.234448     110.094337  128211.172535   \n",
       "std      4514.158514         90.227958     189.850405   37905.341530   \n",
       "min         0.000000       1000.000000       0.000000    5000.000000   \n",
       "25%      1050.000000       1999.000000      69.000000  125000.000000   \n",
       "50%      2700.000000       2003.000000     105.000000  150000.000000   \n",
       "75%      6400.000000       2008.000000     143.000000  150000.000000   \n",
       "max     20000.000000       9999.000000   20000.000000  150000.000000   \n",
       "\n",
       "       NumberOfPictures  \n",
       "count          354369.0  \n",
       "mean                0.0  \n",
       "std                 0.0  \n",
       "min                 0.0  \n",
       "25%                 0.0  \n",
       "50%                 0.0  \n",
       "75%                 0.0  \n",
       "max                 0.0  "
      ]
     },
     "execution_count": 7,
     "metadata": {},
     "output_type": "execute_result"
    }
   ],
   "source": [
    "data.describe()"
   ]
  },
  {
   "cell_type": "markdown",
   "metadata": {},
   "source": [
    "Посмотрим выбросы, заполним пропуски для каждого признака:"
   ]
  },
  {
   "cell_type": "markdown",
   "metadata": {},
   "source": [
    "#### Price"
   ]
  },
  {
   "cell_type": "code",
   "execution_count": 8,
   "metadata": {
    "scrolled": false
   },
   "outputs": [
    {
     "data": {
      "image/png": "[encoded data removed]",
      "text/plain": [
       "<Figure size 640x480 with 1 Axes>"
      ]
     },
     "metadata": {},
     "output_type": "display_data"
    }
   ],
   "source": [
    "data.boxplot(column=['Price'])\n",
    "plt.show()"
   ]
  },
  {
   "cell_type": "code",
   "execution_count": 9,
   "metadata": {
    "scrolled": true
   },
   "outputs": [
    {
     "data": {
      "text/plain": [
       "205926    0\n",
       "204097    0\n",
       "204099    0\n",
       "204104    0\n",
       "62604     0\n",
       "         ..\n",
       "125843    0\n",
       "125884    0\n",
       "342091    0\n",
       "125839    0\n",
       "234531    0\n",
       "Name: Price, Length: 1000, dtype: int64"
      ]
     },
     "execution_count": 9,
     "metadata": {},
     "output_type": "execute_result"
    }
   ],
   "source": [
    "data['Price'].sort_values().head(1000)"
   ]
  },
  {
   "cell_type": "code",
   "execution_count": 10,
   "metadata": {},
   "outputs": [],
   "source": [
    "data = data.query('Price > 0')"
   ]
  },
  {
   "cell_type": "markdown",
   "metadata": {},
   "source": [
    "Естественно есть завышенные цены. Есть и нулевые. Поскольку нам такие данные не нужны, а заполнить их примерным числом не представляется логичным, эти данные придется удалить"
   ]
  },
  {
   "cell_type": "code",
   "execution_count": 11,
   "metadata": {},
   "outputs": [
    {
     "data": {
      "text/plain": [
       "200.0"
      ]
     },
     "execution_count": 11,
     "metadata": {},
     "output_type": "execute_result"
    }
   ],
   "source": [
    "np.percentile(data[\"Price\"], 2.5)"
   ]
  },
  {
   "cell_type": "markdown",
   "metadata": {},
   "source": [
    "Если переоцененные машины могут быть, то слишком дешевые скорее всего будут мешать нашей модели. Уберу 2,5% нижних значений"
   ]
  },
  {
   "cell_type": "code",
   "execution_count": 12,
   "metadata": {},
   "outputs": [],
   "source": [
    "data = data.query('Price > 200')"
   ]
  },
  {
   "cell_type": "markdown",
   "metadata": {},
   "source": [
    "####  VehicleType"
   ]
  },
  {
   "cell_type": "code",
   "execution_count": 13,
   "metadata": {},
   "outputs": [],
   "source": [
    "#заменим пропуски \n",
    "data['VehicleType'] = data['VehicleType'].fillna('unknow')\n",
    "\n",
    "#удалим пропуски\n",
    "#data = data.dropna(subset=['VehicleType'])"
   ]
  },
  {
   "cell_type": "markdown",
   "metadata": {},
   "source": [
    "####  RegistrationYear"
   ]
  },
  {
   "cell_type": "code",
   "execution_count": 14,
   "metadata": {
    "scrolled": true
   },
   "outputs": [
    {
     "data": {
      "image/png": "[encoded data removed]",
      "text/plain": [
       "<Figure size 640x480 with 1 Axes>"
      ]
     },
     "metadata": {},
     "output_type": "display_data"
    }
   ],
   "source": [
    "data.boxplot(column=['RegistrationYear'])\n",
    "plt.show()"
   ]
  },
  {
   "cell_type": "markdown",
   "metadata": {},
   "source": [
    "Очевидно, что год регистрации не может превышать дату скачивания. Обрежем данные"
   ]
  },
  {
   "cell_type": "code",
   "execution_count": 15,
   "metadata": {},
   "outputs": [],
   "source": [
    "data['DateCreated'] = pd.to_datetime(data['DateCreated'], utc=True)\n",
    "data['DateCreatedYear'] = data['DateCreated'].dt.year"
   ]
  },
  {
   "cell_type": "code",
   "execution_count": 16,
   "metadata": {},
   "outputs": [
    {
     "data": {
      "text/plain": [
       "2016"
      ]
     },
     "execution_count": 16,
     "metadata": {},
     "output_type": "execute_result"
    }
   ],
   "source": [
    "data['DateCreatedYear'].max()"
   ]
  },
  {
   "cell_type": "code",
   "execution_count": 17,
   "metadata": {},
   "outputs": [],
   "source": [
    "data = data.query('RegistrationYear < 2016 & RegistrationYear > 1900')"
   ]
  },
  {
   "cell_type": "code",
   "execution_count": 18,
   "metadata": {},
   "outputs": [],
   "source": [
    "#удалим ненужные признаки\n",
    "data.drop(columns=['DateCreated','DateCreatedYear'], axis= 1 , inplace= True )"
   ]
  },
  {
   "cell_type": "markdown",
   "metadata": {},
   "source": [
    "####  Gearbox"
   ]
  },
  {
   "cell_type": "code",
   "execution_count": 19,
   "metadata": {},
   "outputs": [],
   "source": [
    "h = data['Gearbox'].hist()\n",
    "fig = h.get_figure()"
   ]
  },
  {
   "cell_type": "code",
   "execution_count": 20,
   "metadata": {},
   "outputs": [],
   "source": [
    "#заменим пропуски чащевстречающимся значением\n",
    "data['Gearbox'] = data['Gearbox'].fillna('manual')"
   ]
  },
  {
   "cell_type": "markdown",
   "metadata": {},
   "source": [
    "### Power"
   ]
  },
  {
   "cell_type": "code",
   "execution_count": 21,
   "metadata": {
    "scrolled": true
   },
   "outputs": [
    {
     "name": "stdout",
     "output_type": "stream",
     "text": [
      "Уникальные значения в столбце Power: [    0     1     2     3     4     5     6     7     8     9    10    11\n",
      "    12    13    14    15    16    17    18    19    20    21    22    23\n",
      "    24    25    26    27    28    29    30    31    32    33    34    35\n",
      "    36    37    38    39    40    41    42    43    44    45    46    47\n",
      "    48    49    50    51    52    53    54    55    56    57    58    59\n",
      "    60    61    62    63    64    65    66    67    68    69    70    71\n",
      "    72    73    74    75    76    77    78    79    80    81    82    83\n",
      "    84    85    86    87    88    89    90    91    92    93    94    95\n",
      "    96    97    98    99   100   101   102   103   104   105   106   107\n",
      "   108   109   110   111   112   113   114   115   116   117   118   119\n",
      "   120   121   122   123   124   125   126   127   128   129   130   131\n",
      "   132   133   134   135   136   137   138   139   140   141   142   143\n",
      "   144   145   146   147   148   149   150   151   152   153   154   155\n",
      "   156   157   158   159   160   161   162   163   164   165   166   167\n",
      "   168   169   170   171   172   173   174   175   176   177   178   179\n",
      "   180   181   182   183   184   185   186   187   188   189   190   191\n",
      "   192   193   194   195   196   197   198   199   200   201   202   203\n",
      "   204   205   206   207   208   209   210   211   212   213   214   215\n",
      "   216   217   218   219   220   221   222   223   224   225   226   227\n",
      "   228   229   230   231   232   233   234   235   236   237   238   239\n",
      "   240   241   242   243   244   245   246   247   248   249   250   251\n",
      "   252   253   254   255   256   257   258   259   260   261   262   264\n",
      "   265   266   267   268   269   270   271   272   273   274   275   276\n",
      "   277   278   279   280   281   282   283   284   285   286   287   288\n",
      "   289   290   292   293   294   295   296   297   298   299   300   301\n",
      "   303   304   305   306   307   308   309   310   311   313   314   315\n",
      "   316   317   318   320   321   322   324   325   326   328   329   330\n",
      "   331   332   333   334   335   336   338   339   340   341   343   344\n",
      "   345   346   347   348   349   350   351   352   353   354   355   356\n",
      "   357   358   360   361   362   363   364   365   367   368   370   371\n",
      "   374   375   376   377   379   380   381   382   385   386   387   388\n",
      "   390   392   394   396   398   399   400   401   405   408   409   411\n",
      "   416   420   421   425   426   428   430   431   435   440   442   445\n",
      "   449   450   454   457   460   475   476   487   489   490   500   504\n",
      "   505   507   508   510   514   515   517   519   520   521   525   540\n",
      "   541   544   550   551   560   572   579   580   584   585   600   601\n",
      "   602   603   604   606   610   612   620   640   645   650   651   671\n",
      "   678   682   685   700   702   703   732   743   750   751   754   771\n",
      "   776   800   805   850   851   871   900   903   907   909   950   952\n",
      "   953   998   999  1000  1001  1002  1003  1004  1005  1011  1012  1016\n",
      "  1017  1021  1024  1054  1055  1056  1062  1079  1082  1090  1100  1103\n",
      "  1105  1115  1120  1149  1151  1160  1162  1164  1199  1202  1221  1223\n",
      "  1230  1239  1240  1241  1250  1256  1275  1288  1299  1300  1312  1317\n",
      "  1324  1339  1360  1362  1363  1367  1390  1398  1399  1400  1401  1403\n",
      "  1405  1416  1432  1433  1436  1500  1501  1502  1503  1506  1521  1548\n",
      "  1595  1596  1597  1598  1600  1625  1631  1653  1659  1689  1700  1701\n",
      "  1703  1704  1707  1753  1771  1780  1781  1783  1793  1796  1799  1800\n",
      "  1801  1870  1895  1896  1900  1920  1922  1933  1937  1968  1988  1992\n",
      "  1993  1995  1998  1999  2000  2004  2005  2007  2009  2016  2017  2018\n",
      "  2172  2331  2340  2389  2402  2461  2598  2729  2789  2792  2799  3199\n",
      "  3454  3500  4400  4700  5411  5420  5575  5809  5867  6006  6010  6012\n",
      "  6018  6045  6062  6226  6512  6920  7508  7511  7512  7515  7518  7529\n",
      "  7544  8259  8404  8500  9007  9012  9013 10110 10218 10520 10522 10710\n",
      " 10910 10912 11011 11025 11509 11530 11635 12012 12510 12512 13636 14009\n",
      " 15001 15017 15020 15033 16051 16311 16312 17011 17019 17410 17700 17932\n",
      " 19208 19211 19312 20000]\n"
     ]
    }
   ],
   "source": [
    "col = 'Power'\n",
    "\n",
    "print(f\"\"\"Уникальные значения в столбце {col}: {data[col].sort_values().unique()}\"\"\")\n",
    "    "
   ]
  },
  {
   "cell_type": "code",
   "execution_count": 22,
   "metadata": {
    "scrolled": true
   },
   "outputs": [
    {
     "data": {
      "image/png": "[encoded data removed]",
      "text/plain": [
       "<Figure size 640x480 with 1 Axes>"
      ]
     },
     "metadata": {},
     "output_type": "display_data"
    }
   ],
   "source": [
    "data.boxplot(column=['Power'])\n",
    "plt.show()"
   ]
  },
  {
   "cell_type": "code",
   "execution_count": 23,
   "metadata": {},
   "outputs": [],
   "source": [
    "data = data.query('Power < 2028 & Power > 50') #в инетике посмотрела максимальную мощность машины"
   ]
  },
  {
   "cell_type": "markdown",
   "metadata": {},
   "source": [
    "### Model"
   ]
  },
  {
   "cell_type": "code",
   "execution_count": 24,
   "metadata": {
    "scrolled": false
   },
   "outputs": [
    {
     "data": {
      "text/plain": [
       "Model\n",
       "golf                  23463\n",
       "other                 19300\n",
       "3er                   17053\n",
       "a4                     8678\n",
       "astra                  8645\n",
       "                      ...  \n",
       "i3                        5\n",
       "elefantino                4\n",
       "serie_3                   3\n",
       "range_rover_evoque        2\n",
       "rangerover                2\n",
       "Length: 248, dtype: int64"
      ]
     },
     "execution_count": 24,
     "metadata": {},
     "output_type": "execute_result"
    }
   ],
   "source": [
    "data.value_counts('Model')"
   ]
  },
  {
   "cell_type": "code",
   "execution_count": 25,
   "metadata": {},
   "outputs": [],
   "source": [
    "#заменим маловстречающиеся на other\n",
    "\n",
    "#если меньше 500 машин, то сделаем их \"другие\"\n",
    "new = data['Model'].value_counts()\n",
    "new = new[new<500].index\n",
    "another_list = []\n",
    "for i in list(data['Model'].unique()):\n",
    "    if i in new:\n",
    "        another_list.append(i)\n",
    "\n",
    "\n",
    "data['Model'] = data['Model'].replace(another_list, 'other')\n",
    "\n",
    "#заменим пропуски на unknow\n",
    "data['Model'] = data['Model'].fillna('other')\n",
    "\n"
   ]
  },
  {
   "cell_type": "markdown",
   "metadata": {},
   "source": [
    "### Kilometer"
   ]
  },
  {
   "cell_type": "code",
   "execution_count": 26,
   "metadata": {
    "scrolled": true
   },
   "outputs": [],
   "source": [
    "h = data['Kilometer'].hist(bins=20)\n",
    "fig = h.get_figure()"
   ]
  },
  {
   "cell_type": "markdown",
   "metadata": {},
   "source": [
    "В целом зависимость похожа на экспоненциальную, это значит, что в целом выбросов нет, теория совпадает с реальностью, машин с большим пробегом больше на подобных площадках для продажи"
   ]
  },
  {
   "cell_type": "markdown",
   "metadata": {},
   "source": [
    "### FuelType"
   ]
  },
  {
   "cell_type": "code",
   "execution_count": 27,
   "metadata": {
    "scrolled": true
   },
   "outputs": [],
   "source": [
    "h = data['FuelType'].hist()\n",
    "fig = h.get_figure()"
   ]
  },
  {
   "cell_type": "code",
   "execution_count": 28,
   "metadata": {},
   "outputs": [],
   "source": [
    "# редкие объединим\n",
    "data['FuelType'] = data['FuelType'].replace('hybrid','other')\n",
    "data['FuelType'] = data['FuelType'].replace('electric','other')\n",
    "data['FuelType'] = data['FuelType'].replace('cng','other')\n",
    "data['FuelType'] = data['FuelType'].replace('lpg','other')"
   ]
  },
  {
   "cell_type": "code",
   "execution_count": 29,
   "metadata": {},
   "outputs": [],
   "source": [
    "data['FuelType'] = data['FuelType'].fillna('unknow')"
   ]
  },
  {
   "cell_type": "code",
   "execution_count": 30,
   "metadata": {
    "scrolled": true
   },
   "outputs": [
    {
     "data": {
      "text/html": [
       "<div>\n",
       "<style scoped>\n",
       "    .dataframe tbody tr th:only-of-type {\n",
       "        vertical-align: middle;\n",
       "    }\n",
       "\n",
       "    .dataframe tbody tr th {\n",
       "        vertical-align: top;\n",
       "    }\n",
       "\n",
       "    .dataframe thead th {\n",
       "        text-align: right;\n",
       "    }\n",
       "</style>\n",
       "<table border=\"1\" class=\"dataframe\">\n",
       "  <thead>\n",
       "    <tr style=\"text-align: right;\">\n",
       "      <th></th>\n",
       "      <th>Price</th>\n",
       "      <th>VehicleType</th>\n",
       "      <th>RegistrationYear</th>\n",
       "      <th>Gearbox</th>\n",
       "      <th>Power</th>\n",
       "      <th>Model</th>\n",
       "      <th>Kilometer</th>\n",
       "      <th>FuelType</th>\n",
       "      <th>Brand</th>\n",
       "      <th>Repaired</th>\n",
       "      <th>NumberOfPictures</th>\n",
       "    </tr>\n",
       "  </thead>\n",
       "  <tbody>\n",
       "    <tr>\n",
       "      <th>9</th>\n",
       "      <td>999</td>\n",
       "      <td>small</td>\n",
       "      <td>1998</td>\n",
       "      <td>manual</td>\n",
       "      <td>101</td>\n",
       "      <td>golf</td>\n",
       "      <td>150000</td>\n",
       "      <td>unknow</td>\n",
       "      <td>volkswagen</td>\n",
       "      <td>NaN</td>\n",
       "      <td>0</td>\n",
       "    </tr>\n",
       "    <tr>\n",
       "      <th>13</th>\n",
       "      <td>2500</td>\n",
       "      <td>wagon</td>\n",
       "      <td>2004</td>\n",
       "      <td>manual</td>\n",
       "      <td>131</td>\n",
       "      <td>passat</td>\n",
       "      <td>150000</td>\n",
       "      <td>unknow</td>\n",
       "      <td>volkswagen</td>\n",
       "      <td>no</td>\n",
       "      <td>0</td>\n",
       "    </tr>\n",
       "    <tr>\n",
       "      <th>36</th>\n",
       "      <td>1600</td>\n",
       "      <td>other</td>\n",
       "      <td>1991</td>\n",
       "      <td>manual</td>\n",
       "      <td>75</td>\n",
       "      <td>other</td>\n",
       "      <td>70000</td>\n",
       "      <td>unknow</td>\n",
       "      <td>opel</td>\n",
       "      <td>NaN</td>\n",
       "      <td>0</td>\n",
       "    </tr>\n",
       "    <tr>\n",
       "      <th>41</th>\n",
       "      <td>7500</td>\n",
       "      <td>sedan</td>\n",
       "      <td>2002</td>\n",
       "      <td>auto</td>\n",
       "      <td>306</td>\n",
       "      <td>e_klasse</td>\n",
       "      <td>150000</td>\n",
       "      <td>unknow</td>\n",
       "      <td>mercedes_benz</td>\n",
       "      <td>NaN</td>\n",
       "      <td>0</td>\n",
       "    </tr>\n",
       "    <tr>\n",
       "      <th>71</th>\n",
       "      <td>2300</td>\n",
       "      <td>unknow</td>\n",
       "      <td>1997</td>\n",
       "      <td>manual</td>\n",
       "      <td>150</td>\n",
       "      <td>5er</td>\n",
       "      <td>150000</td>\n",
       "      <td>unknow</td>\n",
       "      <td>bmw</td>\n",
       "      <td>no</td>\n",
       "      <td>0</td>\n",
       "    </tr>\n",
       "    <tr>\n",
       "      <th>...</th>\n",
       "      <td>...</td>\n",
       "      <td>...</td>\n",
       "      <td>...</td>\n",
       "      <td>...</td>\n",
       "      <td>...</td>\n",
       "      <td>...</td>\n",
       "      <td>...</td>\n",
       "      <td>...</td>\n",
       "      <td>...</td>\n",
       "      <td>...</td>\n",
       "      <td>...</td>\n",
       "    </tr>\n",
       "    <tr>\n",
       "      <th>354326</th>\n",
       "      <td>1300</td>\n",
       "      <td>small</td>\n",
       "      <td>1999</td>\n",
       "      <td>manual</td>\n",
       "      <td>75</td>\n",
       "      <td>2_reihe</td>\n",
       "      <td>125000</td>\n",
       "      <td>unknow</td>\n",
       "      <td>peugeot</td>\n",
       "      <td>NaN</td>\n",
       "      <td>0</td>\n",
       "    </tr>\n",
       "    <tr>\n",
       "      <th>354327</th>\n",
       "      <td>2999</td>\n",
       "      <td>wagon</td>\n",
       "      <td>2004</td>\n",
       "      <td>manual</td>\n",
       "      <td>234</td>\n",
       "      <td>vectra</td>\n",
       "      <td>100000</td>\n",
       "      <td>unknow</td>\n",
       "      <td>opel</td>\n",
       "      <td>NaN</td>\n",
       "      <td>0</td>\n",
       "    </tr>\n",
       "    <tr>\n",
       "      <th>354329</th>\n",
       "      <td>350</td>\n",
       "      <td>small</td>\n",
       "      <td>1996</td>\n",
       "      <td>manual</td>\n",
       "      <td>65</td>\n",
       "      <td>punto</td>\n",
       "      <td>150000</td>\n",
       "      <td>unknow</td>\n",
       "      <td>fiat</td>\n",
       "      <td>NaN</td>\n",
       "      <td>0</td>\n",
       "    </tr>\n",
       "    <tr>\n",
       "      <th>354339</th>\n",
       "      <td>3850</td>\n",
       "      <td>convertible</td>\n",
       "      <td>2006</td>\n",
       "      <td>manual</td>\n",
       "      <td>108</td>\n",
       "      <td>2_reihe</td>\n",
       "      <td>125000</td>\n",
       "      <td>unknow</td>\n",
       "      <td>peugeot</td>\n",
       "      <td>no</td>\n",
       "      <td>0</td>\n",
       "    </tr>\n",
       "    <tr>\n",
       "      <th>354351</th>\n",
       "      <td>1900</td>\n",
       "      <td>unknow</td>\n",
       "      <td>2000</td>\n",
       "      <td>manual</td>\n",
       "      <td>110</td>\n",
       "      <td>other</td>\n",
       "      <td>150000</td>\n",
       "      <td>unknow</td>\n",
       "      <td>volkswagen</td>\n",
       "      <td>no</td>\n",
       "      <td>0</td>\n",
       "    </tr>\n",
       "  </tbody>\n",
       "</table>\n",
       "<p>11518 rows × 11 columns</p>\n",
       "</div>"
      ],
      "text/plain": [
       "        Price  VehicleType  RegistrationYear Gearbox  Power     Model  \\\n",
       "9         999        small              1998  manual    101      golf   \n",
       "13       2500        wagon              2004  manual    131    passat   \n",
       "36       1600        other              1991  manual     75     other   \n",
       "41       7500        sedan              2002    auto    306  e_klasse   \n",
       "71       2300       unknow              1997  manual    150       5er   \n",
       "...       ...          ...               ...     ...    ...       ...   \n",
       "354326   1300        small              1999  manual     75   2_reihe   \n",
       "354327   2999        wagon              2004  manual    234    vectra   \n",
       "354329    350        small              1996  manual     65     punto   \n",
       "354339   3850  convertible              2006  manual    108   2_reihe   \n",
       "354351   1900       unknow              2000  manual    110     other   \n",
       "\n",
       "        Kilometer FuelType          Brand Repaired  NumberOfPictures  \n",
       "9          150000   unknow     volkswagen      NaN                 0  \n",
       "13         150000   unknow     volkswagen       no                 0  \n",
       "36          70000   unknow           opel      NaN                 0  \n",
       "41         150000   unknow  mercedes_benz      NaN                 0  \n",
       "71         150000   unknow            bmw       no                 0  \n",
       "...           ...      ...            ...      ...               ...  \n",
       "354326     125000   unknow        peugeot      NaN                 0  \n",
       "354327     100000   unknow           opel      NaN                 0  \n",
       "354329     150000   unknow           fiat      NaN                 0  \n",
       "354339     125000   unknow        peugeot       no                 0  \n",
       "354351     150000   unknow     volkswagen       no                 0  \n",
       "\n",
       "[11518 rows x 11 columns]"
      ]
     },
     "execution_count": 30,
     "metadata": {},
     "output_type": "execute_result"
    }
   ],
   "source": [
    "data.loc[data['FuelType'] == 'unknow']"
   ]
  },
  {
   "cell_type": "markdown",
   "metadata": {},
   "source": [
    "Сложно сказать, какой параметр может коррелировать  с типом топлива. В данных также наблюдаются различные годы, марки и мощности. Поэтому заполню наиболее частовстречающимися значениями"
   ]
  },
  {
   "cell_type": "code",
   "execution_count": 31,
   "metadata": {},
   "outputs": [],
   "source": [
    "data['FuelType'] = data['FuelType'].replace('unknow','petrol')"
   ]
  },
  {
   "cell_type": "markdown",
   "metadata": {},
   "source": [
    "### Brand"
   ]
  },
  {
   "cell_type": "code",
   "execution_count": 32,
   "metadata": {
    "scrolled": true
   },
   "outputs": [
    {
     "data": {
      "text/plain": [
       "Brand\n",
       "volkswagen        57878\n",
       "bmw               31672\n",
       "opel              29491\n",
       "mercedes_benz     26885\n",
       "audi              25064\n",
       "ford              18862\n",
       "renault           12942\n",
       "peugeot            8859\n",
       "fiat               6864\n",
       "seat               5012\n",
       "skoda              4835\n",
       "mazda              4517\n",
       "citroen            3986\n",
       "toyota             3942\n",
       "nissan             3821\n",
       "smart              3449\n",
       "hyundai            3030\n",
       "mini               2918\n",
       "volvo              2761\n",
       "mitsubishi         2360\n",
       "honda              2289\n",
       "kia                2039\n",
       "alfa_romeo         1908\n",
       "suzuki             1811\n",
       "sonstige_autos     1487\n",
       "chevrolet          1435\n",
       "chrysler           1137\n",
       "dacia               787\n",
       "porsche             619\n",
       "subaru              609\n",
       "jeep                571\n",
       "daihatsu            509\n",
       "saab                464\n",
       "land_rover          461\n",
       "jaguar              436\n",
       "daewoo              376\n",
       "lancia              348\n",
       "rover               333\n",
       "lada                154\n",
       "trabant               5\n",
       "dtype: int64"
      ]
     },
     "execution_count": 32,
     "metadata": {},
     "output_type": "execute_result"
    }
   ],
   "source": [
    "data.value_counts('Brand')"
   ]
  },
  {
   "cell_type": "markdown",
   "metadata": {},
   "source": [
    "Всё окей"
   ]
  },
  {
   "cell_type": "markdown",
   "metadata": {},
   "source": [
    "### Repaired"
   ]
  },
  {
   "cell_type": "code",
   "execution_count": 33,
   "metadata": {},
   "outputs": [],
   "source": [
    "h = data['Repaired'].hist()\n",
    "fig = h.get_figure()"
   ]
  },
  {
   "cell_type": "code",
   "execution_count": 34,
   "metadata": {
    "scrolled": false
   },
   "outputs": [],
   "source": [
    "data_repaired = data.loc[data['Repaired'] == 'yes']"
   ]
  },
  {
   "cell_type": "code",
   "execution_count": 35,
   "metadata": {},
   "outputs": [
    {
     "data": {
      "text/plain": [
       "1999    2325\n",
       "2000    2186\n",
       "2001    1966\n",
       "1998    1893\n",
       "2003    1712\n",
       "        ... \n",
       "1964       1\n",
       "1965       1\n",
       "1955       1\n",
       "1945       1\n",
       "1937       1\n",
       "Name: RegistrationYear, Length: 62, dtype: int64"
      ]
     },
     "execution_count": 35,
     "metadata": {},
     "output_type": "execute_result"
    }
   ],
   "source": [
    "data_repaired['RegistrationYear'].value_counts().sort_values(ascending=False)"
   ]
  },
  {
   "cell_type": "code",
   "execution_count": 36,
   "metadata": {
    "scrolled": false
   },
   "outputs": [
    {
     "data": {
      "text/html": [
       "<div>\n",
       "<style scoped>\n",
       "    .dataframe tbody tr th:only-of-type {\n",
       "        vertical-align: middle;\n",
       "    }\n",
       "\n",
       "    .dataframe tbody tr th {\n",
       "        vertical-align: top;\n",
       "    }\n",
       "\n",
       "    .dataframe thead tr th {\n",
       "        text-align: left;\n",
       "    }\n",
       "\n",
       "    .dataframe thead tr:last-of-type th {\n",
       "        text-align: right;\n",
       "    }\n",
       "</style>\n",
       "<table border=\"1\" class=\"dataframe\">\n",
       "  <thead>\n",
       "    <tr>\n",
       "      <th></th>\n",
       "      <th>median</th>\n",
       "      <th>count</th>\n",
       "    </tr>\n",
       "    <tr>\n",
       "      <th></th>\n",
       "      <th>Kilometer</th>\n",
       "      <th>Kilometer</th>\n",
       "    </tr>\n",
       "    <tr>\n",
       "      <th>RegistrationYear</th>\n",
       "      <th></th>\n",
       "      <th></th>\n",
       "    </tr>\n",
       "  </thead>\n",
       "  <tbody>\n",
       "    <tr>\n",
       "      <th>2015</th>\n",
       "      <td>10000</td>\n",
       "      <td>52</td>\n",
       "    </tr>\n",
       "    <tr>\n",
       "      <th>2014</th>\n",
       "      <td>30000</td>\n",
       "      <td>86</td>\n",
       "    </tr>\n",
       "    <tr>\n",
       "      <th>2013</th>\n",
       "      <td>50000</td>\n",
       "      <td>120</td>\n",
       "    </tr>\n",
       "    <tr>\n",
       "      <th>2012</th>\n",
       "      <td>60000</td>\n",
       "      <td>236</td>\n",
       "    </tr>\n",
       "    <tr>\n",
       "      <th>2011</th>\n",
       "      <td>90000</td>\n",
       "      <td>358</td>\n",
       "    </tr>\n",
       "    <tr>\n",
       "      <th>...</th>\n",
       "      <td>...</td>\n",
       "      <td>...</td>\n",
       "    </tr>\n",
       "    <tr>\n",
       "      <th>1957</th>\n",
       "      <td>150000</td>\n",
       "      <td>1</td>\n",
       "    </tr>\n",
       "    <tr>\n",
       "      <th>1955</th>\n",
       "      <td>100000</td>\n",
       "      <td>1</td>\n",
       "    </tr>\n",
       "    <tr>\n",
       "      <th>1953</th>\n",
       "      <td>150000</td>\n",
       "      <td>2</td>\n",
       "    </tr>\n",
       "    <tr>\n",
       "      <th>1945</th>\n",
       "      <td>100000</td>\n",
       "      <td>1</td>\n",
       "    </tr>\n",
       "    <tr>\n",
       "      <th>1937</th>\n",
       "      <td>5000</td>\n",
       "      <td>1</td>\n",
       "    </tr>\n",
       "  </tbody>\n",
       "</table>\n",
       "<p>62 rows × 2 columns</p>\n",
       "</div>"
      ],
      "text/plain": [
       "                    median     count\n",
       "                 Kilometer Kilometer\n",
       "RegistrationYear                    \n",
       "2015                 10000        52\n",
       "2014                 30000        86\n",
       "2013                 50000       120\n",
       "2012                 60000       236\n",
       "2011                 90000       358\n",
       "...                    ...       ...\n",
       "1957                150000         1\n",
       "1955                100000         1\n",
       "1953                150000         2\n",
       "1945                100000         1\n",
       "1937                  5000         1\n",
       "\n",
       "[62 rows x 2 columns]"
      ]
     },
     "execution_count": 36,
     "metadata": {},
     "output_type": "execute_result"
    }
   ],
   "source": [
    "pd.pivot_table(data_repaired,\n",
    "               index=[\"RegistrationYear\"],\n",
    "               values=[\"Kilometer\"], aggfunc=['median','count']).sort_values(by=['RegistrationYear'],ascending=False)"
   ]
  },
  {
   "cell_type": "code",
   "execution_count": 37,
   "metadata": {},
   "outputs": [
    {
     "data": {
      "text/plain": [
       "0.13263832215104396"
      ]
     },
     "execution_count": 37,
     "metadata": {},
     "output_type": "execute_result"
    }
   ],
   "source": [
    "data['Repaired'].isnull().sum()/len(data['Repaired'])"
   ]
  },
  {
   "cell_type": "markdown",
   "metadata": {},
   "source": [
    "Интуитивно кажется, что пропуски оставляли, потому что не хотели, чтобы знали, что машина была в ремонте. 15% пропусков заполню значением \"да\""
   ]
  },
  {
   "cell_type": "code",
   "execution_count": 38,
   "metadata": {},
   "outputs": [],
   "source": [
    "data['Repaired'] = data['Repaired'].fillna('yes')"
   ]
  },
  {
   "cell_type": "markdown",
   "metadata": {},
   "source": [
    "### NumberOfPictures"
   ]
  },
  {
   "cell_type": "code",
   "execution_count": 39,
   "metadata": {},
   "outputs": [],
   "source": [
    "h = data['NumberOfPictures'].hist()\n",
    "fig = h.get_figure()"
   ]
  },
  {
   "cell_type": "code",
   "execution_count": 40,
   "metadata": {},
   "outputs": [
    {
     "data": {
      "text/plain": [
       "array([0], dtype=int64)"
      ]
     },
     "execution_count": 40,
     "metadata": {},
     "output_type": "execute_result"
    }
   ],
   "source": [
    "data['NumberOfPictures'].unique()"
   ]
  },
  {
   "cell_type": "code",
   "execution_count": 41,
   "metadata": {},
   "outputs": [],
   "source": [
    "#удалим пустой столбец\n",
    "data.drop(columns=['NumberOfPictures'], axis= 1 , inplace= True )"
   ]
  },
  {
   "cell_type": "code",
   "execution_count": 42,
   "metadata": {},
   "outputs": [
    {
     "name": "stdout",
     "output_type": "stream",
     "text": [
      "<class 'pandas.core.frame.DataFrame'>\n",
      "Int64Index: 276926 entries, 1 to 354368\n",
      "Data columns (total 10 columns):\n",
      " #   Column            Non-Null Count   Dtype \n",
      "---  ------            --------------   ----- \n",
      " 0   Price             276926 non-null  int64 \n",
      " 1   VehicleType       276926 non-null  object\n",
      " 2   RegistrationYear  276926 non-null  int64 \n",
      " 3   Gearbox           276926 non-null  object\n",
      " 4   Power             276926 non-null  int64 \n",
      " 5   Model             276926 non-null  object\n",
      " 6   Kilometer         276926 non-null  int64 \n",
      " 7   FuelType          276926 non-null  object\n",
      " 8   Brand             276926 non-null  object\n",
      " 9   Repaired          276926 non-null  object\n",
      "dtypes: int64(4), object(6)\n",
      "memory usage: 23.2+ MB\n"
     ]
    }
   ],
   "source": [
    "data.info()"
   ]
  },
  {
   "cell_type": "code",
   "execution_count": 43,
   "metadata": {},
   "outputs": [
    {
     "data": {
      "text/html": [
       "<div>\n",
       "<style scoped>\n",
       "    .dataframe tbody tr th:only-of-type {\n",
       "        vertical-align: middle;\n",
       "    }\n",
       "\n",
       "    .dataframe tbody tr th {\n",
       "        vertical-align: top;\n",
       "    }\n",
       "\n",
       "    .dataframe thead th {\n",
       "        text-align: right;\n",
       "    }\n",
       "</style>\n",
       "<table border=\"1\" class=\"dataframe\">\n",
       "  <thead>\n",
       "    <tr style=\"text-align: right;\">\n",
       "      <th></th>\n",
       "      <th>Price</th>\n",
       "      <th>RegistrationYear</th>\n",
       "      <th>Power</th>\n",
       "      <th>Kilometer</th>\n",
       "    </tr>\n",
       "  </thead>\n",
       "  <tbody>\n",
       "    <tr>\n",
       "      <th>count</th>\n",
       "      <td>276926.000000</td>\n",
       "      <td>276926.000000</td>\n",
       "      <td>276926.000000</td>\n",
       "      <td>276926.000000</td>\n",
       "    </tr>\n",
       "    <tr>\n",
       "      <th>mean</th>\n",
       "      <td>5082.635242</td>\n",
       "      <td>2002.834291</td>\n",
       "      <td>125.033800</td>\n",
       "      <td>128209.702231</td>\n",
       "    </tr>\n",
       "    <tr>\n",
       "      <th>std</th>\n",
       "      <td>4635.523980</td>\n",
       "      <td>6.049586</td>\n",
       "      <td>63.462361</td>\n",
       "      <td>36617.119212</td>\n",
       "    </tr>\n",
       "    <tr>\n",
       "      <th>min</th>\n",
       "      <td>202.000000</td>\n",
       "      <td>1910.000000</td>\n",
       "      <td>51.000000</td>\n",
       "      <td>5000.000000</td>\n",
       "    </tr>\n",
       "    <tr>\n",
       "      <th>25%</th>\n",
       "      <td>1500.000000</td>\n",
       "      <td>1999.000000</td>\n",
       "      <td>85.000000</td>\n",
       "      <td>125000.000000</td>\n",
       "    </tr>\n",
       "    <tr>\n",
       "      <th>50%</th>\n",
       "      <td>3499.000000</td>\n",
       "      <td>2003.000000</td>\n",
       "      <td>116.000000</td>\n",
       "      <td>150000.000000</td>\n",
       "    </tr>\n",
       "    <tr>\n",
       "      <th>75%</th>\n",
       "      <td>7350.000000</td>\n",
       "      <td>2007.000000</td>\n",
       "      <td>150.000000</td>\n",
       "      <td>150000.000000</td>\n",
       "    </tr>\n",
       "    <tr>\n",
       "      <th>max</th>\n",
       "      <td>20000.000000</td>\n",
       "      <td>2015.000000</td>\n",
       "      <td>2018.000000</td>\n",
       "      <td>150000.000000</td>\n",
       "    </tr>\n",
       "  </tbody>\n",
       "</table>\n",
       "</div>"
      ],
      "text/plain": [
       "               Price  RegistrationYear          Power      Kilometer\n",
       "count  276926.000000     276926.000000  276926.000000  276926.000000\n",
       "mean     5082.635242       2002.834291     125.033800  128209.702231\n",
       "std      4635.523980          6.049586      63.462361   36617.119212\n",
       "min       202.000000       1910.000000      51.000000    5000.000000\n",
       "25%      1500.000000       1999.000000      85.000000  125000.000000\n",
       "50%      3499.000000       2003.000000     116.000000  150000.000000\n",
       "75%      7350.000000       2007.000000     150.000000  150000.000000\n",
       "max     20000.000000       2015.000000    2018.000000  150000.000000"
      ]
     },
     "execution_count": 43,
     "metadata": {},
     "output_type": "execute_result"
    }
   ],
   "source": [
    "data.describe()"
   ]
  },
  {
   "cell_type": "markdown",
   "metadata": {},
   "source": [
    "Данные готовы к работе: проверены и заполнены пропуски, экстремальные значения и удалены лишние признаки"
   ]
  },
  {
   "cell_type": "markdown",
   "metadata": {},
   "source": [
    "## Подготовка выборок для обучения моделей"
   ]
  },
  {
   "cell_type": "code",
   "execution_count": 44,
   "metadata": {},
   "outputs": [],
   "source": [
    "data_train, data_test = train_test_split(data, test_size=0.2, random_state=42)"
   ]
  },
  {
   "cell_type": "code",
   "execution_count": 45,
   "metadata": {},
   "outputs": [],
   "source": [
    "#разделим на целевой признак \n",
    "features_train = data_train.drop(['Price'],axis=1)\n",
    "target_train = data_train['Price'] #целевой признак\n",
    "\n",
    "features_test = data_test.drop(['Price'],axis=1)\n",
    "target_test = data_test['Price']"
   ]
  },
  {
   "cell_type": "code",
   "execution_count": 46,
   "metadata": {},
   "outputs": [],
   "source": [
    "#стандартизируем\n",
    "\n",
    "numeric = [ 'RegistrationYear', 'Power', 'Kilometer']\n",
    "\n",
    "pd.options.mode.chained_assignment = None \n",
    "\n",
    "scaler = StandardScaler()  \n",
    "\n",
    "\n",
    "scaler.fit(features_train[numeric]) \n",
    "\n",
    "features_train[numeric] = scaler.transform(features_train[numeric])\n",
    "features_test[numeric] = scaler.transform(features_test[numeric])"
   ]
  },
  {
   "cell_type": "code",
   "execution_count": 47,
   "metadata": {},
   "outputs": [],
   "source": [
    "categorical_feature = ['VehicleType','Gearbox','Model','FuelType','Brand','Repaired']"
   ]
  },
  {
   "cell_type": "code",
   "execution_count": 48,
   "metadata": {},
   "outputs": [],
   "source": [
    "encoder = OrdinalEncoder()\n",
    "encoder.fit(features_train[categorical_feature])\n",
    "\n",
    "features_train[categorical_feature] = encoder.transform(features_train[categorical_feature] )\n",
    "features_test[categorical_feature] = encoder.transform(features_test[categorical_feature] )\n",
    "\n"
   ]
  },
  {
   "cell_type": "markdown",
   "metadata": {},
   "source": [
    "## Обучение моделей\n"
   ]
  },
  {
   "cell_type": "markdown",
   "metadata": {},
   "source": [
    "### Подбор параметров для бустинга"
   ]
  },
  {
   "cell_type": "code",
   "execution_count": 49,
   "metadata": {},
   "outputs": [
    {
     "name": "stdout",
     "output_type": "stream",
     "text": [
      "{'max_depth': 15, 'n_estimators': 200, 'random_state': 42}\n",
      "Wall time: 4min 34s\n"
     ]
    },
    {
     "data": {
      "text/plain": [
       "-1632.2229934821328"
      ]
     },
     "execution_count": 49,
     "metadata": {},
     "output_type": "execute_result"
    }
   ],
   "source": [
    "%%time \n",
    "warnings.filterwarnings(\"ignore\") \n",
    "\n",
    "model = LGBMRegressor()\n",
    "\n",
    "params = {'n_estimators': range (80, 201, 20), #range (20, 200, 10),\n",
    "          'max_depth': range (10, 51, 5), #range (1,100, 5),\n",
    "          'random_state': [42]} #'learning_rate': range (),\n",
    "\n",
    "grid_1 = GridSearchCV(model, params, scoring='neg_root_mean_squared_error',n_jobs=-1, cv=5)\n",
    "grid_1.fit(features_train, target_train)\n",
    "\n",
    "print(grid_1.best_params_)\n",
    "grid_1.best_score_"
   ]
  },
  {
   "cell_type": "markdown",
   "metadata": {},
   "source": [
    "### Подбор параметров для случайного леса"
   ]
  },
  {
   "cell_type": "code",
   "execution_count": 50,
   "metadata": {},
   "outputs": [
    {
     "name": "stdout",
     "output_type": "stream",
     "text": [
      "{'max_depth': 20, 'n_estimators': 200, 'random_state': 42}\n",
      "Wall time: 55min 52s\n"
     ]
    },
    {
     "data": {
      "text/plain": [
       "-1597.2661644356162"
      ]
     },
     "execution_count": 50,
     "metadata": {},
     "output_type": "execute_result"
    }
   ],
   "source": [
    "%%time \n",
    "warnings.filterwarnings(\"ignore\") \n",
    "\n",
    "model = RandomForestRegressor()\n",
    "\n",
    "params = {'n_estimators': range (80, 201, 20), #range (20, 200, 10),\n",
    "          'max_depth': range (10, 26, 5), #range (1,100, 5),\n",
    "          'random_state': [42]} \n",
    "\n",
    "grid_2 = GridSearchCV(model, params, scoring='neg_root_mean_squared_error',n_jobs=-1, cv=5)\n",
    "grid_2.fit(features_train, target_train)\n",
    "\n",
    "print(grid_2.best_params_)\n",
    "grid_2.best_score_"
   ]
  },
  {
   "cell_type": "markdown",
   "metadata": {},
   "source": [
    "#### Выводы по выбору модели\n",
    "\n"
   ]
  },
  {
   "cell_type": "markdown",
   "metadata": {},
   "source": [
    "Было проверено 2 модели: градиентный бустинг и случайный лес. Для данной задачи необходима скорость, которая гораздо лучше в первом варианте, и качество, которое достигается в обоих случаях: метрика RMSE порядка 1600. В случайном лесе метрика немного лучше, но это не сравнится со временем обучния, которое у случайного леса больше в 11 раз даже на меньших параметрах.Поэтому для тестирования выбрана модель бустинга"
   ]
  },
  {
   "cell_type": "markdown",
   "metadata": {},
   "source": [
    "## Тестирование лучшей модели - LGBMRegressor\n"
   ]
  },
  {
   "cell_type": "code",
   "execution_count": 51,
   "metadata": {},
   "outputs": [
    {
     "name": "stdout",
     "output_type": "stream",
     "text": [
      "RMSE на тестовой выборке 1633.5135772974231\n",
      "Wall time: 252 ms\n"
     ]
    }
   ],
   "source": [
    "%%time \n",
    "expected_y  = target_test\n",
    "predicted_y = grid_1.predict(features_test)\n",
    "    \n",
    "        \n",
    "rmse = mean_squared_error(expected_y,predicted_y, squared=False)\n",
    "print('RMSE на тестовой выборке', rmse )\n"
   ]
  },
  {
   "cell_type": "markdown",
   "metadata": {},
   "source": [
    "## Выводы"
   ]
  },
  {
   "cell_type": "markdown",
   "metadata": {},
   "source": [
    "Была проведена работа по вычищению данных: были выявлены выбросы, аномалии, пропуски, после чего они были обработаны для дальнейшей работы с моделями машинного обучения. Данные были закодированы, стандартизированы и разделены на тренировочную и тестовую выборки. \n",
    "\n",
    "В разделе с обучением моделей были выбраны модели градиентного бустинга и случайного леса. Поскольку заказчику важны все параметры: точность, время и качество, после подбора гиперпараметров для каждой модели была выбрана модель градиентого бустинга, поскольку она даёт хорошее показание метрики RMSE и относительно быстро обучается. \n",
    "\n",
    "Таким образом для тестовой выборки время предсказания составило:252 секунды и значение метрики RMSE: 1633"
   ]
  }
 ],
 "metadata": {
  "ExecuteTimeLog": [
   {
    "duration": 1677,
    "start_time": "2023-06-14T16:44:52.060Z"
   },
   {
    "duration": 0,
    "start_time": "2023-06-14T16:44:53.739Z"
   },
   {
    "duration": 7,
    "start_time": "2023-06-14T16:45:01.097Z"
   },
   {
    "duration": 3239,
    "start_time": "2023-06-14T16:45:03.896Z"
   },
   {
    "duration": 16,
    "start_time": "2023-06-14T17:23:22.495Z"
   },
   {
    "duration": 11,
    "start_time": "2023-06-14T17:23:41.440Z"
   },
   {
    "duration": 142,
    "start_time": "2023-06-14T17:24:25.859Z"
   },
   {
    "duration": 177,
    "start_time": "2023-06-14T17:24:32.134Z"
   },
   {
    "duration": 78,
    "start_time": "2023-06-14T17:33:37.515Z"
   },
   {
    "duration": 105,
    "start_time": "2023-06-14T17:33:39.243Z"
   },
   {
    "duration": 441,
    "start_time": "2023-06-14T17:41:01.195Z"
   },
   {
    "duration": 120,
    "start_time": "2023-06-14T17:42:32.988Z"
   },
   {
    "duration": 19,
    "start_time": "2023-06-14T17:54:13.235Z"
   },
   {
    "duration": 134,
    "start_time": "2023-06-14T17:54:13.889Z"
   },
   {
    "duration": 81,
    "start_time": "2023-06-14T17:55:56.823Z"
   },
   {
    "duration": 102,
    "start_time": "2023-06-14T17:55:57.080Z"
   },
   {
    "duration": 476,
    "start_time": "2023-06-14T17:57:01.593Z"
   },
   {
    "duration": 9,
    "start_time": "2023-06-14T17:58:03.715Z"
   },
   {
    "duration": 18,
    "start_time": "2023-06-14T17:58:08.097Z"
   },
   {
    "duration": 56,
    "start_time": "2023-06-14T18:00:59.309Z"
   },
   {
    "duration": 382,
    "start_time": "2023-06-14T18:01:09.212Z"
   },
   {
    "duration": 47,
    "start_time": "2023-06-14T18:02:13.297Z"
   },
   {
    "duration": 9,
    "start_time": "2023-06-14T18:02:17.514Z"
   },
   {
    "duration": 383,
    "start_time": "2023-06-14T18:02:20.835Z"
   },
   {
    "duration": 202,
    "start_time": "2023-06-14T18:05:27.106Z"
   },
   {
    "duration": 1333,
    "start_time": "2023-06-14T18:07:12.485Z"
   },
   {
    "duration": 895,
    "start_time": "2023-06-14T18:07:13.820Z"
   },
   {
    "duration": 129,
    "start_time": "2023-06-14T18:07:14.717Z"
   },
   {
    "duration": 124,
    "start_time": "2023-06-14T18:07:14.848Z"
   },
   {
    "duration": 176,
    "start_time": "2023-06-14T18:07:14.973Z"
   },
   {
    "duration": 90,
    "start_time": "2023-06-14T18:07:15.233Z"
   },
   {
    "duration": 424,
    "start_time": "2023-06-14T18:07:16.978Z"
   },
   {
    "duration": 19,
    "start_time": "2023-06-14T18:07:19.708Z"
   },
   {
    "duration": 366,
    "start_time": "2023-06-14T18:07:23.308Z"
   },
   {
    "duration": 19,
    "start_time": "2023-06-14T18:07:23.676Z"
   },
   {
    "duration": 35,
    "start_time": "2023-06-14T18:07:23.987Z"
   },
   {
    "duration": 196,
    "start_time": "2023-06-14T18:07:29.113Z"
   },
   {
    "duration": 30,
    "start_time": "2023-06-14T18:07:29.523Z"
   },
   {
    "duration": 311,
    "start_time": "2023-06-14T18:09:08.386Z"
   },
   {
    "duration": 30,
    "start_time": "2023-06-14T18:11:05.538Z"
   },
   {
    "duration": 324,
    "start_time": "2023-06-14T18:11:07.727Z"
   },
   {
    "duration": 106,
    "start_time": "2023-06-14T18:12:00.196Z"
   },
   {
    "duration": 321,
    "start_time": "2023-06-14T18:12:07.514Z"
   },
   {
    "duration": 35,
    "start_time": "2023-06-14T18:12:21.052Z"
   },
   {
    "duration": 23,
    "start_time": "2023-06-14T18:14:04.406Z"
   },
   {
    "duration": 112,
    "start_time": "2023-06-14T18:15:46.135Z"
   },
   {
    "duration": 31,
    "start_time": "2023-06-14T18:16:09.879Z"
   },
   {
    "duration": 195,
    "start_time": "2023-06-14T18:16:20.385Z"
   },
   {
    "duration": 37,
    "start_time": "2023-06-14T18:16:24.102Z"
   },
   {
    "duration": 202,
    "start_time": "2023-06-14T18:16:31.124Z"
   },
   {
    "duration": 28,
    "start_time": "2023-06-14T18:16:34.693Z"
   },
   {
    "duration": 1165,
    "start_time": "2023-06-14T18:16:42.349Z"
   },
   {
    "duration": 34,
    "start_time": "2023-06-14T18:16:47.189Z"
   },
   {
    "duration": 49,
    "start_time": "2023-06-14T18:17:11.439Z"
   },
   {
    "duration": 27,
    "start_time": "2023-06-14T18:17:18.715Z"
   },
   {
    "duration": 67,
    "start_time": "2023-06-14T18:18:13.388Z"
   },
   {
    "duration": 28,
    "start_time": "2023-06-14T18:18:19.080Z"
   },
   {
    "duration": 68,
    "start_time": "2023-06-14T18:19:24.688Z"
   },
   {
    "duration": 26,
    "start_time": "2023-06-14T18:19:28.843Z"
   },
   {
    "duration": 110,
    "start_time": "2023-06-19T14:57:00.752Z"
   },
   {
    "duration": 41,
    "start_time": "2023-06-19T14:57:05.343Z"
   },
   {
    "duration": 7,
    "start_time": "2023-06-19T14:57:14.743Z"
   },
   {
    "duration": 1481,
    "start_time": "2023-06-19T15:00:49.891Z"
   },
   {
    "duration": 3128,
    "start_time": "2023-06-19T15:00:51.373Z"
   },
   {
    "duration": 132,
    "start_time": "2023-06-19T15:00:54.503Z"
   },
   {
    "duration": 97,
    "start_time": "2023-06-19T15:00:54.637Z"
   },
   {
    "duration": 165,
    "start_time": "2023-06-19T15:00:54.736Z"
   },
   {
    "duration": 89,
    "start_time": "2023-06-19T15:00:54.902Z"
   },
   {
    "duration": 430,
    "start_time": "2023-06-19T15:00:54.992Z"
   },
   {
    "duration": 18,
    "start_time": "2023-06-19T15:00:55.424Z"
   },
   {
    "duration": 384,
    "start_time": "2023-06-19T15:00:55.455Z"
   },
   {
    "duration": 31,
    "start_time": "2023-06-19T15:00:55.842Z"
   },
   {
    "duration": 26,
    "start_time": "2023-06-19T15:00:55.875Z"
   },
   {
    "duration": 198,
    "start_time": "2023-06-19T15:00:55.903Z"
   },
   {
    "duration": 19,
    "start_time": "2023-06-19T15:00:56.103Z"
   },
   {
    "duration": 42,
    "start_time": "2023-06-19T15:00:56.124Z"
   },
   {
    "duration": 347,
    "start_time": "2023-06-19T15:00:56.167Z"
   },
   {
    "duration": 38,
    "start_time": "2023-06-19T15:00:56.516Z"
   },
   {
    "duration": 24,
    "start_time": "2023-06-19T15:02:42.902Z"
   },
   {
    "duration": 282,
    "start_time": "2023-06-19T15:02:48.880Z"
   },
   {
    "duration": 39,
    "start_time": "2023-06-19T15:08:24.131Z"
   },
   {
    "duration": 1198,
    "start_time": "2023-06-19T15:08:27.395Z"
   },
   {
    "duration": 213,
    "start_time": "2023-06-19T15:08:29.732Z"
   },
   {
    "duration": 141,
    "start_time": "2023-06-19T15:09:09.793Z"
   },
   {
    "duration": 153,
    "start_time": "2023-06-19T15:09:17.121Z"
   },
   {
    "duration": 195,
    "start_time": "2023-06-19T15:10:39.763Z"
   },
   {
    "duration": 36,
    "start_time": "2023-06-19T15:14:00.777Z"
   },
   {
    "duration": 171,
    "start_time": "2023-06-19T15:14:03.111Z"
   },
   {
    "duration": 24,
    "start_time": "2023-06-19T15:14:11.892Z"
   },
   {
    "duration": 142,
    "start_time": "2023-06-19T15:15:11.590Z"
   },
   {
    "duration": 36,
    "start_time": "2023-06-19T15:16:20.611Z"
   },
   {
    "duration": 19,
    "start_time": "2023-06-19T15:22:25.092Z"
   },
   {
    "duration": 99,
    "start_time": "2023-06-19T15:23:41.428Z"
   },
   {
    "duration": 23,
    "start_time": "2023-06-19T15:23:48.910Z"
   },
   {
    "duration": 11,
    "start_time": "2023-06-19T15:23:58.673Z"
   },
   {
    "duration": 6,
    "start_time": "2023-06-19T15:24:06.651Z"
   },
   {
    "duration": 13,
    "start_time": "2023-06-19T15:24:15.821Z"
   },
   {
    "duration": 16,
    "start_time": "2023-06-19T15:28:27.921Z"
   },
   {
    "duration": 16,
    "start_time": "2023-06-19T15:28:44.229Z"
   },
   {
    "duration": 23,
    "start_time": "2023-06-19T15:30:23.720Z"
   },
   {
    "duration": 19,
    "start_time": "2023-06-19T15:30:31.580Z"
   },
   {
    "duration": 87,
    "start_time": "2023-06-19T15:36:00.891Z"
   },
   {
    "duration": 93,
    "start_time": "2023-06-19T15:36:06.000Z"
   },
   {
    "duration": 14,
    "start_time": "2023-06-19T15:36:42.711Z"
   },
   {
    "duration": 29,
    "start_time": "2023-06-19T15:38:16.620Z"
   },
   {
    "duration": 24,
    "start_time": "2023-06-19T15:38:21.710Z"
   },
   {
    "duration": 126,
    "start_time": "2023-06-19T15:38:38.650Z"
   },
   {
    "duration": 5,
    "start_time": "2023-06-19T15:38:57.981Z"
   },
   {
    "duration": 18,
    "start_time": "2023-06-19T15:39:41.390Z"
   },
   {
    "duration": 71,
    "start_time": "2023-06-19T15:39:55.820Z"
   },
   {
    "duration": 17,
    "start_time": "2023-06-19T15:42:56.811Z"
   },
   {
    "duration": 35,
    "start_time": "2023-06-19T15:43:26.350Z"
   },
   {
    "duration": 355,
    "start_time": "2023-06-19T15:44:33.761Z"
   },
   {
    "duration": 11,
    "start_time": "2023-06-19T15:45:07.152Z"
   },
   {
    "duration": 9,
    "start_time": "2023-06-19T15:46:55.700Z"
   },
   {
    "duration": 3121,
    "start_time": "2023-06-19T15:47:17.566Z"
   },
   {
    "duration": 16,
    "start_time": "2023-06-19T15:47:24.622Z"
   },
   {
    "duration": 3246,
    "start_time": "2023-06-19T15:47:38.190Z"
   },
   {
    "duration": 13,
    "start_time": "2023-06-19T15:56:21.555Z"
   },
   {
    "duration": 88,
    "start_time": "2023-06-19T15:56:25.910Z"
   },
   {
    "duration": 46,
    "start_time": "2023-06-19T15:57:09.450Z"
   },
   {
    "duration": 52,
    "start_time": "2023-06-19T16:12:01.041Z"
   },
   {
    "duration": 17,
    "start_time": "2023-06-19T16:12:53.478Z"
   },
   {
    "duration": 138,
    "start_time": "2023-06-19T16:15:30.110Z"
   },
   {
    "duration": 149,
    "start_time": "2023-06-19T18:17:32.751Z"
   },
   {
    "duration": 2319,
    "start_time": "2023-06-19T18:17:38.453Z"
   },
   {
    "duration": 38,
    "start_time": "2023-06-19T18:18:27.472Z"
   },
   {
    "duration": 4,
    "start_time": "2023-06-19T18:18:48.100Z"
   },
   {
    "duration": 3,
    "start_time": "2023-06-19T18:19:51.890Z"
   },
   {
    "duration": 16,
    "start_time": "2023-06-19T18:21:01.021Z"
   },
   {
    "duration": 3,
    "start_time": "2023-06-19T18:21:47.698Z"
   },
   {
    "duration": 11,
    "start_time": "2023-06-19T18:21:48.427Z"
   },
   {
    "duration": 86,
    "start_time": "2023-06-19T18:22:33.715Z"
   },
   {
    "duration": 1770,
    "start_time": "2023-06-20T09:31:35.894Z"
   },
   {
    "duration": 1496,
    "start_time": "2023-06-20T09:31:37.667Z"
   },
   {
    "duration": 135,
    "start_time": "2023-06-20T09:31:39.165Z"
   },
   {
    "duration": 131,
    "start_time": "2023-06-20T09:31:39.302Z"
   },
   {
    "duration": 199,
    "start_time": "2023-06-20T09:31:39.435Z"
   },
   {
    "duration": 91,
    "start_time": "2023-06-20T09:31:39.637Z"
   },
   {
    "duration": 529,
    "start_time": "2023-06-20T09:31:39.730Z"
   },
   {
    "duration": 21,
    "start_time": "2023-06-20T09:31:40.261Z"
   },
   {
    "duration": 556,
    "start_time": "2023-06-20T09:31:40.284Z"
   },
   {
    "duration": 35,
    "start_time": "2023-06-20T09:31:40.854Z"
   },
   {
    "duration": 200,
    "start_time": "2023-06-20T09:31:40.892Z"
   },
   {
    "duration": 449,
    "start_time": "2023-06-20T09:31:41.094Z"
   },
   {
    "duration": 24,
    "start_time": "2023-06-20T09:31:41.545Z"
   },
   {
    "duration": 213,
    "start_time": "2023-06-20T09:31:41.572Z"
   },
   {
    "duration": 519,
    "start_time": "2023-06-20T09:31:41.787Z"
   },
   {
    "duration": 46,
    "start_time": "2023-06-20T09:31:42.309Z"
   },
   {
    "duration": 93,
    "start_time": "2023-06-20T09:31:42.358Z"
   },
   {
    "duration": 120,
    "start_time": "2023-06-20T09:31:42.453Z"
   },
   {
    "duration": 1282,
    "start_time": "2023-06-20T09:31:42.576Z"
   },
   {
    "duration": 285,
    "start_time": "2023-06-20T09:31:43.861Z"
   },
   {
    "duration": 290,
    "start_time": "2023-06-20T09:31:44.154Z"
   },
   {
    "duration": 45,
    "start_time": "2023-06-20T09:31:44.452Z"
   },
   {
    "duration": 133,
    "start_time": "2023-06-20T09:31:44.499Z"
   },
   {
    "duration": 247,
    "start_time": "2023-06-20T09:31:44.635Z"
   },
   {
    "duration": 97,
    "start_time": "2023-06-20T09:31:44.884Z"
   },
   {
    "duration": 131,
    "start_time": "2023-06-20T09:31:44.983Z"
   },
   {
    "duration": 330,
    "start_time": "2023-06-20T09:31:45.116Z"
   },
   {
    "duration": 26,
    "start_time": "2023-06-20T09:31:45.448Z"
   },
   {
    "duration": 224,
    "start_time": "2023-06-20T09:31:45.476Z"
   },
   {
    "duration": 0,
    "start_time": "2023-06-20T09:31:45.702Z"
   },
   {
    "duration": 0,
    "start_time": "2023-06-20T09:31:45.704Z"
   },
   {
    "duration": 0,
    "start_time": "2023-06-20T09:31:45.705Z"
   },
   {
    "duration": 0,
    "start_time": "2023-06-20T09:31:45.706Z"
   },
   {
    "duration": 0,
    "start_time": "2023-06-20T09:31:45.708Z"
   },
   {
    "duration": 22,
    "start_time": "2023-06-20T09:31:45.853Z"
   },
   {
    "duration": 73,
    "start_time": "2023-06-20T09:31:46.102Z"
   },
   {
    "duration": 67,
    "start_time": "2023-06-20T09:31:49.815Z"
   },
   {
    "duration": 74,
    "start_time": "2023-06-20T09:31:53.132Z"
   },
   {
    "duration": 36,
    "start_time": "2023-06-20T09:31:53.422Z"
   },
   {
    "duration": 171,
    "start_time": "2023-06-20T09:31:54.134Z"
   },
   {
    "duration": 3,
    "start_time": "2023-06-20T09:31:58.093Z"
   },
   {
    "duration": 3,
    "start_time": "2023-06-20T09:32:00.303Z"
   },
   {
    "duration": 90,
    "start_time": "2023-06-20T09:32:00.914Z"
   },
   {
    "duration": 121,
    "start_time": "2023-06-20T09:32:11.939Z"
   },
   {
    "duration": 473649,
    "start_time": "2023-06-20T09:39:27.420Z"
   },
   {
    "duration": 11732,
    "start_time": "2023-06-20T09:47:21.073Z"
   },
   {
    "duration": 2416,
    "start_time": "2023-06-20T09:47:32.807Z"
   },
   {
    "duration": 2400,
    "start_time": "2023-06-20T09:48:52.368Z"
   },
   {
    "duration": 81444,
    "start_time": "2023-06-20T09:49:17.091Z"
   },
   {
    "duration": 333363,
    "start_time": "2023-06-20T09:51:31.872Z"
   },
   {
    "duration": 4,
    "start_time": "2023-06-20T09:57:05.238Z"
   },
   {
    "duration": 63,
    "start_time": "2023-06-20T09:59:54.344Z"
   },
   {
    "duration": 2713,
    "start_time": "2023-06-20T10:00:30.032Z"
   },
   {
    "duration": 2223,
    "start_time": "2023-06-20T10:00:57.742Z"
   },
   {
    "duration": 41,
    "start_time": "2023-06-20T10:06:11.712Z"
   },
   {
    "duration": 31,
    "start_time": "2023-06-20T10:07:55.431Z"
   },
   {
    "duration": 11,
    "start_time": "2023-06-20T10:08:29.911Z"
   },
   {
    "duration": 53,
    "start_time": "2023-06-20T10:54:14.741Z"
   },
   {
    "duration": 1640,
    "start_time": "2023-06-20T10:56:04.693Z"
   },
   {
    "duration": 956,
    "start_time": "2023-06-20T10:56:06.336Z"
   },
   {
    "duration": 130,
    "start_time": "2023-06-20T10:56:10.794Z"
   },
   {
    "duration": 112,
    "start_time": "2023-06-20T10:56:21.335Z"
   },
   {
    "duration": 182,
    "start_time": "2023-06-20T10:56:25.120Z"
   },
   {
    "duration": 85,
    "start_time": "2023-06-20T10:56:25.593Z"
   },
   {
    "duration": 465,
    "start_time": "2023-06-20T10:56:57.648Z"
   },
   {
    "duration": 24,
    "start_time": "2023-06-20T10:56:58.960Z"
   },
   {
    "duration": 518,
    "start_time": "2023-06-20T10:57:00.916Z"
   },
   {
    "duration": 43,
    "start_time": "2023-06-20T10:57:01.436Z"
   },
   {
    "duration": 60,
    "start_time": "2023-06-20T10:57:01.484Z"
   },
   {
    "duration": 206,
    "start_time": "2023-06-20T10:57:02.590Z"
   },
   {
    "duration": 24,
    "start_time": "2023-06-20T10:57:03.339Z"
   },
   {
    "duration": 38,
    "start_time": "2023-06-20T10:57:04.260Z"
   },
   {
    "duration": 451,
    "start_time": "2023-06-20T10:57:04.844Z"
   },
   {
    "duration": 34,
    "start_time": "2023-06-20T10:57:05.297Z"
   },
   {
    "duration": 3,
    "start_time": "2023-06-20T10:57:06.123Z"
   },
   {
    "duration": 34,
    "start_time": "2023-06-20T10:57:07.184Z"
   },
   {
    "duration": 1217,
    "start_time": "2023-06-20T10:57:07.964Z"
   },
   {
    "duration": 218,
    "start_time": "2023-06-20T10:57:09.184Z"
   },
   {
    "duration": 285,
    "start_time": "2023-06-20T10:57:10.689Z"
   },
   {
    "duration": 45,
    "start_time": "2023-06-20T10:57:11.080Z"
   },
   {
    "duration": 18,
    "start_time": "2023-06-20T10:57:13.981Z"
   },
   {
    "duration": 40,
    "start_time": "2023-06-20T10:57:14.610Z"
   },
   {
    "duration": 20,
    "start_time": "2023-06-20T10:57:18.249Z"
   },
   {
    "duration": 41,
    "start_time": "2023-06-20T10:57:19.351Z"
   },
   {
    "duration": 188,
    "start_time": "2023-06-20T10:57:23.915Z"
   },
   {
    "duration": 24,
    "start_time": "2023-06-20T10:57:24.909Z"
   },
   {
    "duration": 122,
    "start_time": "2023-06-20T10:57:26.638Z"
   },
   {
    "duration": 23,
    "start_time": "2023-06-20T10:57:33.196Z"
   },
   {
    "duration": 15,
    "start_time": "2023-06-20T10:57:48.221Z"
   },
   {
    "duration": 20,
    "start_time": "2023-06-20T10:57:49.941Z"
   },
   {
    "duration": 176,
    "start_time": "2023-06-20T10:57:52.148Z"
   },
   {
    "duration": 6,
    "start_time": "2023-06-20T10:57:54.419Z"
   },
   {
    "duration": 32,
    "start_time": "2023-06-20T10:57:55.191Z"
   },
   {
    "duration": 69,
    "start_time": "2023-06-20T10:57:55.791Z"
   },
   {
    "duration": 61,
    "start_time": "2023-06-20T10:57:58.800Z"
   },
   {
    "duration": 73,
    "start_time": "2023-06-20T10:58:05.608Z"
   },
   {
    "duration": 30,
    "start_time": "2023-06-20T10:58:06.129Z"
   },
   {
    "duration": 177,
    "start_time": "2023-06-20T10:58:06.789Z"
   },
   {
    "duration": 3,
    "start_time": "2023-06-20T10:58:09.198Z"
   },
   {
    "duration": 4,
    "start_time": "2023-06-20T10:58:09.493Z"
   },
   {
    "duration": 365253,
    "start_time": "2023-06-20T10:58:13.191Z"
   },
   {
    "duration": 1597,
    "start_time": "2023-06-20T11:31:49.862Z"
   },
   {
    "duration": 947,
    "start_time": "2023-06-20T11:31:51.461Z"
   },
   {
    "duration": 195,
    "start_time": "2023-06-20T11:31:52.410Z"
   },
   {
    "duration": 89,
    "start_time": "2023-06-20T11:31:52.608Z"
   },
   {
    "duration": 85,
    "start_time": "2023-06-20T11:31:52.698Z"
   },
   {
    "duration": 474,
    "start_time": "2023-06-20T11:31:52.784Z"
   },
   {
    "duration": 23,
    "start_time": "2023-06-20T11:31:53.261Z"
   },
   {
    "duration": 387,
    "start_time": "2023-06-20T11:31:53.563Z"
   },
   {
    "duration": 21,
    "start_time": "2023-06-20T11:31:54.100Z"
   },
   {
    "duration": 32,
    "start_time": "2023-06-20T11:31:54.296Z"
   },
   {
    "duration": 198,
    "start_time": "2023-06-20T11:31:54.747Z"
   },
   {
    "duration": 18,
    "start_time": "2023-06-20T11:31:55.001Z"
   },
   {
    "duration": 40,
    "start_time": "2023-06-20T11:31:55.543Z"
   },
   {
    "duration": 470,
    "start_time": "2023-06-20T11:31:55.812Z"
   },
   {
    "duration": 28,
    "start_time": "2023-06-20T11:31:56.284Z"
   },
   {
    "duration": 3,
    "start_time": "2023-06-20T11:31:56.364Z"
   },
   {
    "duration": 36,
    "start_time": "2023-06-20T11:31:57.325Z"
   },
   {
    "duration": 1170,
    "start_time": "2023-06-20T11:31:57.817Z"
   },
   {
    "duration": 191,
    "start_time": "2023-06-20T11:31:58.989Z"
   },
   {
    "duration": 218,
    "start_time": "2023-06-20T11:32:00.201Z"
   },
   {
    "duration": 39,
    "start_time": "2023-06-20T11:32:00.605Z"
   },
   {
    "duration": 17,
    "start_time": "2023-06-20T11:32:01.313Z"
   },
   {
    "duration": 47,
    "start_time": "2023-06-20T11:32:01.640Z"
   },
   {
    "duration": 16,
    "start_time": "2023-06-20T11:32:02.866Z"
   },
   {
    "duration": 28,
    "start_time": "2023-06-20T11:32:03.718Z"
   },
   {
    "duration": 189,
    "start_time": "2023-06-20T11:32:05.041Z"
   },
   {
    "duration": 26,
    "start_time": "2023-06-20T11:32:05.325Z"
   },
   {
    "duration": 7,
    "start_time": "2023-06-20T11:32:06.409Z"
   },
   {
    "duration": 24,
    "start_time": "2023-06-20T11:32:07.092Z"
   },
   {
    "duration": 15,
    "start_time": "2023-06-20T11:32:07.937Z"
   },
   {
    "duration": 18,
    "start_time": "2023-06-20T11:32:09.200Z"
   },
   {
    "duration": 141,
    "start_time": "2023-06-20T11:32:10.300Z"
   },
   {
    "duration": 6,
    "start_time": "2023-06-20T11:32:11.009Z"
   },
   {
    "duration": 26,
    "start_time": "2023-06-20T11:32:12.431Z"
   },
   {
    "duration": 76,
    "start_time": "2023-06-20T11:32:12.762Z"
   },
   {
    "duration": 61,
    "start_time": "2023-06-20T11:32:13.334Z"
   },
   {
    "duration": 73,
    "start_time": "2023-06-20T11:32:15.808Z"
   },
   {
    "duration": 30,
    "start_time": "2023-06-20T11:32:16.417Z"
   },
   {
    "duration": 170,
    "start_time": "2023-06-20T11:32:17.367Z"
   },
   {
    "duration": 4,
    "start_time": "2023-06-20T11:32:18.348Z"
   },
   {
    "duration": 2251,
    "start_time": "2023-06-20T11:32:19.108Z"
   },
   {
    "duration": 2651,
    "start_time": "2023-06-20T12:46:58.286Z"
   },
   {
    "duration": 1474,
    "start_time": "2023-06-20T12:47:00.949Z"
   },
   {
    "duration": 321,
    "start_time": "2023-06-20T12:47:02.430Z"
   },
   {
    "duration": 160,
    "start_time": "2023-06-20T12:47:02.758Z"
   },
   {
    "duration": 132,
    "start_time": "2023-06-20T12:47:03.848Z"
   },
   {
    "duration": 726,
    "start_time": "2023-06-20T12:47:05.131Z"
   },
   {
    "duration": 32,
    "start_time": "2023-06-20T12:47:06.710Z"
   },
   {
    "duration": 686,
    "start_time": "2023-06-20T12:47:07.392Z"
   },
   {
    "duration": 31,
    "start_time": "2023-06-20T12:47:08.083Z"
   },
   {
    "duration": 108,
    "start_time": "2023-06-20T12:47:08.142Z"
   },
   {
    "duration": 372,
    "start_time": "2023-06-20T12:47:08.787Z"
   },
   {
    "duration": 30,
    "start_time": "2023-06-20T12:47:09.165Z"
   },
   {
    "duration": 76,
    "start_time": "2023-06-20T12:47:09.576Z"
   },
   {
    "duration": 719,
    "start_time": "2023-06-20T12:47:09.923Z"
   },
   {
    "duration": 51,
    "start_time": "2023-06-20T12:47:10.649Z"
   },
   {
    "duration": 93,
    "start_time": "2023-06-20T12:47:10.707Z"
   },
   {
    "duration": 37,
    "start_time": "2023-06-20T12:47:11.528Z"
   },
   {
    "duration": 1696,
    "start_time": "2023-06-20T12:47:11.637Z"
   },
   {
    "duration": 313,
    "start_time": "2023-06-20T12:47:13.340Z"
   },
   {
    "duration": 403,
    "start_time": "2023-06-20T12:47:14.843Z"
   },
   {
    "duration": 98,
    "start_time": "2023-06-20T12:47:15.749Z"
   },
   {
    "duration": 34,
    "start_time": "2023-06-20T12:47:16.188Z"
   },
   {
    "duration": 59,
    "start_time": "2023-06-20T12:47:16.512Z"
   },
   {
    "duration": 22,
    "start_time": "2023-06-20T12:47:17.535Z"
   },
   {
    "duration": 77,
    "start_time": "2023-06-20T12:47:18.349Z"
   },
   {
    "duration": 323,
    "start_time": "2023-06-20T12:47:19.698Z"
   },
   {
    "duration": 47,
    "start_time": "2023-06-20T12:47:20.513Z"
   },
   {
    "duration": 14,
    "start_time": "2023-06-20T12:47:20.912Z"
   },
   {
    "duration": 38,
    "start_time": "2023-06-20T12:47:21.312Z"
   },
   {
    "duration": 29,
    "start_time": "2023-06-20T12:47:21.782Z"
   },
   {
    "duration": 35,
    "start_time": "2023-06-20T12:47:22.588Z"
   },
   {
    "duration": 258,
    "start_time": "2023-06-20T12:47:23.538Z"
   },
   {
    "duration": 12,
    "start_time": "2023-06-20T12:47:23.810Z"
   },
   {
    "duration": 56,
    "start_time": "2023-06-20T12:47:24.179Z"
   },
   {
    "duration": 154,
    "start_time": "2023-06-20T12:47:24.540Z"
   },
   {
    "duration": 116,
    "start_time": "2023-06-20T12:47:24.784Z"
   },
   {
    "duration": 210,
    "start_time": "2023-06-20T12:47:25.975Z"
   },
   {
    "duration": 35,
    "start_time": "2023-06-20T12:47:26.706Z"
   },
   {
    "duration": 279,
    "start_time": "2023-06-20T12:47:27.991Z"
   },
   {
    "duration": 13,
    "start_time": "2023-06-20T12:47:28.920Z"
   },
   {
    "duration": 2477,
    "start_time": "2023-06-20T12:47:29.276Z"
   },
   {
    "duration": 62123,
    "start_time": "2023-06-20T12:47:36.284Z"
   },
   {
    "duration": 290,
    "start_time": "2023-06-20T12:48:38.414Z"
   },
   {
    "duration": 3485,
    "start_time": "2023-06-20T12:48:38.718Z"
   },
   {
    "duration": 53202,
    "start_time": "2023-06-20T12:52:36.480Z"
   },
   {
    "duration": 676,
    "start_time": "2023-06-20T12:53:29.717Z"
   },
   {
    "duration": 1124,
    "start_time": "2023-06-20T12:53:30.395Z"
   },
   {
    "duration": 1596,
    "start_time": "2023-06-20T14:47:17.363Z"
   },
   {
    "duration": 1085,
    "start_time": "2023-06-20T14:47:18.961Z"
   },
   {
    "duration": 145,
    "start_time": "2023-06-20T14:47:20.047Z"
   },
   {
    "duration": 77,
    "start_time": "2023-06-20T14:47:20.194Z"
   },
   {
    "duration": 65,
    "start_time": "2023-06-20T14:47:20.273Z"
   },
   {
    "duration": 392,
    "start_time": "2023-06-20T14:47:20.339Z"
   },
   {
    "duration": 16,
    "start_time": "2023-06-20T14:47:20.732Z"
   },
   {
    "duration": 371,
    "start_time": "2023-06-20T14:47:20.750Z"
   },
   {
    "duration": 18,
    "start_time": "2023-06-20T14:47:21.126Z"
   },
   {
    "duration": 28,
    "start_time": "2023-06-20T14:47:21.145Z"
   },
   {
    "duration": 177,
    "start_time": "2023-06-20T14:47:21.175Z"
   },
   {
    "duration": 17,
    "start_time": "2023-06-20T14:47:21.354Z"
   },
   {
    "duration": 58,
    "start_time": "2023-06-20T14:47:21.372Z"
   },
   {
    "duration": 397,
    "start_time": "2023-06-20T14:47:21.432Z"
   },
   {
    "duration": 23,
    "start_time": "2023-06-20T14:47:21.831Z"
   },
   {
    "duration": 3,
    "start_time": "2023-06-20T14:47:21.855Z"
   },
   {
    "duration": 67,
    "start_time": "2023-06-20T14:47:21.859Z"
   },
   {
    "duration": 1045,
    "start_time": "2023-06-20T14:47:21.928Z"
   },
   {
    "duration": 145,
    "start_time": "2023-06-20T14:47:22.975Z"
   },
   {
    "duration": 205,
    "start_time": "2023-06-20T14:47:23.121Z"
   },
   {
    "duration": 42,
    "start_time": "2023-06-20T14:47:23.327Z"
   },
   {
    "duration": 17,
    "start_time": "2023-06-20T14:47:23.371Z"
   },
   {
    "duration": 38,
    "start_time": "2023-06-20T14:47:23.418Z"
   },
   {
    "duration": 26,
    "start_time": "2023-06-20T14:47:23.458Z"
   },
   {
    "duration": 127,
    "start_time": "2023-06-20T14:47:23.486Z"
   },
   {
    "duration": 199,
    "start_time": "2023-06-20T14:47:23.614Z"
   },
   {
    "duration": 22,
    "start_time": "2023-06-20T14:47:23.814Z"
   },
   {
    "duration": 14,
    "start_time": "2023-06-20T14:47:23.837Z"
   },
   {
    "duration": 22,
    "start_time": "2023-06-20T14:47:23.852Z"
   },
   {
    "duration": 45,
    "start_time": "2023-06-20T14:47:23.875Z"
   },
   {
    "duration": 27,
    "start_time": "2023-06-20T14:47:23.922Z"
   },
   {
    "duration": 112,
    "start_time": "2023-06-20T14:47:23.950Z"
   },
   {
    "duration": 5,
    "start_time": "2023-06-20T14:47:24.064Z"
   },
   {
    "duration": 46,
    "start_time": "2023-06-20T14:47:24.070Z"
   },
   {
    "duration": 76,
    "start_time": "2023-06-20T14:47:24.118Z"
   },
   {
    "duration": 84,
    "start_time": "2023-06-20T14:47:24.195Z"
   },
   {
    "duration": 86,
    "start_time": "2023-06-20T14:47:24.281Z"
   },
   {
    "duration": 18,
    "start_time": "2023-06-20T14:47:24.368Z"
   },
   {
    "duration": 148,
    "start_time": "2023-06-20T14:47:24.387Z"
   },
   {
    "duration": 3,
    "start_time": "2023-06-20T14:47:24.536Z"
   },
   {
    "duration": 1179,
    "start_time": "2023-06-20T14:47:24.542Z"
   },
   {
    "duration": 58195,
    "start_time": "2023-06-20T14:47:25.730Z"
   },
   {
    "duration": 192,
    "start_time": "2023-06-20T14:48:23.926Z"
   },
   {
    "duration": 4518,
    "start_time": "2023-06-20T14:48:24.120Z"
   },
   {
    "duration": 541,
    "start_time": "2023-06-20T14:48:28.640Z"
   },
   {
    "duration": 84,
    "start_time": "2023-06-20T14:48:29.182Z"
   },
   {
    "duration": 0,
    "start_time": "2023-06-20T14:48:29.267Z"
   },
   {
    "duration": 45,
    "start_time": "2023-06-20T17:36:04.716Z"
   },
   {
    "duration": 1690,
    "start_time": "2023-06-20T17:36:16.141Z"
   },
   {
    "duration": 1477,
    "start_time": "2023-06-20T17:36:29.040Z"
   },
   {
    "duration": 3255,
    "start_time": "2023-06-20T17:36:30.968Z"
   },
   {
    "duration": 27,
    "start_time": "2023-06-20T17:36:34.225Z"
   },
   {
    "duration": 73,
    "start_time": "2023-06-20T17:36:45.107Z"
   },
   {
    "duration": 97,
    "start_time": "2023-06-20T17:36:48.944Z"
   },
   {
    "duration": 414,
    "start_time": "2023-06-20T17:36:56.389Z"
   },
   {
    "duration": 39,
    "start_time": "2023-06-20T17:36:56.805Z"
   },
   {
    "duration": 50,
    "start_time": "2023-06-20T17:37:17.687Z"
   },
   {
    "duration": 51,
    "start_time": "2023-06-20T17:37:23.158Z"
   },
   {
    "duration": 37,
    "start_time": "2023-06-20T17:38:19.939Z"
   },
   {
    "duration": 40,
    "start_time": "2023-06-20T17:38:23.949Z"
   },
   {
    "duration": 50,
    "start_time": "2023-06-20T17:38:28.185Z"
   },
   {
    "duration": 42,
    "start_time": "2023-06-20T17:38:31.129Z"
   },
   {
    "duration": 43,
    "start_time": "2023-06-20T17:38:33.832Z"
   },
   {
    "duration": 38,
    "start_time": "2023-06-20T17:38:36.640Z"
   },
   {
    "duration": 40,
    "start_time": "2023-06-20T17:38:40.398Z"
   },
   {
    "duration": 41,
    "start_time": "2023-06-20T17:38:49.453Z"
   },
   {
    "duration": 36,
    "start_time": "2023-06-20T17:38:53.330Z"
   },
   {
    "duration": 47,
    "start_time": "2023-06-20T17:38:56.629Z"
   },
   {
    "duration": 48,
    "start_time": "2023-06-20T17:38:59.239Z"
   },
   {
    "duration": 39,
    "start_time": "2023-06-20T17:39:02.949Z"
   },
   {
    "duration": 41,
    "start_time": "2023-06-20T17:39:05.861Z"
   },
   {
    "duration": 38,
    "start_time": "2023-06-20T17:39:09.280Z"
   },
   {
    "duration": 39,
    "start_time": "2023-06-20T17:39:18.378Z"
   },
   {
    "duration": 39,
    "start_time": "2023-06-20T17:39:20.671Z"
   },
   {
    "duration": 60,
    "start_time": "2023-06-20T17:39:25.062Z"
   },
   {
    "duration": 39,
    "start_time": "2023-06-20T17:39:28.120Z"
   },
   {
    "duration": 39,
    "start_time": "2023-06-20T17:39:38.223Z"
   },
   {
    "duration": 65,
    "start_time": "2023-06-20T17:41:06.745Z"
   },
   {
    "duration": 37,
    "start_time": "2023-06-20T17:41:09.239Z"
   },
   {
    "duration": 41,
    "start_time": "2023-06-20T17:41:15.950Z"
   },
   {
    "duration": 40,
    "start_time": "2023-06-20T17:41:20.088Z"
   },
   {
    "duration": 1382,
    "start_time": "2023-06-20T17:46:58.189Z"
   },
   {
    "duration": 798,
    "start_time": "2023-06-20T17:46:59.573Z"
   },
   {
    "duration": 27,
    "start_time": "2023-06-20T17:47:00.373Z"
   },
   {
    "duration": 92,
    "start_time": "2023-06-20T17:47:00.427Z"
   },
   {
    "duration": 68,
    "start_time": "2023-06-20T17:47:00.680Z"
   },
   {
    "duration": 370,
    "start_time": "2023-06-20T17:47:01.518Z"
   },
   {
    "duration": 36,
    "start_time": "2023-06-20T17:47:01.890Z"
   },
   {
    "duration": 43,
    "start_time": "2023-06-20T17:47:02.086Z"
   },
   {
    "duration": 16,
    "start_time": "2023-06-20T17:47:03.732Z"
   },
   {
    "duration": 334,
    "start_time": "2023-06-20T17:47:04.913Z"
   },
   {
    "duration": 228,
    "start_time": "2023-06-20T17:47:06.704Z"
   },
   {
    "duration": 32,
    "start_time": "2023-06-20T17:47:14.974Z"
   },
   {
    "duration": 1539,
    "start_time": "2023-06-20T17:50:15.339Z"
   },
   {
    "duration": 16,
    "start_time": "2023-06-20T17:50:26.019Z"
   },
   {
    "duration": 114,
    "start_time": "2023-06-20T17:51:07.578Z"
   },
   {
    "duration": 5,
    "start_time": "2023-06-20T17:57:27.785Z"
   },
   {
    "duration": 1497,
    "start_time": "2023-06-20T18:03:34.490Z"
   },
   {
    "duration": 809,
    "start_time": "2023-06-20T18:03:36.009Z"
   },
   {
    "duration": 33,
    "start_time": "2023-06-20T18:03:36.873Z"
   },
   {
    "duration": 102,
    "start_time": "2023-06-20T18:03:37.840Z"
   },
   {
    "duration": 88,
    "start_time": "2023-06-20T18:03:38.265Z"
   },
   {
    "duration": 437,
    "start_time": "2023-06-20T18:03:39.617Z"
   },
   {
    "duration": 39,
    "start_time": "2023-06-20T18:03:40.055Z"
   },
   {
    "duration": 40,
    "start_time": "2023-06-20T18:03:40.311Z"
   },
   {
    "duration": 17,
    "start_time": "2023-06-20T18:03:43.139Z"
   },
   {
    "duration": 449,
    "start_time": "2023-06-20T18:03:45.485Z"
   },
   {
    "duration": 108,
    "start_time": "2023-06-20T18:03:47.298Z"
   },
   {
    "duration": 7,
    "start_time": "2023-06-20T18:03:48.000Z"
   },
   {
    "duration": 53,
    "start_time": "2023-06-20T18:03:50.489Z"
   },
   {
    "duration": 18,
    "start_time": "2023-06-20T18:03:53.220Z"
   },
   {
    "duration": 230,
    "start_time": "2023-06-20T18:03:53.737Z"
   },
   {
    "duration": 25,
    "start_time": "2023-06-20T18:03:55.377Z"
   },
   {
    "duration": 28,
    "start_time": "2023-06-20T18:06:07.097Z"
   },
   {
    "duration": 326,
    "start_time": "2023-06-20T18:06:07.305Z"
   },
   {
    "duration": 31,
    "start_time": "2023-06-20T18:06:07.633Z"
   },
   {
    "duration": 23,
    "start_time": "2023-06-20T18:06:08.520Z"
   },
   {
    "duration": 891,
    "start_time": "2023-06-20T18:06:08.760Z"
   },
   {
    "duration": 174,
    "start_time": "2023-06-20T18:06:09.653Z"
   },
   {
    "duration": 214,
    "start_time": "2023-06-20T18:06:10.019Z"
   },
   {
    "duration": 35,
    "start_time": "2023-06-20T18:06:10.319Z"
   },
   {
    "duration": 16,
    "start_time": "2023-06-20T18:06:10.569Z"
   },
   {
    "duration": 35,
    "start_time": "2023-06-20T18:06:10.947Z"
   },
   {
    "duration": 13,
    "start_time": "2023-06-20T18:06:11.730Z"
   },
   {
    "duration": 24,
    "start_time": "2023-06-20T18:06:12.564Z"
   },
   {
    "duration": 145,
    "start_time": "2023-06-20T18:06:17.389Z"
   },
   {
    "duration": 24,
    "start_time": "2023-06-20T18:06:17.538Z"
   },
   {
    "duration": 7,
    "start_time": "2023-06-20T18:06:17.708Z"
   },
   {
    "duration": 23,
    "start_time": "2023-06-20T18:06:17.883Z"
   },
   {
    "duration": 13,
    "start_time": "2023-06-20T18:06:18.027Z"
   },
   {
    "duration": 14,
    "start_time": "2023-06-20T18:06:18.560Z"
   },
   {
    "duration": 119,
    "start_time": "2023-06-20T18:06:19.258Z"
   },
   {
    "duration": 5,
    "start_time": "2023-06-20T18:06:19.590Z"
   },
   {
    "duration": 17,
    "start_time": "2023-06-20T18:06:20.253Z"
   },
   {
    "duration": 52,
    "start_time": "2023-06-20T18:06:20.440Z"
   },
   {
    "duration": 1428,
    "start_time": "2023-06-20T18:08:06.938Z"
   },
   {
    "duration": 751,
    "start_time": "2023-06-20T18:08:08.368Z"
   },
   {
    "duration": 25,
    "start_time": "2023-06-20T18:08:09.121Z"
   },
   {
    "duration": 87,
    "start_time": "2023-06-20T18:08:09.148Z"
   },
   {
    "duration": 81,
    "start_time": "2023-06-20T18:08:09.237Z"
   },
   {
    "duration": 428,
    "start_time": "2023-06-20T18:08:09.320Z"
   },
   {
    "duration": 45,
    "start_time": "2023-06-20T18:08:09.749Z"
   },
   {
    "duration": 48,
    "start_time": "2023-06-20T18:08:09.796Z"
   },
   {
    "duration": 21,
    "start_time": "2023-06-20T18:08:09.846Z"
   },
   {
    "duration": 395,
    "start_time": "2023-06-20T18:08:09.870Z"
   },
   {
    "duration": 114,
    "start_time": "2023-06-20T18:08:10.267Z"
   },
   {
    "duration": 5,
    "start_time": "2023-06-20T18:08:10.383Z"
   },
   {
    "duration": 60,
    "start_time": "2023-06-20T18:08:10.390Z"
   },
   {
    "duration": 20,
    "start_time": "2023-06-20T18:08:10.461Z"
   },
   {
    "duration": 188,
    "start_time": "2023-06-20T18:08:10.482Z"
   },
   {
    "duration": 37,
    "start_time": "2023-06-20T18:08:10.683Z"
   },
   {
    "duration": 35,
    "start_time": "2023-06-20T18:08:14.203Z"
   },
   {
    "duration": 346,
    "start_time": "2023-06-20T18:08:14.242Z"
   },
   {
    "duration": 24,
    "start_time": "2023-06-20T18:08:14.590Z"
   },
   {
    "duration": 25,
    "start_time": "2023-06-20T18:08:15.551Z"
   },
   {
    "duration": 879,
    "start_time": "2023-06-20T18:08:16.025Z"
   },
   {
    "duration": 144,
    "start_time": "2023-06-20T18:08:16.906Z"
   },
   {
    "duration": 176,
    "start_time": "2023-06-20T18:08:17.051Z"
   },
   {
    "duration": 40,
    "start_time": "2023-06-20T18:08:17.229Z"
   },
   {
    "duration": 14,
    "start_time": "2023-06-20T18:08:17.320Z"
   },
   {
    "duration": 35,
    "start_time": "2023-06-20T18:08:17.561Z"
   },
   {
    "duration": 13,
    "start_time": "2023-06-20T18:08:18.001Z"
   },
   {
    "duration": 23,
    "start_time": "2023-06-20T18:08:18.641Z"
   },
   {
    "duration": 140,
    "start_time": "2023-06-20T18:08:19.440Z"
   },
   {
    "duration": 19,
    "start_time": "2023-06-20T18:08:19.689Z"
   },
   {
    "duration": 7,
    "start_time": "2023-06-20T18:08:19.898Z"
   },
   {
    "duration": 20,
    "start_time": "2023-06-20T18:08:20.109Z"
   },
   {
    "duration": 12,
    "start_time": "2023-06-20T18:08:20.315Z"
   },
   {
    "duration": 14,
    "start_time": "2023-06-20T18:08:20.751Z"
   },
   {
    "duration": 114,
    "start_time": "2023-06-20T18:08:21.388Z"
   },
   {
    "duration": 5,
    "start_time": "2023-06-20T18:08:21.546Z"
   },
   {
    "duration": 18,
    "start_time": "2023-06-20T18:08:21.777Z"
   },
   {
    "duration": 56,
    "start_time": "2023-06-20T18:08:22.439Z"
   },
   {
    "duration": 43,
    "start_time": "2023-06-20T18:08:23.117Z"
   },
   {
    "duration": 121,
    "start_time": "2023-06-20T18:10:54.877Z"
   },
   {
    "duration": 14,
    "start_time": "2023-06-20T18:11:38.183Z"
   },
   {
    "duration": 53,
    "start_time": "2023-06-20T18:12:20.899Z"
   },
   {
    "duration": 93,
    "start_time": "2023-06-20T18:16:12.568Z"
   },
   {
    "duration": 18,
    "start_time": "2023-06-20T18:16:13.003Z"
   },
   {
    "duration": 125,
    "start_time": "2023-06-20T18:16:13.913Z"
   },
   {
    "duration": 3,
    "start_time": "2023-06-20T18:16:16.881Z"
   },
   {
    "duration": 10,
    "start_time": "2023-06-20T18:16:18.064Z"
   },
   {
    "duration": 4,
    "start_time": "2023-06-20T18:16:58.554Z"
   },
   {
    "duration": 11,
    "start_time": "2023-06-20T18:17:09.001Z"
   },
   {
    "duration": 890,
    "start_time": "2023-06-20T18:17:19.552Z"
   },
   {
    "duration": 1915,
    "start_time": "2023-06-21T09:45:03.529Z"
   },
   {
    "duration": 1154,
    "start_time": "2023-06-21T09:45:05.447Z"
   },
   {
    "duration": 29,
    "start_time": "2023-06-21T09:45:06.602Z"
   },
   {
    "duration": 343,
    "start_time": "2023-06-21T09:45:06.633Z"
   },
   {
    "duration": 109,
    "start_time": "2023-06-21T09:45:07.066Z"
   },
   {
    "duration": 503,
    "start_time": "2023-06-21T09:45:07.177Z"
   },
   {
    "duration": 41,
    "start_time": "2023-06-21T09:45:07.683Z"
   },
   {
    "duration": 55,
    "start_time": "2023-06-21T09:45:07.726Z"
   },
   {
    "duration": 22,
    "start_time": "2023-06-21T09:45:07.783Z"
   },
   {
    "duration": 459,
    "start_time": "2023-06-21T09:45:07.806Z"
   },
   {
    "duration": 115,
    "start_time": "2023-06-21T09:45:08.267Z"
   },
   {
    "duration": 4,
    "start_time": "2023-06-21T09:45:08.518Z"
   },
   {
    "duration": 50,
    "start_time": "2023-06-21T09:45:10.834Z"
   },
   {
    "duration": 19,
    "start_time": "2023-06-21T09:45:11.412Z"
   },
   {
    "duration": 189,
    "start_time": "2023-06-21T09:45:11.727Z"
   },
   {
    "duration": 158,
    "start_time": "2023-06-21T09:45:11.928Z"
   },
   {
    "duration": 31,
    "start_time": "2023-06-21T09:45:12.747Z"
   },
   {
    "duration": 415,
    "start_time": "2023-06-21T09:45:12.936Z"
   },
   {
    "duration": 27,
    "start_time": "2023-06-21T09:45:13.353Z"
   },
   {
    "duration": 33,
    "start_time": "2023-06-21T09:45:14.212Z"
   },
   {
    "duration": 1140,
    "start_time": "2023-06-21T09:45:14.304Z"
   },
   {
    "duration": 188,
    "start_time": "2023-06-21T09:45:15.447Z"
   },
   {
    "duration": 203,
    "start_time": "2023-06-21T09:45:15.721Z"
   },
   {
    "duration": 40,
    "start_time": "2023-06-21T09:45:16.004Z"
   },
   {
    "duration": 18,
    "start_time": "2023-06-21T09:45:16.316Z"
   },
   {
    "duration": 38,
    "start_time": "2023-06-21T09:45:16.708Z"
   },
   {
    "duration": 13,
    "start_time": "2023-06-21T09:45:17.405Z"
   },
   {
    "duration": 25,
    "start_time": "2023-06-21T09:45:17.820Z"
   },
   {
    "duration": 185,
    "start_time": "2023-06-21T09:45:18.600Z"
   },
   {
    "duration": 24,
    "start_time": "2023-06-21T09:45:18.835Z"
   },
   {
    "duration": 7,
    "start_time": "2023-06-21T09:45:19.024Z"
   },
   {
    "duration": 22,
    "start_time": "2023-06-21T09:45:19.324Z"
   },
   {
    "duration": 16,
    "start_time": "2023-06-21T09:45:19.556Z"
   },
   {
    "duration": 19,
    "start_time": "2023-06-21T09:45:20.018Z"
   },
   {
    "duration": 132,
    "start_time": "2023-06-21T09:45:20.514Z"
   },
   {
    "duration": 6,
    "start_time": "2023-06-21T09:45:20.747Z"
   },
   {
    "duration": 17,
    "start_time": "2023-06-21T09:45:21.028Z"
   },
   {
    "duration": 74,
    "start_time": "2023-06-21T09:45:21.326Z"
   },
   {
    "duration": 52,
    "start_time": "2023-06-21T09:45:21.637Z"
   },
   {
    "duration": 92,
    "start_time": "2023-06-21T09:45:23.728Z"
   },
   {
    "duration": 25,
    "start_time": "2023-06-21T09:45:24.228Z"
   },
   {
    "duration": 148,
    "start_time": "2023-06-21T09:45:24.805Z"
   },
   {
    "duration": 3,
    "start_time": "2023-06-21T09:45:25.462Z"
   },
   {
    "duration": 831,
    "start_time": "2023-06-21T09:45:26.012Z"
   },
   {
    "duration": 46144,
    "start_time": "2023-06-21T09:45:36.121Z"
   },
   {
    "duration": 10290,
    "start_time": "2023-06-21T09:47:12.368Z"
   },
   {
    "duration": 513,
    "start_time": "2023-06-21T09:47:22.660Z"
   },
   {
    "duration": 708355,
    "start_time": "2023-06-21T09:47:47.316Z"
   },
   {
    "duration": 1640,
    "start_time": "2023-06-21T11:21:38.348Z"
   },
   {
    "duration": 911,
    "start_time": "2023-06-21T11:21:39.990Z"
   },
   {
    "duration": 26,
    "start_time": "2023-06-21T11:21:40.902Z"
   },
   {
    "duration": 164,
    "start_time": "2023-06-21T11:21:40.930Z"
   },
   {
    "duration": 108,
    "start_time": "2023-06-21T11:21:41.096Z"
   },
   {
    "duration": 545,
    "start_time": "2023-06-21T11:21:41.205Z"
   },
   {
    "duration": 42,
    "start_time": "2023-06-21T11:21:41.753Z"
   },
   {
    "duration": 39,
    "start_time": "2023-06-21T11:21:41.797Z"
   },
   {
    "duration": 31,
    "start_time": "2023-06-21T11:21:41.853Z"
   },
   {
    "duration": 454,
    "start_time": "2023-06-21T11:21:41.888Z"
   },
   {
    "duration": 146,
    "start_time": "2023-06-21T11:21:42.344Z"
   },
   {
    "duration": 6,
    "start_time": "2023-06-21T11:21:42.493Z"
   },
   {
    "duration": 104,
    "start_time": "2023-06-21T11:21:42.501Z"
   },
   {
    "duration": 22,
    "start_time": "2023-06-21T11:21:42.608Z"
   },
   {
    "duration": 250,
    "start_time": "2023-06-21T11:21:42.632Z"
   },
   {
    "duration": 21,
    "start_time": "2023-06-21T11:21:42.883Z"
   },
   {
    "duration": 42,
    "start_time": "2023-06-21T11:21:42.905Z"
   },
   {
    "duration": 469,
    "start_time": "2023-06-21T11:21:42.949Z"
   },
   {
    "duration": 35,
    "start_time": "2023-06-21T11:21:43.420Z"
   },
   {
    "duration": 32,
    "start_time": "2023-06-21T11:21:43.459Z"
   },
   {
    "duration": 1299,
    "start_time": "2023-06-21T11:21:43.493Z"
   },
   {
    "duration": 182,
    "start_time": "2023-06-21T11:21:44.793Z"
   },
   {
    "duration": 223,
    "start_time": "2023-06-21T11:21:44.977Z"
   },
   {
    "duration": 36,
    "start_time": "2023-06-21T11:21:45.201Z"
   },
   {
    "duration": 39,
    "start_time": "2023-06-21T11:21:45.239Z"
   },
   {
    "duration": 36,
    "start_time": "2023-06-21T11:21:45.279Z"
   },
   {
    "duration": 14,
    "start_time": "2023-06-21T11:21:45.317Z"
   },
   {
    "duration": 32,
    "start_time": "2023-06-21T11:21:45.355Z"
   },
   {
    "duration": 189,
    "start_time": "2023-06-21T11:21:45.388Z"
   },
   {
    "duration": 21,
    "start_time": "2023-06-21T11:21:45.579Z"
   },
   {
    "duration": 29,
    "start_time": "2023-06-21T11:21:45.603Z"
   },
   {
    "duration": 64,
    "start_time": "2023-06-21T11:21:45.634Z"
   },
   {
    "duration": 31,
    "start_time": "2023-06-21T11:21:45.700Z"
   },
   {
    "duration": 70,
    "start_time": "2023-06-21T11:21:45.733Z"
   },
   {
    "duration": 135,
    "start_time": "2023-06-21T11:21:45.804Z"
   },
   {
    "duration": 6,
    "start_time": "2023-06-21T11:21:45.941Z"
   },
   {
    "duration": 44,
    "start_time": "2023-06-21T11:21:45.957Z"
   },
   {
    "duration": 111,
    "start_time": "2023-06-21T11:21:46.003Z"
   },
   {
    "duration": 67,
    "start_time": "2023-06-21T11:21:46.116Z"
   },
   {
    "duration": 120,
    "start_time": "2023-06-21T11:21:46.186Z"
   },
   {
    "duration": 23,
    "start_time": "2023-06-21T11:21:46.308Z"
   },
   {
    "duration": 188,
    "start_time": "2023-06-21T11:21:46.333Z"
   },
   {
    "duration": 7,
    "start_time": "2023-06-21T11:21:46.523Z"
   },
   {
    "duration": 1170,
    "start_time": "2023-06-21T11:21:46.531Z"
   },
   {
    "duration": 1533,
    "start_time": "2023-06-21T11:43:20.999Z"
   },
   {
    "duration": 960,
    "start_time": "2023-06-21T11:43:22.535Z"
   },
   {
    "duration": 29,
    "start_time": "2023-06-21T11:43:23.497Z"
   },
   {
    "duration": 142,
    "start_time": "2023-06-21T11:43:23.529Z"
   },
   {
    "duration": 114,
    "start_time": "2023-06-21T11:43:23.673Z"
   },
   {
    "duration": 500,
    "start_time": "2023-06-21T11:43:23.789Z"
   },
   {
    "duration": 46,
    "start_time": "2023-06-21T11:43:24.292Z"
   },
   {
    "duration": 43,
    "start_time": "2023-06-21T11:43:24.354Z"
   },
   {
    "duration": 20,
    "start_time": "2023-06-21T11:43:24.399Z"
   },
   {
    "duration": 497,
    "start_time": "2023-06-21T11:43:24.422Z"
   },
   {
    "duration": 128,
    "start_time": "2023-06-21T11:43:24.920Z"
   },
   {
    "duration": 6,
    "start_time": "2023-06-21T11:43:25.053Z"
   },
   {
    "duration": 73,
    "start_time": "2023-06-21T11:43:25.065Z"
   },
   {
    "duration": 20,
    "start_time": "2023-06-21T11:43:25.140Z"
   },
   {
    "duration": 217,
    "start_time": "2023-06-21T11:43:25.162Z"
   },
   {
    "duration": 19,
    "start_time": "2023-06-21T11:43:25.381Z"
   },
   {
    "duration": 44,
    "start_time": "2023-06-21T11:43:25.401Z"
   },
   {
    "duration": 454,
    "start_time": "2023-06-21T11:43:25.455Z"
   },
   {
    "duration": 25,
    "start_time": "2023-06-21T11:43:25.911Z"
   },
   {
    "duration": 48,
    "start_time": "2023-06-21T11:43:25.938Z"
   },
   {
    "duration": 1237,
    "start_time": "2023-06-21T11:43:25.988Z"
   },
   {
    "duration": 184,
    "start_time": "2023-06-21T11:43:27.227Z"
   },
   {
    "duration": 264,
    "start_time": "2023-06-21T11:43:27.414Z"
   },
   {
    "duration": 38,
    "start_time": "2023-06-21T11:43:27.897Z"
   },
   {
    "duration": 19,
    "start_time": "2023-06-21T11:43:28.483Z"
   },
   {
    "duration": 57,
    "start_time": "2023-06-21T11:43:28.504Z"
   },
   {
    "duration": 20,
    "start_time": "2023-06-21T11:43:28.569Z"
   },
   {
    "duration": 28,
    "start_time": "2023-06-21T11:43:28.786Z"
   },
   {
    "duration": 198,
    "start_time": "2023-06-21T11:43:30.002Z"
   },
   {
    "duration": 23,
    "start_time": "2023-06-21T11:43:30.202Z"
   },
   {
    "duration": 7,
    "start_time": "2023-06-21T11:43:30.430Z"
   },
   {
    "duration": 21,
    "start_time": "2023-06-21T11:43:30.593Z"
   },
   {
    "duration": 16,
    "start_time": "2023-06-21T11:43:31.124Z"
   },
   {
    "duration": 26,
    "start_time": "2023-06-21T11:43:33.549Z"
   },
   {
    "duration": 145,
    "start_time": "2023-06-21T11:43:34.071Z"
   },
   {
    "duration": 6,
    "start_time": "2023-06-21T11:43:34.237Z"
   },
   {
    "duration": 17,
    "start_time": "2023-06-21T11:43:34.733Z"
   },
   {
    "duration": 82,
    "start_time": "2023-06-21T11:43:35.032Z"
   },
   {
    "duration": 51,
    "start_time": "2023-06-21T11:43:35.376Z"
   },
   {
    "duration": 110,
    "start_time": "2023-06-21T11:43:38.815Z"
   },
   {
    "duration": 19,
    "start_time": "2023-06-21T11:43:38.982Z"
   },
   {
    "duration": 159,
    "start_time": "2023-06-21T11:43:39.157Z"
   },
   {
    "duration": 4,
    "start_time": "2023-06-21T11:43:39.734Z"
   },
   {
    "duration": 942,
    "start_time": "2023-06-21T11:43:40.067Z"
   },
   {
    "duration": 1936,
    "start_time": "2023-06-21T21:35:50.190Z"
   },
   {
    "duration": 1373,
    "start_time": "2023-06-21T21:35:52.129Z"
   },
   {
    "duration": 30,
    "start_time": "2023-06-21T21:35:53.504Z"
   },
   {
    "duration": 150,
    "start_time": "2023-06-21T21:35:53.536Z"
   },
   {
    "duration": 99,
    "start_time": "2023-06-21T21:35:53.688Z"
   },
   {
    "duration": 549,
    "start_time": "2023-06-21T21:35:53.789Z"
   },
   {
    "duration": 55,
    "start_time": "2023-06-21T21:35:54.339Z"
   },
   {
    "duration": 60,
    "start_time": "2023-06-21T21:35:54.396Z"
   },
   {
    "duration": 30,
    "start_time": "2023-06-21T21:35:54.462Z"
   },
   {
    "duration": 517,
    "start_time": "2023-06-21T21:35:54.494Z"
   },
   {
    "duration": 132,
    "start_time": "2023-06-21T21:35:55.013Z"
   },
   {
    "duration": 13,
    "start_time": "2023-06-21T21:35:55.147Z"
   },
   {
    "duration": 87,
    "start_time": "2023-06-21T21:35:55.162Z"
   },
   {
    "duration": 35,
    "start_time": "2023-06-21T21:35:55.252Z"
   },
   {
    "duration": 245,
    "start_time": "2023-06-21T21:35:55.289Z"
   },
   {
    "duration": 35,
    "start_time": "2023-06-21T21:35:55.536Z"
   },
   {
    "duration": 59,
    "start_time": "2023-06-21T21:35:55.577Z"
   },
   {
    "duration": 469,
    "start_time": "2023-06-21T21:35:55.638Z"
   },
   {
    "duration": 31,
    "start_time": "2023-06-21T21:35:56.108Z"
   },
   {
    "duration": 51,
    "start_time": "2023-06-21T21:35:56.141Z"
   },
   {
    "duration": 1219,
    "start_time": "2023-06-21T21:35:56.194Z"
   },
   {
    "duration": 200,
    "start_time": "2023-06-21T21:35:57.415Z"
   },
   {
    "duration": 266,
    "start_time": "2023-06-21T21:35:57.616Z"
   },
   {
    "duration": 51,
    "start_time": "2023-06-21T21:35:57.884Z"
   },
   {
    "duration": 33,
    "start_time": "2023-06-21T21:35:57.937Z"
   },
   {
    "duration": 51,
    "start_time": "2023-06-21T21:35:57.974Z"
   },
   {
    "duration": 12,
    "start_time": "2023-06-21T21:35:58.027Z"
   },
   {
    "duration": 42,
    "start_time": "2023-06-21T21:35:58.041Z"
   },
   {
    "duration": 215,
    "start_time": "2023-06-21T21:35:58.085Z"
   },
   {
    "duration": 23,
    "start_time": "2023-06-21T21:35:58.303Z"
   },
   {
    "duration": 35,
    "start_time": "2023-06-21T21:35:58.328Z"
   },
   {
    "duration": 59,
    "start_time": "2023-06-21T21:35:58.367Z"
   },
   {
    "duration": 18,
    "start_time": "2023-06-21T21:35:58.428Z"
   },
   {
    "duration": 61,
    "start_time": "2023-06-21T21:35:58.448Z"
   },
   {
    "duration": 181,
    "start_time": "2023-06-21T21:35:58.511Z"
   },
   {
    "duration": 6,
    "start_time": "2023-06-21T21:35:58.694Z"
   },
   {
    "duration": 34,
    "start_time": "2023-06-21T21:35:58.702Z"
   },
   {
    "duration": 85,
    "start_time": "2023-06-21T21:35:58.738Z"
   },
   {
    "duration": 71,
    "start_time": "2023-06-21T21:35:58.824Z"
   },
   {
    "duration": 134,
    "start_time": "2023-06-21T21:35:58.897Z"
   },
   {
    "duration": 34,
    "start_time": "2023-06-21T21:35:59.035Z"
   },
   {
    "duration": 184,
    "start_time": "2023-06-21T21:35:59.071Z"
   },
   {
    "duration": 3,
    "start_time": "2023-06-21T21:35:59.257Z"
   },
   {
    "duration": 1062,
    "start_time": "2023-06-21T21:35:59.262Z"
   },
   {
    "duration": 1200627,
    "start_time": "2023-06-21T21:36:00.326Z"
   },
   {
    "duration": 10,
    "start_time": "2023-06-21T21:56:00.959Z"
   },
   {
    "duration": 535766,
    "start_time": "2023-06-21T21:56:00.971Z"
   },
   {
    "duration": 264177,
    "start_time": "2023-06-21T22:04:56.739Z"
   },
   {
    "duration": 186,
    "start_time": "2023-06-21T22:09:20.918Z"
   },
   {
    "duration": 1786,
    "start_time": "2023-06-23T10:02:36.655Z"
   },
   {
    "duration": 1180,
    "start_time": "2023-06-23T10:02:39.412Z"
   },
   {
    "duration": 28,
    "start_time": "2023-06-23T10:02:40.595Z"
   },
   {
    "duration": 92,
    "start_time": "2023-06-23T10:02:42.536Z"
   },
   {
    "duration": 98,
    "start_time": "2023-06-23T10:02:42.945Z"
   },
   {
    "duration": 427,
    "start_time": "2023-06-23T10:02:44.655Z"
   },
   {
    "duration": 42,
    "start_time": "2023-06-23T10:02:45.084Z"
   },
   {
    "duration": 43,
    "start_time": "2023-06-23T10:02:45.614Z"
   },
   {
    "duration": 9,
    "start_time": "2023-06-23T10:02:48.015Z"
   },
   {
    "duration": 18,
    "start_time": "2023-06-23T10:05:38.024Z"
   },
   {
    "duration": 391,
    "start_time": "2023-06-23T10:05:38.905Z"
   },
   {
    "duration": 102,
    "start_time": "2023-06-23T10:05:39.512Z"
   },
   {
    "duration": 5,
    "start_time": "2023-06-23T10:05:40.168Z"
   },
   {
    "duration": 58,
    "start_time": "2023-06-23T10:05:42.005Z"
   },
   {
    "duration": 21,
    "start_time": "2023-06-23T10:05:44.232Z"
   },
   {
    "duration": 204,
    "start_time": "2023-06-23T10:05:45.412Z"
   },
   {
    "duration": 29,
    "start_time": "2023-06-23T10:05:46.412Z"
   },
   {
    "duration": 38,
    "start_time": "2023-06-23T10:06:13.940Z"
   },
   {
    "duration": 32,
    "start_time": "2023-06-23T10:06:36.034Z"
   },
   {
    "duration": 374,
    "start_time": "2023-06-23T10:06:36.266Z"
   },
   {
    "duration": 25,
    "start_time": "2023-06-23T10:06:37.426Z"
   },
   {
    "duration": 25,
    "start_time": "2023-06-23T10:06:40.712Z"
   },
   {
    "duration": 927,
    "start_time": "2023-06-23T10:06:41.000Z"
   },
   {
    "duration": 156,
    "start_time": "2023-06-23T10:06:42.812Z"
   },
   {
    "duration": 225,
    "start_time": "2023-06-23T10:06:45.301Z"
   },
   {
    "duration": 34,
    "start_time": "2023-06-23T10:06:45.566Z"
   },
   {
    "duration": 14,
    "start_time": "2023-06-23T10:06:46.064Z"
   },
   {
    "duration": 34,
    "start_time": "2023-06-23T10:06:46.620Z"
   },
   {
    "duration": 12,
    "start_time": "2023-06-23T10:06:47.664Z"
   },
   {
    "duration": 24,
    "start_time": "2023-06-23T10:06:48.608Z"
   },
   {
    "duration": 157,
    "start_time": "2023-06-23T10:06:49.916Z"
   },
   {
    "duration": 21,
    "start_time": "2023-06-23T10:06:50.216Z"
   },
   {
    "duration": 8,
    "start_time": "2023-06-23T10:06:50.416Z"
   },
   {
    "duration": 22,
    "start_time": "2023-06-23T10:06:50.756Z"
   },
   {
    "duration": 13,
    "start_time": "2023-06-23T10:06:51.032Z"
   },
   {
    "duration": 18,
    "start_time": "2023-06-23T10:06:51.700Z"
   },
   {
    "duration": 136,
    "start_time": "2023-06-23T10:06:52.539Z"
   },
   {
    "duration": 6,
    "start_time": "2023-06-23T10:06:53.024Z"
   },
   {
    "duration": 20,
    "start_time": "2023-06-23T10:06:53.640Z"
   },
   {
    "duration": 62,
    "start_time": "2023-06-23T10:06:53.864Z"
   },
   {
    "duration": 52,
    "start_time": "2023-06-23T10:06:54.166Z"
   },
   {
    "duration": 61,
    "start_time": "2023-06-23T10:07:01.755Z"
   },
   {
    "duration": 27,
    "start_time": "2023-06-23T10:07:02.540Z"
   },
   {
    "duration": 144,
    "start_time": "2023-06-23T10:07:03.216Z"
   },
   {
    "duration": 4,
    "start_time": "2023-06-23T10:07:04.208Z"
   },
   {
    "duration": 881,
    "start_time": "2023-06-23T10:07:04.944Z"
   },
   {
    "duration": 1818,
    "start_time": "2023-06-24T10:37:38.205Z"
   },
   {
    "duration": 949,
    "start_time": "2023-06-24T10:37:40.025Z"
   },
   {
    "duration": 24,
    "start_time": "2023-06-24T10:37:40.976Z"
   },
   {
    "duration": 186,
    "start_time": "2023-06-24T10:37:41.003Z"
   },
   {
    "duration": 90,
    "start_time": "2023-06-24T10:37:41.191Z"
   },
   {
    "duration": 416,
    "start_time": "2023-06-24T10:37:41.283Z"
   },
   {
    "duration": 36,
    "start_time": "2023-06-24T10:37:41.701Z"
   },
   {
    "duration": 36,
    "start_time": "2023-06-24T10:37:41.739Z"
   },
   {
    "duration": 26,
    "start_time": "2023-06-24T10:37:41.777Z"
   },
   {
    "duration": 33,
    "start_time": "2023-06-24T10:37:41.806Z"
   },
   {
    "duration": 17,
    "start_time": "2023-06-24T10:37:41.840Z"
   },
   {
    "duration": 353,
    "start_time": "2023-06-24T10:37:41.859Z"
   },
   {
    "duration": 88,
    "start_time": "2023-06-24T10:37:42.213Z"
   },
   {
    "duration": 5,
    "start_time": "2023-06-24T10:37:42.302Z"
   },
   {
    "duration": 50,
    "start_time": "2023-06-24T10:37:42.308Z"
   },
   {
    "duration": 19,
    "start_time": "2023-06-24T10:37:42.360Z"
   },
   {
    "duration": 172,
    "start_time": "2023-06-24T10:37:42.381Z"
   },
   {
    "duration": 17,
    "start_time": "2023-06-24T10:37:42.554Z"
   },
   {
    "duration": 108,
    "start_time": "2023-06-24T10:37:42.572Z"
   },
   {
    "duration": 341,
    "start_time": "2023-06-24T10:37:42.682Z"
   },
   {
    "duration": 27,
    "start_time": "2023-06-24T10:37:43.024Z"
   },
   {
    "duration": 22,
    "start_time": "2023-06-24T10:37:43.053Z"
   },
   {
    "duration": 956,
    "start_time": "2023-06-24T10:37:43.077Z"
   },
   {
    "duration": 146,
    "start_time": "2023-06-24T10:37:44.035Z"
   },
   {
    "duration": 180,
    "start_time": "2023-06-24T10:37:44.183Z"
   },
   {
    "duration": 45,
    "start_time": "2023-06-24T10:37:44.365Z"
   },
   {
    "duration": 14,
    "start_time": "2023-06-24T10:37:44.412Z"
   },
   {
    "duration": 38,
    "start_time": "2023-06-24T10:37:44.429Z"
   },
   {
    "duration": 14,
    "start_time": "2023-06-24T10:37:44.468Z"
   },
   {
    "duration": 33,
    "start_time": "2023-06-24T10:37:44.484Z"
   },
   {
    "duration": 157,
    "start_time": "2023-06-24T10:37:44.518Z"
   },
   {
    "duration": 24,
    "start_time": "2023-06-24T10:37:44.676Z"
   },
   {
    "duration": 7,
    "start_time": "2023-06-24T10:37:44.702Z"
   },
   {
    "duration": 27,
    "start_time": "2023-06-24T10:37:44.710Z"
   },
   {
    "duration": 13,
    "start_time": "2023-06-24T10:37:44.738Z"
   },
   {
    "duration": 26,
    "start_time": "2023-06-24T10:37:44.753Z"
   },
   {
    "duration": 115,
    "start_time": "2023-06-24T10:37:44.780Z"
   },
   {
    "duration": 7,
    "start_time": "2023-06-24T10:37:44.899Z"
   },
   {
    "duration": 23,
    "start_time": "2023-06-24T10:37:44.908Z"
   },
   {
    "duration": 67,
    "start_time": "2023-06-24T10:37:44.933Z"
   },
   {
    "duration": 46,
    "start_time": "2023-06-24T10:37:45.002Z"
   },
   {
    "duration": 55,
    "start_time": "2023-06-24T10:37:45.050Z"
   },
   {
    "duration": 22,
    "start_time": "2023-06-24T10:37:45.106Z"
   },
   {
    "duration": 131,
    "start_time": "2023-06-24T10:37:45.130Z"
   },
   {
    "duration": 4,
    "start_time": "2023-06-24T10:37:45.262Z"
   },
   {
    "duration": 719,
    "start_time": "2023-06-24T10:37:45.267Z"
   },
   {
    "duration": 3172001,
    "start_time": "2023-06-24T10:37:45.988Z"
   },
   {
    "duration": 5365,
    "start_time": "2023-06-24T11:30:37.991Z"
   },
   {
    "duration": 98,
    "start_time": "2023-06-24T11:30:43.357Z"
   },
   {
    "duration": 1215707,
    "start_time": "2023-06-24T11:30:43.456Z"
   }
  ],
  "kernelspec": {
   "display_name": "Python 3 (ipykernel)",
   "language": "python",
   "name": "python3"
  },
  "language_info": {
   "codemirror_mode": {
    "name": "ipython",
    "version": 3
   },
   "file_extension": ".py",
   "mimetype": "text/x-python",
   "name": "python",
   "nbconvert_exporter": "python",
   "pygments_lexer": "ipython3",
   "version": "3.9.13"
  },
  "toc": {
   "base_numbering": 1,
   "nav_menu": {},
   "number_sections": true,
   "sideBar": true,
   "skip_h1_title": true,
   "title_cell": "Table of Contents",
   "title_sidebar": "Contents",
   "toc_cell": false,
   "toc_position": {},
   "toc_section_display": true,
   "toc_window_display": false
  }
 },
 "nbformat": 4,
 "nbformat_minor": 2
}
