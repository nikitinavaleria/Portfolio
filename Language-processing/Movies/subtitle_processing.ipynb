{
 "cells": [
  {
   "cell_type": "markdown",
   "metadata": {},
   "source": [
    "# English level\n",
    "\n",
    "\n",
    "Просмотр фильмов на оригинальном языке - это популярный и действенный метод прокачаться при изучении иностранных языков. Важно выбрать фильм, который подходит студенту по уровню сложности, т.е. студент понимал 50-70 % диалогов. Чтобы выполнить это условие, преподаватель должен посмотреть фильм и решить, какому уровню он соответствует. Однако это требует больших временных затрат.\n",
    "\n",
    "### Задача:\n",
    "\n",
    "🔸 Разработать ML решение(многоклассовой классификации) для автоматического определения уровня сложности англоязычных фильмов  \n",
    "\n",
    "\n",
    "### Полученные данные \n",
    "\n",
    "1) 2 файла со словами, соответсвующими разным уровням владения американского английского и 2 аналогичных файла для британского английского. \n",
    "\n",
    "2) таблица *movies_labels.xlsx* соответствия фильмов и целевого признака - уровня владения языком. \n",
    "\n",
    "3) папка *Subtitles_all*, в которой можно найти 4 папки с фильмами по уровням А2 В1 В2 С1 и папку Subtitles, которую можно разложить по уровням с помощью таблицы movies_labels.xlsx\n"
   ]
  },
  {
   "cell_type": "markdown",
   "metadata": {},
   "source": [
    "### План работы с проектом\n",
    "\n",
    "1) **Загрузка библиотек и сбор данных.** На данном этапе проводится читка данных, объединение таблиц, первичный анализ на взвешенность классов\n",
    "\n",
    "2) **Предобработка данных.** Здесь происходит обработка от лишних символов, приведение слов к общему виду, удаление лишних данных и слов. Также проводится разделение на выборки для дальнейшего обучения и векторизация данных\n",
    "\n",
    "3) **Обучение моделей.** Проверка различных моделей, поиск оптимальных параметров и лучшей метрики, сравнение полученных результатов\n",
    "\n",
    "4) **Вывод.** Итоги проделанной работы \n",
    "\n",
    "5) **Улучшения.**\n",
    "\n",
    "\n",
    "\n",
    "\n"
   ]
  },
  {
   "cell_type": "markdown",
   "metadata": {},
   "source": [
    "## Загрузка библиотек и сбор данных"
   ]
  },
  {
   "cell_type": "code",
   "execution_count": 1,
   "metadata": {},
   "outputs": [],
   "source": [
    "import os\n",
    "import pysrt\n",
    "import warnings\n",
    "\n",
    "import numpy as np\n",
    "import pandas as pd\n",
    "import seaborn as sns\n",
    "import re\n",
    "from tqdm import tqdm\n",
    "\n",
    "\n",
    "import nltk\n",
    "from nltk.corpus import stopwords\n",
    "from nltk.tokenize import word_tokenize\n",
    "from pymystem3 import Mystem\n",
    "import matplotlib.pyplot as plt\n",
    " \n",
    "\n",
    "from sklearn.model_selection import (train_test_split, \n",
    "                                     cross_val_score, \n",
    "                                     GridSearchCV)\n",
    "\n",
    "from sklearn.feature_extraction.text import CountVectorizer\n",
    "from sklearn.feature_extraction.text import TfidfVectorizer\n",
    "\n",
    "from sklearn.metrics import accuracy_score, f1_score\n",
    "from sklearn.metrics import plot_confusion_matrix\n",
    "\n",
    "from sklearn.naive_bayes import (MultinomialNB,\n",
    "                                GaussianNB)\n",
    "from sklearn.svm import SVC\n",
    "from catboost import CatBoostClassifier\n",
    "\n",
    "STATE = 42"
   ]
  },
  {
   "cell_type": "code",
   "execution_count": 2,
   "metadata": {},
   "outputs": [],
   "source": [
    "#загрузим файл с размеченными фильмами\n",
    "pth1 = 'C:/Users/Lerusik/Desktop/Мастерская 2\\movies_labels.xlsx'\n",
    "movies_labels = pd.read_excel(pth1) \n",
    "\n",
    "#приведем к нижнему регистру названия столбцов\n",
    "movies_labels.columns = movies_labels.columns.str.lower()"
   ]
  },
  {
   "cell_type": "code",
   "execution_count": 3,
   "metadata": {},
   "outputs": [],
   "source": [
    "#загрузим файлы с размеченными фильмами\n",
    "name_list = []\n",
    "sub_list = []\n",
    "level_list = []\n",
    "\n",
    "subtitles_dir = os.listdir('Subtitles_all')\n",
    "for i in subtitles_dir:\n",
    "    path = f'Subtitles_all/{i}'\n",
    "    path_files = os.listdir(path)\n",
    "    \n",
    "    for sub in path_files:\n",
    "        text = pysrt.open(f'Subtitles_all/{i}/{sub}', encoding='latin-1')        \n",
    "        name_list.append(sub[:-4])\n",
    "        level_list.append(i)\n",
    "        sub_list.append([text.text])\n",
    "\n",
    "data = pd.DataFrame({'movie': name_list, 'subtitles': sub_list, 'level': level_list})\n",
    "\n",
    "#объединим таблицы\n",
    "data = data.merge(movies_labels, on='movie')"
   ]
  },
  {
   "cell_type": "code",
   "execution_count": 4,
   "metadata": {},
   "outputs": [],
   "source": [
    "# Объявим функцию level_func с одним параметром:\n",
    "def level_func(rows):\n",
    "    \"\"\"\n",
    "    Функция проверяет совпадение уровней из разных источников и меняет на известное\n",
    "    \n",
    "    Параметры:\n",
    "    rows - выбранные столбцы датафрейма.\n",
    "    \"\"\"\n",
    "    different_level = 0\n",
    "    level_x = rows['level_x']\n",
    "    level_y = rows['level_y']\n",
    "    if level_x != level_y:\n",
    "        level_x = level_y\n",
    "        different_level += 1\n",
    "    \n",
    "    return level_x\n",
    "        "
   ]
  },
  {
   "cell_type": "code",
   "execution_count": 5,
   "metadata": {},
   "outputs": [],
   "source": [
    "#применим функцию\n",
    "data['level_x'] = data.apply(level_func, axis=1)\n",
    "#удалим ненужные столбцы\n",
    "data.drop(columns=['movie', 'id', 'level_y'], axis= 1 , inplace= True )\n",
    "#переименуем название столбца\n",
    "data.columns = data.columns.str.replace('level_x', 'level')"
   ]
  },
  {
   "cell_type": "code",
   "execution_count": 6,
   "metadata": {},
   "outputs": [
    {
     "data": {
      "text/plain": [
       "<AxesSubplot:xlabel='level', ylabel='count'>"
      ]
     },
     "execution_count": 6,
     "metadata": {},
     "output_type": "execute_result"
    },
    {
     "data": {
      "image/png": "[encoded data removed]",
      "text/plain": [
       "<Figure size 640x480 with 1 Axes>"
      ]
     },
     "metadata": {},
     "output_type": "display_data"
    }
   ],
   "source": [
    "#посмотрим уникальные значения уровней и их распределение\n",
    "sns.countplot(data=data, x=\"level\")"
   ]
  },
  {
   "cell_type": "markdown",
   "metadata": {},
   "source": [
    "В случае с двойными метками поставим ограничение: более сложный фильм, чтобы пользователь точно понял контекст фильма."
   ]
  },
  {
   "cell_type": "code",
   "execution_count": 7,
   "metadata": {},
   "outputs": [],
   "source": [
    "label_dict = {'A2/A2+': 'A2',\n",
    "              'A2/A2+, B1': 'B1',\n",
    "              'B1, B2': 'B2'}\n",
    "# заменим метки\n",
    "data['level'] = data['level'].replace(label_dict)"
   ]
  },
  {
   "cell_type": "code",
   "execution_count": 8,
   "metadata": {
    "scrolled": true
   },
   "outputs": [
    {
     "data": {
      "text/plain": [
       "B2    105\n",
       "B1     58\n",
       "C1     39\n",
       "A2     31\n",
       "Name: level, dtype: int64"
      ]
     },
     "execution_count": 8,
     "metadata": {},
     "output_type": "execute_result"
    }
   ],
   "source": [
    "data['level'].value_counts()"
   ]
  },
  {
   "cell_type": "markdown",
   "metadata": {},
   "source": [
    "Видим перекос, но пока ничего не делаем с этим за неимением других данных и малым количеством"
   ]
  },
  {
   "cell_type": "markdown",
   "metadata": {},
   "source": [
    "## Предобработка данных"
   ]
  },
  {
   "cell_type": "markdown",
   "metadata": {},
   "source": [
    "### Обработка регулярными выражениями\n",
    "\n",
    "Очистка от «мусора». В данном случае очистка подразумевает удаление спецсимволов, опечаток, слов с неправильной кодировкой, знаков пунктуации.  "
   ]
  },
  {
   "cell_type": "code",
   "execution_count": 9,
   "metadata": {},
   "outputs": [],
   "source": [
    "#del_n = r'[\\n][a-z]*'               # перенос каретки на пробел\n",
    "del_tags = r'<[^>]*>'       # html-теги на пробел\n",
    "del_comments = r'[\\[[a-z]+\\]]' # комменты в скобках меняем на пробел\n",
    "del_letters = r'[^\\w\\s]' # все что не буквы меняем на пробел\n",
    "del_spaces = r'([ ])\\1+' # повторяющиеся пробелы меняем на один пробел\n",
    "del_dots = r'[\\.]+' # многоточие меняем на точку\n",
    "del_sym = r'[.,\"\\-?:!;]' # знаки препинания кроме апострофа"
   ]
  },
  {
   "cell_type": "code",
   "execution_count": 10,
   "metadata": {},
   "outputs": [],
   "source": [
    "#удалим все цифры \n",
    "#удалим все n перед словами"
   ]
  },
  {
   "cell_type": "code",
   "execution_count": 11,
   "metadata": {},
   "outputs": [],
   "source": [
    "def prepare_text(text):\n",
    "    text = str(text).lower() # текст в нижний регистр\n",
    "    #text = re.sub(del_n, ' ', text) # перенос каретки \n",
    "    text = re.sub(del_tags, ' ', text) # html-теги\n",
    "    text = re.sub(del_comments, ' ', text) # комменты в скобках\n",
    "    text = re.sub(del_letters, ' ', text) # все что не буквы\n",
    "    text = re.sub(del_spaces, ' ', text) # повторяющиеся пробелы\n",
    "    text = re.sub(del_dots, ' ', text) # многоточие\n",
    "    text = re.sub(del_sym, ' ', text) # знаки препинания кроме апострофа\n",
    "    text = re.sub('www', '', text) # кое-где остаётся www, то же меняем на пустую строку\n",
    "    text = text.lstrip().rstrip().replace(\"\\n\",\"\") # обрезка пробелов слева\n",
    "    text = text.encode('ascii', 'ignore').decode() # удаляем все что не ascii символы\n",
    "    text = [w for w in text.split() if len(w) >= 3] # удаляем слова короче 3х символов\n",
    "    text = ' '.join(text)\n",
    "    return text"
   ]
  },
  {
   "cell_type": "code",
   "execution_count": 12,
   "metadata": {},
   "outputs": [
    {
     "data": {
      "text/plain": [
       "0      [( bugs chittering )\\n( brakes squeak )\\n- ( e...\n",
       "1      [- ( birds chirping )\\n- ( bugs chittering )\\n...\n",
       "2      [( thunder rumbling )\\nMerle:\\nThat's right. Y...\n",
       "3      [( birds chirping )\\n- What?\\n- Nothing.\\nIt's...\n",
       "4      [- ( walkie-talkie squawks )\\n- Rick: Morgan,\\...\n",
       "                             ...                        \n",
       "228    [<i>Life\\nFoundation Control, this is LF1.</i>...\n",
       "229    [<i>What am I doing</i>\\n<i>with my life?</i>\\...\n",
       "230    [<i>Oh, my God...</i>\\n<i>...it's full-on doub...\n",
       "231    [LUCY: <i>Okay, there are two things that</i>\\...\n",
       "232    [Fear. Treachery Bloodlust.\\nThousands of year...\n",
       "Name: subtitles, Length: 233, dtype: object"
      ]
     },
     "execution_count": 12,
     "metadata": {},
     "output_type": "execute_result"
    }
   ],
   "source": [
    "#до\n",
    "data['subtitles']"
   ]
  },
  {
   "cell_type": "code",
   "execution_count": 13,
   "metadata": {
    "scrolled": true
   },
   "outputs": [
    {
     "data": {
      "text/plain": [
       "0      bugs chittering brakes squeak engine stops tru...\n",
       "1      birds chirping bugs chittering nboy mom nright...\n",
       "2      thunder rumbling nmerle nthat right you heard ...\n",
       "3      birds chirping what nothing nit not nothing ni...\n",
       "4      walkie talkie squawks rick morgan don know you...\n",
       "                             ...                        \n",
       "228    life nfoundation control this lf1 the specimen...\n",
       "229    what doing with life pale should get out more ...\n",
       "230    god full double rainbow all nthe way across th...\n",
       "231    lucy okay there are two things that remember a...\n",
       "232    fear treachery bloodlust nthousands years ago ...\n",
       "Name: subtitles, Length: 233, dtype: object"
      ]
     },
     "execution_count": 13,
     "metadata": {},
     "output_type": "execute_result"
    }
   ],
   "source": [
    "#применим функцию очистки\n",
    "data['subtitles'] = data['subtitles'].apply(prepare_text)\n",
    "#после\n",
    "data['subtitles']"
   ]
  },
  {
   "cell_type": "markdown",
   "metadata": {},
   "source": [
    "### Стемминг и лемматизация\n",
    "\n",
    "Стемминг — это процесс нахождения основы слова, а лемматизация — процесс нахождения нормальной формы слова. \n",
    "\n",
    "Удаление стоп‑слов. К стоп‑словам в рамках обработки и анализа текстовой информации обычно относят служебные части речи, такие как частицы, союзы, предлоги и междометия, которые часто можно встретить в тексте"
   ]
  },
  {
   "cell_type": "code",
   "execution_count": 14,
   "metadata": {},
   "outputs": [],
   "source": [
    "#additional_stopwords = ['это',]\n",
    "stop_words = stopwords.words('english') #+ additional_stopwords\n",
    "\n",
    "def del_stopwords(text):\n",
    "    clean_tokens = tuple(\n",
    "        map( lambda x: x if x not in stop_words else '', word_tokenize(text) )\n",
    "    )\n",
    "    \n",
    "    res_text = ' '.join(clean_tokens)\n",
    "    return res_text\n",
    "\n",
    "\n",
    "m = Mystem()\n",
    "\n",
    "def lemmatize(text):    \n",
    "    lemmatized_text = ''.join(m.lemmatize(text))\n",
    "    return lemmatized_text.split('|')"
   ]
  },
  {
   "cell_type": "code",
   "execution_count": 15,
   "metadata": {},
   "outputs": [],
   "source": [
    "data['subtitles'] = data['subtitles'].apply(del_stopwords)\n",
    "data['subtitles'] = data['subtitles'].apply(lemmatize)"
   ]
  },
  {
   "cell_type": "code",
   "execution_count": 16,
   "metadata": {},
   "outputs": [
    {
     "data": {
      "text/plain": [
       "0      [bugs chittering brakes squeak engine stops tr...\n",
       "1      [birds chirping bugs chittering nboy mom nrigh...\n",
       "2      [thunder rumbling nmerle nthat right  heard bi...\n",
       "3      [birds chirping  nothing nit  nothing nit alwa...\n",
       "4      [walkie talkie squawks rick morgan  know     k...\n",
       "                             ...                        \n",
       "228    [life nfoundation control  lf1  specimens  sec...\n",
       "229    [   life pale  get    eat better posture terri...\n",
       "230    [god full double rainbow  nthe way across  sky...\n",
       "231    [lucy okay   two things  remember  childhood  ...\n",
       "232    [fear treachery bloodlust nthousands years ago...\n",
       "Name: subtitles, Length: 233, dtype: object"
      ]
     },
     "execution_count": 16,
     "metadata": {},
     "output_type": "execute_result"
    }
   ],
   "source": [
    "data['subtitles']"
   ]
  },
  {
   "cell_type": "markdown",
   "metadata": {},
   "source": [
    "### Разделение на выборки"
   ]
  },
  {
   "cell_type": "code",
   "execution_count": 17,
   "metadata": {},
   "outputs": [],
   "source": [
    "features = data['subtitles']\n",
    "target = data['level']"
   ]
  },
  {
   "cell_type": "code",
   "execution_count": 18,
   "metadata": {},
   "outputs": [],
   "source": [
    "features_train, features_test, target_train, target_test = train_test_split(features, target,\n",
    "                                                                            test_size=0.25, \n",
    "                                                                            random_state=STATE, \n",
    "                                                                            shuffle=True)"
   ]
  },
  {
   "cell_type": "markdown",
   "metadata": {},
   "source": [
    "### Векторизация"
   ]
  },
  {
   "cell_type": "code",
   "execution_count": 19,
   "metadata": {},
   "outputs": [],
   "source": [
    "tfidf_vectorizer = TfidfVectorizer()\n",
    "\n",
    "tfidf_train = tfidf_vectorizer.fit_transform(features_train.astype(str)).toarray() \n",
    "tfidf_test = tfidf_vectorizer.transform(features_test.astype(str)).toarray() "
   ]
  },
  {
   "cell_type": "code",
   "execution_count": 20,
   "metadata": {},
   "outputs": [],
   "source": [
    "count_vectorizer = CountVectorizer()\n",
    "\n",
    "cv_train = count_vectorizer.fit_transform(features_train.astype(str))\n",
    "cv_test = count_vectorizer.transform(features_test.astype(str))"
   ]
  },
  {
   "cell_type": "markdown",
   "metadata": {},
   "source": [
    "## Построение моделей\n"
   ]
  },
  {
   "cell_type": "markdown",
   "metadata": {},
   "source": [
    "### CatBoostClassifier"
   ]
  },
  {
   "cell_type": "code",
   "execution_count": null,
   "metadata": {},
   "outputs": [
    {
     "name": "stdout",
     "output_type": "stream",
     "text": [
      "Learning rate set to 0.071551\n",
      "0:\tlearn: 1.3530881\ttotal: 676ms\tremaining: 11m 15s\n",
      "1:\tlearn: 1.3320619\ttotal: 1.13s\tremaining: 9m 25s\n",
      "2:\tlearn: 1.2994139\ttotal: 1.62s\tremaining: 8m 58s\n",
      "3:\tlearn: 1.2682466\ttotal: 2.09s\tremaining: 8m 41s\n",
      "4:\tlearn: 1.2410163\ttotal: 2.56s\tremaining: 8m 28s\n",
      "5:\tlearn: 1.2159496\ttotal: 3.04s\tremaining: 8m 24s\n",
      "6:\tlearn: 1.2014030\ttotal: 3.52s\tremaining: 8m 19s\n",
      "7:\tlearn: 1.1849151\ttotal: 3.97s\tremaining: 8m 12s\n",
      "8:\tlearn: 1.1592545\ttotal: 4.45s\tremaining: 8m 9s\n",
      "9:\tlearn: 1.1421770\ttotal: 4.89s\tremaining: 8m 4s\n",
      "10:\tlearn: 1.1152976\ttotal: 5.34s\tremaining: 8m\n",
      "11:\tlearn: 1.0984360\ttotal: 5.79s\tremaining: 7m 56s\n",
      "12:\tlearn: 1.0796608\ttotal: 6.22s\tremaining: 7m 52s\n",
      "13:\tlearn: 1.0688078\ttotal: 6.67s\tremaining: 7m 49s\n",
      "14:\tlearn: 1.0509902\ttotal: 7.12s\tremaining: 7m 47s\n",
      "15:\tlearn: 1.0364809\ttotal: 7.56s\tremaining: 7m 45s\n",
      "16:\tlearn: 1.0163990\ttotal: 8s\tremaining: 7m 42s\n",
      "17:\tlearn: 1.0086716\ttotal: 8.46s\tremaining: 7m 41s\n",
      "18:\tlearn: 0.9955849\ttotal: 8.9s\tremaining: 7m 39s\n",
      "19:\tlearn: 0.9804046\ttotal: 9.37s\tremaining: 7m 39s\n",
      "20:\tlearn: 0.9657904\ttotal: 9.82s\tremaining: 7m 37s\n",
      "21:\tlearn: 0.9566533\ttotal: 10.3s\tremaining: 7m 36s\n",
      "22:\tlearn: 0.9375790\ttotal: 10.7s\tremaining: 7m 35s\n",
      "23:\tlearn: 0.9243764\ttotal: 11.2s\tremaining: 7m 36s\n",
      "24:\tlearn: 0.9114912\ttotal: 11.8s\tremaining: 7m 39s\n",
      "25:\tlearn: 0.8989243\ttotal: 12.4s\tremaining: 7m 44s\n",
      "26:\tlearn: 0.8884092\ttotal: 13s\tremaining: 7m 48s\n",
      "27:\tlearn: 0.8722351\ttotal: 13.6s\tremaining: 7m 51s\n",
      "28:\tlearn: 0.8627170\ttotal: 14.1s\tremaining: 7m 53s\n",
      "29:\tlearn: 0.8510913\ttotal: 14.7s\tremaining: 7m 55s\n",
      "30:\tlearn: 0.8393233\ttotal: 15.2s\tremaining: 7m 54s\n",
      "31:\tlearn: 0.8275115\ttotal: 15.7s\tremaining: 7m 55s\n",
      "32:\tlearn: 0.8175684\ttotal: 16.2s\tremaining: 7m 53s\n",
      "33:\tlearn: 0.8064259\ttotal: 16.6s\tremaining: 7m 52s\n",
      "34:\tlearn: 0.7966301\ttotal: 17.1s\tremaining: 7m 52s\n",
      "35:\tlearn: 0.7890453\ttotal: 17.6s\tremaining: 7m 51s\n",
      "36:\tlearn: 0.7832587\ttotal: 18s\tremaining: 7m 49s\n",
      "37:\tlearn: 0.7737085\ttotal: 18.5s\tremaining: 7m 48s\n",
      "38:\tlearn: 0.7641777\ttotal: 19s\tremaining: 7m 47s\n",
      "39:\tlearn: 0.7560497\ttotal: 19.4s\tremaining: 7m 45s\n",
      "40:\tlearn: 0.7464466\ttotal: 19.9s\tremaining: 7m 45s\n",
      "41:\tlearn: 0.7365689\ttotal: 20.4s\tremaining: 7m 44s\n",
      "42:\tlearn: 0.7286945\ttotal: 20.8s\tremaining: 7m 43s\n",
      "43:\tlearn: 0.7233883\ttotal: 21.3s\tremaining: 7m 42s\n",
      "44:\tlearn: 0.7170238\ttotal: 21.7s\tremaining: 7m 41s\n",
      "45:\tlearn: 0.7084075\ttotal: 22.2s\tremaining: 7m 40s\n",
      "46:\tlearn: 0.7020427\ttotal: 22.7s\tremaining: 7m 39s\n",
      "47:\tlearn: 0.6980233\ttotal: 23.1s\tremaining: 7m 38s\n",
      "48:\tlearn: 0.6925852\ttotal: 23.6s\tremaining: 7m 37s\n",
      "49:\tlearn: 0.6837119\ttotal: 24s\tremaining: 7m 36s\n",
      "50:\tlearn: 0.6765001\ttotal: 24.5s\tremaining: 7m 35s\n",
      "51:\tlearn: 0.6688244\ttotal: 25s\tremaining: 7m 34s\n",
      "52:\tlearn: 0.6634387\ttotal: 25.4s\tremaining: 7m 34s\n",
      "53:\tlearn: 0.6559513\ttotal: 25.9s\tremaining: 7m 33s\n",
      "54:\tlearn: 0.6460679\ttotal: 26.3s\tremaining: 7m 32s\n",
      "55:\tlearn: 0.6364342\ttotal: 26.8s\tremaining: 7m 32s\n",
      "56:\tlearn: 0.6349545\ttotal: 27s\tremaining: 7m 26s\n",
      "57:\tlearn: 0.6272628\ttotal: 27.6s\tremaining: 7m 27s\n",
      "58:\tlearn: 0.6195963\ttotal: 28.1s\tremaining: 7m 28s\n",
      "59:\tlearn: 0.6130676\ttotal: 28.6s\tremaining: 7m 28s\n",
      "60:\tlearn: 0.6045886\ttotal: 29.2s\tremaining: 7m 29s\n",
      "61:\tlearn: 0.5968049\ttotal: 29.7s\tremaining: 7m 30s\n",
      "62:\tlearn: 0.5897880\ttotal: 30.2s\tremaining: 7m 29s\n",
      "63:\tlearn: 0.5871379\ttotal: 30.7s\tremaining: 7m 29s\n",
      "64:\tlearn: 0.5822348\ttotal: 31.2s\tremaining: 7m 29s\n",
      "65:\tlearn: 0.5770400\ttotal: 31.7s\tremaining: 7m 28s\n",
      "66:\tlearn: 0.5702928\ttotal: 32.2s\tremaining: 7m 28s\n",
      "67:\tlearn: 0.5636839\ttotal: 32.7s\tremaining: 7m 28s\n",
      "68:\tlearn: 0.5572531\ttotal: 33.2s\tremaining: 7m 27s\n",
      "69:\tlearn: 0.5511369\ttotal: 33.6s\tremaining: 7m 26s\n",
      "70:\tlearn: 0.5443117\ttotal: 34.1s\tremaining: 7m 26s\n",
      "71:\tlearn: 0.5366757\ttotal: 34.6s\tremaining: 7m 25s\n",
      "72:\tlearn: 0.5308810\ttotal: 35.1s\tremaining: 7m 25s\n",
      "73:\tlearn: 0.5260836\ttotal: 35.6s\tremaining: 7m 25s\n",
      "74:\tlearn: 0.5216996\ttotal: 36s\tremaining: 7m 24s\n",
      "75:\tlearn: 0.5144935\ttotal: 36.5s\tremaining: 7m 23s\n",
      "76:\tlearn: 0.5087954\ttotal: 37s\tremaining: 7m 23s\n",
      "77:\tlearn: 0.5035668\ttotal: 37.4s\tremaining: 7m 22s\n",
      "78:\tlearn: 0.4982726\ttotal: 37.9s\tremaining: 7m 21s\n",
      "79:\tlearn: 0.4868426\ttotal: 38.4s\tremaining: 7m 21s\n",
      "80:\tlearn: 0.4820317\ttotal: 38.8s\tremaining: 7m 20s\n",
      "81:\tlearn: 0.4763519\ttotal: 39.3s\tremaining: 7m 20s\n",
      "82:\tlearn: 0.4726064\ttotal: 39.8s\tremaining: 7m 19s\n",
      "83:\tlearn: 0.4666670\ttotal: 40.3s\tremaining: 7m 19s\n",
      "84:\tlearn: 0.4604065\ttotal: 40.7s\tremaining: 7m 18s\n",
      "85:\tlearn: 0.4539480\ttotal: 41.2s\tremaining: 7m 17s\n",
      "86:\tlearn: 0.4494260\ttotal: 41.7s\tremaining: 7m 17s\n",
      "87:\tlearn: 0.4441073\ttotal: 42.2s\tremaining: 7m 17s\n",
      "88:\tlearn: 0.4403651\ttotal: 42.6s\tremaining: 7m 16s\n",
      "89:\tlearn: 0.4351182\ttotal: 43.2s\tremaining: 7m 16s\n",
      "90:\tlearn: 0.4289456\ttotal: 43.7s\tremaining: 7m 16s\n",
      "91:\tlearn: 0.4242295\ttotal: 44.3s\tremaining: 7m 16s\n",
      "92:\tlearn: 0.4171110\ttotal: 44.8s\tremaining: 7m 16s\n",
      "93:\tlearn: 0.4118474\ttotal: 45.3s\tremaining: 7m 16s\n",
      "94:\tlearn: 0.4058557\ttotal: 45.9s\tremaining: 7m 16s\n",
      "95:\tlearn: 0.3994469\ttotal: 46.4s\tremaining: 7m 16s\n",
      "96:\tlearn: 0.3927642\ttotal: 46.9s\tremaining: 7m 16s\n",
      "97:\tlearn: 0.3883227\ttotal: 47.3s\tremaining: 7m 15s\n",
      "98:\tlearn: 0.3842862\ttotal: 47.8s\tremaining: 7m 15s\n",
      "99:\tlearn: 0.3784096\ttotal: 48.3s\tremaining: 7m 14s\n",
      "100:\tlearn: 0.3732388\ttotal: 48.8s\tremaining: 7m 14s\n",
      "101:\tlearn: 0.3673942\ttotal: 49.2s\tremaining: 7m 13s\n",
      "102:\tlearn: 0.3628104\ttotal: 49.8s\tremaining: 7m 13s\n",
      "103:\tlearn: 0.3584118\ttotal: 50.3s\tremaining: 7m 13s\n",
      "104:\tlearn: 0.3544392\ttotal: 50.7s\tremaining: 7m 12s\n",
      "105:\tlearn: 0.3509526\ttotal: 51.2s\tremaining: 7m 12s\n",
      "106:\tlearn: 0.3473396\ttotal: 51.7s\tremaining: 7m 11s\n",
      "107:\tlearn: 0.3441932\ttotal: 52.2s\tremaining: 7m 11s\n",
      "108:\tlearn: 0.3402920\ttotal: 52.7s\tremaining: 7m 10s\n",
      "109:\tlearn: 0.3358619\ttotal: 53.2s\tremaining: 7m 10s\n",
      "110:\tlearn: 0.3314432\ttotal: 53.6s\tremaining: 7m 9s\n",
      "111:\tlearn: 0.3268493\ttotal: 54.1s\tremaining: 7m 9s\n",
      "112:\tlearn: 0.3222548\ttotal: 54.6s\tremaining: 7m 8s\n",
      "113:\tlearn: 0.3194504\ttotal: 55.1s\tremaining: 7m 8s\n",
      "114:\tlearn: 0.3157747\ttotal: 55.6s\tremaining: 7m 7s\n",
      "115:\tlearn: 0.3106984\ttotal: 56.1s\tremaining: 7m 7s\n",
      "116:\tlearn: 0.3064838\ttotal: 56.5s\tremaining: 7m 6s\n",
      "117:\tlearn: 0.3028263\ttotal: 57s\tremaining: 7m 6s\n",
      "118:\tlearn: 0.2984937\ttotal: 57.5s\tremaining: 7m 5s\n",
      "119:\tlearn: 0.2949633\ttotal: 58s\tremaining: 7m 5s\n",
      "120:\tlearn: 0.2899023\ttotal: 58.5s\tremaining: 7m 4s\n",
      "121:\tlearn: 0.2857709\ttotal: 58.9s\tremaining: 7m 4s\n",
      "122:\tlearn: 0.2822886\ttotal: 59.5s\tremaining: 7m 4s\n",
      "123:\tlearn: 0.2779783\ttotal: 1m\tremaining: 7m 4s\n",
      "124:\tlearn: 0.2746429\ttotal: 1m\tremaining: 7m 4s\n",
      "125:\tlearn: 0.2715127\ttotal: 1m 1s\tremaining: 7m 4s\n",
      "126:\tlearn: 0.2664624\ttotal: 1m 1s\tremaining: 7m 4s\n",
      "127:\tlearn: 0.2629406\ttotal: 1m 2s\tremaining: 7m 3s\n",
      "128:\tlearn: 0.2589836\ttotal: 1m 2s\tremaining: 7m 3s\n",
      "129:\tlearn: 0.2552778\ttotal: 1m 3s\tremaining: 7m 2s\n",
      "130:\tlearn: 0.2526250\ttotal: 1m 3s\tremaining: 7m 2s\n",
      "131:\tlearn: 0.2489996\ttotal: 1m 4s\tremaining: 7m 1s\n",
      "132:\tlearn: 0.2458579\ttotal: 1m 4s\tremaining: 7m 1s\n",
      "133:\tlearn: 0.2429691\ttotal: 1m 5s\tremaining: 7m\n",
      "134:\tlearn: 0.2397087\ttotal: 1m 5s\tremaining: 6m 59s\n",
      "135:\tlearn: 0.2374134\ttotal: 1m 6s\tremaining: 6m 59s\n",
      "136:\tlearn: 0.2344552\ttotal: 1m 6s\tremaining: 6m 58s\n",
      "137:\tlearn: 0.2328451\ttotal: 1m 6s\tremaining: 6m 58s\n",
      "138:\tlearn: 0.2301439\ttotal: 1m 7s\tremaining: 6m 58s\n",
      "139:\tlearn: 0.2277181\ttotal: 1m 8s\tremaining: 6m 58s\n",
      "140:\tlearn: 0.2250496\ttotal: 1m 8s\tremaining: 6m 57s\n",
      "141:\tlearn: 0.2223675\ttotal: 1m 9s\tremaining: 6m 57s\n",
      "142:\tlearn: 0.2201809\ttotal: 1m 9s\tremaining: 6m 57s\n",
      "143:\tlearn: 0.2178644\ttotal: 1m 10s\tremaining: 6m 56s\n",
      "144:\tlearn: 0.2141853\ttotal: 1m 10s\tremaining: 6m 56s\n",
      "145:\tlearn: 0.2119009\ttotal: 1m 11s\tremaining: 6m 55s\n",
      "146:\tlearn: 0.2101851\ttotal: 1m 11s\tremaining: 6m 55s\n",
      "147:\tlearn: 0.2081243\ttotal: 1m 12s\tremaining: 6m 54s\n",
      "148:\tlearn: 0.2054332\ttotal: 1m 12s\tremaining: 6m 54s\n",
      "149:\tlearn: 0.2033758\ttotal: 1m 13s\tremaining: 6m 53s\n",
      "150:\tlearn: 0.2010633\ttotal: 1m 13s\tremaining: 6m 53s\n",
      "151:\tlearn: 0.1988975\ttotal: 1m 13s\tremaining: 6m 52s\n",
      "152:\tlearn: 0.1970603\ttotal: 1m 14s\tremaining: 6m 52s\n",
      "153:\tlearn: 0.1949962\ttotal: 1m 14s\tremaining: 6m 51s\n",
      "154:\tlearn: 0.1926010\ttotal: 1m 15s\tremaining: 6m 51s\n",
      "155:\tlearn: 0.1896312\ttotal: 1m 16s\tremaining: 6m 51s\n",
      "156:\tlearn: 0.1880629\ttotal: 1m 16s\tremaining: 6m 51s\n",
      "157:\tlearn: 0.1854296\ttotal: 1m 17s\tremaining: 6m 51s\n",
      "158:\tlearn: 0.1838884\ttotal: 1m 17s\tremaining: 6m 51s\n",
      "159:\tlearn: 0.1823381\ttotal: 1m 18s\tremaining: 6m 50s\n",
      "160:\tlearn: 0.1801470\ttotal: 1m 18s\tremaining: 6m 50s\n",
      "161:\tlearn: 0.1782183\ttotal: 1m 19s\tremaining: 6m 49s\n",
      "162:\tlearn: 0.1756896\ttotal: 1m 19s\tremaining: 6m 49s\n",
      "163:\tlearn: 0.1739424\ttotal: 1m 20s\tremaining: 6m 48s\n",
      "164:\tlearn: 0.1728983\ttotal: 1m 20s\tremaining: 6m 48s\n",
      "165:\tlearn: 0.1710703\ttotal: 1m 21s\tremaining: 6m 47s\n",
      "166:\tlearn: 0.1692543\ttotal: 1m 21s\tremaining: 6m 47s\n",
      "167:\tlearn: 0.1682103\ttotal: 1m 22s\tremaining: 6m 46s\n",
      "168:\tlearn: 0.1658176\ttotal: 1m 22s\tremaining: 6m 46s\n",
      "169:\tlearn: 0.1646105\ttotal: 1m 23s\tremaining: 6m 45s\n",
      "170:\tlearn: 0.1634311\ttotal: 1m 23s\tremaining: 6m 45s\n",
      "171:\tlearn: 0.1615519\ttotal: 1m 24s\tremaining: 6m 44s\n",
      "172:\tlearn: 0.1603406\ttotal: 1m 24s\tremaining: 6m 44s\n",
      "173:\tlearn: 0.1589542\ttotal: 1m 25s\tremaining: 6m 43s\n",
      "174:\tlearn: 0.1580546\ttotal: 1m 25s\tremaining: 6m 43s\n",
      "175:\tlearn: 0.1566644\ttotal: 1m 26s\tremaining: 6m 42s\n",
      "176:\tlearn: 0.1556314\ttotal: 1m 26s\tremaining: 6m 42s\n",
      "177:\tlearn: 0.1541075\ttotal: 1m 27s\tremaining: 6m 42s\n",
      "178:\tlearn: 0.1523089\ttotal: 1m 27s\tremaining: 6m 41s\n",
      "179:\tlearn: 0.1509446\ttotal: 1m 28s\tremaining: 6m 41s\n",
      "180:\tlearn: 0.1494304\ttotal: 1m 28s\tremaining: 6m 40s\n",
      "181:\tlearn: 0.1480108\ttotal: 1m 29s\tremaining: 6m 40s\n",
      "182:\tlearn: 0.1469424\ttotal: 1m 29s\tremaining: 6m 39s\n",
      "183:\tlearn: 0.1455128\ttotal: 1m 30s\tremaining: 6m 39s\n",
      "184:\tlearn: 0.1438210\ttotal: 1m 30s\tremaining: 6m 39s\n",
      "185:\tlearn: 0.1424707\ttotal: 1m 31s\tremaining: 6m 38s\n",
      "186:\tlearn: 0.1413788\ttotal: 1m 31s\tremaining: 6m 38s\n",
      "187:\tlearn: 0.1402524\ttotal: 1m 32s\tremaining: 6m 38s\n",
      "188:\tlearn: 0.1389385\ttotal: 1m 32s\tremaining: 6m 38s\n",
      "189:\tlearn: 0.1378335\ttotal: 1m 33s\tremaining: 6m 38s\n",
      "190:\tlearn: 0.1365442\ttotal: 1m 33s\tremaining: 6m 38s\n",
      "191:\tlearn: 0.1354654\ttotal: 1m 34s\tremaining: 6m 37s\n",
      "192:\tlearn: 0.1346704\ttotal: 1m 35s\tremaining: 6m 37s\n",
      "193:\tlearn: 0.1338862\ttotal: 1m 35s\tremaining: 6m 37s\n",
      "194:\tlearn: 0.1325372\ttotal: 1m 36s\tremaining: 6m 36s\n",
      "195:\tlearn: 0.1317688\ttotal: 1m 36s\tremaining: 6m 36s\n",
      "196:\tlearn: 0.1306649\ttotal: 1m 37s\tremaining: 6m 35s\n",
      "197:\tlearn: 0.1298550\ttotal: 1m 37s\tremaining: 6m 35s\n",
      "198:\tlearn: 0.1291107\ttotal: 1m 38s\tremaining: 6m 34s\n",
      "199:\tlearn: 0.1281509\ttotal: 1m 38s\tremaining: 6m 34s\n",
      "200:\tlearn: 0.1273941\ttotal: 1m 38s\tremaining: 6m 33s\n",
      "201:\tlearn: 0.1265845\ttotal: 1m 39s\tremaining: 6m 33s\n",
      "202:\tlearn: 0.1254817\ttotal: 1m 39s\tremaining: 6m 32s\n",
      "203:\tlearn: 0.1246411\ttotal: 1m 40s\tremaining: 6m 32s\n",
      "204:\tlearn: 0.1236293\ttotal: 1m 40s\tremaining: 6m 31s\n",
      "205:\tlearn: 0.1224739\ttotal: 1m 41s\tremaining: 6m 31s\n",
      "206:\tlearn: 0.1218287\ttotal: 1m 41s\tremaining: 6m 30s\n",
      "207:\tlearn: 0.1206199\ttotal: 1m 42s\tremaining: 6m 30s\n",
      "208:\tlearn: 0.1196227\ttotal: 1m 42s\tremaining: 6m 29s\n",
      "209:\tlearn: 0.1187965\ttotal: 1m 43s\tremaining: 6m 29s\n",
      "210:\tlearn: 0.1176630\ttotal: 1m 43s\tremaining: 6m 28s\n",
      "211:\tlearn: 0.1169741\ttotal: 1m 44s\tremaining: 6m 28s\n",
      "212:\tlearn: 0.1161731\ttotal: 1m 45s\tremaining: 6m 27s\n",
      "213:\tlearn: 0.1155456\ttotal: 1m 45s\tremaining: 6m 27s\n",
      "214:\tlearn: 0.1145831\ttotal: 1m 46s\tremaining: 6m 27s\n",
      "215:\tlearn: 0.1136230\ttotal: 1m 46s\tremaining: 6m 26s\n",
      "216:\tlearn: 0.1128644\ttotal: 1m 47s\tremaining: 6m 26s\n",
      "217:\tlearn: 0.1123701\ttotal: 1m 47s\tremaining: 6m 26s\n",
      "218:\tlearn: 0.1115208\ttotal: 1m 48s\tremaining: 6m 25s\n",
      "219:\tlearn: 0.1106942\ttotal: 1m 48s\tremaining: 6m 25s\n",
      "220:\tlearn: 0.1100543\ttotal: 1m 49s\tremaining: 6m 25s\n",
      "221:\tlearn: 0.1090309\ttotal: 1m 49s\tremaining: 6m 25s\n",
      "222:\tlearn: 0.1080018\ttotal: 1m 50s\tremaining: 6m 24s\n",
      "223:\tlearn: 0.1072705\ttotal: 1m 51s\tremaining: 6m 24s\n",
      "224:\tlearn: 0.1064647\ttotal: 1m 51s\tremaining: 6m 24s\n",
      "225:\tlearn: 0.1055935\ttotal: 1m 52s\tremaining: 6m 23s\n",
      "226:\tlearn: 0.1047416\ttotal: 1m 52s\tremaining: 6m 23s\n",
      "227:\tlearn: 0.1039508\ttotal: 1m 53s\tremaining: 6m 22s\n",
      "228:\tlearn: 0.1031862\ttotal: 1m 53s\tremaining: 6m 22s\n",
      "229:\tlearn: 0.1022413\ttotal: 1m 53s\tremaining: 6m 21s\n",
      "230:\tlearn: 0.1012628\ttotal: 1m 54s\tremaining: 6m 21s\n",
      "231:\tlearn: 0.1006910\ttotal: 1m 54s\tremaining: 6m 20s\n",
      "232:\tlearn: 0.0998999\ttotal: 1m 55s\tremaining: 6m 20s\n",
      "233:\tlearn: 0.0995560\ttotal: 1m 55s\tremaining: 6m 19s\n",
      "234:\tlearn: 0.0987338\ttotal: 1m 56s\tremaining: 6m 19s\n",
      "235:\tlearn: 0.0981635\ttotal: 1m 56s\tremaining: 6m 18s\n",
      "236:\tlearn: 0.0976522\ttotal: 1m 57s\tremaining: 6m 18s\n",
      "237:\tlearn: 0.0966978\ttotal: 1m 57s\tremaining: 6m 17s\n",
      "238:\tlearn: 0.0957947\ttotal: 1m 58s\tremaining: 6m 17s\n",
      "239:\tlearn: 0.0951899\ttotal: 1m 58s\tremaining: 6m 16s\n",
      "240:\tlearn: 0.0945354\ttotal: 1m 59s\tremaining: 6m 16s\n",
      "241:\tlearn: 0.0937877\ttotal: 1m 59s\tremaining: 6m 15s\n",
      "242:\tlearn: 0.0929679\ttotal: 2m\tremaining: 6m 15s\n",
      "243:\tlearn: 0.0923090\ttotal: 2m 1s\tremaining: 6m 14s\n",
      "244:\tlearn: 0.0917514\ttotal: 2m 1s\tremaining: 6m 14s\n",
      "245:\tlearn: 0.0911570\ttotal: 2m 2s\tremaining: 6m 14s\n",
      "246:\tlearn: 0.0906610\ttotal: 2m 2s\tremaining: 6m 13s\n",
      "247:\tlearn: 0.0900950\ttotal: 2m 3s\tremaining: 6m 13s\n",
      "248:\tlearn: 0.0896892\ttotal: 2m 3s\tremaining: 6m 13s\n",
      "249:\tlearn: 0.0890022\ttotal: 2m 4s\tremaining: 6m 12s\n",
      "250:\tlearn: 0.0884554\ttotal: 2m 4s\tremaining: 6m 12s\n",
      "251:\tlearn: 0.0879504\ttotal: 2m 5s\tremaining: 6m 12s\n",
      "252:\tlearn: 0.0874749\ttotal: 2m 5s\tremaining: 6m 12s\n",
      "253:\tlearn: 0.0870317\ttotal: 2m 6s\tremaining: 6m 11s\n",
      "254:\tlearn: 0.0863055\ttotal: 2m 7s\tremaining: 6m 11s\n",
      "255:\tlearn: 0.0857297\ttotal: 2m 7s\tremaining: 6m 10s\n",
      "256:\tlearn: 0.0850751\ttotal: 2m 8s\tremaining: 6m 10s\n",
      "257:\tlearn: 0.0844099\ttotal: 2m 8s\tremaining: 6m 9s\n",
      "258:\tlearn: 0.0838723\ttotal: 2m 9s\tremaining: 6m 9s\n",
      "259:\tlearn: 0.0832113\ttotal: 2m 9s\tremaining: 6m 8s\n",
      "260:\tlearn: 0.0827135\ttotal: 2m 10s\tremaining: 6m 8s\n",
      "261:\tlearn: 0.0823284\ttotal: 2m 10s\tremaining: 6m 7s\n",
      "262:\tlearn: 0.0817663\ttotal: 2m 11s\tremaining: 6m 7s\n",
      "263:\tlearn: 0.0815117\ttotal: 2m 11s\tremaining: 6m 7s\n",
      "264:\tlearn: 0.0810493\ttotal: 2m 12s\tremaining: 6m 6s\n",
      "265:\tlearn: 0.0805655\ttotal: 2m 12s\tremaining: 6m 6s\n",
      "266:\tlearn: 0.0801724\ttotal: 2m 13s\tremaining: 6m 5s\n",
      "267:\tlearn: 0.0796043\ttotal: 2m 13s\tremaining: 6m 5s\n",
      "268:\tlearn: 0.0792050\ttotal: 2m 14s\tremaining: 6m 4s\n",
      "269:\tlearn: 0.0787384\ttotal: 2m 14s\tremaining: 6m 4s\n",
      "270:\tlearn: 0.0781819\ttotal: 2m 15s\tremaining: 6m 3s\n",
      "271:\tlearn: 0.0778318\ttotal: 2m 15s\tremaining: 6m 3s\n",
      "272:\tlearn: 0.0772886\ttotal: 2m 16s\tremaining: 6m 2s\n",
      "273:\tlearn: 0.0767644\ttotal: 2m 16s\tremaining: 6m 2s\n",
      "274:\tlearn: 0.0763903\ttotal: 2m 17s\tremaining: 6m 1s\n",
      "275:\tlearn: 0.0758027\ttotal: 2m 17s\tremaining: 6m 1s\n",
      "276:\tlearn: 0.0753781\ttotal: 2m 18s\tremaining: 6m\n",
      "277:\tlearn: 0.0748889\ttotal: 2m 18s\tremaining: 6m\n",
      "278:\tlearn: 0.0744587\ttotal: 2m 19s\tremaining: 5m 59s\n",
      "279:\tlearn: 0.0739655\ttotal: 2m 19s\tremaining: 5m 59s\n",
      "280:\tlearn: 0.0735191\ttotal: 2m 20s\tremaining: 5m 59s\n",
      "281:\tlearn: 0.0732171\ttotal: 2m 21s\tremaining: 5m 59s\n",
      "282:\tlearn: 0.0728117\ttotal: 2m 21s\tremaining: 5m 58s\n",
      "283:\tlearn: 0.0724789\ttotal: 2m 22s\tremaining: 5m 58s\n",
      "284:\tlearn: 0.0720831\ttotal: 2m 22s\tremaining: 5m 58s\n",
      "285:\tlearn: 0.0717223\ttotal: 2m 23s\tremaining: 5m 57s\n",
      "286:\tlearn: 0.0713700\ttotal: 2m 23s\tremaining: 5m 57s\n",
      "287:\tlearn: 0.0709787\ttotal: 2m 24s\tremaining: 5m 56s\n",
      "288:\tlearn: 0.0707886\ttotal: 2m 24s\tremaining: 5m 56s\n",
      "289:\tlearn: 0.0703461\ttotal: 2m 25s\tremaining: 5m 55s\n",
      "290:\tlearn: 0.0699512\ttotal: 2m 25s\tremaining: 5m 55s\n",
      "291:\tlearn: 0.0696654\ttotal: 2m 26s\tremaining: 5m 54s\n",
      "292:\tlearn: 0.0692903\ttotal: 2m 26s\tremaining: 5m 54s\n",
      "293:\tlearn: 0.0687804\ttotal: 2m 27s\tremaining: 5m 53s\n",
      "294:\tlearn: 0.0684517\ttotal: 2m 27s\tremaining: 5m 53s\n",
      "295:\tlearn: 0.0681653\ttotal: 2m 28s\tremaining: 5m 52s\n",
      "296:\tlearn: 0.0678759\ttotal: 2m 28s\tremaining: 5m 52s\n",
      "297:\tlearn: 0.0674156\ttotal: 2m 29s\tremaining: 5m 51s\n",
      "298:\tlearn: 0.0670839\ttotal: 2m 29s\tremaining: 5m 51s\n",
      "299:\tlearn: 0.0667904\ttotal: 2m 30s\tremaining: 5m 50s\n",
      "300:\tlearn: 0.0664587\ttotal: 2m 30s\tremaining: 5m 50s\n",
      "301:\tlearn: 0.0662223\ttotal: 2m 31s\tremaining: 5m 49s\n",
      "302:\tlearn: 0.0657775\ttotal: 2m 31s\tremaining: 5m 49s\n",
      "303:\tlearn: 0.0654457\ttotal: 2m 32s\tremaining: 5m 48s\n",
      "304:\tlearn: 0.0651509\ttotal: 2m 32s\tremaining: 5m 48s\n",
      "305:\tlearn: 0.0648968\ttotal: 2m 33s\tremaining: 5m 47s\n",
      "306:\tlearn: 0.0645574\ttotal: 2m 33s\tremaining: 5m 47s\n",
      "307:\tlearn: 0.0641660\ttotal: 2m 34s\tremaining: 5m 46s\n",
      "308:\tlearn: 0.0637665\ttotal: 2m 34s\tremaining: 5m 46s\n",
      "309:\tlearn: 0.0634648\ttotal: 2m 35s\tremaining: 5m 45s\n",
      "310:\tlearn: 0.0631317\ttotal: 2m 36s\tremaining: 5m 45s\n",
      "311:\tlearn: 0.0627691\ttotal: 2m 36s\tremaining: 5m 45s\n",
      "312:\tlearn: 0.0625082\ttotal: 2m 37s\tremaining: 5m 45s\n",
      "313:\tlearn: 0.0622100\ttotal: 2m 37s\tremaining: 5m 44s\n",
      "314:\tlearn: 0.0619453\ttotal: 2m 38s\tremaining: 5m 44s\n",
      "315:\tlearn: 0.0616218\ttotal: 2m 38s\tremaining: 5m 43s\n",
      "316:\tlearn: 0.0612279\ttotal: 2m 39s\tremaining: 5m 43s\n",
      "317:\tlearn: 0.0608824\ttotal: 2m 39s\tremaining: 5m 42s\n",
      "318:\tlearn: 0.0606527\ttotal: 2m 40s\tremaining: 5m 42s\n",
      "319:\tlearn: 0.0603582\ttotal: 2m 40s\tremaining: 5m 41s\n",
      "320:\tlearn: 0.0600349\ttotal: 2m 41s\tremaining: 5m 41s\n",
      "321:\tlearn: 0.0597364\ttotal: 2m 41s\tremaining: 5m 40s\n",
      "322:\tlearn: 0.0595727\ttotal: 2m 42s\tremaining: 5m 40s\n",
      "323:\tlearn: 0.0593383\ttotal: 2m 42s\tremaining: 5m 39s\n",
      "324:\tlearn: 0.0590307\ttotal: 2m 43s\tremaining: 5m 39s\n",
      "325:\tlearn: 0.0586174\ttotal: 2m 43s\tremaining: 5m 39s\n",
      "326:\tlearn: 0.0583128\ttotal: 2m 44s\tremaining: 5m 38s\n",
      "327:\tlearn: 0.0581126\ttotal: 2m 44s\tremaining: 5m 38s\n",
      "328:\tlearn: 0.0577922\ttotal: 2m 45s\tremaining: 5m 37s\n",
      "329:\tlearn: 0.0574789\ttotal: 2m 46s\tremaining: 5m 37s\n",
      "330:\tlearn: 0.0571478\ttotal: 2m 46s\tremaining: 5m 36s\n",
      "331:\tlearn: 0.0568777\ttotal: 2m 46s\tremaining: 5m 35s\n",
      "332:\tlearn: 0.0565678\ttotal: 2m 47s\tremaining: 5m 35s\n",
      "333:\tlearn: 0.0562537\ttotal: 2m 47s\tremaining: 5m 34s\n",
      "334:\tlearn: 0.0560338\ttotal: 2m 48s\tremaining: 5m 34s\n",
      "335:\tlearn: 0.0557743\ttotal: 2m 48s\tremaining: 5m 33s\n",
      "336:\tlearn: 0.0555168\ttotal: 2m 49s\tremaining: 5m 33s\n",
      "337:\tlearn: 0.0552716\ttotal: 2m 49s\tremaining: 5m 32s\n",
      "338:\tlearn: 0.0550054\ttotal: 2m 50s\tremaining: 5m 32s\n",
      "339:\tlearn: 0.0548405\ttotal: 2m 51s\tremaining: 5m 32s\n",
      "340:\tlearn: 0.0546466\ttotal: 2m 51s\tremaining: 5m 31s\n",
      "341:\tlearn: 0.0543598\ttotal: 2m 52s\tremaining: 5m 31s\n",
      "342:\tlearn: 0.0541655\ttotal: 2m 52s\tremaining: 5m 30s\n",
      "343:\tlearn: 0.0540093\ttotal: 2m 53s\tremaining: 5m 30s\n",
      "344:\tlearn: 0.0537791\ttotal: 2m 53s\tremaining: 5m 29s\n",
      "345:\tlearn: 0.0535659\ttotal: 2m 54s\tremaining: 5m 29s\n",
      "346:\tlearn: 0.0533208\ttotal: 2m 54s\tremaining: 5m 29s\n",
      "347:\tlearn: 0.0531103\ttotal: 2m 55s\tremaining: 5m 28s\n",
      "348:\tlearn: 0.0528902\ttotal: 2m 55s\tremaining: 5m 28s\n",
      "349:\tlearn: 0.0526820\ttotal: 2m 56s\tremaining: 5m 27s\n",
      "350:\tlearn: 0.0523934\ttotal: 2m 56s\tremaining: 5m 27s\n",
      "351:\tlearn: 0.0521158\ttotal: 2m 57s\tremaining: 5m 26s\n",
      "352:\tlearn: 0.0518371\ttotal: 2m 57s\tremaining: 5m 26s\n",
      "353:\tlearn: 0.0516423\ttotal: 2m 58s\tremaining: 5m 25s\n",
      "354:\tlearn: 0.0514742\ttotal: 2m 58s\tremaining: 5m 24s\n",
      "355:\tlearn: 0.0512172\ttotal: 2m 59s\tremaining: 5m 24s\n",
      "356:\tlearn: 0.0509679\ttotal: 2m 59s\tremaining: 5m 23s\n",
      "357:\tlearn: 0.0507935\ttotal: 3m\tremaining: 5m 23s\n",
      "358:\tlearn: 0.0506039\ttotal: 3m\tremaining: 5m 22s\n",
      "359:\tlearn: 0.0503990\ttotal: 3m 1s\tremaining: 5m 22s\n",
      "360:\tlearn: 0.0502969\ttotal: 3m 1s\tremaining: 5m 21s\n",
      "361:\tlearn: 0.0501052\ttotal: 3m 2s\tremaining: 5m 21s\n",
      "362:\tlearn: 0.0498656\ttotal: 3m 2s\tremaining: 5m 20s\n",
      "363:\tlearn: 0.0496923\ttotal: 3m 3s\tremaining: 5m 20s\n",
      "364:\tlearn: 0.0495048\ttotal: 3m 3s\tremaining: 5m 19s\n",
      "365:\tlearn: 0.0492836\ttotal: 3m 4s\tremaining: 5m 19s\n",
      "366:\tlearn: 0.0490730\ttotal: 3m 4s\tremaining: 5m 18s\n",
      "367:\tlearn: 0.0488964\ttotal: 3m 5s\tremaining: 5m 18s\n",
      "368:\tlearn: 0.0486629\ttotal: 3m 5s\tremaining: 5m 17s\n",
      "369:\tlearn: 0.0484104\ttotal: 3m 6s\tremaining: 5m 17s\n",
      "370:\tlearn: 0.0482901\ttotal: 3m 6s\tremaining: 5m 16s\n",
      "371:\tlearn: 0.0480509\ttotal: 3m 7s\tremaining: 5m 16s\n",
      "372:\tlearn: 0.0478593\ttotal: 3m 7s\tremaining: 5m 15s\n",
      "373:\tlearn: 0.0477219\ttotal: 3m 8s\tremaining: 5m 15s\n",
      "374:\tlearn: 0.0475668\ttotal: 3m 8s\tremaining: 5m 14s\n",
      "375:\tlearn: 0.0473632\ttotal: 3m 9s\tremaining: 5m 14s\n",
      "376:\tlearn: 0.0471600\ttotal: 3m 9s\tremaining: 5m 13s\n",
      "377:\tlearn: 0.0469389\ttotal: 3m 10s\tremaining: 5m 13s\n",
      "378:\tlearn: 0.0466985\ttotal: 3m 10s\tremaining: 5m 12s\n",
      "379:\tlearn: 0.0464888\ttotal: 3m 11s\tremaining: 5m 12s\n",
      "380:\tlearn: 0.0462781\ttotal: 3m 11s\tremaining: 5m 11s\n",
      "381:\tlearn: 0.0460458\ttotal: 3m 12s\tremaining: 5m 11s\n",
      "382:\tlearn: 0.0457620\ttotal: 3m 12s\tremaining: 5m 10s\n",
      "383:\tlearn: 0.0455617\ttotal: 3m 13s\tremaining: 5m 10s\n",
      "384:\tlearn: 0.0453446\ttotal: 3m 13s\tremaining: 5m 9s\n",
      "385:\tlearn: 0.0451269\ttotal: 3m 14s\tremaining: 5m 9s\n",
      "386:\tlearn: 0.0449167\ttotal: 3m 14s\tremaining: 5m 8s\n",
      "387:\tlearn: 0.0447936\ttotal: 3m 15s\tremaining: 5m 8s\n",
      "388:\tlearn: 0.0445959\ttotal: 3m 15s\tremaining: 5m 7s\n",
      "389:\tlearn: 0.0442981\ttotal: 3m 16s\tremaining: 5m 7s\n",
      "390:\tlearn: 0.0442038\ttotal: 3m 16s\tremaining: 5m 6s\n",
      "391:\tlearn: 0.0440210\ttotal: 3m 17s\tremaining: 5m 5s\n",
      "392:\tlearn: 0.0438581\ttotal: 3m 17s\tremaining: 5m 5s\n",
      "393:\tlearn: 0.0437084\ttotal: 3m 18s\tremaining: 5m 4s\n",
      "394:\tlearn: 0.0434988\ttotal: 3m 18s\tremaining: 5m 4s\n",
      "395:\tlearn: 0.0433099\ttotal: 3m 19s\tremaining: 5m 3s\n",
      "396:\tlearn: 0.0431459\ttotal: 3m 19s\tremaining: 5m 3s\n",
      "397:\tlearn: 0.0430413\ttotal: 3m 20s\tremaining: 5m 2s\n",
      "398:\tlearn: 0.0428846\ttotal: 3m 20s\tremaining: 5m 2s\n",
      "399:\tlearn: 0.0427196\ttotal: 3m 21s\tremaining: 5m 1s\n",
      "400:\tlearn: 0.0425998\ttotal: 3m 21s\tremaining: 5m 1s\n",
      "401:\tlearn: 0.0424326\ttotal: 3m 22s\tremaining: 5m\n",
      "402:\tlearn: 0.0422368\ttotal: 3m 22s\tremaining: 5m\n",
      "403:\tlearn: 0.0420967\ttotal: 3m 23s\tremaining: 4m 59s\n",
      "404:\tlearn: 0.0419025\ttotal: 3m 23s\tremaining: 4m 59s\n",
      "405:\tlearn: 0.0417474\ttotal: 3m 24s\tremaining: 4m 58s\n",
      "406:\tlearn: 0.0416137\ttotal: 3m 24s\tremaining: 4m 58s\n",
      "407:\tlearn: 0.0414974\ttotal: 3m 25s\tremaining: 4m 58s\n",
      "408:\tlearn: 0.0413449\ttotal: 3m 25s\tremaining: 4m 57s\n",
      "409:\tlearn: 0.0411302\ttotal: 3m 26s\tremaining: 4m 57s\n",
      "410:\tlearn: 0.0410095\ttotal: 3m 26s\tremaining: 4m 56s\n",
      "411:\tlearn: 0.0408529\ttotal: 3m 27s\tremaining: 4m 56s\n",
      "412:\tlearn: 0.0407005\ttotal: 3m 27s\tremaining: 4m 55s\n",
      "413:\tlearn: 0.0405195\ttotal: 3m 28s\tremaining: 4m 55s\n",
      "414:\tlearn: 0.0403849\ttotal: 3m 28s\tremaining: 4m 54s\n",
      "415:\tlearn: 0.0402609\ttotal: 3m 29s\tremaining: 4m 53s\n",
      "416:\tlearn: 0.0401556\ttotal: 3m 29s\tremaining: 4m 53s\n",
      "417:\tlearn: 0.0399958\ttotal: 3m 30s\tremaining: 4m 52s\n",
      "418:\tlearn: 0.0398301\ttotal: 3m 30s\tremaining: 4m 52s\n",
      "419:\tlearn: 0.0396889\ttotal: 3m 31s\tremaining: 4m 51s\n",
      "420:\tlearn: 0.0395299\ttotal: 3m 31s\tremaining: 4m 51s\n",
      "421:\tlearn: 0.0393899\ttotal: 3m 32s\tremaining: 4m 50s\n",
      "422:\tlearn: 0.0392761\ttotal: 3m 32s\tremaining: 4m 50s\n",
      "423:\tlearn: 0.0391222\ttotal: 3m 33s\tremaining: 4m 49s\n",
      "424:\tlearn: 0.0390186\ttotal: 3m 33s\tremaining: 4m 49s\n",
      "425:\tlearn: 0.0388840\ttotal: 3m 34s\tremaining: 4m 48s\n",
      "426:\tlearn: 0.0387836\ttotal: 3m 34s\tremaining: 4m 48s\n",
      "427:\tlearn: 0.0386614\ttotal: 3m 35s\tremaining: 4m 47s\n",
      "428:\tlearn: 0.0384513\ttotal: 3m 35s\tremaining: 4m 47s\n",
      "429:\tlearn: 0.0383350\ttotal: 3m 36s\tremaining: 4m 46s\n",
      "430:\tlearn: 0.0381381\ttotal: 3m 36s\tremaining: 4m 46s\n",
      "431:\tlearn: 0.0380137\ttotal: 3m 37s\tremaining: 4m 45s\n",
      "432:\tlearn: 0.0378898\ttotal: 3m 37s\tremaining: 4m 45s\n",
      "433:\tlearn: 0.0377571\ttotal: 3m 38s\tremaining: 4m 44s\n",
      "434:\tlearn: 0.0375942\ttotal: 3m 38s\tremaining: 4m 44s\n",
      "435:\tlearn: 0.0374637\ttotal: 3m 39s\tremaining: 4m 43s\n",
      "436:\tlearn: 0.0373427\ttotal: 3m 39s\tremaining: 4m 43s\n",
      "437:\tlearn: 0.0371193\ttotal: 3m 40s\tremaining: 4m 42s\n",
      "438:\tlearn: 0.0369105\ttotal: 3m 41s\tremaining: 4m 42s\n",
      "439:\tlearn: 0.0367847\ttotal: 3m 41s\tremaining: 4m 42s\n",
      "440:\tlearn: 0.0367012\ttotal: 3m 42s\tremaining: 4m 41s\n",
      "441:\tlearn: 0.0366058\ttotal: 3m 42s\tremaining: 4m 41s\n",
      "442:\tlearn: 0.0364970\ttotal: 3m 43s\tremaining: 4m 40s\n",
      "443:\tlearn: 0.0363421\ttotal: 3m 43s\tremaining: 4m 40s\n",
      "444:\tlearn: 0.0362129\ttotal: 3m 44s\tremaining: 4m 39s\n",
      "445:\tlearn: 0.0360997\ttotal: 3m 44s\tremaining: 4m 38s\n",
      "446:\tlearn: 0.0359741\ttotal: 3m 45s\tremaining: 4m 38s\n",
      "447:\tlearn: 0.0358774\ttotal: 3m 45s\tremaining: 4m 37s\n",
      "448:\tlearn: 0.0357594\ttotal: 3m 46s\tremaining: 4m 37s\n",
      "449:\tlearn: 0.0356606\ttotal: 3m 46s\tremaining: 4m 36s\n",
      "450:\tlearn: 0.0355051\ttotal: 3m 47s\tremaining: 4m 36s\n",
      "451:\tlearn: 0.0353927\ttotal: 3m 47s\tremaining: 4m 35s\n",
      "452:\tlearn: 0.0352787\ttotal: 3m 47s\tremaining: 4m 35s\n",
      "453:\tlearn: 0.0351225\ttotal: 3m 48s\tremaining: 4m 34s\n",
      "454:\tlearn: 0.0350020\ttotal: 3m 48s\tremaining: 4m 34s\n",
      "455:\tlearn: 0.0348805\ttotal: 3m 49s\tremaining: 4m 33s\n",
      "456:\tlearn: 0.0348094\ttotal: 3m 49s\tremaining: 4m 33s\n",
      "457:\tlearn: 0.0347093\ttotal: 3m 50s\tremaining: 4m 32s\n",
      "458:\tlearn: 0.0345753\ttotal: 3m 50s\tremaining: 4m 32s\n",
      "459:\tlearn: 0.0344782\ttotal: 3m 51s\tremaining: 4m 31s\n",
      "460:\tlearn: 0.0344136\ttotal: 3m 51s\tremaining: 4m 31s\n",
      "461:\tlearn: 0.0343082\ttotal: 3m 52s\tremaining: 4m 30s\n",
      "462:\tlearn: 0.0342033\ttotal: 3m 52s\tremaining: 4m 30s\n",
      "463:\tlearn: 0.0341517\ttotal: 3m 53s\tremaining: 4m 29s\n",
      "464:\tlearn: 0.0340428\ttotal: 3m 53s\tremaining: 4m 29s\n",
      "465:\tlearn: 0.0339637\ttotal: 3m 54s\tremaining: 4m 28s\n",
      "466:\tlearn: 0.0338780\ttotal: 3m 54s\tremaining: 4m 28s\n",
      "467:\tlearn: 0.0337422\ttotal: 3m 55s\tremaining: 4m 27s\n",
      "468:\tlearn: 0.0336434\ttotal: 3m 55s\tremaining: 4m 27s\n",
      "469:\tlearn: 0.0335413\ttotal: 3m 56s\tremaining: 4m 26s\n",
      "470:\tlearn: 0.0334679\ttotal: 3m 57s\tremaining: 4m 26s\n",
      "471:\tlearn: 0.0333872\ttotal: 3m 57s\tremaining: 4m 25s\n",
      "472:\tlearn: 0.0332636\ttotal: 3m 58s\tremaining: 4m 25s\n",
      "473:\tlearn: 0.0331728\ttotal: 3m 58s\tremaining: 4m 24s\n",
      "474:\tlearn: 0.0330461\ttotal: 3m 59s\tremaining: 4m 24s\n",
      "475:\tlearn: 0.0329840\ttotal: 3m 59s\tremaining: 4m 23s\n",
      "476:\tlearn: 0.0328952\ttotal: 4m\tremaining: 4m 23s\n",
      "477:\tlearn: 0.0327635\ttotal: 4m\tremaining: 4m 22s\n",
      "478:\tlearn: 0.0326377\ttotal: 4m 1s\tremaining: 4m 22s\n",
      "479:\tlearn: 0.0325199\ttotal: 4m 1s\tremaining: 4m 21s\n",
      "480:\tlearn: 0.0324351\ttotal: 4m 2s\tremaining: 4m 21s\n",
      "481:\tlearn: 0.0323693\ttotal: 4m 2s\tremaining: 4m 20s\n",
      "482:\tlearn: 0.0322719\ttotal: 4m 3s\tremaining: 4m 20s\n",
      "483:\tlearn: 0.0321941\ttotal: 4m 3s\tremaining: 4m 19s\n",
      "484:\tlearn: 0.0320859\ttotal: 4m 4s\tremaining: 4m 19s\n",
      "485:\tlearn: 0.0319972\ttotal: 4m 4s\tremaining: 4m 18s\n",
      "486:\tlearn: 0.0319215\ttotal: 4m 5s\tremaining: 4m 18s\n",
      "487:\tlearn: 0.0318029\ttotal: 4m 5s\tremaining: 4m 17s\n",
      "488:\tlearn: 0.0317151\ttotal: 4m 6s\tremaining: 4m 17s\n",
      "489:\tlearn: 0.0315997\ttotal: 4m 6s\tremaining: 4m 16s\n",
      "490:\tlearn: 0.0314806\ttotal: 4m 7s\tremaining: 4m 16s\n",
      "491:\tlearn: 0.0313670\ttotal: 4m 7s\tremaining: 4m 15s\n",
      "492:\tlearn: 0.0312551\ttotal: 4m 8s\tremaining: 4m 15s\n",
      "493:\tlearn: 0.0311963\ttotal: 4m 8s\tremaining: 4m 14s\n",
      "494:\tlearn: 0.0311003\ttotal: 4m 9s\tremaining: 4m 14s\n",
      "495:\tlearn: 0.0310518\ttotal: 4m 9s\tremaining: 4m 13s\n",
      "496:\tlearn: 0.0309729\ttotal: 4m 10s\tremaining: 4m 13s\n",
      "497:\tlearn: 0.0308860\ttotal: 4m 10s\tremaining: 4m 12s\n",
      "498:\tlearn: 0.0307964\ttotal: 4m 11s\tremaining: 4m 12s\n",
      "499:\tlearn: 0.0306973\ttotal: 4m 11s\tremaining: 4m 11s\n",
      "500:\tlearn: 0.0306139\ttotal: 4m 12s\tremaining: 4m 11s\n",
      "501:\tlearn: 0.0305353\ttotal: 4m 12s\tremaining: 4m 10s\n",
      "502:\tlearn: 0.0303987\ttotal: 4m 13s\tremaining: 4m 10s\n",
      "503:\tlearn: 0.0303253\ttotal: 4m 13s\tremaining: 4m 9s\n",
      "504:\tlearn: 0.0302171\ttotal: 4m 14s\tremaining: 4m 9s\n",
      "505:\tlearn: 0.0301368\ttotal: 4m 14s\tremaining: 4m 8s\n",
      "506:\tlearn: 0.0300633\ttotal: 4m 15s\tremaining: 4m 8s\n",
      "507:\tlearn: 0.0299721\ttotal: 4m 15s\tremaining: 4m 7s\n",
      "508:\tlearn: 0.0298780\ttotal: 4m 16s\tremaining: 4m 7s\n",
      "509:\tlearn: 0.0298090\ttotal: 4m 16s\tremaining: 4m 6s\n",
      "510:\tlearn: 0.0297311\ttotal: 4m 17s\tremaining: 4m 6s\n",
      "511:\tlearn: 0.0296690\ttotal: 4m 17s\tremaining: 4m 5s\n",
      "512:\tlearn: 0.0295763\ttotal: 4m 18s\tremaining: 4m 5s\n",
      "513:\tlearn: 0.0295052\ttotal: 4m 18s\tremaining: 4m 4s\n",
      "514:\tlearn: 0.0294423\ttotal: 4m 19s\tremaining: 4m 4s\n",
      "515:\tlearn: 0.0293639\ttotal: 4m 19s\tremaining: 4m 3s\n",
      "516:\tlearn: 0.0292657\ttotal: 4m 20s\tremaining: 4m 3s\n",
      "517:\tlearn: 0.0291670\ttotal: 4m 20s\tremaining: 4m 2s\n",
      "518:\tlearn: 0.0291111\ttotal: 4m 21s\tremaining: 4m 2s\n",
      "519:\tlearn: 0.0290211\ttotal: 4m 21s\tremaining: 4m 1s\n",
      "520:\tlearn: 0.0288741\ttotal: 4m 22s\tremaining: 4m 1s\n",
      "521:\tlearn: 0.0287788\ttotal: 4m 22s\tremaining: 4m\n",
      "522:\tlearn: 0.0286977\ttotal: 4m 23s\tremaining: 4m\n",
      "523:\tlearn: 0.0286168\ttotal: 4m 23s\tremaining: 3m 59s\n",
      "524:\tlearn: 0.0285428\ttotal: 4m 24s\tremaining: 3m 59s\n",
      "525:\tlearn: 0.0284728\ttotal: 4m 24s\tremaining: 3m 58s\n",
      "526:\tlearn: 0.0283958\ttotal: 4m 25s\tremaining: 3m 58s\n",
      "527:\tlearn: 0.0283178\ttotal: 4m 25s\tremaining: 3m 57s\n",
      "528:\tlearn: 0.0282297\ttotal: 4m 26s\tremaining: 3m 57s\n",
      "529:\tlearn: 0.0281916\ttotal: 4m 26s\tremaining: 3m 56s\n",
      "530:\tlearn: 0.0281271\ttotal: 4m 27s\tremaining: 3m 56s\n",
      "531:\tlearn: 0.0280856\ttotal: 4m 27s\tremaining: 3m 55s\n",
      "532:\tlearn: 0.0280207\ttotal: 4m 28s\tremaining: 3m 55s\n",
      "533:\tlearn: 0.0279440\ttotal: 4m 29s\tremaining: 3m 54s\n",
      "534:\tlearn: 0.0278618\ttotal: 4m 29s\tremaining: 3m 54s\n",
      "535:\tlearn: 0.0278229\ttotal: 4m 30s\tremaining: 3m 53s\n",
      "536:\tlearn: 0.0277479\ttotal: 4m 30s\tremaining: 3m 53s\n",
      "537:\tlearn: 0.0276717\ttotal: 4m 31s\tremaining: 3m 52s\n",
      "538:\tlearn: 0.0276019\ttotal: 4m 31s\tremaining: 3m 52s\n",
      "539:\tlearn: 0.0275122\ttotal: 4m 32s\tremaining: 3m 51s\n",
      "540:\tlearn: 0.0274613\ttotal: 4m 32s\tremaining: 3m 51s\n",
      "541:\tlearn: 0.0274181\ttotal: 4m 33s\tremaining: 3m 50s\n",
      "542:\tlearn: 0.0273619\ttotal: 4m 33s\tremaining: 3m 50s\n",
      "543:\tlearn: 0.0273017\ttotal: 4m 34s\tremaining: 3m 49s\n",
      "544:\tlearn: 0.0272236\ttotal: 4m 34s\tremaining: 3m 49s\n",
      "545:\tlearn: 0.0271192\ttotal: 4m 35s\tremaining: 3m 48s\n",
      "546:\tlearn: 0.0270501\ttotal: 4m 35s\tremaining: 3m 48s\n",
      "547:\tlearn: 0.0269866\ttotal: 4m 36s\tremaining: 3m 47s\n",
      "548:\tlearn: 0.0269115\ttotal: 4m 36s\tremaining: 3m 47s\n",
      "549:\tlearn: 0.0268406\ttotal: 4m 37s\tremaining: 3m 46s\n",
      "550:\tlearn: 0.0267376\ttotal: 4m 37s\tremaining: 3m 46s\n",
      "551:\tlearn: 0.0266809\ttotal: 4m 38s\tremaining: 3m 45s\n",
      "552:\tlearn: 0.0266198\ttotal: 4m 38s\tremaining: 3m 45s\n",
      "553:\tlearn: 0.0265588\ttotal: 4m 39s\tremaining: 3m 44s\n",
      "554:\tlearn: 0.0264710\ttotal: 4m 39s\tremaining: 3m 44s\n",
      "555:\tlearn: 0.0264093\ttotal: 4m 40s\tremaining: 3m 43s\n",
      "556:\tlearn: 0.0263338\ttotal: 4m 40s\tremaining: 3m 43s\n",
      "557:\tlearn: 0.0262556\ttotal: 4m 41s\tremaining: 3m 42s\n",
      "558:\tlearn: 0.0262040\ttotal: 4m 41s\tremaining: 3m 42s\n",
      "559:\tlearn: 0.0261417\ttotal: 4m 42s\tremaining: 3m 41s\n",
      "560:\tlearn: 0.0260984\ttotal: 4m 42s\tremaining: 3m 41s\n",
      "561:\tlearn: 0.0260010\ttotal: 4m 43s\tremaining: 3m 40s\n",
      "562:\tlearn: 0.0259492\ttotal: 4m 43s\tremaining: 3m 40s\n",
      "563:\tlearn: 0.0258961\ttotal: 4m 44s\tremaining: 3m 39s\n",
      "564:\tlearn: 0.0258522\ttotal: 4m 44s\tremaining: 3m 39s\n",
      "565:\tlearn: 0.0258031\ttotal: 4m 45s\tremaining: 3m 38s\n",
      "566:\tlearn: 0.0257598\ttotal: 4m 45s\tremaining: 3m 38s\n",
      "567:\tlearn: 0.0257056\ttotal: 4m 46s\tremaining: 3m 37s\n",
      "568:\tlearn: 0.0256368\ttotal: 4m 46s\tremaining: 3m 37s\n",
      "569:\tlearn: 0.0255920\ttotal: 4m 47s\tremaining: 3m 36s\n",
      "570:\tlearn: 0.0255086\ttotal: 4m 47s\tremaining: 3m 36s\n",
      "571:\tlearn: 0.0254525\ttotal: 4m 48s\tremaining: 3m 35s\n",
      "572:\tlearn: 0.0253912\ttotal: 4m 48s\tremaining: 3m 35s\n",
      "573:\tlearn: 0.0253426\ttotal: 4m 49s\tremaining: 3m 34s\n",
      "574:\tlearn: 0.0252817\ttotal: 4m 49s\tremaining: 3m 34s\n",
      "575:\tlearn: 0.0252216\ttotal: 4m 50s\tremaining: 3m 33s\n",
      "576:\tlearn: 0.0251353\ttotal: 4m 51s\tremaining: 3m 33s\n",
      "577:\tlearn: 0.0250841\ttotal: 4m 51s\tremaining: 3m 32s\n",
      "578:\tlearn: 0.0250456\ttotal: 4m 52s\tremaining: 3m 32s\n",
      "579:\tlearn: 0.0250053\ttotal: 4m 52s\tremaining: 3m 31s\n",
      "580:\tlearn: 0.0249479\ttotal: 4m 53s\tremaining: 3m 31s\n",
      "581:\tlearn: 0.0248909\ttotal: 4m 53s\tremaining: 3m 30s\n",
      "582:\tlearn: 0.0248541\ttotal: 4m 53s\tremaining: 3m 30s\n",
      "583:\tlearn: 0.0247949\ttotal: 4m 54s\tremaining: 3m 29s\n",
      "584:\tlearn: 0.0247413\ttotal: 4m 54s\tremaining: 3m 29s\n",
      "585:\tlearn: 0.0246825\ttotal: 4m 55s\tremaining: 3m 28s\n",
      "586:\tlearn: 0.0246263\ttotal: 4m 55s\tremaining: 3m 28s\n",
      "587:\tlearn: 0.0245706\ttotal: 4m 56s\tremaining: 3m 27s\n",
      "588:\tlearn: 0.0244998\ttotal: 4m 56s\tremaining: 3m 27s\n",
      "589:\tlearn: 0.0244429\ttotal: 4m 57s\tremaining: 3m 26s\n",
      "590:\tlearn: 0.0243974\ttotal: 4m 57s\tremaining: 3m 26s\n",
      "591:\tlearn: 0.0243339\ttotal: 4m 58s\tremaining: 3m 25s\n",
      "592:\tlearn: 0.0242809\ttotal: 4m 58s\tremaining: 3m 25s\n",
      "593:\tlearn: 0.0242032\ttotal: 4m 59s\tremaining: 3m 24s\n",
      "594:\tlearn: 0.0241467\ttotal: 5m\tremaining: 3m 24s\n",
      "595:\tlearn: 0.0240865\ttotal: 5m\tremaining: 3m 23s\n",
      "596:\tlearn: 0.0240393\ttotal: 5m 1s\tremaining: 3m 23s\n",
      "597:\tlearn: 0.0239921\ttotal: 5m 1s\tremaining: 3m 22s\n",
      "598:\tlearn: 0.0239595\ttotal: 5m 2s\tremaining: 3m 22s\n",
      "599:\tlearn: 0.0238895\ttotal: 5m 2s\tremaining: 3m 21s\n",
      "600:\tlearn: 0.0238299\ttotal: 5m 3s\tremaining: 3m 21s\n",
      "601:\tlearn: 0.0237608\ttotal: 5m 3s\tremaining: 3m 20s\n",
      "602:\tlearn: 0.0237031\ttotal: 5m 4s\tremaining: 3m 20s\n",
      "603:\tlearn: 0.0236451\ttotal: 5m 4s\tremaining: 3m 19s\n",
      "604:\tlearn: 0.0236004\ttotal: 5m 5s\tremaining: 3m 19s\n",
      "605:\tlearn: 0.0235529\ttotal: 5m 5s\tremaining: 3m 18s\n",
      "606:\tlearn: 0.0234895\ttotal: 5m 6s\tremaining: 3m 18s\n",
      "607:\tlearn: 0.0234444\ttotal: 5m 6s\tremaining: 3m 17s\n",
      "608:\tlearn: 0.0234042\ttotal: 5m 7s\tremaining: 3m 17s\n",
      "609:\tlearn: 0.0233620\ttotal: 5m 7s\tremaining: 3m 16s\n",
      "610:\tlearn: 0.0233125\ttotal: 5m 8s\tremaining: 3m 16s\n",
      "611:\tlearn: 0.0232760\ttotal: 5m 8s\tremaining: 3m 15s\n",
      "612:\tlearn: 0.0232388\ttotal: 5m 9s\tremaining: 3m 15s\n",
      "613:\tlearn: 0.0231863\ttotal: 5m 9s\tremaining: 3m 14s\n",
      "614:\tlearn: 0.0231284\ttotal: 5m 10s\tremaining: 3m 14s\n",
      "615:\tlearn: 0.0230755\ttotal: 5m 10s\tremaining: 3m 13s\n",
      "616:\tlearn: 0.0230480\ttotal: 5m 11s\tremaining: 3m 13s\n",
      "617:\tlearn: 0.0229881\ttotal: 5m 11s\tremaining: 3m 12s\n",
      "618:\tlearn: 0.0229198\ttotal: 5m 12s\tremaining: 3m 12s\n",
      "619:\tlearn: 0.0228782\ttotal: 5m 12s\tremaining: 3m 11s\n",
      "620:\tlearn: 0.0228216\ttotal: 5m 13s\tremaining: 3m 11s\n",
      "621:\tlearn: 0.0227681\ttotal: 5m 13s\tremaining: 3m 10s\n",
      "622:\tlearn: 0.0226921\ttotal: 5m 14s\tremaining: 3m 10s\n",
      "623:\tlearn: 0.0226389\ttotal: 5m 15s\tremaining: 3m 9s\n",
      "624:\tlearn: 0.0226076\ttotal: 5m 15s\tremaining: 3m 9s\n",
      "625:\tlearn: 0.0225612\ttotal: 5m 16s\tremaining: 3m 8s\n",
      "626:\tlearn: 0.0225273\ttotal: 5m 16s\tremaining: 3m 8s\n",
      "627:\tlearn: 0.0224910\ttotal: 5m 17s\tremaining: 3m 8s\n",
      "628:\tlearn: 0.0224379\ttotal: 5m 18s\tremaining: 3m 7s\n",
      "629:\tlearn: 0.0223785\ttotal: 5m 18s\tremaining: 3m 7s\n",
      "630:\tlearn: 0.0223122\ttotal: 5m 18s\tremaining: 3m 6s\n",
      "631:\tlearn: 0.0222717\ttotal: 5m 19s\tremaining: 3m 6s\n",
      "632:\tlearn: 0.0222167\ttotal: 5m 19s\tremaining: 3m 5s\n",
      "633:\tlearn: 0.0221724\ttotal: 5m 20s\tremaining: 3m 4s\n",
      "634:\tlearn: 0.0221334\ttotal: 5m 20s\tremaining: 3m 4s\n",
      "635:\tlearn: 0.0220846\ttotal: 5m 21s\tremaining: 3m 3s\n",
      "636:\tlearn: 0.0220365\ttotal: 5m 21s\tremaining: 3m 3s\n",
      "637:\tlearn: 0.0219952\ttotal: 5m 22s\tremaining: 3m 2s\n",
      "638:\tlearn: 0.0219546\ttotal: 5m 22s\tremaining: 3m 2s\n",
      "639:\tlearn: 0.0219256\ttotal: 5m 23s\tremaining: 3m 1s\n",
      "640:\tlearn: 0.0218737\ttotal: 5m 23s\tremaining: 3m 1s\n",
      "641:\tlearn: 0.0218356\ttotal: 5m 24s\tremaining: 3m\n",
      "642:\tlearn: 0.0217943\ttotal: 5m 24s\tremaining: 3m\n",
      "643:\tlearn: 0.0217205\ttotal: 5m 25s\tremaining: 2m 59s\n",
      "644:\tlearn: 0.0216569\ttotal: 5m 25s\tremaining: 2m 59s\n",
      "645:\tlearn: 0.0216079\ttotal: 5m 26s\tremaining: 2m 58s\n",
      "646:\tlearn: 0.0215575\ttotal: 5m 26s\tremaining: 2m 58s\n",
      "647:\tlearn: 0.0214957\ttotal: 5m 27s\tremaining: 2m 57s\n",
      "648:\tlearn: 0.0214635\ttotal: 5m 27s\tremaining: 2m 57s\n",
      "649:\tlearn: 0.0214131\ttotal: 5m 28s\tremaining: 2m 56s\n",
      "650:\tlearn: 0.0213815\ttotal: 5m 28s\tremaining: 2m 56s\n",
      "651:\tlearn: 0.0213293\ttotal: 5m 29s\tremaining: 2m 55s\n",
      "652:\tlearn: 0.0212760\ttotal: 5m 29s\tremaining: 2m 55s\n",
      "653:\tlearn: 0.0212279\ttotal: 5m 30s\tremaining: 2m 54s\n",
      "654:\tlearn: 0.0211932\ttotal: 5m 30s\tremaining: 2m 54s\n",
      "655:\tlearn: 0.0211392\ttotal: 5m 31s\tremaining: 2m 53s\n",
      "656:\tlearn: 0.0211154\ttotal: 5m 31s\tremaining: 2m 53s\n",
      "657:\tlearn: 0.0210731\ttotal: 5m 32s\tremaining: 2m 52s\n",
      "658:\tlearn: 0.0210222\ttotal: 5m 32s\tremaining: 2m 52s\n",
      "659:\tlearn: 0.0209763\ttotal: 5m 33s\tremaining: 2m 51s\n",
      "660:\tlearn: 0.0209279\ttotal: 5m 34s\tremaining: 2m 51s\n",
      "661:\tlearn: 0.0208893\ttotal: 5m 34s\tremaining: 2m 50s\n",
      "662:\tlearn: 0.0208408\ttotal: 5m 35s\tremaining: 2m 50s\n",
      "663:\tlearn: 0.0207922\ttotal: 5m 35s\tremaining: 2m 49s\n",
      "664:\tlearn: 0.0207401\ttotal: 5m 36s\tremaining: 2m 49s\n",
      "665:\tlearn: 0.0207083\ttotal: 5m 36s\tremaining: 2m 48s\n",
      "666:\tlearn: 0.0206621\ttotal: 5m 37s\tremaining: 2m 48s\n",
      "667:\tlearn: 0.0206183\ttotal: 5m 37s\tremaining: 2m 47s\n",
      "668:\tlearn: 0.0205753\ttotal: 5m 38s\tremaining: 2m 47s\n",
      "669:\tlearn: 0.0205337\ttotal: 5m 38s\tremaining: 2m 46s\n",
      "670:\tlearn: 0.0204843\ttotal: 5m 39s\tremaining: 2m 46s\n",
      "671:\tlearn: 0.0204416\ttotal: 5m 39s\tremaining: 2m 45s\n",
      "672:\tlearn: 0.0204012\ttotal: 5m 40s\tremaining: 2m 45s\n",
      "673:\tlearn: 0.0203376\ttotal: 5m 40s\tremaining: 2m 44s\n",
      "674:\tlearn: 0.0202818\ttotal: 5m 41s\tremaining: 2m 44s\n",
      "675:\tlearn: 0.0202274\ttotal: 5m 41s\tremaining: 2m 43s\n",
      "676:\tlearn: 0.0201785\ttotal: 5m 42s\tremaining: 2m 43s\n",
      "677:\tlearn: 0.0201371\ttotal: 5m 42s\tremaining: 2m 42s\n",
      "678:\tlearn: 0.0200819\ttotal: 5m 43s\tremaining: 2m 42s\n",
      "679:\tlearn: 0.0200446\ttotal: 5m 43s\tremaining: 2m 41s\n",
      "680:\tlearn: 0.0200149\ttotal: 5m 44s\tremaining: 2m 41s\n",
      "681:\tlearn: 0.0199834\ttotal: 5m 44s\tremaining: 2m 40s\n",
      "682:\tlearn: 0.0199458\ttotal: 5m 45s\tremaining: 2m 40s\n",
      "683:\tlearn: 0.0198742\ttotal: 5m 45s\tremaining: 2m 39s\n",
      "684:\tlearn: 0.0198419\ttotal: 5m 46s\tremaining: 2m 39s\n",
      "685:\tlearn: 0.0198118\ttotal: 5m 46s\tremaining: 2m 38s\n",
      "686:\tlearn: 0.0197792\ttotal: 5m 47s\tremaining: 2m 38s\n",
      "687:\tlearn: 0.0197454\ttotal: 5m 47s\tremaining: 2m 37s\n",
      "688:\tlearn: 0.0197171\ttotal: 5m 48s\tremaining: 2m 37s\n",
      "689:\tlearn: 0.0196711\ttotal: 5m 48s\tremaining: 2m 36s\n",
      "690:\tlearn: 0.0196306\ttotal: 5m 49s\tremaining: 2m 36s\n",
      "691:\tlearn: 0.0195886\ttotal: 5m 50s\tremaining: 2m 35s\n",
      "692:\tlearn: 0.0195460\ttotal: 5m 50s\tremaining: 2m 35s\n",
      "693:\tlearn: 0.0195038\ttotal: 5m 50s\tremaining: 2m 34s\n",
      "694:\tlearn: 0.0194752\ttotal: 5m 51s\tremaining: 2m 34s\n",
      "695:\tlearn: 0.0194336\ttotal: 5m 51s\tremaining: 2m 33s\n",
      "696:\tlearn: 0.0194041\ttotal: 5m 52s\tremaining: 2m 33s\n",
      "697:\tlearn: 0.0193616\ttotal: 5m 52s\tremaining: 2m 32s\n",
      "698:\tlearn: 0.0193321\ttotal: 5m 53s\tremaining: 2m 32s\n",
      "699:\tlearn: 0.0192782\ttotal: 5m 53s\tremaining: 2m 31s\n",
      "700:\tlearn: 0.0192490\ttotal: 5m 54s\tremaining: 2m 31s\n",
      "701:\tlearn: 0.0192153\ttotal: 5m 54s\tremaining: 2m 30s\n",
      "702:\tlearn: 0.0191845\ttotal: 5m 55s\tremaining: 2m 30s\n",
      "703:\tlearn: 0.0191524\ttotal: 5m 55s\tremaining: 2m 29s\n",
      "704:\tlearn: 0.0191286\ttotal: 5m 56s\tremaining: 2m 29s\n",
      "705:\tlearn: 0.0190843\ttotal: 5m 56s\tremaining: 2m 28s\n",
      "706:\tlearn: 0.0190527\ttotal: 5m 57s\tremaining: 2m 28s\n",
      "707:\tlearn: 0.0190150\ttotal: 5m 57s\tremaining: 2m 27s\n",
      "708:\tlearn: 0.0189679\ttotal: 5m 58s\tremaining: 2m 27s\n",
      "709:\tlearn: 0.0189382\ttotal: 5m 58s\tremaining: 2m 26s\n",
      "710:\tlearn: 0.0189079\ttotal: 5m 59s\tremaining: 2m 26s\n",
      "711:\tlearn: 0.0188771\ttotal: 5m 59s\tremaining: 2m 25s\n",
      "712:\tlearn: 0.0188318\ttotal: 6m\tremaining: 2m 25s\n",
      "713:\tlearn: 0.0188059\ttotal: 6m\tremaining: 2m 24s\n",
      "714:\tlearn: 0.0187565\ttotal: 6m 1s\tremaining: 2m 23s\n",
      "715:\tlearn: 0.0187217\ttotal: 6m 1s\tremaining: 2m 23s\n",
      "716:\tlearn: 0.0186868\ttotal: 6m 2s\tremaining: 2m 22s\n",
      "717:\tlearn: 0.0186619\ttotal: 6m 2s\tremaining: 2m 22s\n",
      "718:\tlearn: 0.0186274\ttotal: 6m 3s\tremaining: 2m 21s\n",
      "719:\tlearn: 0.0185850\ttotal: 6m 3s\tremaining: 2m 21s\n",
      "720:\tlearn: 0.0185507\ttotal: 6m 4s\tremaining: 2m 21s\n",
      "721:\tlearn: 0.0185276\ttotal: 6m 4s\tremaining: 2m 20s\n",
      "722:\tlearn: 0.0184918\ttotal: 6m 5s\tremaining: 2m 20s\n",
      "723:\tlearn: 0.0184540\ttotal: 6m 6s\tremaining: 2m 19s\n",
      "724:\tlearn: 0.0184169\ttotal: 6m 6s\tremaining: 2m 19s\n",
      "725:\tlearn: 0.0183705\ttotal: 6m 7s\tremaining: 2m 18s\n",
      "726:\tlearn: 0.0183322\ttotal: 6m 7s\tremaining: 2m 18s\n",
      "727:\tlearn: 0.0182964\ttotal: 6m 8s\tremaining: 2m 17s\n",
      "728:\tlearn: 0.0182639\ttotal: 6m 8s\tremaining: 2m 17s\n",
      "729:\tlearn: 0.0182363\ttotal: 6m 9s\tremaining: 2m 16s\n",
      "730:\tlearn: 0.0182004\ttotal: 6m 9s\tremaining: 2m 15s\n",
      "731:\tlearn: 0.0181606\ttotal: 6m 10s\tremaining: 2m 15s\n",
      "732:\tlearn: 0.0181260\ttotal: 6m 10s\tremaining: 2m 14s\n",
      "733:\tlearn: 0.0180947\ttotal: 6m 11s\tremaining: 2m 14s\n",
      "734:\tlearn: 0.0180553\ttotal: 6m 11s\tremaining: 2m 13s\n",
      "735:\tlearn: 0.0180292\ttotal: 6m 11s\tremaining: 2m 13s\n",
      "736:\tlearn: 0.0180036\ttotal: 6m 12s\tremaining: 2m 12s\n",
      "737:\tlearn: 0.0179781\ttotal: 6m 12s\tremaining: 2m 12s\n",
      "738:\tlearn: 0.0179468\ttotal: 6m 13s\tremaining: 2m 11s\n",
      "739:\tlearn: 0.0179072\ttotal: 6m 13s\tremaining: 2m 11s\n",
      "740:\tlearn: 0.0178751\ttotal: 6m 14s\tremaining: 2m 10s\n",
      "741:\tlearn: 0.0178560\ttotal: 6m 14s\tremaining: 2m 10s\n",
      "742:\tlearn: 0.0178221\ttotal: 6m 15s\tremaining: 2m 9s\n",
      "743:\tlearn: 0.0177935\ttotal: 6m 15s\tremaining: 2m 9s\n",
      "744:\tlearn: 0.0177780\ttotal: 6m 16s\tremaining: 2m 8s\n",
      "745:\tlearn: 0.0177362\ttotal: 6m 16s\tremaining: 2m 8s\n",
      "746:\tlearn: 0.0176956\ttotal: 6m 17s\tremaining: 2m 7s\n",
      "747:\tlearn: 0.0176552\ttotal: 6m 17s\tremaining: 2m 7s\n",
      "748:\tlearn: 0.0176284\ttotal: 6m 18s\tremaining: 2m 6s\n",
      "749:\tlearn: 0.0176009\ttotal: 6m 18s\tremaining: 2m 6s\n",
      "750:\tlearn: 0.0175683\ttotal: 6m 19s\tremaining: 2m 5s\n",
      "751:\tlearn: 0.0175230\ttotal: 6m 20s\tremaining: 2m 5s\n",
      "752:\tlearn: 0.0174790\ttotal: 6m 20s\tremaining: 2m 4s\n",
      "753:\tlearn: 0.0174467\ttotal: 6m 21s\tremaining: 2m 4s\n",
      "754:\tlearn: 0.0174263\ttotal: 6m 21s\tremaining: 2m 3s\n",
      "755:\tlearn: 0.0173926\ttotal: 6m 22s\tremaining: 2m 3s\n",
      "756:\tlearn: 0.0173597\ttotal: 6m 22s\tremaining: 2m 2s\n",
      "757:\tlearn: 0.0173239\ttotal: 6m 23s\tremaining: 2m 2s\n",
      "758:\tlearn: 0.0172924\ttotal: 6m 23s\tremaining: 2m 1s\n",
      "759:\tlearn: 0.0172570\ttotal: 6m 24s\tremaining: 2m 1s\n",
      "760:\tlearn: 0.0172205\ttotal: 6m 24s\tremaining: 2m\n",
      "761:\tlearn: 0.0171948\ttotal: 6m 25s\tremaining: 2m\n",
      "762:\tlearn: 0.0171613\ttotal: 6m 25s\tremaining: 1m 59s\n",
      "763:\tlearn: 0.0171395\ttotal: 6m 26s\tremaining: 1m 59s\n",
      "764:\tlearn: 0.0171142\ttotal: 6m 26s\tremaining: 1m 58s\n",
      "765:\tlearn: 0.0170596\ttotal: 6m 27s\tremaining: 1m 58s\n",
      "766:\tlearn: 0.0170219\ttotal: 6m 27s\tremaining: 1m 57s\n",
      "767:\tlearn: 0.0169906\ttotal: 6m 28s\tremaining: 1m 57s\n",
      "768:\tlearn: 0.0169625\ttotal: 6m 28s\tremaining: 1m 56s\n",
      "769:\tlearn: 0.0169380\ttotal: 6m 29s\tremaining: 1m 56s\n",
      "770:\tlearn: 0.0169076\ttotal: 6m 29s\tremaining: 1m 55s\n",
      "771:\tlearn: 0.0168808\ttotal: 6m 30s\tremaining: 1m 55s\n",
      "772:\tlearn: 0.0168539\ttotal: 6m 30s\tremaining: 1m 54s\n",
      "773:\tlearn: 0.0168341\ttotal: 6m 31s\tremaining: 1m 54s\n",
      "774:\tlearn: 0.0168150\ttotal: 6m 31s\tremaining: 1m 53s\n",
      "775:\tlearn: 0.0167945\ttotal: 6m 32s\tremaining: 1m 53s\n",
      "776:\tlearn: 0.0167759\ttotal: 6m 32s\tremaining: 1m 52s\n",
      "777:\tlearn: 0.0167563\ttotal: 6m 32s\tremaining: 1m 52s\n",
      "778:\tlearn: 0.0167214\ttotal: 6m 33s\tremaining: 1m 51s\n",
      "779:\tlearn: 0.0166830\ttotal: 6m 33s\tremaining: 1m 51s\n",
      "780:\tlearn: 0.0166545\ttotal: 6m 34s\tremaining: 1m 50s\n",
      "781:\tlearn: 0.0166162\ttotal: 6m 34s\tremaining: 1m 50s\n",
      "782:\tlearn: 0.0165910\ttotal: 6m 35s\tremaining: 1m 49s\n",
      "783:\tlearn: 0.0165686\ttotal: 6m 36s\tremaining: 1m 49s\n",
      "784:\tlearn: 0.0165482\ttotal: 6m 36s\tremaining: 1m 48s\n",
      "785:\tlearn: 0.0165321\ttotal: 6m 37s\tremaining: 1m 48s\n",
      "786:\tlearn: 0.0165131\ttotal: 6m 37s\tremaining: 1m 47s\n",
      "787:\tlearn: 0.0164858\ttotal: 6m 38s\tremaining: 1m 47s\n",
      "788:\tlearn: 0.0164555\ttotal: 6m 38s\tremaining: 1m 46s\n",
      "789:\tlearn: 0.0164206\ttotal: 6m 39s\tremaining: 1m 46s\n",
      "790:\tlearn: 0.0164054\ttotal: 6m 39s\tremaining: 1m 45s\n",
      "791:\tlearn: 0.0163760\ttotal: 6m 40s\tremaining: 1m 45s\n",
      "792:\tlearn: 0.0163526\ttotal: 6m 40s\tremaining: 1m 44s\n",
      "793:\tlearn: 0.0163342\ttotal: 6m 41s\tremaining: 1m 44s\n",
      "794:\tlearn: 0.0163154\ttotal: 6m 41s\tremaining: 1m 43s\n",
      "795:\tlearn: 0.0162856\ttotal: 6m 42s\tremaining: 1m 43s\n",
      "796:\tlearn: 0.0162554\ttotal: 6m 42s\tremaining: 1m 42s\n",
      "797:\tlearn: 0.0162289\ttotal: 6m 43s\tremaining: 1m 42s\n",
      "798:\tlearn: 0.0161969\ttotal: 6m 43s\tremaining: 1m 41s\n",
      "799:\tlearn: 0.0161612\ttotal: 6m 44s\tremaining: 1m 41s\n",
      "800:\tlearn: 0.0161308\ttotal: 6m 44s\tremaining: 1m 40s\n",
      "801:\tlearn: 0.0161035\ttotal: 6m 45s\tremaining: 1m 40s\n",
      "802:\tlearn: 0.0160634\ttotal: 6m 45s\tremaining: 1m 39s\n",
      "803:\tlearn: 0.0160403\ttotal: 6m 46s\tremaining: 1m 39s\n",
      "804:\tlearn: 0.0160165\ttotal: 6m 46s\tremaining: 1m 38s\n",
      "805:\tlearn: 0.0159992\ttotal: 6m 47s\tremaining: 1m 38s\n",
      "806:\tlearn: 0.0159698\ttotal: 6m 47s\tremaining: 1m 37s\n",
      "807:\tlearn: 0.0159456\ttotal: 6m 48s\tremaining: 1m 37s\n",
      "808:\tlearn: 0.0159208\ttotal: 6m 48s\tremaining: 1m 36s\n",
      "809:\tlearn: 0.0158909\ttotal: 6m 49s\tremaining: 1m 35s\n",
      "810:\tlearn: 0.0158648\ttotal: 6m 49s\tremaining: 1m 35s\n",
      "811:\tlearn: 0.0158391\ttotal: 6m 50s\tremaining: 1m 34s\n",
      "812:\tlearn: 0.0158209\ttotal: 6m 50s\tremaining: 1m 34s\n",
      "813:\tlearn: 0.0157749\ttotal: 6m 51s\tremaining: 1m 33s\n",
      "814:\tlearn: 0.0157523\ttotal: 6m 51s\tremaining: 1m 33s\n",
      "815:\tlearn: 0.0157308\ttotal: 6m 52s\tremaining: 1m 33s\n",
      "816:\tlearn: 0.0156904\ttotal: 6m 53s\tremaining: 1m 32s\n",
      "817:\tlearn: 0.0156662\ttotal: 6m 53s\tremaining: 1m 32s\n",
      "818:\tlearn: 0.0156423\ttotal: 6m 54s\tremaining: 1m 31s\n",
      "819:\tlearn: 0.0156211\ttotal: 6m 54s\tremaining: 1m 31s\n",
      "820:\tlearn: 0.0155971\ttotal: 6m 55s\tremaining: 1m 30s\n",
      "821:\tlearn: 0.0155754\ttotal: 6m 55s\tremaining: 1m 29s\n",
      "822:\tlearn: 0.0155493\ttotal: 6m 56s\tremaining: 1m 29s\n",
      "823:\tlearn: 0.0155289\ttotal: 6m 56s\tremaining: 1m 28s\n",
      "824:\tlearn: 0.0155057\ttotal: 6m 57s\tremaining: 1m 28s\n",
      "825:\tlearn: 0.0154878\ttotal: 6m 57s\tremaining: 1m 27s\n",
      "826:\tlearn: 0.0154706\ttotal: 6m 58s\tremaining: 1m 27s\n",
      "827:\tlearn: 0.0154513\ttotal: 6m 58s\tremaining: 1m 26s\n",
      "828:\tlearn: 0.0154241\ttotal: 6m 59s\tremaining: 1m 26s\n",
      "829:\tlearn: 0.0154074\ttotal: 6m 59s\tremaining: 1m 25s\n",
      "830:\tlearn: 0.0153849\ttotal: 7m\tremaining: 1m 25s\n",
      "831:\tlearn: 0.0153618\ttotal: 7m\tremaining: 1m 24s\n",
      "832:\tlearn: 0.0153389\ttotal: 7m 1s\tremaining: 1m 24s\n",
      "833:\tlearn: 0.0153203\ttotal: 7m 1s\tremaining: 1m 23s\n",
      "834:\tlearn: 0.0152899\ttotal: 7m 2s\tremaining: 1m 23s\n",
      "835:\tlearn: 0.0152754\ttotal: 7m 2s\tremaining: 1m 22s\n",
      "836:\tlearn: 0.0152425\ttotal: 7m 3s\tremaining: 1m 22s\n",
      "837:\tlearn: 0.0152162\ttotal: 7m 3s\tremaining: 1m 21s\n",
      "838:\tlearn: 0.0151945\ttotal: 7m 3s\tremaining: 1m 21s\n",
      "839:\tlearn: 0.0151692\ttotal: 7m 4s\tremaining: 1m 20s\n",
      "840:\tlearn: 0.0151436\ttotal: 7m 4s\tremaining: 1m 20s\n",
      "841:\tlearn: 0.0151139\ttotal: 7m 5s\tremaining: 1m 19s\n",
      "842:\tlearn: 0.0150896\ttotal: 7m 5s\tremaining: 1m 19s\n",
      "843:\tlearn: 0.0150693\ttotal: 7m 6s\tremaining: 1m 18s\n",
      "844:\tlearn: 0.0150489\ttotal: 7m 6s\tremaining: 1m 18s\n",
      "845:\tlearn: 0.0150328\ttotal: 7m 7s\tremaining: 1m 17s\n",
      "846:\tlearn: 0.0150139\ttotal: 7m 8s\tremaining: 1m 17s\n",
      "847:\tlearn: 0.0149961\ttotal: 7m 8s\tremaining: 1m 16s\n",
      "848:\tlearn: 0.0149753\ttotal: 7m 9s\tremaining: 1m 16s\n",
      "849:\tlearn: 0.0149539\ttotal: 7m 9s\tremaining: 1m 15s\n",
      "850:\tlearn: 0.0149367\ttotal: 7m 10s\tremaining: 1m 15s\n",
      "851:\tlearn: 0.0149148\ttotal: 7m 10s\tremaining: 1m 14s\n",
      "852:\tlearn: 0.0148961\ttotal: 7m 11s\tremaining: 1m 14s\n",
      "853:\tlearn: 0.0148760\ttotal: 7m 11s\tremaining: 1m 13s\n",
      "854:\tlearn: 0.0148597\ttotal: 7m 12s\tremaining: 1m 13s\n",
      "855:\tlearn: 0.0148314\ttotal: 7m 12s\tremaining: 1m 12s\n",
      "856:\tlearn: 0.0148170\ttotal: 7m 13s\tremaining: 1m 12s\n",
      "857:\tlearn: 0.0147939\ttotal: 7m 13s\tremaining: 1m 11s\n",
      "858:\tlearn: 0.0147739\ttotal: 7m 14s\tremaining: 1m 11s\n",
      "859:\tlearn: 0.0147414\ttotal: 7m 14s\tremaining: 1m 10s\n",
      "860:\tlearn: 0.0147232\ttotal: 7m 15s\tremaining: 1m 10s\n",
      "861:\tlearn: 0.0147035\ttotal: 7m 15s\tremaining: 1m 9s\n",
      "862:\tlearn: 0.0146873\ttotal: 7m 16s\tremaining: 1m 9s\n",
      "863:\tlearn: 0.0146683\ttotal: 7m 16s\tremaining: 1m 8s\n",
      "864:\tlearn: 0.0146458\ttotal: 7m 17s\tremaining: 1m 8s\n",
      "865:\tlearn: 0.0146151\ttotal: 7m 17s\tremaining: 1m 7s\n",
      "866:\tlearn: 0.0145952\ttotal: 7m 18s\tremaining: 1m 7s\n",
      "867:\tlearn: 0.0145700\ttotal: 7m 18s\tremaining: 1m 6s\n",
      "868:\tlearn: 0.0145425\ttotal: 7m 19s\tremaining: 1m 6s\n",
      "869:\tlearn: 0.0145212\ttotal: 7m 19s\tremaining: 1m 5s\n",
      "870:\tlearn: 0.0145020\ttotal: 7m 20s\tremaining: 1m 5s\n",
      "871:\tlearn: 0.0144797\ttotal: 7m 20s\tremaining: 1m 4s\n",
      "872:\tlearn: 0.0144575\ttotal: 7m 21s\tremaining: 1m 4s\n",
      "873:\tlearn: 0.0144425\ttotal: 7m 21s\tremaining: 1m 3s\n",
      "874:\tlearn: 0.0144238\ttotal: 7m 22s\tremaining: 1m 3s\n",
      "875:\tlearn: 0.0144038\ttotal: 7m 22s\tremaining: 1m 2s\n",
      "876:\tlearn: 0.0143709\ttotal: 7m 23s\tremaining: 1m 2s\n",
      "877:\tlearn: 0.0143489\ttotal: 7m 23s\tremaining: 1m 1s\n",
      "878:\tlearn: 0.0143227\ttotal: 7m 24s\tremaining: 1m 1s\n",
      "879:\tlearn: 0.0143060\ttotal: 7m 24s\tremaining: 1m\n",
      "880:\tlearn: 0.0142862\ttotal: 7m 25s\tremaining: 1m\n",
      "881:\tlearn: 0.0142681\ttotal: 7m 25s\tremaining: 59.7s\n",
      "882:\tlearn: 0.0142504\ttotal: 7m 26s\tremaining: 59.2s\n",
      "883:\tlearn: 0.0142254\ttotal: 7m 26s\tremaining: 58.6s\n",
      "884:\tlearn: 0.0142066\ttotal: 7m 27s\tremaining: 58.1s\n",
      "885:\tlearn: 0.0141900\ttotal: 7m 27s\tremaining: 57.6s\n",
      "886:\tlearn: 0.0141605\ttotal: 7m 28s\tremaining: 57.1s\n",
      "887:\tlearn: 0.0141314\ttotal: 7m 28s\tremaining: 56.6s\n",
      "888:\tlearn: 0.0141137\ttotal: 7m 29s\tremaining: 56.1s\n",
      "889:\tlearn: 0.0141019\ttotal: 7m 29s\tremaining: 55.6s\n",
      "890:\tlearn: 0.0140772\ttotal: 7m 30s\tremaining: 55.1s\n",
      "891:\tlearn: 0.0140452\ttotal: 7m 30s\tremaining: 54.6s\n",
      "892:\tlearn: 0.0140209\ttotal: 7m 31s\tremaining: 54.1s\n",
      "893:\tlearn: 0.0139859\ttotal: 7m 31s\tremaining: 53.6s\n",
      "894:\tlearn: 0.0139677\ttotal: 7m 32s\tremaining: 53.1s\n",
      "895:\tlearn: 0.0139498\ttotal: 7m 32s\tremaining: 52.6s\n",
      "896:\tlearn: 0.0139291\ttotal: 7m 33s\tremaining: 52.1s\n",
      "897:\tlearn: 0.0139142\ttotal: 7m 33s\tremaining: 51.5s\n",
      "898:\tlearn: 0.0138966\ttotal: 7m 34s\tremaining: 51s\n",
      "899:\tlearn: 0.0138746\ttotal: 7m 34s\tremaining: 50.5s\n",
      "900:\tlearn: 0.0138588\ttotal: 7m 35s\tremaining: 50s\n",
      "901:\tlearn: 0.0138331\ttotal: 7m 35s\tremaining: 49.5s\n",
      "902:\tlearn: 0.0138139\ttotal: 7m 36s\tremaining: 49s\n",
      "903:\tlearn: 0.0137943\ttotal: 7m 36s\tremaining: 48.5s\n",
      "904:\tlearn: 0.0137767\ttotal: 7m 37s\tremaining: 48s\n",
      "905:\tlearn: 0.0137583\ttotal: 7m 37s\tremaining: 47.5s\n",
      "906:\tlearn: 0.0137488\ttotal: 7m 38s\tremaining: 47s\n",
      "907:\tlearn: 0.0137352\ttotal: 7m 38s\tremaining: 46.5s\n",
      "908:\tlearn: 0.0137139\ttotal: 7m 39s\tremaining: 46s\n",
      "909:\tlearn: 0.0136942\ttotal: 7m 39s\tremaining: 45.5s\n",
      "910:\tlearn: 0.0136771\ttotal: 7m 40s\tremaining: 45s\n",
      "911:\tlearn: 0.0136571\ttotal: 7m 41s\tremaining: 44.5s\n",
      "912:\tlearn: 0.0136441\ttotal: 7m 41s\tremaining: 44s\n",
      "913:\tlearn: 0.0136158\ttotal: 7m 42s\tremaining: 43.5s\n",
      "914:\tlearn: 0.0135960\ttotal: 7m 42s\tremaining: 43s\n",
      "915:\tlearn: 0.0135767\ttotal: 7m 43s\tremaining: 42.5s\n",
      "916:\tlearn: 0.0135479\ttotal: 7m 43s\tremaining: 42s\n",
      "917:\tlearn: 0.0135382\ttotal: 7m 44s\tremaining: 41.5s\n",
      "918:\tlearn: 0.0135215\ttotal: 7m 44s\tremaining: 41s\n",
      "919:\tlearn: 0.0135081\ttotal: 7m 45s\tremaining: 40.4s\n",
      "920:\tlearn: 0.0134771\ttotal: 7m 45s\tremaining: 39.9s\n",
      "921:\tlearn: 0.0134662\ttotal: 7m 46s\tremaining: 39.4s\n",
      "922:\tlearn: 0.0134440\ttotal: 7m 46s\tremaining: 38.9s\n",
      "923:\tlearn: 0.0134264\ttotal: 7m 47s\tremaining: 38.4s\n",
      "924:\tlearn: 0.0134038\ttotal: 7m 47s\tremaining: 37.9s\n",
      "925:\tlearn: 0.0133859\ttotal: 7m 48s\tremaining: 37.4s\n",
      "926:\tlearn: 0.0133740\ttotal: 7m 48s\tremaining: 36.9s\n",
      "927:\tlearn: 0.0133615\ttotal: 7m 48s\tremaining: 36.4s\n",
      "928:\tlearn: 0.0133529\ttotal: 7m 49s\tremaining: 35.9s\n",
      "929:\tlearn: 0.0133366\ttotal: 7m 49s\tremaining: 35.4s\n",
      "930:\tlearn: 0.0133214\ttotal: 7m 50s\tremaining: 34.9s\n",
      "931:\tlearn: 0.0133025\ttotal: 7m 50s\tremaining: 34.4s\n",
      "932:\tlearn: 0.0132846\ttotal: 7m 51s\tremaining: 33.9s\n",
      "933:\tlearn: 0.0132726\ttotal: 7m 51s\tremaining: 33.4s\n",
      "934:\tlearn: 0.0132594\ttotal: 7m 52s\tremaining: 32.8s\n",
      "935:\tlearn: 0.0132413\ttotal: 7m 52s\tremaining: 32.3s\n",
      "936:\tlearn: 0.0132249\ttotal: 7m 53s\tremaining: 31.8s\n",
      "937:\tlearn: 0.0132064\ttotal: 7m 53s\tremaining: 31.3s\n",
      "938:\tlearn: 0.0131877\ttotal: 7m 54s\tremaining: 30.8s\n",
      "939:\tlearn: 0.0131681\ttotal: 7m 54s\tremaining: 30.3s\n",
      "940:\tlearn: 0.0131550\ttotal: 7m 55s\tremaining: 29.8s\n",
      "941:\tlearn: 0.0131410\ttotal: 7m 56s\tremaining: 29.3s\n",
      "942:\tlearn: 0.0131225\ttotal: 7m 56s\tremaining: 28.8s\n",
      "943:\tlearn: 0.0131074\ttotal: 7m 57s\tremaining: 28.3s\n",
      "944:\tlearn: 0.0130965\ttotal: 7m 57s\tremaining: 27.8s\n",
      "945:\tlearn: 0.0130772\ttotal: 7m 58s\tremaining: 27.3s\n",
      "946:\tlearn: 0.0130583\ttotal: 7m 58s\tremaining: 26.8s\n",
      "947:\tlearn: 0.0130420\ttotal: 7m 59s\tremaining: 26.3s\n",
      "948:\tlearn: 0.0130211\ttotal: 7m 59s\tremaining: 25.8s\n",
      "949:\tlearn: 0.0130045\ttotal: 8m\tremaining: 25.3s\n",
      "950:\tlearn: 0.0129910\ttotal: 8m\tremaining: 24.8s\n",
      "951:\tlearn: 0.0129728\ttotal: 8m 1s\tremaining: 24.3s\n",
      "952:\tlearn: 0.0129565\ttotal: 8m 1s\tremaining: 23.8s\n",
      "953:\tlearn: 0.0129446\ttotal: 8m 2s\tremaining: 23.3s\n",
      "954:\tlearn: 0.0129325\ttotal: 8m 2s\tremaining: 22.7s\n",
      "955:\tlearn: 0.0129133\ttotal: 8m 3s\tremaining: 22.2s\n",
      "956:\tlearn: 0.0128944\ttotal: 8m 3s\tremaining: 21.7s\n",
      "957:\tlearn: 0.0128798\ttotal: 8m 4s\tremaining: 21.2s\n",
      "958:\tlearn: 0.0128636\ttotal: 8m 4s\tremaining: 20.7s\n",
      "959:\tlearn: 0.0128473\ttotal: 8m 5s\tremaining: 20.2s\n",
      "960:\tlearn: 0.0128334\ttotal: 8m 5s\tremaining: 19.7s\n",
      "961:\tlearn: 0.0128158\ttotal: 8m 6s\tremaining: 19.2s\n",
      "962:\tlearn: 0.0127883\ttotal: 8m 6s\tremaining: 18.7s\n",
      "963:\tlearn: 0.0127699\ttotal: 8m 7s\tremaining: 18.2s\n",
      "964:\tlearn: 0.0127567\ttotal: 8m 7s\tremaining: 17.7s\n",
      "965:\tlearn: 0.0127353\ttotal: 8m 8s\tremaining: 17.2s\n",
      "966:\tlearn: 0.0127121\ttotal: 8m 8s\tremaining: 16.7s\n",
      "967:\tlearn: 0.0126975\ttotal: 8m 9s\tremaining: 16.2s\n",
      "968:\tlearn: 0.0126817\ttotal: 8m 9s\tremaining: 15.7s\n",
      "969:\tlearn: 0.0126718\ttotal: 8m 10s\tremaining: 15.2s\n",
      "970:\tlearn: 0.0126600\ttotal: 8m 10s\tremaining: 14.7s\n",
      "971:\tlearn: 0.0126432\ttotal: 8m 11s\tremaining: 14.2s\n",
      "972:\tlearn: 0.0126294\ttotal: 8m 11s\tremaining: 13.6s\n",
      "973:\tlearn: 0.0126124\ttotal: 8m 12s\tremaining: 13.1s\n",
      "974:\tlearn: 0.0125971\ttotal: 8m 13s\tremaining: 12.6s\n",
      "975:\tlearn: 0.0125787\ttotal: 8m 13s\tremaining: 12.1s\n",
      "976:\tlearn: 0.0125580\ttotal: 8m 14s\tremaining: 11.6s\n",
      "977:\tlearn: 0.0125457\ttotal: 8m 14s\tremaining: 11.1s\n",
      "978:\tlearn: 0.0125262\ttotal: 8m 15s\tremaining: 10.6s\n",
      "979:\tlearn: 0.0125060\ttotal: 8m 15s\tremaining: 10.1s\n",
      "980:\tlearn: 0.0124892\ttotal: 8m 16s\tremaining: 9.61s\n",
      "981:\tlearn: 0.0124742\ttotal: 8m 16s\tremaining: 9.1s\n",
      "982:\tlearn: 0.0124623\ttotal: 8m 17s\tremaining: 8.6s\n",
      "983:\tlearn: 0.0124476\ttotal: 8m 17s\tremaining: 8.09s\n",
      "984:\tlearn: 0.0124352\ttotal: 8m 18s\tremaining: 7.58s\n",
      "985:\tlearn: 0.0124134\ttotal: 8m 18s\tremaining: 7.08s\n",
      "986:\tlearn: 0.0123969\ttotal: 8m 19s\tremaining: 6.57s\n",
      "987:\tlearn: 0.0123826\ttotal: 8m 19s\tremaining: 6.07s\n",
      "988:\tlearn: 0.0123679\ttotal: 8m 20s\tremaining: 5.56s\n",
      "989:\tlearn: 0.0123423\ttotal: 8m 20s\tremaining: 5.05s\n",
      "990:\tlearn: 0.0123280\ttotal: 8m 21s\tremaining: 4.55s\n",
      "991:\tlearn: 0.0123123\ttotal: 8m 21s\tremaining: 4.04s\n",
      "992:\tlearn: 0.0123012\ttotal: 8m 21s\tremaining: 3.54s\n",
      "993:\tlearn: 0.0122877\ttotal: 8m 22s\tremaining: 3.03s\n",
      "994:\tlearn: 0.0122748\ttotal: 8m 22s\tremaining: 2.53s\n",
      "995:\tlearn: 0.0122542\ttotal: 8m 23s\tremaining: 2.02s\n",
      "996:\tlearn: 0.0122367\ttotal: 8m 23s\tremaining: 1.52s\n",
      "997:\tlearn: 0.0122257\ttotal: 8m 24s\tremaining: 1.01s\n",
      "998:\tlearn: 0.0122141\ttotal: 8m 24s\tremaining: 505ms\n",
      "999:\tlearn: 0.0122002\ttotal: 8m 25s\tremaining: 0us\n",
      "Learning rate set to 0.071551\n",
      "0:\tlearn: 1.3685156\ttotal: 563ms\tremaining: 9m 22s\n",
      "1:\tlearn: 1.3366589\ttotal: 1.12s\tremaining: 9m 18s\n",
      "2:\tlearn: 1.3086034\ttotal: 1.63s\tremaining: 9m\n",
      "3:\tlearn: 1.2917063\ttotal: 2.14s\tremaining: 8m 53s\n",
      "4:\tlearn: 1.2623344\ttotal: 2.65s\tremaining: 8m 46s\n",
      "5:\tlearn: 1.2413448\ttotal: 3.17s\tremaining: 8m 44s\n",
      "6:\tlearn: 1.2189976\ttotal: 3.77s\tremaining: 8m 54s\n",
      "7:\tlearn: 1.1964963\ttotal: 4.35s\tremaining: 8m 59s\n",
      "8:\tlearn: 1.1819821\ttotal: 4.9s\tremaining: 8m 59s\n",
      "9:\tlearn: 1.1598329\ttotal: 5.44s\tremaining: 8m 58s\n",
      "10:\tlearn: 1.1364009\ttotal: 5.98s\tremaining: 8m 57s\n",
      "11:\tlearn: 1.1096643\ttotal: 6.5s\tremaining: 8m 54s\n",
      "12:\tlearn: 1.0933246\ttotal: 7.01s\tremaining: 8m 52s\n",
      "13:\tlearn: 1.0788187\ttotal: 7.52s\tremaining: 8m 49s\n",
      "14:\tlearn: 1.0643776\ttotal: 8.03s\tremaining: 8m 47s\n",
      "15:\tlearn: 1.0474565\ttotal: 8.53s\tremaining: 8m 44s\n",
      "16:\tlearn: 1.0323320\ttotal: 9.03s\tremaining: 8m 42s\n",
      "17:\tlearn: 1.0158847\ttotal: 9.53s\tremaining: 8m 40s\n",
      "18:\tlearn: 1.0030600\ttotal: 10s\tremaining: 8m 38s\n",
      "19:\tlearn: 0.9883902\ttotal: 10.5s\tremaining: 8m 36s\n",
      "20:\tlearn: 0.9763955\ttotal: 11s\tremaining: 8m 35s\n",
      "21:\tlearn: 0.9628829\ttotal: 11.5s\tremaining: 8m 32s\n",
      "22:\tlearn: 0.9502504\ttotal: 12s\tremaining: 8m 30s\n",
      "23:\tlearn: 0.9421888\ttotal: 12.5s\tremaining: 8m 29s\n",
      "24:\tlearn: 0.9294663\ttotal: 13s\tremaining: 8m 27s\n",
      "25:\tlearn: 0.9140701\ttotal: 13.5s\tremaining: 8m 26s\n",
      "26:\tlearn: 0.9068249\ttotal: 14s\tremaining: 8m 25s\n",
      "27:\tlearn: 0.8980249\ttotal: 14.5s\tremaining: 8m 24s\n",
      "28:\tlearn: 0.8835902\ttotal: 15.1s\tremaining: 8m 26s\n",
      "29:\tlearn: 0.8724214\ttotal: 15.7s\tremaining: 8m 27s\n",
      "30:\tlearn: 0.8624568\ttotal: 16.3s\tremaining: 8m 29s\n",
      "31:\tlearn: 0.8532742\ttotal: 16.9s\tremaining: 8m 31s\n",
      "32:\tlearn: 0.8443467\ttotal: 17.5s\tremaining: 8m 33s\n",
      "33:\tlearn: 0.8322265\ttotal: 18.1s\tremaining: 8m 34s\n",
      "34:\tlearn: 0.8236102\ttotal: 18.7s\tremaining: 8m 35s\n",
      "35:\tlearn: 0.8159795\ttotal: 19.2s\tremaining: 8m 34s\n",
      "36:\tlearn: 0.8058687\ttotal: 19.8s\tremaining: 8m 34s\n",
      "37:\tlearn: 0.7941725\ttotal: 20.3s\tremaining: 8m 34s\n",
      "38:\tlearn: 0.7854321\ttotal: 20.9s\tremaining: 8m 33s\n",
      "39:\tlearn: 0.7747756\ttotal: 21.4s\tremaining: 8m 32s\n",
      "40:\tlearn: 0.7644525\ttotal: 21.9s\tremaining: 8m 31s\n",
      "41:\tlearn: 0.7596972\ttotal: 22.4s\tremaining: 8m 30s\n",
      "42:\tlearn: 0.7492017\ttotal: 22.9s\tremaining: 8m 29s\n",
      "43:\tlearn: 0.7442050\ttotal: 23.5s\tremaining: 8m 29s\n",
      "44:\tlearn: 0.7397544\ttotal: 24.1s\tremaining: 8m 30s\n",
      "45:\tlearn: 0.7320505\ttotal: 24.6s\tremaining: 8m 30s\n",
      "46:\tlearn: 0.7189215\ttotal: 25.1s\tremaining: 8m 29s\n",
      "47:\tlearn: 0.7115211\ttotal: 25.7s\tremaining: 8m 28s\n",
      "48:\tlearn: 0.6988470\ttotal: 26.2s\tremaining: 8m 28s\n",
      "49:\tlearn: 0.6901889\ttotal: 26.7s\tremaining: 8m 27s\n",
      "50:\tlearn: 0.6842611\ttotal: 27.2s\tremaining: 8m 26s\n",
      "51:\tlearn: 0.6785875\ttotal: 27.8s\tremaining: 8m 26s\n",
      "52:\tlearn: 0.6723217\ttotal: 28.3s\tremaining: 8m 25s\n",
      "53:\tlearn: 0.6628374\ttotal: 28.8s\tremaining: 8m 24s\n",
      "54:\tlearn: 0.6580774\ttotal: 29.3s\tremaining: 8m 23s\n",
      "55:\tlearn: 0.6523972\ttotal: 29.9s\tremaining: 8m 23s\n",
      "56:\tlearn: 0.6455890\ttotal: 30.4s\tremaining: 8m 22s\n",
      "57:\tlearn: 0.6389979\ttotal: 31s\tremaining: 8m 22s\n",
      "58:\tlearn: 0.6323342\ttotal: 31.5s\tremaining: 8m 22s\n",
      "59:\tlearn: 0.6248372\ttotal: 32.1s\tremaining: 8m 23s\n",
      "60:\tlearn: 0.6189533\ttotal: 32.8s\tremaining: 8m 24s\n",
      "61:\tlearn: 0.6111628\ttotal: 33.4s\tremaining: 8m 24s\n",
      "62:\tlearn: 0.6083992\ttotal: 34s\tremaining: 8m 25s\n",
      "63:\tlearn: 0.6007486\ttotal: 34.5s\tremaining: 8m 24s\n",
      "64:\tlearn: 0.5952147\ttotal: 35s\tremaining: 8m 23s\n",
      "65:\tlearn: 0.5830691\ttotal: 35.5s\tremaining: 8m 22s\n",
      "66:\tlearn: 0.5783415\ttotal: 36s\tremaining: 8m 21s\n",
      "67:\tlearn: 0.5718175\ttotal: 36.5s\tremaining: 8m 20s\n",
      "68:\tlearn: 0.5670905\ttotal: 37.1s\tremaining: 8m 20s\n",
      "69:\tlearn: 0.5587022\ttotal: 37.6s\tremaining: 8m 19s\n",
      "70:\tlearn: 0.5513153\ttotal: 38.1s\tremaining: 8m 18s\n",
      "71:\tlearn: 0.5414122\ttotal: 38.6s\tremaining: 8m 18s\n",
      "72:\tlearn: 0.5344914\ttotal: 39.2s\tremaining: 8m 17s\n",
      "73:\tlearn: 0.5290438\ttotal: 39.7s\tremaining: 8m 16s\n",
      "74:\tlearn: 0.5214924\ttotal: 40.2s\tremaining: 8m 16s\n",
      "75:\tlearn: 0.5166754\ttotal: 40.8s\tremaining: 8m 15s\n",
      "76:\tlearn: 0.5112453\ttotal: 41.3s\tremaining: 8m 15s\n",
      "77:\tlearn: 0.5062952\ttotal: 41.8s\tremaining: 8m 14s\n",
      "78:\tlearn: 0.5003152\ttotal: 42.4s\tremaining: 8m 13s\n",
      "79:\tlearn: 0.4971623\ttotal: 42.9s\tremaining: 8m 13s\n",
      "80:\tlearn: 0.4913755\ttotal: 43.4s\tremaining: 8m 12s\n",
      "81:\tlearn: 0.4860959\ttotal: 44s\tremaining: 8m 12s\n",
      "82:\tlearn: 0.4804147\ttotal: 44.5s\tremaining: 8m 11s\n",
      "83:\tlearn: 0.4692211\ttotal: 45s\tremaining: 8m 10s\n",
      "84:\tlearn: 0.4627904\ttotal: 45.5s\tremaining: 8m 10s\n",
      "85:\tlearn: 0.4573020\ttotal: 46s\tremaining: 8m 9s\n",
      "86:\tlearn: 0.4512160\ttotal: 46.6s\tremaining: 8m 9s\n",
      "87:\tlearn: 0.4457932\ttotal: 47.2s\tremaining: 8m 9s\n",
      "88:\tlearn: 0.4386623\ttotal: 47.8s\tremaining: 8m 9s\n",
      "89:\tlearn: 0.4337982\ttotal: 48.3s\tremaining: 8m 8s\n",
      "90:\tlearn: 0.4287005\ttotal: 48.9s\tremaining: 8m 8s\n",
      "91:\tlearn: 0.4226176\ttotal: 49.5s\tremaining: 8m 9s\n",
      "92:\tlearn: 0.4191339\ttotal: 50s\tremaining: 8m 8s\n",
      "93:\tlearn: 0.4115141\ttotal: 50.6s\tremaining: 8m 7s\n",
      "94:\tlearn: 0.4072428\ttotal: 51.1s\tremaining: 8m 6s\n",
      "95:\tlearn: 0.4005114\ttotal: 51.6s\tremaining: 8m 5s\n",
      "96:\tlearn: 0.3952614\ttotal: 52.1s\tremaining: 8m 4s\n",
      "97:\tlearn: 0.3903065\ttotal: 52.6s\tremaining: 8m 4s\n",
      "98:\tlearn: 0.3851173\ttotal: 53.1s\tremaining: 8m 3s\n",
      "99:\tlearn: 0.3808764\ttotal: 53.6s\tremaining: 8m 2s\n",
      "100:\tlearn: 0.3739841\ttotal: 54.1s\tremaining: 8m 1s\n",
      "101:\tlearn: 0.3690552\ttotal: 54.6s\tremaining: 8m 1s\n",
      "102:\tlearn: 0.3629677\ttotal: 55.2s\tremaining: 8m\n",
      "103:\tlearn: 0.3588855\ttotal: 55.7s\tremaining: 7m 59s\n",
      "104:\tlearn: 0.3511684\ttotal: 56.2s\tremaining: 7m 58s\n",
      "105:\tlearn: 0.3460672\ttotal: 56.7s\tremaining: 7m 57s\n",
      "106:\tlearn: 0.3407811\ttotal: 57.2s\tremaining: 7m 57s\n",
      "107:\tlearn: 0.3359609\ttotal: 57.7s\tremaining: 7m 56s\n",
      "108:\tlearn: 0.3307560\ttotal: 58.2s\tremaining: 7m 55s\n",
      "109:\tlearn: 0.3246536\ttotal: 58.8s\tremaining: 7m 55s\n",
      "110:\tlearn: 0.3189406\ttotal: 59.3s\tremaining: 7m 54s\n",
      "111:\tlearn: 0.3149022\ttotal: 59.8s\tremaining: 7m 53s\n",
      "112:\tlearn: 0.3083830\ttotal: 1m\tremaining: 7m 53s\n",
      "113:\tlearn: 0.3047543\ttotal: 1m\tremaining: 7m 52s\n",
      "114:\tlearn: 0.3003166\ttotal: 1m 1s\tremaining: 7m 51s\n",
      "115:\tlearn: 0.2954501\ttotal: 1m 1s\tremaining: 7m 50s\n",
      "116:\tlearn: 0.2905231\ttotal: 1m 2s\tremaining: 7m 50s\n",
      "117:\tlearn: 0.2856424\ttotal: 1m 2s\tremaining: 7m 50s\n",
      "118:\tlearn: 0.2814850\ttotal: 1m 3s\tremaining: 7m 50s\n",
      "119:\tlearn: 0.2777447\ttotal: 1m 4s\tremaining: 7m 49s\n",
      "120:\tlearn: 0.2738247\ttotal: 1m 4s\tremaining: 7m 49s\n",
      "121:\tlearn: 0.2691099\ttotal: 1m 5s\tremaining: 7m 49s\n",
      "122:\tlearn: 0.2655960\ttotal: 1m 5s\tremaining: 7m 49s\n",
      "123:\tlearn: 0.2625719\ttotal: 1m 6s\tremaining: 7m 49s\n",
      "124:\tlearn: 0.2597719\ttotal: 1m 6s\tremaining: 7m 48s\n",
      "125:\tlearn: 0.2559185\ttotal: 1m 7s\tremaining: 7m 47s\n",
      "126:\tlearn: 0.2513385\ttotal: 1m 7s\tremaining: 7m 46s\n",
      "127:\tlearn: 0.2479374\ttotal: 1m 8s\tremaining: 7m 46s\n",
      "128:\tlearn: 0.2458990\ttotal: 1m 8s\tremaining: 7m 45s\n",
      "129:\tlearn: 0.2428762\ttotal: 1m 9s\tremaining: 7m 44s\n",
      "130:\tlearn: 0.2397809\ttotal: 1m 9s\tremaining: 7m 43s\n",
      "131:\tlearn: 0.2366783\ttotal: 1m 10s\tremaining: 7m 43s\n",
      "132:\tlearn: 0.2340272\ttotal: 1m 10s\tremaining: 7m 42s\n",
      "133:\tlearn: 0.2311617\ttotal: 1m 11s\tremaining: 7m 41s\n",
      "134:\tlearn: 0.2277328\ttotal: 1m 11s\tremaining: 7m 41s\n",
      "135:\tlearn: 0.2256487\ttotal: 1m 12s\tremaining: 7m 40s\n",
      "136:\tlearn: 0.2228402\ttotal: 1m 12s\tremaining: 7m 39s\n",
      "137:\tlearn: 0.2202584\ttotal: 1m 13s\tremaining: 7m 38s\n",
      "138:\tlearn: 0.2178595\ttotal: 1m 13s\tremaining: 7m 38s\n",
      "139:\tlearn: 0.2152139\ttotal: 1m 14s\tremaining: 7m 37s\n",
      "140:\tlearn: 0.2127021\ttotal: 1m 14s\tremaining: 7m 36s\n",
      "141:\tlearn: 0.2105047\ttotal: 1m 15s\tremaining: 7m 35s\n",
      "142:\tlearn: 0.2080450\ttotal: 1m 15s\tremaining: 7m 35s\n",
      "143:\tlearn: 0.2056864\ttotal: 1m 16s\tremaining: 7m 34s\n",
      "144:\tlearn: 0.2034690\ttotal: 1m 16s\tremaining: 7m 33s\n",
      "145:\tlearn: 0.2007724\ttotal: 1m 17s\tremaining: 7m 33s\n",
      "146:\tlearn: 0.1982545\ttotal: 1m 17s\tremaining: 7m 32s\n",
      "147:\tlearn: 0.1966621\ttotal: 1m 18s\tremaining: 7m 32s\n",
      "148:\tlearn: 0.1943233\ttotal: 1m 19s\tremaining: 7m 32s\n",
      "149:\tlearn: 0.1920137\ttotal: 1m 19s\tremaining: 7m 31s\n",
      "150:\tlearn: 0.1901882\ttotal: 1m 20s\tremaining: 7m 31s\n",
      "151:\tlearn: 0.1878244\ttotal: 1m 20s\tremaining: 7m 31s\n",
      "152:\tlearn: 0.1856696\ttotal: 1m 21s\tremaining: 7m 31s\n",
      "153:\tlearn: 0.1838103\ttotal: 1m 22s\tremaining: 7m 30s\n",
      "154:\tlearn: 0.1820405\ttotal: 1m 22s\tremaining: 7m 29s\n",
      "155:\tlearn: 0.1798972\ttotal: 1m 23s\tremaining: 7m 29s\n",
      "156:\tlearn: 0.1779101\ttotal: 1m 23s\tremaining: 7m 28s\n",
      "157:\tlearn: 0.1761778\ttotal: 1m 24s\tremaining: 7m 27s\n",
      "158:\tlearn: 0.1746779\ttotal: 1m 24s\tremaining: 7m 27s\n",
      "159:\tlearn: 0.1729550\ttotal: 1m 25s\tremaining: 7m 26s\n",
      "160:\tlearn: 0.1711742\ttotal: 1m 25s\tremaining: 7m 25s\n",
      "161:\tlearn: 0.1693590\ttotal: 1m 26s\tremaining: 7m 25s\n",
      "162:\tlearn: 0.1673419\ttotal: 1m 26s\tremaining: 7m 24s\n",
      "163:\tlearn: 0.1661520\ttotal: 1m 27s\tremaining: 7m 23s\n",
      "164:\tlearn: 0.1644159\ttotal: 1m 27s\tremaining: 7m 23s\n",
      "165:\tlearn: 0.1622409\ttotal: 1m 28s\tremaining: 7m 22s\n",
      "166:\tlearn: 0.1599659\ttotal: 1m 28s\tremaining: 7m 21s\n",
      "167:\tlearn: 0.1585339\ttotal: 1m 29s\tremaining: 7m 21s\n",
      "168:\tlearn: 0.1572796\ttotal: 1m 29s\tremaining: 7m 20s\n",
      "169:\tlearn: 0.1557222\ttotal: 1m 30s\tremaining: 7m 20s\n",
      "170:\tlearn: 0.1545359\ttotal: 1m 30s\tremaining: 7m 20s\n",
      "171:\tlearn: 0.1530719\ttotal: 1m 31s\tremaining: 7m 20s\n",
      "172:\tlearn: 0.1512559\ttotal: 1m 32s\tremaining: 7m 21s\n",
      "173:\tlearn: 0.1491481\ttotal: 1m 32s\tremaining: 7m 21s\n",
      "174:\tlearn: 0.1474340\ttotal: 1m 33s\tremaining: 7m 20s\n",
      "175:\tlearn: 0.1462455\ttotal: 1m 34s\tremaining: 7m 20s\n",
      "176:\tlearn: 0.1448792\ttotal: 1m 34s\tremaining: 7m 20s\n",
      "177:\tlearn: 0.1435175\ttotal: 1m 35s\tremaining: 7m 20s\n",
      "178:\tlearn: 0.1427063\ttotal: 1m 35s\tremaining: 7m 19s\n",
      "179:\tlearn: 0.1412917\ttotal: 1m 36s\tremaining: 7m 19s\n",
      "180:\tlearn: 0.1394051\ttotal: 1m 37s\tremaining: 7m 19s\n",
      "181:\tlearn: 0.1381027\ttotal: 1m 37s\tremaining: 7m 18s\n",
      "182:\tlearn: 0.1369394\ttotal: 1m 38s\tremaining: 7m 18s\n",
      "183:\tlearn: 0.1358619\ttotal: 1m 38s\tremaining: 7m 17s\n",
      "184:\tlearn: 0.1339833\ttotal: 1m 39s\tremaining: 7m 17s\n",
      "185:\tlearn: 0.1330820\ttotal: 1m 39s\tremaining: 7m 16s\n",
      "186:\tlearn: 0.1318664\ttotal: 1m 40s\tremaining: 7m 15s\n",
      "187:\tlearn: 0.1309034\ttotal: 1m 40s\tremaining: 7m 15s\n",
      "188:\tlearn: 0.1300212\ttotal: 1m 41s\tremaining: 7m 14s\n",
      "189:\tlearn: 0.1287840\ttotal: 1m 41s\tremaining: 7m 13s\n",
      "190:\tlearn: 0.1278150\ttotal: 1m 42s\tremaining: 7m 13s\n",
      "191:\tlearn: 0.1268648\ttotal: 1m 42s\tremaining: 7m 12s\n",
      "192:\tlearn: 0.1260186\ttotal: 1m 43s\tremaining: 7m 12s\n",
      "193:\tlearn: 0.1251502\ttotal: 1m 43s\tremaining: 7m 11s\n",
      "194:\tlearn: 0.1239951\ttotal: 1m 44s\tremaining: 7m 10s\n",
      "195:\tlearn: 0.1229635\ttotal: 1m 44s\tremaining: 7m 10s\n",
      "196:\tlearn: 0.1220152\ttotal: 1m 45s\tremaining: 7m 9s\n",
      "197:\tlearn: 0.1211670\ttotal: 1m 45s\tremaining: 7m 8s\n",
      "198:\tlearn: 0.1202639\ttotal: 1m 46s\tremaining: 7m 8s\n",
      "199:\tlearn: 0.1193550\ttotal: 1m 46s\tremaining: 7m 7s\n",
      "200:\tlearn: 0.1183103\ttotal: 1m 47s\tremaining: 7m 6s\n",
      "201:\tlearn: 0.1171962\ttotal: 1m 47s\tremaining: 7m 6s\n",
      "202:\tlearn: 0.1162283\ttotal: 1m 48s\tremaining: 7m 5s\n",
      "203:\tlearn: 0.1153478\ttotal: 1m 48s\tremaining: 7m 5s\n",
      "204:\tlearn: 0.1144090\ttotal: 1m 49s\tremaining: 7m 4s\n",
      "205:\tlearn: 0.1135127\ttotal: 1m 49s\tremaining: 7m 3s\n",
      "206:\tlearn: 0.1123331\ttotal: 1m 50s\tremaining: 7m 3s\n",
      "207:\tlearn: 0.1114032\ttotal: 1m 51s\tremaining: 7m 2s\n",
      "208:\tlearn: 0.1106219\ttotal: 1m 51s\tremaining: 7m 2s\n",
      "209:\tlearn: 0.1097922\ttotal: 1m 52s\tremaining: 7m 2s\n",
      "210:\tlearn: 0.1087518\ttotal: 1m 52s\tremaining: 7m 1s\n",
      "211:\tlearn: 0.1081494\ttotal: 1m 53s\tremaining: 7m 1s\n",
      "212:\tlearn: 0.1073504\ttotal: 1m 53s\tremaining: 7m 1s\n",
      "213:\tlearn: 0.1066024\ttotal: 1m 54s\tremaining: 7m\n",
      "214:\tlearn: 0.1057346\ttotal: 1m 54s\tremaining: 6m 59s\n",
      "215:\tlearn: 0.1050355\ttotal: 1m 55s\tremaining: 6m 59s\n",
      "216:\tlearn: 0.1043609\ttotal: 1m 56s\tremaining: 6m 58s\n",
      "217:\tlearn: 0.1032685\ttotal: 1m 56s\tremaining: 6m 58s\n",
      "218:\tlearn: 0.1022415\ttotal: 1m 57s\tremaining: 6m 57s\n",
      "219:\tlearn: 0.1013949\ttotal: 1m 57s\tremaining: 6m 56s\n",
      "220:\tlearn: 0.1008456\ttotal: 1m 58s\tremaining: 6m 56s\n",
      "221:\tlearn: 0.1001090\ttotal: 1m 58s\tremaining: 6m 55s\n",
      "222:\tlearn: 0.0991805\ttotal: 1m 59s\tremaining: 6m 54s\n",
      "223:\tlearn: 0.0986260\ttotal: 1m 59s\tremaining: 6m 54s\n",
      "224:\tlearn: 0.0978196\ttotal: 2m\tremaining: 6m 53s\n",
      "225:\tlearn: 0.0971815\ttotal: 2m\tremaining: 6m 53s\n",
      "226:\tlearn: 0.0965545\ttotal: 2m 1s\tremaining: 6m 52s\n",
      "227:\tlearn: 0.0959899\ttotal: 2m 1s\tremaining: 6m 51s\n",
      "228:\tlearn: 0.0953378\ttotal: 2m 2s\tremaining: 6m 51s\n",
      "229:\tlearn: 0.0949552\ttotal: 2m 2s\tremaining: 6m 50s\n",
      "230:\tlearn: 0.0943036\ttotal: 2m 3s\tremaining: 6m 49s\n",
      "231:\tlearn: 0.0936662\ttotal: 2m 3s\tremaining: 6m 49s\n",
      "232:\tlearn: 0.0929481\ttotal: 2m 4s\tremaining: 6m 48s\n",
      "233:\tlearn: 0.0922577\ttotal: 2m 4s\tremaining: 6m 47s\n",
      "234:\tlearn: 0.0916071\ttotal: 2m 5s\tremaining: 6m 47s\n",
      "235:\tlearn: 0.0911277\ttotal: 2m 5s\tremaining: 6m 46s\n",
      "236:\tlearn: 0.0904634\ttotal: 2m 6s\tremaining: 6m 46s\n",
      "237:\tlearn: 0.0898999\ttotal: 2m 6s\tremaining: 6m 45s\n",
      "238:\tlearn: 0.0893226\ttotal: 2m 7s\tremaining: 6m 45s\n",
      "239:\tlearn: 0.0883243\ttotal: 2m 7s\tremaining: 6m 45s\n",
      "240:\tlearn: 0.0876789\ttotal: 2m 8s\tremaining: 6m 44s\n",
      "241:\tlearn: 0.0872731\ttotal: 2m 9s\tremaining: 6m 44s\n",
      "242:\tlearn: 0.0867694\ttotal: 2m 9s\tremaining: 6m 43s\n",
      "243:\tlearn: 0.0863417\ttotal: 2m 10s\tremaining: 6m 43s\n",
      "244:\tlearn: 0.0860739\ttotal: 2m 10s\tremaining: 6m 42s\n",
      "245:\tlearn: 0.0854892\ttotal: 2m 11s\tremaining: 6m 42s\n",
      "246:\tlearn: 0.0850482\ttotal: 2m 11s\tremaining: 6m 41s\n",
      "247:\tlearn: 0.0843687\ttotal: 2m 12s\tremaining: 6m 40s\n",
      "248:\tlearn: 0.0837031\ttotal: 2m 12s\tremaining: 6m 40s\n",
      "249:\tlearn: 0.0829761\ttotal: 2m 13s\tremaining: 6m 39s\n",
      "250:\tlearn: 0.0824957\ttotal: 2m 13s\tremaining: 6m 38s\n",
      "251:\tlearn: 0.0820804\ttotal: 2m 14s\tremaining: 6m 38s\n",
      "252:\tlearn: 0.0814813\ttotal: 2m 14s\tremaining: 6m 37s\n",
      "253:\tlearn: 0.0810201\ttotal: 2m 15s\tremaining: 6m 37s\n",
      "254:\tlearn: 0.0804537\ttotal: 2m 15s\tremaining: 6m 36s\n",
      "255:\tlearn: 0.0800406\ttotal: 2m 16s\tremaining: 6m 36s\n",
      "256:\tlearn: 0.0795239\ttotal: 2m 16s\tremaining: 6m 35s\n",
      "257:\tlearn: 0.0790526\ttotal: 2m 17s\tremaining: 6m 34s\n",
      "258:\tlearn: 0.0786292\ttotal: 2m 17s\tremaining: 6m 34s\n",
      "259:\tlearn: 0.0780370\ttotal: 2m 18s\tremaining: 6m 33s\n",
      "260:\tlearn: 0.0776484\ttotal: 2m 18s\tremaining: 6m 33s\n",
      "261:\tlearn: 0.0770902\ttotal: 2m 19s\tremaining: 6m 32s\n",
      "262:\tlearn: 0.0766413\ttotal: 2m 19s\tremaining: 6m 31s\n",
      "263:\tlearn: 0.0759944\ttotal: 2m 20s\tremaining: 6m 31s\n",
      "264:\tlearn: 0.0752989\ttotal: 2m 20s\tremaining: 6m 30s\n",
      "265:\tlearn: 0.0749315\ttotal: 2m 21s\tremaining: 6m 30s\n",
      "266:\tlearn: 0.0745775\ttotal: 2m 21s\tremaining: 6m 29s\n",
      "267:\tlearn: 0.0741283\ttotal: 2m 22s\tremaining: 6m 28s\n",
      "268:\tlearn: 0.0736231\ttotal: 2m 23s\tremaining: 6m 28s\n",
      "269:\tlearn: 0.0732671\ttotal: 2m 23s\tremaining: 6m 28s\n",
      "270:\tlearn: 0.0728318\ttotal: 2m 24s\tremaining: 6m 27s\n",
      "271:\tlearn: 0.0724702\ttotal: 2m 24s\tremaining: 6m 27s\n",
      "272:\tlearn: 0.0721824\ttotal: 2m 25s\tremaining: 6m 27s\n",
      "273:\tlearn: 0.0717004\ttotal: 2m 25s\tremaining: 6m 26s\n",
      "274:\tlearn: 0.0712466\ttotal: 2m 26s\tremaining: 6m 26s\n",
      "275:\tlearn: 0.0706740\ttotal: 2m 27s\tremaining: 6m 25s\n",
      "276:\tlearn: 0.0702195\ttotal: 2m 27s\tremaining: 6m 25s\n",
      "277:\tlearn: 0.0698389\ttotal: 2m 28s\tremaining: 6m 24s\n",
      "278:\tlearn: 0.0694005\ttotal: 2m 28s\tremaining: 6m 23s\n",
      "279:\tlearn: 0.0690011\ttotal: 2m 29s\tremaining: 6m 23s\n",
      "280:\tlearn: 0.0687063\ttotal: 2m 29s\tremaining: 6m 22s\n",
      "281:\tlearn: 0.0682673\ttotal: 2m 30s\tremaining: 6m 21s\n",
      "282:\tlearn: 0.0679373\ttotal: 2m 30s\tremaining: 6m 21s\n",
      "283:\tlearn: 0.0676445\ttotal: 2m 31s\tremaining: 6m 20s\n",
      "284:\tlearn: 0.0671551\ttotal: 2m 31s\tremaining: 6m 20s\n",
      "285:\tlearn: 0.0667629\ttotal: 2m 32s\tremaining: 6m 19s\n",
      "286:\tlearn: 0.0663178\ttotal: 2m 32s\tremaining: 6m 19s\n",
      "287:\tlearn: 0.0659065\ttotal: 2m 33s\tremaining: 6m 18s\n",
      "288:\tlearn: 0.0655895\ttotal: 2m 33s\tremaining: 6m 17s\n",
      "289:\tlearn: 0.0652337\ttotal: 2m 34s\tremaining: 6m 17s\n",
      "290:\tlearn: 0.0649561\ttotal: 2m 34s\tremaining: 6m 16s\n",
      "291:\tlearn: 0.0646584\ttotal: 2m 35s\tremaining: 6m 16s\n",
      "292:\tlearn: 0.0643559\ttotal: 2m 35s\tremaining: 6m 15s\n",
      "293:\tlearn: 0.0640253\ttotal: 2m 36s\tremaining: 6m 14s\n",
      "294:\tlearn: 0.0636944\ttotal: 2m 36s\tremaining: 6m 14s\n",
      "295:\tlearn: 0.0634019\ttotal: 2m 37s\tremaining: 6m 13s\n",
      "296:\tlearn: 0.0631308\ttotal: 2m 37s\tremaining: 6m 13s\n",
      "297:\tlearn: 0.0628064\ttotal: 2m 38s\tremaining: 6m 12s\n",
      "298:\tlearn: 0.0624119\ttotal: 2m 38s\tremaining: 6m 11s\n",
      "299:\tlearn: 0.0620272\ttotal: 2m 39s\tremaining: 6m 11s\n",
      "300:\tlearn: 0.0617374\ttotal: 2m 40s\tremaining: 6m 11s\n",
      "301:\tlearn: 0.0614287\ttotal: 2m 40s\tremaining: 6m 11s\n",
      "302:\tlearn: 0.0610882\ttotal: 2m 41s\tremaining: 6m 11s\n",
      "303:\tlearn: 0.0607208\ttotal: 2m 42s\tremaining: 6m 11s\n",
      "304:\tlearn: 0.0604712\ttotal: 2m 42s\tremaining: 6m 10s\n",
      "305:\tlearn: 0.0601828\ttotal: 2m 43s\tremaining: 6m 9s\n",
      "306:\tlearn: 0.0598840\ttotal: 2m 43s\tremaining: 6m 9s\n",
      "307:\tlearn: 0.0594218\ttotal: 2m 44s\tremaining: 6m 8s\n",
      "308:\tlearn: 0.0590159\ttotal: 2m 44s\tremaining: 6m 8s\n",
      "309:\tlearn: 0.0587912\ttotal: 2m 45s\tremaining: 6m 8s\n",
      "310:\tlearn: 0.0584822\ttotal: 2m 46s\tremaining: 6m 8s\n",
      "311:\tlearn: 0.0581598\ttotal: 2m 46s\tremaining: 6m 7s\n",
      "312:\tlearn: 0.0578300\ttotal: 2m 47s\tremaining: 6m 7s\n",
      "313:\tlearn: 0.0575923\ttotal: 2m 47s\tremaining: 6m 6s\n",
      "314:\tlearn: 0.0572405\ttotal: 2m 48s\tremaining: 6m 5s\n",
      "315:\tlearn: 0.0569124\ttotal: 2m 48s\tremaining: 6m 5s\n",
      "316:\tlearn: 0.0566143\ttotal: 2m 49s\tremaining: 6m 4s\n",
      "317:\tlearn: 0.0563660\ttotal: 2m 49s\tremaining: 6m 4s\n",
      "318:\tlearn: 0.0560726\ttotal: 2m 50s\tremaining: 6m 3s\n",
      "319:\tlearn: 0.0558318\ttotal: 2m 50s\tremaining: 6m 2s\n",
      "320:\tlearn: 0.0555786\ttotal: 2m 51s\tremaining: 6m 2s\n",
      "321:\tlearn: 0.0553660\ttotal: 2m 51s\tremaining: 6m 1s\n",
      "322:\tlearn: 0.0551780\ttotal: 2m 52s\tremaining: 6m 1s\n",
      "323:\tlearn: 0.0549361\ttotal: 2m 52s\tremaining: 6m\n",
      "324:\tlearn: 0.0546201\ttotal: 2m 53s\tremaining: 6m\n",
      "325:\tlearn: 0.0543522\ttotal: 2m 53s\tremaining: 5m 59s\n",
      "326:\tlearn: 0.0540826\ttotal: 2m 54s\tremaining: 5m 58s\n",
      "327:\tlearn: 0.0539310\ttotal: 2m 55s\tremaining: 5m 58s\n",
      "328:\tlearn: 0.0537122\ttotal: 2m 55s\tremaining: 5m 58s\n",
      "329:\tlearn: 0.0535046\ttotal: 2m 56s\tremaining: 5m 57s\n",
      "330:\tlearn: 0.0531602\ttotal: 2m 56s\tremaining: 5m 57s\n",
      "331:\tlearn: 0.0529063\ttotal: 2m 57s\tremaining: 5m 57s\n",
      "332:\tlearn: 0.0527594\ttotal: 2m 58s\tremaining: 5m 57s\n",
      "333:\tlearn: 0.0525324\ttotal: 2m 58s\tremaining: 5m 56s\n",
      "334:\tlearn: 0.0522096\ttotal: 2m 59s\tremaining: 5m 56s\n",
      "335:\tlearn: 0.0520151\ttotal: 2m 59s\tremaining: 5m 55s\n",
      "336:\tlearn: 0.0516994\ttotal: 3m\tremaining: 5m 55s\n",
      "337:\tlearn: 0.0515112\ttotal: 3m 1s\tremaining: 5m 54s\n",
      "338:\tlearn: 0.0513196\ttotal: 3m 1s\tremaining: 5m 54s\n",
      "339:\tlearn: 0.0511771\ttotal: 3m 2s\tremaining: 5m 53s\n",
      "340:\tlearn: 0.0509353\ttotal: 3m 2s\tremaining: 5m 52s\n",
      "341:\tlearn: 0.0506430\ttotal: 3m 3s\tremaining: 5m 52s\n",
      "342:\tlearn: 0.0503860\ttotal: 3m 3s\tremaining: 5m 51s\n",
      "343:\tlearn: 0.0501745\ttotal: 3m 4s\tremaining: 5m 51s\n",
      "344:\tlearn: 0.0499557\ttotal: 3m 5s\tremaining: 5m 51s\n",
      "345:\tlearn: 0.0496857\ttotal: 3m 5s\tremaining: 5m 51s\n",
      "346:\tlearn: 0.0494992\ttotal: 3m 6s\tremaining: 5m 50s\n",
      "347:\tlearn: 0.0492450\ttotal: 3m 6s\tremaining: 5m 50s\n",
      "348:\tlearn: 0.0490102\ttotal: 3m 7s\tremaining: 5m 49s\n",
      "349:\tlearn: 0.0488124\ttotal: 3m 8s\tremaining: 5m 49s\n",
      "350:\tlearn: 0.0485168\ttotal: 3m 8s\tremaining: 5m 48s\n",
      "351:\tlearn: 0.0482899\ttotal: 3m 9s\tremaining: 5m 48s\n",
      "352:\tlearn: 0.0481231\ttotal: 3m 9s\tremaining: 5m 47s\n",
      "353:\tlearn: 0.0479204\ttotal: 3m 10s\tremaining: 5m 47s\n",
      "354:\tlearn: 0.0477408\ttotal: 3m 10s\tremaining: 5m 46s\n",
      "355:\tlearn: 0.0475805\ttotal: 3m 11s\tremaining: 5m 46s\n",
      "356:\tlearn: 0.0474008\ttotal: 3m 11s\tremaining: 5m 45s\n",
      "357:\tlearn: 0.0471791\ttotal: 3m 12s\tremaining: 5m 45s\n",
      "358:\tlearn: 0.0469923\ttotal: 3m 13s\tremaining: 5m 44s\n",
      "359:\tlearn: 0.0467940\ttotal: 3m 13s\tremaining: 5m 44s\n",
      "360:\tlearn: 0.0466001\ttotal: 3m 14s\tremaining: 5m 43s\n",
      "361:\tlearn: 0.0463057\ttotal: 3m 14s\tremaining: 5m 43s\n",
      "362:\tlearn: 0.0462013\ttotal: 3m 15s\tremaining: 5m 42s\n",
      "363:\tlearn: 0.0459881\ttotal: 3m 15s\tremaining: 5m 42s\n",
      "364:\tlearn: 0.0458035\ttotal: 3m 16s\tremaining: 5m 41s\n",
      "365:\tlearn: 0.0455606\ttotal: 3m 16s\tremaining: 5m 41s\n",
      "366:\tlearn: 0.0453674\ttotal: 3m 17s\tremaining: 5m 40s\n",
      "367:\tlearn: 0.0452204\ttotal: 3m 17s\tremaining: 5m 39s\n",
      "368:\tlearn: 0.0450681\ttotal: 3m 18s\tremaining: 5m 39s\n",
      "369:\tlearn: 0.0448734\ttotal: 3m 18s\tremaining: 5m 38s\n",
      "370:\tlearn: 0.0446927\ttotal: 3m 19s\tremaining: 5m 38s\n",
      "371:\tlearn: 0.0444786\ttotal: 3m 20s\tremaining: 5m 37s\n",
      "372:\tlearn: 0.0443120\ttotal: 3m 20s\tremaining: 5m 37s\n",
      "373:\tlearn: 0.0442140\ttotal: 3m 21s\tremaining: 5m 36s\n",
      "374:\tlearn: 0.0440509\ttotal: 3m 21s\tremaining: 5m 35s\n",
      "375:\tlearn: 0.0439080\ttotal: 3m 22s\tremaining: 5m 35s\n",
      "376:\tlearn: 0.0436175\ttotal: 3m 22s\tremaining: 5m 34s\n",
      "377:\tlearn: 0.0434117\ttotal: 3m 23s\tremaining: 5m 34s\n",
      "378:\tlearn: 0.0432331\ttotal: 3m 23s\tremaining: 5m 33s\n",
      "379:\tlearn: 0.0430810\ttotal: 3m 24s\tremaining: 5m 33s\n",
      "380:\tlearn: 0.0429902\ttotal: 3m 24s\tremaining: 5m 32s\n",
      "381:\tlearn: 0.0428363\ttotal: 3m 25s\tremaining: 5m 32s\n",
      "382:\tlearn: 0.0426806\ttotal: 3m 25s\tremaining: 5m 31s\n",
      "383:\tlearn: 0.0424843\ttotal: 3m 26s\tremaining: 5m 31s\n",
      "384:\tlearn: 0.0423545\ttotal: 3m 26s\tremaining: 5m 30s\n",
      "385:\tlearn: 0.0422138\ttotal: 3m 27s\tremaining: 5m 30s\n",
      "386:\tlearn: 0.0420606\ttotal: 3m 28s\tremaining: 5m 29s\n",
      "387:\tlearn: 0.0418629\ttotal: 3m 28s\tremaining: 5m 29s\n",
      "388:\tlearn: 0.0416832\ttotal: 3m 29s\tremaining: 5m 28s\n",
      "389:\tlearn: 0.0415229\ttotal: 3m 29s\tremaining: 5m 28s\n",
      "390:\tlearn: 0.0413751\ttotal: 3m 30s\tremaining: 5m 27s\n",
      "391:\tlearn: 0.0412336\ttotal: 3m 30s\tremaining: 5m 27s\n",
      "392:\tlearn: 0.0410921\ttotal: 3m 31s\tremaining: 5m 26s\n",
      "393:\tlearn: 0.0409664\ttotal: 3m 32s\tremaining: 5m 26s\n",
      "394:\tlearn: 0.0408424\ttotal: 3m 32s\tremaining: 5m 25s\n",
      "395:\tlearn: 0.0406901\ttotal: 3m 33s\tremaining: 5m 24s\n",
      "396:\tlearn: 0.0405694\ttotal: 3m 33s\tremaining: 5m 24s\n",
      "397:\tlearn: 0.0404014\ttotal: 3m 34s\tremaining: 5m 23s\n",
      "398:\tlearn: 0.0402232\ttotal: 3m 34s\tremaining: 5m 23s\n",
      "399:\tlearn: 0.0401053\ttotal: 3m 35s\tremaining: 5m 22s\n",
      "400:\tlearn: 0.0400357\ttotal: 3m 35s\tremaining: 5m 22s\n",
      "401:\tlearn: 0.0399329\ttotal: 3m 36s\tremaining: 5m 21s\n",
      "402:\tlearn: 0.0396717\ttotal: 3m 36s\tremaining: 5m 20s\n",
      "403:\tlearn: 0.0395315\ttotal: 3m 37s\tremaining: 5m 20s\n",
      "404:\tlearn: 0.0393570\ttotal: 3m 37s\tremaining: 5m 19s\n",
      "405:\tlearn: 0.0391856\ttotal: 3m 38s\tremaining: 5m 19s\n",
      "406:\tlearn: 0.0391185\ttotal: 3m 38s\tremaining: 5m 18s\n",
      "407:\tlearn: 0.0389903\ttotal: 3m 39s\tremaining: 5m 18s\n",
      "408:\tlearn: 0.0388936\ttotal: 3m 39s\tremaining: 5m 17s\n",
      "409:\tlearn: 0.0387430\ttotal: 3m 40s\tremaining: 5m 16s\n",
      "410:\tlearn: 0.0385948\ttotal: 3m 40s\tremaining: 5m 16s\n",
      "411:\tlearn: 0.0384529\ttotal: 3m 41s\tremaining: 5m 15s\n",
      "412:\tlearn: 0.0383266\ttotal: 3m 41s\tremaining: 5m 15s\n",
      "413:\tlearn: 0.0382038\ttotal: 3m 42s\tremaining: 5m 14s\n",
      "414:\tlearn: 0.0380309\ttotal: 3m 42s\tremaining: 5m 14s\n",
      "415:\tlearn: 0.0379529\ttotal: 3m 43s\tremaining: 5m 13s\n",
      "416:\tlearn: 0.0378199\ttotal: 3m 44s\tremaining: 5m 13s\n",
      "417:\tlearn: 0.0376804\ttotal: 3m 44s\tremaining: 5m 12s\n",
      "418:\tlearn: 0.0375310\ttotal: 3m 45s\tremaining: 5m 12s\n",
      "419:\tlearn: 0.0374483\ttotal: 3m 45s\tremaining: 5m 11s\n",
      "420:\tlearn: 0.0372458\ttotal: 3m 46s\tremaining: 5m 11s\n",
      "421:\tlearn: 0.0371113\ttotal: 3m 46s\tremaining: 5m 10s\n",
      "422:\tlearn: 0.0369729\ttotal: 3m 47s\tremaining: 5m 10s\n",
      "423:\tlearn: 0.0368715\ttotal: 3m 47s\tremaining: 5m 9s\n",
      "424:\tlearn: 0.0367746\ttotal: 3m 48s\tremaining: 5m 9s\n",
      "425:\tlearn: 0.0366677\ttotal: 3m 48s\tremaining: 5m 8s\n",
      "426:\tlearn: 0.0365920\ttotal: 3m 49s\tremaining: 5m 7s\n",
      "427:\tlearn: 0.0364749\ttotal: 3m 50s\tremaining: 5m 7s\n",
      "428:\tlearn: 0.0363819\ttotal: 3m 50s\tremaining: 5m 6s\n",
      "429:\tlearn: 0.0361833\ttotal: 3m 51s\tremaining: 5m 6s\n",
      "430:\tlearn: 0.0359917\ttotal: 3m 51s\tremaining: 5m 5s\n",
      "431:\tlearn: 0.0358748\ttotal: 3m 52s\tremaining: 5m 5s\n",
      "432:\tlearn: 0.0357746\ttotal: 3m 52s\tremaining: 5m 4s\n",
      "433:\tlearn: 0.0356885\ttotal: 3m 53s\tremaining: 5m 3s\n",
      "434:\tlearn: 0.0355765\ttotal: 3m 53s\tremaining: 5m 3s\n",
      "435:\tlearn: 0.0354352\ttotal: 3m 54s\tremaining: 5m 2s\n",
      "436:\tlearn: 0.0352921\ttotal: 3m 54s\tremaining: 5m 2s\n",
      "437:\tlearn: 0.0351350\ttotal: 3m 55s\tremaining: 5m 1s\n",
      "438:\tlearn: 0.0350404\ttotal: 3m 55s\tremaining: 5m 1s\n",
      "439:\tlearn: 0.0349393\ttotal: 3m 56s\tremaining: 5m\n",
      "440:\tlearn: 0.0348043\ttotal: 3m 56s\tremaining: 4m 59s\n",
      "441:\tlearn: 0.0347178\ttotal: 3m 57s\tremaining: 4m 59s\n",
      "442:\tlearn: 0.0345968\ttotal: 3m 57s\tremaining: 4m 58s\n",
      "443:\tlearn: 0.0345215\ttotal: 3m 58s\tremaining: 4m 58s\n",
      "444:\tlearn: 0.0344407\ttotal: 3m 58s\tremaining: 4m 57s\n",
      "445:\tlearn: 0.0343495\ttotal: 3m 59s\tremaining: 4m 57s\n",
      "446:\tlearn: 0.0342368\ttotal: 3m 59s\tremaining: 4m 56s\n",
      "447:\tlearn: 0.0341417\ttotal: 4m\tremaining: 4m 56s\n",
      "448:\tlearn: 0.0340463\ttotal: 4m 1s\tremaining: 4m 56s\n",
      "449:\tlearn: 0.0338959\ttotal: 4m 1s\tremaining: 4m 55s\n",
      "450:\tlearn: 0.0337332\ttotal: 4m 2s\tremaining: 4m 54s\n",
      "451:\tlearn: 0.0336379\ttotal: 4m 2s\tremaining: 4m 54s\n",
      "452:\tlearn: 0.0335048\ttotal: 4m 3s\tremaining: 4m 53s\n",
      "453:\tlearn: 0.0333882\ttotal: 4m 3s\tremaining: 4m 53s\n",
      "454:\tlearn: 0.0332872\ttotal: 4m 4s\tremaining: 4m 52s\n",
      "455:\tlearn: 0.0332074\ttotal: 4m 4s\tremaining: 4m 52s\n",
      "456:\tlearn: 0.0330955\ttotal: 4m 5s\tremaining: 4m 51s\n",
      "457:\tlearn: 0.0330248\ttotal: 4m 5s\tremaining: 4m 50s\n",
      "458:\tlearn: 0.0329605\ttotal: 4m 6s\tremaining: 4m 50s\n",
      "459:\tlearn: 0.0328520\ttotal: 4m 6s\tremaining: 4m 49s\n",
      "460:\tlearn: 0.0326943\ttotal: 4m 7s\tremaining: 4m 49s\n",
      "461:\tlearn: 0.0325639\ttotal: 4m 7s\tremaining: 4m 48s\n",
      "462:\tlearn: 0.0324535\ttotal: 4m 8s\tremaining: 4m 48s\n",
      "463:\tlearn: 0.0323917\ttotal: 4m 8s\tremaining: 4m 47s\n",
      "464:\tlearn: 0.0322346\ttotal: 4m 9s\tremaining: 4m 47s\n",
      "465:\tlearn: 0.0321598\ttotal: 4m 10s\tremaining: 4m 46s\n",
      "466:\tlearn: 0.0320070\ttotal: 4m 10s\tremaining: 4m 45s\n",
      "467:\tlearn: 0.0319198\ttotal: 4m 11s\tremaining: 4m 45s\n",
      "468:\tlearn: 0.0318100\ttotal: 4m 11s\tremaining: 4m 44s\n",
      "469:\tlearn: 0.0317238\ttotal: 4m 12s\tremaining: 4m 44s\n",
      "470:\tlearn: 0.0316206\ttotal: 4m 12s\tremaining: 4m 43s\n",
      "471:\tlearn: 0.0315528\ttotal: 4m 13s\tremaining: 4m 43s\n",
      "472:\tlearn: 0.0314093\ttotal: 4m 13s\tremaining: 4m 42s\n",
      "473:\tlearn: 0.0313479\ttotal: 4m 14s\tremaining: 4m 42s\n",
      "474:\tlearn: 0.0312613\ttotal: 4m 14s\tremaining: 4m 41s\n",
      "475:\tlearn: 0.0311365\ttotal: 4m 15s\tremaining: 4m 41s\n",
      "476:\tlearn: 0.0310313\ttotal: 4m 15s\tremaining: 4m 40s\n",
      "477:\tlearn: 0.0309744\ttotal: 4m 16s\tremaining: 4m 40s\n",
      "478:\tlearn: 0.0308685\ttotal: 4m 17s\tremaining: 4m 39s\n",
      "479:\tlearn: 0.0308033\ttotal: 4m 17s\tremaining: 4m 39s\n",
      "480:\tlearn: 0.0307147\ttotal: 4m 18s\tremaining: 4m 38s\n",
      "481:\tlearn: 0.0305914\ttotal: 4m 18s\tremaining: 4m 38s\n",
      "482:\tlearn: 0.0304882\ttotal: 4m 19s\tremaining: 4m 37s\n",
      "483:\tlearn: 0.0303925\ttotal: 4m 19s\tremaining: 4m 37s\n",
      "484:\tlearn: 0.0303330\ttotal: 4m 20s\tremaining: 4m 36s\n",
      "485:\tlearn: 0.0302259\ttotal: 4m 21s\tremaining: 4m 36s\n",
      "486:\tlearn: 0.0301694\ttotal: 4m 21s\tremaining: 4m 35s\n",
      "487:\tlearn: 0.0300785\ttotal: 4m 22s\tremaining: 4m 34s\n",
      "488:\tlearn: 0.0300029\ttotal: 4m 22s\tremaining: 4m 34s\n",
      "489:\tlearn: 0.0299089\ttotal: 4m 23s\tremaining: 4m 33s\n",
      "490:\tlearn: 0.0298165\ttotal: 4m 23s\tremaining: 4m 33s\n",
      "491:\tlearn: 0.0297475\ttotal: 4m 24s\tremaining: 4m 32s\n",
      "492:\tlearn: 0.0296890\ttotal: 4m 24s\tremaining: 4m 32s\n",
      "493:\tlearn: 0.0296191\ttotal: 4m 25s\tremaining: 4m 31s\n",
      "494:\tlearn: 0.0295338\ttotal: 4m 25s\tremaining: 4m 31s\n",
      "495:\tlearn: 0.0294666\ttotal: 4m 26s\tremaining: 4m 30s\n",
      "496:\tlearn: 0.0293864\ttotal: 4m 26s\tremaining: 4m 30s\n",
      "497:\tlearn: 0.0293070\ttotal: 4m 27s\tremaining: 4m 29s\n",
      "498:\tlearn: 0.0292258\ttotal: 4m 27s\tremaining: 4m 28s\n",
      "499:\tlearn: 0.0291525\ttotal: 4m 28s\tremaining: 4m 28s\n",
      "500:\tlearn: 0.0290622\ttotal: 4m 28s\tremaining: 4m 27s\n",
      "501:\tlearn: 0.0289715\ttotal: 4m 29s\tremaining: 4m 27s\n",
      "502:\tlearn: 0.0288882\ttotal: 4m 29s\tremaining: 4m 26s\n",
      "503:\tlearn: 0.0288044\ttotal: 4m 30s\tremaining: 4m 26s\n",
      "504:\tlearn: 0.0287369\ttotal: 4m 31s\tremaining: 4m 25s\n",
      "505:\tlearn: 0.0286666\ttotal: 4m 31s\tremaining: 4m 25s\n",
      "506:\tlearn: 0.0285836\ttotal: 4m 32s\tremaining: 4m 24s\n",
      "507:\tlearn: 0.0285343\ttotal: 4m 32s\tremaining: 4m 24s\n",
      "508:\tlearn: 0.0284474\ttotal: 4m 33s\tremaining: 4m 23s\n",
      "509:\tlearn: 0.0283707\ttotal: 4m 34s\tremaining: 4m 23s\n",
      "510:\tlearn: 0.0282630\ttotal: 4m 34s\tremaining: 4m 22s\n",
      "511:\tlearn: 0.0281813\ttotal: 4m 35s\tremaining: 4m 22s\n",
      "512:\tlearn: 0.0280688\ttotal: 4m 35s\tremaining: 4m 21s\n",
      "513:\tlearn: 0.0280138\ttotal: 4m 36s\tremaining: 4m 21s\n",
      "514:\tlearn: 0.0279138\ttotal: 4m 36s\tremaining: 4m 20s\n",
      "515:\tlearn: 0.0278034\ttotal: 4m 37s\tremaining: 4m 20s\n",
      "516:\tlearn: 0.0277468\ttotal: 4m 37s\tremaining: 4m 19s\n",
      "517:\tlearn: 0.0276740\ttotal: 4m 38s\tremaining: 4m 18s\n",
      "518:\tlearn: 0.0276051\ttotal: 4m 38s\tremaining: 4m 18s\n",
      "519:\tlearn: 0.0274932\ttotal: 4m 39s\tremaining: 4m 17s\n",
      "520:\tlearn: 0.0274155\ttotal: 4m 39s\tremaining: 4m 17s\n",
      "521:\tlearn: 0.0273772\ttotal: 4m 40s\tremaining: 4m 16s\n",
      "522:\tlearn: 0.0273148\ttotal: 4m 40s\tremaining: 4m 16s\n",
      "523:\tlearn: 0.0272361\ttotal: 4m 41s\tremaining: 4m 15s\n",
      "524:\tlearn: 0.0271498\ttotal: 4m 41s\tremaining: 4m 14s\n",
      "525:\tlearn: 0.0270748\ttotal: 4m 42s\tremaining: 4m 14s\n",
      "526:\tlearn: 0.0270250\ttotal: 4m 42s\tremaining: 4m 13s\n",
      "527:\tlearn: 0.0269906\ttotal: 4m 43s\tremaining: 4m 13s\n",
      "528:\tlearn: 0.0269018\ttotal: 4m 44s\tremaining: 4m 12s\n",
      "529:\tlearn: 0.0268277\ttotal: 4m 44s\tremaining: 4m 12s\n",
      "530:\tlearn: 0.0267199\ttotal: 4m 45s\tremaining: 4m 11s\n",
      "531:\tlearn: 0.0266384\ttotal: 4m 45s\tremaining: 4m 11s\n",
      "532:\tlearn: 0.0265798\ttotal: 4m 46s\tremaining: 4m 10s\n",
      "533:\tlearn: 0.0265068\ttotal: 4m 46s\tremaining: 4m 10s\n",
      "534:\tlearn: 0.0264423\ttotal: 4m 47s\tremaining: 4m 9s\n",
      "535:\tlearn: 0.0263666\ttotal: 4m 47s\tremaining: 4m 9s\n",
      "536:\tlearn: 0.0263128\ttotal: 4m 48s\tremaining: 4m 8s\n",
      "537:\tlearn: 0.0262581\ttotal: 4m 48s\tremaining: 4m 8s\n",
      "538:\tlearn: 0.0262032\ttotal: 4m 49s\tremaining: 4m 7s\n",
      "539:\tlearn: 0.0261657\ttotal: 4m 50s\tremaining: 4m 7s\n",
      "540:\tlearn: 0.0261006\ttotal: 4m 50s\tremaining: 4m 6s\n",
      "541:\tlearn: 0.0260352\ttotal: 4m 51s\tremaining: 4m 6s\n",
      "542:\tlearn: 0.0259635\ttotal: 4m 51s\tremaining: 4m 5s\n",
      "543:\tlearn: 0.0259012\ttotal: 4m 52s\tremaining: 4m 4s\n",
      "544:\tlearn: 0.0258094\ttotal: 4m 52s\tremaining: 4m 4s\n",
      "545:\tlearn: 0.0257496\ttotal: 4m 53s\tremaining: 4m 3s\n",
      "546:\tlearn: 0.0257023\ttotal: 4m 53s\tremaining: 4m 3s\n",
      "547:\tlearn: 0.0256498\ttotal: 4m 54s\tremaining: 4m 2s\n",
      "548:\tlearn: 0.0255545\ttotal: 4m 54s\tremaining: 4m 2s\n",
      "549:\tlearn: 0.0254978\ttotal: 4m 55s\tremaining: 4m 1s\n",
      "550:\tlearn: 0.0254101\ttotal: 4m 55s\tremaining: 4m 1s\n",
      "551:\tlearn: 0.0253406\ttotal: 4m 56s\tremaining: 4m\n",
      "552:\tlearn: 0.0252309\ttotal: 4m 56s\tremaining: 3m 59s\n",
      "553:\tlearn: 0.0251566\ttotal: 4m 57s\tremaining: 3m 59s\n",
      "554:\tlearn: 0.0251075\ttotal: 4m 57s\tremaining: 3m 58s\n",
      "555:\tlearn: 0.0250429\ttotal: 4m 58s\tremaining: 3m 58s\n",
      "556:\tlearn: 0.0249878\ttotal: 4m 58s\tremaining: 3m 57s\n",
      "557:\tlearn: 0.0249043\ttotal: 4m 59s\tremaining: 3m 57s\n",
      "558:\tlearn: 0.0248244\ttotal: 4m 59s\tremaining: 3m 56s\n",
      "559:\tlearn: 0.0247809\ttotal: 5m\tremaining: 3m 56s\n",
      "560:\tlearn: 0.0247074\ttotal: 5m 1s\tremaining: 3m 55s\n",
      "561:\tlearn: 0.0246394\ttotal: 5m 1s\tremaining: 3m 55s\n",
      "562:\tlearn: 0.0245811\ttotal: 5m 2s\tremaining: 3m 54s\n",
      "563:\tlearn: 0.0245186\ttotal: 5m 2s\tremaining: 3m 53s\n",
      "564:\tlearn: 0.0244713\ttotal: 5m 3s\tremaining: 3m 53s\n",
      "565:\tlearn: 0.0244172\ttotal: 5m 3s\tremaining: 3m 53s\n",
      "566:\tlearn: 0.0243666\ttotal: 5m 4s\tremaining: 3m 52s\n",
      "567:\tlearn: 0.0243075\ttotal: 5m 5s\tremaining: 3m 52s\n",
      "568:\tlearn: 0.0242588\ttotal: 5m 5s\tremaining: 3m 51s\n",
      "569:\tlearn: 0.0241969\ttotal: 5m 6s\tremaining: 3m 51s\n",
      "570:\tlearn: 0.0241533\ttotal: 5m 6s\tremaining: 3m 50s\n",
      "571:\tlearn: 0.0240903\ttotal: 5m 7s\tremaining: 3m 50s\n",
      "572:\tlearn: 0.0240241\ttotal: 5m 7s\tremaining: 3m 49s\n",
      "573:\tlearn: 0.0239694\ttotal: 5m 8s\tremaining: 3m 48s\n",
      "574:\tlearn: 0.0238740\ttotal: 5m 8s\tremaining: 3m 48s\n",
      "575:\tlearn: 0.0238125\ttotal: 5m 9s\tremaining: 3m 47s\n",
      "576:\tlearn: 0.0237363\ttotal: 5m 10s\tremaining: 3m 47s\n",
      "577:\tlearn: 0.0236847\ttotal: 5m 10s\tremaining: 3m 46s\n",
      "578:\tlearn: 0.0236383\ttotal: 5m 11s\tremaining: 3m 46s\n",
      "579:\tlearn: 0.0235844\ttotal: 5m 11s\tremaining: 3m 45s\n",
      "580:\tlearn: 0.0235378\ttotal: 5m 12s\tremaining: 3m 45s\n",
      "581:\tlearn: 0.0234922\ttotal: 5m 12s\tremaining: 3m 44s\n",
      "582:\tlearn: 0.0234576\ttotal: 5m 13s\tremaining: 3m 43s\n",
      "583:\tlearn: 0.0234043\ttotal: 5m 13s\tremaining: 3m 43s\n",
      "584:\tlearn: 0.0233466\ttotal: 5m 14s\tremaining: 3m 42s\n",
      "585:\tlearn: 0.0233059\ttotal: 5m 14s\tremaining: 3m 42s\n",
      "586:\tlearn: 0.0232143\ttotal: 5m 15s\tremaining: 3m 41s\n",
      "587:\tlearn: 0.0231376\ttotal: 5m 15s\tremaining: 3m 41s\n",
      "588:\tlearn: 0.0230820\ttotal: 5m 16s\tremaining: 3m 40s\n",
      "589:\tlearn: 0.0230464\ttotal: 5m 16s\tremaining: 3m 40s\n",
      "590:\tlearn: 0.0230048\ttotal: 5m 17s\tremaining: 3m 39s\n",
      "591:\tlearn: 0.0229556\ttotal: 5m 17s\tremaining: 3m 38s\n",
      "592:\tlearn: 0.0229151\ttotal: 5m 18s\tremaining: 3m 38s\n",
      "593:\tlearn: 0.0228512\ttotal: 5m 18s\tremaining: 3m 37s\n",
      "594:\tlearn: 0.0227896\ttotal: 5m 19s\tremaining: 3m 37s\n",
      "595:\tlearn: 0.0227379\ttotal: 5m 20s\tremaining: 3m 36s\n",
      "596:\tlearn: 0.0227017\ttotal: 5m 20s\tremaining: 3m 36s\n",
      "597:\tlearn: 0.0226426\ttotal: 5m 21s\tremaining: 3m 35s\n",
      "598:\tlearn: 0.0225797\ttotal: 5m 21s\tremaining: 3m 35s\n",
      "599:\tlearn: 0.0225339\ttotal: 5m 22s\tremaining: 3m 34s\n",
      "600:\tlearn: 0.0225003\ttotal: 5m 22s\tremaining: 3m 34s\n",
      "601:\tlearn: 0.0224277\ttotal: 5m 23s\tremaining: 3m 33s\n",
      "602:\tlearn: 0.0223845\ttotal: 5m 23s\tremaining: 3m 33s\n",
      "603:\tlearn: 0.0223454\ttotal: 5m 24s\tremaining: 3m 32s\n",
      "604:\tlearn: 0.0222910\ttotal: 5m 24s\tremaining: 3m 32s\n",
      "605:\tlearn: 0.0222351\ttotal: 5m 25s\tremaining: 3m 31s\n",
      "606:\tlearn: 0.0221946\ttotal: 5m 25s\tremaining: 3m 31s\n",
      "607:\tlearn: 0.0221574\ttotal: 5m 26s\tremaining: 3m 30s\n",
      "608:\tlearn: 0.0221189\ttotal: 5m 26s\tremaining: 3m 29s\n",
      "609:\tlearn: 0.0220573\ttotal: 5m 27s\tremaining: 3m 29s\n",
      "610:\tlearn: 0.0220106\ttotal: 5m 27s\tremaining: 3m 28s\n",
      "611:\tlearn: 0.0219592\ttotal: 5m 28s\tremaining: 3m 28s\n",
      "612:\tlearn: 0.0218958\ttotal: 5m 29s\tremaining: 3m 27s\n",
      "613:\tlearn: 0.0218471\ttotal: 5m 29s\tremaining: 3m 27s\n",
      "614:\tlearn: 0.0217741\ttotal: 5m 30s\tremaining: 3m 26s\n",
      "615:\tlearn: 0.0217172\ttotal: 5m 30s\tremaining: 3m 26s\n",
      "616:\tlearn: 0.0216786\ttotal: 5m 31s\tremaining: 3m 25s\n",
      "617:\tlearn: 0.0216365\ttotal: 5m 31s\tremaining: 3m 24s\n",
      "618:\tlearn: 0.0215719\ttotal: 5m 32s\tremaining: 3m 24s\n",
      "619:\tlearn: 0.0215168\ttotal: 5m 32s\tremaining: 3m 23s\n",
      "620:\tlearn: 0.0214400\ttotal: 5m 33s\tremaining: 3m 23s\n",
      "621:\tlearn: 0.0213966\ttotal: 5m 33s\tremaining: 3m 22s\n",
      "622:\tlearn: 0.0213317\ttotal: 5m 34s\tremaining: 3m 22s\n",
      "623:\tlearn: 0.0212392\ttotal: 5m 34s\tremaining: 3m 21s\n",
      "624:\tlearn: 0.0211977\ttotal: 5m 35s\tremaining: 3m 21s\n",
      "625:\tlearn: 0.0211356\ttotal: 5m 36s\tremaining: 3m 20s\n",
      "626:\tlearn: 0.0211099\ttotal: 5m 36s\tremaining: 3m 20s\n",
      "627:\tlearn: 0.0210579\ttotal: 5m 37s\tremaining: 3m 19s\n",
      "628:\tlearn: 0.0209954\ttotal: 5m 37s\tremaining: 3m 19s\n",
      "629:\tlearn: 0.0209343\ttotal: 5m 38s\tremaining: 3m 18s\n",
      "630:\tlearn: 0.0208756\ttotal: 5m 38s\tremaining: 3m 18s\n",
      "631:\tlearn: 0.0208324\ttotal: 5m 39s\tremaining: 3m 17s\n",
      "632:\tlearn: 0.0208017\ttotal: 5m 39s\tremaining: 3m 17s\n",
      "633:\tlearn: 0.0207589\ttotal: 5m 40s\tremaining: 3m 16s\n",
      "634:\tlearn: 0.0206993\ttotal: 5m 40s\tremaining: 3m 15s\n",
      "635:\tlearn: 0.0206503\ttotal: 5m 41s\tremaining: 3m 15s\n",
      "636:\tlearn: 0.0206058\ttotal: 5m 41s\tremaining: 3m 14s\n",
      "637:\tlearn: 0.0205775\ttotal: 5m 42s\tremaining: 3m 14s\n",
      "638:\tlearn: 0.0205291\ttotal: 5m 42s\tremaining: 3m 13s\n",
      "639:\tlearn: 0.0205056\ttotal: 5m 43s\tremaining: 3m 13s\n",
      "640:\tlearn: 0.0204737\ttotal: 5m 43s\tremaining: 3m 12s\n",
      "641:\tlearn: 0.0204312\ttotal: 5m 44s\tremaining: 3m 12s\n",
      "642:\tlearn: 0.0203956\ttotal: 5m 44s\tremaining: 3m 11s\n",
      "643:\tlearn: 0.0203481\ttotal: 5m 45s\tremaining: 3m 11s\n",
      "644:\tlearn: 0.0203003\ttotal: 5m 46s\tremaining: 3m 10s\n",
      "645:\tlearn: 0.0202711\ttotal: 5m 46s\tremaining: 3m 9s\n",
      "646:\tlearn: 0.0202242\ttotal: 5m 47s\tremaining: 3m 9s\n",
      "647:\tlearn: 0.0201921\ttotal: 5m 47s\tremaining: 3m 8s\n",
      "648:\tlearn: 0.0201529\ttotal: 5m 48s\tremaining: 3m 8s\n",
      "649:\tlearn: 0.0201234\ttotal: 5m 48s\tremaining: 3m 7s\n",
      "650:\tlearn: 0.0200691\ttotal: 5m 49s\tremaining: 3m 7s\n",
      "651:\tlearn: 0.0199995\ttotal: 5m 49s\tremaining: 3m 6s\n",
      "652:\tlearn: 0.0199570\ttotal: 5m 50s\tremaining: 3m 6s\n",
      "653:\tlearn: 0.0199161\ttotal: 5m 50s\tremaining: 3m 5s\n",
      "654:\tlearn: 0.0198769\ttotal: 5m 51s\tremaining: 3m 5s\n",
      "655:\tlearn: 0.0198371\ttotal: 5m 51s\tremaining: 3m 4s\n",
      "656:\tlearn: 0.0197721\ttotal: 5m 52s\tremaining: 3m 4s\n",
      "657:\tlearn: 0.0197156\ttotal: 5m 53s\tremaining: 3m 3s\n",
      "658:\tlearn: 0.0196661\ttotal: 5m 53s\tremaining: 3m 3s\n",
      "659:\tlearn: 0.0196167\ttotal: 5m 54s\tremaining: 3m 2s\n",
      "660:\tlearn: 0.0195802\ttotal: 5m 54s\tremaining: 3m 1s\n",
      "661:\tlearn: 0.0195490\ttotal: 5m 55s\tremaining: 3m 1s\n",
      "662:\tlearn: 0.0194942\ttotal: 5m 55s\tremaining: 3m\n",
      "663:\tlearn: 0.0194562\ttotal: 5m 56s\tremaining: 3m\n",
      "664:\tlearn: 0.0194235\ttotal: 5m 56s\tremaining: 2m 59s\n",
      "665:\tlearn: 0.0193716\ttotal: 5m 57s\tremaining: 2m 59s\n",
      "666:\tlearn: 0.0193581\ttotal: 5m 57s\tremaining: 2m 58s\n",
      "667:\tlearn: 0.0193210\ttotal: 5m 58s\tremaining: 2m 58s\n",
      "668:\tlearn: 0.0192741\ttotal: 5m 58s\tremaining: 2m 57s\n",
      "669:\tlearn: 0.0192382\ttotal: 5m 59s\tremaining: 2m 57s\n",
      "670:\tlearn: 0.0192090\ttotal: 5m 59s\tremaining: 2m 56s\n",
      "671:\tlearn: 0.0191505\ttotal: 6m\tremaining: 2m 55s\n",
      "672:\tlearn: 0.0191173\ttotal: 6m\tremaining: 2m 55s\n",
      "673:\tlearn: 0.0190760\ttotal: 6m 1s\tremaining: 2m 54s\n",
      "674:\tlearn: 0.0190300\ttotal: 6m 1s\tremaining: 2m 54s\n",
      "675:\tlearn: 0.0189967\ttotal: 6m 2s\tremaining: 2m 53s\n",
      "676:\tlearn: 0.0189470\ttotal: 6m 2s\tremaining: 2m 53s\n",
      "677:\tlearn: 0.0189226\ttotal: 6m 3s\tremaining: 2m 52s\n",
      "678:\tlearn: 0.0188850\ttotal: 6m 3s\tremaining: 2m 52s\n",
      "679:\tlearn: 0.0188363\ttotal: 6m 4s\tremaining: 2m 51s\n",
      "680:\tlearn: 0.0187811\ttotal: 6m 5s\tremaining: 2m 50s\n",
      "681:\tlearn: 0.0187331\ttotal: 6m 5s\tremaining: 2m 50s\n",
      "682:\tlearn: 0.0187065\ttotal: 6m 6s\tremaining: 2m 49s\n",
      "683:\tlearn: 0.0186650\ttotal: 6m 6s\tremaining: 2m 49s\n",
      "684:\tlearn: 0.0186308\ttotal: 6m 7s\tremaining: 2m 48s\n",
      "685:\tlearn: 0.0185986\ttotal: 6m 7s\tremaining: 2m 48s\n",
      "686:\tlearn: 0.0185682\ttotal: 6m 8s\tremaining: 2m 47s\n",
      "687:\tlearn: 0.0185117\ttotal: 6m 9s\tremaining: 2m 47s\n",
      "688:\tlearn: 0.0184817\ttotal: 6m 9s\tremaining: 2m 46s\n",
      "689:\tlearn: 0.0184494\ttotal: 6m 10s\tremaining: 2m 46s\n",
      "690:\tlearn: 0.0184037\ttotal: 6m 10s\tremaining: 2m 45s\n",
      "691:\tlearn: 0.0183687\ttotal: 6m 11s\tremaining: 2m 45s\n",
      "692:\tlearn: 0.0183293\ttotal: 6m 11s\tremaining: 2m 44s\n",
      "693:\tlearn: 0.0182965\ttotal: 6m 12s\tremaining: 2m 44s\n",
      "694:\tlearn: 0.0182323\ttotal: 6m 12s\tremaining: 2m 43s\n",
      "695:\tlearn: 0.0181793\ttotal: 6m 13s\tremaining: 2m 43s\n",
      "696:\tlearn: 0.0181347\ttotal: 6m 13s\tremaining: 2m 42s\n",
      "697:\tlearn: 0.0181159\ttotal: 6m 14s\tremaining: 2m 41s\n",
      "698:\tlearn: 0.0180824\ttotal: 6m 14s\tremaining: 2m 41s\n",
      "699:\tlearn: 0.0180416\ttotal: 6m 15s\tremaining: 2m 40s\n",
      "700:\tlearn: 0.0180085\ttotal: 6m 15s\tremaining: 2m 40s\n",
      "701:\tlearn: 0.0179830\ttotal: 6m 16s\tremaining: 2m 39s\n",
      "702:\tlearn: 0.0179584\ttotal: 6m 16s\tremaining: 2m 39s\n",
      "703:\tlearn: 0.0179213\ttotal: 6m 17s\tremaining: 2m 38s\n",
      "704:\tlearn: 0.0178963\ttotal: 6m 17s\tremaining: 2m 38s\n",
      "705:\tlearn: 0.0178558\ttotal: 6m 18s\tremaining: 2m 37s\n",
      "706:\tlearn: 0.0178307\ttotal: 6m 18s\tremaining: 2m 37s\n",
      "707:\tlearn: 0.0177999\ttotal: 6m 19s\tremaining: 2m 36s\n",
      "708:\tlearn: 0.0177648\ttotal: 6m 20s\tremaining: 2m 35s\n",
      "709:\tlearn: 0.0177291\ttotal: 6m 20s\tremaining: 2m 35s\n",
      "710:\tlearn: 0.0176947\ttotal: 6m 21s\tremaining: 2m 34s\n",
      "711:\tlearn: 0.0176632\ttotal: 6m 21s\tremaining: 2m 34s\n",
      "712:\tlearn: 0.0176222\ttotal: 6m 22s\tremaining: 2m 33s\n",
      "713:\tlearn: 0.0175966\ttotal: 6m 22s\tremaining: 2m 33s\n",
      "714:\tlearn: 0.0175473\ttotal: 6m 23s\tremaining: 2m 32s\n",
      "715:\tlearn: 0.0175224\ttotal: 6m 23s\tremaining: 2m 32s\n",
      "716:\tlearn: 0.0174934\ttotal: 6m 24s\tremaining: 2m 31s\n",
      "717:\tlearn: 0.0174370\ttotal: 6m 25s\tremaining: 2m 31s\n",
      "718:\tlearn: 0.0174075\ttotal: 6m 25s\tremaining: 2m 30s\n",
      "719:\tlearn: 0.0173731\ttotal: 6m 26s\tremaining: 2m 30s\n",
      "720:\tlearn: 0.0173518\ttotal: 6m 26s\tremaining: 2m 29s\n",
      "721:\tlearn: 0.0173207\ttotal: 6m 27s\tremaining: 2m 29s\n",
      "722:\tlearn: 0.0172905\ttotal: 6m 27s\tremaining: 2m 28s\n",
      "723:\tlearn: 0.0172572\ttotal: 6m 28s\tremaining: 2m 28s\n",
      "724:\tlearn: 0.0172258\ttotal: 6m 28s\tremaining: 2m 27s\n",
      "725:\tlearn: 0.0171935\ttotal: 6m 29s\tremaining: 2m 26s\n",
      "726:\tlearn: 0.0171634\ttotal: 6m 29s\tremaining: 2m 26s\n",
      "727:\tlearn: 0.0171208\ttotal: 6m 30s\tremaining: 2m 25s\n",
      "728:\tlearn: 0.0170864\ttotal: 6m 30s\tremaining: 2m 25s\n",
      "729:\tlearn: 0.0170517\ttotal: 6m 31s\tremaining: 2m 24s\n",
      "730:\tlearn: 0.0170098\ttotal: 6m 32s\tremaining: 2m 24s\n",
      "731:\tlearn: 0.0169900\ttotal: 6m 32s\tremaining: 2m 23s\n",
      "732:\tlearn: 0.0169657\ttotal: 6m 33s\tremaining: 2m 23s\n",
      "733:\tlearn: 0.0169178\ttotal: 6m 33s\tremaining: 2m 22s\n",
      "734:\tlearn: 0.0168785\ttotal: 6m 34s\tremaining: 2m 22s\n",
      "735:\tlearn: 0.0168571\ttotal: 6m 34s\tremaining: 2m 21s\n",
      "736:\tlearn: 0.0168301\ttotal: 6m 35s\tremaining: 2m 20s\n",
      "737:\tlearn: 0.0167933\ttotal: 6m 35s\tremaining: 2m 20s\n",
      "738:\tlearn: 0.0167708\ttotal: 6m 36s\tremaining: 2m 19s\n",
      "739:\tlearn: 0.0167566\ttotal: 6m 36s\tremaining: 2m 19s\n",
      "740:\tlearn: 0.0167061\ttotal: 6m 37s\tremaining: 2m 18s\n",
      "741:\tlearn: 0.0166789\ttotal: 6m 37s\tremaining: 2m 18s\n",
      "742:\tlearn: 0.0166465\ttotal: 6m 38s\tremaining: 2m 17s\n",
      "743:\tlearn: 0.0166231\ttotal: 6m 38s\tremaining: 2m 17s\n",
      "744:\tlearn: 0.0165849\ttotal: 6m 39s\tremaining: 2m 16s\n",
      "745:\tlearn: 0.0165557\ttotal: 6m 40s\tremaining: 2m 16s\n",
      "746:\tlearn: 0.0165379\ttotal: 6m 40s\tremaining: 2m 15s\n",
      "747:\tlearn: 0.0165134\ttotal: 6m 41s\tremaining: 2m 15s\n",
      "748:\tlearn: 0.0164844\ttotal: 6m 41s\tremaining: 2m 14s\n",
      "749:\tlearn: 0.0164674\ttotal: 6m 42s\tremaining: 2m 14s\n",
      "750:\tlearn: 0.0164437\ttotal: 6m 42s\tremaining: 2m 13s\n",
      "751:\tlearn: 0.0164154\ttotal: 6m 43s\tremaining: 2m 13s\n",
      "752:\tlearn: 0.0163851\ttotal: 6m 43s\tremaining: 2m 12s\n",
      "753:\tlearn: 0.0163625\ttotal: 6m 44s\tremaining: 2m 11s\n",
      "754:\tlearn: 0.0163341\ttotal: 6m 44s\tremaining: 2m 11s\n",
      "755:\tlearn: 0.0163002\ttotal: 6m 45s\tremaining: 2m 10s\n",
      "756:\tlearn: 0.0162678\ttotal: 6m 45s\tremaining: 2m 10s\n",
      "757:\tlearn: 0.0162472\ttotal: 6m 46s\tremaining: 2m 9s\n",
      "758:\tlearn: 0.0162056\ttotal: 6m 47s\tremaining: 2m 9s\n",
      "759:\tlearn: 0.0161707\ttotal: 6m 47s\tremaining: 2m 8s\n",
      "760:\tlearn: 0.0161410\ttotal: 6m 48s\tremaining: 2m 8s\n",
      "761:\tlearn: 0.0161216\ttotal: 6m 48s\tremaining: 2m 7s\n",
      "762:\tlearn: 0.0160937\ttotal: 6m 49s\tremaining: 2m 7s\n",
      "763:\tlearn: 0.0160673\ttotal: 6m 49s\tremaining: 2m 6s\n",
      "764:\tlearn: 0.0160374\ttotal: 6m 50s\tremaining: 2m 5s\n",
      "765:\tlearn: 0.0160143\ttotal: 6m 50s\tremaining: 2m 5s\n",
      "766:\tlearn: 0.0159806\ttotal: 6m 51s\tremaining: 2m 4s\n",
      "767:\tlearn: 0.0159547\ttotal: 6m 51s\tremaining: 2m 4s\n",
      "768:\tlearn: 0.0159285\ttotal: 6m 52s\tremaining: 2m 3s\n",
      "769:\tlearn: 0.0158875\ttotal: 6m 52s\tremaining: 2m 3s\n",
      "770:\tlearn: 0.0158600\ttotal: 6m 53s\tremaining: 2m 2s\n",
      "771:\tlearn: 0.0158234\ttotal: 6m 53s\tremaining: 2m 2s\n",
      "772:\tlearn: 0.0157873\ttotal: 6m 54s\tremaining: 2m 1s\n",
      "773:\tlearn: 0.0157592\ttotal: 6m 54s\tremaining: 2m 1s\n",
      "774:\tlearn: 0.0157242\ttotal: 6m 55s\tremaining: 2m\n",
      "775:\tlearn: 0.0157002\ttotal: 6m 56s\tremaining: 2m\n",
      "776:\tlearn: 0.0156689\ttotal: 6m 56s\tremaining: 1m 59s\n",
      "777:\tlearn: 0.0156413\ttotal: 6m 57s\tremaining: 1m 59s\n",
      "778:\tlearn: 0.0156088\ttotal: 6m 58s\tremaining: 1m 58s\n",
      "779:\tlearn: 0.0155880\ttotal: 6m 58s\tremaining: 1m 58s\n",
      "780:\tlearn: 0.0155553\ttotal: 6m 59s\tremaining: 1m 57s\n",
      "781:\tlearn: 0.0155363\ttotal: 6m 59s\tremaining: 1m 56s\n",
      "782:\tlearn: 0.0155146\ttotal: 7m\tremaining: 1m 56s\n",
      "783:\tlearn: 0.0154864\ttotal: 7m\tremaining: 1m 55s\n",
      "784:\tlearn: 0.0154683\ttotal: 7m 1s\tremaining: 1m 55s\n",
      "785:\tlearn: 0.0154452\ttotal: 7m 1s\tremaining: 1m 54s\n",
      "786:\tlearn: 0.0154172\ttotal: 7m 2s\tremaining: 1m 54s\n",
      "787:\tlearn: 0.0153939\ttotal: 7m 2s\tremaining: 1m 53s\n",
      "788:\tlearn: 0.0153706\ttotal: 7m 3s\tremaining: 1m 53s\n",
      "789:\tlearn: 0.0153496\ttotal: 7m 3s\tremaining: 1m 52s\n",
      "790:\tlearn: 0.0153281\ttotal: 7m 4s\tremaining: 1m 52s\n",
      "791:\tlearn: 0.0152863\ttotal: 7m 4s\tremaining: 1m 51s\n",
      "792:\tlearn: 0.0152642\ttotal: 7m 5s\tremaining: 1m 51s\n",
      "793:\tlearn: 0.0152356\ttotal: 7m 5s\tremaining: 1m 50s\n",
      "794:\tlearn: 0.0152166\ttotal: 7m 6s\tremaining: 1m 49s\n",
      "795:\tlearn: 0.0151958\ttotal: 7m 6s\tremaining: 1m 49s\n",
      "796:\tlearn: 0.0151840\ttotal: 7m 7s\tremaining: 1m 48s\n",
      "797:\tlearn: 0.0151692\ttotal: 7m 7s\tremaining: 1m 48s\n",
      "798:\tlearn: 0.0151419\ttotal: 7m 8s\tremaining: 1m 47s\n",
      "799:\tlearn: 0.0151193\ttotal: 7m 8s\tremaining: 1m 47s\n",
      "800:\tlearn: 0.0150789\ttotal: 7m 9s\tremaining: 1m 46s\n",
      "801:\tlearn: 0.0150585\ttotal: 7m 10s\tremaining: 1m 46s\n",
      "802:\tlearn: 0.0150347\ttotal: 7m 10s\tremaining: 1m 45s\n",
      "803:\tlearn: 0.0150155\ttotal: 7m 11s\tremaining: 1m 45s\n",
      "804:\tlearn: 0.0149983\ttotal: 7m 11s\tremaining: 1m 44s\n",
      "805:\tlearn: 0.0149795\ttotal: 7m 12s\tremaining: 1m 44s\n",
      "806:\tlearn: 0.0149641\ttotal: 7m 12s\tremaining: 1m 43s\n",
      "807:\tlearn: 0.0149352\ttotal: 7m 13s\tremaining: 1m 43s\n",
      "808:\tlearn: 0.0149204\ttotal: 7m 14s\tremaining: 1m 42s\n",
      "809:\tlearn: 0.0148901\ttotal: 7m 14s\tremaining: 1m 41s\n",
      "810:\tlearn: 0.0148690\ttotal: 7m 15s\tremaining: 1m 41s\n",
      "811:\tlearn: 0.0148402\ttotal: 7m 15s\tremaining: 1m 40s\n",
      "812:\tlearn: 0.0148126\ttotal: 7m 16s\tremaining: 1m 40s\n",
      "813:\tlearn: 0.0147836\ttotal: 7m 16s\tremaining: 1m 39s\n",
      "814:\tlearn: 0.0147591\ttotal: 7m 17s\tremaining: 1m 39s\n",
      "815:\tlearn: 0.0147316\ttotal: 7m 17s\tremaining: 1m 38s\n",
      "816:\tlearn: 0.0146950\ttotal: 7m 18s\tremaining: 1m 38s\n",
      "817:\tlearn: 0.0146756\ttotal: 7m 18s\tremaining: 1m 37s\n",
      "818:\tlearn: 0.0146575\ttotal: 7m 19s\tremaining: 1m 37s\n",
      "819:\tlearn: 0.0146290\ttotal: 7m 19s\tremaining: 1m 36s\n",
      "820:\tlearn: 0.0146157\ttotal: 7m 20s\tremaining: 1m 36s\n",
      "821:\tlearn: 0.0145970\ttotal: 7m 20s\tremaining: 1m 35s\n",
      "822:\tlearn: 0.0145789\ttotal: 7m 21s\tremaining: 1m 34s\n",
      "823:\tlearn: 0.0145557\ttotal: 7m 21s\tremaining: 1m 34s\n",
      "824:\tlearn: 0.0145254\ttotal: 7m 22s\tremaining: 1m 33s\n",
      "825:\tlearn: 0.0145152\ttotal: 7m 22s\tremaining: 1m 33s\n",
      "826:\tlearn: 0.0144927\ttotal: 7m 23s\tremaining: 1m 32s\n",
      "827:\tlearn: 0.0144788\ttotal: 7m 23s\tremaining: 1m 32s\n",
      "828:\tlearn: 0.0144631\ttotal: 7m 24s\tremaining: 1m 31s\n",
      "829:\tlearn: 0.0144313\ttotal: 7m 24s\tremaining: 1m 31s\n",
      "830:\tlearn: 0.0143957\ttotal: 7m 25s\tremaining: 1m 30s\n",
      "831:\tlearn: 0.0143689\ttotal: 7m 26s\tremaining: 1m 30s\n",
      "832:\tlearn: 0.0143492\ttotal: 7m 26s\tremaining: 1m 29s\n",
      "833:\tlearn: 0.0143283\ttotal: 7m 27s\tremaining: 1m 29s\n",
      "834:\tlearn: 0.0143120\ttotal: 7m 27s\tremaining: 1m 28s\n",
      "835:\tlearn: 0.0142921\ttotal: 7m 28s\tremaining: 1m 27s\n",
      "836:\tlearn: 0.0142793\ttotal: 7m 28s\tremaining: 1m 27s\n",
      "837:\tlearn: 0.0142604\ttotal: 7m 29s\tremaining: 1m 26s\n",
      "838:\tlearn: 0.0142403\ttotal: 7m 30s\tremaining: 1m 26s\n",
      "839:\tlearn: 0.0142195\ttotal: 7m 30s\tremaining: 1m 25s\n",
      "840:\tlearn: 0.0141879\ttotal: 7m 31s\tremaining: 1m 25s\n",
      "841:\tlearn: 0.0141680\ttotal: 7m 31s\tremaining: 1m 24s\n",
      "842:\tlearn: 0.0141550\ttotal: 7m 32s\tremaining: 1m 24s\n",
      "843:\tlearn: 0.0141341\ttotal: 7m 32s\tremaining: 1m 23s\n",
      "844:\tlearn: 0.0141129\ttotal: 7m 33s\tremaining: 1m 23s\n",
      "845:\tlearn: 0.0140900\ttotal: 7m 33s\tremaining: 1m 22s\n",
      "846:\tlearn: 0.0140713\ttotal: 7m 34s\tremaining: 1m 22s\n",
      "847:\tlearn: 0.0140540\ttotal: 7m 34s\tremaining: 1m 21s\n",
      "848:\tlearn: 0.0140366\ttotal: 7m 35s\tremaining: 1m 20s\n",
      "849:\tlearn: 0.0140023\ttotal: 7m 35s\tremaining: 1m 20s\n",
      "850:\tlearn: 0.0139840\ttotal: 7m 36s\tremaining: 1m 19s\n",
      "851:\tlearn: 0.0139675\ttotal: 7m 36s\tremaining: 1m 19s\n",
      "852:\tlearn: 0.0139342\ttotal: 7m 37s\tremaining: 1m 18s\n",
      "853:\tlearn: 0.0139111\ttotal: 7m 37s\tremaining: 1m 18s\n",
      "854:\tlearn: 0.0138892\ttotal: 7m 38s\tremaining: 1m 17s\n",
      "855:\tlearn: 0.0138693\ttotal: 7m 38s\tremaining: 1m 17s\n",
      "856:\tlearn: 0.0138516\ttotal: 7m 39s\tremaining: 1m 16s\n",
      "857:\tlearn: 0.0138274\ttotal: 7m 39s\tremaining: 1m 16s\n",
      "858:\tlearn: 0.0137992\ttotal: 7m 40s\tremaining: 1m 15s\n",
      "859:\tlearn: 0.0137765\ttotal: 7m 40s\tremaining: 1m 15s\n",
      "860:\tlearn: 0.0137589\ttotal: 7m 41s\tremaining: 1m 14s\n",
      "861:\tlearn: 0.0137412\ttotal: 7m 42s\tremaining: 1m 13s\n",
      "862:\tlearn: 0.0137228\ttotal: 7m 42s\tremaining: 1m 13s\n",
      "863:\tlearn: 0.0137056\ttotal: 7m 43s\tremaining: 1m 12s\n",
      "864:\tlearn: 0.0136879\ttotal: 7m 43s\tremaining: 1m 12s\n",
      "865:\tlearn: 0.0136714\ttotal: 7m 44s\tremaining: 1m 11s\n",
      "866:\tlearn: 0.0136400\ttotal: 7m 45s\tremaining: 1m 11s\n",
      "867:\tlearn: 0.0136278\ttotal: 7m 45s\tremaining: 1m 10s\n",
      "868:\tlearn: 0.0136131\ttotal: 7m 46s\tremaining: 1m 10s\n",
      "869:\tlearn: 0.0135960\ttotal: 7m 46s\tremaining: 1m 9s\n",
      "870:\tlearn: 0.0135759\ttotal: 7m 47s\tremaining: 1m 9s\n",
      "871:\tlearn: 0.0135569\ttotal: 7m 47s\tremaining: 1m 8s\n",
      "872:\tlearn: 0.0135440\ttotal: 7m 48s\tremaining: 1m 8s\n",
      "873:\tlearn: 0.0135260\ttotal: 7m 48s\tremaining: 1m 7s\n",
      "874:\tlearn: 0.0135010\ttotal: 7m 49s\tremaining: 1m 7s\n",
      "875:\tlearn: 0.0134821\ttotal: 7m 49s\tremaining: 1m 6s\n",
      "876:\tlearn: 0.0134618\ttotal: 7m 50s\tremaining: 1m 5s\n",
      "877:\tlearn: 0.0134410\ttotal: 7m 50s\tremaining: 1m 5s\n",
      "878:\tlearn: 0.0134230\ttotal: 7m 51s\tremaining: 1m 4s\n",
      "879:\tlearn: 0.0134034\ttotal: 7m 51s\tremaining: 1m 4s\n",
      "880:\tlearn: 0.0133825\ttotal: 7m 52s\tremaining: 1m 3s\n",
      "881:\tlearn: 0.0133667\ttotal: 7m 52s\tremaining: 1m 3s\n",
      "882:\tlearn: 0.0133548\ttotal: 7m 53s\tremaining: 1m 2s\n",
      "883:\tlearn: 0.0133310\ttotal: 7m 53s\tremaining: 1m 2s\n",
      "884:\tlearn: 0.0133129\ttotal: 7m 54s\tremaining: 1m 1s\n",
      "885:\tlearn: 0.0132963\ttotal: 7m 54s\tremaining: 1m 1s\n",
      "886:\tlearn: 0.0132744\ttotal: 7m 55s\tremaining: 1m\n",
      "887:\tlearn: 0.0132463\ttotal: 7m 55s\tremaining: 1m\n",
      "888:\tlearn: 0.0132300\ttotal: 7m 56s\tremaining: 59.5s\n",
      "889:\tlearn: 0.0132168\ttotal: 7m 57s\tremaining: 59s\n",
      "890:\tlearn: 0.0131996\ttotal: 7m 57s\tremaining: 58.4s\n",
      "891:\tlearn: 0.0131869\ttotal: 7m 58s\tremaining: 57.9s\n",
      "892:\tlearn: 0.0131708\ttotal: 7m 58s\tremaining: 57.4s\n",
      "893:\tlearn: 0.0131495\ttotal: 7m 59s\tremaining: 56.8s\n",
      "894:\tlearn: 0.0131283\ttotal: 7m 59s\tremaining: 56.3s\n",
      "895:\tlearn: 0.0131125\ttotal: 8m\tremaining: 55.8s\n",
      "896:\tlearn: 0.0130959\ttotal: 8m 1s\tremaining: 55.3s\n",
      "897:\tlearn: 0.0130727\ttotal: 8m 1s\tremaining: 54.7s\n",
      "898:\tlearn: 0.0130552\ttotal: 8m 2s\tremaining: 54.2s\n",
      "899:\tlearn: 0.0130400\ttotal: 8m 2s\tremaining: 53.6s\n",
      "900:\tlearn: 0.0130191\ttotal: 8m 3s\tremaining: 53.1s\n",
      "901:\tlearn: 0.0130019\ttotal: 8m 3s\tremaining: 52.6s\n",
      "902:\tlearn: 0.0129841\ttotal: 8m 4s\tremaining: 52s\n",
      "903:\tlearn: 0.0129616\ttotal: 8m 4s\tremaining: 51.5s\n",
      "904:\tlearn: 0.0129382\ttotal: 8m 5s\tremaining: 50.9s\n",
      "905:\tlearn: 0.0129175\ttotal: 8m 5s\tremaining: 50.4s\n",
      "906:\tlearn: 0.0128999\ttotal: 8m 6s\tremaining: 49.9s\n",
      "907:\tlearn: 0.0128699\ttotal: 8m 6s\tremaining: 49.3s\n",
      "908:\tlearn: 0.0128458\ttotal: 8m 7s\tremaining: 48.8s\n",
      "909:\tlearn: 0.0128165\ttotal: 8m 7s\tremaining: 48.3s\n",
      "910:\tlearn: 0.0128013\ttotal: 8m 8s\tremaining: 47.7s\n",
      "911:\tlearn: 0.0127780\ttotal: 8m 8s\tremaining: 47.2s\n",
      "912:\tlearn: 0.0127491\ttotal: 8m 9s\tremaining: 46.6s\n",
      "913:\tlearn: 0.0127268\ttotal: 8m 9s\tremaining: 46.1s\n",
      "914:\tlearn: 0.0127163\ttotal: 8m 10s\tremaining: 45.6s\n",
      "915:\tlearn: 0.0126932\ttotal: 8m 10s\tremaining: 45s\n",
      "916:\tlearn: 0.0126758\ttotal: 8m 11s\tremaining: 44.5s\n",
      "917:\tlearn: 0.0126573\ttotal: 8m 11s\tremaining: 43.9s\n",
      "918:\tlearn: 0.0126376\ttotal: 8m 12s\tremaining: 43.4s\n",
      "919:\tlearn: 0.0126252\ttotal: 8m 13s\tremaining: 42.9s\n",
      "920:\tlearn: 0.0126063\ttotal: 8m 13s\tremaining: 42.3s\n",
      "921:\tlearn: 0.0125944\ttotal: 8m 14s\tremaining: 41.8s\n",
      "922:\tlearn: 0.0125852\ttotal: 8m 14s\tremaining: 41.3s\n",
      "923:\tlearn: 0.0125644\ttotal: 8m 15s\tremaining: 40.7s\n",
      "924:\tlearn: 0.0125477\ttotal: 8m 15s\tremaining: 40.2s\n",
      "925:\tlearn: 0.0125334\ttotal: 8m 16s\tremaining: 39.7s\n",
      "926:\tlearn: 0.0125213\ttotal: 8m 17s\tremaining: 39.1s\n",
      "927:\tlearn: 0.0125025\ttotal: 8m 17s\tremaining: 38.6s\n",
      "928:\tlearn: 0.0124889\ttotal: 8m 18s\tremaining: 38.1s\n",
      "929:\tlearn: 0.0124711\ttotal: 8m 18s\tremaining: 37.5s\n",
      "930:\tlearn: 0.0124505\ttotal: 8m 19s\tremaining: 37s\n",
      "931:\tlearn: 0.0124262\ttotal: 8m 19s\tremaining: 36.5s\n",
      "932:\tlearn: 0.0124093\ttotal: 8m 20s\tremaining: 35.9s\n",
      "933:\tlearn: 0.0123922\ttotal: 8m 20s\tremaining: 35.4s\n",
      "934:\tlearn: 0.0123658\ttotal: 8m 21s\tremaining: 34.8s\n",
      "935:\tlearn: 0.0123514\ttotal: 8m 21s\tremaining: 34.3s\n",
      "936:\tlearn: 0.0123352\ttotal: 8m 22s\tremaining: 33.8s\n",
      "937:\tlearn: 0.0123154\ttotal: 8m 22s\tremaining: 33.2s\n",
      "938:\tlearn: 0.0122938\ttotal: 8m 23s\tremaining: 32.7s\n",
      "939:\tlearn: 0.0122752\ttotal: 8m 23s\tremaining: 32.2s\n",
      "940:\tlearn: 0.0122594\ttotal: 8m 24s\tremaining: 31.6s\n",
      "941:\tlearn: 0.0122380\ttotal: 8m 24s\tremaining: 31.1s\n",
      "942:\tlearn: 0.0122247\ttotal: 8m 25s\tremaining: 30.5s\n",
      "943:\tlearn: 0.0122062\ttotal: 8m 26s\tremaining: 30s\n",
      "944:\tlearn: 0.0121818\ttotal: 8m 26s\tremaining: 29.5s\n",
      "945:\tlearn: 0.0121616\ttotal: 8m 27s\tremaining: 28.9s\n",
      "946:\tlearn: 0.0121382\ttotal: 8m 27s\tremaining: 28.4s\n",
      "947:\tlearn: 0.0121157\ttotal: 8m 28s\tremaining: 27.9s\n",
      "948:\tlearn: 0.0121033\ttotal: 8m 28s\tremaining: 27.3s\n",
      "949:\tlearn: 0.0120804\ttotal: 8m 29s\tremaining: 26.8s\n",
      "950:\tlearn: 0.0120680\ttotal: 8m 29s\tremaining: 26.3s\n",
      "951:\tlearn: 0.0120485\ttotal: 8m 30s\tremaining: 25.7s\n",
      "952:\tlearn: 0.0120319\ttotal: 8m 30s\tremaining: 25.2s\n",
      "953:\tlearn: 0.0120192\ttotal: 8m 31s\tremaining: 24.7s\n",
      "954:\tlearn: 0.0119968\ttotal: 8m 31s\tremaining: 24.1s\n",
      "955:\tlearn: 0.0119845\ttotal: 8m 32s\tremaining: 23.6s\n",
      "956:\tlearn: 0.0119636\ttotal: 8m 33s\tremaining: 23.1s\n",
      "957:\tlearn: 0.0119484\ttotal: 8m 33s\tremaining: 22.5s\n",
      "958:\tlearn: 0.0119295\ttotal: 8m 34s\tremaining: 22s\n",
      "959:\tlearn: 0.0119126\ttotal: 8m 34s\tremaining: 21.4s\n",
      "960:\tlearn: 0.0119001\ttotal: 8m 35s\tremaining: 20.9s\n",
      "961:\tlearn: 0.0118879\ttotal: 8m 35s\tremaining: 20.4s\n",
      "962:\tlearn: 0.0118691\ttotal: 8m 36s\tremaining: 19.8s\n",
      "963:\tlearn: 0.0118482\ttotal: 8m 36s\tremaining: 19.3s\n",
      "964:\tlearn: 0.0118405\ttotal: 8m 37s\tremaining: 18.8s\n",
      "965:\tlearn: 0.0118275\ttotal: 8m 37s\tremaining: 18.2s\n",
      "966:\tlearn: 0.0118161\ttotal: 8m 38s\tremaining: 17.7s\n",
      "967:\tlearn: 0.0117997\ttotal: 8m 38s\tremaining: 17.2s\n",
      "968:\tlearn: 0.0117843\ttotal: 8m 39s\tremaining: 16.6s\n",
      "969:\tlearn: 0.0117722\ttotal: 8m 39s\tremaining: 16.1s\n",
      "970:\tlearn: 0.0117587\ttotal: 8m 40s\tremaining: 15.5s\n",
      "971:\tlearn: 0.0117450\ttotal: 8m 40s\tremaining: 15s\n",
      "972:\tlearn: 0.0117254\ttotal: 8m 41s\tremaining: 14.5s\n",
      "973:\tlearn: 0.0117085\ttotal: 8m 41s\tremaining: 13.9s\n",
      "974:\tlearn: 0.0116979\ttotal: 8m 42s\tremaining: 13.4s\n",
      "975:\tlearn: 0.0116770\ttotal: 8m 43s\tremaining: 12.9s\n",
      "976:\tlearn: 0.0116587\ttotal: 8m 43s\tremaining: 12.3s\n",
      "977:\tlearn: 0.0116361\ttotal: 8m 44s\tremaining: 11.8s\n",
      "978:\tlearn: 0.0116173\ttotal: 8m 44s\tremaining: 11.3s\n",
      "979:\tlearn: 0.0116047\ttotal: 8m 45s\tremaining: 10.7s\n",
      "980:\tlearn: 0.0115923\ttotal: 8m 45s\tremaining: 10.2s\n",
      "981:\tlearn: 0.0115640\ttotal: 8m 46s\tremaining: 9.64s\n",
      "982:\tlearn: 0.0115452\ttotal: 8m 46s\tremaining: 9.11s\n",
      "983:\tlearn: 0.0115311\ttotal: 8m 47s\tremaining: 8.58s\n",
      "984:\tlearn: 0.0115153\ttotal: 8m 48s\tremaining: 8.04s\n",
      "985:\tlearn: 0.0115024\ttotal: 8m 48s\tremaining: 7.5s\n",
      "986:\tlearn: 0.0114884\ttotal: 8m 49s\tremaining: 6.97s\n",
      "987:\tlearn: 0.0114770\ttotal: 8m 49s\tremaining: 6.43s\n",
      "988:\tlearn: 0.0114603\ttotal: 8m 50s\tremaining: 5.9s\n",
      "989:\tlearn: 0.0114497\ttotal: 8m 50s\tremaining: 5.36s\n",
      "990:\tlearn: 0.0114371\ttotal: 8m 51s\tremaining: 4.83s\n",
      "991:\tlearn: 0.0114208\ttotal: 8m 51s\tremaining: 4.29s\n",
      "992:\tlearn: 0.0114068\ttotal: 8m 52s\tremaining: 3.75s\n",
      "993:\tlearn: 0.0113891\ttotal: 8m 52s\tremaining: 3.22s\n",
      "994:\tlearn: 0.0113799\ttotal: 8m 53s\tremaining: 2.68s\n",
      "995:\tlearn: 0.0113702\ttotal: 8m 53s\tremaining: 2.14s\n",
      "996:\tlearn: 0.0113565\ttotal: 8m 54s\tremaining: 1.61s\n",
      "997:\tlearn: 0.0113407\ttotal: 8m 54s\tremaining: 1.07s\n",
      "998:\tlearn: 0.0113217\ttotal: 8m 55s\tremaining: 536ms\n",
      "999:\tlearn: 0.0113034\ttotal: 8m 56s\tremaining: 0us\n",
      "Learning rate set to 0.071551\n",
      "0:\tlearn: 1.3594362\ttotal: 626ms\tremaining: 10m 25s\n",
      "1:\tlearn: 1.3383702\ttotal: 1.15s\tremaining: 9m 35s\n",
      "2:\tlearn: 1.3115211\ttotal: 1.75s\tremaining: 9m 40s\n",
      "3:\tlearn: 1.2852346\ttotal: 2.27s\tremaining: 9m 25s\n",
      "4:\tlearn: 1.2589660\ttotal: 2.84s\tremaining: 9m 25s\n",
      "5:\tlearn: 1.2405438\ttotal: 3.67s\tremaining: 10m 7s\n",
      "6:\tlearn: 1.2188617\ttotal: 4.53s\tremaining: 10m 42s\n",
      "7:\tlearn: 1.1984861\ttotal: 5.26s\tremaining: 10m 51s\n",
      "8:\tlearn: 1.1699572\ttotal: 6.42s\tremaining: 11m 46s\n",
      "9:\tlearn: 1.1515454\ttotal: 7.2s\tremaining: 11m 53s\n",
      "10:\tlearn: 1.1331204\ttotal: 7.99s\tremaining: 11m 58s\n",
      "11:\tlearn: 1.1161311\ttotal: 8.88s\tremaining: 12m 11s\n",
      "12:\tlearn: 1.0962945\ttotal: 9.67s\tremaining: 12m 14s\n",
      "13:\tlearn: 1.0730507\ttotal: 10.4s\tremaining: 12m 10s\n",
      "14:\tlearn: 1.0572564\ttotal: 11s\tremaining: 12m\n",
      "15:\tlearn: 1.0415389\ttotal: 11.5s\tremaining: 11m 49s\n",
      "16:\tlearn: 1.0338532\ttotal: 12.1s\tremaining: 11m 37s\n",
      "17:\tlearn: 1.0229393\ttotal: 12.6s\tremaining: 11m 26s\n",
      "18:\tlearn: 1.0087486\ttotal: 13.1s\tremaining: 11m 16s\n",
      "19:\tlearn: 0.9966429\ttotal: 13.7s\tremaining: 11m 11s\n",
      "20:\tlearn: 0.9786320\ttotal: 14.3s\tremaining: 11m 7s\n",
      "21:\tlearn: 0.9681023\ttotal: 14.9s\tremaining: 11m 1s\n",
      "22:\tlearn: 0.9527160\ttotal: 15.5s\tremaining: 10m 56s\n",
      "23:\tlearn: 0.9379965\ttotal: 16.1s\tremaining: 10m 55s\n",
      "24:\tlearn: 0.9293875\ttotal: 16.8s\tremaining: 10m 53s\n",
      "25:\tlearn: 0.9233091\ttotal: 17.3s\tremaining: 10m 48s\n",
      "26:\tlearn: 0.9067322\ttotal: 17.9s\tremaining: 10m 44s\n",
      "27:\tlearn: 0.8963542\ttotal: 18.4s\tremaining: 10m 40s\n",
      "28:\tlearn: 0.8849189\ttotal: 19s\tremaining: 10m 36s\n",
      "29:\tlearn: 0.8714172\ttotal: 19.7s\tremaining: 10m 36s\n",
      "30:\tlearn: 0.8629042\ttotal: 20.3s\tremaining: 10m 35s\n",
      "31:\tlearn: 0.8515812\ttotal: 20.9s\tremaining: 10m 33s\n",
      "32:\tlearn: 0.8397377\ttotal: 21.6s\tremaining: 10m 31s\n",
      "33:\tlearn: 0.8291714\ttotal: 22.2s\tremaining: 10m 31s\n",
      "34:\tlearn: 0.8210141\ttotal: 22.9s\tremaining: 10m 30s\n",
      "35:\tlearn: 0.8122578\ttotal: 23.5s\tremaining: 10m 29s\n",
      "36:\tlearn: 0.8010221\ttotal: 24.1s\tremaining: 10m 26s\n",
      "37:\tlearn: 0.7940996\ttotal: 24.6s\tremaining: 10m 24s\n",
      "38:\tlearn: 0.7807726\ttotal: 25.2s\tremaining: 10m 21s\n",
      "39:\tlearn: 0.7732703\ttotal: 25.8s\tremaining: 10m 18s\n",
      "40:\tlearn: 0.7655159\ttotal: 26.3s\tremaining: 10m 15s\n",
      "41:\tlearn: 0.7557364\ttotal: 26.9s\tremaining: 10m 12s\n",
      "42:\tlearn: 0.7473183\ttotal: 27.4s\tremaining: 10m 9s\n",
      "43:\tlearn: 0.7405793\ttotal: 27.9s\tremaining: 10m 6s\n",
      "44:\tlearn: 0.7333384\ttotal: 28.4s\tremaining: 10m 3s\n",
      "45:\tlearn: 0.7235332\ttotal: 28.9s\tremaining: 10m\n",
      "46:\tlearn: 0.7168893\ttotal: 29.5s\tremaining: 9m 57s\n",
      "47:\tlearn: 0.7075453\ttotal: 30s\tremaining: 9m 55s\n",
      "48:\tlearn: 0.6995779\ttotal: 30.5s\tremaining: 9m 52s\n",
      "49:\tlearn: 0.6943256\ttotal: 31s\tremaining: 9m 49s\n",
      "50:\tlearn: 0.6884849\ttotal: 31.6s\tremaining: 9m 47s\n",
      "51:\tlearn: 0.6847565\ttotal: 32.1s\tremaining: 9m 45s\n",
      "52:\tlearn: 0.6753277\ttotal: 32.6s\tremaining: 9m 43s\n",
      "53:\tlearn: 0.6677928\ttotal: 33.2s\tremaining: 9m 41s\n",
      "54:\tlearn: 0.6615765\ttotal: 33.7s\tremaining: 9m 39s\n",
      "55:\tlearn: 0.6522609\ttotal: 34.3s\tremaining: 9m 37s\n",
      "56:\tlearn: 0.6478062\ttotal: 34.8s\tremaining: 9m 35s\n",
      "57:\tlearn: 0.6411637\ttotal: 35.3s\tremaining: 9m 33s\n",
      "58:\tlearn: 0.6283458\ttotal: 35.9s\tremaining: 9m 33s\n",
      "59:\tlearn: 0.6220829\ttotal: 36.6s\tremaining: 9m 32s\n",
      "60:\tlearn: 0.6137454\ttotal: 37.2s\tremaining: 9m 32s\n",
      "61:\tlearn: 0.6071698\ttotal: 37.8s\tremaining: 9m 31s\n",
      "62:\tlearn: 0.6013905\ttotal: 38.4s\tremaining: 9m 30s\n",
      "63:\tlearn: 0.5946546\ttotal: 39s\tremaining: 9m 30s\n",
      "64:\tlearn: 0.5864409\ttotal: 39.5s\tremaining: 9m 28s\n",
      "65:\tlearn: 0.5779300\ttotal: 40s\tremaining: 9m 26s\n",
      "66:\tlearn: 0.5715748\ttotal: 40.6s\tremaining: 9m 24s\n",
      "67:\tlearn: 0.5607370\ttotal: 41.1s\tremaining: 9m 23s\n",
      "68:\tlearn: 0.5580804\ttotal: 41.6s\tremaining: 9m 21s\n",
      "69:\tlearn: 0.5510735\ttotal: 42.1s\tremaining: 9m 19s\n",
      "70:\tlearn: 0.5440508\ttotal: 42.6s\tremaining: 9m 17s\n",
      "71:\tlearn: 0.5388925\ttotal: 43.1s\tremaining: 9m 15s\n",
      "72:\tlearn: 0.5313198\ttotal: 43.7s\tremaining: 9m 14s\n",
      "73:\tlearn: 0.5265766\ttotal: 44.2s\tremaining: 9m 12s\n",
      "74:\tlearn: 0.5212571\ttotal: 44.7s\tremaining: 9m 11s\n",
      "75:\tlearn: 0.5146261\ttotal: 45.2s\tremaining: 9m 10s\n",
      "76:\tlearn: 0.5108924\ttotal: 45.7s\tremaining: 9m 8s\n",
      "77:\tlearn: 0.5038199\ttotal: 46.3s\tremaining: 9m 6s\n",
      "78:\tlearn: 0.4983259\ttotal: 46.8s\tremaining: 9m 5s\n",
      "79:\tlearn: 0.4926558\ttotal: 47.3s\tremaining: 9m 4s\n",
      "80:\tlearn: 0.4868082\ttotal: 47.8s\tremaining: 9m 2s\n",
      "81:\tlearn: 0.4811289\ttotal: 48.4s\tremaining: 9m 1s\n",
      "82:\tlearn: 0.4749952\ttotal: 48.9s\tremaining: 8m 59s\n",
      "83:\tlearn: 0.4678573\ttotal: 49.4s\tremaining: 8m 58s\n",
      "84:\tlearn: 0.4590427\ttotal: 49.9s\tremaining: 8m 57s\n",
      "85:\tlearn: 0.4485490\ttotal: 50.4s\tremaining: 8m 56s\n",
      "86:\tlearn: 0.4436023\ttotal: 51s\tremaining: 8m 54s\n",
      "87:\tlearn: 0.4372020\ttotal: 51.5s\tremaining: 8m 53s\n",
      "88:\tlearn: 0.4286172\ttotal: 52.1s\tremaining: 8m 53s\n",
      "89:\tlearn: 0.4225625\ttotal: 52.7s\tremaining: 8m 52s\n",
      "90:\tlearn: 0.4161747\ttotal: 53.3s\tremaining: 8m 52s\n",
      "91:\tlearn: 0.4109658\ttotal: 54s\tremaining: 8m 52s\n",
      "92:\tlearn: 0.4067366\ttotal: 54.6s\tremaining: 8m 52s\n",
      "93:\tlearn: 0.3990102\ttotal: 55.1s\tremaining: 8m 51s\n",
      "94:\tlearn: 0.3943493\ttotal: 55.7s\tremaining: 8m 50s\n",
      "95:\tlearn: 0.3879385\ttotal: 56.2s\tremaining: 8m 48s\n",
      "96:\tlearn: 0.3832253\ttotal: 56.7s\tremaining: 8m 47s\n",
      "97:\tlearn: 0.3778093\ttotal: 57.2s\tremaining: 8m 46s\n",
      "98:\tlearn: 0.3718850\ttotal: 57.7s\tremaining: 8m 45s\n",
      "99:\tlearn: 0.3657377\ttotal: 58.2s\tremaining: 8m 44s\n",
      "100:\tlearn: 0.3610550\ttotal: 58.8s\tremaining: 8m 43s\n",
      "101:\tlearn: 0.3556898\ttotal: 59.3s\tremaining: 8m 42s\n",
      "102:\tlearn: 0.3502406\ttotal: 59.8s\tremaining: 8m 40s\n",
      "103:\tlearn: 0.3449072\ttotal: 1m\tremaining: 8m 39s\n",
      "104:\tlearn: 0.3395796\ttotal: 1m\tremaining: 8m 38s\n",
      "105:\tlearn: 0.3342367\ttotal: 1m 1s\tremaining: 8m 37s\n",
      "106:\tlearn: 0.3287577\ttotal: 1m 1s\tremaining: 8m 36s\n",
      "107:\tlearn: 0.3250123\ttotal: 1m 2s\tremaining: 8m 35s\n",
      "108:\tlearn: 0.3208614\ttotal: 1m 2s\tremaining: 8m 34s\n",
      "109:\tlearn: 0.3141303\ttotal: 1m 3s\tremaining: 8m 33s\n",
      "110:\tlearn: 0.3088621\ttotal: 1m 4s\tremaining: 8m 32s\n",
      "111:\tlearn: 0.3036968\ttotal: 1m 4s\tremaining: 8m 32s\n",
      "112:\tlearn: 0.2983445\ttotal: 1m 5s\tremaining: 8m 31s\n",
      "113:\tlearn: 0.2941117\ttotal: 1m 5s\tremaining: 8m 31s\n",
      "114:\tlearn: 0.2899589\ttotal: 1m 6s\tremaining: 8m 30s\n",
      "115:\tlearn: 0.2850055\ttotal: 1m 6s\tremaining: 8m 29s\n",
      "116:\tlearn: 0.2810121\ttotal: 1m 7s\tremaining: 8m 28s\n",
      "117:\tlearn: 0.2774428\ttotal: 1m 8s\tremaining: 8m 28s\n",
      "118:\tlearn: 0.2729936\ttotal: 1m 8s\tremaining: 8m 28s\n",
      "119:\tlearn: 0.2686586\ttotal: 1m 9s\tremaining: 8m 28s\n",
      "120:\tlearn: 0.2657847\ttotal: 1m 9s\tremaining: 8m 28s\n",
      "121:\tlearn: 0.2624866\ttotal: 1m 10s\tremaining: 8m 27s\n",
      "122:\tlearn: 0.2590008\ttotal: 1m 11s\tremaining: 8m 27s\n",
      "123:\tlearn: 0.2552328\ttotal: 1m 11s\tremaining: 8m 26s\n",
      "124:\tlearn: 0.2509455\ttotal: 1m 12s\tremaining: 8m 25s\n",
      "125:\tlearn: 0.2469865\ttotal: 1m 12s\tremaining: 8m 24s\n",
      "126:\tlearn: 0.2436694\ttotal: 1m 13s\tremaining: 8m 23s\n",
      "127:\tlearn: 0.2415778\ttotal: 1m 13s\tremaining: 8m 22s\n",
      "128:\tlearn: 0.2377766\ttotal: 1m 14s\tremaining: 8m 21s\n",
      "129:\tlearn: 0.2352842\ttotal: 1m 14s\tremaining: 8m 21s\n",
      "130:\tlearn: 0.2316460\ttotal: 1m 15s\tremaining: 8m 20s\n"
     ]
    }
   ],
   "source": [
    "# для tfidf_vectorizer \n",
    "model = CatBoostClassifier()\n",
    "scores = cross_val_score(model, tfidf_train, target_train, cv=5, scoring='f1_weighted')\n",
    "final_score = sum(scores) / len(scores)\n",
    "print('Средняя оценка качества модели:', final_score)"
   ]
  },
  {
   "cell_type": "code",
   "execution_count": null,
   "metadata": {},
   "outputs": [],
   "source": [
    "# для count_vectorizer\n",
    "model = CatBoostClassifier()\n",
    "scores = cross_val_score(model, cv_train, target_train, cv=5, scoring='f1_weighted')\n",
    "final_score = sum(scores) / len(scores)\n",
    "print('Средняя оценка качества модели:', final_score)"
   ]
  },
  {
   "cell_type": "markdown",
   "metadata": {},
   "source": [
    "### GaussianNB - байесовский классификатор"
   ]
  },
  {
   "cell_type": "code",
   "execution_count": 21,
   "metadata": {},
   "outputs": [
    {
     "name": "stdout",
     "output_type": "stream",
     "text": [
      "Средняя оценка качества модели: 0.6480500006530299\n"
     ]
    }
   ],
   "source": [
    "# для tfidf_vectorizer \n",
    "model = GaussianNB()\n",
    "scores = cross_val_score(model, tfidf_train, target_train, cv=5, scoring='f1_weighted')\n",
    "final_score = sum(scores) / len(scores)\n",
    "print('Средняя оценка качества модели:', final_score)"
   ]
  },
  {
   "cell_type": "code",
   "execution_count": 22,
   "metadata": {},
   "outputs": [
    {
     "name": "stdout",
     "output_type": "stream",
     "text": [
      "Средняя оценка качества модели: nan\n"
     ]
    },
    {
     "name": "stderr",
     "output_type": "stream",
     "text": [
      "C:\\Users\\Lerusik\\anaconda3\\lib\\site-packages\\sklearn\\model_selection\\_validation.py:372: FitFailedWarning: \n",
      "5 fits failed out of a total of 5.\n",
      "The score on these train-test partitions for these parameters will be set to nan.\n",
      "If these failures are not expected, you can try to debug them by setting error_score='raise'.\n",
      "\n",
      "Below are more details about the failures:\n",
      "--------------------------------------------------------------------------------\n",
      "5 fits failed with the following error:\n",
      "Traceback (most recent call last):\n",
      "  File \"C:\\Users\\Lerusik\\anaconda3\\lib\\site-packages\\sklearn\\model_selection\\_validation.py\", line 680, in _fit_and_score\n",
      "    estimator.fit(X_train, y_train, **fit_params)\n",
      "  File \"C:\\Users\\Lerusik\\anaconda3\\lib\\site-packages\\sklearn\\naive_bayes.py\", line 245, in fit\n",
      "    return self._partial_fit(\n",
      "  File \"C:\\Users\\Lerusik\\anaconda3\\lib\\site-packages\\sklearn\\naive_bayes.py\", line 402, in _partial_fit\n",
      "    X, y = self._validate_data(X, y, reset=first_call)\n",
      "  File \"C:\\Users\\Lerusik\\anaconda3\\lib\\site-packages\\sklearn\\base.py\", line 581, in _validate_data\n",
      "    X, y = check_X_y(X, y, **check_params)\n",
      "  File \"C:\\Users\\Lerusik\\anaconda3\\lib\\site-packages\\sklearn\\utils\\validation.py\", line 964, in check_X_y\n",
      "    X = check_array(\n",
      "  File \"C:\\Users\\Lerusik\\anaconda3\\lib\\site-packages\\sklearn\\utils\\validation.py\", line 720, in check_array\n",
      "    array = _ensure_sparse_format(\n",
      "  File \"C:\\Users\\Lerusik\\anaconda3\\lib\\site-packages\\sklearn\\utils\\validation.py\", line 440, in _ensure_sparse_format\n",
      "    raise TypeError(\n",
      "TypeError: A sparse matrix was passed, but dense data is required. Use X.toarray() to convert to a dense numpy array.\n",
      "\n",
      "  warnings.warn(some_fits_failed_message, FitFailedWarning)\n"
     ]
    }
   ],
   "source": [
    "# для count_vectorizer\n",
    "model = GaussianNB()\n",
    "scores = cross_val_score(model, cv_train, target_train, cv=5, scoring='f1_weighted')\n",
    "final_score = sum(scores) / len(scores)\n",
    "print('Средняя оценка качества модели:', final_score)"
   ]
  },
  {
   "cell_type": "markdown",
   "metadata": {},
   "source": [
    "### MultinomialNB - байесовский классификатор"
   ]
  },
  {
   "cell_type": "code",
   "execution_count": 23,
   "metadata": {},
   "outputs": [
    {
     "name": "stdout",
     "output_type": "stream",
     "text": [
      "Средняя оценка качества модели: 0.3081516914458091\n"
     ]
    }
   ],
   "source": [
    "# для tfidf_vectorizer\n",
    "model = MultinomialNB()\n",
    "scores = cross_val_score(model, tfidf_train, target_train, cv=5, scoring='f1_weighted')\n",
    "final_score = sum(scores) / len(scores)\n",
    "print('Средняя оценка качества модели:', final_score)"
   ]
  },
  {
   "cell_type": "code",
   "execution_count": 24,
   "metadata": {},
   "outputs": [
    {
     "name": "stdout",
     "output_type": "stream",
     "text": [
      "Средняя оценка качества модели: 0.6098250680072883\n"
     ]
    }
   ],
   "source": [
    "# для count_vectorizer\n",
    "model = MultinomialNB()\n",
    "scores = cross_val_score(model, cv_train, target_train, cv=5, scoring='f1_weighted')\n",
    "final_score = sum(scores) / len(scores)\n",
    "print('Средняя оценка качества модели:', final_score)"
   ]
  },
  {
   "cell_type": "markdown",
   "metadata": {},
   "source": [
    "### SVC"
   ]
  },
  {
   "cell_type": "code",
   "execution_count": 25,
   "metadata": {},
   "outputs": [
    {
     "name": "stdout",
     "output_type": "stream",
     "text": [
      "Средняя оценка качества модели: 0.545093905615595\n"
     ]
    }
   ],
   "source": [
    "# для tfidf_vectorizer\n",
    "model = SVC(decision_function_shape=\"ovo\")\n",
    "scores = cross_val_score(model, tfidf_train, target_train, cv=5, scoring='f1_weighted')\n",
    "final_score = sum(scores) / len(scores)\n",
    "print('Средняя оценка качества модели:', final_score)\n"
   ]
  },
  {
   "cell_type": "code",
   "execution_count": 26,
   "metadata": {},
   "outputs": [
    {
     "name": "stdout",
     "output_type": "stream",
     "text": [
      "Средняя оценка качества модели: 0.4317248155464446\n"
     ]
    }
   ],
   "source": [
    "# для count_vectorizer \n",
    "model = SVC(decision_function_shape=\"ovo\")\n",
    "scores = cross_val_score(model, cv_train, target_train, cv=5, scoring='f1_weighted')\n",
    "final_score = sum(scores) / len(scores)\n",
    "print('Средняя оценка качества модели:', final_score)"
   ]
  },
  {
   "cell_type": "markdown",
   "metadata": {},
   "source": [
    "### Тестирование лучшей модели"
   ]
  },
  {
   "cell_type": "code",
   "execution_count": 27,
   "metadata": {},
   "outputs": [
    {
     "name": "stdout",
     "output_type": "stream",
     "text": [
      "0.5619471551674943\n"
     ]
    }
   ],
   "source": [
    "model = GaussianNB()\n",
    "model.fit(tfidf_train, target_train)\n",
    "\n",
    "predictions = model.predict(tfidf_test)\n",
    "f1 = f1_score(target_test, predictions, average='weighted')\n",
    "\n",
    "print(f1)"
   ]
  },
  {
   "cell_type": "code",
   "execution_count": 28,
   "metadata": {},
   "outputs": [
    {
     "data": {
      "image/png": "[encoded data removed]",
      "text/plain": [
       "<Figure size 640x480 with 2 Axes>"
      ]
     },
     "metadata": {},
     "output_type": "display_data"
    }
   ],
   "source": [
    "warnings.filterwarnings('ignore') #отключаем предупреждения\n",
    "plot_confusion_matrix(model, tfidf_test, target_test)  \n",
    "plt.show()"
   ]
  },
  {
   "cell_type": "markdown",
   "metadata": {},
   "source": [
    "## Выводы\n",
    "\n",
    "Данная работа была направлена на анализ субтитров к фильмам для изучения английского языка. Необходима система, помогающая подобрать фильм, соответсвующий нужному уровню владения языком. \n",
    "\n",
    "Данные были получены в виде таблиц с размеченными по уровням фильмам, а также субтитрами. Обработка субтитров состояла в применении регулярных выражений для очистки от лишних символов и ненужных слов. Далее применена лемматизация и стэмминг для выявления основных форм слов и удаления дубликатов. Далее применены 2 варианта векторизации - подготовительный этап кодировки данных для дальнейшей загрузки в модели обучения. \n",
    "\n",
    "На этапе построения моделей машинного обучения было принято решение использовать следующие модели: CatBoostClassifier, MultinomialNB и GaussianNB - байесовские классификаторы, а также SVC - метод опорных векторов. \n",
    "\n",
    "Для измерения качества мультиклассификации была выбрана метрика f1_weighted, поскольку исходные данные не сбалансированы по классам. Также необходимо выбрать модель не только с хорошей метрикой точности, но полнотой, поэтому нужно объединяющая метрика, которой и является f1.\n",
    "\n",
    "С помощью кросс-валидации были получены метрики на основных данных, лучшей моделью оказалась **GaussianNB**  метрикой *f1_weighted = 0,65*, поэтому далее она тестировалась на тестовых данных и дала результат *f1_weighted = 0,56*"
   ]
  },
  {
   "cell_type": "markdown",
   "metadata": {
    "scrolled": true
   },
   "source": [
    "## Улучшения\n",
    "\n",
    " 1) загрузить данные словарей и вручную посмотреть совпадения с количеством слов\n",
    " \n",
    " 2) посмотреть наиболее частые слова\n",
    " \n",
    " 3) более тщательно обработать регулярками\n",
    " \n",
    " 4) посмотреть улучшенные методы лемматизации и стэмминга, также использовать NLTK, Gensim, SpaCy\n",
    " \n",
    " 5) попробовать векторизацию Word2Vec и Bag Of Words\n",
    " \n",
    " 6) перебрать больше моделей и параметров в каждой модели\n",
    " \n",
    " 7) Расширить датасет с помощью сервисов\n",
    " \n",
    " 8) Добавить больше визуальности в данные\n",
    "\n",
    "https://subscene.com/  \n",
    "\n",
    "https://www.opensubtitles.org/ru/search/sublanguageid-eng)\n",
    "\n",
    "https://languageresearch.cambridge.org/wordlists/text-inspector\n",
    " \n",
    "https://www.cathoven.com/en/cefr-checker/\n",
    "\n",
    "[www.roadtogrammar.com/textanalysis/](http://www.roadtogrammar.com/textanalysis/)\n",
    "  \n",
    "https://textinspector.com/"
   ]
  },
  {
   "cell_type": "code",
   "execution_count": null,
   "metadata": {},
   "outputs": [],
   "source": []
  }
 ],
 "metadata": {
  "ExecuteTimeLog": [
   {
    "duration": 1677,
    "start_time": "2023-06-14T16:44:52.060Z"
   },
   {
    "duration": 0,
    "start_time": "2023-06-14T16:44:53.739Z"
   },
   {
    "duration": 7,
    "start_time": "2023-06-14T16:45:01.097Z"
   },
   {
    "duration": 3239,
    "start_time": "2023-06-14T16:45:03.896Z"
   },
   {
    "duration": 16,
    "start_time": "2023-06-14T17:23:22.495Z"
   },
   {
    "duration": 11,
    "start_time": "2023-06-14T17:23:41.440Z"
   },
   {
    "duration": 142,
    "start_time": "2023-06-14T17:24:25.859Z"
   },
   {
    "duration": 177,
    "start_time": "2023-06-14T17:24:32.134Z"
   },
   {
    "duration": 78,
    "start_time": "2023-06-14T17:33:37.515Z"
   },
   {
    "duration": 105,
    "start_time": "2023-06-14T17:33:39.243Z"
   },
   {
    "duration": 441,
    "start_time": "2023-06-14T17:41:01.195Z"
   },
   {
    "duration": 120,
    "start_time": "2023-06-14T17:42:32.988Z"
   },
   {
    "duration": 19,
    "start_time": "2023-06-14T17:54:13.235Z"
   },
   {
    "duration": 134,
    "start_time": "2023-06-14T17:54:13.889Z"
   },
   {
    "duration": 81,
    "start_time": "2023-06-14T17:55:56.823Z"
   },
   {
    "duration": 102,
    "start_time": "2023-06-14T17:55:57.080Z"
   },
   {
    "duration": 476,
    "start_time": "2023-06-14T17:57:01.593Z"
   },
   {
    "duration": 9,
    "start_time": "2023-06-14T17:58:03.715Z"
   },
   {
    "duration": 18,
    "start_time": "2023-06-14T17:58:08.097Z"
   },
   {
    "duration": 56,
    "start_time": "2023-06-14T18:00:59.309Z"
   },
   {
    "duration": 382,
    "start_time": "2023-06-14T18:01:09.212Z"
   },
   {
    "duration": 47,
    "start_time": "2023-06-14T18:02:13.297Z"
   },
   {
    "duration": 9,
    "start_time": "2023-06-14T18:02:17.514Z"
   },
   {
    "duration": 383,
    "start_time": "2023-06-14T18:02:20.835Z"
   },
   {
    "duration": 202,
    "start_time": "2023-06-14T18:05:27.106Z"
   },
   {
    "duration": 1333,
    "start_time": "2023-06-14T18:07:12.485Z"
   },
   {
    "duration": 895,
    "start_time": "2023-06-14T18:07:13.820Z"
   },
   {
    "duration": 129,
    "start_time": "2023-06-14T18:07:14.717Z"
   },
   {
    "duration": 124,
    "start_time": "2023-06-14T18:07:14.848Z"
   },
   {
    "duration": 176,
    "start_time": "2023-06-14T18:07:14.973Z"
   },
   {
    "duration": 90,
    "start_time": "2023-06-14T18:07:15.233Z"
   },
   {
    "duration": 424,
    "start_time": "2023-06-14T18:07:16.978Z"
   },
   {
    "duration": 19,
    "start_time": "2023-06-14T18:07:19.708Z"
   },
   {
    "duration": 366,
    "start_time": "2023-06-14T18:07:23.308Z"
   },
   {
    "duration": 19,
    "start_time": "2023-06-14T18:07:23.676Z"
   },
   {
    "duration": 35,
    "start_time": "2023-06-14T18:07:23.987Z"
   },
   {
    "duration": 196,
    "start_time": "2023-06-14T18:07:29.113Z"
   },
   {
    "duration": 30,
    "start_time": "2023-06-14T18:07:29.523Z"
   },
   {
    "duration": 311,
    "start_time": "2023-06-14T18:09:08.386Z"
   },
   {
    "duration": 30,
    "start_time": "2023-06-14T18:11:05.538Z"
   },
   {
    "duration": 324,
    "start_time": "2023-06-14T18:11:07.727Z"
   },
   {
    "duration": 106,
    "start_time": "2023-06-14T18:12:00.196Z"
   },
   {
    "duration": 321,
    "start_time": "2023-06-14T18:12:07.514Z"
   },
   {
    "duration": 35,
    "start_time": "2023-06-14T18:12:21.052Z"
   },
   {
    "duration": 23,
    "start_time": "2023-06-14T18:14:04.406Z"
   },
   {
    "duration": 112,
    "start_time": "2023-06-14T18:15:46.135Z"
   },
   {
    "duration": 31,
    "start_time": "2023-06-14T18:16:09.879Z"
   },
   {
    "duration": 195,
    "start_time": "2023-06-14T18:16:20.385Z"
   },
   {
    "duration": 37,
    "start_time": "2023-06-14T18:16:24.102Z"
   },
   {
    "duration": 202,
    "start_time": "2023-06-14T18:16:31.124Z"
   },
   {
    "duration": 28,
    "start_time": "2023-06-14T18:16:34.693Z"
   },
   {
    "duration": 1165,
    "start_time": "2023-06-14T18:16:42.349Z"
   },
   {
    "duration": 34,
    "start_time": "2023-06-14T18:16:47.189Z"
   },
   {
    "duration": 49,
    "start_time": "2023-06-14T18:17:11.439Z"
   },
   {
    "duration": 27,
    "start_time": "2023-06-14T18:17:18.715Z"
   },
   {
    "duration": 67,
    "start_time": "2023-06-14T18:18:13.388Z"
   },
   {
    "duration": 28,
    "start_time": "2023-06-14T18:18:19.080Z"
   },
   {
    "duration": 68,
    "start_time": "2023-06-14T18:19:24.688Z"
   },
   {
    "duration": 26,
    "start_time": "2023-06-14T18:19:28.843Z"
   },
   {
    "duration": 110,
    "start_time": "2023-06-19T14:57:00.752Z"
   },
   {
    "duration": 41,
    "start_time": "2023-06-19T14:57:05.343Z"
   },
   {
    "duration": 7,
    "start_time": "2023-06-19T14:57:14.743Z"
   },
   {
    "duration": 1481,
    "start_time": "2023-06-19T15:00:49.891Z"
   },
   {
    "duration": 3128,
    "start_time": "2023-06-19T15:00:51.373Z"
   },
   {
    "duration": 132,
    "start_time": "2023-06-19T15:00:54.503Z"
   },
   {
    "duration": 97,
    "start_time": "2023-06-19T15:00:54.637Z"
   },
   {
    "duration": 165,
    "start_time": "2023-06-19T15:00:54.736Z"
   },
   {
    "duration": 89,
    "start_time": "2023-06-19T15:00:54.902Z"
   },
   {
    "duration": 430,
    "start_time": "2023-06-19T15:00:54.992Z"
   },
   {
    "duration": 18,
    "start_time": "2023-06-19T15:00:55.424Z"
   },
   {
    "duration": 384,
    "start_time": "2023-06-19T15:00:55.455Z"
   },
   {
    "duration": 31,
    "start_time": "2023-06-19T15:00:55.842Z"
   },
   {
    "duration": 26,
    "start_time": "2023-06-19T15:00:55.875Z"
   },
   {
    "duration": 198,
    "start_time": "2023-06-19T15:00:55.903Z"
   },
   {
    "duration": 19,
    "start_time": "2023-06-19T15:00:56.103Z"
   },
   {
    "duration": 42,
    "start_time": "2023-06-19T15:00:56.124Z"
   },
   {
    "duration": 347,
    "start_time": "2023-06-19T15:00:56.167Z"
   },
   {
    "duration": 38,
    "start_time": "2023-06-19T15:00:56.516Z"
   },
   {
    "duration": 24,
    "start_time": "2023-06-19T15:02:42.902Z"
   },
   {
    "duration": 282,
    "start_time": "2023-06-19T15:02:48.880Z"
   },
   {
    "duration": 39,
    "start_time": "2023-06-19T15:08:24.131Z"
   },
   {
    "duration": 1198,
    "start_time": "2023-06-19T15:08:27.395Z"
   },
   {
    "duration": 213,
    "start_time": "2023-06-19T15:08:29.732Z"
   },
   {
    "duration": 141,
    "start_time": "2023-06-19T15:09:09.793Z"
   },
   {
    "duration": 153,
    "start_time": "2023-06-19T15:09:17.121Z"
   },
   {
    "duration": 195,
    "start_time": "2023-06-19T15:10:39.763Z"
   },
   {
    "duration": 36,
    "start_time": "2023-06-19T15:14:00.777Z"
   },
   {
    "duration": 171,
    "start_time": "2023-06-19T15:14:03.111Z"
   },
   {
    "duration": 24,
    "start_time": "2023-06-19T15:14:11.892Z"
   },
   {
    "duration": 142,
    "start_time": "2023-06-19T15:15:11.590Z"
   },
   {
    "duration": 36,
    "start_time": "2023-06-19T15:16:20.611Z"
   },
   {
    "duration": 19,
    "start_time": "2023-06-19T15:22:25.092Z"
   },
   {
    "duration": 99,
    "start_time": "2023-06-19T15:23:41.428Z"
   },
   {
    "duration": 23,
    "start_time": "2023-06-19T15:23:48.910Z"
   },
   {
    "duration": 11,
    "start_time": "2023-06-19T15:23:58.673Z"
   },
   {
    "duration": 6,
    "start_time": "2023-06-19T15:24:06.651Z"
   },
   {
    "duration": 13,
    "start_time": "2023-06-19T15:24:15.821Z"
   },
   {
    "duration": 16,
    "start_time": "2023-06-19T15:28:27.921Z"
   },
   {
    "duration": 16,
    "start_time": "2023-06-19T15:28:44.229Z"
   },
   {
    "duration": 23,
    "start_time": "2023-06-19T15:30:23.720Z"
   },
   {
    "duration": 19,
    "start_time": "2023-06-19T15:30:31.580Z"
   },
   {
    "duration": 87,
    "start_time": "2023-06-19T15:36:00.891Z"
   },
   {
    "duration": 93,
    "start_time": "2023-06-19T15:36:06.000Z"
   },
   {
    "duration": 14,
    "start_time": "2023-06-19T15:36:42.711Z"
   },
   {
    "duration": 29,
    "start_time": "2023-06-19T15:38:16.620Z"
   },
   {
    "duration": 24,
    "start_time": "2023-06-19T15:38:21.710Z"
   },
   {
    "duration": 126,
    "start_time": "2023-06-19T15:38:38.650Z"
   },
   {
    "duration": 5,
    "start_time": "2023-06-19T15:38:57.981Z"
   },
   {
    "duration": 18,
    "start_time": "2023-06-19T15:39:41.390Z"
   },
   {
    "duration": 71,
    "start_time": "2023-06-19T15:39:55.820Z"
   },
   {
    "duration": 17,
    "start_time": "2023-06-19T15:42:56.811Z"
   },
   {
    "duration": 35,
    "start_time": "2023-06-19T15:43:26.350Z"
   },
   {
    "duration": 355,
    "start_time": "2023-06-19T15:44:33.761Z"
   },
   {
    "duration": 11,
    "start_time": "2023-06-19T15:45:07.152Z"
   },
   {
    "duration": 9,
    "start_time": "2023-06-19T15:46:55.700Z"
   },
   {
    "duration": 3121,
    "start_time": "2023-06-19T15:47:17.566Z"
   },
   {
    "duration": 16,
    "start_time": "2023-06-19T15:47:24.622Z"
   },
   {
    "duration": 3246,
    "start_time": "2023-06-19T15:47:38.190Z"
   },
   {
    "duration": 13,
    "start_time": "2023-06-19T15:56:21.555Z"
   },
   {
    "duration": 88,
    "start_time": "2023-06-19T15:56:25.910Z"
   },
   {
    "duration": 46,
    "start_time": "2023-06-19T15:57:09.450Z"
   },
   {
    "duration": 52,
    "start_time": "2023-06-19T16:12:01.041Z"
   },
   {
    "duration": 17,
    "start_time": "2023-06-19T16:12:53.478Z"
   },
   {
    "duration": 138,
    "start_time": "2023-06-19T16:15:30.110Z"
   },
   {
    "duration": 149,
    "start_time": "2023-06-19T18:17:32.751Z"
   },
   {
    "duration": 2319,
    "start_time": "2023-06-19T18:17:38.453Z"
   },
   {
    "duration": 38,
    "start_time": "2023-06-19T18:18:27.472Z"
   },
   {
    "duration": 4,
    "start_time": "2023-06-19T18:18:48.100Z"
   },
   {
    "duration": 3,
    "start_time": "2023-06-19T18:19:51.890Z"
   },
   {
    "duration": 16,
    "start_time": "2023-06-19T18:21:01.021Z"
   },
   {
    "duration": 3,
    "start_time": "2023-06-19T18:21:47.698Z"
   },
   {
    "duration": 11,
    "start_time": "2023-06-19T18:21:48.427Z"
   },
   {
    "duration": 86,
    "start_time": "2023-06-19T18:22:33.715Z"
   },
   {
    "duration": 1770,
    "start_time": "2023-06-20T09:31:35.894Z"
   },
   {
    "duration": 1496,
    "start_time": "2023-06-20T09:31:37.667Z"
   },
   {
    "duration": 135,
    "start_time": "2023-06-20T09:31:39.165Z"
   },
   {
    "duration": 131,
    "start_time": "2023-06-20T09:31:39.302Z"
   },
   {
    "duration": 199,
    "start_time": "2023-06-20T09:31:39.435Z"
   },
   {
    "duration": 91,
    "start_time": "2023-06-20T09:31:39.637Z"
   },
   {
    "duration": 529,
    "start_time": "2023-06-20T09:31:39.730Z"
   },
   {
    "duration": 21,
    "start_time": "2023-06-20T09:31:40.261Z"
   },
   {
    "duration": 556,
    "start_time": "2023-06-20T09:31:40.284Z"
   },
   {
    "duration": 35,
    "start_time": "2023-06-20T09:31:40.854Z"
   },
   {
    "duration": 200,
    "start_time": "2023-06-20T09:31:40.892Z"
   },
   {
    "duration": 449,
    "start_time": "2023-06-20T09:31:41.094Z"
   },
   {
    "duration": 24,
    "start_time": "2023-06-20T09:31:41.545Z"
   },
   {
    "duration": 213,
    "start_time": "2023-06-20T09:31:41.572Z"
   },
   {
    "duration": 519,
    "start_time": "2023-06-20T09:31:41.787Z"
   },
   {
    "duration": 46,
    "start_time": "2023-06-20T09:31:42.309Z"
   },
   {
    "duration": 93,
    "start_time": "2023-06-20T09:31:42.358Z"
   },
   {
    "duration": 120,
    "start_time": "2023-06-20T09:31:42.453Z"
   },
   {
    "duration": 1282,
    "start_time": "2023-06-20T09:31:42.576Z"
   },
   {
    "duration": 285,
    "start_time": "2023-06-20T09:31:43.861Z"
   },
   {
    "duration": 290,
    "start_time": "2023-06-20T09:31:44.154Z"
   },
   {
    "duration": 45,
    "start_time": "2023-06-20T09:31:44.452Z"
   },
   {
    "duration": 133,
    "start_time": "2023-06-20T09:31:44.499Z"
   },
   {
    "duration": 247,
    "start_time": "2023-06-20T09:31:44.635Z"
   },
   {
    "duration": 97,
    "start_time": "2023-06-20T09:31:44.884Z"
   },
   {
    "duration": 131,
    "start_time": "2023-06-20T09:31:44.983Z"
   },
   {
    "duration": 330,
    "start_time": "2023-06-20T09:31:45.116Z"
   },
   {
    "duration": 26,
    "start_time": "2023-06-20T09:31:45.448Z"
   },
   {
    "duration": 224,
    "start_time": "2023-06-20T09:31:45.476Z"
   },
   {
    "duration": 0,
    "start_time": "2023-06-20T09:31:45.702Z"
   },
   {
    "duration": 0,
    "start_time": "2023-06-20T09:31:45.704Z"
   },
   {
    "duration": 0,
    "start_time": "2023-06-20T09:31:45.705Z"
   },
   {
    "duration": 0,
    "start_time": "2023-06-20T09:31:45.706Z"
   },
   {
    "duration": 0,
    "start_time": "2023-06-20T09:31:45.708Z"
   },
   {
    "duration": 22,
    "start_time": "2023-06-20T09:31:45.853Z"
   },
   {
    "duration": 73,
    "start_time": "2023-06-20T09:31:46.102Z"
   },
   {
    "duration": 67,
    "start_time": "2023-06-20T09:31:49.815Z"
   },
   {
    "duration": 74,
    "start_time": "2023-06-20T09:31:53.132Z"
   },
   {
    "duration": 36,
    "start_time": "2023-06-20T09:31:53.422Z"
   },
   {
    "duration": 171,
    "start_time": "2023-06-20T09:31:54.134Z"
   },
   {
    "duration": 3,
    "start_time": "2023-06-20T09:31:58.093Z"
   },
   {
    "duration": 3,
    "start_time": "2023-06-20T09:32:00.303Z"
   },
   {
    "duration": 90,
    "start_time": "2023-06-20T09:32:00.914Z"
   },
   {
    "duration": 121,
    "start_time": "2023-06-20T09:32:11.939Z"
   },
   {
    "duration": 473649,
    "start_time": "2023-06-20T09:39:27.420Z"
   },
   {
    "duration": 11732,
    "start_time": "2023-06-20T09:47:21.073Z"
   },
   {
    "duration": 2416,
    "start_time": "2023-06-20T09:47:32.807Z"
   },
   {
    "duration": 2400,
    "start_time": "2023-06-20T09:48:52.368Z"
   },
   {
    "duration": 81444,
    "start_time": "2023-06-20T09:49:17.091Z"
   },
   {
    "duration": 333363,
    "start_time": "2023-06-20T09:51:31.872Z"
   },
   {
    "duration": 4,
    "start_time": "2023-06-20T09:57:05.238Z"
   },
   {
    "duration": 63,
    "start_time": "2023-06-20T09:59:54.344Z"
   },
   {
    "duration": 2713,
    "start_time": "2023-06-20T10:00:30.032Z"
   },
   {
    "duration": 2223,
    "start_time": "2023-06-20T10:00:57.742Z"
   },
   {
    "duration": 41,
    "start_time": "2023-06-20T10:06:11.712Z"
   },
   {
    "duration": 31,
    "start_time": "2023-06-20T10:07:55.431Z"
   },
   {
    "duration": 11,
    "start_time": "2023-06-20T10:08:29.911Z"
   },
   {
    "duration": 53,
    "start_time": "2023-06-20T10:54:14.741Z"
   },
   {
    "duration": 1640,
    "start_time": "2023-06-20T10:56:04.693Z"
   },
   {
    "duration": 956,
    "start_time": "2023-06-20T10:56:06.336Z"
   },
   {
    "duration": 130,
    "start_time": "2023-06-20T10:56:10.794Z"
   },
   {
    "duration": 112,
    "start_time": "2023-06-20T10:56:21.335Z"
   },
   {
    "duration": 182,
    "start_time": "2023-06-20T10:56:25.120Z"
   },
   {
    "duration": 85,
    "start_time": "2023-06-20T10:56:25.593Z"
   },
   {
    "duration": 465,
    "start_time": "2023-06-20T10:56:57.648Z"
   },
   {
    "duration": 24,
    "start_time": "2023-06-20T10:56:58.960Z"
   },
   {
    "duration": 518,
    "start_time": "2023-06-20T10:57:00.916Z"
   },
   {
    "duration": 43,
    "start_time": "2023-06-20T10:57:01.436Z"
   },
   {
    "duration": 60,
    "start_time": "2023-06-20T10:57:01.484Z"
   },
   {
    "duration": 206,
    "start_time": "2023-06-20T10:57:02.590Z"
   },
   {
    "duration": 24,
    "start_time": "2023-06-20T10:57:03.339Z"
   },
   {
    "duration": 38,
    "start_time": "2023-06-20T10:57:04.260Z"
   },
   {
    "duration": 451,
    "start_time": "2023-06-20T10:57:04.844Z"
   },
   {
    "duration": 34,
    "start_time": "2023-06-20T10:57:05.297Z"
   },
   {
    "duration": 3,
    "start_time": "2023-06-20T10:57:06.123Z"
   },
   {
    "duration": 34,
    "start_time": "2023-06-20T10:57:07.184Z"
   },
   {
    "duration": 1217,
    "start_time": "2023-06-20T10:57:07.964Z"
   },
   {
    "duration": 218,
    "start_time": "2023-06-20T10:57:09.184Z"
   },
   {
    "duration": 285,
    "start_time": "2023-06-20T10:57:10.689Z"
   },
   {
    "duration": 45,
    "start_time": "2023-06-20T10:57:11.080Z"
   },
   {
    "duration": 18,
    "start_time": "2023-06-20T10:57:13.981Z"
   },
   {
    "duration": 40,
    "start_time": "2023-06-20T10:57:14.610Z"
   },
   {
    "duration": 20,
    "start_time": "2023-06-20T10:57:18.249Z"
   },
   {
    "duration": 41,
    "start_time": "2023-06-20T10:57:19.351Z"
   },
   {
    "duration": 188,
    "start_time": "2023-06-20T10:57:23.915Z"
   },
   {
    "duration": 24,
    "start_time": "2023-06-20T10:57:24.909Z"
   },
   {
    "duration": 122,
    "start_time": "2023-06-20T10:57:26.638Z"
   },
   {
    "duration": 23,
    "start_time": "2023-06-20T10:57:33.196Z"
   },
   {
    "duration": 15,
    "start_time": "2023-06-20T10:57:48.221Z"
   },
   {
    "duration": 20,
    "start_time": "2023-06-20T10:57:49.941Z"
   },
   {
    "duration": 176,
    "start_time": "2023-06-20T10:57:52.148Z"
   },
   {
    "duration": 6,
    "start_time": "2023-06-20T10:57:54.419Z"
   },
   {
    "duration": 32,
    "start_time": "2023-06-20T10:57:55.191Z"
   },
   {
    "duration": 69,
    "start_time": "2023-06-20T10:57:55.791Z"
   },
   {
    "duration": 61,
    "start_time": "2023-06-20T10:57:58.800Z"
   },
   {
    "duration": 73,
    "start_time": "2023-06-20T10:58:05.608Z"
   },
   {
    "duration": 30,
    "start_time": "2023-06-20T10:58:06.129Z"
   },
   {
    "duration": 177,
    "start_time": "2023-06-20T10:58:06.789Z"
   },
   {
    "duration": 3,
    "start_time": "2023-06-20T10:58:09.198Z"
   },
   {
    "duration": 4,
    "start_time": "2023-06-20T10:58:09.493Z"
   },
   {
    "duration": 365253,
    "start_time": "2023-06-20T10:58:13.191Z"
   },
   {
    "duration": 1597,
    "start_time": "2023-06-20T11:31:49.862Z"
   },
   {
    "duration": 947,
    "start_time": "2023-06-20T11:31:51.461Z"
   },
   {
    "duration": 195,
    "start_time": "2023-06-20T11:31:52.410Z"
   },
   {
    "duration": 89,
    "start_time": "2023-06-20T11:31:52.608Z"
   },
   {
    "duration": 85,
    "start_time": "2023-06-20T11:31:52.698Z"
   },
   {
    "duration": 474,
    "start_time": "2023-06-20T11:31:52.784Z"
   },
   {
    "duration": 23,
    "start_time": "2023-06-20T11:31:53.261Z"
   },
   {
    "duration": 387,
    "start_time": "2023-06-20T11:31:53.563Z"
   },
   {
    "duration": 21,
    "start_time": "2023-06-20T11:31:54.100Z"
   },
   {
    "duration": 32,
    "start_time": "2023-06-20T11:31:54.296Z"
   },
   {
    "duration": 198,
    "start_time": "2023-06-20T11:31:54.747Z"
   },
   {
    "duration": 18,
    "start_time": "2023-06-20T11:31:55.001Z"
   },
   {
    "duration": 40,
    "start_time": "2023-06-20T11:31:55.543Z"
   },
   {
    "duration": 470,
    "start_time": "2023-06-20T11:31:55.812Z"
   },
   {
    "duration": 28,
    "start_time": "2023-06-20T11:31:56.284Z"
   },
   {
    "duration": 3,
    "start_time": "2023-06-20T11:31:56.364Z"
   },
   {
    "duration": 36,
    "start_time": "2023-06-20T11:31:57.325Z"
   },
   {
    "duration": 1170,
    "start_time": "2023-06-20T11:31:57.817Z"
   },
   {
    "duration": 191,
    "start_time": "2023-06-20T11:31:58.989Z"
   },
   {
    "duration": 218,
    "start_time": "2023-06-20T11:32:00.201Z"
   },
   {
    "duration": 39,
    "start_time": "2023-06-20T11:32:00.605Z"
   },
   {
    "duration": 17,
    "start_time": "2023-06-20T11:32:01.313Z"
   },
   {
    "duration": 47,
    "start_time": "2023-06-20T11:32:01.640Z"
   },
   {
    "duration": 16,
    "start_time": "2023-06-20T11:32:02.866Z"
   },
   {
    "duration": 28,
    "start_time": "2023-06-20T11:32:03.718Z"
   },
   {
    "duration": 189,
    "start_time": "2023-06-20T11:32:05.041Z"
   },
   {
    "duration": 26,
    "start_time": "2023-06-20T11:32:05.325Z"
   },
   {
    "duration": 7,
    "start_time": "2023-06-20T11:32:06.409Z"
   },
   {
    "duration": 24,
    "start_time": "2023-06-20T11:32:07.092Z"
   },
   {
    "duration": 15,
    "start_time": "2023-06-20T11:32:07.937Z"
   },
   {
    "duration": 18,
    "start_time": "2023-06-20T11:32:09.200Z"
   },
   {
    "duration": 141,
    "start_time": "2023-06-20T11:32:10.300Z"
   },
   {
    "duration": 6,
    "start_time": "2023-06-20T11:32:11.009Z"
   },
   {
    "duration": 26,
    "start_time": "2023-06-20T11:32:12.431Z"
   },
   {
    "duration": 76,
    "start_time": "2023-06-20T11:32:12.762Z"
   },
   {
    "duration": 61,
    "start_time": "2023-06-20T11:32:13.334Z"
   },
   {
    "duration": 73,
    "start_time": "2023-06-20T11:32:15.808Z"
   },
   {
    "duration": 30,
    "start_time": "2023-06-20T11:32:16.417Z"
   },
   {
    "duration": 170,
    "start_time": "2023-06-20T11:32:17.367Z"
   },
   {
    "duration": 4,
    "start_time": "2023-06-20T11:32:18.348Z"
   },
   {
    "duration": 2251,
    "start_time": "2023-06-20T11:32:19.108Z"
   },
   {
    "duration": 2651,
    "start_time": "2023-06-20T12:46:58.286Z"
   },
   {
    "duration": 1474,
    "start_time": "2023-06-20T12:47:00.949Z"
   },
   {
    "duration": 321,
    "start_time": "2023-06-20T12:47:02.430Z"
   },
   {
    "duration": 160,
    "start_time": "2023-06-20T12:47:02.758Z"
   },
   {
    "duration": 132,
    "start_time": "2023-06-20T12:47:03.848Z"
   },
   {
    "duration": 726,
    "start_time": "2023-06-20T12:47:05.131Z"
   },
   {
    "duration": 32,
    "start_time": "2023-06-20T12:47:06.710Z"
   },
   {
    "duration": 686,
    "start_time": "2023-06-20T12:47:07.392Z"
   },
   {
    "duration": 31,
    "start_time": "2023-06-20T12:47:08.083Z"
   },
   {
    "duration": 108,
    "start_time": "2023-06-20T12:47:08.142Z"
   },
   {
    "duration": 372,
    "start_time": "2023-06-20T12:47:08.787Z"
   },
   {
    "duration": 30,
    "start_time": "2023-06-20T12:47:09.165Z"
   },
   {
    "duration": 76,
    "start_time": "2023-06-20T12:47:09.576Z"
   },
   {
    "duration": 719,
    "start_time": "2023-06-20T12:47:09.923Z"
   },
   {
    "duration": 51,
    "start_time": "2023-06-20T12:47:10.649Z"
   },
   {
    "duration": 93,
    "start_time": "2023-06-20T12:47:10.707Z"
   },
   {
    "duration": 37,
    "start_time": "2023-06-20T12:47:11.528Z"
   },
   {
    "duration": 1696,
    "start_time": "2023-06-20T12:47:11.637Z"
   },
   {
    "duration": 313,
    "start_time": "2023-06-20T12:47:13.340Z"
   },
   {
    "duration": 403,
    "start_time": "2023-06-20T12:47:14.843Z"
   },
   {
    "duration": 98,
    "start_time": "2023-06-20T12:47:15.749Z"
   },
   {
    "duration": 34,
    "start_time": "2023-06-20T12:47:16.188Z"
   },
   {
    "duration": 59,
    "start_time": "2023-06-20T12:47:16.512Z"
   },
   {
    "duration": 22,
    "start_time": "2023-06-20T12:47:17.535Z"
   },
   {
    "duration": 77,
    "start_time": "2023-06-20T12:47:18.349Z"
   },
   {
    "duration": 323,
    "start_time": "2023-06-20T12:47:19.698Z"
   },
   {
    "duration": 47,
    "start_time": "2023-06-20T12:47:20.513Z"
   },
   {
    "duration": 14,
    "start_time": "2023-06-20T12:47:20.912Z"
   },
   {
    "duration": 38,
    "start_time": "2023-06-20T12:47:21.312Z"
   },
   {
    "duration": 29,
    "start_time": "2023-06-20T12:47:21.782Z"
   },
   {
    "duration": 35,
    "start_time": "2023-06-20T12:47:22.588Z"
   },
   {
    "duration": 258,
    "start_time": "2023-06-20T12:47:23.538Z"
   },
   {
    "duration": 12,
    "start_time": "2023-06-20T12:47:23.810Z"
   },
   {
    "duration": 56,
    "start_time": "2023-06-20T12:47:24.179Z"
   },
   {
    "duration": 154,
    "start_time": "2023-06-20T12:47:24.540Z"
   },
   {
    "duration": 116,
    "start_time": "2023-06-20T12:47:24.784Z"
   },
   {
    "duration": 210,
    "start_time": "2023-06-20T12:47:25.975Z"
   },
   {
    "duration": 35,
    "start_time": "2023-06-20T12:47:26.706Z"
   },
   {
    "duration": 279,
    "start_time": "2023-06-20T12:47:27.991Z"
   },
   {
    "duration": 13,
    "start_time": "2023-06-20T12:47:28.920Z"
   },
   {
    "duration": 2477,
    "start_time": "2023-06-20T12:47:29.276Z"
   },
   {
    "duration": 62123,
    "start_time": "2023-06-20T12:47:36.284Z"
   },
   {
    "duration": 290,
    "start_time": "2023-06-20T12:48:38.414Z"
   },
   {
    "duration": 3485,
    "start_time": "2023-06-20T12:48:38.718Z"
   },
   {
    "duration": 53202,
    "start_time": "2023-06-20T12:52:36.480Z"
   },
   {
    "duration": 676,
    "start_time": "2023-06-20T12:53:29.717Z"
   },
   {
    "duration": 1124,
    "start_time": "2023-06-20T12:53:30.395Z"
   },
   {
    "duration": 1596,
    "start_time": "2023-06-20T14:47:17.363Z"
   },
   {
    "duration": 1085,
    "start_time": "2023-06-20T14:47:18.961Z"
   },
   {
    "duration": 145,
    "start_time": "2023-06-20T14:47:20.047Z"
   },
   {
    "duration": 77,
    "start_time": "2023-06-20T14:47:20.194Z"
   },
   {
    "duration": 65,
    "start_time": "2023-06-20T14:47:20.273Z"
   },
   {
    "duration": 392,
    "start_time": "2023-06-20T14:47:20.339Z"
   },
   {
    "duration": 16,
    "start_time": "2023-06-20T14:47:20.732Z"
   },
   {
    "duration": 371,
    "start_time": "2023-06-20T14:47:20.750Z"
   },
   {
    "duration": 18,
    "start_time": "2023-06-20T14:47:21.126Z"
   },
   {
    "duration": 28,
    "start_time": "2023-06-20T14:47:21.145Z"
   },
   {
    "duration": 177,
    "start_time": "2023-06-20T14:47:21.175Z"
   },
   {
    "duration": 17,
    "start_time": "2023-06-20T14:47:21.354Z"
   },
   {
    "duration": 58,
    "start_time": "2023-06-20T14:47:21.372Z"
   },
   {
    "duration": 397,
    "start_time": "2023-06-20T14:47:21.432Z"
   },
   {
    "duration": 23,
    "start_time": "2023-06-20T14:47:21.831Z"
   },
   {
    "duration": 3,
    "start_time": "2023-06-20T14:47:21.855Z"
   },
   {
    "duration": 67,
    "start_time": "2023-06-20T14:47:21.859Z"
   },
   {
    "duration": 1045,
    "start_time": "2023-06-20T14:47:21.928Z"
   },
   {
    "duration": 145,
    "start_time": "2023-06-20T14:47:22.975Z"
   },
   {
    "duration": 205,
    "start_time": "2023-06-20T14:47:23.121Z"
   },
   {
    "duration": 42,
    "start_time": "2023-06-20T14:47:23.327Z"
   },
   {
    "duration": 17,
    "start_time": "2023-06-20T14:47:23.371Z"
   },
   {
    "duration": 38,
    "start_time": "2023-06-20T14:47:23.418Z"
   },
   {
    "duration": 26,
    "start_time": "2023-06-20T14:47:23.458Z"
   },
   {
    "duration": 127,
    "start_time": "2023-06-20T14:47:23.486Z"
   },
   {
    "duration": 199,
    "start_time": "2023-06-20T14:47:23.614Z"
   },
   {
    "duration": 22,
    "start_time": "2023-06-20T14:47:23.814Z"
   },
   {
    "duration": 14,
    "start_time": "2023-06-20T14:47:23.837Z"
   },
   {
    "duration": 22,
    "start_time": "2023-06-20T14:47:23.852Z"
   },
   {
    "duration": 45,
    "start_time": "2023-06-20T14:47:23.875Z"
   },
   {
    "duration": 27,
    "start_time": "2023-06-20T14:47:23.922Z"
   },
   {
    "duration": 112,
    "start_time": "2023-06-20T14:47:23.950Z"
   },
   {
    "duration": 5,
    "start_time": "2023-06-20T14:47:24.064Z"
   },
   {
    "duration": 46,
    "start_time": "2023-06-20T14:47:24.070Z"
   },
   {
    "duration": 76,
    "start_time": "2023-06-20T14:47:24.118Z"
   },
   {
    "duration": 84,
    "start_time": "2023-06-20T14:47:24.195Z"
   },
   {
    "duration": 86,
    "start_time": "2023-06-20T14:47:24.281Z"
   },
   {
    "duration": 18,
    "start_time": "2023-06-20T14:47:24.368Z"
   },
   {
    "duration": 148,
    "start_time": "2023-06-20T14:47:24.387Z"
   },
   {
    "duration": 3,
    "start_time": "2023-06-20T14:47:24.536Z"
   },
   {
    "duration": 1179,
    "start_time": "2023-06-20T14:47:24.542Z"
   },
   {
    "duration": 58195,
    "start_time": "2023-06-20T14:47:25.730Z"
   },
   {
    "duration": 192,
    "start_time": "2023-06-20T14:48:23.926Z"
   },
   {
    "duration": 4518,
    "start_time": "2023-06-20T14:48:24.120Z"
   },
   {
    "duration": 541,
    "start_time": "2023-06-20T14:48:28.640Z"
   },
   {
    "duration": 84,
    "start_time": "2023-06-20T14:48:29.182Z"
   },
   {
    "duration": 0,
    "start_time": "2023-06-20T14:48:29.267Z"
   },
   {
    "duration": 45,
    "start_time": "2023-06-20T17:36:04.716Z"
   },
   {
    "duration": 1690,
    "start_time": "2023-06-20T17:36:16.141Z"
   },
   {
    "duration": 1477,
    "start_time": "2023-06-20T17:36:29.040Z"
   },
   {
    "duration": 3255,
    "start_time": "2023-06-20T17:36:30.968Z"
   },
   {
    "duration": 27,
    "start_time": "2023-06-20T17:36:34.225Z"
   },
   {
    "duration": 73,
    "start_time": "2023-06-20T17:36:45.107Z"
   },
   {
    "duration": 97,
    "start_time": "2023-06-20T17:36:48.944Z"
   },
   {
    "duration": 414,
    "start_time": "2023-06-20T17:36:56.389Z"
   },
   {
    "duration": 39,
    "start_time": "2023-06-20T17:36:56.805Z"
   },
   {
    "duration": 50,
    "start_time": "2023-06-20T17:37:17.687Z"
   },
   {
    "duration": 51,
    "start_time": "2023-06-20T17:37:23.158Z"
   },
   {
    "duration": 37,
    "start_time": "2023-06-20T17:38:19.939Z"
   },
   {
    "duration": 40,
    "start_time": "2023-06-20T17:38:23.949Z"
   },
   {
    "duration": 50,
    "start_time": "2023-06-20T17:38:28.185Z"
   },
   {
    "duration": 42,
    "start_time": "2023-06-20T17:38:31.129Z"
   },
   {
    "duration": 43,
    "start_time": "2023-06-20T17:38:33.832Z"
   },
   {
    "duration": 38,
    "start_time": "2023-06-20T17:38:36.640Z"
   },
   {
    "duration": 40,
    "start_time": "2023-06-20T17:38:40.398Z"
   },
   {
    "duration": 41,
    "start_time": "2023-06-20T17:38:49.453Z"
   },
   {
    "duration": 36,
    "start_time": "2023-06-20T17:38:53.330Z"
   },
   {
    "duration": 47,
    "start_time": "2023-06-20T17:38:56.629Z"
   },
   {
    "duration": 48,
    "start_time": "2023-06-20T17:38:59.239Z"
   },
   {
    "duration": 39,
    "start_time": "2023-06-20T17:39:02.949Z"
   },
   {
    "duration": 41,
    "start_time": "2023-06-20T17:39:05.861Z"
   },
   {
    "duration": 38,
    "start_time": "2023-06-20T17:39:09.280Z"
   },
   {
    "duration": 39,
    "start_time": "2023-06-20T17:39:18.378Z"
   },
   {
    "duration": 39,
    "start_time": "2023-06-20T17:39:20.671Z"
   },
   {
    "duration": 60,
    "start_time": "2023-06-20T17:39:25.062Z"
   },
   {
    "duration": 39,
    "start_time": "2023-06-20T17:39:28.120Z"
   },
   {
    "duration": 39,
    "start_time": "2023-06-20T17:39:38.223Z"
   },
   {
    "duration": 65,
    "start_time": "2023-06-20T17:41:06.745Z"
   },
   {
    "duration": 37,
    "start_time": "2023-06-20T17:41:09.239Z"
   },
   {
    "duration": 41,
    "start_time": "2023-06-20T17:41:15.950Z"
   },
   {
    "duration": 40,
    "start_time": "2023-06-20T17:41:20.088Z"
   },
   {
    "duration": 1382,
    "start_time": "2023-06-20T17:46:58.189Z"
   },
   {
    "duration": 798,
    "start_time": "2023-06-20T17:46:59.573Z"
   },
   {
    "duration": 27,
    "start_time": "2023-06-20T17:47:00.373Z"
   },
   {
    "duration": 92,
    "start_time": "2023-06-20T17:47:00.427Z"
   },
   {
    "duration": 68,
    "start_time": "2023-06-20T17:47:00.680Z"
   },
   {
    "duration": 370,
    "start_time": "2023-06-20T17:47:01.518Z"
   },
   {
    "duration": 36,
    "start_time": "2023-06-20T17:47:01.890Z"
   },
   {
    "duration": 43,
    "start_time": "2023-06-20T17:47:02.086Z"
   },
   {
    "duration": 16,
    "start_time": "2023-06-20T17:47:03.732Z"
   },
   {
    "duration": 334,
    "start_time": "2023-06-20T17:47:04.913Z"
   },
   {
    "duration": 228,
    "start_time": "2023-06-20T17:47:06.704Z"
   },
   {
    "duration": 32,
    "start_time": "2023-06-20T17:47:14.974Z"
   },
   {
    "duration": 1539,
    "start_time": "2023-06-20T17:50:15.339Z"
   },
   {
    "duration": 16,
    "start_time": "2023-06-20T17:50:26.019Z"
   },
   {
    "duration": 114,
    "start_time": "2023-06-20T17:51:07.578Z"
   },
   {
    "duration": 5,
    "start_time": "2023-06-20T17:57:27.785Z"
   },
   {
    "duration": 1497,
    "start_time": "2023-06-20T18:03:34.490Z"
   },
   {
    "duration": 809,
    "start_time": "2023-06-20T18:03:36.009Z"
   },
   {
    "duration": 33,
    "start_time": "2023-06-20T18:03:36.873Z"
   },
   {
    "duration": 102,
    "start_time": "2023-06-20T18:03:37.840Z"
   },
   {
    "duration": 88,
    "start_time": "2023-06-20T18:03:38.265Z"
   },
   {
    "duration": 437,
    "start_time": "2023-06-20T18:03:39.617Z"
   },
   {
    "duration": 39,
    "start_time": "2023-06-20T18:03:40.055Z"
   },
   {
    "duration": 40,
    "start_time": "2023-06-20T18:03:40.311Z"
   },
   {
    "duration": 17,
    "start_time": "2023-06-20T18:03:43.139Z"
   },
   {
    "duration": 449,
    "start_time": "2023-06-20T18:03:45.485Z"
   },
   {
    "duration": 108,
    "start_time": "2023-06-20T18:03:47.298Z"
   },
   {
    "duration": 7,
    "start_time": "2023-06-20T18:03:48.000Z"
   },
   {
    "duration": 53,
    "start_time": "2023-06-20T18:03:50.489Z"
   },
   {
    "duration": 18,
    "start_time": "2023-06-20T18:03:53.220Z"
   },
   {
    "duration": 230,
    "start_time": "2023-06-20T18:03:53.737Z"
   },
   {
    "duration": 25,
    "start_time": "2023-06-20T18:03:55.377Z"
   },
   {
    "duration": 28,
    "start_time": "2023-06-20T18:06:07.097Z"
   },
   {
    "duration": 326,
    "start_time": "2023-06-20T18:06:07.305Z"
   },
   {
    "duration": 31,
    "start_time": "2023-06-20T18:06:07.633Z"
   },
   {
    "duration": 23,
    "start_time": "2023-06-20T18:06:08.520Z"
   },
   {
    "duration": 891,
    "start_time": "2023-06-20T18:06:08.760Z"
   },
   {
    "duration": 174,
    "start_time": "2023-06-20T18:06:09.653Z"
   },
   {
    "duration": 214,
    "start_time": "2023-06-20T18:06:10.019Z"
   },
   {
    "duration": 35,
    "start_time": "2023-06-20T18:06:10.319Z"
   },
   {
    "duration": 16,
    "start_time": "2023-06-20T18:06:10.569Z"
   },
   {
    "duration": 35,
    "start_time": "2023-06-20T18:06:10.947Z"
   },
   {
    "duration": 13,
    "start_time": "2023-06-20T18:06:11.730Z"
   },
   {
    "duration": 24,
    "start_time": "2023-06-20T18:06:12.564Z"
   },
   {
    "duration": 145,
    "start_time": "2023-06-20T18:06:17.389Z"
   },
   {
    "duration": 24,
    "start_time": "2023-06-20T18:06:17.538Z"
   },
   {
    "duration": 7,
    "start_time": "2023-06-20T18:06:17.708Z"
   },
   {
    "duration": 23,
    "start_time": "2023-06-20T18:06:17.883Z"
   },
   {
    "duration": 13,
    "start_time": "2023-06-20T18:06:18.027Z"
   },
   {
    "duration": 14,
    "start_time": "2023-06-20T18:06:18.560Z"
   },
   {
    "duration": 119,
    "start_time": "2023-06-20T18:06:19.258Z"
   },
   {
    "duration": 5,
    "start_time": "2023-06-20T18:06:19.590Z"
   },
   {
    "duration": 17,
    "start_time": "2023-06-20T18:06:20.253Z"
   },
   {
    "duration": 52,
    "start_time": "2023-06-20T18:06:20.440Z"
   },
   {
    "duration": 1428,
    "start_time": "2023-06-20T18:08:06.938Z"
   },
   {
    "duration": 751,
    "start_time": "2023-06-20T18:08:08.368Z"
   },
   {
    "duration": 25,
    "start_time": "2023-06-20T18:08:09.121Z"
   },
   {
    "duration": 87,
    "start_time": "2023-06-20T18:08:09.148Z"
   },
   {
    "duration": 81,
    "start_time": "2023-06-20T18:08:09.237Z"
   },
   {
    "duration": 428,
    "start_time": "2023-06-20T18:08:09.320Z"
   },
   {
    "duration": 45,
    "start_time": "2023-06-20T18:08:09.749Z"
   },
   {
    "duration": 48,
    "start_time": "2023-06-20T18:08:09.796Z"
   },
   {
    "duration": 21,
    "start_time": "2023-06-20T18:08:09.846Z"
   },
   {
    "duration": 395,
    "start_time": "2023-06-20T18:08:09.870Z"
   },
   {
    "duration": 114,
    "start_time": "2023-06-20T18:08:10.267Z"
   },
   {
    "duration": 5,
    "start_time": "2023-06-20T18:08:10.383Z"
   },
   {
    "duration": 60,
    "start_time": "2023-06-20T18:08:10.390Z"
   },
   {
    "duration": 20,
    "start_time": "2023-06-20T18:08:10.461Z"
   },
   {
    "duration": 188,
    "start_time": "2023-06-20T18:08:10.482Z"
   },
   {
    "duration": 37,
    "start_time": "2023-06-20T18:08:10.683Z"
   },
   {
    "duration": 35,
    "start_time": "2023-06-20T18:08:14.203Z"
   },
   {
    "duration": 346,
    "start_time": "2023-06-20T18:08:14.242Z"
   },
   {
    "duration": 24,
    "start_time": "2023-06-20T18:08:14.590Z"
   },
   {
    "duration": 25,
    "start_time": "2023-06-20T18:08:15.551Z"
   },
   {
    "duration": 879,
    "start_time": "2023-06-20T18:08:16.025Z"
   },
   {
    "duration": 144,
    "start_time": "2023-06-20T18:08:16.906Z"
   },
   {
    "duration": 176,
    "start_time": "2023-06-20T18:08:17.051Z"
   },
   {
    "duration": 40,
    "start_time": "2023-06-20T18:08:17.229Z"
   },
   {
    "duration": 14,
    "start_time": "2023-06-20T18:08:17.320Z"
   },
   {
    "duration": 35,
    "start_time": "2023-06-20T18:08:17.561Z"
   },
   {
    "duration": 13,
    "start_time": "2023-06-20T18:08:18.001Z"
   },
   {
    "duration": 23,
    "start_time": "2023-06-20T18:08:18.641Z"
   },
   {
    "duration": 140,
    "start_time": "2023-06-20T18:08:19.440Z"
   },
   {
    "duration": 19,
    "start_time": "2023-06-20T18:08:19.689Z"
   },
   {
    "duration": 7,
    "start_time": "2023-06-20T18:08:19.898Z"
   },
   {
    "duration": 20,
    "start_time": "2023-06-20T18:08:20.109Z"
   },
   {
    "duration": 12,
    "start_time": "2023-06-20T18:08:20.315Z"
   },
   {
    "duration": 14,
    "start_time": "2023-06-20T18:08:20.751Z"
   },
   {
    "duration": 114,
    "start_time": "2023-06-20T18:08:21.388Z"
   },
   {
    "duration": 5,
    "start_time": "2023-06-20T18:08:21.546Z"
   },
   {
    "duration": 18,
    "start_time": "2023-06-20T18:08:21.777Z"
   },
   {
    "duration": 56,
    "start_time": "2023-06-20T18:08:22.439Z"
   },
   {
    "duration": 43,
    "start_time": "2023-06-20T18:08:23.117Z"
   },
   {
    "duration": 121,
    "start_time": "2023-06-20T18:10:54.877Z"
   },
   {
    "duration": 14,
    "start_time": "2023-06-20T18:11:38.183Z"
   },
   {
    "duration": 53,
    "start_time": "2023-06-20T18:12:20.899Z"
   },
   {
    "duration": 93,
    "start_time": "2023-06-20T18:16:12.568Z"
   },
   {
    "duration": 18,
    "start_time": "2023-06-20T18:16:13.003Z"
   },
   {
    "duration": 125,
    "start_time": "2023-06-20T18:16:13.913Z"
   },
   {
    "duration": 3,
    "start_time": "2023-06-20T18:16:16.881Z"
   },
   {
    "duration": 10,
    "start_time": "2023-06-20T18:16:18.064Z"
   },
   {
    "duration": 4,
    "start_time": "2023-06-20T18:16:58.554Z"
   },
   {
    "duration": 11,
    "start_time": "2023-06-20T18:17:09.001Z"
   },
   {
    "duration": 890,
    "start_time": "2023-06-20T18:17:19.552Z"
   },
   {
    "duration": 1915,
    "start_time": "2023-06-21T09:45:03.529Z"
   },
   {
    "duration": 1154,
    "start_time": "2023-06-21T09:45:05.447Z"
   },
   {
    "duration": 29,
    "start_time": "2023-06-21T09:45:06.602Z"
   },
   {
    "duration": 343,
    "start_time": "2023-06-21T09:45:06.633Z"
   },
   {
    "duration": 109,
    "start_time": "2023-06-21T09:45:07.066Z"
   },
   {
    "duration": 503,
    "start_time": "2023-06-21T09:45:07.177Z"
   },
   {
    "duration": 41,
    "start_time": "2023-06-21T09:45:07.683Z"
   },
   {
    "duration": 55,
    "start_time": "2023-06-21T09:45:07.726Z"
   },
   {
    "duration": 22,
    "start_time": "2023-06-21T09:45:07.783Z"
   },
   {
    "duration": 459,
    "start_time": "2023-06-21T09:45:07.806Z"
   },
   {
    "duration": 115,
    "start_time": "2023-06-21T09:45:08.267Z"
   },
   {
    "duration": 4,
    "start_time": "2023-06-21T09:45:08.518Z"
   },
   {
    "duration": 50,
    "start_time": "2023-06-21T09:45:10.834Z"
   },
   {
    "duration": 19,
    "start_time": "2023-06-21T09:45:11.412Z"
   },
   {
    "duration": 189,
    "start_time": "2023-06-21T09:45:11.727Z"
   },
   {
    "duration": 158,
    "start_time": "2023-06-21T09:45:11.928Z"
   },
   {
    "duration": 31,
    "start_time": "2023-06-21T09:45:12.747Z"
   },
   {
    "duration": 415,
    "start_time": "2023-06-21T09:45:12.936Z"
   },
   {
    "duration": 27,
    "start_time": "2023-06-21T09:45:13.353Z"
   },
   {
    "duration": 33,
    "start_time": "2023-06-21T09:45:14.212Z"
   },
   {
    "duration": 1140,
    "start_time": "2023-06-21T09:45:14.304Z"
   },
   {
    "duration": 188,
    "start_time": "2023-06-21T09:45:15.447Z"
   },
   {
    "duration": 203,
    "start_time": "2023-06-21T09:45:15.721Z"
   },
   {
    "duration": 40,
    "start_time": "2023-06-21T09:45:16.004Z"
   },
   {
    "duration": 18,
    "start_time": "2023-06-21T09:45:16.316Z"
   },
   {
    "duration": 38,
    "start_time": "2023-06-21T09:45:16.708Z"
   },
   {
    "duration": 13,
    "start_time": "2023-06-21T09:45:17.405Z"
   },
   {
    "duration": 25,
    "start_time": "2023-06-21T09:45:17.820Z"
   },
   {
    "duration": 185,
    "start_time": "2023-06-21T09:45:18.600Z"
   },
   {
    "duration": 24,
    "start_time": "2023-06-21T09:45:18.835Z"
   },
   {
    "duration": 7,
    "start_time": "2023-06-21T09:45:19.024Z"
   },
   {
    "duration": 22,
    "start_time": "2023-06-21T09:45:19.324Z"
   },
   {
    "duration": 16,
    "start_time": "2023-06-21T09:45:19.556Z"
   },
   {
    "duration": 19,
    "start_time": "2023-06-21T09:45:20.018Z"
   },
   {
    "duration": 132,
    "start_time": "2023-06-21T09:45:20.514Z"
   },
   {
    "duration": 6,
    "start_time": "2023-06-21T09:45:20.747Z"
   },
   {
    "duration": 17,
    "start_time": "2023-06-21T09:45:21.028Z"
   },
   {
    "duration": 74,
    "start_time": "2023-06-21T09:45:21.326Z"
   },
   {
    "duration": 52,
    "start_time": "2023-06-21T09:45:21.637Z"
   },
   {
    "duration": 92,
    "start_time": "2023-06-21T09:45:23.728Z"
   },
   {
    "duration": 25,
    "start_time": "2023-06-21T09:45:24.228Z"
   },
   {
    "duration": 148,
    "start_time": "2023-06-21T09:45:24.805Z"
   },
   {
    "duration": 3,
    "start_time": "2023-06-21T09:45:25.462Z"
   },
   {
    "duration": 831,
    "start_time": "2023-06-21T09:45:26.012Z"
   },
   {
    "duration": 46144,
    "start_time": "2023-06-21T09:45:36.121Z"
   },
   {
    "duration": 10290,
    "start_time": "2023-06-21T09:47:12.368Z"
   },
   {
    "duration": 513,
    "start_time": "2023-06-21T09:47:22.660Z"
   },
   {
    "duration": 708355,
    "start_time": "2023-06-21T09:47:47.316Z"
   },
   {
    "duration": 1640,
    "start_time": "2023-06-21T11:21:38.348Z"
   },
   {
    "duration": 911,
    "start_time": "2023-06-21T11:21:39.990Z"
   },
   {
    "duration": 26,
    "start_time": "2023-06-21T11:21:40.902Z"
   },
   {
    "duration": 164,
    "start_time": "2023-06-21T11:21:40.930Z"
   },
   {
    "duration": 108,
    "start_time": "2023-06-21T11:21:41.096Z"
   },
   {
    "duration": 545,
    "start_time": "2023-06-21T11:21:41.205Z"
   },
   {
    "duration": 42,
    "start_time": "2023-06-21T11:21:41.753Z"
   },
   {
    "duration": 39,
    "start_time": "2023-06-21T11:21:41.797Z"
   },
   {
    "duration": 31,
    "start_time": "2023-06-21T11:21:41.853Z"
   },
   {
    "duration": 454,
    "start_time": "2023-06-21T11:21:41.888Z"
   },
   {
    "duration": 146,
    "start_time": "2023-06-21T11:21:42.344Z"
   },
   {
    "duration": 6,
    "start_time": "2023-06-21T11:21:42.493Z"
   },
   {
    "duration": 104,
    "start_time": "2023-06-21T11:21:42.501Z"
   },
   {
    "duration": 22,
    "start_time": "2023-06-21T11:21:42.608Z"
   },
   {
    "duration": 250,
    "start_time": "2023-06-21T11:21:42.632Z"
   },
   {
    "duration": 21,
    "start_time": "2023-06-21T11:21:42.883Z"
   },
   {
    "duration": 42,
    "start_time": "2023-06-21T11:21:42.905Z"
   },
   {
    "duration": 469,
    "start_time": "2023-06-21T11:21:42.949Z"
   },
   {
    "duration": 35,
    "start_time": "2023-06-21T11:21:43.420Z"
   },
   {
    "duration": 32,
    "start_time": "2023-06-21T11:21:43.459Z"
   },
   {
    "duration": 1299,
    "start_time": "2023-06-21T11:21:43.493Z"
   },
   {
    "duration": 182,
    "start_time": "2023-06-21T11:21:44.793Z"
   },
   {
    "duration": 223,
    "start_time": "2023-06-21T11:21:44.977Z"
   },
   {
    "duration": 36,
    "start_time": "2023-06-21T11:21:45.201Z"
   },
   {
    "duration": 39,
    "start_time": "2023-06-21T11:21:45.239Z"
   },
   {
    "duration": 36,
    "start_time": "2023-06-21T11:21:45.279Z"
   },
   {
    "duration": 14,
    "start_time": "2023-06-21T11:21:45.317Z"
   },
   {
    "duration": 32,
    "start_time": "2023-06-21T11:21:45.355Z"
   },
   {
    "duration": 189,
    "start_time": "2023-06-21T11:21:45.388Z"
   },
   {
    "duration": 21,
    "start_time": "2023-06-21T11:21:45.579Z"
   },
   {
    "duration": 29,
    "start_time": "2023-06-21T11:21:45.603Z"
   },
   {
    "duration": 64,
    "start_time": "2023-06-21T11:21:45.634Z"
   },
   {
    "duration": 31,
    "start_time": "2023-06-21T11:21:45.700Z"
   },
   {
    "duration": 70,
    "start_time": "2023-06-21T11:21:45.733Z"
   },
   {
    "duration": 135,
    "start_time": "2023-06-21T11:21:45.804Z"
   },
   {
    "duration": 6,
    "start_time": "2023-06-21T11:21:45.941Z"
   },
   {
    "duration": 44,
    "start_time": "2023-06-21T11:21:45.957Z"
   },
   {
    "duration": 111,
    "start_time": "2023-06-21T11:21:46.003Z"
   },
   {
    "duration": 67,
    "start_time": "2023-06-21T11:21:46.116Z"
   },
   {
    "duration": 120,
    "start_time": "2023-06-21T11:21:46.186Z"
   },
   {
    "duration": 23,
    "start_time": "2023-06-21T11:21:46.308Z"
   },
   {
    "duration": 188,
    "start_time": "2023-06-21T11:21:46.333Z"
   },
   {
    "duration": 7,
    "start_time": "2023-06-21T11:21:46.523Z"
   },
   {
    "duration": 1170,
    "start_time": "2023-06-21T11:21:46.531Z"
   },
   {
    "duration": 1533,
    "start_time": "2023-06-21T11:43:20.999Z"
   },
   {
    "duration": 960,
    "start_time": "2023-06-21T11:43:22.535Z"
   },
   {
    "duration": 29,
    "start_time": "2023-06-21T11:43:23.497Z"
   },
   {
    "duration": 142,
    "start_time": "2023-06-21T11:43:23.529Z"
   },
   {
    "duration": 114,
    "start_time": "2023-06-21T11:43:23.673Z"
   },
   {
    "duration": 500,
    "start_time": "2023-06-21T11:43:23.789Z"
   },
   {
    "duration": 46,
    "start_time": "2023-06-21T11:43:24.292Z"
   },
   {
    "duration": 43,
    "start_time": "2023-06-21T11:43:24.354Z"
   },
   {
    "duration": 20,
    "start_time": "2023-06-21T11:43:24.399Z"
   },
   {
    "duration": 497,
    "start_time": "2023-06-21T11:43:24.422Z"
   },
   {
    "duration": 128,
    "start_time": "2023-06-21T11:43:24.920Z"
   },
   {
    "duration": 6,
    "start_time": "2023-06-21T11:43:25.053Z"
   },
   {
    "duration": 73,
    "start_time": "2023-06-21T11:43:25.065Z"
   },
   {
    "duration": 20,
    "start_time": "2023-06-21T11:43:25.140Z"
   },
   {
    "duration": 217,
    "start_time": "2023-06-21T11:43:25.162Z"
   },
   {
    "duration": 19,
    "start_time": "2023-06-21T11:43:25.381Z"
   },
   {
    "duration": 44,
    "start_time": "2023-06-21T11:43:25.401Z"
   },
   {
    "duration": 454,
    "start_time": "2023-06-21T11:43:25.455Z"
   },
   {
    "duration": 25,
    "start_time": "2023-06-21T11:43:25.911Z"
   },
   {
    "duration": 48,
    "start_time": "2023-06-21T11:43:25.938Z"
   },
   {
    "duration": 1237,
    "start_time": "2023-06-21T11:43:25.988Z"
   },
   {
    "duration": 184,
    "start_time": "2023-06-21T11:43:27.227Z"
   },
   {
    "duration": 264,
    "start_time": "2023-06-21T11:43:27.414Z"
   },
   {
    "duration": 38,
    "start_time": "2023-06-21T11:43:27.897Z"
   },
   {
    "duration": 19,
    "start_time": "2023-06-21T11:43:28.483Z"
   },
   {
    "duration": 57,
    "start_time": "2023-06-21T11:43:28.504Z"
   },
   {
    "duration": 20,
    "start_time": "2023-06-21T11:43:28.569Z"
   },
   {
    "duration": 28,
    "start_time": "2023-06-21T11:43:28.786Z"
   },
   {
    "duration": 198,
    "start_time": "2023-06-21T11:43:30.002Z"
   },
   {
    "duration": 23,
    "start_time": "2023-06-21T11:43:30.202Z"
   },
   {
    "duration": 7,
    "start_time": "2023-06-21T11:43:30.430Z"
   },
   {
    "duration": 21,
    "start_time": "2023-06-21T11:43:30.593Z"
   },
   {
    "duration": 16,
    "start_time": "2023-06-21T11:43:31.124Z"
   },
   {
    "duration": 26,
    "start_time": "2023-06-21T11:43:33.549Z"
   },
   {
    "duration": 145,
    "start_time": "2023-06-21T11:43:34.071Z"
   },
   {
    "duration": 6,
    "start_time": "2023-06-21T11:43:34.237Z"
   },
   {
    "duration": 17,
    "start_time": "2023-06-21T11:43:34.733Z"
   },
   {
    "duration": 82,
    "start_time": "2023-06-21T11:43:35.032Z"
   },
   {
    "duration": 51,
    "start_time": "2023-06-21T11:43:35.376Z"
   },
   {
    "duration": 110,
    "start_time": "2023-06-21T11:43:38.815Z"
   },
   {
    "duration": 19,
    "start_time": "2023-06-21T11:43:38.982Z"
   },
   {
    "duration": 159,
    "start_time": "2023-06-21T11:43:39.157Z"
   },
   {
    "duration": 4,
    "start_time": "2023-06-21T11:43:39.734Z"
   },
   {
    "duration": 942,
    "start_time": "2023-06-21T11:43:40.067Z"
   },
   {
    "duration": 1936,
    "start_time": "2023-06-21T21:35:50.190Z"
   },
   {
    "duration": 1373,
    "start_time": "2023-06-21T21:35:52.129Z"
   },
   {
    "duration": 30,
    "start_time": "2023-06-21T21:35:53.504Z"
   },
   {
    "duration": 150,
    "start_time": "2023-06-21T21:35:53.536Z"
   },
   {
    "duration": 99,
    "start_time": "2023-06-21T21:35:53.688Z"
   },
   {
    "duration": 549,
    "start_time": "2023-06-21T21:35:53.789Z"
   },
   {
    "duration": 55,
    "start_time": "2023-06-21T21:35:54.339Z"
   },
   {
    "duration": 60,
    "start_time": "2023-06-21T21:35:54.396Z"
   },
   {
    "duration": 30,
    "start_time": "2023-06-21T21:35:54.462Z"
   },
   {
    "duration": 517,
    "start_time": "2023-06-21T21:35:54.494Z"
   },
   {
    "duration": 132,
    "start_time": "2023-06-21T21:35:55.013Z"
   },
   {
    "duration": 13,
    "start_time": "2023-06-21T21:35:55.147Z"
   },
   {
    "duration": 87,
    "start_time": "2023-06-21T21:35:55.162Z"
   },
   {
    "duration": 35,
    "start_time": "2023-06-21T21:35:55.252Z"
   },
   {
    "duration": 245,
    "start_time": "2023-06-21T21:35:55.289Z"
   },
   {
    "duration": 35,
    "start_time": "2023-06-21T21:35:55.536Z"
   },
   {
    "duration": 59,
    "start_time": "2023-06-21T21:35:55.577Z"
   },
   {
    "duration": 469,
    "start_time": "2023-06-21T21:35:55.638Z"
   },
   {
    "duration": 31,
    "start_time": "2023-06-21T21:35:56.108Z"
   },
   {
    "duration": 51,
    "start_time": "2023-06-21T21:35:56.141Z"
   },
   {
    "duration": 1219,
    "start_time": "2023-06-21T21:35:56.194Z"
   },
   {
    "duration": 200,
    "start_time": "2023-06-21T21:35:57.415Z"
   },
   {
    "duration": 266,
    "start_time": "2023-06-21T21:35:57.616Z"
   },
   {
    "duration": 51,
    "start_time": "2023-06-21T21:35:57.884Z"
   },
   {
    "duration": 33,
    "start_time": "2023-06-21T21:35:57.937Z"
   },
   {
    "duration": 51,
    "start_time": "2023-06-21T21:35:57.974Z"
   },
   {
    "duration": 12,
    "start_time": "2023-06-21T21:35:58.027Z"
   },
   {
    "duration": 42,
    "start_time": "2023-06-21T21:35:58.041Z"
   },
   {
    "duration": 215,
    "start_time": "2023-06-21T21:35:58.085Z"
   },
   {
    "duration": 23,
    "start_time": "2023-06-21T21:35:58.303Z"
   },
   {
    "duration": 35,
    "start_time": "2023-06-21T21:35:58.328Z"
   },
   {
    "duration": 59,
    "start_time": "2023-06-21T21:35:58.367Z"
   },
   {
    "duration": 18,
    "start_time": "2023-06-21T21:35:58.428Z"
   },
   {
    "duration": 61,
    "start_time": "2023-06-21T21:35:58.448Z"
   },
   {
    "duration": 181,
    "start_time": "2023-06-21T21:35:58.511Z"
   },
   {
    "duration": 6,
    "start_time": "2023-06-21T21:35:58.694Z"
   },
   {
    "duration": 34,
    "start_time": "2023-06-21T21:35:58.702Z"
   },
   {
    "duration": 85,
    "start_time": "2023-06-21T21:35:58.738Z"
   },
   {
    "duration": 71,
    "start_time": "2023-06-21T21:35:58.824Z"
   },
   {
    "duration": 134,
    "start_time": "2023-06-21T21:35:58.897Z"
   },
   {
    "duration": 34,
    "start_time": "2023-06-21T21:35:59.035Z"
   },
   {
    "duration": 184,
    "start_time": "2023-06-21T21:35:59.071Z"
   },
   {
    "duration": 3,
    "start_time": "2023-06-21T21:35:59.257Z"
   },
   {
    "duration": 1062,
    "start_time": "2023-06-21T21:35:59.262Z"
   },
   {
    "duration": 1200627,
    "start_time": "2023-06-21T21:36:00.326Z"
   },
   {
    "duration": 10,
    "start_time": "2023-06-21T21:56:00.959Z"
   },
   {
    "duration": 535766,
    "start_time": "2023-06-21T21:56:00.971Z"
   },
   {
    "duration": 264177,
    "start_time": "2023-06-21T22:04:56.739Z"
   },
   {
    "duration": 186,
    "start_time": "2023-06-21T22:09:20.918Z"
   },
   {
    "duration": 1786,
    "start_time": "2023-06-23T10:02:36.655Z"
   },
   {
    "duration": 1180,
    "start_time": "2023-06-23T10:02:39.412Z"
   },
   {
    "duration": 28,
    "start_time": "2023-06-23T10:02:40.595Z"
   },
   {
    "duration": 92,
    "start_time": "2023-06-23T10:02:42.536Z"
   },
   {
    "duration": 98,
    "start_time": "2023-06-23T10:02:42.945Z"
   },
   {
    "duration": 427,
    "start_time": "2023-06-23T10:02:44.655Z"
   },
   {
    "duration": 42,
    "start_time": "2023-06-23T10:02:45.084Z"
   },
   {
    "duration": 43,
    "start_time": "2023-06-23T10:02:45.614Z"
   },
   {
    "duration": 9,
    "start_time": "2023-06-23T10:02:48.015Z"
   },
   {
    "duration": 18,
    "start_time": "2023-06-23T10:05:38.024Z"
   },
   {
    "duration": 391,
    "start_time": "2023-06-23T10:05:38.905Z"
   },
   {
    "duration": 102,
    "start_time": "2023-06-23T10:05:39.512Z"
   },
   {
    "duration": 5,
    "start_time": "2023-06-23T10:05:40.168Z"
   },
   {
    "duration": 58,
    "start_time": "2023-06-23T10:05:42.005Z"
   },
   {
    "duration": 21,
    "start_time": "2023-06-23T10:05:44.232Z"
   },
   {
    "duration": 204,
    "start_time": "2023-06-23T10:05:45.412Z"
   },
   {
    "duration": 29,
    "start_time": "2023-06-23T10:05:46.412Z"
   },
   {
    "duration": 38,
    "start_time": "2023-06-23T10:06:13.940Z"
   },
   {
    "duration": 32,
    "start_time": "2023-06-23T10:06:36.034Z"
   },
   {
    "duration": 374,
    "start_time": "2023-06-23T10:06:36.266Z"
   },
   {
    "duration": 25,
    "start_time": "2023-06-23T10:06:37.426Z"
   },
   {
    "duration": 25,
    "start_time": "2023-06-23T10:06:40.712Z"
   },
   {
    "duration": 927,
    "start_time": "2023-06-23T10:06:41.000Z"
   },
   {
    "duration": 156,
    "start_time": "2023-06-23T10:06:42.812Z"
   },
   {
    "duration": 225,
    "start_time": "2023-06-23T10:06:45.301Z"
   },
   {
    "duration": 34,
    "start_time": "2023-06-23T10:06:45.566Z"
   },
   {
    "duration": 14,
    "start_time": "2023-06-23T10:06:46.064Z"
   },
   {
    "duration": 34,
    "start_time": "2023-06-23T10:06:46.620Z"
   },
   {
    "duration": 12,
    "start_time": "2023-06-23T10:06:47.664Z"
   },
   {
    "duration": 24,
    "start_time": "2023-06-23T10:06:48.608Z"
   },
   {
    "duration": 157,
    "start_time": "2023-06-23T10:06:49.916Z"
   },
   {
    "duration": 21,
    "start_time": "2023-06-23T10:06:50.216Z"
   },
   {
    "duration": 8,
    "start_time": "2023-06-23T10:06:50.416Z"
   },
   {
    "duration": 22,
    "start_time": "2023-06-23T10:06:50.756Z"
   },
   {
    "duration": 13,
    "start_time": "2023-06-23T10:06:51.032Z"
   },
   {
    "duration": 18,
    "start_time": "2023-06-23T10:06:51.700Z"
   },
   {
    "duration": 136,
    "start_time": "2023-06-23T10:06:52.539Z"
   },
   {
    "duration": 6,
    "start_time": "2023-06-23T10:06:53.024Z"
   },
   {
    "duration": 20,
    "start_time": "2023-06-23T10:06:53.640Z"
   },
   {
    "duration": 62,
    "start_time": "2023-06-23T10:06:53.864Z"
   },
   {
    "duration": 52,
    "start_time": "2023-06-23T10:06:54.166Z"
   },
   {
    "duration": 61,
    "start_time": "2023-06-23T10:07:01.755Z"
   },
   {
    "duration": 27,
    "start_time": "2023-06-23T10:07:02.540Z"
   },
   {
    "duration": 144,
    "start_time": "2023-06-23T10:07:03.216Z"
   },
   {
    "duration": 4,
    "start_time": "2023-06-23T10:07:04.208Z"
   },
   {
    "duration": 881,
    "start_time": "2023-06-23T10:07:04.944Z"
   },
   {
    "duration": 1818,
    "start_time": "2023-06-24T10:37:38.205Z"
   },
   {
    "duration": 949,
    "start_time": "2023-06-24T10:37:40.025Z"
   },
   {
    "duration": 24,
    "start_time": "2023-06-24T10:37:40.976Z"
   },
   {
    "duration": 186,
    "start_time": "2023-06-24T10:37:41.003Z"
   },
   {
    "duration": 90,
    "start_time": "2023-06-24T10:37:41.191Z"
   },
   {
    "duration": 416,
    "start_time": "2023-06-24T10:37:41.283Z"
   },
   {
    "duration": 36,
    "start_time": "2023-06-24T10:37:41.701Z"
   },
   {
    "duration": 36,
    "start_time": "2023-06-24T10:37:41.739Z"
   },
   {
    "duration": 26,
    "start_time": "2023-06-24T10:37:41.777Z"
   },
   {
    "duration": 33,
    "start_time": "2023-06-24T10:37:41.806Z"
   },
   {
    "duration": 17,
    "start_time": "2023-06-24T10:37:41.840Z"
   },
   {
    "duration": 353,
    "start_time": "2023-06-24T10:37:41.859Z"
   },
   {
    "duration": 88,
    "start_time": "2023-06-24T10:37:42.213Z"
   },
   {
    "duration": 5,
    "start_time": "2023-06-24T10:37:42.302Z"
   },
   {
    "duration": 50,
    "start_time": "2023-06-24T10:37:42.308Z"
   },
   {
    "duration": 19,
    "start_time": "2023-06-24T10:37:42.360Z"
   },
   {
    "duration": 172,
    "start_time": "2023-06-24T10:37:42.381Z"
   },
   {
    "duration": 17,
    "start_time": "2023-06-24T10:37:42.554Z"
   },
   {
    "duration": 108,
    "start_time": "2023-06-24T10:37:42.572Z"
   },
   {
    "duration": 341,
    "start_time": "2023-06-24T10:37:42.682Z"
   },
   {
    "duration": 27,
    "start_time": "2023-06-24T10:37:43.024Z"
   },
   {
    "duration": 22,
    "start_time": "2023-06-24T10:37:43.053Z"
   },
   {
    "duration": 956,
    "start_time": "2023-06-24T10:37:43.077Z"
   },
   {
    "duration": 146,
    "start_time": "2023-06-24T10:37:44.035Z"
   },
   {
    "duration": 180,
    "start_time": "2023-06-24T10:37:44.183Z"
   },
   {
    "duration": 45,
    "start_time": "2023-06-24T10:37:44.365Z"
   },
   {
    "duration": 14,
    "start_time": "2023-06-24T10:37:44.412Z"
   },
   {
    "duration": 38,
    "start_time": "2023-06-24T10:37:44.429Z"
   },
   {
    "duration": 14,
    "start_time": "2023-06-24T10:37:44.468Z"
   },
   {
    "duration": 33,
    "start_time": "2023-06-24T10:37:44.484Z"
   },
   {
    "duration": 157,
    "start_time": "2023-06-24T10:37:44.518Z"
   },
   {
    "duration": 24,
    "start_time": "2023-06-24T10:37:44.676Z"
   },
   {
    "duration": 7,
    "start_time": "2023-06-24T10:37:44.702Z"
   },
   {
    "duration": 27,
    "start_time": "2023-06-24T10:37:44.710Z"
   },
   {
    "duration": 13,
    "start_time": "2023-06-24T10:37:44.738Z"
   },
   {
    "duration": 26,
    "start_time": "2023-06-24T10:37:44.753Z"
   },
   {
    "duration": 115,
    "start_time": "2023-06-24T10:37:44.780Z"
   },
   {
    "duration": 7,
    "start_time": "2023-06-24T10:37:44.899Z"
   },
   {
    "duration": 23,
    "start_time": "2023-06-24T10:37:44.908Z"
   },
   {
    "duration": 67,
    "start_time": "2023-06-24T10:37:44.933Z"
   },
   {
    "duration": 46,
    "start_time": "2023-06-24T10:37:45.002Z"
   },
   {
    "duration": 55,
    "start_time": "2023-06-24T10:37:45.050Z"
   },
   {
    "duration": 22,
    "start_time": "2023-06-24T10:37:45.106Z"
   },
   {
    "duration": 131,
    "start_time": "2023-06-24T10:37:45.130Z"
   },
   {
    "duration": 4,
    "start_time": "2023-06-24T10:37:45.262Z"
   },
   {
    "duration": 719,
    "start_time": "2023-06-24T10:37:45.267Z"
   },
   {
    "duration": 3172001,
    "start_time": "2023-06-24T10:37:45.988Z"
   },
   {
    "duration": 5365,
    "start_time": "2023-06-24T11:30:37.991Z"
   },
   {
    "duration": 98,
    "start_time": "2023-06-24T11:30:43.357Z"
   },
   {
    "duration": 1215707,
    "start_time": "2023-06-24T11:30:43.456Z"
   }
  ],
  "kernelspec": {
   "display_name": "Python 3 (ipykernel)",
   "language": "python",
   "name": "python3"
  },
  "language_info": {
   "codemirror_mode": {
    "name": "ipython",
    "version": 3
   },
   "file_extension": ".py",
   "mimetype": "text/x-python",
   "name": "python",
   "nbconvert_exporter": "python",
   "pygments_lexer": "ipython3",
   "version": "3.9.13"
  },
  "toc": {
   "base_numbering": 1,
   "nav_menu": {},
   "number_sections": true,
   "sideBar": true,
   "skip_h1_title": true,
   "title_cell": "Table of Contents",
   "title_sidebar": "Contents",
   "toc_cell": false,
   "toc_position": {},
   "toc_section_display": true,
   "toc_window_display": false
  }
 },
 "nbformat": 4,
 "nbformat_minor": 2
}
