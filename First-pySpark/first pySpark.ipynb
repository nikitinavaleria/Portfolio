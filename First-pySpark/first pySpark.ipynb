{
 "cells": [
  {
   "cell_type": "markdown",
   "id": "GEqQaHzsZ_bA",
   "metadata": {
    "id": "GEqQaHzsZ_bA"
   },
   "source": [
    "# Предсказание стоимости жилья\n",
    "\n",
    "В проекте вам нужно обучить модель линейной регрессии на данных о жилье в Калифорнии в 1990 году. На основе данных нужно предсказать медианную стоимость дома в жилом массиве. Обучите модель и сделайте предсказания на тестовой выборке. Для оценки качества модели используйте метрики RMSE, MAE и R2."
   ]
  },
  {
   "cell_type": "markdown",
   "id": "53871372",
   "metadata": {
    "id": "53871372"
   },
   "source": [
    "## Подготовка данных"
   ]
  },
  {
   "cell_type": "markdown",
   "id": "d76fc8e0",
   "metadata": {
    "id": "df92e3ec"
   },
   "source": [
    "### Инициализируем сессию и прочитаем данные "
   ]
  },
  {
   "cell_type": "code",
   "execution_count": 1,
   "id": "c2206fe5",
   "metadata": {},
   "outputs": [],
   "source": [
    "import pandas as pd \n",
    "import pandas.plotting\n",
    "from pandas.plotting import scatter_matrix\n",
    "\n",
    "import numpy as np\n",
    "import six\n",
    "\n",
    "import pyspark\n",
    "from pyspark.sql import SparkSession\n",
    "from pyspark.sql.types import *\n",
    "import pyspark.sql.functions as F\n",
    "from pyspark.ml import Pipeline\n",
    "\n",
    "from pyspark.ml.feature import StringIndexer, VectorAssembler, StandardScaler\n",
    "from pyspark.ml.regression import LinearRegression\n",
    "from pyspark.ml.evaluation import RegressionEvaluator\n",
    "\n",
    "\n",
    "pyspark_version = pyspark.__version__\n",
    "if int(pyspark_version[:1]) == 3:\n",
    "    from pyspark.ml.feature import OneHotEncoder    \n",
    "elif int(pyspark_version[:1]) == 2:\n",
    "    from pyspark.ml.feature import OneHotEncodeEstimator"
   ]
  },
  {
   "cell_type": "code",
   "execution_count": 2,
   "id": "8c851150",
   "metadata": {},
   "outputs": [
    {
     "name": "stderr",
     "output_type": "stream",
     "text": [
      "[Stage 1:>                                                          (0 + 1) / 1]\r"
     ]
    },
    {
     "name": "stdout",
     "output_type": "stream",
     "text": [
      "root\n",
      " |-- longitude: double (nullable = true)\n",
      " |-- latitude: double (nullable = true)\n",
      " |-- housing_median_age: double (nullable = true)\n",
      " |-- total_rooms: double (nullable = true)\n",
      " |-- total_bedrooms: double (nullable = true)\n",
      " |-- population: double (nullable = true)\n",
      " |-- households: double (nullable = true)\n",
      " |-- median_income: double (nullable = true)\n",
      " |-- median_house_value: double (nullable = true)\n",
      " |-- ocean_proximity: string (nullable = true)\n",
      "\n"
     ]
    },
    {
     "name": "stderr",
     "output_type": "stream",
     "text": [
      "                                                                                \r"
     ]
    }
   ],
   "source": [
    "RANDOM_SEED = 2022\n",
    "\n",
    "spark = SparkSession.builder \\\n",
    "                    .master(\"local\") \\\n",
    "                    .appName(\"Housing - Linear regression\") \\\n",
    "                    .getOrCreate()\n",
    "\n",
    "df = spark.read.option('header', 'true').csv('/datasets/housing.csv', inferSchema = True)\n",
    "df.printSchema() "
   ]
  },
  {
   "cell_type": "code",
   "execution_count": 3,
   "id": "25784fdc",
   "metadata": {},
   "outputs": [
    {
     "name": "stdout",
     "output_type": "stream",
     "text": [
      "root\n",
      " |-- longitude: double (nullable = true)\n",
      " |-- latitude: double (nullable = true)\n",
      " |-- housing_median_age: double (nullable = true)\n",
      " |-- total_rooms: double (nullable = true)\n",
      " |-- total_bedrooms: double (nullable = true)\n",
      " |-- population: double (nullable = true)\n",
      " |-- households: double (nullable = true)\n",
      " |-- median_income: double (nullable = true)\n",
      " |-- median_house_value: double (nullable = true)\n",
      "\n"
     ]
    }
   ],
   "source": [
    "#создадим второй датафрейм без категориального признака\n",
    "df_2 = df.select('longitude', 'latitude', 'housing_median_age', 'total_rooms', 'total_bedrooms', 'population', 'households', 'median_income', 'median_house_value')\n",
    "df_2.printSchema() "
   ]
  },
  {
   "cell_type": "code",
   "execution_count": 4,
   "id": "9fd0592a",
   "metadata": {},
   "outputs": [
    {
     "name": "stderr",
     "output_type": "stream",
     "text": [
      "                                                                                \r"
     ]
    },
    {
     "data": {
      "text/html": [
       "<div>\n",
       "<style scoped>\n",
       "    .dataframe tbody tr th:only-of-type {\n",
       "        vertical-align: middle;\n",
       "    }\n",
       "\n",
       "    .dataframe tbody tr th {\n",
       "        vertical-align: top;\n",
       "    }\n",
       "\n",
       "    .dataframe thead th {\n",
       "        text-align: right;\n",
       "    }\n",
       "</style>\n",
       "<table border=\"1\" class=\"dataframe\">\n",
       "  <thead>\n",
       "    <tr style=\"text-align: right;\">\n",
       "      <th></th>\n",
       "      <th>summary</th>\n",
       "      <th>longitude</th>\n",
       "      <th>latitude</th>\n",
       "      <th>housing_median_age</th>\n",
       "      <th>total_rooms</th>\n",
       "      <th>total_bedrooms</th>\n",
       "      <th>population</th>\n",
       "      <th>households</th>\n",
       "      <th>median_income</th>\n",
       "      <th>median_house_value</th>\n",
       "      <th>ocean_proximity</th>\n",
       "    </tr>\n",
       "  </thead>\n",
       "  <tbody>\n",
       "    <tr>\n",
       "      <th>0</th>\n",
       "      <td>count</td>\n",
       "      <td>20640</td>\n",
       "      <td>20640</td>\n",
       "      <td>20640</td>\n",
       "      <td>20640</td>\n",
       "      <td>20433</td>\n",
       "      <td>20640</td>\n",
       "      <td>20640</td>\n",
       "      <td>20640</td>\n",
       "      <td>20640</td>\n",
       "      <td>20640</td>\n",
       "    </tr>\n",
       "    <tr>\n",
       "      <th>1</th>\n",
       "      <td>mean</td>\n",
       "      <td>-119.56970445736148</td>\n",
       "      <td>35.6318614341087</td>\n",
       "      <td>28.639486434108527</td>\n",
       "      <td>2635.7630813953488</td>\n",
       "      <td>537.8705525375618</td>\n",
       "      <td>1425.4767441860465</td>\n",
       "      <td>499.5396802325581</td>\n",
       "      <td>3.8706710029070246</td>\n",
       "      <td>206855.81690891474</td>\n",
       "      <td>None</td>\n",
       "    </tr>\n",
       "    <tr>\n",
       "      <th>2</th>\n",
       "      <td>stddev</td>\n",
       "      <td>2.003531723502584</td>\n",
       "      <td>2.135952397457101</td>\n",
       "      <td>12.58555761211163</td>\n",
       "      <td>2181.6152515827944</td>\n",
       "      <td>421.38507007403115</td>\n",
       "      <td>1132.46212176534</td>\n",
       "      <td>382.3297528316098</td>\n",
       "      <td>1.899821717945263</td>\n",
       "      <td>115395.61587441359</td>\n",
       "      <td>None</td>\n",
       "    </tr>\n",
       "    <tr>\n",
       "      <th>3</th>\n",
       "      <td>min</td>\n",
       "      <td>-124.35</td>\n",
       "      <td>32.54</td>\n",
       "      <td>1.0</td>\n",
       "      <td>2.0</td>\n",
       "      <td>1.0</td>\n",
       "      <td>3.0</td>\n",
       "      <td>1.0</td>\n",
       "      <td>0.4999</td>\n",
       "      <td>14999.0</td>\n",
       "      <td>&lt;1H OCEAN</td>\n",
       "    </tr>\n",
       "    <tr>\n",
       "      <th>4</th>\n",
       "      <td>max</td>\n",
       "      <td>-114.31</td>\n",
       "      <td>41.95</td>\n",
       "      <td>52.0</td>\n",
       "      <td>39320.0</td>\n",
       "      <td>6445.0</td>\n",
       "      <td>35682.0</td>\n",
       "      <td>6082.0</td>\n",
       "      <td>15.0001</td>\n",
       "      <td>500001.0</td>\n",
       "      <td>NEAR OCEAN</td>\n",
       "    </tr>\n",
       "  </tbody>\n",
       "</table>\n",
       "</div>"
      ],
      "text/plain": [
       "  summary            longitude           latitude  housing_median_age  \\\n",
       "0   count                20640              20640               20640   \n",
       "1    mean  -119.56970445736148   35.6318614341087  28.639486434108527   \n",
       "2  stddev    2.003531723502584  2.135952397457101   12.58555761211163   \n",
       "3     min              -124.35              32.54                 1.0   \n",
       "4     max              -114.31              41.95                52.0   \n",
       "\n",
       "          total_rooms      total_bedrooms          population  \\\n",
       "0               20640               20433               20640   \n",
       "1  2635.7630813953488   537.8705525375618  1425.4767441860465   \n",
       "2  2181.6152515827944  421.38507007403115    1132.46212176534   \n",
       "3                 2.0                 1.0                 3.0   \n",
       "4             39320.0              6445.0             35682.0   \n",
       "\n",
       "          households       median_income  median_house_value ocean_proximity  \n",
       "0              20640               20640               20640           20640  \n",
       "1  499.5396802325581  3.8706710029070246  206855.81690891474            None  \n",
       "2  382.3297528316098   1.899821717945263  115395.61587441359            None  \n",
       "3                1.0              0.4999             14999.0       <1H OCEAN  \n",
       "4             6082.0             15.0001            500001.0      NEAR OCEAN  "
      ]
     },
     "execution_count": 4,
     "metadata": {},
     "output_type": "execute_result"
    }
   ],
   "source": [
    "# выводим базовые статистики\n",
    "df.describe().toPandas() "
   ]
  },
  {
   "cell_type": "markdown",
   "id": "f864ac4b",
   "metadata": {},
   "source": [
    "Данные были собраны в рамках переписи населения в США. Каждая строка содержит агрегированную статистику о жилом массиве. Жилой массив — минимальная географическая единица с населением от 600 до 3000 человек в зависимости от штата. Одна строка в данных содержит статистику в среднем о 1425.5 обитателях жилого массива.\n",
    "\n",
    "В колонках датасета содержатся следующие данные:\n",
    "\n",
    "- `longitude` — широта;\n",
    "- `latitude` — долгота;\n",
    "- `housing_median_age` — медианный возраст жителей жилого массива;\n",
    "- `total_rooms` — общее количество комнат в домах жилого массива;\n",
    "- `total_bedrooms` — общее количество спален в домах жилого массива;\n",
    "- `population` — количество человек, которые проживают в жилом массиве;\n",
    "- `households` — количество домовладений в жилом массиве;\n",
    "- `median_income` — медианный доход жителей жилого массива;\n",
    "- `median_house_value` — медианная стоимость дома в жилом массиве;\n",
    "- `ocean_proximity` — близость к океану.\n",
    "\n",
    "В большинстве колонок хранятся количественные данные, кроме одной — `ocean_proximity`. Она хранит категориальные значения."
   ]
  },
  {
   "cell_type": "markdown",
   "id": "fa0128c3",
   "metadata": {},
   "source": [
    "### Проверим пропуски"
   ]
  },
  {
   "cell_type": "code",
   "execution_count": 5,
   "id": "f34f3bfb",
   "metadata": {
    "scrolled": true
   },
   "outputs": [
    {
     "name": "stdout",
     "output_type": "stream",
     "text": [
      "longitude 0\n",
      "latitude 0\n",
      "housing_median_age 0\n",
      "total_rooms 0\n",
      "total_bedrooms 0\n",
      "population 0\n",
      "households 0\n",
      "median_income 0\n",
      "median_house_value 0\n",
      "ocean_proximity 0\n"
     ]
    }
   ],
   "source": [
    "#пропущенные значения в каждой колонке\n",
    "columns = df.columns\n",
    "lst = [None, np.nan, 'NULL']\n",
    "for column in columns:\n",
    "    check_col = F.col(column).cast(DoubleType())\n",
    "    print(column, df.filter(check_col.isin(lst)).count())"
   ]
  },
  {
   "cell_type": "raw",
   "id": "2998e580",
   "metadata": {
    "scrolled": true
   },
   "source": [
    "df.filter(df.total_bedrooms.isNull()).show()\n"
   ]
  },
  {
   "cell_type": "markdown",
   "id": "e927f1a2",
   "metadata": {},
   "source": [
    "Отсутствует примерно 0.5% данных. Заполним пропуски медианой "
   ]
  },
  {
   "cell_type": "code",
   "execution_count": 6,
   "id": "160d41d3",
   "metadata": {},
   "outputs": [],
   "source": [
    "\n",
    "df = df.na.fill(value=int(df.approxQuantile('total_bedrooms', [0.5], 0)[0]),subset=[\"total_bedrooms\"])\n",
    "df_2 = df_2.na.fill(value=int(df_2.approxQuantile('total_bedrooms', [0.5], 0)[0]),subset=[\"total_bedrooms\"])"
   ]
  },
  {
   "cell_type": "code",
   "execution_count": 7,
   "id": "71cd0827",
   "metadata": {},
   "outputs": [],
   "source": [
    "#разделим колонки на два типа: числовые и текстовые, которые представляют категориальные данные. Также выделим целевой признакcategorical_cols = ['ocean_proximity']\n",
    "categorical_cols = [\"ocean_proximity\"]\n",
    "numerical_cols  = [\"longitude\", \"latitude\", \"housing_median_age\", \"total_rooms\", \"total_bedrooms\", \"population\", \"households\", \"median_income\"]\n",
    "target = \"median_house_value\""
   ]
  },
  {
   "cell_type": "markdown",
   "id": "fa2eaa95",
   "metadata": {},
   "source": [
    "### Корреляции"
   ]
  },
  {
   "cell_type": "code",
   "execution_count": 8,
   "id": "361925e3",
   "metadata": {},
   "outputs": [
    {
     "name": "stdout",
     "output_type": "stream",
     "text": [
      "Correlation to target for  longitude -0.045966615117981745\n",
      "Correlation to target for  latitude -0.14416027687465752\n",
      "Correlation to target for  housing_median_age 0.10562341249321067\n",
      "Correlation to target for  total_rooms 0.13415311380656275\n",
      "Correlation to target for  total_bedrooms 0.049456861920854314\n",
      "Correlation to target for  population -0.024649678888894876\n",
      "Correlation to target for  households 0.06584265057005637\n",
      "Correlation to target for  median_income 0.6880752079585578\n",
      "Correlation to target for  median_house_value 1.0\n"
     ]
    }
   ],
   "source": [
    "for i in df.columns:\n",
    "    if not( isinstance(df.select(i).take(1)[0][0], six.string_types)):\n",
    "        print( \"Correlation to target for \", i, df.stat.corr(target,i))"
   ]
  },
  {
   "cell_type": "markdown",
   "id": "8f5cedaf",
   "metadata": {},
   "source": [
    "### Разделение на выборки\n",
    "\n"
   ]
  },
  {
   "cell_type": "code",
   "execution_count": 9,
   "id": "30481fe2",
   "metadata": {},
   "outputs": [],
   "source": [
    "#разделим датасет на две части — выборку для обучения и выборку для тестирования качества модели\n",
    "train_data, test_data = df.randomSplit([.8,.2], seed=RANDOM_SEED)\n",
    "\n",
    "train_data_2, test_data_2 = df_2.randomSplit([.8,.2], seed=RANDOM_SEED)"
   ]
  },
  {
   "cell_type": "markdown",
   "id": "9f0a82f3",
   "metadata": {
    "id": "9f0a82f3"
   },
   "source": [
    "## Обучение моделей\n",
    "\n"
   ]
  },
  {
   "cell_type": "markdown",
   "id": "684e5363",
   "metadata": {},
   "source": [
    "### Поcтроим  pipeline для обработки всех данных\n",
    "\n"
   ]
  },
  {
   "cell_type": "code",
   "execution_count": 10,
   "id": "3f85773d",
   "metadata": {},
   "outputs": [
    {
     "name": "stderr",
     "output_type": "stream",
     "text": [
      "                                                                                \r"
     ]
    }
   ],
   "source": [
    "# Build Pipeline \n",
    "\n",
    "categorical_cols = [\"ocean_proximity\"]\n",
    "numerical_cols  = [\"longitude\", \"latitude\", \"housing_median_age\", \"total_rooms\", \"total_bedrooms\", \"population\", \"households\", \"median_income\"]\n",
    "target = \"median_house_value\"\n",
    "\n",
    "stages = []\n",
    "\n",
    "stringIndexer = StringIndexer(inputCols=categorical_cols, \n",
    "                        outputCols=[c+'_idx' for c in categorical_cols], handleInvalid = 'keep')\n",
    "\n",
    "encoder = OneHotEncoder(inputCols=[c+'_idx' for c in categorical_cols],\n",
    "                        outputCols=[c+'_ohe' for c in categorical_cols])\n",
    "\n",
    "\n",
    "categorical_assembler = \\\n",
    "        VectorAssembler(inputCols=[c+'_ohe' for c in categorical_cols],\n",
    "                                        outputCol=\"categorical_features\")\n",
    "stages += [stringIndexer, encoder, categorical_assembler]\n",
    "\n",
    "numerical_assembler = VectorAssembler(inputCols=numerical_cols,\n",
    "                                                                            outputCol=\"numerical_features\")\n",
    "\n",
    "standardScaler = StandardScaler(inputCol='numerical_features',\n",
    "                                                                outputCol=\"numerical_features_scaled\")\n",
    "\n",
    "all_features = ['categorical_features','numerical_features_scaled']\n",
    "\n",
    "final_assembler = VectorAssembler(inputCols=all_features, \n",
    "                                  outputCol=\"features\") \n",
    "stages += [numerical_assembler,standardScaler,final_assembler]\n",
    "\n",
    "# Run Data Through Pipeline\n",
    "pipeline = Pipeline().setStages(stages)\n",
    "pipeline_model = pipeline.fit(train_data)\n",
    "prepped_train_data = pipeline_model.transform(train_data)\n",
    "prepped_test_data = pipeline_model.transform(test_data)"
   ]
  },
  {
   "cell_type": "code",
   "execution_count": 11,
   "id": "de6feedd",
   "metadata": {},
   "outputs": [
    {
     "data": {
      "text/plain": [
       "[StringIndexer_3986978d6dd9,\n",
       " OneHotEncoder_ee67c8394a73,\n",
       " VectorAssembler_5e502093f9e1,\n",
       " VectorAssembler_f634e06ce305,\n",
       " StandardScaler_5ee94aabdf88,\n",
       " VectorAssembler_b00e2e1999c5]"
      ]
     },
     "execution_count": 11,
     "metadata": {},
     "output_type": "execute_result"
    }
   ],
   "source": [
    "pipeline.getStages()"
   ]
  },
  {
   "cell_type": "markdown",
   "id": "0de0e4dd",
   "metadata": {},
   "source": [
    "### Обучим модель со всеми данными"
   ]
  },
  {
   "cell_type": "code",
   "execution_count": 12,
   "id": "b69912da",
   "metadata": {
    "id": "bddb08c4"
   },
   "outputs": [
    {
     "name": "stderr",
     "output_type": "stream",
     "text": [
      "23/05/18 06:49:34 WARN Instrumentation: [ab8bff25] regParam is zero, which might cause numerical instability and overfitting.\n",
      "23/05/18 06:49:34 WARN BLAS: Failed to load implementation from: com.github.fommil.netlib.NativeSystemBLAS\n",
      "23/05/18 06:49:34 WARN BLAS: Failed to load implementation from: com.github.fommil.netlib.NativeRefBLAS\n",
      "23/05/18 06:49:35 WARN LAPACK: Failed to load implementation from: com.github.fommil.netlib.NativeSystemLAPACK\n",
      "23/05/18 06:49:35 WARN LAPACK: Failed to load implementation from: com.github.fommil.netlib.NativeRefLAPACK\n",
      "23/05/18 06:49:35 WARN Instrumentation: [ab8bff25] Cholesky solver failed due to singular covariance matrix. Retrying with Quasi-Newton solver.\n",
      "23/05/18 06:49:37 ERROR LBFGS: Failure! Resetting history: breeze.optimize.FirstOrderException: Line search zoom failed\n",
      "23/05/18 06:49:37 ERROR LBFGS: Failure! Resetting history: breeze.optimize.FirstOrderException: Line search zoom failed\n"
     ]
    }
   ],
   "source": [
    "lr = LinearRegression(labelCol=target, featuresCol='features')\n",
    "\n",
    "model = lr.fit(prepped_train_data)"
   ]
  },
  {
   "cell_type": "markdown",
   "id": "e973c299",
   "metadata": {},
   "source": [
    "### Оценка метрик на трейн "
   ]
  },
  {
   "cell_type": "code",
   "execution_count": 13,
   "id": "2155491d",
   "metadata": {},
   "outputs": [
    {
     "name": "stdout",
     "output_type": "stream",
     "text": [
      "RMSE: 68839.094737\n",
      "r2: 0.642508\n",
      "MAE: 49832.725951\n"
     ]
    }
   ],
   "source": [
    "trainingSummary = model.summary\n",
    "print(\"RMSE: %f\" % trainingSummary.rootMeanSquaredError)\n",
    "print(\"r2: %f\" % trainingSummary.r2)\n",
    "print(\"MAE: %f\" % trainingSummary.meanAbsoluteError)"
   ]
  },
  {
   "cell_type": "code",
   "execution_count": 14,
   "id": "10bb7e84",
   "metadata": {},
   "outputs": [
    {
     "name": "stdout",
     "output_type": "stream",
     "text": [
      "Coefficients: [12420.586336481727,-27781.23152779337,18489.344466861992,8900.623976003111,-53112.07212806045,-53737.6592142435,12971.660891070753,-10754.706129980594,31259.229822912344,-43274.798998362785,27640.6138319465,73029.17414604359]\n",
      "Intercept: -2249286.985353045\n"
     ]
    }
   ],
   "source": [
    "#посмотрим коэффициенты в регрессии\n",
    "print(\"Coefficients: \" + str(model.coefficients))\n",
    "print(\"Intercept: \" + str(model.intercept))"
   ]
  },
  {
   "cell_type": "markdown",
   "id": "3570b60b",
   "metadata": {},
   "source": [
    "### Предсказания на тесте и оценка метрик"
   ]
  },
  {
   "cell_type": "code",
   "execution_count": 15,
   "id": "c77efc65",
   "metadata": {},
   "outputs": [
    {
     "name": "stdout",
     "output_type": "stream",
     "text": [
      "+------------------+------------------+\n",
      "|        prediction|median_house_value|\n",
      "+------------------+------------------+\n",
      "| 152990.3715510266|          103600.0|\n",
      "|214967.38530553272|           50800.0|\n",
      "|142714.15593254054|           58100.0|\n",
      "| 132483.0438585477|           68400.0|\n",
      "|164098.83915469842|           72200.0|\n",
      "+------------------+------------------+\n",
      "only showing top 5 rows\n",
      "\n"
     ]
    }
   ],
   "source": [
    "#предскажем тестовые значения\n",
    "predictions = model.transform(prepped_test_data)\n",
    "#посмотрим предсказания\n",
    "predictions.select(\"prediction\",target).show(5)\n",
    "\n"
   ]
  },
  {
   "cell_type": "code",
   "execution_count": 16,
   "id": "39d84305",
   "metadata": {},
   "outputs": [
    {
     "name": "stdout",
     "output_type": "stream",
     "text": [
      "R Squared (R2) on test data = 0.653558\n",
      "Root Mean Squared Error (RMSE) on test data = 68486.7\n",
      "Mean Absolute Error (MAE) on test data = 49867\n"
     ]
    }
   ],
   "source": [
    "lr_evaluator = RegressionEvaluator(predictionCol=\"prediction\", \\\n",
    "                 labelCol=target,metricName=\"r2\")\n",
    "print(\"R Squared (R2) on test data = %g\" % lr_evaluator.evaluate(predictions))\n",
    "\n",
    "test_result = model.evaluate(prepped_test_data)\n",
    "print(\"Root Mean Squared Error (RMSE) on test data = %g\" % test_result.rootMeanSquaredError)\n",
    "print(\"Mean Absolute Error (MAE) on test data = %g\" % test_result.meanAbsoluteError)\n",
    "\n"
   ]
  },
  {
   "cell_type": "markdown",
   "id": "be65f6a5",
   "metadata": {},
   "source": [
    "### Обучим модель только с числовыми данными"
   ]
  },
  {
   "cell_type": "code",
   "execution_count": 17,
   "id": "5427b8b6",
   "metadata": {},
   "outputs": [],
   "source": [
    "# Build Pipeline \n",
    "\n",
    "numerical_cols  = [\"longitude\", \"latitude\", \"housing_median_age\", \"total_rooms\", \"total_bedrooms\", \"population\", \"households\", \"median_income\"]\n",
    "target = \"median_house_value\"\n",
    "\n",
    "stages = []\n",
    "\n",
    "\n",
    "numerical_assembler = VectorAssembler(inputCols=numerical_cols,\n",
    "                                                                            outputCol=\"numerical_features\")\n",
    "\n",
    "standardScaler = StandardScaler(inputCol='numerical_features',\n",
    "                                                                outputCol=\"features\")\n",
    "\n",
    " \n",
    "stages += [numerical_assembler,standardScaler]\n",
    "\n",
    "# Run Data Through Pipeline\n",
    "pipeline = Pipeline().setStages(stages)\n",
    "pipeline_model = pipeline.fit(train_data_2)\n",
    "prepped_train_data_2 = pipeline_model.transform(train_data_2)\n",
    "prepped_test_data_2 = pipeline_model.transform(test_data_2)"
   ]
  },
  {
   "cell_type": "code",
   "execution_count": 18,
   "id": "6ec37f09",
   "metadata": {},
   "outputs": [
    {
     "name": "stderr",
     "output_type": "stream",
     "text": [
      "23/05/18 06:49:42 WARN Instrumentation: [fe82e430] regParam is zero, which might cause numerical instability and overfitting.\n",
      "                                                                                \r"
     ]
    }
   ],
   "source": [
    "lr = LinearRegression(labelCol=target, featuresCol='features')\n",
    "\n",
    "model = lr.fit(prepped_train_data_2)"
   ]
  },
  {
   "cell_type": "markdown",
   "id": "e54b4d45",
   "metadata": {},
   "source": [
    "### Оценка метрик на трейн"
   ]
  },
  {
   "cell_type": "code",
   "execution_count": 19,
   "id": "180e87e1",
   "metadata": {},
   "outputs": [
    {
     "name": "stdout",
     "output_type": "stream",
     "text": [
      "RMSE: 69780.095032\n",
      "r2: 0.632668\n",
      "MAE: 50944.509002\n"
     ]
    }
   ],
   "source": [
    "trainingSummary = model.summary\n",
    "print(\"RMSE: %f\" % trainingSummary.rootMeanSquaredError)\n",
    "print(\"r2: %f\" % trainingSummary.r2)\n",
    "print(\"MAE: %f\" % trainingSummary.meanAbsoluteError)"
   ]
  },
  {
   "cell_type": "code",
   "execution_count": 20,
   "id": "92832bac",
   "metadata": {},
   "outputs": [
    {
     "name": "stdout",
     "output_type": "stream",
     "text": [
      "Coefficients: [-86231.2606798842,-91412.62024754361,14006.3951769044,-14818.31139597535,35402.83692654434,-44083.3660836648,28238.633812066055,74878.58040390344]\n",
      "Intercept: -3600459.0405836347\n"
     ]
    }
   ],
   "source": [
    "#посмотрим коэффициенты в регрессии\n",
    "print(\"Coefficients: \" + str(model.coefficients))\n",
    "print(\"Intercept: \" + str(model.intercept))"
   ]
  },
  {
   "cell_type": "markdown",
   "id": "2fa1e67d",
   "metadata": {},
   "source": [
    "### Предсказания на тесте и оценка метрик"
   ]
  },
  {
   "cell_type": "code",
   "execution_count": 21,
   "id": "bf3bda9b",
   "metadata": {},
   "outputs": [
    {
     "name": "stdout",
     "output_type": "stream",
     "text": [
      "+------------------+------------------+\n",
      "|        prediction|median_house_value|\n",
      "+------------------+------------------+\n",
      "|101397.02412080672|          103600.0|\n",
      "|183325.89393649017|           50800.0|\n",
      "|109609.16753835836|           58100.0|\n",
      "| 80433.62265060423|           68400.0|\n",
      "| 129998.2662690985|           72200.0|\n",
      "+------------------+------------------+\n",
      "only showing top 5 rows\n",
      "\n"
     ]
    }
   ],
   "source": [
    "#предскажем тестовые значения\n",
    "predictions = model.transform(prepped_test_data_2)\n",
    "#посмотрим предсказания\n",
    "predictions.select(\"prediction\",target).show(5)\n"
   ]
  },
  {
   "cell_type": "code",
   "execution_count": 22,
   "id": "f94ca99e",
   "metadata": {},
   "outputs": [
    {
     "name": "stdout",
     "output_type": "stream",
     "text": [
      "R Squared (R2) on test data = 0.646173\n",
      "Root Mean Squared Error (RMSE) on test data = 69212.9\n",
      "Mean Absolute Error (MAE) on test data = 50866.6\n"
     ]
    }
   ],
   "source": [
    "lr_evaluator = RegressionEvaluator(predictionCol=\"prediction\", \\\n",
    "                 labelCol=target,metricName=\"r2\")\n",
    "print(\"R Squared (R2) on test data = %g\" % lr_evaluator.evaluate(predictions))\n",
    "\n",
    "test_result = model.evaluate(prepped_test_data_2)\n",
    "print(\"Root Mean Squared Error (RMSE) on test data = %g\" % test_result.rootMeanSquaredError)\n",
    "print(\"Mean Absolute Error (MAE) on test data = %g\" % test_result.meanAbsoluteError)"
   ]
  },
  {
   "cell_type": "code",
   "execution_count": 23,
   "id": "a4b0211a",
   "metadata": {},
   "outputs": [],
   "source": [
    "spark.stop()"
   ]
  },
  {
   "cell_type": "markdown",
   "id": "757fd103",
   "metadata": {
    "id": "757fd103"
   },
   "source": [
    "## Анализ результатов\n",
    "\n",
    "В данной работе были проанализированы данные о жилье в Калифорнии в 1990 году. Были удалены пропуски, данные были предобработаны, проверены, закодированы и приведены к необходимому формату для дальнейшей работы. \n",
    "\n",
    "Далее были построены модели линейной регрессии на двух выборках: на полных данных и только числовых данных. Были получены следующие результаты:\n",
    "\n",
    "На тренировочной выборке для полных данных:\n",
    "RMSE: 68839.094737\n",
    "r2: 0.642508\n",
    "MAE: 49832.725951\n",
    "\n",
    "На тренировочной выборке для числовых данных:\n",
    "RMSE: 69780.095032\n",
    "r2: 0.632668\n",
    "MAE: 50944.509002\n",
    "\n",
    "\n",
    "\n",
    "На тестовой выборке для полных данных:\n",
    "R Squared (R2) on test data = 0.653558\n",
    "Root Mean Squared Error (RMSE) on test data = 68486.7\n",
    "Mean Absolute Error (MAE) on test data = 49867\n",
    "\n",
    "\n",
    "На тестовой выборке для числовых данных:\n",
    "R Squared (R2) on test data = 0.646173\n",
    "Root Mean Squared Error (RMSE) on test data = 69212.9\n",
    "Mean Absolute Error (MAE) on test data = 50866.6\n",
    "\n",
    "\n",
    "|  | R2 | MAE | RMSE |\n",
    "| --- | --- | --- | --- |\n",
    "| train полная | 0.642 | 49832 | 68839 |\n",
    "| train числовая | 0.632 | 50944 | 69780 |\n",
    "| test полная | 0.653 | 49867 | 68486 |\n",
    "| test числовая | 0.646 | 50866 | 69212 |\n",
    "\n",
    "Коэффициент детерминации: единица минус отношение средней квадратичной ошибки модели к средней квадратичной ошибке среднего значения тестовой выборки. Собственно единица минус отношение (RMSE)2 к дисперсии реальных значений выборки. R2 показывает, что ближе к реальным данным: наши предсказания или просто среднее по выборке. В нашем случае метрика лежит от 0 до 1, что означает, что RMSE меньше, чем просто среднее по выборке. Значит, модель имеет право на существование.\n",
    "\n",
    "\n",
    "MAE сообщает нам среднюю абсолютную разницу между прогнозируемыми значениями и фактическими значениями в наборе данных. Чем ниже MAE, тем лучше модель соответствует набору данных.\n",
    "\n",
    "RMSE - квадратный корень из средней квадратичной разницы между прогнозируемыми значениями и фактическими значениями в наборе данных. Чем ниже RMSE, тем лучше модель соответствует набору данных.\n",
    "\n",
    "В данном случае RMSE важнее, потому что он более чувствителен к наблюдениям, которые далеки от среднего, потому что стоимость разнится довольно сильно, это можно наблюдать в описательной табличке в начале анализа. Стандартное отклонение в датасете 115395. Также видно, что для всех моделей видна разница между MAE и RMSE.\n",
    "\n",
    "Таким образом линейная регрессия показала лучшие результаты для полной выборки, включащую в себя категориальные признаки. Более того, метрики на тесте не сильно отличаются от метрик на трейне, что говорит о том, что модель не переобучена и хорошо показывает себя на новых данных."
   ]
  }
 ],
 "metadata": {
  "ExecuteTimeLog": [
   {
    "duration": 30807,
    "start_time": "2023-05-15T10:10:06.010Z"
   },
   {
    "duration": 6421,
    "start_time": "2023-05-15T10:17:40.491Z"
   },
   {
    "duration": 3,
    "start_time": "2023-05-15T10:58:35.435Z"
   },
   {
    "duration": 2,
    "start_time": "2023-05-15T10:58:36.158Z"
   },
   {
    "duration": 444,
    "start_time": "2023-05-15T10:58:36.856Z"
   },
   {
    "duration": 1551,
    "start_time": "2023-05-15T10:58:54.759Z"
   },
   {
    "duration": 902,
    "start_time": "2023-05-15T10:58:56.312Z"
   },
   {
    "duration": 48,
    "start_time": "2023-05-15T10:59:00.968Z"
   },
   {
    "duration": 33,
    "start_time": "2023-05-15T10:59:02.418Z"
   },
   {
    "duration": 981,
    "start_time": "2023-05-15T10:59:04.507Z"
   },
   {
    "duration": 220,
    "start_time": "2023-05-15T10:59:30.920Z"
   },
   {
    "duration": 27206,
    "start_time": "2023-05-15T11:02:05.716Z"
   },
   {
    "duration": 6600,
    "start_time": "2023-05-15T11:02:32.925Z"
   },
   {
    "duration": 66,
    "start_time": "2023-05-15T11:02:39.527Z"
   },
   {
    "duration": 1634,
    "start_time": "2023-05-15T11:02:39.596Z"
   },
   {
    "duration": 785,
    "start_time": "2023-05-15T11:02:41.232Z"
   },
   {
    "duration": 106,
    "start_time": "2023-05-15T11:02:42.019Z"
   },
   {
    "duration": 90,
    "start_time": "2023-05-15T11:02:42.127Z"
   },
   {
    "duration": 26603,
    "start_time": "2023-05-15T11:05:33.700Z"
   },
   {
    "duration": 6999,
    "start_time": "2023-05-15T11:06:00.307Z"
   },
   {
    "duration": 2,
    "start_time": "2023-05-15T11:06:07.308Z"
   },
   {
    "duration": 1807,
    "start_time": "2023-05-15T11:06:07.313Z"
   },
   {
    "duration": 288,
    "start_time": "2023-05-15T11:06:09.123Z"
   },
   {
    "duration": 112,
    "start_time": "2023-05-15T11:06:09.413Z"
   },
   {
    "duration": 291,
    "start_time": "2023-05-15T11:06:09.527Z"
   },
   {
    "duration": 0,
    "start_time": "2023-05-15T11:06:09.819Z"
   },
   {
    "duration": 0,
    "start_time": "2023-05-15T11:06:09.821Z"
   },
   {
    "duration": 0,
    "start_time": "2023-05-15T11:06:09.822Z"
   },
   {
    "duration": 0,
    "start_time": "2023-05-15T11:06:09.823Z"
   },
   {
    "duration": 45,
    "start_time": "2023-05-15T12:55:14.733Z"
   },
   {
    "duration": 1181,
    "start_time": "2023-05-15T12:55:15.375Z"
   },
   {
    "duration": 164,
    "start_time": "2023-05-15T12:55:56.524Z"
   },
   {
    "duration": 122,
    "start_time": "2023-05-15T12:56:17.682Z"
   },
   {
    "duration": 353,
    "start_time": "2023-05-15T12:56:21.953Z"
   },
   {
    "duration": 27728,
    "start_time": "2023-05-15T13:53:53.883Z"
   },
   {
    "duration": 184,
    "start_time": "2023-05-15T13:54:21.613Z"
   },
   {
    "duration": 1700,
    "start_time": "2023-05-15T13:54:21.800Z"
   },
   {
    "duration": 6925,
    "start_time": "2023-05-15T13:54:32.763Z"
   },
   {
    "duration": 5,
    "start_time": "2023-05-15T13:54:39.691Z"
   },
   {
    "duration": 1261,
    "start_time": "2023-05-15T13:54:39.697Z"
   },
   {
    "duration": 768,
    "start_time": "2023-05-15T13:56:59.352Z"
   },
   {
    "duration": 623,
    "start_time": "2023-05-15T13:58:43.690Z"
   },
   {
    "duration": 3914,
    "start_time": "2023-05-15T14:00:35.582Z"
   },
   {
    "duration": 566,
    "start_time": "2023-05-15T14:01:06.363Z"
   },
   {
    "duration": 26102,
    "start_time": "2023-05-15T14:01:24.592Z"
   },
   {
    "duration": 106,
    "start_time": "2023-05-15T14:01:50.696Z"
   },
   {
    "duration": 1554,
    "start_time": "2023-05-15T14:01:50.804Z"
   },
   {
    "duration": 6266,
    "start_time": "2023-05-15T14:01:52.360Z"
   },
   {
    "duration": 61,
    "start_time": "2023-05-15T14:01:58.628Z"
   },
   {
    "duration": 962,
    "start_time": "2023-05-15T14:01:58.691Z"
   },
   {
    "duration": 0,
    "start_time": "2023-05-15T14:01:59.654Z"
   },
   {
    "duration": 3772,
    "start_time": "2023-05-15T14:03:13.164Z"
   },
   {
    "duration": 54,
    "start_time": "2023-05-15T14:03:20.841Z"
   },
   {
    "duration": 795,
    "start_time": "2023-05-15T18:15:39.912Z"
   },
   {
    "duration": 27314,
    "start_time": "2023-05-15T18:15:40.709Z"
   },
   {
    "duration": 104,
    "start_time": "2023-05-15T18:16:08.026Z"
   },
   {
    "duration": 5872,
    "start_time": "2023-05-15T18:16:08.132Z"
   },
   {
    "duration": 2879,
    "start_time": "2023-05-15T18:16:57.520Z"
   },
   {
    "duration": 5962,
    "start_time": "2023-05-15T18:19:50.953Z"
   },
   {
    "duration": 1037,
    "start_time": "2023-05-15T18:19:56.917Z"
   },
   {
    "duration": 251,
    "start_time": "2023-05-15T18:20:15.253Z"
   },
   {
    "duration": 347,
    "start_time": "2023-05-15T18:20:36.454Z"
   },
   {
    "duration": 31,
    "start_time": "2023-05-15T18:25:13.374Z"
   },
   {
    "duration": 4,
    "start_time": "2023-05-15T18:25:24.052Z"
   },
   {
    "duration": 1310,
    "start_time": "2023-05-15T18:25:25.007Z"
   },
   {
    "duration": 4740,
    "start_time": "2023-05-15T18:25:32.221Z"
   },
   {
    "duration": 38,
    "start_time": "2023-05-15T18:25:49.282Z"
   },
   {
    "duration": 51,
    "start_time": "2023-05-15T18:25:51.830Z"
   },
   {
    "duration": 32,
    "start_time": "2023-05-15T18:34:17.206Z"
   },
   {
    "duration": 5,
    "start_time": "2023-05-15T18:35:33.126Z"
   },
   {
    "duration": 23,
    "start_time": "2023-05-15T18:56:20.404Z"
   },
   {
    "duration": 850,
    "start_time": "2023-05-15T19:15:07.922Z"
   },
   {
    "duration": 31215,
    "start_time": "2023-05-15T19:15:08.774Z"
   },
   {
    "duration": 116,
    "start_time": "2023-05-15T19:15:39.992Z"
   },
   {
    "duration": 5403,
    "start_time": "2023-05-15T19:15:40.110Z"
   },
   {
    "duration": 6021,
    "start_time": "2023-05-15T19:15:45.516Z"
   },
   {
    "duration": 505,
    "start_time": "2023-05-15T19:15:51.587Z"
   },
   {
    "duration": 25,
    "start_time": "2023-05-15T19:15:52.094Z"
   },
   {
    "duration": 4,
    "start_time": "2023-05-15T19:15:52.121Z"
   },
   {
    "duration": 3,
    "start_time": "2023-05-15T19:15:52.190Z"
   },
   {
    "duration": 5844,
    "start_time": "2023-05-15T19:15:52.195Z"
   },
   {
    "duration": 152,
    "start_time": "2023-05-15T19:15:58.042Z"
   },
   {
    "duration": 2521,
    "start_time": "2023-05-15T19:15:58.197Z"
   },
   {
    "duration": 130,
    "start_time": "2023-05-15T19:17:08.279Z"
   },
   {
    "duration": 84,
    "start_time": "2023-05-15T19:17:49.041Z"
   },
   {
    "duration": 9,
    "start_time": "2023-05-15T19:17:49.412Z"
   },
   {
    "duration": 861,
    "start_time": "2023-05-15T19:17:57.587Z"
   },
   {
    "duration": 28356,
    "start_time": "2023-05-15T19:17:58.451Z"
   },
   {
    "duration": 178,
    "start_time": "2023-05-15T19:18:26.810Z"
   },
   {
    "duration": 5628,
    "start_time": "2023-05-15T19:18:26.992Z"
   },
   {
    "duration": 6669,
    "start_time": "2023-05-15T19:18:32.623Z"
   },
   {
    "duration": 519,
    "start_time": "2023-05-15T19:18:39.293Z"
   },
   {
    "duration": 86,
    "start_time": "2023-05-15T19:18:39.814Z"
   },
   {
    "duration": 3,
    "start_time": "2023-05-15T19:18:39.902Z"
   },
   {
    "duration": 6,
    "start_time": "2023-05-15T19:18:39.908Z"
   },
   {
    "duration": 5203,
    "start_time": "2023-05-15T19:18:39.916Z"
   },
   {
    "duration": 73,
    "start_time": "2023-05-15T19:18:45.122Z"
   },
   {
    "duration": 2326,
    "start_time": "2023-05-15T19:18:45.196Z"
   },
   {
    "duration": 0,
    "start_time": "2023-05-15T19:18:47.524Z"
   },
   {
    "duration": 969,
    "start_time": "2023-05-16T09:45:46.996Z"
   },
   {
    "duration": 32462,
    "start_time": "2023-05-16T09:45:47.968Z"
   },
   {
    "duration": 188,
    "start_time": "2023-05-16T09:46:20.432Z"
   },
   {
    "duration": 6021,
    "start_time": "2023-05-16T09:46:20.622Z"
   },
   {
    "duration": 6897,
    "start_time": "2023-05-16T09:46:26.646Z"
   },
   {
    "duration": 503,
    "start_time": "2023-05-16T09:46:33.597Z"
   },
   {
    "duration": 30,
    "start_time": "2023-05-16T09:46:34.101Z"
   },
   {
    "duration": 69,
    "start_time": "2023-05-16T09:46:34.133Z"
   },
   {
    "duration": 26,
    "start_time": "2023-05-16T09:46:34.210Z"
   },
   {
    "duration": 5578,
    "start_time": "2023-05-16T09:46:34.238Z"
   },
   {
    "duration": 96,
    "start_time": "2023-05-16T09:46:39.818Z"
   },
   {
    "duration": 196,
    "start_time": "2023-05-16T09:46:39.917Z"
   },
   {
    "duration": 0,
    "start_time": "2023-05-16T09:46:40.115Z"
   },
   {
    "duration": 0,
    "start_time": "2023-05-16T09:46:40.116Z"
   },
   {
    "duration": 0,
    "start_time": "2023-05-16T09:46:40.118Z"
   },
   {
    "duration": 5565,
    "start_time": "2023-05-16T09:48:42.457Z"
   },
   {
    "duration": 208,
    "start_time": "2023-05-16T09:48:52.319Z"
   },
   {
    "duration": 6,
    "start_time": "2023-05-16T09:50:12.692Z"
   },
   {
    "duration": 14,
    "start_time": "2023-05-16T09:50:35.590Z"
   },
   {
    "duration": 20,
    "start_time": "2023-05-16T09:50:42.487Z"
   },
   {
    "duration": 6,
    "start_time": "2023-05-16T09:51:52.292Z"
   },
   {
    "duration": 700,
    "start_time": "2023-05-16T10:09:37.922Z"
   },
   {
    "duration": 33083,
    "start_time": "2023-05-16T10:09:38.692Z"
   },
   {
    "duration": 114,
    "start_time": "2023-05-16T10:10:11.777Z"
   },
   {
    "duration": 5227,
    "start_time": "2023-05-16T10:10:11.893Z"
   },
   {
    "duration": 6670,
    "start_time": "2023-05-16T10:10:17.124Z"
   },
   {
    "duration": 503,
    "start_time": "2023-05-16T10:10:23.796Z"
   },
   {
    "duration": 788,
    "start_time": "2023-05-16T10:10:24.301Z"
   },
   {
    "duration": 1618,
    "start_time": "2023-05-16T10:10:45.781Z"
   },
   {
    "duration": 402,
    "start_time": "2023-05-16T10:15:28.704Z"
   },
   {
    "duration": 1260,
    "start_time": "2023-05-16T10:15:30.523Z"
   },
   {
    "duration": 377,
    "start_time": "2023-05-16T10:15:59.198Z"
   },
   {
    "duration": 1300,
    "start_time": "2023-05-16T10:15:59.577Z"
   },
   {
    "duration": 303,
    "start_time": "2023-05-16T10:16:50.197Z"
   },
   {
    "duration": 1801,
    "start_time": "2023-05-16T10:16:50.502Z"
   },
   {
    "duration": 3,
    "start_time": "2023-05-16T10:22:08.156Z"
   },
   {
    "duration": 3,
    "start_time": "2023-05-16T10:22:10.660Z"
   },
   {
    "duration": 3931,
    "start_time": "2023-05-16T10:22:10.789Z"
   },
   {
    "duration": 32,
    "start_time": "2023-05-16T10:22:17.354Z"
   },
   {
    "duration": 2922,
    "start_time": "2023-05-16T10:22:29.356Z"
   },
   {
    "duration": 122,
    "start_time": "2023-05-16T10:30:07.604Z"
   },
   {
    "duration": 97,
    "start_time": "2023-05-16T10:30:43.495Z"
   },
   {
    "duration": 96,
    "start_time": "2023-05-16T10:31:03.193Z"
   },
   {
    "duration": 774,
    "start_time": "2023-05-16T10:32:09.249Z"
   },
   {
    "duration": 28652,
    "start_time": "2023-05-16T10:32:10.025Z"
   },
   {
    "duration": 120,
    "start_time": "2023-05-16T10:32:38.680Z"
   },
   {
    "duration": 6288,
    "start_time": "2023-05-16T10:32:38.802Z"
   },
   {
    "duration": 6698,
    "start_time": "2023-05-16T10:32:45.093Z"
   },
   {
    "duration": 592,
    "start_time": "2023-05-16T10:32:51.793Z"
   },
   {
    "duration": 890,
    "start_time": "2023-05-16T10:32:52.390Z"
   },
   {
    "duration": 5,
    "start_time": "2023-05-16T10:32:53.283Z"
   },
   {
    "duration": 12,
    "start_time": "2023-05-16T10:32:53.290Z"
   },
   {
    "duration": 4611,
    "start_time": "2023-05-16T10:32:53.304Z"
   },
   {
    "duration": 89,
    "start_time": "2023-05-16T10:32:57.918Z"
   },
   {
    "duration": 2487,
    "start_time": "2023-05-16T10:32:58.009Z"
   },
   {
    "duration": 681,
    "start_time": "2023-05-16T10:33:18.758Z"
   },
   {
    "duration": 804,
    "start_time": "2023-05-16T10:34:33.305Z"
   },
   {
    "duration": 28990,
    "start_time": "2023-05-16T10:34:34.111Z"
   },
   {
    "duration": 189,
    "start_time": "2023-05-16T10:35:03.104Z"
   },
   {
    "duration": 6087,
    "start_time": "2023-05-16T10:35:03.296Z"
   },
   {
    "duration": 7926,
    "start_time": "2023-05-16T10:35:09.386Z"
   },
   {
    "duration": 756,
    "start_time": "2023-05-16T10:35:17.315Z"
   },
   {
    "duration": 828,
    "start_time": "2023-05-16T10:35:18.073Z"
   },
   {
    "duration": 5,
    "start_time": "2023-05-16T10:35:18.903Z"
   },
   {
    "duration": 4,
    "start_time": "2023-05-16T10:35:18.973Z"
   },
   {
    "duration": 5098,
    "start_time": "2023-05-16T10:35:18.979Z"
   },
   {
    "duration": 38,
    "start_time": "2023-05-16T10:35:24.081Z"
   },
   {
    "duration": 2633,
    "start_time": "2023-05-16T10:35:24.172Z"
   },
   {
    "duration": 688,
    "start_time": "2023-05-16T10:35:26.806Z"
   },
   {
    "duration": 0,
    "start_time": "2023-05-16T10:35:27.496Z"
   },
   {
    "duration": 134,
    "start_time": "2023-05-16T10:36:16.951Z"
   },
   {
    "duration": 107,
    "start_time": "2023-05-16T10:37:02.557Z"
   },
   {
    "duration": 138,
    "start_time": "2023-05-16T10:37:15.129Z"
   },
   {
    "duration": 719,
    "start_time": "2023-05-16T10:45:20.601Z"
   },
   {
    "duration": 27972,
    "start_time": "2023-05-16T10:45:21.322Z"
   },
   {
    "duration": 126,
    "start_time": "2023-05-16T10:45:49.298Z"
   },
   {
    "duration": 5800,
    "start_time": "2023-05-16T10:45:49.473Z"
   },
   {
    "duration": 6248,
    "start_time": "2023-05-16T10:45:55.276Z"
   },
   {
    "duration": 519,
    "start_time": "2023-05-16T10:46:01.572Z"
   },
   {
    "duration": 806,
    "start_time": "2023-05-16T10:46:02.093Z"
   },
   {
    "duration": 4,
    "start_time": "2023-05-16T10:46:02.902Z"
   },
   {
    "duration": 92,
    "start_time": "2023-05-16T10:46:02.908Z"
   },
   {
    "duration": 4799,
    "start_time": "2023-05-16T10:46:03.003Z"
   },
   {
    "duration": 68,
    "start_time": "2023-05-16T10:46:07.805Z"
   },
   {
    "duration": 209,
    "start_time": "2023-05-16T10:46:07.875Z"
   },
   {
    "duration": 0,
    "start_time": "2023-05-16T10:46:08.087Z"
   },
   {
    "duration": 0,
    "start_time": "2023-05-16T10:46:08.088Z"
   },
   {
    "duration": 6,
    "start_time": "2023-05-16T10:47:55.310Z"
   },
   {
    "duration": 5260,
    "start_time": "2023-05-16T10:48:01.616Z"
   },
   {
    "duration": 5,
    "start_time": "2023-05-16T10:48:06.880Z"
   },
   {
    "duration": 7219,
    "start_time": "2023-05-16T10:48:10.160Z"
   },
   {
    "duration": 7,
    "start_time": "2023-05-16T10:48:27.286Z"
   },
   {
    "duration": 39,
    "start_time": "2023-05-16T10:48:31.014Z"
   },
   {
    "duration": 829,
    "start_time": "2023-05-16T10:49:29.556Z"
   },
   {
    "duration": 1006,
    "start_time": "2023-05-16T10:49:32.282Z"
   },
   {
    "duration": 1864,
    "start_time": "2023-05-16T10:49:48.223Z"
   },
   {
    "duration": 734,
    "start_time": "2023-05-17T05:44:15.034Z"
   },
   {
    "duration": 27160,
    "start_time": "2023-05-17T05:44:15.771Z"
   },
   {
    "duration": 187,
    "start_time": "2023-05-17T05:44:42.933Z"
   },
   {
    "duration": 5716,
    "start_time": "2023-05-17T05:44:43.122Z"
   },
   {
    "duration": 6560,
    "start_time": "2023-05-17T05:44:48.841Z"
   },
   {
    "duration": 903,
    "start_time": "2023-05-17T05:44:55.407Z"
   },
   {
    "duration": 6,
    "start_time": "2023-05-17T05:44:56.312Z"
   },
   {
    "duration": 4527,
    "start_time": "2023-05-17T05:44:56.319Z"
   },
   {
    "duration": 56,
    "start_time": "2023-05-17T05:45:00.848Z"
   },
   {
    "duration": 4536,
    "start_time": "2023-05-17T05:45:00.908Z"
   },
   {
    "duration": 5,
    "start_time": "2023-05-17T05:45:05.500Z"
   },
   {
    "duration": 4993,
    "start_time": "2023-05-17T05:45:05.507Z"
   },
   {
    "duration": 10,
    "start_time": "2023-05-17T05:45:10.506Z"
   },
   {
    "duration": 106,
    "start_time": "2023-05-17T05:45:10.521Z"
   },
   {
    "duration": 873,
    "start_time": "2023-05-17T05:45:10.628Z"
   },
   {
    "duration": 2632,
    "start_time": "2023-05-17T05:45:11.502Z"
   },
   {
    "duration": 1467,
    "start_time": "2023-05-17T05:45:14.136Z"
   },
   {
    "duration": 0,
    "start_time": "2023-05-17T05:45:15.608Z"
   },
   {
    "duration": 0,
    "start_time": "2023-05-17T05:45:15.608Z"
   },
   {
    "duration": 0,
    "start_time": "2023-05-17T05:45:15.609Z"
   },
   {
    "duration": 0,
    "start_time": "2023-05-17T05:45:15.611Z"
   },
   {
    "duration": 0,
    "start_time": "2023-05-17T05:45:15.612Z"
   },
   {
    "duration": 0,
    "start_time": "2023-05-17T05:45:15.614Z"
   },
   {
    "duration": 4,
    "start_time": "2023-05-17T05:48:55.059Z"
   },
   {
    "duration": 6,
    "start_time": "2023-05-17T05:51:40.451Z"
   },
   {
    "duration": 929,
    "start_time": "2023-05-17T05:57:19.801Z"
   },
   {
    "duration": 2089,
    "start_time": "2023-05-17T05:57:23.731Z"
   },
   {
    "duration": 6,
    "start_time": "2023-05-17T05:57:28.410Z"
   },
   {
    "duration": 13,
    "start_time": "2023-05-17T05:57:29.631Z"
   },
   {
    "duration": 637,
    "start_time": "2023-05-17T05:57:32.308Z"
   },
   {
    "duration": 1767,
    "start_time": "2023-05-17T05:57:34.361Z"
   },
   {
    "duration": 755,
    "start_time": "2023-05-17T05:57:44.370Z"
   },
   {
    "duration": 90,
    "start_time": "2023-05-17T05:57:48.520Z"
   },
   {
    "duration": 36,
    "start_time": "2023-05-17T05:57:50.040Z"
   },
   {
    "duration": 54,
    "start_time": "2023-05-17T05:57:51.365Z"
   },
   {
    "duration": 49,
    "start_time": "2023-05-17T05:57:52.061Z"
   },
   {
    "duration": 801,
    "start_time": "2023-05-17T05:57:54.030Z"
   },
   {
    "duration": 697,
    "start_time": "2023-05-17T06:02:11.222Z"
   },
   {
    "duration": 25603,
    "start_time": "2023-05-17T06:02:11.921Z"
   },
   {
    "duration": 171,
    "start_time": "2023-05-17T06:02:37.526Z"
   },
   {
    "duration": 6031,
    "start_time": "2023-05-17T06:02:37.699Z"
   },
   {
    "duration": 6990,
    "start_time": "2023-05-17T06:02:43.734Z"
   },
   {
    "duration": 986,
    "start_time": "2023-05-17T06:02:50.727Z"
   },
   {
    "duration": 5,
    "start_time": "2023-05-17T06:02:51.716Z"
   },
   {
    "duration": 4881,
    "start_time": "2023-05-17T06:02:51.723Z"
   },
   {
    "duration": 38,
    "start_time": "2023-05-17T06:02:56.607Z"
   },
   {
    "duration": 5017,
    "start_time": "2023-05-17T06:02:56.700Z"
   },
   {
    "duration": 7,
    "start_time": "2023-05-17T06:03:01.719Z"
   },
   {
    "duration": 4680,
    "start_time": "2023-05-17T06:03:01.728Z"
   },
   {
    "duration": 11,
    "start_time": "2023-05-17T06:03:06.411Z"
   },
   {
    "duration": 86,
    "start_time": "2023-05-17T06:03:06.428Z"
   },
   {
    "duration": 896,
    "start_time": "2023-05-17T06:03:06.516Z"
   },
   {
    "duration": 2198,
    "start_time": "2023-05-17T06:03:07.414Z"
   },
   {
    "duration": 1333,
    "start_time": "2023-05-17T06:03:09.615Z"
   },
   {
    "duration": 0,
    "start_time": "2023-05-17T06:03:10.950Z"
   },
   {
    "duration": 0,
    "start_time": "2023-05-17T06:03:10.951Z"
   },
   {
    "duration": 0,
    "start_time": "2023-05-17T06:03:10.953Z"
   },
   {
    "duration": 0,
    "start_time": "2023-05-17T06:03:10.954Z"
   },
   {
    "duration": 0,
    "start_time": "2023-05-17T06:03:10.958Z"
   },
   {
    "duration": 0,
    "start_time": "2023-05-17T06:03:10.959Z"
   },
   {
    "duration": 0,
    "start_time": "2023-05-17T06:03:10.960Z"
   },
   {
    "duration": 0,
    "start_time": "2023-05-17T06:03:10.961Z"
   },
   {
    "duration": 0,
    "start_time": "2023-05-17T06:03:10.963Z"
   },
   {
    "duration": 0,
    "start_time": "2023-05-17T06:03:10.964Z"
   },
   {
    "duration": 0,
    "start_time": "2023-05-17T06:03:10.965Z"
   },
   {
    "duration": 0,
    "start_time": "2023-05-17T06:03:10.966Z"
   },
   {
    "duration": 0,
    "start_time": "2023-05-17T06:03:10.967Z"
   },
   {
    "duration": 0,
    "start_time": "2023-05-17T06:03:10.969Z"
   },
   {
    "duration": 681,
    "start_time": "2023-05-17T09:09:13.889Z"
   },
   {
    "duration": 28037,
    "start_time": "2023-05-17T09:09:14.622Z"
   },
   {
    "duration": 105,
    "start_time": "2023-05-17T09:09:42.718Z"
   },
   {
    "duration": 4195,
    "start_time": "2023-05-17T09:09:42.824Z"
   },
   {
    "duration": 5031,
    "start_time": "2023-05-17T09:09:47.021Z"
   },
   {
    "duration": 1082,
    "start_time": "2023-05-17T09:09:52.054Z"
   },
   {
    "duration": 3,
    "start_time": "2023-05-17T09:09:53.138Z"
   },
   {
    "duration": 3381,
    "start_time": "2023-05-17T09:09:53.142Z"
   },
   {
    "duration": 25,
    "start_time": "2023-05-17T09:09:56.525Z"
   },
   {
    "duration": 4375,
    "start_time": "2023-05-17T09:09:56.551Z"
   },
   {
    "duration": 4,
    "start_time": "2023-05-17T09:10:00.929Z"
   },
   {
    "duration": 5693,
    "start_time": "2023-05-17T09:10:00.934Z"
   },
   {
    "duration": 7,
    "start_time": "2023-05-17T09:10:06.630Z"
   },
   {
    "duration": 111,
    "start_time": "2023-05-17T09:10:06.638Z"
   },
   {
    "duration": 780,
    "start_time": "2023-05-17T09:10:06.751Z"
   },
   {
    "duration": 1917,
    "start_time": "2023-05-17T09:10:07.534Z"
   },
   {
    "duration": 876,
    "start_time": "2023-05-17T09:10:09.453Z"
   },
   {
    "duration": 1693,
    "start_time": "2023-05-17T09:10:10.331Z"
   },
   {
    "duration": 5,
    "start_time": "2023-05-17T09:10:12.025Z"
   },
   {
    "duration": 10,
    "start_time": "2023-05-17T09:10:12.031Z"
   },
   {
    "duration": 498,
    "start_time": "2023-05-17T09:10:12.042Z"
   },
   {
    "duration": 1185,
    "start_time": "2023-05-17T09:10:12.541Z"
   },
   {
    "duration": 313,
    "start_time": "2023-05-17T09:10:13.728Z"
   },
   {
    "duration": 742,
    "start_time": "2023-05-18T06:48:44.806Z"
   },
   {
    "duration": 27556,
    "start_time": "2023-05-18T06:48:45.551Z"
   },
   {
    "duration": 85,
    "start_time": "2023-05-18T06:49:13.109Z"
   },
   {
    "duration": 4998,
    "start_time": "2023-05-18T06:49:13.195Z"
   },
   {
    "duration": 5674,
    "start_time": "2023-05-18T06:49:18.204Z"
   },
   {
    "duration": 1137,
    "start_time": "2023-05-18T06:49:23.885Z"
   },
   {
    "duration": 3,
    "start_time": "2023-05-18T06:49:25.024Z"
   },
   {
    "duration": 3879,
    "start_time": "2023-05-18T06:49:25.029Z"
   },
   {
    "duration": 92,
    "start_time": "2023-05-18T06:49:28.910Z"
   },
   {
    "duration": 4615,
    "start_time": "2023-05-18T06:49:29.004Z"
   },
   {
    "duration": 3,
    "start_time": "2023-05-18T06:49:33.621Z"
   },
   {
    "duration": 4798,
    "start_time": "2023-05-18T06:49:33.625Z"
   },
   {
    "duration": 73,
    "start_time": "2023-05-18T06:49:38.425Z"
   },
   {
    "duration": 32,
    "start_time": "2023-05-18T06:49:38.505Z"
   },
   {
    "duration": 618,
    "start_time": "2023-05-18T06:49:38.539Z"
   },
   {
    "duration": 1537,
    "start_time": "2023-05-18T06:49:39.185Z"
   },
   {
    "duration": 984,
    "start_time": "2023-05-18T06:49:40.724Z"
   },
   {
    "duration": 1994,
    "start_time": "2023-05-18T06:49:41.713Z"
   },
   {
    "duration": 6,
    "start_time": "2023-05-18T06:49:43.709Z"
   },
   {
    "duration": 9,
    "start_time": "2023-05-18T06:49:43.717Z"
   },
   {
    "duration": 498,
    "start_time": "2023-05-18T06:49:43.728Z"
   },
   {
    "duration": 1470,
    "start_time": "2023-05-18T06:49:44.228Z"
   },
   {
    "duration": 518,
    "start_time": "2023-05-18T06:49:45.701Z"
   }
  ],
  "colab": {
   "name": "PySparkSprint.ipynb",
   "provenance": []
  },
  "kernelspec": {
   "display_name": "Python 3 (ipykernel)",
   "language": "python",
   "name": "python3"
  },
  "language_info": {
   "codemirror_mode": {
    "name": "ipython",
    "version": 3
   },
   "file_extension": ".py",
   "mimetype": "text/x-python",
   "name": "python",
   "nbconvert_exporter": "python",
   "pygments_lexer": "ipython3",
   "version": "3.9.13"
  },
  "toc": {
   "base_numbering": 1,
   "nav_menu": {},
   "number_sections": true,
   "sideBar": true,
   "skip_h1_title": true,
   "title_cell": "Table of Contents",
   "title_sidebar": "Contents",
   "toc_cell": false,
   "toc_position": {},
   "toc_section_display": true,
   "toc_window_display": false
  }
 },
 "nbformat": 4,
 "nbformat_minor": 5
}
